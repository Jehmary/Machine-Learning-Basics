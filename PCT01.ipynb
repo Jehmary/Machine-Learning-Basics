{
  "nbformat": 4,
  "nbformat_minor": 0,
  "metadata": {
    "colab": {
      "provenance": [],
      "include_colab_link": true
    },
    "kernelspec": {
      "name": "python3",
      "display_name": "Python 3"
    },
    "language_info": {
      "name": "python"
    }
  },
  "cells": [
    {
      "cell_type": "markdown",
      "metadata": {
        "id": "view-in-github",
        "colab_type": "text"
      },
      "source": [
        "<a href=\"https://colab.research.google.com/github/Jehmary/Machine-Learning-Basics/blob/main/PCT01.ipynb\" target=\"_parent\"><img src=\"https://colab.research.google.com/assets/colab-badge.svg\" alt=\"Open In Colab\"/></a>"
      ]
    },
    {
      "cell_type": "markdown",
      "source": [
        "#Practical Coding Task 1\n",
        "Consider this non-linear relation between two variables, $x$ and $y$."
      ],
      "metadata": {
        "id": "JS92MCoYsbV1"
      }
    },
    {
      "cell_type": "code",
      "source": [
        "import numpy as np\n",
        "import matplotlib.pyplot as plt\n",
        "\n",
        "coeff = [-1,22,-3]\n",
        "\n",
        "x = np.linspace(0,5,100)\n",
        "y = addrandomfluctuations_nonlinear(x,coeff,10)\n",
        "plt.plot(x,y,'bx')\n",
        "plt.xlabel('x')\n",
        "plt.ylabel('y')\n",
        "plt.grid()"
      ],
      "metadata": {
        "id": "xUaGoEB_sscd",
        "outputId": "40a52b7b-c763-4d54-9f94-607564327fcb",
        "colab": {
          "base_uri": "https://localhost:8080/",
          "height": 279
        }
      },
      "execution_count": null,
      "outputs": [
        {
          "output_type": "display_data",
          "data": {
            "text/plain": [
              "<Figure size 432x288 with 1 Axes>"
            ],
            "image/png": "[encoded data removed]"
          },
          "metadata": {
            "needs_background": "light"
          }
        }
      ]
    },
    {
      "cell_type": "markdown",
      "source": [
        "*Figure 1.1. A polynomial data set. The computer has no idea of the order of the polynomial.*"
      ],
      "metadata": {
        "id": "x2kO4jsQvdsf"
      }
    },
    {
      "cell_type": "markdown",
      "source": [
        "##1.1 Using the polyfit function"
      ],
      "metadata": {
        "id": "GSCMBlGuZ3DJ"
      }
    },
    {
      "cell_type": "markdown",
      "source": [
        "The [polyfit()](https://numpy.org/doc/stable/reference/generated/numpy.polyfit.html) function is Python's built-in function that solves for the coefficients of the given polynomial. The first two input parameters are the x and y data sets. The third input parameter is the order of the polynomial. The output $p$ are the solved coefficients, beginning with the coefficient of $x^0$. Compare $p$ with the given coefficients. Are they as expected?"
      ],
      "metadata": {
        "id": "jQFHASSTvoLj"
      }
    },
    {
      "cell_type": "code",
      "source": [
        "p = np.polyfit(x,y,len(coeff)-1)\n",
        "print(p)\n",
        "\n",
        "# Hello, Sir. This used to be \"ynlr = addrandomfluctuations_nonlinear(x,coeff,10)\".\n",
        "# But I think you were trying to do this.\n",
        "ynlr = p[2] + p[1]*x + p[0]*x**2\n",
        "plt.plot(x,y,'bx')\n",
        "plt.plot(x,ynlr,'r')\n",
        "plt.xlabel('x')\n",
        "plt.ylabel('y')\n",
        "plt.grid()"
      ],
      "metadata": {
        "id": "puOc-U888bP1",
        "outputId": "2b8d0c87-06cb-4878-e23a-3524fbd59369",
        "colab": {
          "base_uri": "https://localhost:8080/",
          "height": 296
        }
      },
      "execution_count": null,
      "outputs": [
        {
          "output_type": "stream",
          "name": "stdout",
          "text": [
            "[-2.7256992  20.36668554  0.67525645]\n"
          ]
        },
        {
          "output_type": "display_data",
          "data": {
            "text/plain": [
              "<Figure size 432x288 with 1 Axes>"
            ],
            "image/png": "[encoded data removed]"
          },
          "metadata": {
            "needs_background": "light"
          }
        }
      ]
    },
    {
      "cell_type": "markdown",
      "source": [
        "*Figure 1.2. Predicted best fit line using the nonlinear regression algorithm of Python.*"
      ],
      "metadata": {
        "id": "Cv7Rh-daA5FB"
      }
    },
    {
      "cell_type": "markdown",
      "source": [
        "The given coefficients were -1, 22, -3. The solved coefficients are -2.7256992, 20.36668554, 0.67525645. The percentage errors are 172.57%, 7.42%, and 122.51%, respectively. While the first and third coefficients are way off, the second coefficient is close to the expected value."
      ],
      "metadata": {
        "id": "RVUIQECdZSze"
      }
    },
    {
      "cell_type": "markdown",
      "source": [
        "###**Task 1. Solve for the mean square error between the actual result and best fit line. Display the result.**"
      ],
      "metadata": {
        "id": "FIeN_2enMvOr"
      }
    },
    {
      "cell_type": "code",
      "source": [
        "## Write your code here\n",
        "se = 0\n",
        "for i in range(0,len(y)):\n",
        "  e = y[i]-ynlr[i]\n",
        "  se += e**2\n",
        "mse = se/len(y)\n",
        "print(mse)"
      ],
      "metadata": {
        "id": "JO_hm3q9M3Hr",
        "colab": {
          "base_uri": "https://localhost:8080/"
        },
        "outputId": "4c014e29-38df-4d00-c147-354a936ba5c1"
      },
      "execution_count": null,
      "outputs": [
        {
          "output_type": "stream",
          "name": "stdout",
          "text": [
            "7.291156885393457\n"
          ]
        }
      ]
    },
    {
      "cell_type": "markdown",
      "source": [
        "##1.2 How a computer determines the best fit line"
      ],
      "metadata": {
        "id": "erTDRccbaCFU"
      }
    },
    {
      "cell_type": "markdown",
      "source": [
        "I've already arranged almost everything for you to try out. The specific instructions are in Task 4. What you need to change are the:<br>\n",
        "1. The [activation function](https://www.tensorflow.org/api_docs/python/tf/keras/activations) in the first *tf.keras.layers.Dense* layer\n",
        "2. The learning rate of the Adam optimizer\n",
        "3. The number of epochs<br>"
      ],
      "metadata": {
        "id": "NBq-nIlj8bof"
      }
    },
    {
      "cell_type": "markdown",
      "source": [
        "At this time, you don't need to fully understand the [activation function](https://www.tensorflow.org/api_docs/python/tf/keras/activations). You're welcome to read about what these various activations do, but you'll also learn about them as well as the various [model optimizers](https://www.tensorflow.org/api_docs/python/tf/keras/optimizers) in a couple of weeks. Just try out the various activation functions and see which one works.<br>\n",
        "This short code is a machine learning model that will solve for the best fit line of the given data $x$ and $y$. "
      ],
      "metadata": {
        "id": "4wIaWflmWXnb"
      }
    },
    {
      "cell_type": "code",
      "source": [
        "import tensorflow as tf\n",
        "from tensorflow import keras\n",
        "from tensorflow.keras.optimizers import Adam\n",
        "\n",
        "model = tf.keras.Sequential([\n",
        "    tf.keras.layers.Dense(128, activation='tanh', input_shape=[1], input_dim=5),\n",
        "    tf.keras.layers.Dense(1, activation='linear')\n",
        "    ])\n",
        "model.compile(optimizer = Adam(learning_rate=0.06), loss = 'mean_squared_error')\n",
        "history = model.fit(x,y, epochs = 200, verbose = 0)\n",
        "plt.plot(history.history[\"loss\"])\n",
        "plt.title(\"model loss\")\n",
        "plt.xlabel(\"epoch\")\n",
        "plt.ylabel(\"loss\")\n",
        "plt.legend([\"loss\"],loc=\"upper right\")\n",
        "plt.show()"
      ],
      "metadata": {
        "id": "gXmY1UIEv0LZ",
        "colab": {
          "base_uri": "https://localhost:8080/",
          "height": 295
        },
        "outputId": "a42b16b2-a896-4f2c-edd9-8fcedb57bc6b"
      },
      "execution_count": null,
      "outputs": [
        {
          "output_type": "display_data",
          "data": {
            "text/plain": [
              "<Figure size 432x288 with 1 Axes>"
            ],
            "image/png": "[encoded data removed]"
          },
          "metadata": {
            "needs_background": "light"
          }
        }
      ]
    },
    {
      "cell_type": "markdown",
      "source": [
        "Figure 1.3. Training progress of the model."
      ],
      "metadata": {
        "id": "tLIOQ8LIyFUx"
      }
    },
    {
      "cell_type": "markdown",
      "source": [
        "###**Task 2. Plot and compare the actual data set with the predicted data values.**"
      ],
      "metadata": {
        "id": "xCgI0lGqW9ky"
      }
    },
    {
      "cell_type": "code",
      "source": [
        "ypred = model.predict([x])\n",
        "\n",
        "## Write your code here\n",
        "plt.plot(x,y,'bx')\n",
        "plt.plot(x,ypred,'r')\n",
        "plt.xlabel('x')\n",
        "plt.ylabel('y')\n",
        "plt.grid()"
      ],
      "metadata": {
        "id": "7sXCZJRpA-n2",
        "colab": {
          "base_uri": "https://localhost:8080/",
          "height": 296
        },
        "outputId": "08ca79e0-d27d-4363-d487-b33749610492"
      },
      "execution_count": null,
      "outputs": [
        {
          "output_type": "stream",
          "name": "stdout",
          "text": [
            "4/4 [==============================] - 0s 3ms/step\n"
          ]
        },
        {
          "output_type": "display_data",
          "data": {
            "text/plain": [
              "<Figure size 432x288 with 1 Axes>"
            ],
            "image/png": "[encoded data removed]"
          },
          "metadata": {
            "needs_background": "light"
          }
        }
      ]
    },
    {
      "cell_type": "markdown",
      "source": [
        "###**Task 3. Solve for the mean square error between the actual result and best fit line. Display the result.**\n",
        "\n"
      ],
      "metadata": {
        "id": "J23M3mxe3aka"
      }
    },
    {
      "cell_type": "code",
      "source": [
        "## Write your code here\n",
        "se_mach = 0\n",
        "for j in range(0,len(y)):\n",
        "  e_mach = y[j]-ypred[j]\n",
        "  se_mach += e_mach**2\n",
        "mse_mach = se_mach/len(y)\n",
        "print(mse_mach)"
      ],
      "metadata": {
        "id": "BRlgiM_j1VtL",
        "colab": {
          "base_uri": "https://localhost:8080/"
        },
        "outputId": "f12bde61-4a94-403f-de6a-0f2d56fc363f"
      },
      "execution_count": null,
      "outputs": [
        {
          "output_type": "stream",
          "name": "stdout",
          "text": [
            "[8.421623]\n"
          ]
        }
      ]
    },
    {
      "cell_type": "markdown",
      "source": [
        "###**Task 4. Find out which activation function gives the best best-fit line to the data set by changing the value of the activation function in the first dense layer. Then determine the best learning_rate.**\n",
        "It may not be necessary to change the number of epochs, but you may change them if you like just to see what happens."
      ],
      "metadata": {
        "id": "wK9OfBre2BOn"
      }
    },
    {
      "cell_type": "markdown",
      "source": [
        "With a learning rate = 0.001, the activation functions yielded:\n",
        "*   relu = 37.911037\n",
        "*   elu = 27.76264\n",
        "*   exponential = 47.664886\n",
        "*   gelu = 34.348026\n",
        "*   hard_sigmoid = 57.47097\n",
        "*   linear = 35.968765\n",
        "*   selu = 26.24459\n",
        "*   sigmoid = 62.364838\n",
        "*   softmax = 841.86414\n",
        "*   softplus = 42.06538\n",
        "*   softsign = 22.444103\n",
        "*   swish = 34.2507\n",
        "*   tanh = 15.173115\n",
        "\n",
        "Choosing Hyperbolic tangent (tanh) since it yielded the least error, the different learning rates yielded:\n",
        "*   learning rate = 0.005 > 9.733686\n",
        "*   learning rate = 0.01 > 9.326386\n",
        "*   learning rate = 0.02 > 9.086541\n",
        "*   learning rate = 0.03 > 9.047661\n",
        "*   learning rate = 0.04 > 8.071377\n",
        "*   learning rate = 0.05 > 7.6936297\n",
        "*   learning rate = 0.06 > 8.421623\n",
        "\n",
        "The Hyperbolic tangent activation function gives the best best-fit line to the data set. The best learning rate is around 0.05.\n",
        "\n"
      ],
      "metadata": {
        "id": "BtpMrWjXRb2j"
      }
    },
    {
      "cell_type": "markdown",
      "source": [
        "###**Task 5 (Optional). You may play around with this program by changing the coefficients and the fluctuation size to see what happens. Which training function will give you the least MSE?**\n",
        "You can also change the number of layers, if you like to play around with that. Just copy the first dense layer and paste it as a second or third or fourth layer. Remove the *input_shape* and *input_dim* options after you paste the new command lines. Don't forget to put a comma at the end of each line."
      ],
      "metadata": {
        "id": "jMrAiLP-3Ja9"
      }
    },
    {
      "cell_type": "markdown",
      "source": [
        "#Functions to be used"
      ],
      "metadata": {
        "id": "5O7gGoYGIR96"
      }
    },
    {
      "cell_type": "code",
      "source": [
        "def addrandomfluctuations_nonlinear(x,coeff,fluctuationsize):\n",
        "  import random\n",
        "\n",
        "  sum = 0\n",
        "  for j in range(len(coeff)):\n",
        "    sum += coeff[j]*np.power(x,j)\n",
        "\n",
        "  yrand = np.zeros(len(x))\n",
        "  for i in range(len(x)):\n",
        "    yrand[i] = sum[i] + fluctuationsize*(random.random()-0.5)\n",
        "  \n",
        "  return yrand"
      ],
      "metadata": {
        "id": "uhcrXwpbIOqg"
      },
      "execution_count": null,
      "outputs": []
    }
  ]
}