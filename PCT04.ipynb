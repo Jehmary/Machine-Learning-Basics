{
  "cells": [
    {
      "cell_type": "markdown",
      "metadata": {
        "id": "view-in-github",
        "colab_type": "text"
      },
      "source": [
        "<a href=\"https://colab.research.google.com/github/Jehmary/Machine-Learning-Basics/blob/main/PCT04.ipynb\" target=\"_parent\"><img src=\"https://colab.research.google.com/assets/colab-badge.svg\" alt=\"Open In Colab\"/></a>"
      ]
    },
    {
      "cell_type": "markdown",
      "metadata": {
        "id": "Cx-xjMmrn9YP"
      },
      "source": [
        "##**Classification of Images of Balls**"
      ]
    },
    {
      "cell_type": "markdown",
      "metadata": {
        "id": "SmmMWPBIoVZ6"
      },
      "source": [
        "####**Importing the Necessary Libraries**"
      ]
    },
    {
      "cell_type": "code",
      "execution_count": 1,
      "metadata": {
        "id": "7B78bGpln72R"
      },
      "outputs": [],
      "source": [
        "import numpy as np\n",
        "import matplotlib.pyplot as plt\n",
        "import pandas as pd\n",
        "import os\n",
        "\n",
        "import cv2 as cv\n",
        "import fnmatch\n",
        "\n",
        "import tensorflow as tf\n",
        "from tensorflow import keras\n",
        "from tensorflow.keras.models import Sequential\n",
        "from tensorflow.keras.layers import Dense, Conv2D, Dropout, Flatten, MaxPooling2D\n",
        "\n",
        "from sklearn import datasets\n",
        "from sklearn.preprocessing import LabelEncoder\n",
        "from sklearn.model_selection import train_test_split\n",
        "from sklearn.metrics import confusion_matrix, ConfusionMatrixDisplay"
      ]
    },
    {
      "cell_type": "markdown",
      "metadata": {
        "id": "_lQlilLLp8mB"
      },
      "source": [
        "####**Importing the Data**"
      ]
    },
    {
      "cell_type": "markdown",
      "metadata": {
        "id": "AnB8laRk2tEH"
      },
      "source": [
        "Mounting Google Drive"
      ]
    },
    {
      "cell_type": "code",
      "execution_count": 2,
      "metadata": {
        "id": "8jX_sF24HXpO",
        "colab": {
          "base_uri": "https://localhost:8080/"
        },
        "outputId": "cfaec573-1fb1-471a-a276-67d951900f80"
      },
      "outputs": [
        {
          "output_type": "stream",
          "name": "stdout",
          "text": [
            "Mounted at /content/gdrive/\n"
          ]
        }
      ],
      "source": [
        "from google.colab import drive\n",
        "drive.mount('/content/gdrive/', force_remount=True)"
      ]
    },
    {
      "cell_type": "markdown",
      "metadata": {
        "id": "FkR-NLPW2w_2"
      },
      "source": [
        "Redirecting directory to \"Balls\" folder"
      ]
    },
    {
      "cell_type": "code",
      "execution_count": 3,
      "metadata": {
        "colab": {
          "base_uri": "https://localhost:8080/"
        },
        "id": "7SlBkPEUiFnM",
        "outputId": "5499d159-7512-4b0c-e2f5-e627d3b6ddff"
      },
      "outputs": [
        {
          "output_type": "stream",
          "name": "stdout",
          "text": [
            "/content/gdrive/MyDrive/Colab Notebooks/Book/Balls\n"
          ]
        }
      ],
      "source": [
        "%cd /content/gdrive/MyDrive/'Colab Notebooks'/Book/Balls"
      ]
    },
    {
      "cell_type": "code",
      "execution_count": null,
      "metadata": {
        "id": "LdPecqYB2DEm"
      },
      "outputs": [],
      "source": [
        "ls"
      ]
    },
    {
      "cell_type": "markdown",
      "metadata": {
        "id": "1UNgvwSpVm6V"
      },
      "source": [
        "Randomizing data by shuffling"
      ]
    },
    {
      "cell_type": "code",
      "execution_count": 4,
      "metadata": {
        "id": "q3-gMdBT6OPv"
      },
      "outputs": [],
      "source": [
        "unshuffled_data = pd.DataFrame.from_dict(os.listdir())\n",
        "shuffled_data   = unshuffled_data.sample(frac=1, random_state=1).reset_index()\n",
        "data            = pd.DataFrame(shuffled_data)[0].values.tolist()"
      ]
    },
    {
      "cell_type": "code",
      "execution_count": null,
      "metadata": {
        "id": "pO8G96nQ7alq"
      },
      "outputs": [],
      "source": [
        "print(data)"
      ]
    },
    {
      "cell_type": "markdown",
      "metadata": {
        "id": "2HS8md9524pp"
      },
      "source": [
        "Reading image files and excluding those not rescaled to 28x28\n",
        "\n"
      ]
    },
    {
      "cell_type": "code",
      "execution_count": 5,
      "metadata": {
        "colab": {
          "base_uri": "https://localhost:8080/"
        },
        "id": "6tBaNCETIkyo",
        "outputId": "53338364-8fe4-4b82-bbaf-21520e0c31e5"
      },
      "outputs": [
        {
          "output_type": "stream",
          "name": "stdout",
          "text": [
            "44 images were not rescaled to 28x28, hence excluded.\n"
          ]
        }
      ],
      "source": [
        "m = 0\n",
        "list_files = []\n",
        "for file in data:\n",
        "  image = cv.imread(file)\n",
        "  if image.shape == (28,28,3):\n",
        "    list_files.append(image)\n",
        "  else:\n",
        "    m += 1\n",
        "print(str(m) + ' images were not rescaled to 28x28, hence excluded.')\n",
        "# This code can read WEBP files"
      ]
    },
    {
      "cell_type": "markdown",
      "metadata": {
        "id": "ZV51Ch4J3Yoi"
      },
      "source": [
        "Verifying shape of image file and number of samples"
      ]
    },
    {
      "cell_type": "code",
      "execution_count": 6,
      "metadata": {
        "colab": {
          "base_uri": "https://localhost:8080/"
        },
        "id": "4fjXYcqz2NVl",
        "outputId": "32c7e0da-7fec-43e0-f85d-f2ad97f38987"
      },
      "outputs": [
        {
          "output_type": "stream",
          "name": "stdout",
          "text": [
            "(28, 28, 3)\n",
            "495\n"
          ]
        }
      ],
      "source": [
        "print(list_files[0].shape)\n",
        "print(len(list_files))"
      ]
    },
    {
      "cell_type": "markdown",
      "metadata": {
        "id": "bGqJrJbWmjJz"
      },
      "source": [
        "Data and plot of first image"
      ]
    },
    {
      "cell_type": "code",
      "execution_count": 7,
      "metadata": {
        "colab": {
          "base_uri": "https://localhost:8080/",
          "height": 1000
        },
        "id": "9_Qh5I7iqZ_h",
        "outputId": "35e039df-119f-4882-c3db-ad2cfc4d824e"
      },
      "outputs": [
        {
          "output_type": "stream",
          "name": "stdout",
          "text": [
            "[[[255 255 255]\n",
            "  [255 255 255]\n",
            "  [255 255 254]\n",
            "  ...\n",
            "  [255 255 255]\n",
            "  [255 255 255]\n",
            "  [255 255 255]]\n",
            "\n",
            " [[255 255 255]\n",
            "  [255 255 255]\n",
            "  [255 255 255]\n",
            "  ...\n",
            "  [255 255 255]\n",
            "  [255 255 255]\n",
            "  [255 255 255]]\n",
            "\n",
            " [[255 255 255]\n",
            "  [255 255 255]\n",
            "  [255 255 255]\n",
            "  ...\n",
            "  [255 255 255]\n",
            "  [255 255 255]\n",
            "  [255 255 255]]\n",
            "\n",
            " ...\n",
            "\n",
            " [[255 255 255]\n",
            "  [255 255 255]\n",
            "  [254 254 254]\n",
            "  ...\n",
            "  [254 254 254]\n",
            "  [255 255 255]\n",
            "  [255 255 255]]\n",
            "\n",
            " [[255 255 255]\n",
            "  [255 255 255]\n",
            "  [255 255 255]\n",
            "  ...\n",
            "  [255 255 255]\n",
            "  [255 255 255]\n",
            "  [255 255 255]]\n",
            "\n",
            " [[255 255 255]\n",
            "  [255 255 255]\n",
            "  [255 255 255]\n",
            "  ...\n",
            "  [255 255 255]\n",
            "  [255 255 255]\n",
            "  [255 255 255]]]\n"
          ]
        },
        {
          "output_type": "execute_result",
          "data": {
            "text/plain": [
              "<matplotlib.image.AxesImage at 0x7fa6dd884820>"
            ]
          },
          "metadata": {},
          "execution_count": 7
        },
        {
          "output_type": "display_data",
          "data": {
            "text/plain": [
              "<Figure size 480x480 with 1 Axes>"
            ],
            "image/png": "[encoded data removed]"
          },
          "metadata": {}
        }
      ],
      "source": [
        "print(list_files[0])\n",
        "plt.matshow(list_files[0])"
      ]
    },
    {
      "cell_type": "markdown",
      "metadata": {
        "id": "lfsbYtWOmsWm"
      },
      "source": [
        "Flattening the data"
      ]
    },
    {
      "cell_type": "code",
      "execution_count": 8,
      "metadata": {
        "colab": {
          "base_uri": "https://localhost:8080/"
        },
        "id": "BnrRYYClR_Gi",
        "outputId": "30496926-adc8-4382-ee00-488f72674422"
      },
      "outputs": [
        {
          "output_type": "stream",
          "name": "stdout",
          "text": [
            "(495, 28, 28, 3)\n"
          ]
        },
        {
          "output_type": "stream",
          "name": "stderr",
          "text": [
            "/usr/local/lib/python3.10/dist-packages/IPython/core/interactiveshell.py:3473: FutureWarning: arrays to stack must be passed as a \"sequence\" type such as list or tuple. Support for non-sequence iterables such as generators is deprecated as of NumPy 1.16 and will raise an error in the future.\n",
            "  if (await self.run_code(code, result,  async_=asy)):\n"
          ]
        }
      ],
      "source": [
        "flat_files = np.stack((list_files[i] for i in range(len(list_files))))\n",
        "print(flat_files.shape)"
      ]
    },
    {
      "cell_type": "markdown",
      "metadata": {
        "id": "Njsw1qRjWKwf"
      },
      "source": [
        "####**Adding labels to data sets**"
      ]
    },
    {
      "cell_type": "code",
      "execution_count": 9,
      "metadata": {
        "colab": {
          "base_uri": "https://localhost:8080/"
        },
        "id": "N_Af0cv_WQD0",
        "outputId": "b1644afb-6536-4673-e890-5f0247b32dfa"
      },
      "outputs": [
        {
          "output_type": "stream",
          "name": "stdout",
          "text": [
            "(495,)\n",
            "[3 2 9 3 7 4 7 9 7 1 7 7 8 2 8 2 6 0 4 7 4 1 9 4 2 4 5 9 7 0 0 2 0 7 9 7 4\n",
            " 7 4 1 1 4 1 0 5 8 4 9 9 6 8 3 1 7 4 2 1 5 8 6 1 7 2 1 0 7 8 0 5 1 1 2 6 5\n",
            " 0 9 1 9 3 4 1 5 9 1 5 1 5 5 4 8 2 7 7 5 7 1 6 2 5 9 0 8 8 4 6 5 3 3 4 7 5\n",
            " 6 7 8 7 0 6 9 0 1 3 8 3 1 6 0 2 1 1 2 8 8 4 0 6 8 3 3 9 9 5 6 0 2 3 1 0 0\n",
            " 6 5 5 8 7 0 9 0 9 5 7 1 2 5 7 3 5 6 9 5 6 4 6 7 3 5 8 5 8 9 4 2 9 2 1 7 9\n",
            " 9 5 7 0 0 8 0 1 1 9 6 1 9 5 8 4 7 7 2 6 5 2 4 2 3 5 8 3 2 3 1 2 5 2 6 9 4\n",
            " 1 1 8 3 7 3 9 9 4 3 9 1 6 8 6 6 7 8 4 1 1 2 0 1 6 2 3 6 9 9 0 3 5 1 7 6 7\n",
            " 9 0 3 5 6 0 9 5 3 9 3 6 5 4 6 7 0 3 5 2 3 8 4 0 2 6 2 1 1 0 0 8 1 8 9 1 0\n",
            " 2 8 4 5 8 9 0 3 1 1 5 8 0 6 2 0 6 1 4 8 0 7 4 7 4 8 6 3 0 0 6 0 6 3 2 9 6\n",
            " 4 9 7 2 4 9 4 5 3 8 8 6 1 5 4 4 5 6 8 3 3 7 2 7 6 3 8 3 4 6 2 8 4 5 6 5 2\n",
            " 8 1 4 5 5 6 0 5 7 5 2 7 2 8 6 4 4 3 0 3 5 2 5 9 7 2 4 6 0 1 5 2 8 0 2 3 7\n",
            " 3 5 4 9 8 0 2 5 2 1 6 2 5 9 9 9 0 4 8 8 2 1 7 4 7 7 9 6 3 0 3 0 9 2 7 7 6\n",
            " 3 7 8 4 3 3 7 7 2 3 2 0 8 0 5 3 9 9 0 4 4 0 0 4 4 7 8 9 8 6 8 1 1 2 6 1 3\n",
            " 3 6 2 8 1 6 7 3 0 9 8 3 9 8]\n"
          ]
        }
      ],
      "source": [
        "# matching name of file to accounted file names for labelling\n",
        "baseballXX    = 'baseball*'\n",
        "basketballXX  = 'basketball*'\n",
        "billiardsXX   = 'billiards*'\n",
        "bowlingXX     = 'bowling*'\n",
        "footballXX    = 'football*'\n",
        "golfXX        = 'golf*'\n",
        "soccerXX      = 'soccer*'\n",
        "tabletennisXX = 'tabletennis*'\n",
        "tennisXX      = 'tennis*'\n",
        "volleyballXX  = 'volleyball*'\n",
        "label         = []\n",
        "for filename in data:\n",
        "  image = cv.imread(filename)\n",
        "  if image.shape == (28,28,3):\n",
        "    if fnmatch.fnmatch(filename, baseballXX) == True:\n",
        "      label.append(0)\n",
        "    elif fnmatch.fnmatch(filename, basketballXX) == True:\n",
        "      label.append(1)\n",
        "    elif fnmatch.fnmatch(filename, billiardsXX) == True:\n",
        "      label.append(2)\n",
        "    elif fnmatch.fnmatch(filename, bowlingXX) == True:\n",
        "      label.append(3)\n",
        "    elif fnmatch.fnmatch(filename, footballXX) == True:\n",
        "      label.append(4)\n",
        "    elif fnmatch.fnmatch(filename, golfXX) == True:\n",
        "      label.append(5)\n",
        "    elif fnmatch.fnmatch(filename, soccerXX) == True:\n",
        "      label.append(6)\n",
        "    elif fnmatch.fnmatch(filename, tabletennisXX) == True:\n",
        "      label.append(7)\n",
        "    elif fnmatch.fnmatch(filename, tennisXX) == True:\n",
        "      label.append(8)\n",
        "    elif fnmatch.fnmatch(filename, volleyballXX) == True:\n",
        "      label.append(9)\n",
        "    else:\n",
        "      print(filename + str(' is not accounted.'))\n",
        "\n",
        "label = np.reshape(label, (len(label),))\n",
        "print(label.shape)\n",
        "print(label)"
      ]
    },
    {
      "cell_type": "markdown",
      "metadata": {
        "id": "PNgaG30Fm_IR"
      },
      "source": [
        "####**Defining training data and testing data sets**"
      ]
    },
    {
      "cell_type": "markdown",
      "metadata": {
        "id": "cXky_ZitimuG"
      },
      "source": [
        "Allocating 80% of the data for training, 10% for validating, and 10% for testing."
      ]
    },
    {
      "cell_type": "code",
      "execution_count": 10,
      "metadata": {
        "id": "z4WXambYm0Ya"
      },
      "outputs": [],
      "source": [
        "trainRatio = 80/100\n",
        "valRatio = 10/100\n",
        "testRatio = 10/100\n",
        "\n",
        "X_train, X_test, y_train, y_test = train_test_split(flat_files, label, test_size = 1 - trainRatio)\n",
        "X_val, X_test, y_val, y_test = train_test_split(X_test, y_test, test_size = testRatio/(testRatio + valRatio))"
      ]
    },
    {
      "cell_type": "markdown",
      "metadata": {
        "id": "AKCTYpTN0Iq8"
      },
      "source": [
        "#####**Preparing the Data**"
      ]
    },
    {
      "cell_type": "markdown",
      "metadata": {
        "id": "9zd626NOWOX0"
      },
      "source": [
        "Rescaling the data to improve the accuracy"
      ]
    },
    {
      "cell_type": "code",
      "execution_count": 11,
      "metadata": {
        "id": "8InBA0lLWTeI"
      },
      "outputs": [],
      "source": [
        "X_train = X_train/255\n",
        "X_test = X_test/255\n",
        "X_val = X_val/255"
      ]
    },
    {
      "cell_type": "markdown",
      "metadata": {
        "id": "HO9R5whDnAn6"
      },
      "source": [
        "Shapes of the data sets"
      ]
    },
    {
      "cell_type": "code",
      "execution_count": 12,
      "metadata": {
        "colab": {
          "base_uri": "https://localhost:8080/"
        },
        "id": "LS8tjK8rvTdg",
        "outputId": "701771e8-bb8a-4197-eb0a-b4f5a6094203"
      },
      "outputs": [
        {
          "output_type": "stream",
          "name": "stdout",
          "text": [
            "(396, 28, 28, 3)\n",
            "(50, 28, 28, 3)\n",
            "(49, 28, 28, 3)\n"
          ]
        }
      ],
      "source": [
        "print(X_train.shape)\n",
        "print(X_test.shape)\n",
        "print(X_val.shape)"
      ]
    },
    {
      "cell_type": "markdown",
      "metadata": {
        "id": "Gh4vWGP81zPu"
      },
      "source": [
        "####**Defining the model**"
      ]
    },
    {
      "cell_type": "code",
      "execution_count": 16,
      "metadata": {
        "colab": {
          "base_uri": "https://localhost:8080/"
        },
        "id": "kJ5wnjnx1m49",
        "outputId": "cd45534b-da31-4168-9ba0-8be9166f6bca"
      },
      "outputs": [
        {
          "output_type": "stream",
          "name": "stdout",
          "text": [
            "Model: \"sequential_3\"\n",
            "_________________________________________________________________\n",
            " Layer (type)                Output Shape              Param #   \n",
            "=================================================================\n",
            " conv2d_6 (Conv2D)           (None, 26, 26, 128)       3584      \n",
            "                                                                 \n",
            " max_pooling2d_6 (MaxPooling  (None, 13, 13, 128)      0         \n",
            " 2D)                                                             \n",
            "                                                                 \n",
            " conv2d_7 (Conv2D)           (None, 11, 11, 128)       147584    \n",
            "                                                                 \n",
            " max_pooling2d_7 (MaxPooling  (None, 5, 5, 128)        0         \n",
            " 2D)                                                             \n",
            "                                                                 \n",
            " flatten_3 (Flatten)         (None, 3200)              0         \n",
            "                                                                 \n",
            " dropout_3 (Dropout)         (None, 3200)              0         \n",
            "                                                                 \n",
            " dense_7 (Dense)             (None, 495)               1584495   \n",
            "                                                                 \n",
            " dense_8 (Dense)             (None, 10)                4960      \n",
            "                                                                 \n",
            "=================================================================\n",
            "Total params: 1,740,623\n",
            "Trainable params: 1,740,623\n",
            "Non-trainable params: 0\n",
            "_________________________________________________________________\n"
          ]
        }
      ],
      "source": [
        "model = tf.keras.models.Sequential([\n",
        "    tf.keras.layers.Conv2D(128, (3,3), activation='relu', input_shape=(28,28,3)),\n",
        "    tf.keras.layers.MaxPooling2D(2,2),\n",
        "    tf.keras.layers.Conv2D(128, (3,3), activation='relu'),\n",
        "    tf.keras.layers.MaxPooling2D(2,2),\n",
        "    tf.keras.layers.Flatten(),\n",
        "    tf.keras.layers.Dropout(0.5),\n",
        "    tf.keras.layers.Dense(495, activation='relu'),\n",
        "    tf.keras.layers.Dense(10, activation='softmax')\n",
        "])\n",
        "\n",
        "model.summary()"
      ]
    },
    {
      "cell_type": "markdown",
      "metadata": {
        "id": "IMvzfBfn2wJ-"
      },
      "source": [
        "####**Compiling the model**"
      ]
    },
    {
      "cell_type": "markdown",
      "metadata": {
        "id": "skAL6go4jeFD"
      },
      "source": [
        "Using Adam as optimization function wiht a learning rate of 0.001."
      ]
    },
    {
      "cell_type": "code",
      "execution_count": 21,
      "metadata": {
        "id": "d1DQ29J72mmB"
      },
      "outputs": [],
      "source": [
        "opt = keras.optimizers.Adam(learning_rate=0.0005)\n",
        "model.compile(optimizer = opt,\n",
        "              loss = tf.keras.losses.SparseCategoricalCrossentropy(),\n",
        "              metrics=['accuracy'])"
      ]
    },
    {
      "cell_type": "markdown",
      "metadata": {
        "id": "2R3Vp3Gt2-4L"
      },
      "source": [
        "####**Training the model**"
      ]
    },
    {
      "cell_type": "code",
      "execution_count": 22,
      "metadata": {
        "colab": {
          "base_uri": "https://localhost:8080/"
        },
        "id": "PguRokJt29-a",
        "outputId": "277b57ff-4b64-40e8-d1bd-964f9a30cabc"
      },
      "outputs": [
        {
          "output_type": "stream",
          "name": "stdout",
          "text": [
            "Epoch 1/500\n",
            "13/13 [==============================] - 3s 156ms/step - loss: 0.0095 - accuracy: 0.9949 - val_loss: 2.3497 - val_accuracy: 0.7551\n",
            "Epoch 2/500\n",
            "13/13 [==============================] - 2s 142ms/step - loss: 0.0073 - accuracy: 0.9975 - val_loss: 2.5162 - val_accuracy: 0.7347\n",
            "Epoch 3/500\n",
            "13/13 [==============================] - 2s 144ms/step - loss: 0.0041 - accuracy: 0.9975 - val_loss: 2.3916 - val_accuracy: 0.7959\n",
            "Epoch 4/500\n",
            "13/13 [==============================] - 2s 141ms/step - loss: 0.0035 - accuracy: 1.0000 - val_loss: 2.3253 - val_accuracy: 0.8163\n",
            "Epoch 5/500\n",
            "13/13 [==============================] - 2s 188ms/step - loss: 8.4624e-04 - accuracy: 1.0000 - val_loss: 2.3408 - val_accuracy: 0.7755\n",
            "Epoch 6/500\n",
            "13/13 [==============================] - 3s 262ms/step - loss: 0.0105 - accuracy: 0.9975 - val_loss: 2.3333 - val_accuracy: 0.7755\n",
            "Epoch 7/500\n",
            "13/13 [==============================] - 2s 141ms/step - loss: 0.0066 - accuracy: 0.9975 - val_loss: 2.5668 - val_accuracy: 0.7551\n",
            "Epoch 8/500\n",
            "13/13 [==============================] - 2s 141ms/step - loss: 0.0047 - accuracy: 0.9975 - val_loss: 2.5260 - val_accuracy: 0.7551\n",
            "Epoch 9/500\n",
            "13/13 [==============================] - 2s 161ms/step - loss: 8.1224e-04 - accuracy: 1.0000 - val_loss: 2.4770 - val_accuracy: 0.7755\n",
            "Epoch 10/500\n",
            "13/13 [==============================] - 2s 154ms/step - loss: 0.0011 - accuracy: 1.0000 - val_loss: 2.5407 - val_accuracy: 0.7755\n",
            "Epoch 11/500\n",
            "13/13 [==============================] - 2s 141ms/step - loss: 0.0037 - accuracy: 0.9975 - val_loss: 2.5354 - val_accuracy: 0.7755\n",
            "Epoch 12/500\n",
            "13/13 [==============================] - 3s 256ms/step - loss: 0.0017 - accuracy: 1.0000 - val_loss: 2.3863 - val_accuracy: 0.7959\n",
            "Epoch 13/500\n",
            "13/13 [==============================] - 3s 193ms/step - loss: 0.0071 - accuracy: 0.9975 - val_loss: 2.1987 - val_accuracy: 0.8163\n",
            "Epoch 14/500\n",
            "13/13 [==============================] - 2s 149ms/step - loss: 0.0337 - accuracy: 0.9975 - val_loss: 2.4993 - val_accuracy: 0.7551\n",
            "Epoch 15/500\n",
            "13/13 [==============================] - 2s 145ms/step - loss: 0.0213 - accuracy: 0.9949 - val_loss: 2.8516 - val_accuracy: 0.7143\n",
            "Epoch 16/500\n",
            "13/13 [==============================] - 2s 143ms/step - loss: 0.0154 - accuracy: 0.9949 - val_loss: 2.9263 - val_accuracy: 0.7755\n",
            "Epoch 17/500\n",
            "13/13 [==============================] - 2s 141ms/step - loss: 0.0045 - accuracy: 1.0000 - val_loss: 2.8148 - val_accuracy: 0.7551\n",
            "Epoch 18/500\n",
            "13/13 [==============================] - 2s 157ms/step - loss: 8.1188e-04 - accuracy: 1.0000 - val_loss: 2.6236 - val_accuracy: 0.7551\n",
            "Epoch 19/500\n",
            "13/13 [==============================] - 3s 266ms/step - loss: 0.0022 - accuracy: 0.9975 - val_loss: 2.5070 - val_accuracy: 0.7551\n",
            "Epoch 20/500\n",
            "13/13 [==============================] - 2s 156ms/step - loss: 0.0014 - accuracy: 1.0000 - val_loss: 2.5297 - val_accuracy: 0.7551\n",
            "Epoch 21/500\n",
            "13/13 [==============================] - 2s 144ms/step - loss: 9.8221e-05 - accuracy: 1.0000 - val_loss: 2.5636 - val_accuracy: 0.7551\n",
            "Epoch 22/500\n",
            "13/13 [==============================] - 2s 139ms/step - loss: 0.0064 - accuracy: 0.9975 - val_loss: 2.5274 - val_accuracy: 0.7347\n",
            "Epoch 23/500\n",
            "13/13 [==============================] - 2s 141ms/step - loss: 0.0084 - accuracy: 0.9975 - val_loss: 2.3869 - val_accuracy: 0.7143\n",
            "Epoch 24/500\n",
            "13/13 [==============================] - 2s 142ms/step - loss: 1.9563e-04 - accuracy: 1.0000 - val_loss: 2.5852 - val_accuracy: 0.7143\n",
            "Epoch 25/500\n",
            "13/13 [==============================] - 2s 187ms/step - loss: 4.3014e-04 - accuracy: 1.0000 - val_loss: 2.7124 - val_accuracy: 0.7347\n",
            "Epoch 26/500\n",
            "13/13 [==============================] - 3s 256ms/step - loss: 0.0060 - accuracy: 0.9949 - val_loss: 2.5717 - val_accuracy: 0.7551\n",
            "Epoch 27/500\n",
            "13/13 [==============================] - 2s 141ms/step - loss: 0.0027 - accuracy: 1.0000 - val_loss: 2.3173 - val_accuracy: 0.7755\n",
            "Epoch 28/500\n",
            "13/13 [==============================] - 2s 142ms/step - loss: 0.0084 - accuracy: 0.9975 - val_loss: 2.5900 - val_accuracy: 0.7347\n",
            "Epoch 29/500\n",
            "13/13 [==============================] - 2s 145ms/step - loss: 0.0011 - accuracy: 1.0000 - val_loss: 2.8558 - val_accuracy: 0.7347\n",
            "Epoch 30/500\n",
            "13/13 [==============================] - 2s 142ms/step - loss: 0.0025 - accuracy: 1.0000 - val_loss: 2.8227 - val_accuracy: 0.7551\n",
            "Epoch 31/500\n",
            "13/13 [==============================] - 2s 140ms/step - loss: 4.9351e-04 - accuracy: 1.0000 - val_loss: 2.8626 - val_accuracy: 0.7551\n",
            "Epoch 32/500\n",
            "13/13 [==============================] - 3s 200ms/step - loss: 1.5254e-04 - accuracy: 1.0000 - val_loss: 2.8621 - val_accuracy: 0.7551\n",
            "Epoch 33/500\n",
            "13/13 [==============================] - 3s 248ms/step - loss: 8.5270e-04 - accuracy: 1.0000 - val_loss: 2.8630 - val_accuracy: 0.7551\n",
            "Epoch 34/500\n",
            "13/13 [==============================] - 2s 141ms/step - loss: 9.4752e-05 - accuracy: 1.0000 - val_loss: 2.8739 - val_accuracy: 0.7551\n",
            "Epoch 35/500\n",
            "13/13 [==============================] - 2s 142ms/step - loss: 2.1422e-04 - accuracy: 1.0000 - val_loss: 2.8539 - val_accuracy: 0.7551\n",
            "Epoch 36/500\n",
            "13/13 [==============================] - 2s 141ms/step - loss: 2.1446e-04 - accuracy: 1.0000 - val_loss: 2.8015 - val_accuracy: 0.7551\n",
            "Epoch 37/500\n",
            "13/13 [==============================] - 2s 142ms/step - loss: 8.7368e-05 - accuracy: 1.0000 - val_loss: 2.7357 - val_accuracy: 0.7551\n",
            "Epoch 38/500\n",
            "13/13 [==============================] - 2s 142ms/step - loss: 9.4237e-05 - accuracy: 1.0000 - val_loss: 2.6922 - val_accuracy: 0.7347\n",
            "Epoch 39/500\n",
            "13/13 [==============================] - 3s 221ms/step - loss: 2.6022e-05 - accuracy: 1.0000 - val_loss: 2.6691 - val_accuracy: 0.7347\n",
            "Epoch 40/500\n",
            "13/13 [==============================] - 3s 226ms/step - loss: 4.5937e-04 - accuracy: 1.0000 - val_loss: 2.6443 - val_accuracy: 0.7347\n",
            "Epoch 41/500\n",
            "13/13 [==============================] - 2s 141ms/step - loss: 2.0234e-04 - accuracy: 1.0000 - val_loss: 2.5841 - val_accuracy: 0.7347\n",
            "Epoch 42/500\n",
            "13/13 [==============================] - 2s 142ms/step - loss: 1.5073e-05 - accuracy: 1.0000 - val_loss: 2.5542 - val_accuracy: 0.7347\n",
            "Epoch 43/500\n",
            "13/13 [==============================] - 2s 143ms/step - loss: 9.2449e-04 - accuracy: 1.0000 - val_loss: 2.5157 - val_accuracy: 0.7551\n",
            "Epoch 44/500\n",
            "13/13 [==============================] - 2s 142ms/step - loss: 8.9237e-05 - accuracy: 1.0000 - val_loss: 2.4981 - val_accuracy: 0.7551\n",
            "Epoch 45/500\n",
            "13/13 [==============================] - 2s 143ms/step - loss: 1.5197e-04 - accuracy: 1.0000 - val_loss: 2.4888 - val_accuracy: 0.7755\n",
            "Epoch 46/500\n",
            "13/13 [==============================] - 3s 249ms/step - loss: 1.3284e-04 - accuracy: 1.0000 - val_loss: 2.4747 - val_accuracy: 0.7347\n",
            "Epoch 47/500\n",
            "13/13 [==============================] - 3s 202ms/step - loss: 4.9616e-05 - accuracy: 1.0000 - val_loss: 2.4880 - val_accuracy: 0.7347\n",
            "Epoch 48/500\n",
            "13/13 [==============================] - 2s 142ms/step - loss: 1.2837e-04 - accuracy: 1.0000 - val_loss: 2.4715 - val_accuracy: 0.7347\n",
            "Epoch 49/500\n",
            "13/13 [==============================] - 2s 141ms/step - loss: 7.3992e-05 - accuracy: 1.0000 - val_loss: 2.4674 - val_accuracy: 0.7347\n",
            "Epoch 50/500\n",
            "13/13 [==============================] - 2s 140ms/step - loss: 6.6477e-05 - accuracy: 1.0000 - val_loss: 2.4681 - val_accuracy: 0.7347\n",
            "Epoch 51/500\n",
            "13/13 [==============================] - 2s 142ms/step - loss: 7.3159e-05 - accuracy: 1.0000 - val_loss: 2.4699 - val_accuracy: 0.7347\n",
            "Epoch 52/500\n",
            "13/13 [==============================] - 2s 143ms/step - loss: 9.8682e-04 - accuracy: 1.0000 - val_loss: 2.4650 - val_accuracy: 0.7551\n",
            "Epoch 53/500\n",
            "13/13 [==============================] - 3s 262ms/step - loss: 9.1487e-05 - accuracy: 1.0000 - val_loss: 2.4498 - val_accuracy: 0.7755\n",
            "Epoch 54/500\n",
            "13/13 [==============================] - 3s 197ms/step - loss: 3.1204e-05 - accuracy: 1.0000 - val_loss: 2.4439 - val_accuracy: 0.7755\n",
            "Epoch 55/500\n",
            "13/13 [==============================] - 3s 222ms/step - loss: 1.1988e-04 - accuracy: 1.0000 - val_loss: 2.4374 - val_accuracy: 0.7755\n",
            "Epoch 56/500\n",
            "13/13 [==============================] - 2s 142ms/step - loss: 9.6719e-05 - accuracy: 1.0000 - val_loss: 2.4185 - val_accuracy: 0.7755\n",
            "Epoch 57/500\n",
            "13/13 [==============================] - 2s 139ms/step - loss: 3.5528e-05 - accuracy: 1.0000 - val_loss: 2.4112 - val_accuracy: 0.7755\n",
            "Epoch 58/500\n",
            "13/13 [==============================] - 2s 142ms/step - loss: 5.1826e-04 - accuracy: 1.0000 - val_loss: 2.2088 - val_accuracy: 0.7959\n",
            "Epoch 59/500\n",
            "13/13 [==============================] - 3s 261ms/step - loss: 4.2599e-05 - accuracy: 1.0000 - val_loss: 2.1590 - val_accuracy: 0.7755\n",
            "Epoch 60/500\n",
            "13/13 [==============================] - 3s 198ms/step - loss: 2.1984e-04 - accuracy: 1.0000 - val_loss: 2.1679 - val_accuracy: 0.7755\n",
            "Epoch 61/500\n",
            "13/13 [==============================] - 2s 144ms/step - loss: 0.0021 - accuracy: 0.9975 - val_loss: 2.6648 - val_accuracy: 0.6939\n",
            "Epoch 62/500\n",
            "13/13 [==============================] - 2s 142ms/step - loss: 0.0024 - accuracy: 1.0000 - val_loss: 2.6519 - val_accuracy: 0.7551\n",
            "Epoch 63/500\n",
            "13/13 [==============================] - 2s 141ms/step - loss: 0.0012 - accuracy: 1.0000 - val_loss: 2.3783 - val_accuracy: 0.7551\n",
            "Epoch 64/500\n",
            "13/13 [==============================] - 2s 143ms/step - loss: 0.0084 - accuracy: 0.9975 - val_loss: 3.1381 - val_accuracy: 0.7143\n",
            "Epoch 65/500\n",
            "13/13 [==============================] - 2s 165ms/step - loss: 0.0084 - accuracy: 0.9949 - val_loss: 2.3723 - val_accuracy: 0.6939\n",
            "Epoch 66/500\n",
            "13/13 [==============================] - 4s 269ms/step - loss: 0.0173 - accuracy: 0.9975 - val_loss: 2.8515 - val_accuracy: 0.7347\n",
            "Epoch 67/500\n",
            "13/13 [==============================] - 2s 148ms/step - loss: 0.0106 - accuracy: 0.9975 - val_loss: 3.3070 - val_accuracy: 0.7347\n",
            "Epoch 68/500\n",
            "13/13 [==============================] - 2s 144ms/step - loss: 0.0557 - accuracy: 0.9874 - val_loss: 3.3444 - val_accuracy: 0.7347\n",
            "Epoch 69/500\n",
            "13/13 [==============================] - 2s 140ms/step - loss: 0.0180 - accuracy: 0.9874 - val_loss: 1.8930 - val_accuracy: 0.7959\n",
            "Epoch 70/500\n",
            "13/13 [==============================] - 2s 142ms/step - loss: 0.0132 - accuracy: 0.9949 - val_loss: 2.1638 - val_accuracy: 0.7551\n",
            "Epoch 71/500\n",
            "13/13 [==============================] - 2s 139ms/step - loss: 7.8299e-04 - accuracy: 1.0000 - val_loss: 2.4068 - val_accuracy: 0.7143\n",
            "Epoch 72/500\n",
            "13/13 [==============================] - 2s 194ms/step - loss: 0.0225 - accuracy: 0.9949 - val_loss: 2.3791 - val_accuracy: 0.7347\n",
            "Epoch 73/500\n",
            "13/13 [==============================] - 3s 257ms/step - loss: 4.0089e-04 - accuracy: 1.0000 - val_loss: 2.2538 - val_accuracy: 0.7551\n",
            "Epoch 74/500\n",
            "13/13 [==============================] - 2s 143ms/step - loss: 0.0434 - accuracy: 0.9975 - val_loss: 2.6562 - val_accuracy: 0.7347\n",
            "Epoch 75/500\n",
            "13/13 [==============================] - 2s 141ms/step - loss: 0.0058 - accuracy: 0.9949 - val_loss: 2.7739 - val_accuracy: 0.6939\n",
            "Epoch 76/500\n",
            "13/13 [==============================] - 2s 142ms/step - loss: 0.0011 - accuracy: 1.0000 - val_loss: 2.9088 - val_accuracy: 0.7143\n",
            "Epoch 77/500\n",
            "13/13 [==============================] - 2s 144ms/step - loss: 0.0070 - accuracy: 0.9949 - val_loss: 2.4002 - val_accuracy: 0.6939\n",
            "Epoch 78/500\n",
            "13/13 [==============================] - 2s 145ms/step - loss: 0.0057 - accuracy: 0.9975 - val_loss: 1.8698 - val_accuracy: 0.7347\n",
            "Epoch 79/500\n",
            "13/13 [==============================] - 3s 226ms/step - loss: 0.0016 - accuracy: 1.0000 - val_loss: 1.8814 - val_accuracy: 0.7551\n",
            "Epoch 80/500\n",
            "13/13 [==============================] - 3s 229ms/step - loss: 6.9672e-05 - accuracy: 1.0000 - val_loss: 1.9151 - val_accuracy: 0.7551\n",
            "Epoch 81/500\n",
            "13/13 [==============================] - 2s 143ms/step - loss: 2.3477e-04 - accuracy: 1.0000 - val_loss: 1.9339 - val_accuracy: 0.7551\n",
            "Epoch 82/500\n",
            "13/13 [==============================] - 2s 144ms/step - loss: 3.5717e-04 - accuracy: 1.0000 - val_loss: 1.9129 - val_accuracy: 0.7551\n",
            "Epoch 83/500\n",
            "13/13 [==============================] - 2s 144ms/step - loss: 1.6128e-04 - accuracy: 1.0000 - val_loss: 1.8927 - val_accuracy: 0.7551\n",
            "Epoch 84/500\n",
            "13/13 [==============================] - 2s 143ms/step - loss: 6.9600e-05 - accuracy: 1.0000 - val_loss: 1.8890 - val_accuracy: 0.7551\n",
            "Epoch 85/500\n",
            "13/13 [==============================] - 2s 145ms/step - loss: 2.0149e-04 - accuracy: 1.0000 - val_loss: 1.8862 - val_accuracy: 0.7551\n",
            "Epoch 86/500\n",
            "13/13 [==============================] - 3s 257ms/step - loss: 7.4122e-05 - accuracy: 1.0000 - val_loss: 1.9039 - val_accuracy: 0.7551\n",
            "Epoch 87/500\n",
            "13/13 [==============================] - 3s 196ms/step - loss: 6.5104e-04 - accuracy: 1.0000 - val_loss: 1.8980 - val_accuracy: 0.7551\n",
            "Epoch 88/500\n",
            "13/13 [==============================] - 2s 143ms/step - loss: 1.6675e-04 - accuracy: 1.0000 - val_loss: 1.8975 - val_accuracy: 0.7551\n",
            "Epoch 89/500\n",
            "13/13 [==============================] - 2s 144ms/step - loss: 0.0017 - accuracy: 1.0000 - val_loss: 1.8169 - val_accuracy: 0.7551\n",
            "Epoch 90/500\n",
            "13/13 [==============================] - 2s 142ms/step - loss: 0.0066 - accuracy: 0.9975 - val_loss: 2.4881 - val_accuracy: 0.7551\n",
            "Epoch 91/500\n",
            "13/13 [==============================] - 2s 143ms/step - loss: 0.0091 - accuracy: 0.9949 - val_loss: 1.8910 - val_accuracy: 0.8163\n",
            "Epoch 92/500\n",
            "13/13 [==============================] - 2s 163ms/step - loss: 0.0220 - accuracy: 0.9924 - val_loss: 2.1144 - val_accuracy: 0.7755\n",
            "Epoch 93/500\n",
            "13/13 [==============================] - 3s 257ms/step - loss: 0.0130 - accuracy: 0.9949 - val_loss: 2.1726 - val_accuracy: 0.7347\n",
            "Epoch 94/500\n",
            "13/13 [==============================] - 2s 162ms/step - loss: 0.0015 - accuracy: 1.0000 - val_loss: 1.9499 - val_accuracy: 0.7959\n",
            "Epoch 95/500\n",
            "13/13 [==============================] - 2s 143ms/step - loss: 6.5783e-04 - accuracy: 1.0000 - val_loss: 1.8997 - val_accuracy: 0.7959\n",
            "Epoch 96/500\n",
            "13/13 [==============================] - 2s 143ms/step - loss: 1.4801e-04 - accuracy: 1.0000 - val_loss: 1.8800 - val_accuracy: 0.7959\n",
            "Epoch 97/500\n",
            "13/13 [==============================] - 2s 139ms/step - loss: 7.9245e-04 - accuracy: 1.0000 - val_loss: 1.8888 - val_accuracy: 0.7959\n",
            "Epoch 98/500\n",
            "13/13 [==============================] - 2s 142ms/step - loss: 7.3498e-05 - accuracy: 1.0000 - val_loss: 1.9045 - val_accuracy: 0.7959\n",
            "Epoch 99/500\n",
            "13/13 [==============================] - 2s 182ms/step - loss: 2.2672e-04 - accuracy: 1.0000 - val_loss: 1.8902 - val_accuracy: 0.7959\n",
            "Epoch 100/500\n",
            "13/13 [==============================] - 3s 261ms/step - loss: 8.3255e-04 - accuracy: 1.0000 - val_loss: 1.7813 - val_accuracy: 0.7959\n",
            "Epoch 101/500\n",
            "13/13 [==============================] - 2s 140ms/step - loss: 1.9641e-05 - accuracy: 1.0000 - val_loss: 1.7203 - val_accuracy: 0.7551\n",
            "Epoch 102/500\n",
            "13/13 [==============================] - 2s 141ms/step - loss: 3.0090e-04 - accuracy: 1.0000 - val_loss: 1.7647 - val_accuracy: 0.7755\n",
            "Epoch 103/500\n",
            "13/13 [==============================] - 2s 140ms/step - loss: 0.0015 - accuracy: 1.0000 - val_loss: 1.6975 - val_accuracy: 0.7755\n",
            "Epoch 104/500\n",
            "13/13 [==============================] - 2s 142ms/step - loss: 5.6630e-06 - accuracy: 1.0000 - val_loss: 1.6960 - val_accuracy: 0.8163\n",
            "Epoch 105/500\n",
            "13/13 [==============================] - 2s 140ms/step - loss: 3.9432e-05 - accuracy: 1.0000 - val_loss: 1.6970 - val_accuracy: 0.8163\n",
            "Epoch 106/500\n",
            "13/13 [==============================] - 3s 197ms/step - loss: 2.0655e-05 - accuracy: 1.0000 - val_loss: 1.6938 - val_accuracy: 0.8163\n",
            "Epoch 107/500\n",
            "13/13 [==============================] - 3s 253ms/step - loss: 0.0010 - accuracy: 1.0000 - val_loss: 1.5996 - val_accuracy: 0.8163\n",
            "Epoch 108/500\n",
            "13/13 [==============================] - 2s 143ms/step - loss: 3.0346e-04 - accuracy: 1.0000 - val_loss: 1.6207 - val_accuracy: 0.8163\n",
            "Epoch 109/500\n",
            "13/13 [==============================] - 2s 143ms/step - loss: 1.1933e-04 - accuracy: 1.0000 - val_loss: 1.6469 - val_accuracy: 0.8163\n",
            "Epoch 110/500\n",
            "13/13 [==============================] - 2s 144ms/step - loss: 1.5305e-04 - accuracy: 1.0000 - val_loss: 1.6892 - val_accuracy: 0.8163\n",
            "Epoch 111/500\n",
            "13/13 [==============================] - 2s 144ms/step - loss: 7.9494e-05 - accuracy: 1.0000 - val_loss: 1.7067 - val_accuracy: 0.8163\n",
            "Epoch 112/500\n",
            "13/13 [==============================] - 2s 144ms/step - loss: 2.4624e-04 - accuracy: 1.0000 - val_loss: 1.6640 - val_accuracy: 0.8163\n",
            "Epoch 113/500\n",
            "13/13 [==============================] - 3s 234ms/step - loss: 6.0536e-05 - accuracy: 1.0000 - val_loss: 1.6376 - val_accuracy: 0.8163\n",
            "Epoch 114/500\n",
            "13/13 [==============================] - 3s 224ms/step - loss: 1.2314e-04 - accuracy: 1.0000 - val_loss: 1.6304 - val_accuracy: 0.8163\n",
            "Epoch 115/500\n",
            "13/13 [==============================] - 2s 141ms/step - loss: 1.8847e-04 - accuracy: 1.0000 - val_loss: 1.6566 - val_accuracy: 0.8163\n",
            "Epoch 116/500\n",
            "13/13 [==============================] - 2s 141ms/step - loss: 2.5751e-05 - accuracy: 1.0000 - val_loss: 1.6642 - val_accuracy: 0.8163\n",
            "Epoch 117/500\n",
            "13/13 [==============================] - 2s 142ms/step - loss: 0.0014 - accuracy: 1.0000 - val_loss: 1.5589 - val_accuracy: 0.7959\n",
            "Epoch 118/500\n",
            "13/13 [==============================] - 2s 143ms/step - loss: 8.1844e-05 - accuracy: 1.0000 - val_loss: 1.5124 - val_accuracy: 0.7959\n",
            "Epoch 119/500\n",
            "13/13 [==============================] - 2s 141ms/step - loss: 0.0061 - accuracy: 0.9975 - val_loss: 1.8337 - val_accuracy: 0.8163\n",
            "Epoch 120/500\n",
            "13/13 [==============================] - 3s 249ms/step - loss: 0.0098 - accuracy: 0.9975 - val_loss: 1.4846 - val_accuracy: 0.8163\n",
            "Epoch 121/500\n",
            "13/13 [==============================] - 3s 201ms/step - loss: 9.7591e-04 - accuracy: 1.0000 - val_loss: 1.4764 - val_accuracy: 0.8163\n",
            "Epoch 122/500\n",
            "13/13 [==============================] - 2s 143ms/step - loss: 3.2436e-04 - accuracy: 1.0000 - val_loss: 1.4868 - val_accuracy: 0.8163\n",
            "Epoch 123/500\n",
            "13/13 [==============================] - 2s 144ms/step - loss: 3.6441e-04 - accuracy: 1.0000 - val_loss: 1.5157 - val_accuracy: 0.8163\n",
            "Epoch 124/500\n",
            "13/13 [==============================] - 2s 150ms/step - loss: 5.4422e-05 - accuracy: 1.0000 - val_loss: 1.5309 - val_accuracy: 0.8163\n",
            "Epoch 125/500\n",
            "13/13 [==============================] - 2s 144ms/step - loss: 4.1749e-05 - accuracy: 1.0000 - val_loss: 1.5377 - val_accuracy: 0.8163\n",
            "Epoch 126/500\n",
            "13/13 [==============================] - 2s 153ms/step - loss: 2.4885e-05 - accuracy: 1.0000 - val_loss: 1.5399 - val_accuracy: 0.8163\n",
            "Epoch 127/500\n",
            "13/13 [==============================] - 3s 256ms/step - loss: 9.2903e-05 - accuracy: 1.0000 - val_loss: 1.5464 - val_accuracy: 0.8163\n",
            "Epoch 128/500\n",
            "13/13 [==============================] - 2s 173ms/step - loss: 9.6922e-05 - accuracy: 1.0000 - val_loss: 1.5507 - val_accuracy: 0.8163\n",
            "Epoch 129/500\n",
            "13/13 [==============================] - 2s 145ms/step - loss: 1.0131e-05 - accuracy: 1.0000 - val_loss: 1.5514 - val_accuracy: 0.8163\n",
            "Epoch 130/500\n",
            "13/13 [==============================] - 2s 143ms/step - loss: 4.5676e-04 - accuracy: 1.0000 - val_loss: 1.5934 - val_accuracy: 0.7959\n",
            "Epoch 131/500\n",
            "13/13 [==============================] - 2s 144ms/step - loss: 5.2960e-04 - accuracy: 1.0000 - val_loss: 1.6032 - val_accuracy: 0.7959\n",
            "Epoch 132/500\n",
            "13/13 [==============================] - 2s 142ms/step - loss: 0.0028 - accuracy: 0.9975 - val_loss: 1.6080 - val_accuracy: 0.8367\n",
            "Epoch 133/500\n",
            "13/13 [==============================] - 2s 181ms/step - loss: 5.4421e-04 - accuracy: 1.0000 - val_loss: 1.7279 - val_accuracy: 0.7959\n",
            "Epoch 134/500\n",
            "13/13 [==============================] - 3s 265ms/step - loss: 0.0053 - accuracy: 0.9975 - val_loss: 1.7790 - val_accuracy: 0.7959\n",
            "Epoch 135/500\n",
            "13/13 [==============================] - 2s 142ms/step - loss: 0.0396 - accuracy: 0.9949 - val_loss: 1.8082 - val_accuracy: 0.7755\n",
            "Epoch 136/500\n",
            "13/13 [==============================] - 2s 143ms/step - loss: 0.0243 - accuracy: 0.9949 - val_loss: 2.0975 - val_accuracy: 0.7347\n",
            "Epoch 137/500\n",
            "13/13 [==============================] - 2s 142ms/step - loss: 0.0382 - accuracy: 0.9949 - val_loss: 1.8849 - val_accuracy: 0.7755\n",
            "Epoch 138/500\n",
            "13/13 [==============================] - 2s 141ms/step - loss: 0.0022 - accuracy: 1.0000 - val_loss: 2.9470 - val_accuracy: 0.7347\n",
            "Epoch 139/500\n",
            "13/13 [==============================] - 2s 143ms/step - loss: 0.0158 - accuracy: 0.9975 - val_loss: 2.1105 - val_accuracy: 0.7551\n",
            "Epoch 140/500\n",
            "13/13 [==============================] - 3s 205ms/step - loss: 0.0013 - accuracy: 1.0000 - val_loss: 2.1917 - val_accuracy: 0.7347\n",
            "Epoch 141/500\n",
            "13/13 [==============================] - 3s 250ms/step - loss: 0.0042 - accuracy: 0.9975 - val_loss: 1.9946 - val_accuracy: 0.7551\n",
            "Epoch 142/500\n",
            "13/13 [==============================] - 2s 144ms/step - loss: 0.0030 - accuracy: 1.0000 - val_loss: 2.2477 - val_accuracy: 0.7551\n",
            "Epoch 143/500\n",
            "13/13 [==============================] - 2s 145ms/step - loss: 0.0018 - accuracy: 1.0000 - val_loss: 2.3479 - val_accuracy: 0.7551\n",
            "Epoch 144/500\n",
            "13/13 [==============================] - 2s 144ms/step - loss: 1.1910e-04 - accuracy: 1.0000 - val_loss: 2.3741 - val_accuracy: 0.7551\n",
            "Epoch 145/500\n",
            "13/13 [==============================] - 2s 146ms/step - loss: 1.6226e-04 - accuracy: 1.0000 - val_loss: 2.3754 - val_accuracy: 0.7551\n",
            "Epoch 146/500\n",
            "13/13 [==============================] - 2s 143ms/step - loss: 6.2453e-04 - accuracy: 1.0000 - val_loss: 2.2295 - val_accuracy: 0.7347\n",
            "Epoch 147/500\n",
            "13/13 [==============================] - 3s 231ms/step - loss: 2.2397e-04 - accuracy: 1.0000 - val_loss: 2.1332 - val_accuracy: 0.7347\n",
            "Epoch 148/500\n",
            "13/13 [==============================] - 3s 224ms/step - loss: 7.0201e-05 - accuracy: 1.0000 - val_loss: 2.1013 - val_accuracy: 0.7347\n",
            "Epoch 149/500\n",
            "13/13 [==============================] - 2s 146ms/step - loss: 6.6060e-05 - accuracy: 1.0000 - val_loss: 2.0928 - val_accuracy: 0.7551\n",
            "Epoch 150/500\n",
            "13/13 [==============================] - 2s 144ms/step - loss: 2.7004e-04 - accuracy: 1.0000 - val_loss: 2.0936 - val_accuracy: 0.7551\n",
            "Epoch 151/500\n",
            "13/13 [==============================] - 2s 145ms/step - loss: 2.2633e-04 - accuracy: 1.0000 - val_loss: 2.1031 - val_accuracy: 0.7347\n",
            "Epoch 152/500\n",
            "13/13 [==============================] - 2s 143ms/step - loss: 4.9672e-04 - accuracy: 1.0000 - val_loss: 2.0422 - val_accuracy: 0.7551\n",
            "Epoch 153/500\n",
            "13/13 [==============================] - 2s 143ms/step - loss: 7.9898e-05 - accuracy: 1.0000 - val_loss: 2.0047 - val_accuracy: 0.7551\n",
            "Epoch 154/500\n",
            "13/13 [==============================] - 3s 262ms/step - loss: 2.4071e-04 - accuracy: 1.0000 - val_loss: 1.9897 - val_accuracy: 0.7551\n",
            "Epoch 155/500\n",
            "13/13 [==============================] - 3s 188ms/step - loss: 3.4186e-04 - accuracy: 1.0000 - val_loss: 1.9997 - val_accuracy: 0.7551\n",
            "Epoch 156/500\n",
            "13/13 [==============================] - 2s 143ms/step - loss: 1.2789e-04 - accuracy: 1.0000 - val_loss: 2.0005 - val_accuracy: 0.7551\n",
            "Epoch 157/500\n",
            "13/13 [==============================] - 2s 143ms/step - loss: 3.5321e-04 - accuracy: 1.0000 - val_loss: 1.9999 - val_accuracy: 0.7551\n",
            "Epoch 158/500\n",
            "13/13 [==============================] - 2s 144ms/step - loss: 1.5520e-04 - accuracy: 1.0000 - val_loss: 2.0045 - val_accuracy: 0.7551\n",
            "Epoch 159/500\n",
            "13/13 [==============================] - 2s 142ms/step - loss: 3.8010e-04 - accuracy: 1.0000 - val_loss: 1.9987 - val_accuracy: 0.7551\n",
            "Epoch 160/500\n",
            "13/13 [==============================] - 2s 166ms/step - loss: 9.4896e-05 - accuracy: 1.0000 - val_loss: 1.9237 - val_accuracy: 0.7551\n",
            "Epoch 161/500\n",
            "13/13 [==============================] - 3s 262ms/step - loss: 8.2937e-05 - accuracy: 1.0000 - val_loss: 1.9136 - val_accuracy: 0.7551\n",
            "Epoch 162/500\n",
            "13/13 [==============================] - 2s 160ms/step - loss: 9.0352e-05 - accuracy: 1.0000 - val_loss: 1.9063 - val_accuracy: 0.7551\n",
            "Epoch 163/500\n",
            "13/13 [==============================] - 2s 142ms/step - loss: 1.1248e-04 - accuracy: 1.0000 - val_loss: 1.8983 - val_accuracy: 0.7551\n",
            "Epoch 164/500\n",
            "13/13 [==============================] - 2s 144ms/step - loss: 3.2324e-04 - accuracy: 1.0000 - val_loss: 1.9017 - val_accuracy: 0.7551\n",
            "Epoch 165/500\n",
            "13/13 [==============================] - 2s 143ms/step - loss: 4.0207e-05 - accuracy: 1.0000 - val_loss: 1.9053 - val_accuracy: 0.7551\n",
            "Epoch 166/500\n",
            "13/13 [==============================] - 2s 144ms/step - loss: 3.2254e-04 - accuracy: 1.0000 - val_loss: 1.9177 - val_accuracy: 0.7551\n",
            "Epoch 167/500\n",
            "13/13 [==============================] - 2s 192ms/step - loss: 2.1132e-04 - accuracy: 1.0000 - val_loss: 1.9744 - val_accuracy: 0.7551\n",
            "Epoch 168/500\n",
            "13/13 [==============================] - 3s 264ms/step - loss: 0.0015 - accuracy: 1.0000 - val_loss: 2.1085 - val_accuracy: 0.7755\n",
            "Epoch 169/500\n",
            "13/13 [==============================] - 2s 144ms/step - loss: 5.9884e-04 - accuracy: 1.0000 - val_loss: 2.0976 - val_accuracy: 0.7959\n",
            "Epoch 170/500\n",
            "13/13 [==============================] - 2s 143ms/step - loss: 1.4845e-04 - accuracy: 1.0000 - val_loss: 2.0496 - val_accuracy: 0.7959\n",
            "Epoch 171/500\n",
            "13/13 [==============================] - 2s 142ms/step - loss: 1.0151e-04 - accuracy: 1.0000 - val_loss: 2.0245 - val_accuracy: 0.7959\n",
            "Epoch 172/500\n",
            "13/13 [==============================] - 2s 144ms/step - loss: 1.2160e-04 - accuracy: 1.0000 - val_loss: 1.9875 - val_accuracy: 0.8163\n",
            "Epoch 173/500\n",
            "13/13 [==============================] - 2s 143ms/step - loss: 1.9275e-04 - accuracy: 1.0000 - val_loss: 1.9532 - val_accuracy: 0.8163\n",
            "Epoch 174/500\n",
            "13/13 [==============================] - 3s 223ms/step - loss: 1.9386e-04 - accuracy: 1.0000 - val_loss: 1.9323 - val_accuracy: 0.7959\n",
            "Epoch 175/500\n",
            "13/13 [==============================] - 3s 233ms/step - loss: 0.0072 - accuracy: 0.9975 - val_loss: 2.2039 - val_accuracy: 0.7347\n",
            "Epoch 176/500\n",
            "13/13 [==============================] - 2s 144ms/step - loss: 0.0045 - accuracy: 0.9975 - val_loss: 2.1017 - val_accuracy: 0.7551\n",
            "Epoch 177/500\n",
            "13/13 [==============================] - 2s 144ms/step - loss: 5.6835e-04 - accuracy: 1.0000 - val_loss: 2.0168 - val_accuracy: 0.8163\n",
            "Epoch 178/500\n",
            "13/13 [==============================] - 2s 143ms/step - loss: 2.6073e-04 - accuracy: 1.0000 - val_loss: 1.9679 - val_accuracy: 0.8163\n",
            "Epoch 179/500\n",
            "13/13 [==============================] - 2s 146ms/step - loss: 0.0244 - accuracy: 0.9975 - val_loss: 2.4658 - val_accuracy: 0.7959\n",
            "Epoch 180/500\n",
            "13/13 [==============================] - 2s 145ms/step - loss: 0.0027 - accuracy: 1.0000 - val_loss: 3.1452 - val_accuracy: 0.7755\n",
            "Epoch 181/500\n",
            "13/13 [==============================] - 3s 260ms/step - loss: 8.9222e-04 - accuracy: 1.0000 - val_loss: 2.2670 - val_accuracy: 0.7959\n",
            "Epoch 182/500\n",
            "13/13 [==============================] - 3s 191ms/step - loss: 0.0016 - accuracy: 1.0000 - val_loss: 2.0647 - val_accuracy: 0.8163\n",
            "Epoch 183/500\n",
            "13/13 [==============================] - 2s 141ms/step - loss: 4.3404e-04 - accuracy: 1.0000 - val_loss: 1.9470 - val_accuracy: 0.8163\n",
            "Epoch 184/500\n",
            "13/13 [==============================] - 2s 143ms/step - loss: 0.0053 - accuracy: 0.9975 - val_loss: 1.9959 - val_accuracy: 0.8367\n",
            "Epoch 185/500\n",
            "13/13 [==============================] - 2s 143ms/step - loss: 0.0019 - accuracy: 1.0000 - val_loss: 1.8152 - val_accuracy: 0.8163\n",
            "Epoch 186/500\n",
            "13/13 [==============================] - 2s 143ms/step - loss: 3.9065e-05 - accuracy: 1.0000 - val_loss: 1.7625 - val_accuracy: 0.8367\n",
            "Epoch 187/500\n",
            "13/13 [==============================] - 2s 158ms/step - loss: 1.8339e-04 - accuracy: 1.0000 - val_loss: 1.7489 - val_accuracy: 0.8367\n",
            "Epoch 188/500\n",
            "13/13 [==============================] - 3s 259ms/step - loss: 1.2470e-05 - accuracy: 1.0000 - val_loss: 1.7447 - val_accuracy: 0.8367\n",
            "Epoch 189/500\n",
            "13/13 [==============================] - 2s 166ms/step - loss: 3.5481e-04 - accuracy: 1.0000 - val_loss: 1.7042 - val_accuracy: 0.8367\n",
            "Epoch 190/500\n",
            "13/13 [==============================] - 2s 147ms/step - loss: 1.7747e-05 - accuracy: 1.0000 - val_loss: 1.6901 - val_accuracy: 0.8367\n",
            "Epoch 191/500\n",
            "13/13 [==============================] - 2s 146ms/step - loss: 3.9465e-04 - accuracy: 1.0000 - val_loss: 1.6382 - val_accuracy: 0.8367\n",
            "Epoch 192/500\n",
            "13/13 [==============================] - 2s 143ms/step - loss: 2.3632e-05 - accuracy: 1.0000 - val_loss: 1.6240 - val_accuracy: 0.8367\n",
            "Epoch 193/500\n",
            "13/13 [==============================] - 2s 145ms/step - loss: 1.1289e-04 - accuracy: 1.0000 - val_loss: 1.6218 - val_accuracy: 0.8367\n",
            "Epoch 194/500\n",
            "13/13 [==============================] - 2s 192ms/step - loss: 1.1986e-05 - accuracy: 1.0000 - val_loss: 1.6240 - val_accuracy: 0.8367\n",
            "Epoch 195/500\n",
            "13/13 [==============================] - 3s 253ms/step - loss: 0.0016 - accuracy: 1.0000 - val_loss: 2.1061 - val_accuracy: 0.8367\n",
            "Epoch 196/500\n",
            "13/13 [==============================] - 2s 144ms/step - loss: 2.3468e-05 - accuracy: 1.0000 - val_loss: 2.6570 - val_accuracy: 0.7959\n",
            "Epoch 197/500\n",
            "13/13 [==============================] - 2s 142ms/step - loss: 1.4793e-04 - accuracy: 1.0000 - val_loss: 2.8032 - val_accuracy: 0.7755\n",
            "Epoch 198/500\n",
            "13/13 [==============================] - 2s 141ms/step - loss: 1.5987e-05 - accuracy: 1.0000 - val_loss: 2.8416 - val_accuracy: 0.7755\n",
            "Epoch 199/500\n",
            "13/13 [==============================] - 2s 141ms/step - loss: 5.0961e-04 - accuracy: 1.0000 - val_loss: 2.8034 - val_accuracy: 0.7755\n",
            "Epoch 200/500\n",
            "13/13 [==============================] - 2s 141ms/step - loss: 0.0038 - accuracy: 0.9975 - val_loss: 2.2960 - val_accuracy: 0.7755\n",
            "Epoch 201/500\n",
            "13/13 [==============================] - 3s 209ms/step - loss: 6.9017e-04 - accuracy: 1.0000 - val_loss: 2.4102 - val_accuracy: 0.7143\n",
            "Epoch 202/500\n",
            "13/13 [==============================] - 3s 245ms/step - loss: 0.0016 - accuracy: 1.0000 - val_loss: 2.3593 - val_accuracy: 0.7959\n",
            "Epoch 203/500\n",
            "13/13 [==============================] - 2s 146ms/step - loss: 0.0038 - accuracy: 0.9975 - val_loss: 2.6363 - val_accuracy: 0.7347\n",
            "Epoch 204/500\n",
            "13/13 [==============================] - 2s 141ms/step - loss: 5.3751e-04 - accuracy: 1.0000 - val_loss: 2.7406 - val_accuracy: 0.7347\n",
            "Epoch 205/500\n",
            "13/13 [==============================] - 2s 150ms/step - loss: 0.0024 - accuracy: 0.9975 - val_loss: 1.8416 - val_accuracy: 0.7959\n",
            "Epoch 206/500\n",
            "13/13 [==============================] - 2s 147ms/step - loss: 0.0141 - accuracy: 0.9975 - val_loss: 2.3541 - val_accuracy: 0.6939\n",
            "Epoch 207/500\n",
            "13/13 [==============================] - 2s 147ms/step - loss: 5.8377e-04 - accuracy: 1.0000 - val_loss: 2.4438 - val_accuracy: 0.6735\n",
            "Epoch 208/500\n",
            "13/13 [==============================] - 3s 247ms/step - loss: 5.3416e-04 - accuracy: 1.0000 - val_loss: 2.3311 - val_accuracy: 0.6735\n",
            "Epoch 209/500\n",
            "13/13 [==============================] - 3s 208ms/step - loss: 1.4618e-04 - accuracy: 1.0000 - val_loss: 2.1621 - val_accuracy: 0.7143\n",
            "Epoch 210/500\n",
            "13/13 [==============================] - 2s 142ms/step - loss: 7.2721e-04 - accuracy: 1.0000 - val_loss: 2.1582 - val_accuracy: 0.7143\n",
            "Epoch 211/500\n",
            "13/13 [==============================] - 2s 145ms/step - loss: 2.2017e-04 - accuracy: 1.0000 - val_loss: 2.1228 - val_accuracy: 0.6939\n",
            "Epoch 212/500\n",
            "13/13 [==============================] - 2s 142ms/step - loss: 0.0012 - accuracy: 1.0000 - val_loss: 1.9689 - val_accuracy: 0.7143\n",
            "Epoch 213/500\n",
            "13/13 [==============================] - 2s 144ms/step - loss: 4.0983e-04 - accuracy: 1.0000 - val_loss: 1.9024 - val_accuracy: 0.7143\n",
            "Epoch 214/500\n",
            "13/13 [==============================] - 2s 151ms/step - loss: 1.1546e-04 - accuracy: 1.0000 - val_loss: 1.8701 - val_accuracy: 0.7143\n",
            "Epoch 215/500\n",
            "13/13 [==============================] - 3s 257ms/step - loss: 2.8241e-05 - accuracy: 1.0000 - val_loss: 1.8671 - val_accuracy: 0.6939\n",
            "Epoch 216/500\n",
            "13/13 [==============================] - 2s 182ms/step - loss: 3.4295e-05 - accuracy: 1.0000 - val_loss: 1.8638 - val_accuracy: 0.6939\n",
            "Epoch 217/500\n",
            "13/13 [==============================] - 2s 144ms/step - loss: 4.6171e-05 - accuracy: 1.0000 - val_loss: 1.8664 - val_accuracy: 0.6939\n",
            "Epoch 218/500\n",
            "13/13 [==============================] - 2s 144ms/step - loss: 9.1985e-05 - accuracy: 1.0000 - val_loss: 1.8612 - val_accuracy: 0.6939\n",
            "Epoch 219/500\n",
            "13/13 [==============================] - 2s 144ms/step - loss: 2.4169e-05 - accuracy: 1.0000 - val_loss: 1.8583 - val_accuracy: 0.6939\n",
            "Epoch 220/500\n",
            "13/13 [==============================] - 2s 146ms/step - loss: 2.8344e-05 - accuracy: 1.0000 - val_loss: 1.8574 - val_accuracy: 0.6939\n",
            "Epoch 221/500\n",
            "13/13 [==============================] - 2s 182ms/step - loss: 1.4776e-04 - accuracy: 1.0000 - val_loss: 1.8491 - val_accuracy: 0.7143\n",
            "Epoch 222/500\n",
            "13/13 [==============================] - 3s 263ms/step - loss: 2.5063e-05 - accuracy: 1.0000 - val_loss: 1.8445 - val_accuracy: 0.7143\n",
            "Epoch 223/500\n",
            "13/13 [==============================] - 2s 149ms/step - loss: 1.9032e-05 - accuracy: 1.0000 - val_loss: 1.8440 - val_accuracy: 0.7143\n",
            "Epoch 224/500\n",
            "13/13 [==============================] - 2s 145ms/step - loss: 9.2555e-05 - accuracy: 1.0000 - val_loss: 1.8467 - val_accuracy: 0.7143\n",
            "Epoch 225/500\n",
            "13/13 [==============================] - 2s 144ms/step - loss: 5.4605e-05 - accuracy: 1.0000 - val_loss: 1.8492 - val_accuracy: 0.7143\n",
            "Epoch 226/500\n",
            "13/13 [==============================] - 2s 142ms/step - loss: 2.5888e-05 - accuracy: 1.0000 - val_loss: 1.8502 - val_accuracy: 0.7347\n",
            "Epoch 227/500\n",
            "13/13 [==============================] - 2s 143ms/step - loss: 5.6322e-05 - accuracy: 1.0000 - val_loss: 1.8489 - val_accuracy: 0.7551\n",
            "Epoch 228/500\n",
            "13/13 [==============================] - 3s 221ms/step - loss: 1.5089e-05 - accuracy: 1.0000 - val_loss: 1.8477 - val_accuracy: 0.7551\n",
            "Epoch 229/500\n",
            "13/13 [==============================] - 3s 239ms/step - loss: 1.2237e-05 - accuracy: 1.0000 - val_loss: 1.8469 - val_accuracy: 0.7551\n",
            "Epoch 230/500\n",
            "13/13 [==============================] - 2s 145ms/step - loss: 1.9486e-04 - accuracy: 1.0000 - val_loss: 1.8624 - val_accuracy: 0.7347\n",
            "Epoch 231/500\n",
            "13/13 [==============================] - 2s 147ms/step - loss: 0.0011 - accuracy: 1.0000 - val_loss: 1.8009 - val_accuracy: 0.7347\n",
            "Epoch 232/500\n",
            "13/13 [==============================] - 2s 144ms/step - loss: 1.9630e-05 - accuracy: 1.0000 - val_loss: 1.7809 - val_accuracy: 0.7551\n",
            "Epoch 233/500\n",
            "13/13 [==============================] - 2s 145ms/step - loss: 1.3504e-04 - accuracy: 1.0000 - val_loss: 1.7732 - val_accuracy: 0.7755\n",
            "Epoch 234/500\n",
            "13/13 [==============================] - 2s 147ms/step - loss: 1.6043e-04 - accuracy: 1.0000 - val_loss: 1.7613 - val_accuracy: 0.7551\n",
            "Epoch 235/500\n",
            "13/13 [==============================] - 3s 255ms/step - loss: 1.4451e-04 - accuracy: 1.0000 - val_loss: 1.7650 - val_accuracy: 0.7551\n",
            "Epoch 236/500\n",
            "13/13 [==============================] - 3s 202ms/step - loss: 2.0969e-05 - accuracy: 1.0000 - val_loss: 1.7664 - val_accuracy: 0.7551\n",
            "Epoch 237/500\n",
            "13/13 [==============================] - 2s 149ms/step - loss: 1.0343e-04 - accuracy: 1.0000 - val_loss: 1.7454 - val_accuracy: 0.7551\n",
            "Epoch 238/500\n",
            "13/13 [==============================] - 2s 145ms/step - loss: 1.5150e-04 - accuracy: 1.0000 - val_loss: 1.7511 - val_accuracy: 0.7551\n",
            "Epoch 239/500\n",
            "13/13 [==============================] - 2s 148ms/step - loss: 1.0791e-04 - accuracy: 1.0000 - val_loss: 1.7838 - val_accuracy: 0.7347\n",
            "Epoch 240/500\n",
            "13/13 [==============================] - 2s 148ms/step - loss: 7.5801e-06 - accuracy: 1.0000 - val_loss: 1.7843 - val_accuracy: 0.7551\n",
            "Epoch 241/500\n",
            "13/13 [==============================] - 2s 176ms/step - loss: 1.5983e-04 - accuracy: 1.0000 - val_loss: 1.7676 - val_accuracy: 0.7551\n",
            "Epoch 242/500\n",
            "13/13 [==============================] - 3s 262ms/step - loss: 1.4203e-04 - accuracy: 1.0000 - val_loss: 1.7681 - val_accuracy: 0.7755\n",
            "Epoch 243/500\n",
            "13/13 [==============================] - 2s 158ms/step - loss: 3.3352e-05 - accuracy: 1.0000 - val_loss: 1.7727 - val_accuracy: 0.7755\n",
            "Epoch 244/500\n",
            "13/13 [==============================] - 2s 153ms/step - loss: 6.4439e-06 - accuracy: 1.0000 - val_loss: 1.7787 - val_accuracy: 0.7551\n",
            "Epoch 245/500\n",
            "13/13 [==============================] - 2s 145ms/step - loss: 8.4125e-06 - accuracy: 1.0000 - val_loss: 1.7799 - val_accuracy: 0.7551\n",
            "Epoch 246/500\n",
            "13/13 [==============================] - 2s 146ms/step - loss: 7.8892e-06 - accuracy: 1.0000 - val_loss: 1.7800 - val_accuracy: 0.7551\n",
            "Epoch 247/500\n",
            "13/13 [==============================] - 2s 147ms/step - loss: 5.4412e-05 - accuracy: 1.0000 - val_loss: 1.7817 - val_accuracy: 0.7551\n",
            "Epoch 248/500\n",
            "13/13 [==============================] - 3s 216ms/step - loss: 4.1799e-05 - accuracy: 1.0000 - val_loss: 1.7842 - val_accuracy: 0.7551\n",
            "Epoch 249/500\n",
            "13/13 [==============================] - 3s 247ms/step - loss: 5.1098e-05 - accuracy: 1.0000 - val_loss: 1.7815 - val_accuracy: 0.7755\n",
            "Epoch 250/500\n",
            "13/13 [==============================] - 2s 144ms/step - loss: 2.5930e-04 - accuracy: 1.0000 - val_loss: 1.7783 - val_accuracy: 0.7959\n",
            "Epoch 251/500\n",
            "13/13 [==============================] - 2s 144ms/step - loss: 0.0011 - accuracy: 1.0000 - val_loss: 1.7720 - val_accuracy: 0.7755\n",
            "Epoch 252/500\n",
            "13/13 [==============================] - 2s 143ms/step - loss: 0.0201 - accuracy: 0.9975 - val_loss: 2.0706 - val_accuracy: 0.7755\n",
            "Epoch 253/500\n",
            "13/13 [==============================] - 2s 144ms/step - loss: 0.0097 - accuracy: 0.9949 - val_loss: 2.4119 - val_accuracy: 0.6939\n",
            "Epoch 254/500\n",
            "13/13 [==============================] - 2s 146ms/step - loss: 0.0052 - accuracy: 0.9949 - val_loss: 2.4715 - val_accuracy: 0.6735\n",
            "Epoch 255/500\n",
            "13/13 [==============================] - 3s 256ms/step - loss: 8.9655e-04 - accuracy: 1.0000 - val_loss: 2.9221 - val_accuracy: 0.7143\n",
            "Epoch 256/500\n",
            "13/13 [==============================] - 3s 201ms/step - loss: 0.0012 - accuracy: 1.0000 - val_loss: 2.9413 - val_accuracy: 0.7143\n",
            "Epoch 257/500\n",
            "13/13 [==============================] - 2s 144ms/step - loss: 0.0011 - accuracy: 1.0000 - val_loss: 2.5499 - val_accuracy: 0.7347\n",
            "Epoch 258/500\n",
            "13/13 [==============================] - 2s 145ms/step - loss: 0.0020 - accuracy: 1.0000 - val_loss: 2.4874 - val_accuracy: 0.7551\n",
            "Epoch 259/500\n",
            "13/13 [==============================] - 2s 145ms/step - loss: 2.9001e-04 - accuracy: 1.0000 - val_loss: 2.5942 - val_accuracy: 0.7347\n",
            "Epoch 260/500\n",
            "13/13 [==============================] - 2s 148ms/step - loss: 0.0209 - accuracy: 0.9949 - val_loss: 2.2887 - val_accuracy: 0.7755\n",
            "Epoch 261/500\n",
            "13/13 [==============================] - 2s 166ms/step - loss: 1.2514e-04 - accuracy: 1.0000 - val_loss: 2.2803 - val_accuracy: 0.6939\n",
            "Epoch 262/500\n",
            "13/13 [==============================] - 3s 269ms/step - loss: 6.3433e-04 - accuracy: 1.0000 - val_loss: 2.3705 - val_accuracy: 0.7143\n",
            "Epoch 263/500\n",
            "13/13 [==============================] - 2s 160ms/step - loss: 0.0164 - accuracy: 0.9975 - val_loss: 2.2632 - val_accuracy: 0.7143\n",
            "Epoch 264/500\n",
            "13/13 [==============================] - 2s 145ms/step - loss: 4.8477e-04 - accuracy: 1.0000 - val_loss: 2.3990 - val_accuracy: 0.7755\n",
            "Epoch 265/500\n",
            "13/13 [==============================] - 2s 146ms/step - loss: 5.9855e-05 - accuracy: 1.0000 - val_loss: 2.5633 - val_accuracy: 0.7755\n",
            "Epoch 266/500\n",
            "13/13 [==============================] - 2s 145ms/step - loss: 3.1320e-04 - accuracy: 1.0000 - val_loss: 2.5595 - val_accuracy: 0.7551\n",
            "Epoch 267/500\n",
            "13/13 [==============================] - 2s 147ms/step - loss: 6.4207e-04 - accuracy: 1.0000 - val_loss: 2.5245 - val_accuracy: 0.7551\n",
            "Epoch 268/500\n",
            "13/13 [==============================] - 3s 209ms/step - loss: 2.6072e-05 - accuracy: 1.0000 - val_loss: 2.5253 - val_accuracy: 0.7551\n",
            "Epoch 269/500\n",
            "13/13 [==============================] - 3s 247ms/step - loss: 0.0039 - accuracy: 0.9975 - val_loss: 2.3974 - val_accuracy: 0.7959\n",
            "Epoch 270/500\n",
            "13/13 [==============================] - 2s 148ms/step - loss: 4.5516e-05 - accuracy: 1.0000 - val_loss: 2.4929 - val_accuracy: 0.7959\n",
            "Epoch 271/500\n",
            "13/13 [==============================] - 2s 143ms/step - loss: 0.0017 - accuracy: 1.0000 - val_loss: 2.3312 - val_accuracy: 0.8163\n",
            "Epoch 272/500\n",
            "13/13 [==============================] - 2s 145ms/step - loss: 9.4258e-04 - accuracy: 1.0000 - val_loss: 2.5744 - val_accuracy: 0.7347\n",
            "Epoch 273/500\n",
            "13/13 [==============================] - 2s 146ms/step - loss: 3.1433e-04 - accuracy: 1.0000 - val_loss: 2.7006 - val_accuracy: 0.7347\n",
            "Epoch 274/500\n",
            "13/13 [==============================] - 2s 149ms/step - loss: 0.0298 - accuracy: 0.9975 - val_loss: 2.7728 - val_accuracy: 0.7551\n",
            "Epoch 275/500\n",
            "13/13 [==============================] - 3s 253ms/step - loss: 0.0074 - accuracy: 0.9975 - val_loss: 2.7577 - val_accuracy: 0.7959\n",
            "Epoch 276/500\n",
            "13/13 [==============================] - 3s 209ms/step - loss: 0.0056 - accuracy: 0.9949 - val_loss: 2.8061 - val_accuracy: 0.7551\n",
            "Epoch 277/500\n",
            "13/13 [==============================] - 2s 145ms/step - loss: 0.0155 - accuracy: 0.9949 - val_loss: 2.4999 - val_accuracy: 0.7959\n",
            "Epoch 278/500\n",
            "13/13 [==============================] - 2s 147ms/step - loss: 0.0043 - accuracy: 0.9975 - val_loss: 1.9773 - val_accuracy: 0.8163\n",
            "Epoch 279/500\n",
            "13/13 [==============================] - 2s 146ms/step - loss: 0.0108 - accuracy: 0.9975 - val_loss: 2.0097 - val_accuracy: 0.8367\n",
            "Epoch 280/500\n",
            "13/13 [==============================] - 2s 145ms/step - loss: 0.0048 - accuracy: 0.9975 - val_loss: 2.0034 - val_accuracy: 0.7755\n",
            "Epoch 281/500\n",
            "13/13 [==============================] - 2s 167ms/step - loss: 0.0013 - accuracy: 1.0000 - val_loss: 2.2455 - val_accuracy: 0.7143\n",
            "Epoch 282/500\n",
            "13/13 [==============================] - 3s 262ms/step - loss: 5.9984e-04 - accuracy: 1.0000 - val_loss: 2.2250 - val_accuracy: 0.7551\n",
            "Epoch 283/500\n",
            "13/13 [==============================] - 2s 163ms/step - loss: 2.8648e-04 - accuracy: 1.0000 - val_loss: 2.2080 - val_accuracy: 0.7551\n",
            "Epoch 284/500\n",
            "13/13 [==============================] - 2s 146ms/step - loss: 6.9398e-04 - accuracy: 1.0000 - val_loss: 2.1494 - val_accuracy: 0.7755\n",
            "Epoch 285/500\n",
            "13/13 [==============================] - 2s 147ms/step - loss: 5.5027e-04 - accuracy: 1.0000 - val_loss: 1.9873 - val_accuracy: 0.8163\n",
            "Epoch 286/500\n",
            "13/13 [==============================] - 2s 144ms/step - loss: 5.8049e-04 - accuracy: 1.0000 - val_loss: 1.9000 - val_accuracy: 0.7959\n",
            "Epoch 287/500\n",
            "13/13 [==============================] - 2s 144ms/step - loss: 5.4570e-04 - accuracy: 1.0000 - val_loss: 1.9120 - val_accuracy: 0.7959\n",
            "Epoch 288/500\n",
            "13/13 [==============================] - 2s 193ms/step - loss: 4.1938e-05 - accuracy: 1.0000 - val_loss: 1.9197 - val_accuracy: 0.7959\n",
            "Epoch 289/500\n",
            "13/13 [==============================] - 3s 259ms/step - loss: 1.5765e-04 - accuracy: 1.0000 - val_loss: 1.9193 - val_accuracy: 0.7959\n",
            "Epoch 290/500\n",
            "13/13 [==============================] - 2s 146ms/step - loss: 9.9280e-05 - accuracy: 1.0000 - val_loss: 1.9078 - val_accuracy: 0.7959\n",
            "Epoch 291/500\n",
            "13/13 [==============================] - 2s 150ms/step - loss: 2.3418e-04 - accuracy: 1.0000 - val_loss: 1.9046 - val_accuracy: 0.8163\n",
            "Epoch 292/500\n",
            "13/13 [==============================] - 2s 149ms/step - loss: 1.5655e-04 - accuracy: 1.0000 - val_loss: 1.8953 - val_accuracy: 0.8163\n",
            "Epoch 293/500\n",
            "13/13 [==============================] - 2s 147ms/step - loss: 2.0906e-04 - accuracy: 1.0000 - val_loss: 1.8753 - val_accuracy: 0.8163\n",
            "Epoch 294/500\n",
            "13/13 [==============================] - 2s 147ms/step - loss: 5.3041e-05 - accuracy: 1.0000 - val_loss: 1.8766 - val_accuracy: 0.8163\n",
            "Epoch 295/500\n",
            "13/13 [==============================] - 3s 236ms/step - loss: 1.5169e-05 - accuracy: 1.0000 - val_loss: 1.8735 - val_accuracy: 0.8163\n",
            "Epoch 296/500\n",
            "13/13 [==============================] - 3s 223ms/step - loss: 0.0049 - accuracy: 0.9975 - val_loss: 1.8603 - val_accuracy: 0.8163\n",
            "Epoch 297/500\n",
            "13/13 [==============================] - 2s 146ms/step - loss: 0.0086 - accuracy: 0.9975 - val_loss: 1.7679 - val_accuracy: 0.8367\n",
            "Epoch 298/500\n",
            "13/13 [==============================] - 2s 145ms/step - loss: 7.5164e-04 - accuracy: 1.0000 - val_loss: 2.0508 - val_accuracy: 0.7959\n",
            "Epoch 299/500\n",
            "13/13 [==============================] - 2s 145ms/step - loss: 0.0058 - accuracy: 0.9949 - val_loss: 2.1008 - val_accuracy: 0.7959\n",
            "Epoch 300/500\n",
            "13/13 [==============================] - 2s 144ms/step - loss: 0.0037 - accuracy: 0.9975 - val_loss: 2.0411 - val_accuracy: 0.7959\n",
            "Epoch 301/500\n",
            "13/13 [==============================] - 2s 151ms/step - loss: 2.0478e-04 - accuracy: 1.0000 - val_loss: 1.9184 - val_accuracy: 0.7959\n",
            "Epoch 302/500\n",
            "13/13 [==============================] - 4s 270ms/step - loss: 4.1577e-04 - accuracy: 1.0000 - val_loss: 1.9003 - val_accuracy: 0.7959\n",
            "Epoch 303/500\n",
            "13/13 [==============================] - 2s 174ms/step - loss: 1.8907e-04 - accuracy: 1.0000 - val_loss: 1.9060 - val_accuracy: 0.8163\n",
            "Epoch 304/500\n",
            "13/13 [==============================] - 2s 148ms/step - loss: 1.0666e-04 - accuracy: 1.0000 - val_loss: 1.9156 - val_accuracy: 0.8163\n",
            "Epoch 305/500\n",
            "13/13 [==============================] - 2s 152ms/step - loss: 0.0092 - accuracy: 0.9949 - val_loss: 2.1204 - val_accuracy: 0.8163\n",
            "Epoch 306/500\n",
            "13/13 [==============================] - 2s 144ms/step - loss: 2.6462e-04 - accuracy: 1.0000 - val_loss: 2.4394 - val_accuracy: 0.7551\n",
            "Epoch 307/500\n",
            "13/13 [==============================] - 2s 146ms/step - loss: 0.0066 - accuracy: 0.9975 - val_loss: 2.2325 - val_accuracy: 0.7959\n",
            "Epoch 308/500\n",
            "13/13 [==============================] - 3s 200ms/step - loss: 3.5288e-04 - accuracy: 1.0000 - val_loss: 2.1150 - val_accuracy: 0.8163\n",
            "Epoch 309/500\n",
            "13/13 [==============================] - 3s 259ms/step - loss: 0.0044 - accuracy: 0.9975 - val_loss: 1.9871 - val_accuracy: 0.7959\n",
            "Epoch 310/500\n",
            "13/13 [==============================] - 2s 147ms/step - loss: 0.0110 - accuracy: 0.9975 - val_loss: 2.6832 - val_accuracy: 0.7551\n",
            "Epoch 311/500\n",
            "13/13 [==============================] - 2s 149ms/step - loss: 0.0161 - accuracy: 0.9975 - val_loss: 1.8611 - val_accuracy: 0.7959\n",
            "Epoch 312/500\n",
            "13/13 [==============================] - 2s 146ms/step - loss: 6.0650e-04 - accuracy: 1.0000 - val_loss: 1.8495 - val_accuracy: 0.7959\n",
            "Epoch 313/500\n",
            "13/13 [==============================] - 2s 147ms/step - loss: 0.0056 - accuracy: 0.9975 - val_loss: 1.8814 - val_accuracy: 0.7959\n",
            "Epoch 314/500\n",
            "13/13 [==============================] - 2s 147ms/step - loss: 0.0026 - accuracy: 0.9975 - val_loss: 2.1074 - val_accuracy: 0.7959\n",
            "Epoch 315/500\n",
            "13/13 [==============================] - 3s 247ms/step - loss: 0.0328 - accuracy: 0.9949 - val_loss: 2.7619 - val_accuracy: 0.7551\n",
            "Epoch 316/500\n",
            "13/13 [==============================] - 3s 212ms/step - loss: 0.0178 - accuracy: 0.9899 - val_loss: 2.0221 - val_accuracy: 0.7959\n",
            "Epoch 317/500\n",
            "13/13 [==============================] - 2s 148ms/step - loss: 0.0256 - accuracy: 0.9924 - val_loss: 2.6731 - val_accuracy: 0.6735\n",
            "Epoch 318/500\n",
            "13/13 [==============================] - 2s 147ms/step - loss: 0.0294 - accuracy: 0.9899 - val_loss: 2.1448 - val_accuracy: 0.7347\n",
            "Epoch 319/500\n",
            "13/13 [==============================] - 2s 146ms/step - loss: 0.0053 - accuracy: 0.9975 - val_loss: 2.5637 - val_accuracy: 0.7347\n",
            "Epoch 320/500\n",
            "13/13 [==============================] - 2s 145ms/step - loss: 0.0257 - accuracy: 0.9975 - val_loss: 2.3204 - val_accuracy: 0.7551\n",
            "Epoch 321/500\n",
            "13/13 [==============================] - 2s 161ms/step - loss: 7.8079e-04 - accuracy: 1.0000 - val_loss: 2.3959 - val_accuracy: 0.7755\n",
            "Epoch 322/500\n",
            "13/13 [==============================] - 3s 266ms/step - loss: 2.1685e-04 - accuracy: 1.0000 - val_loss: 2.4720 - val_accuracy: 0.7551\n",
            "Epoch 323/500\n",
            "13/13 [==============================] - 2s 167ms/step - loss: 2.8964e-04 - accuracy: 1.0000 - val_loss: 2.4875 - val_accuracy: 0.7551\n",
            "Epoch 324/500\n",
            "13/13 [==============================] - 2s 148ms/step - loss: 2.4124e-04 - accuracy: 1.0000 - val_loss: 2.4574 - val_accuracy: 0.7551\n",
            "Epoch 325/500\n",
            "13/13 [==============================] - 2s 149ms/step - loss: 6.5308e-04 - accuracy: 1.0000 - val_loss: 2.4492 - val_accuracy: 0.7551\n",
            "Epoch 326/500\n",
            "13/13 [==============================] - 2s 146ms/step - loss: 1.3259e-04 - accuracy: 1.0000 - val_loss: 2.4498 - val_accuracy: 0.7551\n",
            "Epoch 327/500\n",
            "13/13 [==============================] - 2s 154ms/step - loss: 1.7969e-04 - accuracy: 1.0000 - val_loss: 2.4225 - val_accuracy: 0.7551\n",
            "Epoch 328/500\n",
            "13/13 [==============================] - 3s 217ms/step - loss: 1.9083e-04 - accuracy: 1.0000 - val_loss: 2.4101 - val_accuracy: 0.7755\n",
            "Epoch 329/500\n",
            "13/13 [==============================] - 3s 250ms/step - loss: 0.0088 - accuracy: 0.9975 - val_loss: 2.4792 - val_accuracy: 0.7959\n",
            "Epoch 330/500\n",
            "13/13 [==============================] - 2s 150ms/step - loss: 0.0044 - accuracy: 0.9975 - val_loss: 2.1545 - val_accuracy: 0.7755\n",
            "Epoch 331/500\n",
            "13/13 [==============================] - 2s 148ms/step - loss: 0.0062 - accuracy: 0.9975 - val_loss: 2.2171 - val_accuracy: 0.7755\n",
            "Epoch 332/500\n",
            "13/13 [==============================] - 2s 148ms/step - loss: 0.0042 - accuracy: 0.9975 - val_loss: 2.3888 - val_accuracy: 0.7143\n",
            "Epoch 333/500\n",
            "13/13 [==============================] - 2s 154ms/step - loss: 0.0131 - accuracy: 0.9975 - val_loss: 2.2424 - val_accuracy: 0.7755\n",
            "Epoch 334/500\n",
            "13/13 [==============================] - 2s 148ms/step - loss: 0.0022 - accuracy: 0.9975 - val_loss: 2.0221 - val_accuracy: 0.7551\n",
            "Epoch 335/500\n",
            "13/13 [==============================] - 3s 268ms/step - loss: 0.0011 - accuracy: 1.0000 - val_loss: 1.8937 - val_accuracy: 0.7755\n",
            "Epoch 336/500\n",
            "13/13 [==============================] - 3s 200ms/step - loss: 6.4087e-04 - accuracy: 1.0000 - val_loss: 1.9601 - val_accuracy: 0.7551\n",
            "Epoch 337/500\n",
            "13/13 [==============================] - 2s 151ms/step - loss: 0.0118 - accuracy: 0.9975 - val_loss: 1.8421 - val_accuracy: 0.7551\n",
            "Epoch 338/500\n",
            "13/13 [==============================] - 2s 148ms/step - loss: 0.0122 - accuracy: 0.9949 - val_loss: 1.7803 - val_accuracy: 0.7347\n",
            "Epoch 339/500\n",
            "13/13 [==============================] - 2s 147ms/step - loss: 3.8908e-05 - accuracy: 1.0000 - val_loss: 1.9923 - val_accuracy: 0.7755\n",
            "Epoch 340/500\n",
            "13/13 [==============================] - 2s 148ms/step - loss: 0.0010 - accuracy: 1.0000 - val_loss: 2.0517 - val_accuracy: 0.7347\n",
            "Epoch 341/500\n",
            "13/13 [==============================] - 2s 194ms/step - loss: 1.3154e-04 - accuracy: 1.0000 - val_loss: 2.0874 - val_accuracy: 0.7143\n",
            "Epoch 342/500\n",
            "13/13 [==============================] - 4s 272ms/step - loss: 9.4374e-04 - accuracy: 1.0000 - val_loss: 2.0313 - val_accuracy: 0.7347\n",
            "Epoch 343/500\n",
            "13/13 [==============================] - 2s 149ms/step - loss: 1.1343e-04 - accuracy: 1.0000 - val_loss: 2.0131 - val_accuracy: 0.7347\n",
            "Epoch 344/500\n",
            "13/13 [==============================] - 2s 149ms/step - loss: 8.1811e-04 - accuracy: 1.0000 - val_loss: 1.9316 - val_accuracy: 0.7347\n",
            "Epoch 345/500\n",
            "13/13 [==============================] - 2s 147ms/step - loss: 4.2118e-05 - accuracy: 1.0000 - val_loss: 1.9028 - val_accuracy: 0.7347\n",
            "Epoch 346/500\n",
            "13/13 [==============================] - 2s 145ms/step - loss: 3.7954e-04 - accuracy: 1.0000 - val_loss: 1.8204 - val_accuracy: 0.7347\n",
            "Epoch 347/500\n",
            "13/13 [==============================] - 2s 149ms/step - loss: 0.0020 - accuracy: 0.9975 - val_loss: 1.9538 - val_accuracy: 0.7347\n",
            "Epoch 348/500\n",
            "13/13 [==============================] - 3s 245ms/step - loss: 7.9608e-04 - accuracy: 1.0000 - val_loss: 2.3016 - val_accuracy: 0.7347\n",
            "Epoch 349/500\n",
            "13/13 [==============================] - 3s 216ms/step - loss: 0.0094 - accuracy: 0.9975 - val_loss: 1.5820 - val_accuracy: 0.7551\n",
            "Epoch 350/500\n",
            "13/13 [==============================] - 2s 146ms/step - loss: 8.8812e-05 - accuracy: 1.0000 - val_loss: 1.6272 - val_accuracy: 0.6939\n",
            "Epoch 351/500\n",
            "13/13 [==============================] - 2s 147ms/step - loss: 3.7967e-04 - accuracy: 1.0000 - val_loss: 1.6669 - val_accuracy: 0.7143\n",
            "Epoch 352/500\n",
            "13/13 [==============================] - 2s 147ms/step - loss: 0.0018 - accuracy: 1.0000 - val_loss: 1.4023 - val_accuracy: 0.7755\n",
            "Epoch 353/500\n",
            "13/13 [==============================] - 2s 147ms/step - loss: 2.6183e-04 - accuracy: 1.0000 - val_loss: 1.4318 - val_accuracy: 0.7959\n",
            "Epoch 354/500\n",
            "13/13 [==============================] - 2s 161ms/step - loss: 8.6604e-05 - accuracy: 1.0000 - val_loss: 1.4608 - val_accuracy: 0.7959\n",
            "Epoch 355/500\n",
            "13/13 [==============================] - 4s 273ms/step - loss: 1.6664e-05 - accuracy: 1.0000 - val_loss: 1.4654 - val_accuracy: 0.7959\n",
            "Epoch 356/500\n",
            "13/13 [==============================] - 2s 166ms/step - loss: 1.1458e-04 - accuracy: 1.0000 - val_loss: 1.4575 - val_accuracy: 0.7959\n",
            "Epoch 357/500\n",
            "13/13 [==============================] - 2s 147ms/step - loss: 4.6805e-05 - accuracy: 1.0000 - val_loss: 1.4482 - val_accuracy: 0.7959\n",
            "Epoch 358/500\n",
            "13/13 [==============================] - 2s 148ms/step - loss: 3.3683e-05 - accuracy: 1.0000 - val_loss: 1.4434 - val_accuracy: 0.8163\n",
            "Epoch 359/500\n",
            "13/13 [==============================] - 2s 149ms/step - loss: 1.0640e-05 - accuracy: 1.0000 - val_loss: 1.4404 - val_accuracy: 0.8163\n",
            "Epoch 360/500\n",
            "13/13 [==============================] - 2s 149ms/step - loss: 8.4757e-04 - accuracy: 1.0000 - val_loss: 1.5247 - val_accuracy: 0.7959\n",
            "Epoch 361/500\n",
            "13/13 [==============================] - 3s 214ms/step - loss: 4.1520e-05 - accuracy: 1.0000 - val_loss: 1.6758 - val_accuracy: 0.7551\n",
            "Epoch 362/500\n",
            "13/13 [==============================] - 3s 248ms/step - loss: 1.0714e-05 - accuracy: 1.0000 - val_loss: 1.7276 - val_accuracy: 0.7551\n",
            "Epoch 363/500\n",
            "13/13 [==============================] - 2s 150ms/step - loss: 8.0121e-06 - accuracy: 1.0000 - val_loss: 1.7399 - val_accuracy: 0.7551\n",
            "Epoch 364/500\n",
            "13/13 [==============================] - 2s 150ms/step - loss: 2.4397e-05 - accuracy: 1.0000 - val_loss: 1.7387 - val_accuracy: 0.7551\n",
            "Epoch 365/500\n",
            "13/13 [==============================] - 2s 150ms/step - loss: 7.4415e-05 - accuracy: 1.0000 - val_loss: 1.7190 - val_accuracy: 0.7551\n",
            "Epoch 366/500\n",
            "13/13 [==============================] - 2s 149ms/step - loss: 5.2106e-05 - accuracy: 1.0000 - val_loss: 1.6997 - val_accuracy: 0.7959\n",
            "Epoch 367/500\n",
            "13/13 [==============================] - 2s 156ms/step - loss: 9.0229e-06 - accuracy: 1.0000 - val_loss: 1.6964 - val_accuracy: 0.7959\n",
            "Epoch 368/500\n",
            "13/13 [==============================] - 3s 261ms/step - loss: 1.8368e-05 - accuracy: 1.0000 - val_loss: 1.6948 - val_accuracy: 0.7959\n",
            "Epoch 369/500\n",
            "13/13 [==============================] - 3s 188ms/step - loss: 3.2269e-05 - accuracy: 1.0000 - val_loss: 1.6979 - val_accuracy: 0.8163\n",
            "Epoch 370/500\n",
            "13/13 [==============================] - 2s 149ms/step - loss: 6.0072e-06 - accuracy: 1.0000 - val_loss: 1.6987 - val_accuracy: 0.8163\n",
            "Epoch 371/500\n",
            "13/13 [==============================] - 2s 152ms/step - loss: 1.8455e-05 - accuracy: 1.0000 - val_loss: 1.6954 - val_accuracy: 0.8163\n",
            "Epoch 372/500\n",
            "13/13 [==============================] - 2s 151ms/step - loss: 2.5228e-06 - accuracy: 1.0000 - val_loss: 1.6935 - val_accuracy: 0.8163\n",
            "Epoch 373/500\n",
            "13/13 [==============================] - 2s 146ms/step - loss: 8.3274e-06 - accuracy: 1.0000 - val_loss: 1.6944 - val_accuracy: 0.8163\n",
            "Epoch 374/500\n",
            "13/13 [==============================] - 3s 208ms/step - loss: 3.2910e-06 - accuracy: 1.0000 - val_loss: 1.6969 - val_accuracy: 0.8163\n",
            "Epoch 375/500\n",
            "13/13 [==============================] - 3s 260ms/step - loss: 9.1960e-06 - accuracy: 1.0000 - val_loss: 1.6988 - val_accuracy: 0.8163\n",
            "Epoch 376/500\n",
            "13/13 [==============================] - 2s 152ms/step - loss: 3.9046e-05 - accuracy: 1.0000 - val_loss: 1.6970 - val_accuracy: 0.8163\n",
            "Epoch 377/500\n",
            "13/13 [==============================] - 2s 149ms/step - loss: 6.7394e-05 - accuracy: 1.0000 - val_loss: 1.6924 - val_accuracy: 0.7959\n",
            "Epoch 378/500\n",
            "13/13 [==============================] - 2s 148ms/step - loss: 1.2196e-05 - accuracy: 1.0000 - val_loss: 1.6962 - val_accuracy: 0.7959\n",
            "Epoch 379/500\n",
            "13/13 [==============================] - 2s 147ms/step - loss: 1.0406e-04 - accuracy: 1.0000 - val_loss: 1.6968 - val_accuracy: 0.8163\n",
            "Epoch 380/500\n",
            "13/13 [==============================] - 2s 146ms/step - loss: 2.1396e-05 - accuracy: 1.0000 - val_loss: 1.6981 - val_accuracy: 0.7959\n",
            "Epoch 381/500\n",
            "13/13 [==============================] - 3s 249ms/step - loss: 3.3552e-05 - accuracy: 1.0000 - val_loss: 1.6938 - val_accuracy: 0.7959\n",
            "Epoch 382/500\n",
            "13/13 [==============================] - 3s 210ms/step - loss: 3.7307e-06 - accuracy: 1.0000 - val_loss: 1.6934 - val_accuracy: 0.7755\n",
            "Epoch 383/500\n",
            "13/13 [==============================] - 2s 146ms/step - loss: 2.6940e-05 - accuracy: 1.0000 - val_loss: 1.7007 - val_accuracy: 0.7755\n",
            "Epoch 384/500\n",
            "13/13 [==============================] - 2s 147ms/step - loss: 5.9172e-06 - accuracy: 1.0000 - val_loss: 1.7051 - val_accuracy: 0.7755\n",
            "Epoch 385/500\n",
            "13/13 [==============================] - 2s 147ms/step - loss: 1.9169e-05 - accuracy: 1.0000 - val_loss: 1.7091 - val_accuracy: 0.7755\n",
            "Epoch 386/500\n",
            "13/13 [==============================] - 2s 148ms/step - loss: 6.0774e-06 - accuracy: 1.0000 - val_loss: 1.7149 - val_accuracy: 0.7755\n",
            "Epoch 387/500\n",
            "13/13 [==============================] - 2s 162ms/step - loss: 7.6732e-06 - accuracy: 1.0000 - val_loss: 1.7184 - val_accuracy: 0.7755\n",
            "Epoch 388/500\n",
            "13/13 [==============================] - 3s 266ms/step - loss: 6.3865e-04 - accuracy: 1.0000 - val_loss: 1.8031 - val_accuracy: 0.7755\n",
            "Epoch 389/500\n",
            "13/13 [==============================] - 2s 169ms/step - loss: 2.7723e-06 - accuracy: 1.0000 - val_loss: 1.8482 - val_accuracy: 0.7755\n",
            "Epoch 390/500\n",
            "13/13 [==============================] - 2s 147ms/step - loss: 1.5730e-05 - accuracy: 1.0000 - val_loss: 1.8588 - val_accuracy: 0.7755\n",
            "Epoch 391/500\n",
            "13/13 [==============================] - 2s 150ms/step - loss: 2.6679e-05 - accuracy: 1.0000 - val_loss: 1.8629 - val_accuracy: 0.7755\n",
            "Epoch 392/500\n",
            "13/13 [==============================] - 2s 149ms/step - loss: 8.5503e-04 - accuracy: 1.0000 - val_loss: 1.7508 - val_accuracy: 0.7959\n",
            "Epoch 393/500\n",
            "13/13 [==============================] - 2s 148ms/step - loss: 1.2213e-04 - accuracy: 1.0000 - val_loss: 1.7101 - val_accuracy: 0.7959\n",
            "Epoch 394/500\n",
            "13/13 [==============================] - 3s 202ms/step - loss: 6.2733e-05 - accuracy: 1.0000 - val_loss: 1.6994 - val_accuracy: 0.7959\n",
            "Epoch 395/500\n",
            "13/13 [==============================] - 3s 259ms/step - loss: 1.1591e-04 - accuracy: 1.0000 - val_loss: 1.7012 - val_accuracy: 0.7959\n",
            "Epoch 396/500\n",
            "13/13 [==============================] - 2s 149ms/step - loss: 1.9089e-05 - accuracy: 1.0000 - val_loss: 1.7037 - val_accuracy: 0.7959\n",
            "Epoch 397/500\n",
            "13/13 [==============================] - 2s 149ms/step - loss: 1.7924e-05 - accuracy: 1.0000 - val_loss: 1.7056 - val_accuracy: 0.7959\n",
            "Epoch 398/500\n",
            "13/13 [==============================] - 2s 147ms/step - loss: 3.9248e-05 - accuracy: 1.0000 - val_loss: 1.7079 - val_accuracy: 0.7959\n",
            "Epoch 399/500\n",
            "13/13 [==============================] - 2s 149ms/step - loss: 0.0010 - accuracy: 1.0000 - val_loss: 1.7223 - val_accuracy: 0.7959\n",
            "Epoch 400/500\n",
            "13/13 [==============================] - 2s 148ms/step - loss: 8.4379e-06 - accuracy: 1.0000 - val_loss: 1.7586 - val_accuracy: 0.7959\n",
            "Epoch 401/500\n",
            "13/13 [==============================] - 3s 253ms/step - loss: 1.9292e-05 - accuracy: 1.0000 - val_loss: 1.7713 - val_accuracy: 0.7959\n",
            "Epoch 402/500\n",
            "13/13 [==============================] - 3s 206ms/step - loss: 2.6791e-05 - accuracy: 1.0000 - val_loss: 1.7685 - val_accuracy: 0.7755\n",
            "Epoch 403/500\n",
            "13/13 [==============================] - 2s 148ms/step - loss: 2.7805e-05 - accuracy: 1.0000 - val_loss: 1.7638 - val_accuracy: 0.7755\n",
            "Epoch 404/500\n",
            "13/13 [==============================] - 2s 149ms/step - loss: 1.9755e-05 - accuracy: 1.0000 - val_loss: 1.7586 - val_accuracy: 0.7959\n",
            "Epoch 405/500\n",
            "13/13 [==============================] - 2s 147ms/step - loss: 2.3870e-05 - accuracy: 1.0000 - val_loss: 1.7518 - val_accuracy: 0.7959\n",
            "Epoch 406/500\n",
            "13/13 [==============================] - 2s 146ms/step - loss: 0.0051 - accuracy: 0.9975 - val_loss: 1.8474 - val_accuracy: 0.7755\n",
            "Epoch 407/500\n",
            "13/13 [==============================] - 2s 163ms/step - loss: 0.0023 - accuracy: 1.0000 - val_loss: 1.9260 - val_accuracy: 0.7551\n",
            "Epoch 408/500\n",
            "13/13 [==============================] - 3s 258ms/step - loss: 3.2731e-04 - accuracy: 1.0000 - val_loss: 1.8899 - val_accuracy: 0.7755\n",
            "Epoch 409/500\n",
            "13/13 [==============================] - 2s 180ms/step - loss: 0.0019 - accuracy: 1.0000 - val_loss: 1.8184 - val_accuracy: 0.7959\n",
            "Epoch 410/500\n",
            "13/13 [==============================] - 2s 147ms/step - loss: 1.0894e-04 - accuracy: 1.0000 - val_loss: 1.8011 - val_accuracy: 0.7755\n",
            "Epoch 411/500\n",
            "13/13 [==============================] - 2s 148ms/step - loss: 3.0404e-05 - accuracy: 1.0000 - val_loss: 1.8008 - val_accuracy: 0.7755\n",
            "Epoch 412/500\n",
            "13/13 [==============================] - 2s 147ms/step - loss: 6.7829e-05 - accuracy: 1.0000 - val_loss: 1.8012 - val_accuracy: 0.7755\n",
            "Epoch 413/500\n",
            "13/13 [==============================] - 2s 148ms/step - loss: 5.7253e-05 - accuracy: 1.0000 - val_loss: 1.7988 - val_accuracy: 0.7755\n",
            "Epoch 414/500\n",
            "13/13 [==============================] - 3s 208ms/step - loss: 3.2233e-04 - accuracy: 1.0000 - val_loss: 1.8286 - val_accuracy: 0.7755\n",
            "Epoch 415/500\n",
            "13/13 [==============================] - 3s 254ms/step - loss: 1.2756e-04 - accuracy: 1.0000 - val_loss: 1.8443 - val_accuracy: 0.7755\n",
            "Epoch 416/500\n",
            "13/13 [==============================] - 2s 149ms/step - loss: 1.5191e-05 - accuracy: 1.0000 - val_loss: 1.8467 - val_accuracy: 0.7959\n",
            "Epoch 417/500\n",
            "13/13 [==============================] - 2s 148ms/step - loss: 3.6817e-05 - accuracy: 1.0000 - val_loss: 1.8477 - val_accuracy: 0.7959\n",
            "Epoch 418/500\n",
            "13/13 [==============================] - 2s 149ms/step - loss: 3.1141e-05 - accuracy: 1.0000 - val_loss: 1.8487 - val_accuracy: 0.7959\n",
            "Epoch 419/500\n",
            "13/13 [==============================] - 2s 147ms/step - loss: 8.6694e-05 - accuracy: 1.0000 - val_loss: 1.8421 - val_accuracy: 0.7959\n",
            "Epoch 420/500\n",
            "13/13 [==============================] - 2s 147ms/step - loss: 1.3993e-05 - accuracy: 1.0000 - val_loss: 1.8373 - val_accuracy: 0.7959\n",
            "Epoch 421/500\n",
            "13/13 [==============================] - 3s 255ms/step - loss: 2.1570e-05 - accuracy: 1.0000 - val_loss: 1.8362 - val_accuracy: 0.7959\n",
            "Epoch 422/500\n",
            "13/13 [==============================] - 3s 211ms/step - loss: 4.4746e-05 - accuracy: 1.0000 - val_loss: 1.8384 - val_accuracy: 0.7959\n",
            "Epoch 423/500\n",
            "13/13 [==============================] - 2s 148ms/step - loss: 7.6888e-06 - accuracy: 1.0000 - val_loss: 1.8403 - val_accuracy: 0.7959\n",
            "Epoch 424/500\n",
            "13/13 [==============================] - 2s 148ms/step - loss: 6.3338e-05 - accuracy: 1.0000 - val_loss: 1.8356 - val_accuracy: 0.7959\n",
            "Epoch 425/500\n",
            "13/13 [==============================] - 2s 148ms/step - loss: 7.5354e-06 - accuracy: 1.0000 - val_loss: 1.8302 - val_accuracy: 0.7959\n",
            "Epoch 426/500\n",
            "13/13 [==============================] - 2s 150ms/step - loss: 9.3742e-06 - accuracy: 1.0000 - val_loss: 1.8288 - val_accuracy: 0.7959\n",
            "Epoch 427/500\n",
            "13/13 [==============================] - 2s 168ms/step - loss: 7.7252e-05 - accuracy: 1.0000 - val_loss: 1.8286 - val_accuracy: 0.7959\n",
            "Epoch 428/500\n",
            "13/13 [==============================] - 3s 253ms/step - loss: 2.3971e-05 - accuracy: 1.0000 - val_loss: 1.8277 - val_accuracy: 0.7959\n",
            "Epoch 429/500\n",
            "13/13 [==============================] - 2s 177ms/step - loss: 2.6902e-04 - accuracy: 1.0000 - val_loss: 1.7942 - val_accuracy: 0.7959\n",
            "Epoch 430/500\n",
            "13/13 [==============================] - 2s 148ms/step - loss: 4.7891e-05 - accuracy: 1.0000 - val_loss: 1.7710 - val_accuracy: 0.7959\n",
            "Epoch 431/500\n",
            "13/13 [==============================] - 2s 150ms/step - loss: 1.7056e-05 - accuracy: 1.0000 - val_loss: 1.7649 - val_accuracy: 0.7959\n",
            "Epoch 432/500\n",
            "13/13 [==============================] - 2s 147ms/step - loss: 1.9608e-04 - accuracy: 1.0000 - val_loss: 1.8291 - val_accuracy: 0.7755\n",
            "Epoch 433/500\n",
            "13/13 [==============================] - 2s 149ms/step - loss: 3.1976e-04 - accuracy: 1.0000 - val_loss: 1.8450 - val_accuracy: 0.7755\n",
            "Epoch 434/500\n",
            "13/13 [==============================] - 3s 209ms/step - loss: 6.4397e-05 - accuracy: 1.0000 - val_loss: 1.8495 - val_accuracy: 0.7755\n",
            "Epoch 435/500\n",
            "13/13 [==============================] - 3s 256ms/step - loss: 1.6425e-05 - accuracy: 1.0000 - val_loss: 1.8523 - val_accuracy: 0.7755\n",
            "Epoch 436/500\n",
            "13/13 [==============================] - 2s 147ms/step - loss: 1.8088e-06 - accuracy: 1.0000 - val_loss: 1.8532 - val_accuracy: 0.7755\n",
            "Epoch 437/500\n",
            "13/13 [==============================] - 2s 145ms/step - loss: 2.2046e-05 - accuracy: 1.0000 - val_loss: 1.8554 - val_accuracy: 0.7755\n",
            "Epoch 438/500\n",
            "13/13 [==============================] - 2s 146ms/step - loss: 1.9978e-05 - accuracy: 1.0000 - val_loss: 1.8622 - val_accuracy: 0.7755\n",
            "Epoch 439/500\n",
            "13/13 [==============================] - 2s 146ms/step - loss: 1.4460e-04 - accuracy: 1.0000 - val_loss: 1.8562 - val_accuracy: 0.7755\n",
            "Epoch 440/500\n",
            "13/13 [==============================] - 2s 149ms/step - loss: 5.1723e-05 - accuracy: 1.0000 - val_loss: 1.8525 - val_accuracy: 0.7755\n",
            "Epoch 441/500\n",
            "13/13 [==============================] - 3s 239ms/step - loss: 0.0014 - accuracy: 1.0000 - val_loss: 1.8546 - val_accuracy: 0.7755\n",
            "Epoch 442/500\n",
            "13/13 [==============================] - 3s 230ms/step - loss: 2.5910e-05 - accuracy: 1.0000 - val_loss: 1.8855 - val_accuracy: 0.7551\n",
            "Epoch 443/500\n",
            "13/13 [==============================] - 2s 151ms/step - loss: 1.0672e-04 - accuracy: 1.0000 - val_loss: 1.8925 - val_accuracy: 0.7551\n",
            "Epoch 444/500\n",
            "13/13 [==============================] - 2s 148ms/step - loss: 3.0457e-05 - accuracy: 1.0000 - val_loss: 1.8905 - val_accuracy: 0.7755\n",
            "Epoch 445/500\n",
            "13/13 [==============================] - 2s 149ms/step - loss: 8.4485e-05 - accuracy: 1.0000 - val_loss: 1.8857 - val_accuracy: 0.7755\n",
            "Epoch 446/500\n",
            "13/13 [==============================] - 2s 148ms/step - loss: 5.5218e-05 - accuracy: 1.0000 - val_loss: 1.8773 - val_accuracy: 0.7755\n",
            "Epoch 447/500\n",
            "13/13 [==============================] - 2s 165ms/step - loss: 3.4557e-06 - accuracy: 1.0000 - val_loss: 1.8640 - val_accuracy: 0.7755\n",
            "Epoch 448/500\n",
            "13/13 [==============================] - 3s 266ms/step - loss: 6.5658e-06 - accuracy: 1.0000 - val_loss: 1.8596 - val_accuracy: 0.7755\n",
            "Epoch 449/500\n",
            "13/13 [==============================] - 2s 175ms/step - loss: 5.8562e-05 - accuracy: 1.0000 - val_loss: 1.8555 - val_accuracy: 0.7755\n",
            "Epoch 450/500\n",
            "13/13 [==============================] - 2s 150ms/step - loss: 1.8173e-04 - accuracy: 1.0000 - val_loss: 1.8580 - val_accuracy: 0.7755\n",
            "Epoch 451/500\n",
            "13/13 [==============================] - 2s 148ms/step - loss: 1.3715e-05 - accuracy: 1.0000 - val_loss: 1.8594 - val_accuracy: 0.7755\n",
            "Epoch 452/500\n",
            "13/13 [==============================] - 2s 148ms/step - loss: 1.8361e-05 - accuracy: 1.0000 - val_loss: 1.8586 - val_accuracy: 0.7755\n",
            "Epoch 453/500\n",
            "13/13 [==============================] - 2s 147ms/step - loss: 4.4390e-06 - accuracy: 1.0000 - val_loss: 1.8583 - val_accuracy: 0.7755\n",
            "Epoch 454/500\n",
            "13/13 [==============================] - 3s 227ms/step - loss: 2.5457e-05 - accuracy: 1.0000 - val_loss: 1.8568 - val_accuracy: 0.7755\n",
            "Epoch 455/500\n",
            "13/13 [==============================] - 3s 243ms/step - loss: 1.4084e-06 - accuracy: 1.0000 - val_loss: 1.8552 - val_accuracy: 0.7755\n",
            "Epoch 456/500\n",
            "13/13 [==============================] - 2s 149ms/step - loss: 4.9039e-06 - accuracy: 1.0000 - val_loss: 1.8545 - val_accuracy: 0.7755\n",
            "Epoch 457/500\n",
            "13/13 [==============================] - 2s 151ms/step - loss: 1.4703e-05 - accuracy: 1.0000 - val_loss: 1.8557 - val_accuracy: 0.7755\n",
            "Epoch 458/500\n",
            "13/13 [==============================] - 2s 150ms/step - loss: 1.0157e-05 - accuracy: 1.0000 - val_loss: 1.8615 - val_accuracy: 0.7755\n",
            "Epoch 459/500\n",
            "13/13 [==============================] - 2s 149ms/step - loss: 2.4025e-06 - accuracy: 1.0000 - val_loss: 1.8629 - val_accuracy: 0.7755\n",
            "Epoch 460/500\n",
            "13/13 [==============================] - 2s 152ms/step - loss: 1.0324e-04 - accuracy: 1.0000 - val_loss: 1.8702 - val_accuracy: 0.7959\n",
            "Epoch 461/500\n",
            "13/13 [==============================] - 3s 263ms/step - loss: 1.3113e-05 - accuracy: 1.0000 - val_loss: 1.8707 - val_accuracy: 0.7959\n",
            "Epoch 462/500\n",
            "13/13 [==============================] - 3s 195ms/step - loss: 6.2692e-05 - accuracy: 1.0000 - val_loss: 1.8542 - val_accuracy: 0.7959\n",
            "Epoch 463/500\n",
            "13/13 [==============================] - 2s 152ms/step - loss: 2.6449e-06 - accuracy: 1.0000 - val_loss: 1.8508 - val_accuracy: 0.7959\n",
            "Epoch 464/500\n",
            "13/13 [==============================] - 2s 149ms/step - loss: 1.0300e-05 - accuracy: 1.0000 - val_loss: 1.8506 - val_accuracy: 0.7959\n",
            "Epoch 465/500\n",
            "13/13 [==============================] - 2s 148ms/step - loss: 3.5173e-06 - accuracy: 1.0000 - val_loss: 1.8506 - val_accuracy: 0.7959\n",
            "Epoch 466/500\n",
            "13/13 [==============================] - 2s 149ms/step - loss: 4.2093e-05 - accuracy: 1.0000 - val_loss: 1.8369 - val_accuracy: 0.7959\n",
            "Epoch 467/500\n",
            "13/13 [==============================] - 2s 191ms/step - loss: 1.4229e-06 - accuracy: 1.0000 - val_loss: 1.8330 - val_accuracy: 0.7959\n",
            "Epoch 468/500\n",
            "13/13 [==============================] - 4s 271ms/step - loss: 2.2431e-06 - accuracy: 1.0000 - val_loss: 1.8321 - val_accuracy: 0.7959\n",
            "Epoch 469/500\n",
            "13/13 [==============================] - 2s 149ms/step - loss: 1.3925e-05 - accuracy: 1.0000 - val_loss: 1.8321 - val_accuracy: 0.7959\n",
            "Epoch 470/500\n",
            "13/13 [==============================] - 2s 150ms/step - loss: 3.0883e-06 - accuracy: 1.0000 - val_loss: 1.8337 - val_accuracy: 0.7959\n",
            "Epoch 471/500\n",
            "13/13 [==============================] - 2s 151ms/step - loss: 2.9849e-06 - accuracy: 1.0000 - val_loss: 1.8338 - val_accuracy: 0.7959\n",
            "Epoch 472/500\n",
            "13/13 [==============================] - 2s 151ms/step - loss: 8.4764e-06 - accuracy: 1.0000 - val_loss: 1.8339 - val_accuracy: 0.7959\n",
            "Epoch 473/500\n",
            "13/13 [==============================] - 2s 148ms/step - loss: 1.4356e-06 - accuracy: 1.0000 - val_loss: 1.8348 - val_accuracy: 0.7959\n",
            "Epoch 474/500\n",
            "13/13 [==============================] - 3s 248ms/step - loss: 4.2595e-06 - accuracy: 1.0000 - val_loss: 1.8356 - val_accuracy: 0.7959\n",
            "Epoch 475/500\n",
            "13/13 [==============================] - 3s 221ms/step - loss: 3.3222e-06 - accuracy: 1.0000 - val_loss: 1.8359 - val_accuracy: 0.7959\n",
            "Epoch 476/500\n",
            "13/13 [==============================] - 2s 148ms/step - loss: 1.3643e-05 - accuracy: 1.0000 - val_loss: 1.8375 - val_accuracy: 0.7959\n",
            "Epoch 477/500\n",
            "13/13 [==============================] - 2s 153ms/step - loss: 1.9331e-06 - accuracy: 1.0000 - val_loss: 1.8386 - val_accuracy: 0.7959\n",
            "Epoch 478/500\n",
            "13/13 [==============================] - 2s 149ms/step - loss: 3.6499e-06 - accuracy: 1.0000 - val_loss: 1.8386 - val_accuracy: 0.7959\n",
            "Epoch 479/500\n",
            "13/13 [==============================] - 2s 146ms/step - loss: 1.2170e-06 - accuracy: 1.0000 - val_loss: 1.8384 - val_accuracy: 0.7959\n",
            "Epoch 480/500\n",
            "13/13 [==============================] - 2s 170ms/step - loss: 2.8732e-06 - accuracy: 1.0000 - val_loss: 1.8386 - val_accuracy: 0.7959\n",
            "Epoch 481/500\n",
            "13/13 [==============================] - 3s 262ms/step - loss: 4.2087e-06 - accuracy: 1.0000 - val_loss: 1.8387 - val_accuracy: 0.7959\n",
            "Epoch 482/500\n",
            "13/13 [==============================] - 2s 176ms/step - loss: 3.8337e-06 - accuracy: 1.0000 - val_loss: 1.8384 - val_accuracy: 0.7959\n",
            "Epoch 483/500\n",
            "13/13 [==============================] - 2s 149ms/step - loss: 7.5938e-06 - accuracy: 1.0000 - val_loss: 1.8384 - val_accuracy: 0.7959\n",
            "Epoch 484/500\n",
            "13/13 [==============================] - 2s 150ms/step - loss: 1.0864e-06 - accuracy: 1.0000 - val_loss: 1.8350 - val_accuracy: 0.7959\n",
            "Epoch 485/500\n",
            "13/13 [==============================] - 2s 148ms/step - loss: 1.0593e-06 - accuracy: 1.0000 - val_loss: 1.8341 - val_accuracy: 0.7959\n",
            "Epoch 486/500\n",
            "13/13 [==============================] - 2s 147ms/step - loss: 7.7634e-07 - accuracy: 1.0000 - val_loss: 1.8338 - val_accuracy: 0.7959\n",
            "Epoch 487/500\n",
            "13/13 [==============================] - 3s 208ms/step - loss: 2.4337e-06 - accuracy: 1.0000 - val_loss: 1.8334 - val_accuracy: 0.7959\n",
            "Epoch 488/500\n",
            "13/13 [==============================] - 3s 266ms/step - loss: 2.7915e-06 - accuracy: 1.0000 - val_loss: 1.8330 - val_accuracy: 0.7959\n",
            "Epoch 489/500\n",
            "13/13 [==============================] - 2s 150ms/step - loss: 6.7733e-06 - accuracy: 1.0000 - val_loss: 1.8323 - val_accuracy: 0.7959\n",
            "Epoch 490/500\n",
            "13/13 [==============================] - 2s 151ms/step - loss: 2.3079e-06 - accuracy: 1.0000 - val_loss: 1.8317 - val_accuracy: 0.7959\n",
            "Epoch 491/500\n",
            "13/13 [==============================] - 2s 149ms/step - loss: 2.5681e-06 - accuracy: 1.0000 - val_loss: 1.8314 - val_accuracy: 0.7959\n",
            "Epoch 492/500\n",
            "13/13 [==============================] - 2s 150ms/step - loss: 1.4600e-05 - accuracy: 1.0000 - val_loss: 1.8380 - val_accuracy: 0.7959\n",
            "Epoch 493/500\n",
            "13/13 [==============================] - 2s 151ms/step - loss: 3.5608e-06 - accuracy: 1.0000 - val_loss: 1.8414 - val_accuracy: 0.7959\n",
            "Epoch 494/500\n",
            "13/13 [==============================] - 3s 257ms/step - loss: 3.5182e-06 - accuracy: 1.0000 - val_loss: 1.8426 - val_accuracy: 0.7959\n",
            "Epoch 495/500\n",
            "13/13 [==============================] - 2s 170ms/step - loss: 1.1412e-04 - accuracy: 1.0000 - val_loss: 1.6532 - val_accuracy: 0.7959\n",
            "Epoch 496/500\n",
            "13/13 [==============================] - 2s 153ms/step - loss: 2.8004e-06 - accuracy: 1.0000 - val_loss: 1.6469 - val_accuracy: 0.8163\n",
            "Epoch 497/500\n",
            "13/13 [==============================] - 2s 151ms/step - loss: 1.0961e-04 - accuracy: 1.0000 - val_loss: 1.6503 - val_accuracy: 0.8163\n",
            "Epoch 498/500\n",
            "13/13 [==============================] - 2s 150ms/step - loss: 5.5027e-07 - accuracy: 1.0000 - val_loss: 1.6917 - val_accuracy: 0.7959\n",
            "Epoch 499/500\n",
            "13/13 [==============================] - 2s 150ms/step - loss: 3.8388e-06 - accuracy: 1.0000 - val_loss: 1.7150 - val_accuracy: 0.8163\n",
            "Epoch 500/500\n",
            "13/13 [==============================] - 3s 224ms/step - loss: 1.0521e-06 - accuracy: 1.0000 - val_loss: 1.7216 - val_accuracy: 0.8163\n"
          ]
        }
      ],
      "source": [
        "history = model.fit(X_train, y_train, epochs=500, validation_data=(X_val, y_val), verbose=1)"
      ]
    },
    {
      "cell_type": "markdown",
      "metadata": {
        "id": "ues5Uz5ZIonL"
      },
      "source": [
        "####**Evaluating the performance**"
      ]
    },
    {
      "cell_type": "code",
      "execution_count": 23,
      "metadata": {
        "colab": {
          "base_uri": "https://localhost:8080/",
          "height": 545
        },
        "id": "9X203acY3NMQ",
        "outputId": "883d97f0-b80a-4ee0-fb27-2032eccf8b9e"
      },
      "outputs": [
        {
          "output_type": "stream",
          "name": "stdout",
          "text": [
            "2/2 [==============================] - 0s 43ms/step - loss: 2.6364 - accuracy: 0.7800\n"
          ]
        },
        {
          "output_type": "display_data",
          "data": {
            "text/plain": [
              "<Figure size 1000x600 with 1 Axes>"
            ],
            "image/png": "[encoded data removed]"
          },
          "metadata": {}
        }
      ],
      "source": [
        "model.evaluate(X_test, y_test)\n",
        "\n",
        "pd.DataFrame(history.history).plot(figsize=(10,6))\n",
        "plt.grid(True)\n",
        "plt.gca().set_ylim(0,1)\n",
        "plt.show()"
      ]
    },
    {
      "cell_type": "code",
      "execution_count": 24,
      "metadata": {
        "colab": {
          "base_uri": "https://localhost:8080/",
          "height": 490
        },
        "id": "OAsKkkq64Kg5",
        "outputId": "eefc0d7f-529c-43b1-cfd8-c9e7cb363d93"
      },
      "outputs": [
        {
          "output_type": "stream",
          "name": "stdout",
          "text": [
            "2/2 [==============================] - 0s 24ms/step\n"
          ]
        },
        {
          "output_type": "display_data",
          "data": {
            "text/plain": [
              "<Figure size 640x480 with 2 Axes>"
            ],
            "image/png": "[encoded data removed]"
          },
          "metadata": {}
        },
        {
          "output_type": "stream",
          "name": "stdout",
          "text": [
            "78.0\n"
          ]
        }
      ],
      "source": [
        "prediction = model.predict(X_test)\n",
        "predicted_labels = [np.argmax(i) for i in prediction]\n",
        "\n",
        "cm = confusion_matrix(y_test, prediction.argmax(axis=1))\n",
        "disp = ConfusionMatrixDisplay(confusion_matrix=cm)\n",
        "disp.plot()\n",
        "plt.show()\n",
        "\n",
        "accuracy = 100*np.trace(cm)/np.sum(cm)\n",
        "print(accuracy)"
      ]
    },
    {
      "cell_type": "code",
      "execution_count": 25,
      "metadata": {
        "colab": {
          "base_uri": "https://localhost:8080/",
          "height": 564
        },
        "id": "D5vf25P_d9NF",
        "outputId": "54d252e8-09a0-4e38-c8c1-ca5d8c3d6da1"
      },
      "outputs": [
        {
          "output_type": "execute_result",
          "data": {
            "text/plain": [
              "Text(45.722222222222214, 0.5, 'True Label')"
            ]
          },
          "metadata": {},
          "execution_count": 25
        },
        {
          "output_type": "display_data",
          "data": {
            "text/plain": [
              "<Figure size 600x600 with 2 Axes>"
            ],
            "image/png": "[encoded data removed]"
          },
          "metadata": {}
        }
      ],
      "source": [
        "# Alternative Code for Displaying Confusion Matrix\n",
        "import seaborn as sn\n",
        "plt.figure(figsize = (6,6))\n",
        "sn.heatmap(cm, annot=True, fmt='d')\n",
        "plt.xlabel('Predicted Label')\n",
        "plt.ylabel('True Label')"
      ]
    }
  ],
  "metadata": {
    "colab": {
      "provenance": [],
      "include_colab_link": true
    },
    "kernelspec": {
      "display_name": "Python 3",
      "name": "python3"
    },
    "language_info": {
      "name": "python"
    }
  },
  "nbformat": 4,
  "nbformat_minor": 0
}