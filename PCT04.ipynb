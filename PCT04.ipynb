{
  "cells": [
    {
      "cell_type": "markdown",
      "metadata": {
        "id": "view-in-github",
        "colab_type": "text"
      },
      "source": [
        "<a href=\"https://colab.research.google.com/github/Jehmary/Machine-Learning-Basics/blob/main/PCT04.ipynb\" target=\"_parent\"><img src=\"https://colab.research.google.com/assets/colab-badge.svg\" alt=\"Open In Colab\"/></a>"
      ]
    },
    {
      "cell_type": "markdown",
      "metadata": {
        "id": "Cx-xjMmrn9YP"
      },
      "source": [
        "##**Classification of Images of Balls**"
      ]
    },
    {
      "cell_type": "markdown",
      "metadata": {
        "id": "SmmMWPBIoVZ6"
      },
      "source": [
        "####**Importing the Necessary Libraries**"
      ]
    },
    {
      "cell_type": "code",
      "execution_count": 68,
      "metadata": {
        "id": "7B78bGpln72R"
      },
      "outputs": [],
      "source": [
        "import numpy as np\n",
        "import matplotlib.pyplot as plt\n",
        "import pandas as pd\n",
        "\n",
        "import os\n",
        "import cv2 as cv\n",
        "import fnmatch\n",
        "\n",
        "import tensorflow as tf\n",
        "from tensorflow import keras\n",
        "from tensorflow.keras.models import Sequential\n",
        "from tensorflow.keras.layers import Dense, Conv2D, Dropout, Flatten, MaxPooling2D\n",
        "\n",
        "from sklearn import datasets\n",
        "from sklearn.preprocessing import LabelEncoder\n",
        "from sklearn.model_selection import train_test_split\n",
        "from sklearn.metrics import confusion_matrix, ConfusionMatrixDisplay"
      ]
    },
    {
      "cell_type": "markdown",
      "metadata": {
        "id": "_lQlilLLp8mB"
      },
      "source": [
        "####**Importing the Data**"
      ]
    },
    {
      "cell_type": "markdown",
      "metadata": {
        "id": "AnB8laRk2tEH"
      },
      "source": [
        "Mounting Google Drive"
      ]
    },
    {
      "cell_type": "code",
      "execution_count": 2,
      "metadata": {
        "id": "8jX_sF24HXpO",
        "colab": {
          "base_uri": "https://localhost:8080/"
        },
        "outputId": "0f235c01-8165-4f39-98e0-c956a1306b33"
      },
      "outputs": [
        {
          "output_type": "stream",
          "name": "stdout",
          "text": [
            "Mounted at /content/gdrive/\n"
          ]
        }
      ],
      "source": [
        "from google.colab import drive\n",
        "drive.mount('/content/gdrive/', force_remount=True)"
      ]
    },
    {
      "cell_type": "markdown",
      "metadata": {
        "id": "FkR-NLPW2w_2"
      },
      "source": [
        "Redirecting directory to \"Balls\" folder"
      ]
    },
    {
      "cell_type": "code",
      "execution_count": 3,
      "metadata": {
        "colab": {
          "base_uri": "https://localhost:8080/"
        },
        "id": "7SlBkPEUiFnM",
        "outputId": "6b994808-d544-4808-886e-c8964d643e0c"
      },
      "outputs": [
        {
          "output_type": "stream",
          "name": "stdout",
          "text": [
            "/content/gdrive/MyDrive/Colab Notebooks/Book/Balls\n"
          ]
        }
      ],
      "source": [
        "%cd /content/gdrive/MyDrive/'Colab Notebooks'/Book/Balls"
      ]
    },
    {
      "cell_type": "code",
      "execution_count": null,
      "metadata": {
        "id": "LdPecqYB2DEm"
      },
      "outputs": [],
      "source": [
        "%ls"
      ]
    },
    {
      "cell_type": "markdown",
      "metadata": {
        "id": "1UNgvwSpVm6V"
      },
      "source": [
        "Randomizing data by shuffling"
      ]
    },
    {
      "cell_type": "code",
      "execution_count": 5,
      "metadata": {
        "id": "q3-gMdBT6OPv"
      },
      "outputs": [],
      "source": [
        "# Takes the data frames of files from directory\n",
        "unshuffled_data = pd.DataFrame.from_dict(os.listdir())\n",
        "# Shuffles the data with a replicable random state (value of 1)\n",
        "shuffled_data   = unshuffled_data.sample(frac=1, random_state=1).reset_index()\n",
        "# Stores the first column of the data (file names) as list\n",
        "data            = pd.DataFrame(shuffled_data)[0].values.tolist()"
      ]
    },
    {
      "cell_type": "code",
      "execution_count": null,
      "metadata": {
        "id": "pO8G96nQ7alq",
        "colab": {
          "base_uri": "https://localhost:8080/"
        },
        "outputId": "a4c26322-03c4-4035-ec79-ad34790c68f5"
      },
      "outputs": [
        {
          "output_type": "stream",
          "name": "stdout",
          "text": [
            "['bowling19.jpg', 'billiards41.jpg', 'volleyball35.png', 'bowling41.jpg', 'tabletennis28.jpg', 'football23.png', 'tabletennis12.jpg', 'volleyball11.jpg', 'tabletennis34.png', 'basketball29.jpg', 'tabletennis27.jpg', 'tabletennis48.jpg', 'tennis50.jpg', 'billiards29.jpg', 'tennis49.png', 'billiards01.png', 'soccer50.jpg', 'baseball46.jpg', 'football19.jpg', 'tabletennis46.jpg', 'football25.jpg', 'basketball35.jpg', 'volleyball10.jpg', 'bowling04.jpg', 'football24.jpg', 'billiards44.jpg', 'football22.jpg', 'golf04.jpg', 'volleyball17.jpg', 'tabletennis40.png', 'baseball07.jpg', 'baseball36.png', 'billiards32.png', 'baseball30.png', 'tabletennis37.jpg', 'volleyball00.jpg', 'tabletennis09.jpg', 'football26.jpg', 'tabletennis15.jpg', 'football37.png', 'basketball43.jpg', 'basketball25.jpg', 'football39.jpg', 'basketball32.png', 'baseball29.jpg', 'golf20.jpg', 'tennis43.jpg', 'football50.png', 'volleyball37.jpeg', 'volleyball51.png', 'soccer04.jpg', 'tennis02.jpg', 'volleyball38.jpg', 'bowling25.png', 'basketball23.png', 'tabletennis42.jpg', 'football15.jpg', 'billiards30.png', 'basketball45.png', 'golf12.jpg', 'tennis36.png', 'soccer07.jpeg', 'basketball53.jpeg', 'tabletennis07.png', 'billiards14.png', 'basketball44.jpg', 'baseball24.jpg', 'tabletennis47.jpg', 'tennis07.jpeg', 'baseball17.jpg', 'golf10.jpg', 'basketball00.jpg', 'basketball17.jpg', 'billiards37.png', 'soccer30.jpg', 'golf01.jpg', 'baseball42.jpg', 'volleyball41.png', 'basketball36.png', 'volleyball13.jpg', 'bowling38.png', 'football43.jpg', 'basketball48.png', 'bowling05.jpg', 'golf39.png', 'volleyball49.jpg', 'basketball01.jpg', 'golf50.jpg', 'basketball37.png', 'golf37.png', 'golf46.jpg', 'football01.jpg', 'tennis33.jpg', 'billiards27.jpg', 'tabletennis13.jpg', 'tabletennis08.jpeg', 'golf38.png', 'tabletennis02.jpg', 'basketball39.jpg', 'billiards06.jpg', 'soccer53.jpeg', 'billiards46.png', 'golf28.png', 'volleyball54.png', 'baseball13.jpg', 'tennis01.jpg', 'tennis44.jpg', 'football00.jpg', 'soccer14.jpg', 'golf52.jpg', 'bowling15.png', 'bowling51.jpeg', 'tabletennis26.jpg', 'football27.jpg', 'tabletennis50.jpg', 'golf27.jpg', 'soccer39.png', 'tabletennis45.jpg', 'tennis47.jpg', 'tabletennis52.png', 'baseball23.png', 'soccer41.jpg', 'volleyball46.jpg', 'baseball00.jpg', 'basketball21.jpg', 'bowling10.jpg', 'tennis46.jpg', 'bowling32.png', 'basketball16.png', 'soccer32.jpg', 'baseball26.jpg', 'billiards28.jpg', 'football46.jpg', 'basketball47.png', 'basketball02.png', 'billiards03.jpeg', 'tennis29.jpg', 'tennis48.png', 'football09.png', 'baseball49.jpg', 'soccer29.jpg', 'tennis18.png', 'bowling20.jpg', 'bowling18.webp', 'tabletennis24.jpg', 'volleyball45.png', 'football33.jpg', 'volleyball03.jpg', 'golf00.jpg', 'soccer17.jpg', 'baseball48.png', 'billiards36.png', 'bowling35.jpg', 'basketball51.jpeg', 'baseball52.jpeg', 'soccer24.jpg', 'baseball10.jpg', 'football04.jpg', 'soccer20.png', 'golf17.jpg', 'golf49.png', 'tennis15.jpg', 'tabletennis41.jpg', 'baseball28.jpg', 'volleyball52.png', 'baseball27.jpg', 'volleyball36.jpg', 'volleyball23.png', 'golf51.jpg', 'tabletennis54.jpeg', 'basketball14.png', 'billiards18.webp', 'golf23.png', 'tabletennis35.jpg', 'bowling24.jpg', 'golf47.jpg', 'soccer52.jpeg', 'volleyball30.jpg', 'golf18.jpg', 'soccer10.jpg', 'football41.jpg', 'soccer02.jpeg', 'tabletennis17.jpg', 'bowling01.jpg', 'golf09.png', 'tennis38.png', 'bowling33.jpg', 'billiards05.jpg', 'golf40.png', 'tennis09.jpg', 'volleyball55.jpeg', 'football05.jpg', 'billiards11.jpg', 'volleyball29.jpg', 'billiards47.png', 'basketball41.jpg', 'tabletennis51.jpg', 'volleyball34.png', 'volleyball39.png', 'golf05.png', 'tabletennis11.jpg', 'baseball11.jpg', 'baseball01.jpg', 'tennis05.jpg', 'baseball04.jpg', 'basketball12.jpg', 'basketball49.png', 'volleyball07.jpg', 'soccer22.png', 'basketball30.png', 'tennis25.jpg', 'volleyball16.jpg', 'golf19.jpg', 'tennis08.jpg', 'football28.jpg', 'tabletennis14.jpg', 'billiards04.jpg', 'tabletennis29.jpg', 'tennis24.jpg', 'billiards50.png', 'soccer12.jpg', 'golf31.png', 'billiards53.png', 'football45.jpg', 'billiards21.png', 'bowling31.png', 'golf07.jpeg', 'tennis14.jpg', 'bowling00.jpg', 'billiards48.jpg', 'bowling50.png', 'football35.jpg', 'basketball28.jpg', 'billiards51.jpeg', 'golf36.jpg', 'billiards19.jpg', 'soccer38.png', 'volleyball22.png', 'football21.png', 'basketball38.png', 'basketball31.png', 'tennis40.jpg', 'bowling44.jpg', 'tabletennis03.jpg', 'bowling02.jpg', 'volleyball48.jpg', 'volleyball20.png', 'football49.png', 'bowling53.jpeg', 'volleyball19.png', 'basketball11.jpg', 'soccer45.jpg', 'tennis10.jpg', 'soccer11.jpg', 'soccer19.png', 'tabletennis55.jpeg', 'tennis19.png', 'football16.jpg', 'basketball15.jpg', 'basketball08.jpeg', 'billiards39.png', 'baseball18.jpg', 'basketball24.jpg', 'soccer42.jpg', 'billiards17.jpg', 'bowling52.jpeg', 'soccer48.jpg', 'volleyball43.png', 'volleyball27.jpg', 'baseball45.jpg', 'baseball38.png', 'bowling30.png', 'golf13.png', 'basketball34.jpg', 'tabletennis16.jpg', 'soccer16.jpg', 'tabletennis43.jpg', 'volleyball18.png', 'baseball22.png', 'bowling14.png', 'golf33.png', 'soccer51.jpeg', 'baseball43.jpg', 'volleyball50.jpg', 'golf42.jpg', 'bowling42.jpg', 'soccer35.jpg', 'volleyball56.jpeg', 'bowling36.png', 'soccer18.png', 'golf44.jpg', 'football40.jpg', 'volleyball26.jpg', 'soccer43.jpg', 'tabletennis49.jpg', 'baseball39.png', 'volleyball25.jpg', 'bowling17.jpg', 'golf03.jpg', 'billiards42.jpg', 'bowling07.jpeg', 'volleyball24.jpg', 'tennis53.jpeg', 'football53.jpeg', 'baseball20.jpg', 'billiards26.jpg', 'soccer06.jpg', 'billiards20.jpg', 'basketball27.jpg', 'football02.jpg', 'basketball52.jpeg', 'baseball16.jpg', 'baseball33.jpg', 'tennis23.png', 'basketball18.jpg', 'tennis16.jpg', 'volleyball14.png', 'basketball07.jpeg', 'baseball12.jpg', 'billiards00.jpg', 'tennis03.jpg', 'football18.jpg', 'golf48.jpg', 'golf43.jpg', 'tabletennis25.jpg', 'tennis00.jpg', 'volleyball02.jpg', 'baseball44.jpg', 'bowling09.jpeg', 'basketball20.jpg', 'basketball50.png', 'golf45.jpg', 'tennis32.png', 'baseball08.jpeg', 'soccer44.jpg', 'billiards40.jpg', 'baseball06.png', 'basketball04.jpg', 'billiards34.jpg', 'soccer08.jpg', 'basketball42.jpg', 'football32.png', 'baseball35.jpg', 'tennis28.jpg', 'baseball53.jpeg', 'tabletennis36.jpg', 'football03.jpg', 'football31.png', 'tabletennis22.png', 'soccer25.jpg', 'football48.png', 'tennis04.jpg', 'soccer00.jpg', 'bowling26.png', 'baseball31.png', 'baseball32.png', 'soccer21.png', 'baseball15.jpg', 'soccer03.jpg', 'bowling23.png', 'billiards22.png', 'volleyball12.jpg', 'soccer33.png', 'football12.jpg', 'volleyball21.png', 'tabletennis53.jpeg', 'billiards45.png', 'football38.png', 'volleyball28.jpg', 'golf26.jpg', 'football07.jpg', 'golf32.png', 'bowling49.png', 'tennis41.jpg', 'tennis39.jpg', 'soccer36.jpg', 'basketball22.png', 'golf16.jpg', 'football10.jpg', 'football06.jpg', 'golf11.jpg', 'soccer49.png', 'tennis17.jpg', 'bowling46.jpg', 'bowling08.jpeg', 'tabletennis23.png', 'billiards31.png', 'tabletennis18.png', 'soccer23.png', 'bowling40.jpg', 'tennis34.jpg', 'bowling21.png', 'football44.jpg', 'soccer34.jpg', 'billiards16.jpg', 'soccer26.jpg', 'tennis12.jpg', 'tennis35.jpg', 'football47.jpg', 'golf35.jpg', 'soccer40.jpg', 'golf08.png', 'billiards10.jpg', 'tennis20.png', 'basketball13.png', 'football14.png', 'golf22.png', 'golf15.png', 'soccer37.png', 'baseball47.jpg', 'golf34.jpg', 'tabletennis38.png', 'golf53.jpeg', 'billiards02.jpeg', 'tabletennis04.jpg', 'billiards12.jpg', 'tennis22.png', 'soccer27.jpg', 'football08.jpg', 'football30.png', 'bowling48.png', 'baseball37.png', 'basketball05.jpg', 'bowling45.jpg', 'golf02.jpg', 'soccer47.png', 'billiards35.png', 'billiards08.jpg', 'golf21.png', 'volleyball15.jpg', 'tabletennis31.jpg', 'billiards23.png', 'football13.png', 'soccer46.png', 'baseball02.png', 'basketball09.jpeg', 'golf30.jpg', 'billiards24.jpg', 'tennis37.png', 'baseball25.jpg', 'billiards33.jpeg', 'bowling37.png', 'tabletennis32.png', 'bowling22.png', 'golf14.png', 'football51.jpeg', 'volleyball42.jpg', 'tennis31.png', 'baseball21.png', 'billiards07.jpg', 'football34.jpg', 'golf29.jpg', 'billiards52.jpeg', 'basketball10.jpg', 'soccer28.jpg', 'billiards15.png', 'golf54.jpeg', 'volleyball31.jpg', 'volleyball44.jpg', 'volleyball01.jpg', 'baseball14.jpg', 'football20.jpg', 'tennis13.jpg', 'tennis45.jpg', 'billiards49.png', 'basketball19.jpg', 'basketball33.jpg', 'tabletennis39.png', 'football29.png', 'tabletennis10.jpg', 'tabletennis19.png', 'volleyball32.jpg', 'soccer01.jpg', 'bowling11.jpg', 'baseball19.jpg', 'bowling28.jpg', 'baseball41.jpg', 'volleyball47.jpg', 'tennis26.jpg', 'billiards38.png', 'tabletennis00.jpg', 'tabletennis20.png', 'soccer09.png', 'bowling03.jpg', 'tabletennis44.jpg', 'tennis06.png', 'football36.png', 'bowling12.jpg', 'bowling34.jpg', 'tabletennis33.png', 'tabletennis01.jpg', 'billiards09.jpg', 'bowling06.jpg', 'bowling27.jpg', 'billiards43.jpg', 'baseball03.jpg', 'tennis51.jpeg', 'baseball09.jpeg', 'golf41.jpg', 'bowling43.jpg', 'volleyball40.png', 'volleyball09.jpg', 'baseball05.jpg', 'football42.jpg', 'football17.jpg', 'baseball51.jpeg', 'baseball50.jpg', 'football11.jpg', 'football52.jpeg', 'golf25.jpg', 'tabletennis30.jpeg', 'tennis21.png', 'volleyball33.png', 'tennis52.jpeg', 'soccer31.jpg', 'tennis30.png', 'basketball03.png', 'basketball40.jpg', 'billiards13.png', 'soccer13.jpg', 'basketball46.png', 'bowling47.jpg', 'golf24.jpg', 'bowling39.jpg', 'soccer48.png', 'billiards25.jpg', 'tennis42.jpg', 'baseball34.jpg', 'basketball26.jpg', 'soccer05.jpg', 'tabletennis21.png', 'bowling29.jpg', 'baseball40.jpg', 'volleyball53.png', 'tennis11.jpg', 'bowling13.png', 'volleyball08.png', 'tennis27.jpg', 'basketball06.jpg']\n"
          ]
        }
      ],
      "source": [
        "print(data)"
      ]
    },
    {
      "cell_type": "markdown",
      "metadata": {
        "id": "2HS8md9524pp"
      },
      "source": [
        "Reading image files and excluding those not rescaled to 28x28\n",
        "\n"
      ]
    },
    {
      "cell_type": "code",
      "execution_count": 6,
      "metadata": {
        "colab": {
          "base_uri": "https://localhost:8080/"
        },
        "id": "6tBaNCETIkyo",
        "outputId": "63819f2e-7aa0-4606-dd09-bc0ced5d7574"
      },
      "outputs": [
        {
          "output_type": "stream",
          "name": "stdout",
          "text": [
            "44 images were not rescaled to 28x28 and are now excluded.\n"
          ]
        }
      ],
      "source": [
        "m = 0\n",
        "list_files = []\n",
        "# Reading files as images and excluding images not rescaled to 28x28x3\n",
        "for file in data:\n",
        "  image = cv.imread(file)\n",
        "  if image.shape == (28,28,3):\n",
        "    list_files.append(image)\n",
        "  else:\n",
        "    m += 1\n",
        "print(str(m) + ' images were not rescaled to 28x28 and are now excluded.')\n",
        "# This code can read WEBP files"
      ]
    },
    {
      "cell_type": "markdown",
      "metadata": {
        "id": "ZV51Ch4J3Yoi"
      },
      "source": [
        "Verifying shape of image file and number of samples"
      ]
    },
    {
      "cell_type": "code",
      "execution_count": 7,
      "metadata": {
        "colab": {
          "base_uri": "https://localhost:8080/"
        },
        "id": "4fjXYcqz2NVl",
        "outputId": "94fb8b3d-adc7-42b8-8147-50e0db3a1bef"
      },
      "outputs": [
        {
          "output_type": "stream",
          "name": "stdout",
          "text": [
            "(28, 28, 3)\n",
            "495\n"
          ]
        }
      ],
      "source": [
        "# Shape of each image file\n",
        "print(list_files[0].shape)\n",
        "# Number of samples\n",
        "print(len(list_files))"
      ]
    },
    {
      "cell_type": "markdown",
      "metadata": {
        "id": "bGqJrJbWmjJz"
      },
      "source": [
        "Data and plot of first image"
      ]
    },
    {
      "cell_type": "code",
      "execution_count": 8,
      "metadata": {
        "colab": {
          "base_uri": "https://localhost:8080/",
          "height": 1000
        },
        "id": "9_Qh5I7iqZ_h",
        "outputId": "c9052e86-2da1-4c68-ba61-917146ffde8f"
      },
      "outputs": [
        {
          "output_type": "stream",
          "name": "stdout",
          "text": [
            "[[[255 255 255]\n",
            "  [255 255 255]\n",
            "  [255 255 254]\n",
            "  ...\n",
            "  [255 255 255]\n",
            "  [255 255 255]\n",
            "  [255 255 255]]\n",
            "\n",
            " [[255 255 255]\n",
            "  [255 255 255]\n",
            "  [255 255 255]\n",
            "  ...\n",
            "  [255 255 255]\n",
            "  [255 255 255]\n",
            "  [255 255 255]]\n",
            "\n",
            " [[255 255 255]\n",
            "  [255 255 255]\n",
            "  [255 255 255]\n",
            "  ...\n",
            "  [255 255 255]\n",
            "  [255 255 255]\n",
            "  [255 255 255]]\n",
            "\n",
            " ...\n",
            "\n",
            " [[255 255 255]\n",
            "  [255 255 255]\n",
            "  [254 254 254]\n",
            "  ...\n",
            "  [254 254 254]\n",
            "  [255 255 255]\n",
            "  [255 255 255]]\n",
            "\n",
            " [[255 255 255]\n",
            "  [255 255 255]\n",
            "  [255 255 255]\n",
            "  ...\n",
            "  [255 255 255]\n",
            "  [255 255 255]\n",
            "  [255 255 255]]\n",
            "\n",
            " [[255 255 255]\n",
            "  [255 255 255]\n",
            "  [255 255 255]\n",
            "  ...\n",
            "  [255 255 255]\n",
            "  [255 255 255]\n",
            "  [255 255 255]]]\n"
          ]
        },
        {
          "output_type": "execute_result",
          "data": {
            "text/plain": [
              "<matplotlib.image.AxesImage at 0x7ff8c06475b0>"
            ]
          },
          "metadata": {},
          "execution_count": 8
        },
        {
          "output_type": "display_data",
          "data": {
            "text/plain": [
              "<Figure size 480x480 with 1 Axes>"
            ],
            "image/png": "[encoded data removed]"
          },
          "metadata": {}
        }
      ],
      "source": [
        "# Data of first image\n",
        "print(list_files[0])\n",
        "# Plot of first image\n",
        "plt.matshow(list_files[0])"
      ]
    },
    {
      "cell_type": "markdown",
      "metadata": {
        "id": "lfsbYtWOmsWm"
      },
      "source": [
        "Flattening the data"
      ]
    },
    {
      "cell_type": "code",
      "execution_count": 9,
      "metadata": {
        "colab": {
          "base_uri": "https://localhost:8080/"
        },
        "id": "BnrRYYClR_Gi",
        "outputId": "a9abfb61-9482-4a12-8c7d-a9cb76dafb48"
      },
      "outputs": [
        {
          "output_type": "stream",
          "name": "stdout",
          "text": [
            "(495, 28, 28, 3)\n"
          ]
        },
        {
          "output_type": "stream",
          "name": "stderr",
          "text": [
            "/usr/local/lib/python3.10/dist-packages/IPython/core/interactiveshell.py:3473: FutureWarning: arrays to stack must be passed as a \"sequence\" type such as list or tuple. Support for non-sequence iterables such as generators is deprecated as of NumPy 1.16 and will raise an error in the future.\n",
            "  if (await self.run_code(code, result,  async_=asy)):\n"
          ]
        }
      ],
      "source": [
        "# Flattening the data into a 4D list\n",
        "flat_files = np.stack((list_files[i] for i in range(len(list_files))))\n",
        "print(flat_files.shape)\n",
        "# This serves as the X values"
      ]
    },
    {
      "cell_type": "markdown",
      "metadata": {
        "id": "Njsw1qRjWKwf"
      },
      "source": [
        "####**Adding labels to data sets**"
      ]
    },
    {
      "cell_type": "markdown",
      "source": [
        "Matching name of file to a label"
      ],
      "metadata": {
        "id": "gJfQZVxYzQWg"
      }
    },
    {
      "cell_type": "code",
      "execution_count": 11,
      "metadata": {
        "colab": {
          "base_uri": "https://localhost:8080/"
        },
        "id": "N_Af0cv_WQD0",
        "outputId": "4f4228ec-7823-4ad6-b030-442f6b9bde36"
      },
      "outputs": [
        {
          "output_type": "stream",
          "name": "stdout",
          "text": [
            "(495,)\n",
            "[3 2 9 3 7 4 7 9 7 1 7 7 8 2 8 2 6 0 4 7 4 1 9 4 2 4 5 9 7 0 0 2 0 7 9 7 4\n",
            " 7 4 1 1 4 1 0 5 8 4 9 9 6 8 3 1 7 4 2 1 5 8 6 1 7 2 1 0 7 8 0 5 1 1 2 6 5\n",
            " 0 9 1 9 3 4 1 5 9 1 5 1 5 5 4 8 2 7 7 5 7 1 6 2 5 9 0 8 8 4 6 5 3 3 4 7 5\n",
            " 6 7 8 7 0 6 9 0 1 3 8 3 1 6 0 2 1 1 2 8 8 4 0 6 8 3 3 9 9 5 6 0 2 3 1 0 0\n",
            " 6 5 5 8 7 0 9 0 9 5 7 1 2 5 7 3 5 6 9 5 6 4 6 7 3 5 8 5 8 9 4 2 9 2 1 7 9\n",
            " 9 5 7 0 0 8 0 1 1 9 6 1 9 5 8 4 7 7 2 6 5 2 4 2 3 5 8 3 2 3 1 2 5 2 6 9 4\n",
            " 1 1 8 3 7 3 9 9 4 3 9 1 6 8 6 6 7 8 4 1 1 2 0 1 6 2 3 6 9 9 0 3 5 1 7 6 7\n",
            " 9 0 3 5 6 0 9 5 3 9 3 6 5 4 6 7 0 3 5 2 3 8 4 0 2 6 2 1 1 0 0 8 1 8 9 1 0\n",
            " 2 8 4 5 8 9 0 3 1 1 5 8 0 6 2 0 6 1 4 8 0 7 4 7 4 8 6 3 0 0 6 0 6 3 2 9 6\n",
            " 4 9 7 2 4 9 4 5 3 8 8 6 1 5 4 4 5 6 8 3 3 7 2 7 6 3 8 3 4 6 2 8 4 5 6 5 2\n",
            " 8 1 4 5 5 6 0 5 7 5 2 7 2 8 6 4 4 3 0 3 5 2 5 9 7 2 4 6 0 1 5 2 8 0 2 3 7\n",
            " 3 5 4 9 8 0 2 5 2 1 6 2 5 9 9 9 0 4 8 8 2 1 7 4 7 7 9 6 3 0 3 0 9 2 7 7 6\n",
            " 3 7 8 4 3 3 7 7 2 3 2 0 8 0 5 3 9 9 0 4 4 0 0 4 4 7 8 9 8 6 8 1 1 2 6 1 3\n",
            " 3 6 2 8 1 6 7 3 0 9 8 3 9 8]\n"
          ]
        }
      ],
      "source": [
        "# matching name of file to accounted file names for labelling using numbers\n",
        "baseballXX    = 'baseball*'     #0\n",
        "basketballXX  = 'basketball*'   #1\n",
        "billiardsXX   = 'billiards*'    #2\n",
        "bowlingXX     = 'bowling*'      #3\n",
        "footballXX    = 'football*'     #4\n",
        "golfXX        = 'golf*'         #5\n",
        "soccerXX      = 'soccer*'       #6\n",
        "tabletennisXX = 'tabletennis*'  #7\n",
        "tennisXX      = 'tennis*'       #8\n",
        "volleyballXX  = 'volleyball*'   #9\n",
        "label         = []\n",
        "for filename in data:\n",
        "  image = cv.imread(filename)\n",
        "  if image.shape == (28,28,3):\n",
        "    if fnmatch.fnmatch(filename, baseballXX) == True:\n",
        "      label.append(0)\n",
        "    elif fnmatch.fnmatch(filename, basketballXX) == True:\n",
        "      label.append(1)\n",
        "    elif fnmatch.fnmatch(filename, billiardsXX) == True:\n",
        "      label.append(2)\n",
        "    elif fnmatch.fnmatch(filename, bowlingXX) == True:\n",
        "      label.append(3)\n",
        "    elif fnmatch.fnmatch(filename, footballXX) == True:\n",
        "      label.append(4)\n",
        "    elif fnmatch.fnmatch(filename, golfXX) == True:\n",
        "      label.append(5)\n",
        "    elif fnmatch.fnmatch(filename, soccerXX) == True:\n",
        "      label.append(6)\n",
        "    elif fnmatch.fnmatch(filename, tabletennisXX) == True:\n",
        "      label.append(7)\n",
        "    elif fnmatch.fnmatch(filename, tennisXX) == True:\n",
        "      label.append(8)\n",
        "    elif fnmatch.fnmatch(filename, volleyballXX) == True:\n",
        "      label.append(9)\n",
        "    else:\n",
        "      print(filename + ' is not accounted.')\n",
        "\n",
        "label = np.reshape(label, (len(label),))\n",
        "print(label.shape)\n",
        "print(label)\n",
        "# This serves as the Y values"
      ]
    },
    {
      "cell_type": "markdown",
      "source": [
        "Verifying number of samples per category"
      ],
      "metadata": {
        "id": "ERDxcNgFzXFo"
      }
    },
    {
      "cell_type": "code",
      "source": [
        "# Count instances of each category in the list\n",
        "print('Baseball: ' + str(pd.Series(label).value_counts()[0]) + '\\nBasketball: ' + str(pd.Series(label).value_counts()[1]) +\n",
        "'\\nBilliards: ' + str(pd.Series(label).value_counts()[2]) + '\\nBowling: ' + str(pd.Series(label).value_counts()[3]) + \n",
        "'\\nFootball: ' + str(pd.Series(label).value_counts()[4]) + '\\nGolf: ' + str(pd.Series(label).value_counts()[5]) + \n",
        "'\\nSoccer: ' + str(pd.Series(label).value_counts()[6]) + '\\nTabletennis: ' + str(pd.Series(label).value_counts()[7]) + \n",
        "'\\nTennis: ' + str(pd.Series(label).value_counts()[8]) + '\\nVolleyball: ' + str(pd.Series(label).value_counts()[9]))"
      ],
      "metadata": {
        "colab": {
          "base_uri": "https://localhost:8080/"
        },
        "id": "kam484BhwiHA",
        "outputId": "1720c5ed-fe45-4bea-85f1-cb3cae06ab33"
      },
      "execution_count": 22,
      "outputs": [
        {
          "output_type": "stream",
          "name": "stdout",
          "text": [
            "Baseball: 51\n",
            "Basketball: 50\n",
            "Billiards: 49\n",
            "Bowling: 49\n",
            "Football: 47\n",
            "Golf: 50\n",
            "Soccer: 49\n",
            "Tabletennis: 51\n",
            "Tennis: 50\n",
            "Volleyball: 49\n"
          ]
        }
      ]
    },
    {
      "cell_type": "markdown",
      "metadata": {
        "id": "PNgaG30Fm_IR"
      },
      "source": [
        "####**Defining training data and testing data sets**"
      ]
    },
    {
      "cell_type": "markdown",
      "metadata": {
        "id": "cXky_ZitimuG"
      },
      "source": [
        "Allocating 80% of the data for training, 10% for validating, and 10% for testing."
      ]
    },
    {
      "cell_type": "code",
      "execution_count": 117,
      "metadata": {
        "id": "z4WXambYm0Ya"
      },
      "outputs": [],
      "source": [
        "trainRatio = 80/100\n",
        "valRatio = 15/100\n",
        "testRatio = 5/100\n",
        "\n",
        "X_train, X_test, y_train, y_test = train_test_split(flat_files, label, test_size = 1 - trainRatio)\n",
        "X_val, X_test, y_val, y_test = train_test_split(X_test, y_test, test_size = testRatio/(testRatio + valRatio))"
      ]
    },
    {
      "cell_type": "markdown",
      "metadata": {
        "id": "AKCTYpTN0Iq8"
      },
      "source": [
        "#####**Preparing the Data**"
      ]
    },
    {
      "cell_type": "markdown",
      "metadata": {
        "id": "9zd626NOWOX0"
      },
      "source": [
        "Rescaling the data to improve the accuracy"
      ]
    },
    {
      "cell_type": "code",
      "execution_count": 118,
      "metadata": {
        "id": "8InBA0lLWTeI"
      },
      "outputs": [],
      "source": [
        "X_train = X_train/255\n",
        "X_test = X_test/255\n",
        "X_val = X_val/255"
      ]
    },
    {
      "cell_type": "markdown",
      "metadata": {
        "id": "HO9R5whDnAn6"
      },
      "source": [
        "Shapes of the data sets"
      ]
    },
    {
      "cell_type": "code",
      "execution_count": 119,
      "metadata": {
        "colab": {
          "base_uri": "https://localhost:8080/"
        },
        "id": "LS8tjK8rvTdg",
        "outputId": "c158c6b4-7278-43c0-d333-34515df63b60"
      },
      "outputs": [
        {
          "output_type": "stream",
          "name": "stdout",
          "text": [
            "(396, 28, 28, 3)\n",
            "(25, 28, 28, 3)\n",
            "(74, 28, 28, 3)\n"
          ]
        }
      ],
      "source": [
        "print(X_train.shape)\n",
        "print(X_test.shape)\n",
        "print(X_val.shape)"
      ]
    },
    {
      "cell_type": "markdown",
      "metadata": {
        "id": "Gh4vWGP81zPu"
      },
      "source": [
        "####**Defining the model**"
      ]
    },
    {
      "cell_type": "code",
      "execution_count": 133,
      "metadata": {
        "colab": {
          "base_uri": "https://localhost:8080/"
        },
        "id": "kJ5wnjnx1m49",
        "outputId": "2ecc0c68-c8fc-4086-fb11-bbf46b46d1d9"
      },
      "outputs": [
        {
          "output_type": "stream",
          "name": "stdout",
          "text": [
            "Model: \"sequential_23\"\n",
            "_________________________________________________________________\n",
            " Layer (type)                Output Shape              Param #   \n",
            "=================================================================\n",
            " conv2d_46 (Conv2D)          (None, 26, 26, 32)        896       \n",
            "                                                                 \n",
            " max_pooling2d_46 (MaxPoolin  (None, 13, 13, 32)       0         \n",
            " g2D)                                                            \n",
            "                                                                 \n",
            " dropout_93 (Dropout)        (None, 13, 13, 32)        0         \n",
            "                                                                 \n",
            " conv2d_47 (Conv2D)          (None, 11, 11, 256)       73984     \n",
            "                                                                 \n",
            " max_pooling2d_47 (MaxPoolin  (None, 5, 5, 256)        0         \n",
            " g2D)                                                            \n",
            "                                                                 \n",
            " dropout_94 (Dropout)        (None, 5, 5, 256)         0         \n",
            "                                                                 \n",
            " flatten_23 (Flatten)        (None, 6400)              0         \n",
            "                                                                 \n",
            " dropout_95 (Dropout)        (None, 6400)              0         \n",
            "                                                                 \n",
            " dense_46 (Dense)            (None, 70)                448070    \n",
            "                                                                 \n",
            " dropout_96 (Dropout)        (None, 70)                0         \n",
            "                                                                 \n",
            " dense_47 (Dense)            (None, 10)                710       \n",
            "                                                                 \n",
            "=================================================================\n",
            "Total params: 523,660\n",
            "Trainable params: 523,660\n",
            "Non-trainable params: 0\n",
            "_________________________________________________________________\n"
          ]
        }
      ],
      "source": [
        "model = tf.keras.models.Sequential([\n",
        "    tf.keras.layers.Conv2D(32, (3,3), activation='relu', input_shape=(28,28,3)),\n",
        "    tf.keras.layers.MaxPooling2D(2,2),\n",
        "    tf.keras.layers.Dropout(0.5),\n",
        "    tf.keras.layers.Conv2D(256, (3,3), activation='relu'),\n",
        "    tf.keras.layers.MaxPooling2D(2,2),\n",
        "    tf.keras.layers.Dropout(0.5),\n",
        "    tf.keras.layers.Flatten(),\n",
        "    tf.keras.layers.Dropout(0.5),\n",
        "    tf.keras.layers.Dense(70, activation='relu'),\n",
        "    tf.keras.layers.Dropout(0.5),\n",
        "    tf.keras.layers.Dense(10, activation='softmax'),\n",
        "])\n",
        "\n",
        "model.summary()"
      ]
    },
    {
      "cell_type": "markdown",
      "metadata": {
        "id": "IMvzfBfn2wJ-"
      },
      "source": [
        "####**Compiling the model**"
      ]
    },
    {
      "cell_type": "markdown",
      "metadata": {
        "id": "skAL6go4jeFD"
      },
      "source": [
        "Using Adam as optimization function with a learning rate of 0.001."
      ]
    },
    {
      "cell_type": "code",
      "execution_count": 134,
      "metadata": {
        "id": "d1DQ29J72mmB"
      },
      "outputs": [],
      "source": [
        "epochs        = 500\n",
        "learning_rate = 0.0008\n",
        "opt = keras.optimizers.Adam(learning_rate=learning_rate)\n",
        "model.compile(optimizer = opt,\n",
        "              loss = tf.keras.losses.SparseCategoricalCrossentropy(),\n",
        "              metrics=['accuracy'])"
      ]
    },
    {
      "cell_type": "markdown",
      "metadata": {
        "id": "2R3Vp3Gt2-4L"
      },
      "source": [
        "####**Training the model**"
      ]
    },
    {
      "cell_type": "code",
      "execution_count": 135,
      "metadata": {
        "colab": {
          "base_uri": "https://localhost:8080/"
        },
        "id": "PguRokJt29-a",
        "outputId": "87ef7da9-2b6e-42c2-9af1-c89c7c7b73e0"
      },
      "outputs": [
        {
          "output_type": "stream",
          "name": "stdout",
          "text": [
            "Epoch 1/500\n",
            "13/13 [==============================] - 3s 99ms/step - loss: 2.4295 - accuracy: 0.0960 - val_loss: 2.3042 - val_accuracy: 0.0946\n",
            "Epoch 2/500\n",
            "13/13 [==============================] - 1s 76ms/step - loss: 2.2993 - accuracy: 0.1540 - val_loss: 2.2960 - val_accuracy: 0.1486\n",
            "Epoch 3/500\n",
            "13/13 [==============================] - 1s 81ms/step - loss: 2.2737 - accuracy: 0.1465 - val_loss: 2.2791 - val_accuracy: 0.1486\n",
            "Epoch 4/500\n",
            "13/13 [==============================] - 1s 74ms/step - loss: 2.2395 - accuracy: 0.1566 - val_loss: 2.2530 - val_accuracy: 0.0811\n",
            "Epoch 5/500\n",
            "13/13 [==============================] - 1s 75ms/step - loss: 2.1849 - accuracy: 0.2197 - val_loss: 2.2111 - val_accuracy: 0.1757\n",
            "Epoch 6/500\n",
            "13/13 [==============================] - 1s 76ms/step - loss: 2.1600 - accuracy: 0.1818 - val_loss: 2.1717 - val_accuracy: 0.3378\n",
            "Epoch 7/500\n",
            "13/13 [==============================] - 1s 78ms/step - loss: 2.0501 - accuracy: 0.2904 - val_loss: 2.0728 - val_accuracy: 0.4189\n",
            "Epoch 8/500\n",
            "13/13 [==============================] - 1s 76ms/step - loss: 2.0098 - accuracy: 0.2828 - val_loss: 1.9556 - val_accuracy: 0.5270\n",
            "Epoch 9/500\n",
            "13/13 [==============================] - 1s 76ms/step - loss: 1.9587 - accuracy: 0.2980 - val_loss: 1.9060 - val_accuracy: 0.4054\n",
            "Epoch 10/500\n",
            "13/13 [==============================] - 1s 76ms/step - loss: 1.9044 - accuracy: 0.3308 - val_loss: 1.7733 - val_accuracy: 0.4865\n",
            "Epoch 11/500\n",
            "13/13 [==============================] - 2s 131ms/step - loss: 1.8329 - accuracy: 0.3737 - val_loss: 1.6909 - val_accuracy: 0.5270\n",
            "Epoch 12/500\n",
            "13/13 [==============================] - 2s 137ms/step - loss: 1.7976 - accuracy: 0.4141 - val_loss: 1.5920 - val_accuracy: 0.5811\n",
            "Epoch 13/500\n",
            "13/13 [==============================] - 1s 107ms/step - loss: 1.7149 - accuracy: 0.4242 - val_loss: 1.5762 - val_accuracy: 0.5135\n",
            "Epoch 14/500\n",
            "13/13 [==============================] - 1s 76ms/step - loss: 1.6213 - accuracy: 0.4571 - val_loss: 1.4654 - val_accuracy: 0.5811\n",
            "Epoch 15/500\n",
            "13/13 [==============================] - 1s 73ms/step - loss: 1.5905 - accuracy: 0.4444 - val_loss: 1.4476 - val_accuracy: 0.6351\n",
            "Epoch 16/500\n",
            "13/13 [==============================] - 1s 77ms/step - loss: 1.5438 - accuracy: 0.5101 - val_loss: 1.3345 - val_accuracy: 0.6351\n",
            "Epoch 17/500\n",
            "13/13 [==============================] - 1s 76ms/step - loss: 1.5169 - accuracy: 0.4924 - val_loss: 1.3163 - val_accuracy: 0.6622\n",
            "Epoch 18/500\n",
            "13/13 [==============================] - 1s 74ms/step - loss: 1.5540 - accuracy: 0.4747 - val_loss: 1.3320 - val_accuracy: 0.6892\n",
            "Epoch 19/500\n",
            "13/13 [==============================] - 1s 76ms/step - loss: 1.4927 - accuracy: 0.4773 - val_loss: 1.3157 - val_accuracy: 0.6757\n",
            "Epoch 20/500\n",
            "13/13 [==============================] - 1s 73ms/step - loss: 1.4753 - accuracy: 0.4747 - val_loss: 1.2350 - val_accuracy: 0.6757\n",
            "Epoch 21/500\n",
            "13/13 [==============================] - 1s 78ms/step - loss: 1.4028 - accuracy: 0.5253 - val_loss: 1.2052 - val_accuracy: 0.7297\n",
            "Epoch 22/500\n",
            "13/13 [==============================] - 1s 75ms/step - loss: 1.3890 - accuracy: 0.5379 - val_loss: 1.2102 - val_accuracy: 0.6892\n",
            "Epoch 23/500\n",
            "13/13 [==============================] - 1s 94ms/step - loss: 1.2997 - accuracy: 0.5960 - val_loss: 1.1125 - val_accuracy: 0.7432\n",
            "Epoch 24/500\n",
            "13/13 [==============================] - 2s 134ms/step - loss: 1.2909 - accuracy: 0.5833 - val_loss: 1.2098 - val_accuracy: 0.6892\n",
            "Epoch 25/500\n",
            "13/13 [==============================] - 2s 137ms/step - loss: 1.3377 - accuracy: 0.5682 - val_loss: 1.1217 - val_accuracy: 0.7297\n",
            "Epoch 26/500\n",
            "13/13 [==============================] - 1s 83ms/step - loss: 1.2754 - accuracy: 0.5505 - val_loss: 1.0762 - val_accuracy: 0.7162\n",
            "Epoch 27/500\n",
            "13/13 [==============================] - 1s 75ms/step - loss: 1.3120 - accuracy: 0.5404 - val_loss: 1.0801 - val_accuracy: 0.6892\n",
            "Epoch 28/500\n",
            "13/13 [==============================] - 1s 74ms/step - loss: 1.3214 - accuracy: 0.5581 - val_loss: 1.0633 - val_accuracy: 0.7703\n",
            "Epoch 29/500\n",
            "13/13 [==============================] - 1s 75ms/step - loss: 1.1734 - accuracy: 0.6061 - val_loss: 0.9935 - val_accuracy: 0.7297\n",
            "Epoch 30/500\n",
            "13/13 [==============================] - 1s 75ms/step - loss: 1.1696 - accuracy: 0.6212 - val_loss: 0.9412 - val_accuracy: 0.7703\n",
            "Epoch 31/500\n",
            "13/13 [==============================] - 1s 76ms/step - loss: 1.1122 - accuracy: 0.6414 - val_loss: 0.9510 - val_accuracy: 0.7432\n",
            "Epoch 32/500\n",
            "13/13 [==============================] - 1s 78ms/step - loss: 1.0077 - accuracy: 0.6566 - val_loss: 0.9634 - val_accuracy: 0.7297\n",
            "Epoch 33/500\n",
            "13/13 [==============================] - 1s 74ms/step - loss: 1.1124 - accuracy: 0.6086 - val_loss: 0.9455 - val_accuracy: 0.7432\n",
            "Epoch 34/500\n",
            "13/13 [==============================] - 1s 76ms/step - loss: 1.1034 - accuracy: 0.6364 - val_loss: 0.9155 - val_accuracy: 0.8108\n",
            "Epoch 35/500\n",
            "13/13 [==============================] - 1s 76ms/step - loss: 1.1336 - accuracy: 0.6187 - val_loss: 0.9668 - val_accuracy: 0.7973\n",
            "Epoch 36/500\n",
            "13/13 [==============================] - 1s 115ms/step - loss: 1.1421 - accuracy: 0.6162 - val_loss: 1.0050 - val_accuracy: 0.7297\n",
            "Epoch 37/500\n",
            "13/13 [==============================] - 2s 131ms/step - loss: 1.0754 - accuracy: 0.6591 - val_loss: 0.9361 - val_accuracy: 0.7703\n",
            "Epoch 38/500\n",
            "13/13 [==============================] - 2s 129ms/step - loss: 1.0657 - accuracy: 0.6389 - val_loss: 0.8700 - val_accuracy: 0.7568\n",
            "Epoch 39/500\n",
            "13/13 [==============================] - 1s 76ms/step - loss: 0.9994 - accuracy: 0.6793 - val_loss: 0.8553 - val_accuracy: 0.7297\n",
            "Epoch 40/500\n",
            "13/13 [==============================] - 1s 76ms/step - loss: 0.9967 - accuracy: 0.6667 - val_loss: 0.9191 - val_accuracy: 0.7568\n",
            "Epoch 41/500\n",
            "13/13 [==============================] - 1s 74ms/step - loss: 1.0397 - accuracy: 0.6818 - val_loss: 0.8680 - val_accuracy: 0.8108\n",
            "Epoch 42/500\n",
            "13/13 [==============================] - 1s 76ms/step - loss: 1.0011 - accuracy: 0.6944 - val_loss: 0.9072 - val_accuracy: 0.7432\n",
            "Epoch 43/500\n",
            "13/13 [==============================] - 1s 75ms/step - loss: 0.9935 - accuracy: 0.6490 - val_loss: 0.8404 - val_accuracy: 0.8108\n",
            "Epoch 44/500\n",
            "13/13 [==============================] - 1s 76ms/step - loss: 0.9242 - accuracy: 0.7096 - val_loss: 0.8457 - val_accuracy: 0.8243\n",
            "Epoch 45/500\n",
            "13/13 [==============================] - 1s 77ms/step - loss: 0.9413 - accuracy: 0.7071 - val_loss: 0.8767 - val_accuracy: 0.7432\n",
            "Epoch 46/500\n",
            "13/13 [==============================] - 1s 73ms/step - loss: 0.8944 - accuracy: 0.7222 - val_loss: 0.7916 - val_accuracy: 0.7703\n",
            "Epoch 47/500\n",
            "13/13 [==============================] - 1s 75ms/step - loss: 0.8900 - accuracy: 0.7096 - val_loss: 0.8056 - val_accuracy: 0.7973\n",
            "Epoch 48/500\n",
            "13/13 [==============================] - 1s 76ms/step - loss: 0.8849 - accuracy: 0.6995 - val_loss: 0.8086 - val_accuracy: 0.7973\n",
            "Epoch 49/500\n",
            "13/13 [==============================] - 2s 131ms/step - loss: 0.9054 - accuracy: 0.7121 - val_loss: 0.8146 - val_accuracy: 0.7703\n",
            "Epoch 50/500\n",
            "13/13 [==============================] - 2s 134ms/step - loss: 0.9010 - accuracy: 0.6919 - val_loss: 0.8469 - val_accuracy: 0.8108\n",
            "Epoch 51/500\n",
            "13/13 [==============================] - 1s 110ms/step - loss: 0.8812 - accuracy: 0.7247 - val_loss: 0.8054 - val_accuracy: 0.7838\n",
            "Epoch 52/500\n",
            "13/13 [==============================] - 1s 78ms/step - loss: 0.9176 - accuracy: 0.6970 - val_loss: 0.8257 - val_accuracy: 0.7703\n",
            "Epoch 53/500\n",
            "13/13 [==============================] - 1s 75ms/step - loss: 0.8174 - accuracy: 0.7399 - val_loss: 0.8535 - val_accuracy: 0.7838\n",
            "Epoch 54/500\n",
            "13/13 [==============================] - 1s 78ms/step - loss: 0.8102 - accuracy: 0.7374 - val_loss: 0.7954 - val_accuracy: 0.8108\n",
            "Epoch 55/500\n",
            "13/13 [==============================] - 1s 76ms/step - loss: 0.8349 - accuracy: 0.7424 - val_loss: 0.7888 - val_accuracy: 0.7568\n",
            "Epoch 56/500\n",
            "13/13 [==============================] - 1s 77ms/step - loss: 0.7869 - accuracy: 0.7525 - val_loss: 0.8123 - val_accuracy: 0.7568\n",
            "Epoch 57/500\n",
            "13/13 [==============================] - 1s 75ms/step - loss: 0.7828 - accuracy: 0.7652 - val_loss: 0.8258 - val_accuracy: 0.7838\n",
            "Epoch 58/500\n",
            "13/13 [==============================] - 1s 75ms/step - loss: 0.7655 - accuracy: 0.7626 - val_loss: 0.8363 - val_accuracy: 0.7568\n",
            "Epoch 59/500\n",
            "13/13 [==============================] - 1s 78ms/step - loss: 0.7351 - accuracy: 0.7551 - val_loss: 0.7704 - val_accuracy: 0.7973\n",
            "Epoch 60/500\n",
            "13/13 [==============================] - 1s 75ms/step - loss: 0.7168 - accuracy: 0.7576 - val_loss: 0.7767 - val_accuracy: 0.7703\n",
            "Epoch 61/500\n",
            "13/13 [==============================] - 1s 86ms/step - loss: 0.7860 - accuracy: 0.7449 - val_loss: 0.7645 - val_accuracy: 0.7973\n",
            "Epoch 62/500\n",
            "13/13 [==============================] - 2s 131ms/step - loss: 0.7718 - accuracy: 0.7475 - val_loss: 0.7926 - val_accuracy: 0.7432\n",
            "Epoch 63/500\n",
            "13/13 [==============================] - 2s 137ms/step - loss: 0.7456 - accuracy: 0.7424 - val_loss: 0.7687 - val_accuracy: 0.7973\n",
            "Epoch 64/500\n",
            "13/13 [==============================] - 1s 91ms/step - loss: 0.7309 - accuracy: 0.7778 - val_loss: 0.8011 - val_accuracy: 0.7703\n",
            "Epoch 65/500\n",
            "13/13 [==============================] - 1s 75ms/step - loss: 0.6770 - accuracy: 0.7576 - val_loss: 0.7641 - val_accuracy: 0.7973\n",
            "Epoch 66/500\n",
            "13/13 [==============================] - 1s 74ms/step - loss: 0.6771 - accuracy: 0.7980 - val_loss: 0.7763 - val_accuracy: 0.7432\n",
            "Epoch 67/500\n",
            "13/13 [==============================] - 1s 76ms/step - loss: 0.6870 - accuracy: 0.7677 - val_loss: 0.8129 - val_accuracy: 0.7568\n",
            "Epoch 68/500\n",
            "13/13 [==============================] - 1s 75ms/step - loss: 0.6499 - accuracy: 0.7828 - val_loss: 0.7701 - val_accuracy: 0.7568\n",
            "Epoch 69/500\n",
            "13/13 [==============================] - 1s 76ms/step - loss: 0.6783 - accuracy: 0.7449 - val_loss: 0.7930 - val_accuracy: 0.7703\n",
            "Epoch 70/500\n",
            "13/13 [==============================] - 1s 77ms/step - loss: 0.6788 - accuracy: 0.7551 - val_loss: 0.7927 - val_accuracy: 0.7568\n",
            "Epoch 71/500\n",
            "13/13 [==============================] - 1s 77ms/step - loss: 0.6536 - accuracy: 0.7753 - val_loss: 0.7164 - val_accuracy: 0.8108\n",
            "Epoch 72/500\n",
            "13/13 [==============================] - 1s 76ms/step - loss: 0.6519 - accuracy: 0.7702 - val_loss: 0.7341 - val_accuracy: 0.8108\n",
            "Epoch 73/500\n",
            "13/13 [==============================] - 1s 78ms/step - loss: 0.6367 - accuracy: 0.7778 - val_loss: 0.7585 - val_accuracy: 0.7973\n",
            "Epoch 74/500\n",
            "13/13 [==============================] - 1s 107ms/step - loss: 0.6499 - accuracy: 0.7778 - val_loss: 0.7140 - val_accuracy: 0.8108\n",
            "Epoch 75/500\n",
            "13/13 [==============================] - 2s 130ms/step - loss: 0.6540 - accuracy: 0.7778 - val_loss: 0.7323 - val_accuracy: 0.8243\n",
            "Epoch 76/500\n",
            "13/13 [==============================] - 2s 135ms/step - loss: 0.6383 - accuracy: 0.7929 - val_loss: 0.7026 - val_accuracy: 0.7838\n",
            "Epoch 77/500\n",
            "13/13 [==============================] - 1s 75ms/step - loss: 0.6155 - accuracy: 0.8030 - val_loss: 0.7313 - val_accuracy: 0.8243\n",
            "Epoch 78/500\n",
            "13/13 [==============================] - 1s 74ms/step - loss: 0.6529 - accuracy: 0.7955 - val_loss: 0.7569 - val_accuracy: 0.7568\n",
            "Epoch 79/500\n",
            "13/13 [==============================] - 1s 77ms/step - loss: 0.6015 - accuracy: 0.8106 - val_loss: 0.6683 - val_accuracy: 0.7973\n",
            "Epoch 80/500\n",
            "13/13 [==============================] - 1s 76ms/step - loss: 0.5344 - accuracy: 0.7879 - val_loss: 0.7224 - val_accuracy: 0.7838\n",
            "Epoch 81/500\n",
            "13/13 [==============================] - 1s 77ms/step - loss: 0.6299 - accuracy: 0.7753 - val_loss: 0.7202 - val_accuracy: 0.8243\n",
            "Epoch 82/500\n",
            "13/13 [==============================] - 1s 77ms/step - loss: 0.6835 - accuracy: 0.7727 - val_loss: 0.7838 - val_accuracy: 0.7838\n",
            "Epoch 83/500\n",
            "13/13 [==============================] - 1s 76ms/step - loss: 0.6112 - accuracy: 0.8106 - val_loss: 0.7437 - val_accuracy: 0.7973\n",
            "Epoch 84/500\n",
            "13/13 [==============================] - 1s 78ms/step - loss: 0.5398 - accuracy: 0.8081 - val_loss: 0.7463 - val_accuracy: 0.8108\n",
            "Epoch 85/500\n",
            "13/13 [==============================] - 1s 77ms/step - loss: 0.6455 - accuracy: 0.8157 - val_loss: 0.7090 - val_accuracy: 0.8108\n",
            "Epoch 86/500\n",
            "13/13 [==============================] - 1s 78ms/step - loss: 0.5365 - accuracy: 0.8157 - val_loss: 0.7178 - val_accuracy: 0.8243\n",
            "Epoch 87/500\n",
            "13/13 [==============================] - 2s 139ms/step - loss: 0.5987 - accuracy: 0.7879 - val_loss: 0.7694 - val_accuracy: 0.8108\n",
            "Epoch 88/500\n",
            "13/13 [==============================] - 2s 132ms/step - loss: 0.5437 - accuracy: 0.8056 - val_loss: 0.7340 - val_accuracy: 0.8108\n",
            "Epoch 89/500\n",
            "13/13 [==============================] - 1s 110ms/step - loss: 0.5774 - accuracy: 0.8106 - val_loss: 0.7912 - val_accuracy: 0.7838\n",
            "Epoch 90/500\n",
            "13/13 [==============================] - 1s 75ms/step - loss: 0.5408 - accuracy: 0.8258 - val_loss: 0.7608 - val_accuracy: 0.7973\n",
            "Epoch 91/500\n",
            "13/13 [==============================] - 1s 77ms/step - loss: 0.5290 - accuracy: 0.8182 - val_loss: 0.7435 - val_accuracy: 0.8108\n",
            "Epoch 92/500\n",
            "13/13 [==============================] - 1s 76ms/step - loss: 0.5626 - accuracy: 0.8056 - val_loss: 0.7413 - val_accuracy: 0.7973\n",
            "Epoch 93/500\n",
            "13/13 [==============================] - 1s 77ms/step - loss: 0.5493 - accuracy: 0.8207 - val_loss: 0.7928 - val_accuracy: 0.7838\n",
            "Epoch 94/500\n",
            "13/13 [==============================] - 1s 76ms/step - loss: 0.5294 - accuracy: 0.8207 - val_loss: 0.7378 - val_accuracy: 0.7703\n",
            "Epoch 95/500\n",
            "13/13 [==============================] - 1s 77ms/step - loss: 0.5132 - accuracy: 0.8157 - val_loss: 0.7458 - val_accuracy: 0.8108\n",
            "Epoch 96/500\n",
            "13/13 [==============================] - 1s 77ms/step - loss: 0.5703 - accuracy: 0.8030 - val_loss: 0.6962 - val_accuracy: 0.8108\n",
            "Epoch 97/500\n",
            "13/13 [==============================] - 1s 76ms/step - loss: 0.5250 - accuracy: 0.8232 - val_loss: 0.7483 - val_accuracy: 0.7973\n",
            "Epoch 98/500\n",
            "13/13 [==============================] - 1s 78ms/step - loss: 0.4763 - accuracy: 0.8359 - val_loss: 0.7804 - val_accuracy: 0.7568\n",
            "Epoch 99/500\n",
            "13/13 [==============================] - 1s 94ms/step - loss: 0.5218 - accuracy: 0.8182 - val_loss: 0.6593 - val_accuracy: 0.8514\n",
            "Epoch 100/500\n",
            "13/13 [==============================] - 2s 131ms/step - loss: 0.5031 - accuracy: 0.8384 - val_loss: 0.7108 - val_accuracy: 0.8243\n",
            "Epoch 101/500\n",
            "13/13 [==============================] - 2s 139ms/step - loss: 0.5188 - accuracy: 0.8384 - val_loss: 0.7704 - val_accuracy: 0.7973\n",
            "Epoch 102/500\n",
            "13/13 [==============================] - 1s 87ms/step - loss: 0.4847 - accuracy: 0.8611 - val_loss: 0.6695 - val_accuracy: 0.8378\n",
            "Epoch 103/500\n",
            "13/13 [==============================] - 1s 75ms/step - loss: 0.4580 - accuracy: 0.8359 - val_loss: 0.7537 - val_accuracy: 0.7838\n",
            "Epoch 104/500\n",
            "13/13 [==============================] - 1s 107ms/step - loss: 0.4900 - accuracy: 0.8510 - val_loss: 0.7450 - val_accuracy: 0.8243\n",
            "Epoch 105/500\n",
            "13/13 [==============================] - 1s 76ms/step - loss: 0.5210 - accuracy: 0.8384 - val_loss: 0.6939 - val_accuracy: 0.8514\n",
            "Epoch 106/500\n",
            "13/13 [==============================] - 1s 78ms/step - loss: 0.4613 - accuracy: 0.8384 - val_loss: 0.7895 - val_accuracy: 0.7297\n",
            "Epoch 107/500\n",
            "13/13 [==============================] - 1s 81ms/step - loss: 0.5491 - accuracy: 0.8131 - val_loss: 0.6544 - val_accuracy: 0.8649\n",
            "Epoch 108/500\n",
            "13/13 [==============================] - 1s 101ms/step - loss: 0.4645 - accuracy: 0.8485 - val_loss: 0.7279 - val_accuracy: 0.8378\n",
            "Epoch 109/500\n",
            "13/13 [==============================] - 1s 76ms/step - loss: 0.5347 - accuracy: 0.8207 - val_loss: 0.6600 - val_accuracy: 0.8243\n",
            "Epoch 110/500\n",
            "13/13 [==============================] - 1s 75ms/step - loss: 0.4342 - accuracy: 0.8359 - val_loss: 0.7101 - val_accuracy: 0.8243\n",
            "Epoch 111/500\n",
            "13/13 [==============================] - 1s 101ms/step - loss: 0.4206 - accuracy: 0.8561 - val_loss: 0.6893 - val_accuracy: 0.8514\n",
            "Epoch 112/500\n",
            "13/13 [==============================] - 2s 140ms/step - loss: 0.4324 - accuracy: 0.8333 - val_loss: 0.6575 - val_accuracy: 0.8649\n",
            "Epoch 113/500\n",
            "13/13 [==============================] - 2s 133ms/step - loss: 0.4273 - accuracy: 0.8535 - val_loss: 0.6703 - val_accuracy: 0.8514\n",
            "Epoch 114/500\n",
            "13/13 [==============================] - 1s 87ms/step - loss: 0.4441 - accuracy: 0.8510 - val_loss: 0.7395 - val_accuracy: 0.8108\n",
            "Epoch 115/500\n",
            "13/13 [==============================] - 1s 74ms/step - loss: 0.4459 - accuracy: 0.8333 - val_loss: 0.7537 - val_accuracy: 0.7973\n",
            "Epoch 116/500\n",
            "13/13 [==============================] - 1s 77ms/step - loss: 0.3884 - accuracy: 0.8611 - val_loss: 0.6902 - val_accuracy: 0.8514\n",
            "Epoch 117/500\n",
            "13/13 [==============================] - 1s 74ms/step - loss: 0.4020 - accuracy: 0.8535 - val_loss: 0.7305 - val_accuracy: 0.8378\n",
            "Epoch 118/500\n",
            "13/13 [==============================] - 1s 77ms/step - loss: 0.4141 - accuracy: 0.8561 - val_loss: 0.7081 - val_accuracy: 0.8243\n",
            "Epoch 119/500\n",
            "13/13 [==============================] - 1s 77ms/step - loss: 0.4002 - accuracy: 0.8813 - val_loss: 0.6798 - val_accuracy: 0.8243\n",
            "Epoch 120/500\n",
            "13/13 [==============================] - 1s 76ms/step - loss: 0.4249 - accuracy: 0.8586 - val_loss: 0.7415 - val_accuracy: 0.8514\n",
            "Epoch 121/500\n",
            "13/13 [==============================] - 1s 78ms/step - loss: 0.4500 - accuracy: 0.8384 - val_loss: 0.7743 - val_accuracy: 0.7703\n",
            "Epoch 122/500\n",
            "13/13 [==============================] - 1s 77ms/step - loss: 0.4780 - accuracy: 0.8258 - val_loss: 0.7154 - val_accuracy: 0.8378\n",
            "Epoch 123/500\n",
            "13/13 [==============================] - 1s 79ms/step - loss: 0.3817 - accuracy: 0.8510 - val_loss: 0.7254 - val_accuracy: 0.8378\n",
            "Epoch 124/500\n",
            "13/13 [==============================] - 1s 117ms/step - loss: 0.4489 - accuracy: 0.8308 - val_loss: 0.7079 - val_accuracy: 0.8243\n",
            "Epoch 125/500\n",
            "13/13 [==============================] - 2s 135ms/step - loss: 0.4022 - accuracy: 0.8485 - val_loss: 0.6329 - val_accuracy: 0.8649\n",
            "Epoch 126/500\n",
            "13/13 [==============================] - 2s 127ms/step - loss: 0.3973 - accuracy: 0.8712 - val_loss: 0.6813 - val_accuracy: 0.8243\n",
            "Epoch 127/500\n",
            "13/13 [==============================] - 1s 76ms/step - loss: 0.3607 - accuracy: 0.8763 - val_loss: 0.7902 - val_accuracy: 0.7973\n",
            "Epoch 128/500\n",
            "13/13 [==============================] - 1s 76ms/step - loss: 0.4487 - accuracy: 0.8359 - val_loss: 0.6667 - val_accuracy: 0.8378\n",
            "Epoch 129/500\n",
            "13/13 [==============================] - 1s 75ms/step - loss: 0.3754 - accuracy: 0.8788 - val_loss: 0.7599 - val_accuracy: 0.8108\n",
            "Epoch 130/500\n",
            "13/13 [==============================] - 1s 77ms/step - loss: 0.3780 - accuracy: 0.8510 - val_loss: 0.7349 - val_accuracy: 0.8378\n",
            "Epoch 131/500\n",
            "13/13 [==============================] - 1s 76ms/step - loss: 0.4549 - accuracy: 0.8157 - val_loss: 0.6956 - val_accuracy: 0.8378\n",
            "Epoch 132/500\n",
            "13/13 [==============================] - 1s 77ms/step - loss: 0.3814 - accuracy: 0.8561 - val_loss: 0.7622 - val_accuracy: 0.8243\n",
            "Epoch 133/500\n",
            "13/13 [==============================] - 1s 76ms/step - loss: 0.3592 - accuracy: 0.8838 - val_loss: 0.6911 - val_accuracy: 0.8514\n",
            "Epoch 134/500\n",
            "13/13 [==============================] - 1s 77ms/step - loss: 0.4519 - accuracy: 0.8308 - val_loss: 0.7826 - val_accuracy: 0.8243\n",
            "Epoch 135/500\n",
            "13/13 [==============================] - 1s 77ms/step - loss: 0.4171 - accuracy: 0.8813 - val_loss: 0.7439 - val_accuracy: 0.8108\n",
            "Epoch 136/500\n",
            "13/13 [==============================] - 1s 85ms/step - loss: 0.3442 - accuracy: 0.8788 - val_loss: 0.7595 - val_accuracy: 0.8514\n",
            "Epoch 137/500\n",
            "13/13 [==============================] - 2s 137ms/step - loss: 0.3495 - accuracy: 0.8965 - val_loss: 0.6731 - val_accuracy: 0.8514\n",
            "Epoch 138/500\n",
            "13/13 [==============================] - 2s 136ms/step - loss: 0.4103 - accuracy: 0.8510 - val_loss: 0.7416 - val_accuracy: 0.8108\n",
            "Epoch 139/500\n",
            "13/13 [==============================] - 1s 94ms/step - loss: 0.3534 - accuracy: 0.8788 - val_loss: 0.7353 - val_accuracy: 0.8378\n",
            "Epoch 140/500\n",
            "13/13 [==============================] - 1s 79ms/step - loss: 0.3914 - accuracy: 0.8737 - val_loss: 0.7902 - val_accuracy: 0.7838\n",
            "Epoch 141/500\n",
            "13/13 [==============================] - 1s 76ms/step - loss: 0.3369 - accuracy: 0.8914 - val_loss: 0.8390 - val_accuracy: 0.7973\n",
            "Epoch 142/500\n",
            "13/13 [==============================] - 1s 77ms/step - loss: 0.3726 - accuracy: 0.8611 - val_loss: 0.6582 - val_accuracy: 0.8514\n",
            "Epoch 143/500\n",
            "13/13 [==============================] - 1s 78ms/step - loss: 0.4718 - accuracy: 0.8333 - val_loss: 0.6992 - val_accuracy: 0.8649\n",
            "Epoch 144/500\n",
            "13/13 [==============================] - 1s 78ms/step - loss: 0.3589 - accuracy: 0.8737 - val_loss: 0.7656 - val_accuracy: 0.8243\n",
            "Epoch 145/500\n",
            "13/13 [==============================] - 1s 78ms/step - loss: 0.3679 - accuracy: 0.8914 - val_loss: 0.7424 - val_accuracy: 0.8514\n",
            "Epoch 146/500\n",
            "13/13 [==============================] - 1s 75ms/step - loss: 0.4058 - accuracy: 0.8485 - val_loss: 0.7532 - val_accuracy: 0.8108\n",
            "Epoch 147/500\n",
            "13/13 [==============================] - 1s 77ms/step - loss: 0.3791 - accuracy: 0.8485 - val_loss: 0.6857 - val_accuracy: 0.8243\n",
            "Epoch 148/500\n",
            "13/13 [==============================] - 1s 76ms/step - loss: 0.4054 - accuracy: 0.8561 - val_loss: 0.7249 - val_accuracy: 0.8378\n",
            "Epoch 149/500\n",
            "13/13 [==============================] - 1s 115ms/step - loss: 0.3471 - accuracy: 0.8737 - val_loss: 0.7200 - val_accuracy: 0.8243\n",
            "Epoch 150/500\n",
            "13/13 [==============================] - 2s 140ms/step - loss: 0.3310 - accuracy: 0.8864 - val_loss: 0.7030 - val_accuracy: 0.8784\n",
            "Epoch 151/500\n",
            "13/13 [==============================] - 2s 144ms/step - loss: 0.3540 - accuracy: 0.8763 - val_loss: 0.7348 - val_accuracy: 0.8378\n",
            "Epoch 152/500\n",
            "13/13 [==============================] - 2s 141ms/step - loss: 0.3702 - accuracy: 0.8687 - val_loss: 0.7576 - val_accuracy: 0.8243\n",
            "Epoch 153/500\n",
            "13/13 [==============================] - 2s 182ms/step - loss: 0.3407 - accuracy: 0.8813 - val_loss: 0.7825 - val_accuracy: 0.8378\n",
            "Epoch 154/500\n",
            "13/13 [==============================] - 2s 147ms/step - loss: 0.3628 - accuracy: 0.8737 - val_loss: 0.7362 - val_accuracy: 0.8378\n",
            "Epoch 155/500\n",
            "13/13 [==============================] - 2s 142ms/step - loss: 0.3978 - accuracy: 0.8561 - val_loss: 0.7267 - val_accuracy: 0.8514\n",
            "Epoch 156/500\n",
            "13/13 [==============================] - 2s 154ms/step - loss: 0.4477 - accuracy: 0.8485 - val_loss: 0.7253 - val_accuracy: 0.8378\n",
            "Epoch 157/500\n",
            "13/13 [==============================] - 2s 167ms/step - loss: 0.3961 - accuracy: 0.8561 - val_loss: 0.7981 - val_accuracy: 0.8243\n",
            "Epoch 158/500\n",
            "13/13 [==============================] - 2s 126ms/step - loss: 0.3793 - accuracy: 0.8636 - val_loss: 0.6878 - val_accuracy: 0.8784\n",
            "Epoch 159/500\n",
            "13/13 [==============================] - 2s 141ms/step - loss: 0.3699 - accuracy: 0.8636 - val_loss: 0.6952 - val_accuracy: 0.8378\n",
            "Epoch 160/500\n",
            "13/13 [==============================] - 2s 117ms/step - loss: 0.3460 - accuracy: 0.8687 - val_loss: 0.8270 - val_accuracy: 0.8108\n",
            "Epoch 161/500\n",
            "13/13 [==============================] - 1s 80ms/step - loss: 0.3076 - accuracy: 0.9091 - val_loss: 0.6937 - val_accuracy: 0.8649\n",
            "Epoch 162/500\n",
            "13/13 [==============================] - 1s 76ms/step - loss: 0.3427 - accuracy: 0.8586 - val_loss: 0.7721 - val_accuracy: 0.8243\n",
            "Epoch 163/500\n",
            "13/13 [==============================] - 1s 78ms/step - loss: 0.3475 - accuracy: 0.8864 - val_loss: 0.7288 - val_accuracy: 0.8378\n",
            "Epoch 164/500\n",
            "13/13 [==============================] - 1s 76ms/step - loss: 0.3706 - accuracy: 0.8586 - val_loss: 0.7093 - val_accuracy: 0.8378\n",
            "Epoch 165/500\n",
            "13/13 [==============================] - 1s 77ms/step - loss: 0.3148 - accuracy: 0.8889 - val_loss: 0.7158 - val_accuracy: 0.8243\n",
            "Epoch 166/500\n",
            "13/13 [==============================] - 1s 78ms/step - loss: 0.3232 - accuracy: 0.8813 - val_loss: 0.7136 - val_accuracy: 0.8378\n",
            "Epoch 167/500\n",
            "13/13 [==============================] - 1s 77ms/step - loss: 0.3035 - accuracy: 0.9015 - val_loss: 0.6953 - val_accuracy: 0.8514\n",
            "Epoch 168/500\n",
            "13/13 [==============================] - 1s 77ms/step - loss: 0.2884 - accuracy: 0.9015 - val_loss: 0.7387 - val_accuracy: 0.8378\n",
            "Epoch 169/500\n",
            "13/13 [==============================] - 1s 78ms/step - loss: 0.3256 - accuracy: 0.8737 - val_loss: 0.8143 - val_accuracy: 0.8378\n",
            "Epoch 170/500\n",
            "13/13 [==============================] - 1s 96ms/step - loss: 0.2909 - accuracy: 0.9040 - val_loss: 0.7439 - val_accuracy: 0.8378\n",
            "Epoch 171/500\n",
            "13/13 [==============================] - 2s 138ms/step - loss: 0.3173 - accuracy: 0.8990 - val_loss: 0.6536 - val_accuracy: 0.8378\n",
            "Epoch 172/500\n",
            "13/13 [==============================] - 2s 130ms/step - loss: 0.2952 - accuracy: 0.8990 - val_loss: 0.7402 - val_accuracy: 0.8514\n",
            "Epoch 173/500\n",
            "13/13 [==============================] - 1s 85ms/step - loss: 0.3743 - accuracy: 0.8636 - val_loss: 0.7223 - val_accuracy: 0.8243\n",
            "Epoch 174/500\n",
            "13/13 [==============================] - 1s 77ms/step - loss: 0.2994 - accuracy: 0.9015 - val_loss: 0.7033 - val_accuracy: 0.8108\n",
            "Epoch 175/500\n",
            "13/13 [==============================] - 1s 75ms/step - loss: 0.3048 - accuracy: 0.8914 - val_loss: 0.6721 - val_accuracy: 0.8378\n",
            "Epoch 176/500\n",
            "13/13 [==============================] - 1s 78ms/step - loss: 0.2845 - accuracy: 0.8990 - val_loss: 0.7114 - val_accuracy: 0.8649\n",
            "Epoch 177/500\n",
            "13/13 [==============================] - 1s 78ms/step - loss: 0.2777 - accuracy: 0.9141 - val_loss: 0.7323 - val_accuracy: 0.8514\n",
            "Epoch 178/500\n",
            "13/13 [==============================] - 1s 78ms/step - loss: 0.3665 - accuracy: 0.8662 - val_loss: 0.7615 - val_accuracy: 0.8378\n",
            "Epoch 179/500\n",
            "13/13 [==============================] - 1s 76ms/step - loss: 0.3047 - accuracy: 0.8889 - val_loss: 0.7253 - val_accuracy: 0.8378\n",
            "Epoch 180/500\n",
            "13/13 [==============================] - 1s 79ms/step - loss: 0.3204 - accuracy: 0.8889 - val_loss: 0.8130 - val_accuracy: 0.8378\n",
            "Epoch 181/500\n",
            "13/13 [==============================] - 1s 77ms/step - loss: 0.2736 - accuracy: 0.8990 - val_loss: 0.7582 - val_accuracy: 0.8378\n",
            "Epoch 182/500\n",
            "13/13 [==============================] - 1s 76ms/step - loss: 0.2935 - accuracy: 0.8864 - val_loss: 0.7693 - val_accuracy: 0.8108\n",
            "Epoch 183/500\n",
            "13/13 [==============================] - 2s 119ms/step - loss: 0.3333 - accuracy: 0.8737 - val_loss: 0.8130 - val_accuracy: 0.8108\n",
            "Epoch 184/500\n",
            "13/13 [==============================] - 2s 140ms/step - loss: 0.2897 - accuracy: 0.8838 - val_loss: 0.6784 - val_accuracy: 0.8378\n",
            "Epoch 185/500\n",
            "13/13 [==============================] - 2s 122ms/step - loss: 0.2778 - accuracy: 0.8889 - val_loss: 0.7144 - val_accuracy: 0.8378\n",
            "Epoch 186/500\n",
            "13/13 [==============================] - 1s 78ms/step - loss: 0.2826 - accuracy: 0.9091 - val_loss: 0.7213 - val_accuracy: 0.8378\n",
            "Epoch 187/500\n",
            "13/13 [==============================] - 1s 80ms/step - loss: 0.2657 - accuracy: 0.8889 - val_loss: 0.7014 - val_accuracy: 0.8378\n",
            "Epoch 188/500\n",
            "13/13 [==============================] - 1s 78ms/step - loss: 0.2774 - accuracy: 0.8939 - val_loss: 0.8542 - val_accuracy: 0.8243\n",
            "Epoch 189/500\n",
            "13/13 [==============================] - 1s 75ms/step - loss: 0.2732 - accuracy: 0.9091 - val_loss: 0.6717 - val_accuracy: 0.8514\n",
            "Epoch 190/500\n",
            "13/13 [==============================] - 1s 79ms/step - loss: 0.3445 - accuracy: 0.8687 - val_loss: 0.8051 - val_accuracy: 0.8378\n",
            "Epoch 191/500\n",
            "13/13 [==============================] - 1s 76ms/step - loss: 0.2811 - accuracy: 0.9066 - val_loss: 0.7484 - val_accuracy: 0.8378\n",
            "Epoch 192/500\n",
            "13/13 [==============================] - 1s 79ms/step - loss: 0.3332 - accuracy: 0.8763 - val_loss: 0.6981 - val_accuracy: 0.8784\n",
            "Epoch 193/500\n",
            "13/13 [==============================] - 1s 77ms/step - loss: 0.3144 - accuracy: 0.8914 - val_loss: 0.7616 - val_accuracy: 0.8514\n",
            "Epoch 194/500\n",
            "13/13 [==============================] - 1s 78ms/step - loss: 0.2439 - accuracy: 0.9318 - val_loss: 0.6699 - val_accuracy: 0.8649\n",
            "Epoch 195/500\n",
            "13/13 [==============================] - 1s 86ms/step - loss: 0.2715 - accuracy: 0.9066 - val_loss: 0.7347 - val_accuracy: 0.8108\n",
            "Epoch 196/500\n",
            "13/13 [==============================] - 2s 137ms/step - loss: 0.2955 - accuracy: 0.9015 - val_loss: 0.7683 - val_accuracy: 0.8514\n",
            "Epoch 197/500\n",
            "13/13 [==============================] - 2s 143ms/step - loss: 0.3463 - accuracy: 0.8763 - val_loss: 0.7226 - val_accuracy: 0.8649\n",
            "Epoch 198/500\n",
            "13/13 [==============================] - 1s 84ms/step - loss: 0.2884 - accuracy: 0.9015 - val_loss: 0.7090 - val_accuracy: 0.8243\n",
            "Epoch 199/500\n",
            "13/13 [==============================] - 1s 79ms/step - loss: 0.2883 - accuracy: 0.9091 - val_loss: 0.7299 - val_accuracy: 0.8649\n",
            "Epoch 200/500\n",
            "13/13 [==============================] - 1s 78ms/step - loss: 0.2832 - accuracy: 0.9116 - val_loss: 0.7407 - val_accuracy: 0.8514\n",
            "Epoch 201/500\n",
            "13/13 [==============================] - 1s 78ms/step - loss: 0.2875 - accuracy: 0.8965 - val_loss: 0.7718 - val_accuracy: 0.8784\n",
            "Epoch 202/500\n",
            "13/13 [==============================] - 1s 78ms/step - loss: 0.3223 - accuracy: 0.8737 - val_loss: 0.6961 - val_accuracy: 0.8649\n",
            "Epoch 203/500\n",
            "13/13 [==============================] - 1s 75ms/step - loss: 0.2831 - accuracy: 0.8965 - val_loss: 0.6923 - val_accuracy: 0.8514\n",
            "Epoch 204/500\n",
            "13/13 [==============================] - 1s 77ms/step - loss: 0.2901 - accuracy: 0.8889 - val_loss: 0.7205 - val_accuracy: 0.8378\n",
            "Epoch 205/500\n",
            "13/13 [==============================] - 1s 76ms/step - loss: 0.2787 - accuracy: 0.8965 - val_loss: 0.7269 - val_accuracy: 0.8514\n",
            "Epoch 206/500\n",
            "13/13 [==============================] - 1s 81ms/step - loss: 0.2792 - accuracy: 0.8864 - val_loss: 0.7537 - val_accuracy: 0.8514\n",
            "Epoch 207/500\n",
            "13/13 [==============================] - 1s 79ms/step - loss: 0.2620 - accuracy: 0.9116 - val_loss: 0.7555 - val_accuracy: 0.8378\n",
            "Epoch 208/500\n",
            "13/13 [==============================] - 2s 126ms/step - loss: 0.2765 - accuracy: 0.9167 - val_loss: 0.7165 - val_accuracy: 0.8378\n",
            "Epoch 209/500\n",
            "13/13 [==============================] - 2s 139ms/step - loss: 0.2666 - accuracy: 0.8965 - val_loss: 0.7104 - val_accuracy: 0.8784\n",
            "Epoch 210/500\n",
            "13/13 [==============================] - 2s 118ms/step - loss: 0.3153 - accuracy: 0.8889 - val_loss: 0.7311 - val_accuracy: 0.8514\n",
            "Epoch 211/500\n",
            "13/13 [==============================] - 1s 78ms/step - loss: 0.2654 - accuracy: 0.8889 - val_loss: 0.8157 - val_accuracy: 0.8378\n",
            "Epoch 212/500\n",
            "13/13 [==============================] - 1s 79ms/step - loss: 0.2623 - accuracy: 0.8990 - val_loss: 0.7088 - val_accuracy: 0.8514\n",
            "Epoch 213/500\n",
            "13/13 [==============================] - 1s 78ms/step - loss: 0.2461 - accuracy: 0.9091 - val_loss: 0.6658 - val_accuracy: 0.8784\n",
            "Epoch 214/500\n",
            "13/13 [==============================] - 1s 78ms/step - loss: 0.2853 - accuracy: 0.9141 - val_loss: 0.6857 - val_accuracy: 0.8378\n",
            "Epoch 215/500\n",
            "13/13 [==============================] - 1s 79ms/step - loss: 0.2942 - accuracy: 0.8889 - val_loss: 0.6873 - val_accuracy: 0.8649\n",
            "Epoch 216/500\n",
            "13/13 [==============================] - 1s 77ms/step - loss: 0.2816 - accuracy: 0.9066 - val_loss: 0.7452 - val_accuracy: 0.8378\n",
            "Epoch 217/500\n",
            "13/13 [==============================] - 1s 78ms/step - loss: 0.2993 - accuracy: 0.8939 - val_loss: 0.7417 - val_accuracy: 0.8784\n",
            "Epoch 218/500\n",
            "13/13 [==============================] - 1s 78ms/step - loss: 0.2745 - accuracy: 0.9040 - val_loss: 0.7762 - val_accuracy: 0.8649\n",
            "Epoch 219/500\n",
            "13/13 [==============================] - 1s 78ms/step - loss: 0.2481 - accuracy: 0.8965 - val_loss: 0.6909 - val_accuracy: 0.8378\n",
            "Epoch 220/500\n",
            "13/13 [==============================] - 1s 101ms/step - loss: 0.2793 - accuracy: 0.8889 - val_loss: 0.7077 - val_accuracy: 0.8243\n",
            "Epoch 221/500\n",
            "13/13 [==============================] - 2s 137ms/step - loss: 0.2674 - accuracy: 0.9167 - val_loss: 0.7655 - val_accuracy: 0.8378\n",
            "Epoch 222/500\n",
            "13/13 [==============================] - 2s 135ms/step - loss: 0.2480 - accuracy: 0.9116 - val_loss: 0.7120 - val_accuracy: 0.8649\n",
            "Epoch 223/500\n",
            "13/13 [==============================] - 1s 83ms/step - loss: 0.2700 - accuracy: 0.9015 - val_loss: 0.6762 - val_accuracy: 0.8784\n",
            "Epoch 224/500\n",
            "13/13 [==============================] - 1s 79ms/step - loss: 0.2484 - accuracy: 0.9091 - val_loss: 0.6650 - val_accuracy: 0.8919\n",
            "Epoch 225/500\n",
            "13/13 [==============================] - 1s 78ms/step - loss: 0.2380 - accuracy: 0.9040 - val_loss: 0.7575 - val_accuracy: 0.8378\n",
            "Epoch 226/500\n",
            "13/13 [==============================] - 1s 77ms/step - loss: 0.2510 - accuracy: 0.9192 - val_loss: 0.6856 - val_accuracy: 0.8784\n",
            "Epoch 227/500\n",
            "13/13 [==============================] - 1s 77ms/step - loss: 0.2882 - accuracy: 0.9015 - val_loss: 0.7182 - val_accuracy: 0.8784\n",
            "Epoch 228/500\n",
            "13/13 [==============================] - 1s 79ms/step - loss: 0.2274 - accuracy: 0.9242 - val_loss: 0.6766 - val_accuracy: 0.8784\n",
            "Epoch 229/500\n",
            "13/13 [==============================] - 1s 80ms/step - loss: 0.2207 - accuracy: 0.9217 - val_loss: 0.6472 - val_accuracy: 0.8514\n",
            "Epoch 230/500\n",
            "13/13 [==============================] - 1s 79ms/step - loss: 0.2318 - accuracy: 0.9167 - val_loss: 0.6594 - val_accuracy: 0.8514\n",
            "Epoch 231/500\n",
            "13/13 [==============================] - 1s 77ms/step - loss: 0.2476 - accuracy: 0.9091 - val_loss: 0.7098 - val_accuracy: 0.8649\n",
            "Epoch 232/500\n",
            "13/13 [==============================] - 1s 91ms/step - loss: 0.2240 - accuracy: 0.9141 - val_loss: 0.7306 - val_accuracy: 0.8514\n",
            "Epoch 233/500\n",
            "13/13 [==============================] - 2s 141ms/step - loss: 0.2484 - accuracy: 0.9091 - val_loss: 0.6749 - val_accuracy: 0.8784\n",
            "Epoch 234/500\n",
            "13/13 [==============================] - 2s 131ms/step - loss: 0.2026 - accuracy: 0.9217 - val_loss: 0.7275 - val_accuracy: 0.8514\n",
            "Epoch 235/500\n",
            "13/13 [==============================] - 1s 106ms/step - loss: 0.2370 - accuracy: 0.8990 - val_loss: 0.7255 - val_accuracy: 0.8378\n",
            "Epoch 236/500\n",
            "13/13 [==============================] - 1s 79ms/step - loss: 0.2328 - accuracy: 0.9040 - val_loss: 0.7996 - val_accuracy: 0.8378\n",
            "Epoch 237/500\n",
            "13/13 [==============================] - 1s 78ms/step - loss: 0.2160 - accuracy: 0.9217 - val_loss: 0.9545 - val_accuracy: 0.7973\n",
            "Epoch 238/500\n",
            "13/13 [==============================] - 1s 78ms/step - loss: 0.2630 - accuracy: 0.9141 - val_loss: 0.7600 - val_accuracy: 0.8784\n",
            "Epoch 239/500\n",
            "13/13 [==============================] - 1s 77ms/step - loss: 0.2577 - accuracy: 0.9268 - val_loss: 0.7403 - val_accuracy: 0.8649\n",
            "Epoch 240/500\n",
            "13/13 [==============================] - 1s 111ms/step - loss: 0.2846 - accuracy: 0.8939 - val_loss: 0.7034 - val_accuracy: 0.8514\n",
            "Epoch 241/500\n",
            "13/13 [==============================] - 1s 107ms/step - loss: 0.2613 - accuracy: 0.8939 - val_loss: 0.7220 - val_accuracy: 0.8649\n",
            "Epoch 242/500\n",
            "13/13 [==============================] - 1s 74ms/step - loss: 0.3005 - accuracy: 0.8990 - val_loss: 0.9667 - val_accuracy: 0.7973\n",
            "Epoch 243/500\n",
            "13/13 [==============================] - 1s 80ms/step - loss: 0.3564 - accuracy: 0.8788 - val_loss: 0.7057 - val_accuracy: 0.8919\n",
            "Epoch 244/500\n",
            "13/13 [==============================] - 1s 99ms/step - loss: 0.2937 - accuracy: 0.8838 - val_loss: 0.8353 - val_accuracy: 0.8243\n",
            "Epoch 245/500\n",
            "13/13 [==============================] - 2s 129ms/step - loss: 0.2991 - accuracy: 0.9167 - val_loss: 0.7870 - val_accuracy: 0.8514\n",
            "Epoch 246/500\n",
            "13/13 [==============================] - 2s 141ms/step - loss: 0.2554 - accuracy: 0.8990 - val_loss: 0.7437 - val_accuracy: 0.8514\n",
            "Epoch 247/500\n",
            "13/13 [==============================] - 1s 86ms/step - loss: 0.2141 - accuracy: 0.9419 - val_loss: 0.8343 - val_accuracy: 0.8649\n",
            "Epoch 248/500\n",
            "13/13 [==============================] - 1s 80ms/step - loss: 0.2652 - accuracy: 0.9040 - val_loss: 0.8118 - val_accuracy: 0.8649\n",
            "Epoch 249/500\n",
            "13/13 [==============================] - 1s 79ms/step - loss: 0.2636 - accuracy: 0.9066 - val_loss: 0.7803 - val_accuracy: 0.8649\n",
            "Epoch 250/500\n",
            "13/13 [==============================] - 1s 77ms/step - loss: 0.2235 - accuracy: 0.9293 - val_loss: 0.7832 - val_accuracy: 0.8784\n",
            "Epoch 251/500\n",
            "13/13 [==============================] - 1s 80ms/step - loss: 0.2437 - accuracy: 0.9040 - val_loss: 0.7426 - val_accuracy: 0.8514\n",
            "Epoch 252/500\n",
            "13/13 [==============================] - 1s 78ms/step - loss: 0.2457 - accuracy: 0.9116 - val_loss: 0.7212 - val_accuracy: 0.8649\n",
            "Epoch 253/500\n",
            "13/13 [==============================] - 1s 81ms/step - loss: 0.2303 - accuracy: 0.9141 - val_loss: 0.7607 - val_accuracy: 0.8784\n",
            "Epoch 254/500\n",
            "13/13 [==============================] - 1s 80ms/step - loss: 0.1872 - accuracy: 0.9268 - val_loss: 0.8194 - val_accuracy: 0.8784\n",
            "Epoch 255/500\n",
            "13/13 [==============================] - 1s 79ms/step - loss: 0.2403 - accuracy: 0.9217 - val_loss: 0.8050 - val_accuracy: 0.8243\n",
            "Epoch 256/500\n",
            "13/13 [==============================] - 1s 79ms/step - loss: 0.2652 - accuracy: 0.9141 - val_loss: 0.7316 - val_accuracy: 0.8514\n",
            "Epoch 257/500\n",
            "13/13 [==============================] - 2s 129ms/step - loss: 0.2459 - accuracy: 0.9141 - val_loss: 0.8291 - val_accuracy: 0.8108\n",
            "Epoch 258/500\n",
            "13/13 [==============================] - 2s 139ms/step - loss: 0.2217 - accuracy: 0.9242 - val_loss: 0.8108 - val_accuracy: 0.8784\n",
            "Epoch 259/500\n",
            "13/13 [==============================] - 1s 112ms/step - loss: 0.2463 - accuracy: 0.9167 - val_loss: 0.6778 - val_accuracy: 0.8514\n",
            "Epoch 260/500\n",
            "13/13 [==============================] - 1s 79ms/step - loss: 0.2373 - accuracy: 0.9192 - val_loss: 0.6973 - val_accuracy: 0.8649\n",
            "Epoch 261/500\n",
            "13/13 [==============================] - 1s 80ms/step - loss: 0.2130 - accuracy: 0.9318 - val_loss: 0.7427 - val_accuracy: 0.8243\n",
            "Epoch 262/500\n",
            "13/13 [==============================] - 1s 77ms/step - loss: 0.2211 - accuracy: 0.9192 - val_loss: 0.7248 - val_accuracy: 0.8784\n",
            "Epoch 263/500\n",
            "13/13 [==============================] - 1s 79ms/step - loss: 0.2088 - accuracy: 0.9192 - val_loss: 0.7023 - val_accuracy: 0.8649\n",
            "Epoch 264/500\n",
            "13/13 [==============================] - 1s 79ms/step - loss: 0.2438 - accuracy: 0.9268 - val_loss: 0.7097 - val_accuracy: 0.8649\n",
            "Epoch 265/500\n",
            "13/13 [==============================] - 1s 80ms/step - loss: 0.2547 - accuracy: 0.9116 - val_loss: 0.7611 - val_accuracy: 0.8243\n",
            "Epoch 266/500\n",
            "13/13 [==============================] - 1s 78ms/step - loss: 0.2092 - accuracy: 0.9268 - val_loss: 0.7678 - val_accuracy: 0.8514\n",
            "Epoch 267/500\n",
            "13/13 [==============================] - 1s 80ms/step - loss: 0.2210 - accuracy: 0.9091 - val_loss: 0.7217 - val_accuracy: 0.8378\n",
            "Epoch 268/500\n",
            "13/13 [==============================] - 1s 77ms/step - loss: 0.1898 - accuracy: 0.9343 - val_loss: 0.7255 - val_accuracy: 0.8514\n",
            "Epoch 269/500\n",
            "13/13 [==============================] - 1s 114ms/step - loss: 0.1948 - accuracy: 0.9343 - val_loss: 0.7905 - val_accuracy: 0.8378\n",
            "Epoch 270/500\n",
            "13/13 [==============================] - 2s 136ms/step - loss: 0.2497 - accuracy: 0.9066 - val_loss: 0.7099 - val_accuracy: 0.8784\n",
            "Epoch 271/500\n",
            "13/13 [==============================] - 2s 132ms/step - loss: 0.2391 - accuracy: 0.9141 - val_loss: 0.7174 - val_accuracy: 0.8514\n",
            "Epoch 272/500\n",
            "13/13 [==============================] - 1s 79ms/step - loss: 0.2240 - accuracy: 0.9268 - val_loss: 0.7162 - val_accuracy: 0.8514\n",
            "Epoch 273/500\n",
            "13/13 [==============================] - 1s 80ms/step - loss: 0.2387 - accuracy: 0.9192 - val_loss: 0.7709 - val_accuracy: 0.8378\n",
            "Epoch 274/500\n",
            "13/13 [==============================] - 1s 79ms/step - loss: 0.2324 - accuracy: 0.9242 - val_loss: 0.7088 - val_accuracy: 0.8514\n",
            "Epoch 275/500\n",
            "13/13 [==============================] - 1s 80ms/step - loss: 0.2351 - accuracy: 0.9091 - val_loss: 0.6620 - val_accuracy: 0.8514\n",
            "Epoch 276/500\n",
            "13/13 [==============================] - 1s 77ms/step - loss: 0.1782 - accuracy: 0.9343 - val_loss: 0.6441 - val_accuracy: 0.8649\n",
            "Epoch 277/500\n",
            "13/13 [==============================] - 1s 79ms/step - loss: 0.2243 - accuracy: 0.9116 - val_loss: 0.7124 - val_accuracy: 0.8784\n",
            "Epoch 278/500\n",
            "13/13 [==============================] - 1s 80ms/step - loss: 0.1918 - accuracy: 0.9242 - val_loss: 0.8140 - val_accuracy: 0.8378\n",
            "Epoch 279/500\n",
            "13/13 [==============================] - 1s 79ms/step - loss: 0.1953 - accuracy: 0.9268 - val_loss: 0.7400 - val_accuracy: 0.8514\n",
            "Epoch 280/500\n",
            "13/13 [==============================] - 1s 79ms/step - loss: 0.2376 - accuracy: 0.9141 - val_loss: 0.7467 - val_accuracy: 0.8378\n",
            "Epoch 281/500\n",
            "13/13 [==============================] - 1s 90ms/step - loss: 0.2238 - accuracy: 0.9066 - val_loss: 0.7714 - val_accuracy: 0.8649\n",
            "Epoch 282/500\n",
            "13/13 [==============================] - 2s 132ms/step - loss: 0.2010 - accuracy: 0.9419 - val_loss: 0.8038 - val_accuracy: 0.8514\n",
            "Epoch 283/500\n",
            "13/13 [==============================] - 2s 138ms/step - loss: 0.2036 - accuracy: 0.9116 - val_loss: 0.7907 - val_accuracy: 0.8514\n",
            "Epoch 284/500\n",
            "13/13 [==============================] - 1s 101ms/step - loss: 0.1896 - accuracy: 0.9369 - val_loss: 0.7246 - val_accuracy: 0.8784\n",
            "Epoch 285/500\n",
            "13/13 [==============================] - 1s 79ms/step - loss: 0.1909 - accuracy: 0.9318 - val_loss: 0.7607 - val_accuracy: 0.8649\n",
            "Epoch 286/500\n",
            "13/13 [==============================] - 1s 80ms/step - loss: 0.2643 - accuracy: 0.9091 - val_loss: 0.7617 - val_accuracy: 0.8784\n",
            "Epoch 287/500\n",
            "13/13 [==============================] - 1s 80ms/step - loss: 0.2211 - accuracy: 0.9167 - val_loss: 0.6766 - val_accuracy: 0.8649\n",
            "Epoch 288/500\n",
            "13/13 [==============================] - 1s 80ms/step - loss: 0.2274 - accuracy: 0.9091 - val_loss: 0.7083 - val_accuracy: 0.8514\n",
            "Epoch 289/500\n",
            "13/13 [==============================] - 1s 79ms/step - loss: 0.2620 - accuracy: 0.8914 - val_loss: 0.9327 - val_accuracy: 0.7838\n",
            "Epoch 290/500\n",
            "13/13 [==============================] - 1s 79ms/step - loss: 0.2630 - accuracy: 0.9015 - val_loss: 0.7376 - val_accuracy: 0.8378\n",
            "Epoch 291/500\n",
            "13/13 [==============================] - 1s 79ms/step - loss: 0.2338 - accuracy: 0.9091 - val_loss: 0.7751 - val_accuracy: 0.8514\n",
            "Epoch 292/500\n",
            "13/13 [==============================] - 1s 78ms/step - loss: 0.1935 - accuracy: 0.9419 - val_loss: 0.7493 - val_accuracy: 0.8378\n",
            "Epoch 293/500\n",
            "13/13 [==============================] - 1s 78ms/step - loss: 0.1925 - accuracy: 0.9293 - val_loss: 0.6670 - val_accuracy: 0.8649\n",
            "Epoch 294/500\n",
            "13/13 [==============================] - 2s 128ms/step - loss: 0.1970 - accuracy: 0.9318 - val_loss: 0.7553 - val_accuracy: 0.8649\n",
            "Epoch 295/500\n",
            "13/13 [==============================] - 2s 137ms/step - loss: 0.2409 - accuracy: 0.9015 - val_loss: 0.8008 - val_accuracy: 0.8514\n",
            "Epoch 296/500\n",
            "13/13 [==============================] - 2s 117ms/step - loss: 0.1726 - accuracy: 0.9293 - val_loss: 0.8078 - val_accuracy: 0.8378\n",
            "Epoch 297/500\n",
            "13/13 [==============================] - 1s 79ms/step - loss: 0.1763 - accuracy: 0.9293 - val_loss: 0.8301 - val_accuracy: 0.8514\n",
            "Epoch 298/500\n",
            "13/13 [==============================] - 1s 77ms/step - loss: 0.1975 - accuracy: 0.9369 - val_loss: 0.8023 - val_accuracy: 0.8514\n",
            "Epoch 299/500\n",
            "13/13 [==============================] - 1s 79ms/step - loss: 0.2493 - accuracy: 0.9167 - val_loss: 0.7357 - val_accuracy: 0.8784\n",
            "Epoch 300/500\n",
            "13/13 [==============================] - 1s 79ms/step - loss: 0.2329 - accuracy: 0.9167 - val_loss: 0.7954 - val_accuracy: 0.8649\n",
            "Epoch 301/500\n",
            "13/13 [==============================] - 1s 79ms/step - loss: 0.1877 - accuracy: 0.9369 - val_loss: 0.8008 - val_accuracy: 0.8784\n",
            "Epoch 302/500\n",
            "13/13 [==============================] - 1s 79ms/step - loss: 0.2062 - accuracy: 0.9217 - val_loss: 0.7424 - val_accuracy: 0.8378\n",
            "Epoch 303/500\n",
            "13/13 [==============================] - 1s 77ms/step - loss: 0.2179 - accuracy: 0.9167 - val_loss: 0.7141 - val_accuracy: 0.8784\n",
            "Epoch 304/500\n",
            "13/13 [==============================] - 1s 79ms/step - loss: 0.2197 - accuracy: 0.9167 - val_loss: 0.8329 - val_accuracy: 0.8378\n",
            "Epoch 305/500\n",
            "13/13 [==============================] - 1s 79ms/step - loss: 0.2150 - accuracy: 0.9192 - val_loss: 0.7948 - val_accuracy: 0.8514\n",
            "Epoch 306/500\n",
            "13/13 [==============================] - 1s 104ms/step - loss: 0.1796 - accuracy: 0.9369 - val_loss: 0.7480 - val_accuracy: 0.8784\n",
            "Epoch 307/500\n",
            "13/13 [==============================] - 2s 139ms/step - loss: 0.2084 - accuracy: 0.9394 - val_loss: 0.8214 - val_accuracy: 0.8514\n",
            "Epoch 308/500\n",
            "13/13 [==============================] - 2s 131ms/step - loss: 0.2209 - accuracy: 0.9343 - val_loss: 0.7378 - val_accuracy: 0.8514\n",
            "Epoch 309/500\n",
            "13/13 [==============================] - 1s 83ms/step - loss: 0.2082 - accuracy: 0.9141 - val_loss: 0.7351 - val_accuracy: 0.8649\n",
            "Epoch 310/500\n",
            "13/13 [==============================] - 1s 78ms/step - loss: 0.2007 - accuracy: 0.9318 - val_loss: 0.7377 - val_accuracy: 0.8514\n",
            "Epoch 311/500\n",
            "13/13 [==============================] - 1s 79ms/step - loss: 0.1566 - accuracy: 0.9520 - val_loss: 0.7583 - val_accuracy: 0.8514\n",
            "Epoch 312/500\n",
            "13/13 [==============================] - 1s 80ms/step - loss: 0.1947 - accuracy: 0.9470 - val_loss: 0.7910 - val_accuracy: 0.8649\n",
            "Epoch 313/500\n",
            "13/13 [==============================] - 1s 78ms/step - loss: 0.1812 - accuracy: 0.9394 - val_loss: 0.8056 - val_accuracy: 0.8649\n",
            "Epoch 314/500\n",
            "13/13 [==============================] - 1s 78ms/step - loss: 0.1758 - accuracy: 0.9419 - val_loss: 0.7859 - val_accuracy: 0.8378\n",
            "Epoch 315/500\n",
            "13/13 [==============================] - 1s 79ms/step - loss: 0.2038 - accuracy: 0.9217 - val_loss: 0.7730 - val_accuracy: 0.8514\n",
            "Epoch 316/500\n",
            "13/13 [==============================] - 1s 80ms/step - loss: 0.1948 - accuracy: 0.9343 - val_loss: 0.7653 - val_accuracy: 0.8649\n",
            "Epoch 317/500\n",
            "13/13 [==============================] - 1s 81ms/step - loss: 0.2234 - accuracy: 0.9343 - val_loss: 0.8119 - val_accuracy: 0.8649\n",
            "Epoch 318/500\n",
            "13/13 [==============================] - 1s 84ms/step - loss: 0.1572 - accuracy: 0.9545 - val_loss: 0.7150 - val_accuracy: 0.8514\n",
            "Epoch 319/500\n",
            "13/13 [==============================] - 2s 129ms/step - loss: 0.1863 - accuracy: 0.9268 - val_loss: 0.6945 - val_accuracy: 0.8784\n",
            "Epoch 320/500\n",
            "13/13 [==============================] - 2s 137ms/step - loss: 0.1818 - accuracy: 0.9268 - val_loss: 0.7234 - val_accuracy: 0.8378\n",
            "Epoch 321/500\n",
            "13/13 [==============================] - 1s 105ms/step - loss: 0.2503 - accuracy: 0.9066 - val_loss: 0.7375 - val_accuracy: 0.8649\n",
            "Epoch 322/500\n",
            "13/13 [==============================] - 1s 79ms/step - loss: 0.1800 - accuracy: 0.9343 - val_loss: 0.7868 - val_accuracy: 0.8649\n",
            "Epoch 323/500\n",
            "13/13 [==============================] - 1s 76ms/step - loss: 0.1420 - accuracy: 0.9545 - val_loss: 0.8643 - val_accuracy: 0.8378\n",
            "Epoch 324/500\n",
            "13/13 [==============================] - 1s 80ms/step - loss: 0.1820 - accuracy: 0.9217 - val_loss: 0.8245 - val_accuracy: 0.8649\n",
            "Epoch 325/500\n",
            "13/13 [==============================] - 1s 79ms/step - loss: 0.1821 - accuracy: 0.9369 - val_loss: 0.9142 - val_accuracy: 0.8649\n",
            "Epoch 326/500\n",
            "13/13 [==============================] - 1s 80ms/step - loss: 0.1692 - accuracy: 0.9318 - val_loss: 0.8248 - val_accuracy: 0.8514\n",
            "Epoch 327/500\n",
            "13/13 [==============================] - 1s 76ms/step - loss: 0.1832 - accuracy: 0.9394 - val_loss: 0.7658 - val_accuracy: 0.8514\n",
            "Epoch 328/500\n",
            "13/13 [==============================] - 1s 81ms/step - loss: 0.1469 - accuracy: 0.9343 - val_loss: 0.8068 - val_accuracy: 0.8649\n",
            "Epoch 329/500\n",
            "13/13 [==============================] - 1s 79ms/step - loss: 0.1977 - accuracy: 0.9293 - val_loss: 0.8371 - val_accuracy: 0.8784\n",
            "Epoch 330/500\n",
            "13/13 [==============================] - 1s 79ms/step - loss: 0.1647 - accuracy: 0.9596 - val_loss: 0.8375 - val_accuracy: 0.8784\n",
            "Epoch 331/500\n",
            "13/13 [==============================] - 2s 123ms/step - loss: 0.1417 - accuracy: 0.9444 - val_loss: 0.8768 - val_accuracy: 0.8243\n",
            "Epoch 332/500\n",
            "13/13 [==============================] - 2s 133ms/step - loss: 0.1733 - accuracy: 0.9217 - val_loss: 0.8489 - val_accuracy: 0.8378\n",
            "Epoch 333/500\n",
            "13/13 [==============================] - 2s 130ms/step - loss: 0.1639 - accuracy: 0.9444 - val_loss: 0.8885 - val_accuracy: 0.8378\n",
            "Epoch 334/500\n",
            "13/13 [==============================] - 1s 79ms/step - loss: 0.1803 - accuracy: 0.9318 - val_loss: 0.9286 - val_accuracy: 0.8378\n",
            "Epoch 335/500\n",
            "13/13 [==============================] - 1s 78ms/step - loss: 0.1969 - accuracy: 0.9343 - val_loss: 0.9318 - val_accuracy: 0.8514\n",
            "Epoch 336/500\n",
            "13/13 [==============================] - 1s 78ms/step - loss: 0.1879 - accuracy: 0.9268 - val_loss: 0.8464 - val_accuracy: 0.8649\n",
            "Epoch 337/500\n",
            "13/13 [==============================] - 1s 80ms/step - loss: 0.2043 - accuracy: 0.9242 - val_loss: 0.8290 - val_accuracy: 0.8243\n",
            "Epoch 338/500\n",
            "13/13 [==============================] - 1s 80ms/step - loss: 0.1947 - accuracy: 0.9293 - val_loss: 0.8119 - val_accuracy: 0.8514\n",
            "Epoch 339/500\n",
            "13/13 [==============================] - 1s 79ms/step - loss: 0.1714 - accuracy: 0.9293 - val_loss: 0.8741 - val_accuracy: 0.8514\n",
            "Epoch 340/500\n",
            "13/13 [==============================] - 1s 77ms/step - loss: 0.1720 - accuracy: 0.9394 - val_loss: 0.8080 - val_accuracy: 0.8649\n",
            "Epoch 341/500\n",
            "13/13 [==============================] - 1s 78ms/step - loss: 0.1789 - accuracy: 0.9369 - val_loss: 0.8464 - val_accuracy: 0.8378\n",
            "Epoch 342/500\n",
            "13/13 [==============================] - 1s 84ms/step - loss: 0.1874 - accuracy: 0.9293 - val_loss: 0.8514 - val_accuracy: 0.8378\n",
            "Epoch 343/500\n",
            "13/13 [==============================] - 1s 102ms/step - loss: 0.2424 - accuracy: 0.9040 - val_loss: 0.7861 - val_accuracy: 0.8243\n",
            "Epoch 344/500\n",
            "13/13 [==============================] - 2s 138ms/step - loss: 0.1886 - accuracy: 0.9318 - val_loss: 0.7474 - val_accuracy: 0.8378\n",
            "Epoch 345/500\n",
            "13/13 [==============================] - 2s 134ms/step - loss: 0.1761 - accuracy: 0.9394 - val_loss: 0.7342 - val_accuracy: 0.8784\n",
            "Epoch 346/500\n",
            "13/13 [==============================] - 1s 87ms/step - loss: 0.1751 - accuracy: 0.9394 - val_loss: 0.7370 - val_accuracy: 0.8649\n",
            "Epoch 347/500\n",
            "13/13 [==============================] - 1s 78ms/step - loss: 0.1561 - accuracy: 0.9470 - val_loss: 0.8216 - val_accuracy: 0.8378\n",
            "Epoch 348/500\n",
            "13/13 [==============================] - 1s 79ms/step - loss: 0.2030 - accuracy: 0.9293 - val_loss: 0.7876 - val_accuracy: 0.8649\n",
            "Epoch 349/500\n",
            "13/13 [==============================] - 1s 80ms/step - loss: 0.1765 - accuracy: 0.9268 - val_loss: 0.8153 - val_accuracy: 0.8378\n",
            "Epoch 350/500\n",
            "13/13 [==============================] - 1s 80ms/step - loss: 0.1543 - accuracy: 0.9495 - val_loss: 0.7419 - val_accuracy: 0.8649\n",
            "Epoch 351/500\n",
            "13/13 [==============================] - 1s 81ms/step - loss: 0.1819 - accuracy: 0.9444 - val_loss: 0.8256 - val_accuracy: 0.8514\n",
            "Epoch 352/500\n",
            "13/13 [==============================] - 1s 80ms/step - loss: 0.2565 - accuracy: 0.9167 - val_loss: 0.8113 - val_accuracy: 0.8514\n",
            "Epoch 353/500\n",
            "13/13 [==============================] - 1s 79ms/step - loss: 0.1855 - accuracy: 0.9293 - val_loss: 0.8632 - val_accuracy: 0.8378\n",
            "Epoch 354/500\n",
            "13/13 [==============================] - 1s 83ms/step - loss: 0.2091 - accuracy: 0.9343 - val_loss: 0.7844 - val_accuracy: 0.8649\n",
            "Epoch 355/500\n",
            "13/13 [==============================] - 1s 91ms/step - loss: 0.2505 - accuracy: 0.9141 - val_loss: 0.7243 - val_accuracy: 0.8784\n",
            "Epoch 356/500\n",
            "13/13 [==============================] - 2s 132ms/step - loss: 0.2272 - accuracy: 0.9167 - val_loss: 0.7801 - val_accuracy: 0.8649\n",
            "Epoch 357/500\n",
            "13/13 [==============================] - 2s 140ms/step - loss: 0.1487 - accuracy: 0.9495 - val_loss: 0.8266 - val_accuracy: 0.8649\n",
            "Epoch 358/500\n",
            "13/13 [==============================] - 1s 100ms/step - loss: 0.2177 - accuracy: 0.9318 - val_loss: 0.8013 - val_accuracy: 0.8514\n",
            "Epoch 359/500\n",
            "13/13 [==============================] - 1s 79ms/step - loss: 0.1854 - accuracy: 0.9444 - val_loss: 0.8180 - val_accuracy: 0.8784\n",
            "Epoch 360/500\n",
            "13/13 [==============================] - 1s 82ms/step - loss: 0.1834 - accuracy: 0.9369 - val_loss: 0.8317 - val_accuracy: 0.8784\n",
            "Epoch 361/500\n",
            "13/13 [==============================] - 1s 79ms/step - loss: 0.2000 - accuracy: 0.9192 - val_loss: 0.8742 - val_accuracy: 0.8243\n",
            "Epoch 362/500\n",
            "13/13 [==============================] - 1s 81ms/step - loss: 0.2161 - accuracy: 0.9141 - val_loss: 0.9192 - val_accuracy: 0.8514\n",
            "Epoch 363/500\n",
            "13/13 [==============================] - 1s 81ms/step - loss: 0.1892 - accuracy: 0.9242 - val_loss: 0.8553 - val_accuracy: 0.8514\n",
            "Epoch 364/500\n",
            "13/13 [==============================] - 1s 80ms/step - loss: 0.1532 - accuracy: 0.9444 - val_loss: 0.9143 - val_accuracy: 0.8108\n",
            "Epoch 365/500\n",
            "13/13 [==============================] - 1s 81ms/step - loss: 0.1759 - accuracy: 0.9242 - val_loss: 0.8159 - val_accuracy: 0.8514\n",
            "Epoch 366/500\n",
            "13/13 [==============================] - 1s 82ms/step - loss: 0.1978 - accuracy: 0.9217 - val_loss: 0.8274 - val_accuracy: 0.8514\n",
            "Epoch 367/500\n",
            "13/13 [==============================] - 1s 81ms/step - loss: 0.1757 - accuracy: 0.9293 - val_loss: 0.8506 - val_accuracy: 0.8378\n",
            "Epoch 368/500\n",
            "13/13 [==============================] - 2s 137ms/step - loss: 0.2013 - accuracy: 0.9268 - val_loss: 0.8683 - val_accuracy: 0.8378\n",
            "Epoch 369/500\n",
            "13/13 [==============================] - 2s 137ms/step - loss: 0.1494 - accuracy: 0.9495 - val_loss: 0.8689 - val_accuracy: 0.8514\n",
            "Epoch 370/500\n",
            "13/13 [==============================] - 1s 107ms/step - loss: 0.1737 - accuracy: 0.9369 - val_loss: 0.8844 - val_accuracy: 0.8514\n",
            "Epoch 371/500\n",
            "13/13 [==============================] - 1s 82ms/step - loss: 0.1603 - accuracy: 0.9495 - val_loss: 0.9640 - val_accuracy: 0.8514\n",
            "Epoch 372/500\n",
            "13/13 [==============================] - 1s 80ms/step - loss: 0.1565 - accuracy: 0.9444 - val_loss: 0.8790 - val_accuracy: 0.8649\n",
            "Epoch 373/500\n",
            "13/13 [==============================] - 1s 80ms/step - loss: 0.1748 - accuracy: 0.9293 - val_loss: 0.8148 - val_accuracy: 0.8514\n",
            "Epoch 374/500\n",
            "13/13 [==============================] - 1s 82ms/step - loss: 0.1946 - accuracy: 0.9192 - val_loss: 0.8762 - val_accuracy: 0.8649\n",
            "Epoch 375/500\n",
            "13/13 [==============================] - 1s 81ms/step - loss: 0.1541 - accuracy: 0.9470 - val_loss: 0.9114 - val_accuracy: 0.8108\n",
            "Epoch 376/500\n",
            "13/13 [==============================] - 1s 83ms/step - loss: 0.1721 - accuracy: 0.9369 - val_loss: 0.7876 - val_accuracy: 0.8514\n",
            "Epoch 377/500\n",
            "13/13 [==============================] - 1s 80ms/step - loss: 0.1804 - accuracy: 0.9217 - val_loss: 0.7745 - val_accuracy: 0.8514\n",
            "Epoch 378/500\n",
            "13/13 [==============================] - 1s 80ms/step - loss: 0.1622 - accuracy: 0.9470 - val_loss: 0.8347 - val_accuracy: 0.8378\n",
            "Epoch 379/500\n",
            "13/13 [==============================] - 1s 81ms/step - loss: 0.1514 - accuracy: 0.9520 - val_loss: 0.7515 - val_accuracy: 0.8378\n",
            "Epoch 380/500\n",
            "13/13 [==============================] - 2s 126ms/step - loss: 0.1421 - accuracy: 0.9571 - val_loss: 0.8113 - val_accuracy: 0.8514\n",
            "Epoch 381/500\n",
            "13/13 [==============================] - 2s 137ms/step - loss: 0.1419 - accuracy: 0.9394 - val_loss: 0.8872 - val_accuracy: 0.8514\n",
            "Epoch 382/500\n",
            "13/13 [==============================] - 2s 128ms/step - loss: 0.1373 - accuracy: 0.9545 - val_loss: 0.9553 - val_accuracy: 0.8108\n",
            "Epoch 383/500\n",
            "13/13 [==============================] - 1s 95ms/step - loss: 0.1558 - accuracy: 0.9343 - val_loss: 0.7778 - val_accuracy: 0.8378\n",
            "Epoch 384/500\n",
            "13/13 [==============================] - 1s 80ms/step - loss: 0.1120 - accuracy: 0.9571 - val_loss: 0.8690 - val_accuracy: 0.8514\n",
            "Epoch 385/500\n",
            "13/13 [==============================] - 2s 134ms/step - loss: 0.1844 - accuracy: 0.9318 - val_loss: 0.9191 - val_accuracy: 0.8243\n",
            "Epoch 386/500\n",
            "13/13 [==============================] - 2s 140ms/step - loss: 0.2282 - accuracy: 0.9242 - val_loss: 0.8800 - val_accuracy: 0.8243\n",
            "Epoch 387/500\n",
            "13/13 [==============================] - 2s 117ms/step - loss: 0.1345 - accuracy: 0.9444 - val_loss: 0.8576 - val_accuracy: 0.8514\n",
            "Epoch 388/500\n",
            "13/13 [==============================] - 1s 79ms/step - loss: 0.1031 - accuracy: 0.9672 - val_loss: 0.8332 - val_accuracy: 0.8378\n",
            "Epoch 389/500\n",
            "13/13 [==============================] - 1s 80ms/step - loss: 0.1662 - accuracy: 0.9369 - val_loss: 0.8898 - val_accuracy: 0.8649\n",
            "Epoch 390/500\n",
            "13/13 [==============================] - 1s 117ms/step - loss: 0.1871 - accuracy: 0.9242 - val_loss: 0.9391 - val_accuracy: 0.8243\n",
            "Epoch 391/500\n",
            "13/13 [==============================] - 2s 139ms/step - loss: 0.1351 - accuracy: 0.9697 - val_loss: 0.8578 - val_accuracy: 0.8649\n",
            "Epoch 392/500\n",
            "13/13 [==============================] - 2s 138ms/step - loss: 0.1568 - accuracy: 0.9369 - val_loss: 0.8403 - val_accuracy: 0.8649\n",
            "Epoch 393/500\n",
            "13/13 [==============================] - 1s 81ms/step - loss: 0.1190 - accuracy: 0.9621 - val_loss: 0.8539 - val_accuracy: 0.8378\n",
            "Epoch 394/500\n",
            "13/13 [==============================] - 1s 79ms/step - loss: 0.1904 - accuracy: 0.9369 - val_loss: 0.7329 - val_accuracy: 0.8649\n",
            "Epoch 395/500\n",
            "13/13 [==============================] - 1s 78ms/step - loss: 0.1402 - accuracy: 0.9444 - val_loss: 0.7888 - val_accuracy: 0.8378\n",
            "Epoch 396/500\n",
            "13/13 [==============================] - 1s 80ms/step - loss: 0.1866 - accuracy: 0.9444 - val_loss: 0.8086 - val_accuracy: 0.8514\n",
            "Epoch 397/500\n",
            "13/13 [==============================] - 1s 79ms/step - loss: 0.1623 - accuracy: 0.9444 - val_loss: 0.8111 - val_accuracy: 0.8378\n",
            "Epoch 398/500\n",
            "13/13 [==============================] - 1s 81ms/step - loss: 0.1620 - accuracy: 0.9369 - val_loss: 0.7770 - val_accuracy: 0.8378\n",
            "Epoch 399/500\n",
            "13/13 [==============================] - 1s 82ms/step - loss: 0.1759 - accuracy: 0.9318 - val_loss: 0.7645 - val_accuracy: 0.8243\n",
            "Epoch 400/500\n",
            "13/13 [==============================] - 1s 83ms/step - loss: 0.1812 - accuracy: 0.9242 - val_loss: 0.8707 - val_accuracy: 0.8514\n",
            "Epoch 401/500\n",
            "13/13 [==============================] - 1s 84ms/step - loss: 0.1303 - accuracy: 0.9545 - val_loss: 0.8196 - val_accuracy: 0.8514\n",
            "Epoch 402/500\n",
            "13/13 [==============================] - 1s 112ms/step - loss: 0.1435 - accuracy: 0.9394 - val_loss: 0.9695 - val_accuracy: 0.8378\n",
            "Epoch 403/500\n",
            "13/13 [==============================] - 2s 126ms/step - loss: 0.2077 - accuracy: 0.9293 - val_loss: 0.9485 - val_accuracy: 0.8243\n",
            "Epoch 404/500\n",
            "13/13 [==============================] - 2s 135ms/step - loss: 0.1623 - accuracy: 0.9394 - val_loss: 0.8275 - val_accuracy: 0.8514\n",
            "Epoch 405/500\n",
            "13/13 [==============================] - 1s 96ms/step - loss: 0.1660 - accuracy: 0.9343 - val_loss: 0.8055 - val_accuracy: 0.8784\n",
            "Epoch 406/500\n",
            "13/13 [==============================] - 1s 82ms/step - loss: 0.1873 - accuracy: 0.9495 - val_loss: 0.7931 - val_accuracy: 0.8784\n",
            "Epoch 407/500\n",
            "13/13 [==============================] - 1s 82ms/step - loss: 0.1724 - accuracy: 0.9293 - val_loss: 0.8195 - val_accuracy: 0.8649\n",
            "Epoch 408/500\n",
            "13/13 [==============================] - 1s 82ms/step - loss: 0.1450 - accuracy: 0.9470 - val_loss: 0.7898 - val_accuracy: 0.8514\n",
            "Epoch 409/500\n",
            "13/13 [==============================] - 1s 80ms/step - loss: 0.1885 - accuracy: 0.9217 - val_loss: 0.8041 - val_accuracy: 0.8378\n",
            "Epoch 410/500\n",
            "13/13 [==============================] - 1s 82ms/step - loss: 0.1789 - accuracy: 0.9419 - val_loss: 0.8621 - val_accuracy: 0.8243\n",
            "Epoch 411/500\n",
            "13/13 [==============================] - 1s 82ms/step - loss: 0.1706 - accuracy: 0.9268 - val_loss: 0.8804 - val_accuracy: 0.8378\n",
            "Epoch 412/500\n",
            "13/13 [==============================] - 1s 83ms/step - loss: 0.1558 - accuracy: 0.9545 - val_loss: 0.9035 - val_accuracy: 0.8243\n",
            "Epoch 413/500\n",
            "13/13 [==============================] - 1s 80ms/step - loss: 0.1662 - accuracy: 0.9318 - val_loss: 0.9193 - val_accuracy: 0.8243\n",
            "Epoch 414/500\n",
            "13/13 [==============================] - 1s 96ms/step - loss: 0.1684 - accuracy: 0.9318 - val_loss: 0.7777 - val_accuracy: 0.8514\n",
            "Epoch 415/500\n",
            "13/13 [==============================] - 2s 131ms/step - loss: 0.1634 - accuracy: 0.9369 - val_loss: 0.8220 - val_accuracy: 0.8649\n",
            "Epoch 416/500\n",
            "13/13 [==============================] - 2s 140ms/step - loss: 0.1108 - accuracy: 0.9646 - val_loss: 0.8072 - val_accuracy: 0.8514\n",
            "Epoch 417/500\n",
            "13/13 [==============================] - 1s 99ms/step - loss: 0.1303 - accuracy: 0.9495 - val_loss: 0.8621 - val_accuracy: 0.8243\n",
            "Epoch 418/500\n",
            "13/13 [==============================] - 1s 82ms/step - loss: 0.1215 - accuracy: 0.9672 - val_loss: 0.8366 - val_accuracy: 0.8514\n",
            "Epoch 419/500\n",
            "13/13 [==============================] - 1s 81ms/step - loss: 0.1418 - accuracy: 0.9470 - val_loss: 0.7935 - val_accuracy: 0.8378\n",
            "Epoch 420/500\n",
            "13/13 [==============================] - 1s 82ms/step - loss: 0.1399 - accuracy: 0.9419 - val_loss: 0.7747 - val_accuracy: 0.8784\n",
            "Epoch 421/500\n",
            "13/13 [==============================] - 1s 80ms/step - loss: 0.1024 - accuracy: 0.9672 - val_loss: 0.7468 - val_accuracy: 0.8784\n",
            "Epoch 422/500\n",
            "13/13 [==============================] - 1s 79ms/step - loss: 0.1424 - accuracy: 0.9596 - val_loss: 0.7599 - val_accuracy: 0.8514\n",
            "Epoch 423/500\n",
            "13/13 [==============================] - 1s 80ms/step - loss: 0.1610 - accuracy: 0.9343 - val_loss: 0.8697 - val_accuracy: 0.8649\n",
            "Epoch 424/500\n",
            "13/13 [==============================] - 1s 81ms/step - loss: 0.1448 - accuracy: 0.9444 - val_loss: 0.8485 - val_accuracy: 0.8243\n",
            "Epoch 425/500\n",
            "13/13 [==============================] - 1s 81ms/step - loss: 0.1709 - accuracy: 0.9268 - val_loss: 0.7991 - val_accuracy: 0.8649\n",
            "Epoch 426/500\n",
            "13/13 [==============================] - 1s 91ms/step - loss: 0.1565 - accuracy: 0.9495 - val_loss: 0.8299 - val_accuracy: 0.8378\n",
            "Epoch 427/500\n",
            "13/13 [==============================] - 2s 137ms/step - loss: 0.1666 - accuracy: 0.9343 - val_loss: 0.8869 - val_accuracy: 0.8649\n",
            "Epoch 428/500\n",
            "13/13 [==============================] - 2s 141ms/step - loss: 0.1550 - accuracy: 0.9520 - val_loss: 0.8485 - val_accuracy: 0.8243\n",
            "Epoch 429/500\n",
            "13/13 [==============================] - 1s 101ms/step - loss: 0.1248 - accuracy: 0.9444 - val_loss: 0.8241 - val_accuracy: 0.8514\n",
            "Epoch 430/500\n",
            "13/13 [==============================] - 1s 80ms/step - loss: 0.1289 - accuracy: 0.9545 - val_loss: 0.8842 - val_accuracy: 0.8514\n",
            "Epoch 431/500\n",
            "13/13 [==============================] - 1s 82ms/step - loss: 0.1636 - accuracy: 0.9293 - val_loss: 0.7990 - val_accuracy: 0.8514\n",
            "Epoch 432/500\n",
            "13/13 [==============================] - 1s 81ms/step - loss: 0.1550 - accuracy: 0.9343 - val_loss: 0.8453 - val_accuracy: 0.8514\n",
            "Epoch 433/500\n",
            "13/13 [==============================] - 1s 80ms/step - loss: 0.1682 - accuracy: 0.9596 - val_loss: 0.8739 - val_accuracy: 0.8378\n",
            "Epoch 434/500\n",
            "13/13 [==============================] - 1s 82ms/step - loss: 0.1713 - accuracy: 0.9394 - val_loss: 0.8173 - val_accuracy: 0.8378\n",
            "Epoch 435/500\n",
            "13/13 [==============================] - 1s 81ms/step - loss: 0.1604 - accuracy: 0.9444 - val_loss: 0.9609 - val_accuracy: 0.8108\n",
            "Epoch 436/500\n",
            "13/13 [==============================] - 1s 79ms/step - loss: 0.1515 - accuracy: 0.9419 - val_loss: 0.8734 - val_accuracy: 0.8378\n",
            "Epoch 437/500\n",
            "13/13 [==============================] - 1s 80ms/step - loss: 0.1500 - accuracy: 0.9571 - val_loss: 0.8841 - val_accuracy: 0.8243\n",
            "Epoch 438/500\n",
            "13/13 [==============================] - 1s 90ms/step - loss: 0.1408 - accuracy: 0.9646 - val_loss: 0.8026 - val_accuracy: 0.8649\n",
            "Epoch 439/500\n",
            "13/13 [==============================] - 2s 136ms/step - loss: 0.1024 - accuracy: 0.9697 - val_loss: 0.7361 - val_accuracy: 0.8649\n",
            "Epoch 440/500\n",
            "13/13 [==============================] - 2s 142ms/step - loss: 0.1544 - accuracy: 0.9470 - val_loss: 0.8236 - val_accuracy: 0.8514\n",
            "Epoch 441/500\n",
            "13/13 [==============================] - 1s 97ms/step - loss: 0.1384 - accuracy: 0.9596 - val_loss: 0.8671 - val_accuracy: 0.8514\n",
            "Epoch 442/500\n",
            "13/13 [==============================] - 1s 84ms/step - loss: 0.1484 - accuracy: 0.9520 - val_loss: 0.8382 - val_accuracy: 0.8378\n",
            "Epoch 443/500\n",
            "13/13 [==============================] - 1s 81ms/step - loss: 0.1490 - accuracy: 0.9520 - val_loss: 0.8461 - val_accuracy: 0.8378\n",
            "Epoch 444/500\n",
            "13/13 [==============================] - 1s 82ms/step - loss: 0.1060 - accuracy: 0.9646 - val_loss: 0.8503 - val_accuracy: 0.8649\n",
            "Epoch 445/500\n",
            "13/13 [==============================] - 1s 82ms/step - loss: 0.1947 - accuracy: 0.9343 - val_loss: 1.0291 - val_accuracy: 0.7838\n",
            "Epoch 446/500\n",
            "13/13 [==============================] - 1s 80ms/step - loss: 0.1991 - accuracy: 0.9343 - val_loss: 0.7927 - val_accuracy: 0.8514\n",
            "Epoch 447/500\n",
            "13/13 [==============================] - 1s 82ms/step - loss: 0.1845 - accuracy: 0.9444 - val_loss: 0.7740 - val_accuracy: 0.8649\n",
            "Epoch 448/500\n",
            "13/13 [==============================] - 1s 82ms/step - loss: 0.1731 - accuracy: 0.9369 - val_loss: 0.8292 - val_accuracy: 0.8514\n",
            "Epoch 449/500\n",
            "13/13 [==============================] - 1s 82ms/step - loss: 0.1341 - accuracy: 0.9621 - val_loss: 0.8649 - val_accuracy: 0.8378\n",
            "Epoch 450/500\n",
            "13/13 [==============================] - 1s 98ms/step - loss: 0.1116 - accuracy: 0.9672 - val_loss: 0.8845 - val_accuracy: 0.8649\n",
            "Epoch 451/500\n",
            "13/13 [==============================] - 2s 132ms/step - loss: 0.1247 - accuracy: 0.9495 - val_loss: 0.8504 - val_accuracy: 0.8378\n",
            "Epoch 452/500\n",
            "13/13 [==============================] - 2s 137ms/step - loss: 0.1172 - accuracy: 0.9596 - val_loss: 0.8513 - val_accuracy: 0.8649\n",
            "Epoch 453/500\n",
            "13/13 [==============================] - 1s 104ms/step - loss: 0.1586 - accuracy: 0.9470 - val_loss: 0.8537 - val_accuracy: 0.8784\n",
            "Epoch 454/500\n",
            "13/13 [==============================] - 1s 81ms/step - loss: 0.1588 - accuracy: 0.9545 - val_loss: 0.9535 - val_accuracy: 0.8243\n",
            "Epoch 455/500\n",
            "13/13 [==============================] - 1s 80ms/step - loss: 0.0988 - accuracy: 0.9520 - val_loss: 1.0200 - val_accuracy: 0.8649\n",
            "Epoch 456/500\n",
            "13/13 [==============================] - 1s 82ms/step - loss: 0.2200 - accuracy: 0.9318 - val_loss: 0.8279 - val_accuracy: 0.8784\n",
            "Epoch 457/500\n",
            "13/13 [==============================] - 1s 80ms/step - loss: 0.1632 - accuracy: 0.9394 - val_loss: 0.7542 - val_accuracy: 0.8514\n",
            "Epoch 458/500\n",
            "13/13 [==============================] - 1s 83ms/step - loss: 0.1417 - accuracy: 0.9596 - val_loss: 0.8178 - val_accuracy: 0.8649\n",
            "Epoch 459/500\n",
            "13/13 [==============================] - 1s 82ms/step - loss: 0.1233 - accuracy: 0.9495 - val_loss: 0.8413 - val_accuracy: 0.8514\n",
            "Epoch 460/500\n",
            "13/13 [==============================] - 1s 80ms/step - loss: 0.2041 - accuracy: 0.9394 - val_loss: 0.8126 - val_accuracy: 0.8514\n",
            "Epoch 461/500\n",
            "13/13 [==============================] - 1s 81ms/step - loss: 0.1628 - accuracy: 0.9470 - val_loss: 0.8446 - val_accuracy: 0.8649\n",
            "Epoch 462/500\n",
            "13/13 [==============================] - 1s 92ms/step - loss: 0.1379 - accuracy: 0.9470 - val_loss: 0.8671 - val_accuracy: 0.8919\n",
            "Epoch 463/500\n",
            "13/13 [==============================] - 2s 138ms/step - loss: 0.1570 - accuracy: 0.9470 - val_loss: 0.9067 - val_accuracy: 0.8649\n",
            "Epoch 464/500\n",
            "13/13 [==============================] - 2s 138ms/step - loss: 0.1697 - accuracy: 0.9495 - val_loss: 0.9012 - val_accuracy: 0.8649\n",
            "Epoch 465/500\n",
            "13/13 [==============================] - 1s 104ms/step - loss: 0.1435 - accuracy: 0.9545 - val_loss: 0.9111 - val_accuracy: 0.8514\n",
            "Epoch 466/500\n",
            "13/13 [==============================] - 1s 82ms/step - loss: 0.1560 - accuracy: 0.9520 - val_loss: 0.9252 - val_accuracy: 0.8514\n",
            "Epoch 467/500\n",
            "13/13 [==============================] - 1s 82ms/step - loss: 0.1309 - accuracy: 0.9520 - val_loss: 1.0558 - val_accuracy: 0.8378\n",
            "Epoch 468/500\n",
            "13/13 [==============================] - 1s 83ms/step - loss: 0.1856 - accuracy: 0.9444 - val_loss: 1.0209 - val_accuracy: 0.8378\n",
            "Epoch 469/500\n",
            "13/13 [==============================] - 1s 81ms/step - loss: 0.2116 - accuracy: 0.9242 - val_loss: 0.9351 - val_accuracy: 0.8514\n",
            "Epoch 470/500\n",
            "13/13 [==============================] - 1s 84ms/step - loss: 0.2232 - accuracy: 0.9217 - val_loss: 0.9037 - val_accuracy: 0.8378\n",
            "Epoch 471/500\n",
            "13/13 [==============================] - 1s 80ms/step - loss: 0.1312 - accuracy: 0.9495 - val_loss: 0.8597 - val_accuracy: 0.8378\n",
            "Epoch 472/500\n",
            "13/13 [==============================] - 1s 82ms/step - loss: 0.1629 - accuracy: 0.9470 - val_loss: 0.8770 - val_accuracy: 0.8514\n",
            "Epoch 473/500\n",
            "13/13 [==============================] - 1s 82ms/step - loss: 0.1483 - accuracy: 0.9495 - val_loss: 1.0667 - val_accuracy: 0.8378\n",
            "Epoch 474/500\n",
            "13/13 [==============================] - 1s 90ms/step - loss: 0.1291 - accuracy: 0.9495 - val_loss: 0.9840 - val_accuracy: 0.8378\n",
            "Epoch 475/500\n",
            "13/13 [==============================] - 2s 134ms/step - loss: 0.1568 - accuracy: 0.9470 - val_loss: 0.9003 - val_accuracy: 0.8514\n",
            "Epoch 476/500\n",
            "13/13 [==============================] - 2s 132ms/step - loss: 0.1197 - accuracy: 0.9621 - val_loss: 0.8752 - val_accuracy: 0.8649\n",
            "Epoch 477/500\n",
            "13/13 [==============================] - 2s 116ms/step - loss: 0.1037 - accuracy: 0.9621 - val_loss: 0.8625 - val_accuracy: 0.8649\n",
            "Epoch 478/500\n",
            "13/13 [==============================] - 1s 80ms/step - loss: 0.1796 - accuracy: 0.9293 - val_loss: 0.9848 - val_accuracy: 0.8378\n",
            "Epoch 479/500\n",
            "13/13 [==============================] - 1s 84ms/step - loss: 0.1083 - accuracy: 0.9621 - val_loss: 0.9990 - val_accuracy: 0.8378\n",
            "Epoch 480/500\n",
            "13/13 [==============================] - 1s 83ms/step - loss: 0.1622 - accuracy: 0.9369 - val_loss: 0.8617 - val_accuracy: 0.8514\n",
            "Epoch 481/500\n",
            "13/13 [==============================] - 1s 82ms/step - loss: 0.1313 - accuracy: 0.9520 - val_loss: 0.9233 - val_accuracy: 0.8378\n",
            "Epoch 482/500\n",
            "13/13 [==============================] - 1s 81ms/step - loss: 0.1778 - accuracy: 0.9470 - val_loss: 0.8346 - val_accuracy: 0.8378\n",
            "Epoch 483/500\n",
            "13/13 [==============================] - 1s 80ms/step - loss: 0.1417 - accuracy: 0.9520 - val_loss: 0.8379 - val_accuracy: 0.8514\n",
            "Epoch 484/500\n",
            "13/13 [==============================] - 1s 80ms/step - loss: 0.1551 - accuracy: 0.9596 - val_loss: 0.8607 - val_accuracy: 0.8514\n",
            "Epoch 485/500\n",
            "13/13 [==============================] - 1s 81ms/step - loss: 0.1163 - accuracy: 0.9495 - val_loss: 0.9443 - val_accuracy: 0.8108\n",
            "Epoch 486/500\n",
            "13/13 [==============================] - 1s 82ms/step - loss: 0.1279 - accuracy: 0.9596 - val_loss: 0.9167 - val_accuracy: 0.8649\n",
            "Epoch 487/500\n",
            "13/13 [==============================] - 2s 133ms/step - loss: 0.1058 - accuracy: 0.9571 - val_loss: 0.8122 - val_accuracy: 0.8514\n",
            "Epoch 488/500\n",
            "13/13 [==============================] - 2s 145ms/step - loss: 0.1351 - accuracy: 0.9545 - val_loss: 0.8001 - val_accuracy: 0.9054\n",
            "Epoch 489/500\n",
            "13/13 [==============================] - 2s 115ms/step - loss: 0.1362 - accuracy: 0.9621 - val_loss: 0.8602 - val_accuracy: 0.8784\n",
            "Epoch 490/500\n",
            "13/13 [==============================] - 1s 83ms/step - loss: 0.0999 - accuracy: 0.9697 - val_loss: 1.0325 - val_accuracy: 0.8649\n",
            "Epoch 491/500\n",
            "13/13 [==============================] - 1s 84ms/step - loss: 0.1755 - accuracy: 0.9444 - val_loss: 0.8899 - val_accuracy: 0.8784\n",
            "Epoch 492/500\n",
            "13/13 [==============================] - 1s 80ms/step - loss: 0.1537 - accuracy: 0.9470 - val_loss: 0.9204 - val_accuracy: 0.8378\n",
            "Epoch 493/500\n",
            "13/13 [==============================] - 1s 84ms/step - loss: 0.1262 - accuracy: 0.9571 - val_loss: 0.8658 - val_accuracy: 0.8784\n",
            "Epoch 494/500\n",
            "13/13 [==============================] - 1s 80ms/step - loss: 0.1709 - accuracy: 0.9394 - val_loss: 0.9543 - val_accuracy: 0.8649\n",
            "Epoch 495/500\n",
            "13/13 [==============================] - 1s 81ms/step - loss: 0.0911 - accuracy: 0.9697 - val_loss: 0.8510 - val_accuracy: 0.8649\n",
            "Epoch 496/500\n",
            "13/13 [==============================] - 1s 82ms/step - loss: 0.1169 - accuracy: 0.9545 - val_loss: 0.8125 - val_accuracy: 0.8784\n",
            "Epoch 497/500\n",
            "13/13 [==============================] - 1s 79ms/step - loss: 0.1037 - accuracy: 0.9596 - val_loss: 0.8698 - val_accuracy: 0.8784\n",
            "Epoch 498/500\n",
            "13/13 [==============================] - 1s 78ms/step - loss: 0.1423 - accuracy: 0.9444 - val_loss: 0.8739 - val_accuracy: 0.8649\n",
            "Epoch 499/500\n",
            "13/13 [==============================] - 2s 132ms/step - loss: 0.1587 - accuracy: 0.9419 - val_loss: 0.8469 - val_accuracy: 0.8514\n",
            "Epoch 500/500\n",
            "13/13 [==============================] - 2s 138ms/step - loss: 0.1486 - accuracy: 0.9621 - val_loss: 0.8704 - val_accuracy: 0.8649\n"
          ]
        }
      ],
      "source": [
        "history = model.fit(X_train, y_train, epochs=epochs, validation_data=(X_val, y_val), verbose=1)"
      ]
    },
    {
      "cell_type": "markdown",
      "metadata": {
        "id": "ues5Uz5ZIonL"
      },
      "source": [
        "####**Evaluating the performance**"
      ]
    },
    {
      "cell_type": "code",
      "execution_count": 136,
      "metadata": {
        "colab": {
          "base_uri": "https://localhost:8080/",
          "height": 545
        },
        "id": "9X203acY3NMQ",
        "outputId": "32ff988b-c7ad-48e8-fd67-440c4926ab33"
      },
      "outputs": [
        {
          "output_type": "stream",
          "name": "stdout",
          "text": [
            "1/1 [==============================] - 0s 64ms/step - loss: 0.2153 - accuracy: 0.8800\n"
          ]
        },
        {
          "output_type": "display_data",
          "data": {
            "text/plain": [
              "<Figure size 1000x600 with 1 Axes>"
            ],
            "image/png": "[encoded data removed]"
          },
          "metadata": {}
        }
      ],
      "source": [
        "model.evaluate(X_test, y_test)\n",
        "\n",
        "pd.DataFrame(history.history).plot(figsize=(10,6))\n",
        "plt.grid(True)\n",
        "plt.gca().set_ylim(0,2)\n",
        "plt.show()"
      ]
    },
    {
      "cell_type": "code",
      "execution_count": 126,
      "metadata": {
        "colab": {
          "base_uri": "https://localhost:8080/",
          "height": 490
        },
        "id": "OAsKkkq64Kg5",
        "outputId": "0db9ab1c-d094-4622-85bd-0ef114efe846"
      },
      "outputs": [
        {
          "output_type": "stream",
          "name": "stdout",
          "text": [
            "1/1 [==============================] - 0s 137ms/step\n"
          ]
        },
        {
          "output_type": "display_data",
          "data": {
            "text/plain": [
              "<Figure size 640x480 with 2 Axes>"
            ],
            "image/png": "[encoded data removed]"
          },
          "metadata": {}
        },
        {
          "output_type": "stream",
          "name": "stdout",
          "text": [
            "88.0\n"
          ]
        }
      ],
      "source": [
        "prediction = model.predict(X_test)\n",
        "predicted_labels = [np.argmax(i) for i in prediction]\n",
        "\n",
        "cm = confusion_matrix(y_test, prediction.argmax(axis=1))\n",
        "disp = ConfusionMatrixDisplay(confusion_matrix=cm)\n",
        "disp.plot()\n",
        "plt.show()\n",
        "\n",
        "accuracy = 100*np.trace(cm)/np.sum(cm)\n",
        "print(accuracy)"
      ]
    },
    {
      "cell_type": "code",
      "source": [
        "# Expected instances of each category in the testing data\n",
        "print('Baseball: ' + str(pd.Series(y_test).value_counts()[0]) + '\\nBasketball: ' + str(pd.Series(y_test).value_counts()[1]) +\n",
        "'\\nBilliards: ' + str(pd.Series(y_test).value_counts()[2]) + '\\nBowling: ' + str(pd.Series(y_test).value_counts()[3]) + \n",
        "'\\nFootball: ' + str(pd.Series(y_test).value_counts()[4]) + '\\nGolf: ' + str(pd.Series(y_test).value_counts()[5]) + \n",
        "'\\nSoccer: ' + str(pd.Series(y_test).value_counts()[6]) + '\\nTabletennis: ' + str(pd.Series(y_test).value_counts()[7]) + \n",
        "'\\nTennis: ' + str(pd.Series(y_test).value_counts()[8]) + '\\nVolleyball: ' + str(pd.Series(y_test).value_counts()[9]))"
      ],
      "metadata": {
        "colab": {
          "base_uri": "https://localhost:8080/"
        },
        "id": "M9td8gm23amd",
        "outputId": "044111be-74e3-4758-d2c2-1045bb9d1c26"
      },
      "execution_count": 127,
      "outputs": [
        {
          "output_type": "stream",
          "name": "stdout",
          "text": [
            "Baseball: 2\n",
            "Basketball: 2\n",
            "Billiards: 3\n",
            "Bowling: 4\n",
            "Football: 1\n",
            "Golf: 3\n",
            "Soccer: 4\n",
            "Tabletennis: 4\n",
            "Tennis: 1\n",
            "Volleyball: 1\n"
          ]
        }
      ]
    },
    {
      "cell_type": "code",
      "execution_count": 128,
      "metadata": {
        "colab": {
          "base_uri": "https://localhost:8080/",
          "height": 564
        },
        "id": "D5vf25P_d9NF",
        "outputId": "f3951cfa-b3c5-4c3b-b572-ea5bb7063cca"
      },
      "outputs": [
        {
          "output_type": "execute_result",
          "data": {
            "text/plain": [
              "Text(45.722222222222214, 0.5, 'True Label')"
            ]
          },
          "metadata": {},
          "execution_count": 128
        },
        {
          "output_type": "display_data",
          "data": {
            "text/plain": [
              "<Figure size 600x600 with 2 Axes>"
            ],
            "image/png": "[encoded data removed]"
          },
          "metadata": {}
        }
      ],
      "source": [
        "# Alternative Code for Displaying Confusion Matrix\n",
        "import seaborn as sn\n",
        "plt.figure(figsize = (6,6))\n",
        "sn.heatmap(cm, annot=True, fmt='d')\n",
        "plt.xlabel('Predicted Label')\n",
        "plt.ylabel('True Label')"
      ]
    }
  ],
  "metadata": {
    "colab": {
      "provenance": [],
      "include_colab_link": true
    },
    "kernelspec": {
      "display_name": "Python 3",
      "name": "python3"
    },
    "language_info": {
      "name": "python"
    }
  },
  "nbformat": 4,
  "nbformat_minor": 0
}