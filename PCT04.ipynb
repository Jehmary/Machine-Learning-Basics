{
  "cells": [
    {
      "cell_type": "markdown",
      "metadata": {
        "id": "view-in-github",
        "colab_type": "text"
      },
      "source": [
        "<a href=\"https://colab.research.google.com/github/Jehmary/Machine-Learning-Basics/blob/main/PCT04.ipynb\" target=\"_parent\"><img src=\"https://colab.research.google.com/assets/colab-badge.svg\" alt=\"Open In Colab\"/></a>"
      ]
    },
    {
      "cell_type": "markdown",
      "metadata": {
        "id": "Cx-xjMmrn9YP"
      },
      "source": [
        "##**Classification of Images of Balls**"
      ]
    },
    {
      "cell_type": "markdown",
      "metadata": {
        "id": "SmmMWPBIoVZ6"
      },
      "source": [
        "####**Importing the Necessary Libraries**"
      ]
    },
    {
      "cell_type": "code",
      "execution_count": 3,
      "metadata": {
        "id": "7B78bGpln72R"
      },
      "outputs": [],
      "source": [
        "import numpy as np\n",
        "import matplotlib.pyplot as plt\n",
        "import pandas as pd\n",
        "import os\n",
        "\n",
        "import cv2 as cv\n",
        "import fnmatch\n",
        "\n",
        "import tensorflow as tf\n",
        "from tensorflow import keras\n",
        "from tensorflow.keras.models import Sequential\n",
        "from tensorflow.keras.layers import Dense, Conv2D, Dropout, Flatten, MaxPooling2D\n",
        "\n",
        "from sklearn import datasets\n",
        "from sklearn.preprocessing import LabelEncoder\n",
        "from sklearn.model_selection import train_test_split\n",
        "from sklearn.metrics import confusion_matrix, ConfusionMatrixDisplay"
      ]
    },
    {
      "cell_type": "markdown",
      "metadata": {
        "id": "_lQlilLLp8mB"
      },
      "source": [
        "####**Importing the Data**"
      ]
    },
    {
      "cell_type": "markdown",
      "metadata": {
        "id": "AnB8laRk2tEH"
      },
      "source": [
        "Mounting Google Drive"
      ]
    },
    {
      "cell_type": "code",
      "execution_count": 4,
      "metadata": {
        "id": "8jX_sF24HXpO",
        "colab": {
          "base_uri": "https://localhost:8080/"
        },
        "outputId": "4f759b70-fd6f-4068-ea99-450c169cf9b4"
      },
      "outputs": [
        {
          "output_type": "stream",
          "name": "stdout",
          "text": [
            "Mounted at /content/gdrive/\n"
          ]
        }
      ],
      "source": [
        "from google.colab import drive\n",
        "drive.mount('/content/gdrive/', force_remount=True)"
      ]
    },
    {
      "cell_type": "markdown",
      "metadata": {
        "id": "FkR-NLPW2w_2"
      },
      "source": [
        "Redirecting directory to \"Balls\" folder"
      ]
    },
    {
      "cell_type": "code",
      "execution_count": 5,
      "metadata": {
        "colab": {
          "base_uri": "https://localhost:8080/"
        },
        "id": "7SlBkPEUiFnM",
        "outputId": "ae505919-00a9-4a9a-9c2d-b402f63cf273"
      },
      "outputs": [
        {
          "output_type": "stream",
          "name": "stdout",
          "text": [
            "/content/gdrive/MyDrive/Colab Notebooks/Book/Balls\n"
          ]
        }
      ],
      "source": [
        "%cd /content/gdrive/MyDrive/'Colab Notebooks'/Book/Balls"
      ]
    },
    {
      "cell_type": "code",
      "execution_count": null,
      "metadata": {
        "id": "LdPecqYB2DEm"
      },
      "outputs": [],
      "source": [
        "ls"
      ]
    },
    {
      "cell_type": "markdown",
      "metadata": {
        "id": "1UNgvwSpVm6V"
      },
      "source": [
        "Randomizing data by shuffling"
      ]
    },
    {
      "cell_type": "code",
      "execution_count": 6,
      "metadata": {
        "id": "q3-gMdBT6OPv"
      },
      "outputs": [],
      "source": [
        "unshuffled_data = pd.DataFrame.from_dict(os.listdir())\n",
        "shuffled_data   = unshuffled_data.sample(frac=1, random_state=1).reset_index()\n",
        "data            = pd.DataFrame(shuffled_data)[0].values.tolist()"
      ]
    },
    {
      "cell_type": "code",
      "execution_count": 7,
      "metadata": {
        "colab": {
          "base_uri": "https://localhost:8080/"
        },
        "id": "pO8G96nQ7alq",
        "outputId": "9b4a1def-6371-4224-afc0-04f5e408476f"
      },
      "outputs": [
        {
          "output_type": "stream",
          "name": "stdout",
          "text": [
            "['bowling19.jpg', 'billiards41.jpg', 'volleyball35.png', 'bowling41.jpg', 'tabletennis28.jpg', 'football23.png', 'tabletennis12.jpg', 'volleyball11.jpg', 'tabletennis34.png', 'basketball29.jpg', 'tabletennis27.jpg', 'tabletennis48.jpg', 'tennis50.jpg', 'billiards29.jpg', 'tennis49.png', 'billiards01.png', 'soccer50.jpg', 'baseball46.jpg', 'football19.jpg', 'tabletennis46.jpg', 'football25.jpg', 'basketball35.jpg', 'volleyball10.jpg', 'bowling04.jpg', 'football24.jpg', 'billiards44.jpg', 'football22.jpg', 'golf04.jpg', 'volleyball17.jpg', 'tabletennis40.png', 'baseball07.jpg', 'baseball36.png', 'billiards32.png', 'baseball30.png', 'tabletennis37.jpg', 'volleyball00.jpg', 'tabletennis09.jpg', 'football26.jpg', 'tabletennis15.jpg', 'football37.png', 'basketball43.jpg', 'basketball25.jpg', 'football39.jpg', 'basketball32.png', 'baseball29.jpg', 'golf20.jpg', 'tennis43.jpg', 'football50.png', 'volleyball37.jpeg', 'volleyball51.png', 'soccer04.jpg', 'tennis02.jpg', 'volleyball38.jpg', 'bowling25.png', 'basketball23.png', 'tabletennis42.jpg', 'football15.jpg', 'billiards30.png', 'basketball45.png', 'golf12.jpg', 'tennis36.png', 'soccer07.jpeg', 'basketball53.jpeg', 'tabletennis07.png', 'billiards14.png', 'basketball44.jpg', 'baseball24.jpg', 'tabletennis47.jpg', 'tennis07.jpeg', 'baseball17.jpg', 'golf10.jpg', 'basketball00.jpg', 'basketball17.jpg', 'billiards37.png', 'soccer30.jpg', 'golf01.jpg', 'baseball42.jpg', 'volleyball41.png', 'basketball36.png', 'volleyball13.jpg', 'bowling38.png', 'football43.jpg', 'basketball48.png', 'bowling05.jpg', 'golf39.png', 'volleyball49.jpg', 'basketball01.jpg', 'golf50.jpg', 'basketball37.png', 'golf37.png', 'golf46.jpg', 'football01.jpg', 'tennis33.jpg', 'billiards27.jpg', 'tabletennis13.jpg', 'tabletennis08.jpeg', 'golf38.png', 'tabletennis02.jpg', 'basketball39.jpg', 'billiards06.jpg', 'soccer53.jpeg', 'billiards46.png', 'golf28.png', 'volleyball54.png', 'baseball13.jpg', 'tennis01.jpg', 'tennis44.jpg', 'football00.jpg', 'soccer14.jpg', 'golf52.jpg', 'bowling15.png', 'bowling51.jpeg', 'tabletennis26.jpg', 'football27.jpg', 'tabletennis50.jpg', 'golf27.jpg', 'soccer39.png', 'tabletennis45.jpg', 'tennis47.jpg', 'tabletennis52.png', 'baseball23.png', 'soccer41.jpg', 'volleyball46.jpg', 'baseball00.jpg', 'basketball21.jpg', 'bowling10.jpg', 'tennis46.jpg', 'bowling32.png', 'basketball16.png', 'soccer32.jpg', 'baseball26.jpg', 'billiards28.jpg', 'football46.jpg', 'basketball47.png', 'basketball02.png', 'billiards03.jpeg', 'tennis29.jpg', 'tennis48.png', 'football09.png', 'baseball49.jpg', 'soccer29.jpg', 'tennis18.png', 'bowling20.jpg', 'bowling18.webp', 'tabletennis24.jpg', 'volleyball45.png', 'football33.jpg', 'volleyball03.jpg', 'golf00.jpg', 'soccer17.jpg', 'baseball48.png', 'billiards36.png', 'bowling35.jpg', 'basketball51.jpeg', 'baseball52.jpeg', 'soccer24.jpg', 'baseball10.jpg', 'football04.jpg', 'soccer20.png', 'golf17.jpg', 'golf49.png', 'tennis15.jpg', 'tabletennis41.jpg', 'baseball28.jpg', 'volleyball52.png', 'baseball27.jpg', 'volleyball36.jpg', 'volleyball23.png', 'golf51.jpg', 'tabletennis54.jpeg', 'basketball14.png', 'billiards18.webp', 'golf23.png', 'tabletennis35.jpg', 'bowling24.jpg', 'golf47.jpg', 'soccer52.jpeg', 'volleyball30.jpg', 'golf18.jpg', 'soccer10.jpg', 'football41.jpg', 'soccer02.jpeg', 'tabletennis17.jpg', 'bowling01.jpg', 'golf09.png', 'tennis38.png', 'bowling33.jpg', 'billiards05.jpg', 'golf40.png', 'tennis09.jpg', 'volleyball55.jpeg', 'football05.jpg', 'billiards11.jpg', 'volleyball29.jpg', 'billiards47.png', 'basketball41.jpg', 'tabletennis51.jpg', 'volleyball34.png', 'volleyball39.png', 'golf05.png', 'tabletennis11.jpg', 'baseball11.jpg', 'baseball01.jpg', 'tennis05.jpg', 'baseball04.jpg', 'basketball12.jpg', 'basketball49.png', 'volleyball07.jpg', 'soccer22.png', 'basketball30.png', 'tennis25.jpg', 'volleyball16.jpg', 'golf19.jpg', 'tennis08.jpg', 'football28.jpg', 'tabletennis14.jpg', 'billiards04.jpg', 'tabletennis29.jpg', 'tennis24.jpg', 'billiards50.png', 'soccer12.jpg', 'golf31.png', 'billiards53.png', 'football45.jpg', 'billiards21.png', 'bowling31.png', 'golf07.jpeg', 'tennis14.jpg', 'bowling00.jpg', 'billiards48.jpg', 'bowling50.png', 'football35.jpg', 'basketball28.jpg', 'billiards51.jpeg', 'golf36.jpg', 'billiards19.jpg', 'soccer38.png', 'volleyball22.png', 'football21.png', 'basketball38.png', 'basketball31.png', 'tennis40.jpg', 'bowling44.jpg', 'tabletennis03.jpg', 'bowling02.jpg', 'volleyball48.jpg', 'volleyball20.png', 'football49.png', 'bowling53.jpeg', 'volleyball19.png', 'basketball11.jpg', 'soccer45.jpg', 'tennis10.jpg', 'soccer11.jpg', 'soccer19.png', 'tabletennis55.jpeg', 'tennis19.png', 'football16.jpg', 'basketball15.jpg', 'basketball08.jpeg', 'billiards39.png', 'baseball18.jpg', 'basketball24.jpg', 'soccer42.jpg', 'billiards17.jpg', 'bowling52.jpeg', 'soccer48.jpg', 'volleyball43.png', 'volleyball27.jpg', 'baseball45.jpg', 'baseball38.png', 'bowling30.png', 'golf13.png', 'basketball34.jpg', 'tabletennis16.jpg', 'soccer16.jpg', 'tabletennis43.jpg', 'volleyball18.png', 'baseball22.png', 'bowling14.png', 'golf33.png', 'soccer51.jpeg', 'baseball43.jpg', 'volleyball50.jpg', 'golf42.jpg', 'bowling42.jpg', 'soccer35.jpg', 'volleyball56.jpeg', 'bowling36.png', 'soccer18.png', 'golf44.jpg', 'football40.jpg', 'volleyball26.jpg', 'soccer43.jpg', 'tabletennis49.jpg', 'baseball39.png', 'volleyball25.jpg', 'bowling17.jpg', 'golf03.jpg', 'billiards42.jpg', 'bowling07.jpeg', 'volleyball24.jpg', 'tennis53.jpeg', 'football53.jpeg', 'baseball20.jpg', 'billiards26.jpg', 'soccer06.jpg', 'billiards20.jpg', 'basketball27.jpg', 'football02.jpg', 'basketball52.jpeg', 'baseball16.jpg', 'baseball33.jpg', 'tennis23.png', 'basketball18.jpg', 'tennis16.jpg', 'volleyball14.png', 'basketball07.jpeg', 'baseball12.jpg', 'billiards00.jpg', 'tennis03.jpg', 'football18.jpg', 'golf48.jpg', 'golf43.jpg', 'tabletennis25.jpg', 'tennis00.jpg', 'volleyball02.jpg', 'baseball44.jpg', 'bowling09.jpeg', 'basketball20.jpg', 'basketball50.png', 'golf45.jpg', 'tennis32.png', 'baseball08.jpeg', 'soccer44.jpg', 'billiards40.jpg', 'baseball06.png', 'basketball04.jpg', 'billiards34.jpg', 'soccer08.jpg', 'basketball42.jpg', 'football32.png', 'baseball35.jpg', 'tennis28.jpg', 'baseball53.jpeg', 'tabletennis36.jpg', 'football03.jpg', 'football31.png', 'tabletennis22.png', 'soccer25.jpg', 'football48.png', 'tennis04.jpg', 'soccer00.jpg', 'bowling26.png', 'baseball31.png', 'baseball32.png', 'soccer21.png', 'baseball15.jpg', 'soccer03.jpg', 'bowling23.png', 'billiards22.png', 'volleyball12.jpg', 'soccer33.png', 'football12.jpg', 'volleyball21.png', 'tabletennis53.jpeg', 'billiards45.png', 'football38.png', 'volleyball28.jpg', 'golf26.jpg', 'football07.jpg', 'golf32.png', 'bowling49.png', 'tennis41.jpg', 'tennis39.jpg', 'soccer36.jpg', 'basketball22.png', 'golf16.jpg', 'football10.jpg', 'football06.jpg', 'golf11.jpg', 'soccer49.png', 'tennis17.jpg', 'bowling46.jpg', 'bowling08.jpeg', 'tabletennis23.png', 'billiards31.png', 'tabletennis18.png', 'soccer23.png', 'bowling40.jpg', 'tennis34.jpg', 'bowling21.png', 'football44.jpg', 'soccer34.jpg', 'billiards16.jpg', 'soccer26.jpg', 'tennis12.jpg', 'tennis35.jpg', 'football47.jpg', 'golf35.jpg', 'soccer40.jpg', 'golf08.png', 'billiards10.jpg', 'tennis20.png', 'basketball13.png', 'football14.png', 'golf22.png', 'golf15.png', 'soccer37.png', 'baseball47.jpg', 'golf34.jpg', 'tabletennis38.png', 'golf53.jpeg', 'billiards02.jpeg', 'tabletennis04.jpg', 'billiards12.jpg', 'tennis22.png', 'soccer27.jpg', 'football08.jpg', 'football30.png', 'bowling48.png', 'baseball37.png', 'basketball05.jpg', 'bowling45.jpg', 'golf02.jpg', 'soccer47.png', 'billiards35.png', 'billiards08.jpg', 'golf21.png', 'volleyball15.jpg', 'tabletennis31.jpg', 'billiards23.png', 'football13.png', 'soccer46.png', 'baseball02.png', 'basketball09.jpeg', 'golf30.jpg', 'billiards24.jpg', 'tennis37.png', 'baseball25.jpg', 'billiards33.jpeg', 'bowling37.png', 'tabletennis32.png', 'bowling22.png', 'golf14.png', 'football51.jpeg', 'volleyball42.jpg', 'tennis31.png', 'baseball21.png', 'billiards07.jpg', 'football34.jpg', 'golf29.jpg', 'billiards52.jpeg', 'basketball10.jpg', 'soccer28.jpg', 'billiards15.png', 'golf54.jpeg', 'volleyball31.jpg', 'volleyball44.jpg', 'volleyball01.jpg', 'baseball14.jpg', 'football20.jpg', 'tennis13.jpg', 'tennis45.jpg', 'billiards49.png', 'basketball19.jpg', 'basketball33.jpg', 'tabletennis39.png', 'football29.png', 'tabletennis10.jpg', 'tabletennis19.png', 'volleyball32.jpg', 'soccer01.jpg', 'bowling11.jpg', 'baseball19.jpg', 'bowling28.jpg', 'baseball41.jpg', 'volleyball47.jpg', 'tennis26.jpg', 'billiards38.png', 'tabletennis00.jpg', 'tabletennis20.png', 'soccer09.png', 'bowling03.jpg', 'tabletennis44.jpg', 'tennis06.png', 'football36.png', 'bowling12.jpg', 'bowling34.jpg', 'tabletennis33.png', 'tabletennis01.jpg', 'billiards09.jpg', 'bowling06.jpg', 'bowling27.jpg', 'billiards43.jpg', 'baseball03.jpg', 'tennis51.jpeg', 'baseball09.jpeg', 'golf41.jpg', 'bowling43.jpg', 'volleyball40.png', 'volleyball09.jpg', 'baseball05.jpg', 'football42.jpg', 'football17.jpg', 'baseball51.jpeg', 'baseball50.jpg', 'football11.jpg', 'football52.jpeg', 'golf25.jpg', 'tabletennis30.jpeg', 'tennis21.png', 'volleyball33.png', 'tennis52.jpeg', 'soccer31.jpg', 'tennis30.png', 'basketball03.png', 'basketball40.jpg', 'billiards13.png', 'soccer13.jpg', 'basketball46.png', 'bowling47.jpg', 'golf24.jpg', 'bowling39.jpg', 'soccer48.png', 'billiards25.jpg', 'tennis42.jpg', 'baseball34.jpg', 'basketball26.jpg', 'soccer05.jpg', 'tabletennis21.png', 'bowling29.jpg', 'baseball40.jpg', 'volleyball53.png', 'tennis11.jpg', 'bowling13.png', 'volleyball08.png', 'tennis27.jpg', 'basketball06.jpg']\n"
          ]
        }
      ],
      "source": [
        "print(data)"
      ]
    },
    {
      "cell_type": "markdown",
      "metadata": {
        "id": "2HS8md9524pp"
      },
      "source": [
        "Reading image files and excluding those not rescaled to 28x28\n",
        "\n"
      ]
    },
    {
      "cell_type": "code",
      "execution_count": 9,
      "metadata": {
        "colab": {
          "base_uri": "https://localhost:8080/"
        },
        "id": "6tBaNCETIkyo",
        "outputId": "5a9b6071-8da3-4ba7-b613-1c97e6fffe9a"
      },
      "outputs": [
        {
          "output_type": "stream",
          "name": "stdout",
          "text": [
            "44 images were not rescaled to 28x28, hence excluded.\n"
          ]
        }
      ],
      "source": [
        "m = 0\n",
        "list_files = []\n",
        "for file in data:\n",
        "  image = cv.imread(file)\n",
        "  if image.shape == (28,28,3):\n",
        "    list_files.append(image)\n",
        "  else:\n",
        "    m += 1\n",
        "print(str(m) + ' images were not rescaled to 28x28, hence excluded.')\n",
        "# This code can read WEBP files"
      ]
    },
    {
      "cell_type": "markdown",
      "metadata": {
        "id": "ZV51Ch4J3Yoi"
      },
      "source": [
        "Verifying shape of image file and number of samples"
      ]
    },
    {
      "cell_type": "code",
      "execution_count": 10,
      "metadata": {
        "colab": {
          "base_uri": "https://localhost:8080/"
        },
        "id": "4fjXYcqz2NVl",
        "outputId": "cd4ae853-a299-41c2-cab6-4177760df8cb"
      },
      "outputs": [
        {
          "output_type": "stream",
          "name": "stdout",
          "text": [
            "(28, 28, 3)\n",
            "495\n"
          ]
        }
      ],
      "source": [
        "print(list_files[0].shape)\n",
        "print(len(list_files))"
      ]
    },
    {
      "cell_type": "markdown",
      "metadata": {
        "id": "bGqJrJbWmjJz"
      },
      "source": [
        "Data and plot of first image"
      ]
    },
    {
      "cell_type": "code",
      "execution_count": 11,
      "metadata": {
        "colab": {
          "base_uri": "https://localhost:8080/",
          "height": 1000
        },
        "id": "9_Qh5I7iqZ_h",
        "outputId": "28656ec7-9b5b-4bb1-f36f-255f1de9c52b"
      },
      "outputs": [
        {
          "output_type": "stream",
          "name": "stdout",
          "text": [
            "[[[255 255 255]\n",
            "  [255 255 255]\n",
            "  [255 255 254]\n",
            "  ...\n",
            "  [255 255 255]\n",
            "  [255 255 255]\n",
            "  [255 255 255]]\n",
            "\n",
            " [[255 255 255]\n",
            "  [255 255 255]\n",
            "  [255 255 255]\n",
            "  ...\n",
            "  [255 255 255]\n",
            "  [255 255 255]\n",
            "  [255 255 255]]\n",
            "\n",
            " [[255 255 255]\n",
            "  [255 255 255]\n",
            "  [255 255 255]\n",
            "  ...\n",
            "  [255 255 255]\n",
            "  [255 255 255]\n",
            "  [255 255 255]]\n",
            "\n",
            " ...\n",
            "\n",
            " [[255 255 255]\n",
            "  [255 255 255]\n",
            "  [254 254 254]\n",
            "  ...\n",
            "  [254 254 254]\n",
            "  [255 255 255]\n",
            "  [255 255 255]]\n",
            "\n",
            " [[255 255 255]\n",
            "  [255 255 255]\n",
            "  [255 255 255]\n",
            "  ...\n",
            "  [255 255 255]\n",
            "  [255 255 255]\n",
            "  [255 255 255]]\n",
            "\n",
            " [[255 255 255]\n",
            "  [255 255 255]\n",
            "  [255 255 255]\n",
            "  ...\n",
            "  [255 255 255]\n",
            "  [255 255 255]\n",
            "  [255 255 255]]]\n"
          ]
        },
        {
          "output_type": "execute_result",
          "data": {
            "text/plain": [
              "<matplotlib.image.AxesImage at 0x7f1ecd174c70>"
            ]
          },
          "metadata": {},
          "execution_count": 11
        },
        {
          "output_type": "display_data",
          "data": {
            "text/plain": [
              "<Figure size 480x480 with 1 Axes>"
            ],
            "image/png": "[encoded data removed]"
          },
          "metadata": {}
        }
      ],
      "source": [
        "print(list_files[0])\n",
        "plt.matshow(list_files[0])"
      ]
    },
    {
      "cell_type": "markdown",
      "metadata": {
        "id": "lfsbYtWOmsWm"
      },
      "source": [
        "Flattening the data"
      ]
    },
    {
      "cell_type": "code",
      "execution_count": 12,
      "metadata": {
        "colab": {
          "base_uri": "https://localhost:8080/"
        },
        "id": "BnrRYYClR_Gi",
        "outputId": "63d18d0b-316f-42c0-fb90-395ded89d031"
      },
      "outputs": [
        {
          "output_type": "stream",
          "name": "stdout",
          "text": [
            "(495, 28, 28, 3)\n"
          ]
        },
        {
          "output_type": "stream",
          "name": "stderr",
          "text": [
            "/usr/local/lib/python3.10/dist-packages/IPython/core/interactiveshell.py:3473: FutureWarning: arrays to stack must be passed as a \"sequence\" type such as list or tuple. Support for non-sequence iterables such as generators is deprecated as of NumPy 1.16 and will raise an error in the future.\n",
            "  if (await self.run_code(code, result,  async_=asy)):\n"
          ]
        }
      ],
      "source": [
        "flat_files = np.stack((list_files[i] for i in range(len(list_files))))\n",
        "print(flat_files.shape)"
      ]
    },
    {
      "cell_type": "markdown",
      "metadata": {
        "id": "Njsw1qRjWKwf"
      },
      "source": [
        "####**Adding labels to data sets**"
      ]
    },
    {
      "cell_type": "code",
      "execution_count": 13,
      "metadata": {
        "colab": {
          "base_uri": "https://localhost:8080/"
        },
        "id": "N_Af0cv_WQD0",
        "outputId": "bb1cc453-5e6a-4f96-a031-726e5f031fe5"
      },
      "outputs": [
        {
          "output_type": "stream",
          "name": "stdout",
          "text": [
            "(495,)\n",
            "[3 2 9 3 7 4 7 9 7 1 7 7 8 2 8 2 6 0 4 7 4 1 9 4 2 4 5 9 7 0 0 2 0 7 9 7 4\n",
            " 7 4 1 1 4 1 0 5 8 4 9 9 6 8 3 1 7 4 2 1 5 8 6 1 7 2 1 0 7 8 0 5 1 1 2 6 5\n",
            " 0 9 1 9 3 4 1 5 9 1 5 1 5 5 4 8 2 7 7 5 7 1 6 2 5 9 0 8 8 4 6 5 3 3 4 7 5\n",
            " 6 7 8 7 0 6 9 0 1 3 8 3 1 6 0 2 1 1 2 8 8 4 0 6 8 3 3 9 9 5 6 0 2 3 1 0 0\n",
            " 6 5 5 8 7 0 9 0 9 5 7 1 2 5 7 3 5 6 9 5 6 4 6 7 3 5 8 5 8 9 4 2 9 2 1 7 9\n",
            " 9 5 7 0 0 8 0 1 1 9 6 1 9 5 8 4 7 7 2 6 5 2 4 2 3 5 8 3 2 3 1 2 5 2 6 9 4\n",
            " 1 1 8 3 7 3 9 9 4 3 9 1 6 8 6 6 7 8 4 1 1 2 0 1 6 2 3 6 9 9 0 3 5 1 7 6 7\n",
            " 9 0 3 5 6 0 9 5 3 9 3 6 5 4 6 7 0 3 5 2 3 8 4 0 2 6 2 1 1 0 0 8 1 8 9 1 0\n",
            " 2 8 4 5 8 9 0 3 1 1 5 8 0 6 2 0 6 1 4 8 0 7 4 7 4 8 6 3 0 0 6 0 6 3 2 9 6\n",
            " 4 9 7 2 4 9 4 5 3 8 8 6 1 5 4 4 5 6 8 3 3 7 2 7 6 3 8 3 4 6 2 8 4 5 6 5 2\n",
            " 8 1 4 5 5 6 0 5 7 5 2 7 2 8 6 4 4 3 0 3 5 2 5 9 7 2 4 6 0 1 5 2 8 0 2 3 7\n",
            " 3 5 4 9 8 0 2 5 2 1 6 2 5 9 9 9 0 4 8 8 2 1 7 4 7 7 9 6 3 0 3 0 9 2 7 7 6\n",
            " 3 7 8 4 3 3 7 7 2 3 2 0 8 0 5 3 9 9 0 4 4 0 0 4 4 7 8 9 8 6 8 1 1 2 6 1 3\n",
            " 3 6 2 8 1 6 7 3 0 9 8 3 9 8]\n"
          ]
        }
      ],
      "source": [
        "# matching name of file to accounted file names for labelling\n",
        "baseballXX    = 'baseball*'\n",
        "basketballXX  = 'basketball*'\n",
        "billiardsXX   = 'billiards*'\n",
        "bowlingXX     = 'bowling*'\n",
        "footballXX    = 'football*'\n",
        "golfXX        = 'golf*'\n",
        "soccerXX      = 'soccer*'\n",
        "tabletennisXX = 'tabletennis*'\n",
        "tennisXX      = 'tennis*'\n",
        "volleyballXX  = 'volleyball*'\n",
        "label         = []\n",
        "for filename in data:\n",
        "  image = cv.imread(filename)\n",
        "  if image.shape == (28,28,3):\n",
        "    if fnmatch.fnmatch(filename, baseballXX) == True:\n",
        "      label.append(0)\n",
        "    elif fnmatch.fnmatch(filename, basketballXX) == True:\n",
        "      label.append(1)\n",
        "    elif fnmatch.fnmatch(filename, billiardsXX) == True:\n",
        "      label.append(2)\n",
        "    elif fnmatch.fnmatch(filename, bowlingXX) == True:\n",
        "      label.append(3)\n",
        "    elif fnmatch.fnmatch(filename, footballXX) == True:\n",
        "      label.append(4)\n",
        "    elif fnmatch.fnmatch(filename, golfXX) == True:\n",
        "      label.append(5)\n",
        "    elif fnmatch.fnmatch(filename, soccerXX) == True:\n",
        "      label.append(6)\n",
        "    elif fnmatch.fnmatch(filename, tabletennisXX) == True:\n",
        "      label.append(7)\n",
        "    elif fnmatch.fnmatch(filename, tennisXX) == True:\n",
        "      label.append(8)\n",
        "    elif fnmatch.fnmatch(filename, volleyballXX) == True:\n",
        "      label.append(9)\n",
        "    else:\n",
        "      print(filename + str(' is not accounted.'))\n",
        "\n",
        "label = np.reshape(label, (len(label),))\n",
        "print(label.shape)\n",
        "print(label)"
      ]
    },
    {
      "cell_type": "markdown",
      "metadata": {
        "id": "PNgaG30Fm_IR"
      },
      "source": [
        "####**Defining training data and testing data sets**"
      ]
    },
    {
      "cell_type": "markdown",
      "metadata": {
        "id": "cXky_ZitimuG"
      },
      "source": [
        "Allocating 80% of the data for training, 10% for validating, and 10% for testing."
      ]
    },
    {
      "cell_type": "code",
      "execution_count": 14,
      "metadata": {
        "id": "z4WXambYm0Ya"
      },
      "outputs": [],
      "source": [
        "trainRatio = 80/100\n",
        "valRatio = 10/100\n",
        "testRatio = 10/100\n",
        "\n",
        "X_train, X_test, y_train, y_test = train_test_split(flat_files, label, test_size = 1 - trainRatio)\n",
        "X_val, X_test, y_val, y_test = train_test_split(X_test, y_test, test_size = testRatio/(testRatio + valRatio))"
      ]
    },
    {
      "cell_type": "markdown",
      "metadata": {
        "id": "AKCTYpTN0Iq8"
      },
      "source": [
        "#####**Preparing the Data**"
      ]
    },
    {
      "cell_type": "markdown",
      "metadata": {
        "id": "9zd626NOWOX0"
      },
      "source": [
        "Rescaling the data to improve the accuracy"
      ]
    },
    {
      "cell_type": "code",
      "execution_count": 15,
      "metadata": {
        "id": "8InBA0lLWTeI"
      },
      "outputs": [],
      "source": [
        "X_train = X_train/255\n",
        "X_test = X_test/255\n",
        "X_val = X_val/255"
      ]
    },
    {
      "cell_type": "markdown",
      "metadata": {
        "id": "HO9R5whDnAn6"
      },
      "source": [
        "Shapes of the data sets"
      ]
    },
    {
      "cell_type": "code",
      "execution_count": 16,
      "metadata": {
        "colab": {
          "base_uri": "https://localhost:8080/"
        },
        "id": "LS8tjK8rvTdg",
        "outputId": "f9ca6777-21e6-4657-dad4-7ddbc5e1f888"
      },
      "outputs": [
        {
          "output_type": "stream",
          "name": "stdout",
          "text": [
            "(396, 28, 28, 3)\n",
            "(50, 28, 28, 3)\n",
            "(49, 28, 28, 3)\n"
          ]
        }
      ],
      "source": [
        "print(X_train.shape)\n",
        "print(X_test.shape)\n",
        "print(X_val.shape)"
      ]
    },
    {
      "cell_type": "markdown",
      "metadata": {
        "id": "Gh4vWGP81zPu"
      },
      "source": [
        "####**Defining the model**"
      ]
    },
    {
      "cell_type": "code",
      "execution_count": 17,
      "metadata": {
        "colab": {
          "base_uri": "https://localhost:8080/"
        },
        "id": "kJ5wnjnx1m49",
        "outputId": "0e48bcd8-4953-49ca-84b3-cdba966c7642"
      },
      "outputs": [
        {
          "output_type": "stream",
          "name": "stdout",
          "text": [
            "Model: \"sequential\"\n",
            "_________________________________________________________________\n",
            " Layer (type)                Output Shape              Param #   \n",
            "=================================================================\n",
            " conv2d (Conv2D)             (None, 26, 26, 64)        1792      \n",
            "                                                                 \n",
            " max_pooling2d (MaxPooling2D  (None, 13, 13, 64)       0         \n",
            " )                                                               \n",
            "                                                                 \n",
            " conv2d_1 (Conv2D)           (None, 11, 11, 128)       73856     \n",
            "                                                                 \n",
            " max_pooling2d_1 (MaxPooling  (None, 5, 5, 128)        0         \n",
            " 2D)                                                             \n",
            "                                                                 \n",
            " flatten (Flatten)           (None, 3200)              0         \n",
            "                                                                 \n",
            " dropout (Dropout)           (None, 3200)              0         \n",
            "                                                                 \n",
            " dense (Dense)               (None, 495)               1584495   \n",
            "                                                                 \n",
            " dense_1 (Dense)             (None, 10)                4960      \n",
            "                                                                 \n",
            "=================================================================\n",
            "Total params: 1,665,103\n",
            "Trainable params: 1,665,103\n",
            "Non-trainable params: 0\n",
            "_________________________________________________________________\n"
          ]
        }
      ],
      "source": [
        "model = tf.keras.models.Sequential([\n",
        "    tf.keras.layers.Conv2D(64, (3,3), activation='relu', input_shape=(28,28,3)),\n",
        "    tf.keras.layers.MaxPooling2D(2,2),\n",
        "    tf.keras.layers.Conv2D(128, (3,3), activation='relu'),\n",
        "    tf.keras.layers.MaxPooling2D(2,2),\n",
        "    tf.keras.layers.Flatten(),\n",
        "    tf.keras.layers.Dropout(0.5),\n",
        "    tf.keras.layers.Dense(495, activation='relu'),\n",
        "    tf.keras.layers.Dense(10, activation='softmax')\n",
        "])\n",
        "\n",
        "model.summary()"
      ]
    },
    {
      "cell_type": "markdown",
      "metadata": {
        "id": "IMvzfBfn2wJ-"
      },
      "source": [
        "####**Compiling the model**"
      ]
    },
    {
      "cell_type": "markdown",
      "metadata": {
        "id": "skAL6go4jeFD"
      },
      "source": [
        "Using Adam as optimization function wiht a learning rate of 0.001."
      ]
    },
    {
      "cell_type": "code",
      "execution_count": 18,
      "metadata": {
        "id": "d1DQ29J72mmB"
      },
      "outputs": [],
      "source": [
        "opt = keras.optimizers.Adam(learning_rate=0.001)\n",
        "model.compile(optimizer = opt,\n",
        "              loss = tf.keras.losses.SparseCategoricalCrossentropy(),\n",
        "              metrics=['accuracy'])"
      ]
    },
    {
      "cell_type": "markdown",
      "metadata": {
        "id": "2R3Vp3Gt2-4L"
      },
      "source": [
        "####**Training the model**"
      ]
    },
    {
      "cell_type": "code",
      "execution_count": 19,
      "metadata": {
        "colab": {
          "base_uri": "https://localhost:8080/"
        },
        "id": "PguRokJt29-a",
        "outputId": "42c3ec13-7e8d-46e0-eb41-ca6cf54aa847"
      },
      "outputs": [
        {
          "output_type": "stream",
          "name": "stdout",
          "text": [
            "Epoch 1/500\n",
            "13/13 [==============================] - 3s 115ms/step - loss: 2.2459 - accuracy: 0.1515 - val_loss: 1.9332 - val_accuracy: 0.3061\n",
            "Epoch 2/500\n",
            "13/13 [==============================] - 1s 89ms/step - loss: 1.7689 - accuracy: 0.3990 - val_loss: 1.5990 - val_accuracy: 0.4082\n",
            "Epoch 3/500\n",
            "13/13 [==============================] - 1s 89ms/step - loss: 1.4984 - accuracy: 0.4975 - val_loss: 1.4615 - val_accuracy: 0.5102\n",
            "Epoch 4/500\n",
            "13/13 [==============================] - 1s 88ms/step - loss: 1.2847 - accuracy: 0.5934 - val_loss: 1.3034 - val_accuracy: 0.5918\n",
            "Epoch 5/500\n",
            "13/13 [==============================] - 2s 136ms/step - loss: 1.0947 - accuracy: 0.6389 - val_loss: 1.3088 - val_accuracy: 0.5102\n",
            "Epoch 6/500\n",
            "13/13 [==============================] - 2s 158ms/step - loss: 1.0129 - accuracy: 0.6944 - val_loss: 1.1439 - val_accuracy: 0.6327\n",
            "Epoch 7/500\n",
            "13/13 [==============================] - 2s 116ms/step - loss: 0.9270 - accuracy: 0.6919 - val_loss: 1.4054 - val_accuracy: 0.5714\n",
            "Epoch 8/500\n",
            "13/13 [==============================] - 1s 87ms/step - loss: 0.8789 - accuracy: 0.7146 - val_loss: 1.1323 - val_accuracy: 0.6939\n",
            "Epoch 9/500\n",
            "13/13 [==============================] - 1s 91ms/step - loss: 0.7499 - accuracy: 0.7551 - val_loss: 1.0907 - val_accuracy: 0.6531\n",
            "Epoch 10/500\n",
            "13/13 [==============================] - 1s 86ms/step - loss: 0.6100 - accuracy: 0.8157 - val_loss: 1.2338 - val_accuracy: 0.5918\n",
            "Epoch 11/500\n",
            "13/13 [==============================] - 2s 122ms/step - loss: 0.5799 - accuracy: 0.8182 - val_loss: 1.0579 - val_accuracy: 0.7143\n",
            "Epoch 12/500\n",
            "13/13 [==============================] - 1s 106ms/step - loss: 0.5691 - accuracy: 0.8005 - val_loss: 1.1577 - val_accuracy: 0.6735\n",
            "Epoch 13/500\n",
            "13/13 [==============================] - 1s 87ms/step - loss: 0.5072 - accuracy: 0.8460 - val_loss: 1.1556 - val_accuracy: 0.6531\n",
            "Epoch 14/500\n",
            "13/13 [==============================] - 1s 90ms/step - loss: 0.4424 - accuracy: 0.8737 - val_loss: 1.0139 - val_accuracy: 0.7551\n",
            "Epoch 15/500\n",
            "13/13 [==============================] - 1s 116ms/step - loss: 0.3931 - accuracy: 0.8788 - val_loss: 1.1303 - val_accuracy: 0.7143\n",
            "Epoch 16/500\n",
            "13/13 [==============================] - 2s 164ms/step - loss: 0.3272 - accuracy: 0.9015 - val_loss: 1.0529 - val_accuracy: 0.7551\n",
            "Epoch 17/500\n",
            "13/13 [==============================] - 2s 132ms/step - loss: 0.3370 - accuracy: 0.8914 - val_loss: 1.1487 - val_accuracy: 0.7347\n",
            "Epoch 18/500\n",
            "13/13 [==============================] - 1s 88ms/step - loss: 0.3858 - accuracy: 0.8838 - val_loss: 1.5195 - val_accuracy: 0.5714\n",
            "Epoch 19/500\n",
            "13/13 [==============================] - 1s 88ms/step - loss: 0.3974 - accuracy: 0.8662 - val_loss: 1.2999 - val_accuracy: 0.6531\n",
            "Epoch 20/500\n",
            "13/13 [==============================] - 1s 89ms/step - loss: 0.2990 - accuracy: 0.9167 - val_loss: 1.1479 - val_accuracy: 0.6939\n",
            "Epoch 21/500\n",
            "13/13 [==============================] - 1s 87ms/step - loss: 0.2542 - accuracy: 0.9343 - val_loss: 1.3831 - val_accuracy: 0.6939\n",
            "Epoch 22/500\n",
            "13/13 [==============================] - 1s 87ms/step - loss: 0.2221 - accuracy: 0.9318 - val_loss: 1.2485 - val_accuracy: 0.7143\n",
            "Epoch 23/500\n",
            "13/13 [==============================] - 1s 91ms/step - loss: 0.1763 - accuracy: 0.9545 - val_loss: 1.1809 - val_accuracy: 0.7347\n",
            "Epoch 24/500\n",
            "13/13 [==============================] - 1s 93ms/step - loss: 0.1700 - accuracy: 0.9495 - val_loss: 1.1017 - val_accuracy: 0.7143\n",
            "Epoch 25/500\n",
            "13/13 [==============================] - 1s 92ms/step - loss: 0.2023 - accuracy: 0.9343 - val_loss: 1.2423 - val_accuracy: 0.7143\n",
            "Epoch 26/500\n",
            "13/13 [==============================] - 2s 139ms/step - loss: 0.1933 - accuracy: 0.9470 - val_loss: 1.4638 - val_accuracy: 0.5918\n",
            "Epoch 27/500\n",
            "13/13 [==============================] - 2s 154ms/step - loss: 0.1889 - accuracy: 0.9369 - val_loss: 1.2882 - val_accuracy: 0.7551\n",
            "Epoch 28/500\n",
            "13/13 [==============================] - 2s 118ms/step - loss: 0.1397 - accuracy: 0.9646 - val_loss: 1.3145 - val_accuracy: 0.7143\n",
            "Epoch 29/500\n",
            "13/13 [==============================] - 1s 89ms/step - loss: 0.1983 - accuracy: 0.9318 - val_loss: 1.1845 - val_accuracy: 0.6735\n",
            "Epoch 30/500\n",
            "13/13 [==============================] - 1s 89ms/step - loss: 0.2246 - accuracy: 0.9318 - val_loss: 1.3061 - val_accuracy: 0.6735\n",
            "Epoch 31/500\n",
            "13/13 [==============================] - 1s 92ms/step - loss: 0.2009 - accuracy: 0.9293 - val_loss: 1.5008 - val_accuracy: 0.6531\n",
            "Epoch 32/500\n",
            "13/13 [==============================] - 1s 91ms/step - loss: 0.1356 - accuracy: 0.9672 - val_loss: 1.3571 - val_accuracy: 0.6531\n",
            "Epoch 33/500\n",
            "13/13 [==============================] - 1s 90ms/step - loss: 0.1193 - accuracy: 0.9646 - val_loss: 1.5083 - val_accuracy: 0.6939\n",
            "Epoch 34/500\n",
            "13/13 [==============================] - 1s 88ms/step - loss: 0.1008 - accuracy: 0.9646 - val_loss: 1.2992 - val_accuracy: 0.6939\n",
            "Epoch 35/500\n",
            "13/13 [==============================] - 1s 88ms/step - loss: 0.0954 - accuracy: 0.9697 - val_loss: 1.4966 - val_accuracy: 0.7143\n",
            "Epoch 36/500\n",
            "13/13 [==============================] - 1s 90ms/step - loss: 0.0798 - accuracy: 0.9747 - val_loss: 1.4388 - val_accuracy: 0.7143\n",
            "Epoch 37/500\n",
            "13/13 [==============================] - 2s 161ms/step - loss: 0.0707 - accuracy: 0.9697 - val_loss: 1.6436 - val_accuracy: 0.6735\n",
            "Epoch 38/500\n",
            "13/13 [==============================] - 2s 156ms/step - loss: 0.0818 - accuracy: 0.9672 - val_loss: 1.7366 - val_accuracy: 0.6327\n",
            "Epoch 39/500\n",
            "13/13 [==============================] - 1s 88ms/step - loss: 0.0780 - accuracy: 0.9697 - val_loss: 1.5306 - val_accuracy: 0.6735\n",
            "Epoch 40/500\n",
            "13/13 [==============================] - 1s 92ms/step - loss: 0.0994 - accuracy: 0.9747 - val_loss: 1.5025 - val_accuracy: 0.6735\n",
            "Epoch 41/500\n",
            "13/13 [==============================] - 1s 90ms/step - loss: 0.0988 - accuracy: 0.9621 - val_loss: 1.5577 - val_accuracy: 0.7143\n",
            "Epoch 42/500\n",
            "13/13 [==============================] - 1s 88ms/step - loss: 0.0964 - accuracy: 0.9646 - val_loss: 1.8839 - val_accuracy: 0.6327\n",
            "Epoch 43/500\n",
            "13/13 [==============================] - 1s 89ms/step - loss: 0.0719 - accuracy: 0.9823 - val_loss: 1.6006 - val_accuracy: 0.6939\n",
            "Epoch 44/500\n",
            "13/13 [==============================] - 1s 89ms/step - loss: 0.0582 - accuracy: 0.9747 - val_loss: 1.5429 - val_accuracy: 0.7143\n",
            "Epoch 45/500\n",
            "13/13 [==============================] - 1s 88ms/step - loss: 0.1301 - accuracy: 0.9571 - val_loss: 1.4162 - val_accuracy: 0.7551\n",
            "Epoch 46/500\n",
            "13/13 [==============================] - 1s 86ms/step - loss: 0.0872 - accuracy: 0.9798 - val_loss: 1.7724 - val_accuracy: 0.6531\n",
            "Epoch 47/500\n",
            "13/13 [==============================] - 3s 203ms/step - loss: 0.1405 - accuracy: 0.9571 - val_loss: 2.0400 - val_accuracy: 0.6735\n",
            "Epoch 48/500\n",
            "13/13 [==============================] - 2s 157ms/step - loss: 0.0723 - accuracy: 0.9747 - val_loss: 1.5085 - val_accuracy: 0.6531\n",
            "Epoch 49/500\n",
            "13/13 [==============================] - 2s 116ms/step - loss: 0.0498 - accuracy: 0.9874 - val_loss: 1.5412 - val_accuracy: 0.7143\n",
            "Epoch 50/500\n",
            "13/13 [==============================] - 1s 88ms/step - loss: 0.0784 - accuracy: 0.9697 - val_loss: 1.6901 - val_accuracy: 0.7143\n",
            "Epoch 51/500\n",
            "13/13 [==============================] - 1s 91ms/step - loss: 0.1145 - accuracy: 0.9596 - val_loss: 2.0773 - val_accuracy: 0.6531\n",
            "Epoch 52/500\n",
            "13/13 [==============================] - 1s 88ms/step - loss: 0.0785 - accuracy: 0.9773 - val_loss: 1.8107 - val_accuracy: 0.7143\n",
            "Epoch 53/500\n",
            "13/13 [==============================] - 1s 91ms/step - loss: 0.1253 - accuracy: 0.9621 - val_loss: 1.8113 - val_accuracy: 0.6939\n",
            "Epoch 54/500\n",
            "13/13 [==============================] - 1s 92ms/step - loss: 0.0732 - accuracy: 0.9798 - val_loss: 2.2076 - val_accuracy: 0.6735\n",
            "Epoch 55/500\n",
            "13/13 [==============================] - 1s 91ms/step - loss: 0.0851 - accuracy: 0.9747 - val_loss: 1.5530 - val_accuracy: 0.6939\n",
            "Epoch 56/500\n",
            "13/13 [==============================] - 1s 92ms/step - loss: 0.1780 - accuracy: 0.9369 - val_loss: 2.0041 - val_accuracy: 0.7347\n",
            "Epoch 57/500\n",
            "13/13 [==============================] - 1s 94ms/step - loss: 0.1241 - accuracy: 0.9646 - val_loss: 1.2219 - val_accuracy: 0.7551\n",
            "Epoch 58/500\n",
            "13/13 [==============================] - 2s 161ms/step - loss: 0.0530 - accuracy: 0.9899 - val_loss: 1.5476 - val_accuracy: 0.7143\n",
            "Epoch 59/500\n",
            "13/13 [==============================] - 2s 154ms/step - loss: 0.0617 - accuracy: 0.9823 - val_loss: 1.9884 - val_accuracy: 0.5918\n",
            "Epoch 60/500\n",
            "13/13 [==============================] - 1s 91ms/step - loss: 0.0674 - accuracy: 0.9823 - val_loss: 1.4886 - val_accuracy: 0.7347\n",
            "Epoch 61/500\n",
            "13/13 [==============================] - 1s 89ms/step - loss: 0.0444 - accuracy: 0.9874 - val_loss: 1.7387 - val_accuracy: 0.7143\n",
            "Epoch 62/500\n",
            "13/13 [==============================] - 1s 90ms/step - loss: 0.0388 - accuracy: 0.9848 - val_loss: 1.6422 - val_accuracy: 0.7143\n",
            "Epoch 63/500\n",
            "13/13 [==============================] - 1s 91ms/step - loss: 0.0841 - accuracy: 0.9722 - val_loss: 1.9839 - val_accuracy: 0.7143\n",
            "Epoch 64/500\n",
            "13/13 [==============================] - 1s 86ms/step - loss: 0.0720 - accuracy: 0.9722 - val_loss: 1.6929 - val_accuracy: 0.7143\n",
            "Epoch 65/500\n",
            "13/13 [==============================] - 1s 89ms/step - loss: 0.0504 - accuracy: 0.9848 - val_loss: 1.8783 - val_accuracy: 0.6327\n",
            "Epoch 66/500\n",
            "13/13 [==============================] - 2s 143ms/step - loss: 0.0178 - accuracy: 1.0000 - val_loss: 1.6351 - val_accuracy: 0.6939\n",
            "Epoch 67/500\n",
            "13/13 [==============================] - 1s 86ms/step - loss: 0.0193 - accuracy: 1.0000 - val_loss: 1.7358 - val_accuracy: 0.6735\n",
            "Epoch 68/500\n",
            "13/13 [==============================] - 2s 150ms/step - loss: 0.0312 - accuracy: 0.9874 - val_loss: 1.5347 - val_accuracy: 0.6735\n",
            "Epoch 69/500\n",
            "13/13 [==============================] - 2s 158ms/step - loss: 0.0341 - accuracy: 0.9924 - val_loss: 1.7088 - val_accuracy: 0.7143\n",
            "Epoch 70/500\n",
            "13/13 [==============================] - 1s 103ms/step - loss: 0.0261 - accuracy: 0.9949 - val_loss: 1.5802 - val_accuracy: 0.7551\n",
            "Epoch 71/500\n",
            "13/13 [==============================] - 1s 91ms/step - loss: 0.0299 - accuracy: 0.9949 - val_loss: 1.7878 - val_accuracy: 0.6735\n",
            "Epoch 72/500\n",
            "13/13 [==============================] - 1s 88ms/step - loss: 0.0311 - accuracy: 0.9874 - val_loss: 1.4800 - val_accuracy: 0.7347\n",
            "Epoch 73/500\n",
            "13/13 [==============================] - 1s 90ms/step - loss: 0.0264 - accuracy: 0.9924 - val_loss: 1.7916 - val_accuracy: 0.7143\n",
            "Epoch 74/500\n",
            "13/13 [==============================] - 1s 91ms/step - loss: 0.0125 - accuracy: 1.0000 - val_loss: 1.6062 - val_accuracy: 0.7551\n",
            "Epoch 75/500\n",
            "13/13 [==============================] - 1s 91ms/step - loss: 0.0194 - accuracy: 0.9949 - val_loss: 1.8668 - val_accuracy: 0.6939\n",
            "Epoch 76/500\n",
            "13/13 [==============================] - 1s 91ms/step - loss: 0.0823 - accuracy: 0.9747 - val_loss: 1.3925 - val_accuracy: 0.7143\n",
            "Epoch 77/500\n",
            "13/13 [==============================] - 1s 91ms/step - loss: 0.0506 - accuracy: 0.9874 - val_loss: 1.8227 - val_accuracy: 0.6735\n",
            "Epoch 78/500\n",
            "13/13 [==============================] - 1s 105ms/step - loss: 0.0285 - accuracy: 0.9924 - val_loss: 1.5248 - val_accuracy: 0.7143\n",
            "Epoch 79/500\n",
            "13/13 [==============================] - 2s 165ms/step - loss: 0.0166 - accuracy: 0.9975 - val_loss: 1.8925 - val_accuracy: 0.6735\n",
            "Epoch 80/500\n",
            "13/13 [==============================] - 2s 147ms/step - loss: 0.0145 - accuracy: 0.9975 - val_loss: 1.5825 - val_accuracy: 0.7551\n",
            "Epoch 81/500\n",
            "13/13 [==============================] - 1s 93ms/step - loss: 0.0123 - accuracy: 0.9975 - val_loss: 1.7159 - val_accuracy: 0.7347\n",
            "Epoch 82/500\n",
            "13/13 [==============================] - 1s 90ms/step - loss: 0.0080 - accuracy: 1.0000 - val_loss: 1.7541 - val_accuracy: 0.6939\n",
            "Epoch 83/500\n",
            "13/13 [==============================] - 1s 93ms/step - loss: 0.0102 - accuracy: 0.9949 - val_loss: 1.6381 - val_accuracy: 0.6735\n",
            "Epoch 84/500\n",
            "13/13 [==============================] - 1s 88ms/step - loss: 0.0062 - accuracy: 0.9975 - val_loss: 1.6913 - val_accuracy: 0.7143\n",
            "Epoch 85/500\n",
            "13/13 [==============================] - 1s 93ms/step - loss: 0.0085 - accuracy: 1.0000 - val_loss: 1.6386 - val_accuracy: 0.7143\n",
            "Epoch 86/500\n",
            "13/13 [==============================] - 1s 91ms/step - loss: 0.0104 - accuracy: 0.9975 - val_loss: 1.6570 - val_accuracy: 0.7143\n",
            "Epoch 87/500\n",
            "13/13 [==============================] - 1s 91ms/step - loss: 0.0108 - accuracy: 0.9975 - val_loss: 1.8484 - val_accuracy: 0.7143\n",
            "Epoch 88/500\n",
            "13/13 [==============================] - 1s 91ms/step - loss: 0.0054 - accuracy: 1.0000 - val_loss: 1.6580 - val_accuracy: 0.7347\n",
            "Epoch 89/500\n",
            "13/13 [==============================] - 2s 143ms/step - loss: 0.0056 - accuracy: 0.9975 - val_loss: 1.7827 - val_accuracy: 0.7143\n",
            "Epoch 90/500\n",
            "13/13 [==============================] - 2s 154ms/step - loss: 0.0055 - accuracy: 1.0000 - val_loss: 1.6772 - val_accuracy: 0.7551\n",
            "Epoch 91/500\n",
            "13/13 [==============================] - 2s 115ms/step - loss: 0.0039 - accuracy: 1.0000 - val_loss: 1.6484 - val_accuracy: 0.7755\n",
            "Epoch 92/500\n",
            "13/13 [==============================] - 1s 87ms/step - loss: 0.0032 - accuracy: 1.0000 - val_loss: 1.8449 - val_accuracy: 0.7551\n",
            "Epoch 93/500\n",
            "13/13 [==============================] - 1s 90ms/step - loss: 0.0028 - accuracy: 1.0000 - val_loss: 1.8937 - val_accuracy: 0.7347\n",
            "Epoch 94/500\n",
            "13/13 [==============================] - 1s 89ms/step - loss: 0.0076 - accuracy: 0.9975 - val_loss: 2.0297 - val_accuracy: 0.7143\n",
            "Epoch 95/500\n",
            "13/13 [==============================] - 1s 90ms/step - loss: 0.0068 - accuracy: 1.0000 - val_loss: 1.7772 - val_accuracy: 0.7143\n",
            "Epoch 96/500\n",
            "13/13 [==============================] - 1s 90ms/step - loss: 0.0058 - accuracy: 1.0000 - val_loss: 1.7403 - val_accuracy: 0.7755\n",
            "Epoch 97/500\n",
            "13/13 [==============================] - 1s 88ms/step - loss: 0.0075 - accuracy: 0.9975 - val_loss: 1.8445 - val_accuracy: 0.7551\n",
            "Epoch 98/500\n",
            "13/13 [==============================] - 1s 90ms/step - loss: 0.0162 - accuracy: 0.9924 - val_loss: 1.9252 - val_accuracy: 0.7143\n",
            "Epoch 99/500\n",
            "13/13 [==============================] - 1s 90ms/step - loss: 0.0324 - accuracy: 0.9949 - val_loss: 2.1238 - val_accuracy: 0.6735\n",
            "Epoch 100/500\n",
            "13/13 [==============================] - 2s 150ms/step - loss: 0.0192 - accuracy: 0.9924 - val_loss: 1.8473 - val_accuracy: 0.6939\n",
            "Epoch 101/500\n",
            "13/13 [==============================] - 2s 158ms/step - loss: 0.0364 - accuracy: 0.9848 - val_loss: 2.4442 - val_accuracy: 0.6735\n",
            "Epoch 102/500\n",
            "13/13 [==============================] - 1s 99ms/step - loss: 0.1810 - accuracy: 0.9495 - val_loss: 1.9729 - val_accuracy: 0.6939\n",
            "Epoch 103/500\n",
            "13/13 [==============================] - 1s 88ms/step - loss: 0.1015 - accuracy: 0.9621 - val_loss: 1.4881 - val_accuracy: 0.7347\n",
            "Epoch 104/500\n",
            "13/13 [==============================] - 1s 88ms/step - loss: 0.0535 - accuracy: 0.9773 - val_loss: 1.6922 - val_accuracy: 0.6939\n",
            "Epoch 105/500\n",
            "13/13 [==============================] - 1s 93ms/step - loss: 0.0374 - accuracy: 0.9874 - val_loss: 1.7262 - val_accuracy: 0.7347\n",
            "Epoch 106/500\n",
            "13/13 [==============================] - 1s 88ms/step - loss: 0.0327 - accuracy: 0.9899 - val_loss: 1.7207 - val_accuracy: 0.7143\n",
            "Epoch 107/500\n",
            "13/13 [==============================] - 1s 87ms/step - loss: 0.0216 - accuracy: 0.9949 - val_loss: 1.7809 - val_accuracy: 0.7347\n",
            "Epoch 108/500\n",
            "13/13 [==============================] - 1s 91ms/step - loss: 0.0198 - accuracy: 0.9949 - val_loss: 1.7894 - val_accuracy: 0.7347\n",
            "Epoch 109/500\n",
            "13/13 [==============================] - 1s 91ms/step - loss: 0.0113 - accuracy: 1.0000 - val_loss: 1.9455 - val_accuracy: 0.7143\n",
            "Epoch 110/500\n",
            "13/13 [==============================] - 1s 92ms/step - loss: 0.0059 - accuracy: 1.0000 - val_loss: 1.8124 - val_accuracy: 0.7755\n",
            "Epoch 111/500\n",
            "13/13 [==============================] - 2s 154ms/step - loss: 0.0080 - accuracy: 0.9975 - val_loss: 1.7711 - val_accuracy: 0.7347\n",
            "Epoch 112/500\n",
            "13/13 [==============================] - 2s 157ms/step - loss: 0.0046 - accuracy: 1.0000 - val_loss: 1.9377 - val_accuracy: 0.6939\n",
            "Epoch 113/500\n",
            "13/13 [==============================] - 1s 95ms/step - loss: 0.0062 - accuracy: 0.9975 - val_loss: 2.0433 - val_accuracy: 0.7347\n",
            "Epoch 114/500\n",
            "13/13 [==============================] - 1s 89ms/step - loss: 0.0065 - accuracy: 1.0000 - val_loss: 2.2781 - val_accuracy: 0.6735\n",
            "Epoch 115/500\n",
            "13/13 [==============================] - 1s 88ms/step - loss: 0.0048 - accuracy: 1.0000 - val_loss: 2.0302 - val_accuracy: 0.7143\n",
            "Epoch 116/500\n",
            "13/13 [==============================] - 1s 88ms/step - loss: 0.0054 - accuracy: 1.0000 - val_loss: 2.2225 - val_accuracy: 0.6735\n",
            "Epoch 117/500\n",
            "13/13 [==============================] - 1s 90ms/step - loss: 0.0059 - accuracy: 0.9975 - val_loss: 2.0934 - val_accuracy: 0.7143\n",
            "Epoch 118/500\n",
            "13/13 [==============================] - 1s 88ms/step - loss: 0.0056 - accuracy: 0.9975 - val_loss: 2.2290 - val_accuracy: 0.6939\n",
            "Epoch 119/500\n",
            "13/13 [==============================] - 1s 91ms/step - loss: 0.0081 - accuracy: 0.9975 - val_loss: 2.5151 - val_accuracy: 0.6939\n",
            "Epoch 120/500\n",
            "13/13 [==============================] - 1s 90ms/step - loss: 0.0056 - accuracy: 0.9975 - val_loss: 2.2001 - val_accuracy: 0.6939\n",
            "Epoch 121/500\n",
            "13/13 [==============================] - 1s 107ms/step - loss: 0.0082 - accuracy: 0.9975 - val_loss: 2.3942 - val_accuracy: 0.6939\n",
            "Epoch 122/500\n",
            "13/13 [==============================] - 2s 159ms/step - loss: 0.0033 - accuracy: 1.0000 - val_loss: 1.9333 - val_accuracy: 0.6939\n",
            "Epoch 123/500\n",
            "13/13 [==============================] - 2s 148ms/step - loss: 0.0035 - accuracy: 1.0000 - val_loss: 1.9221 - val_accuracy: 0.6939\n",
            "Epoch 124/500\n",
            "13/13 [==============================] - 1s 88ms/step - loss: 0.0027 - accuracy: 1.0000 - val_loss: 2.0827 - val_accuracy: 0.6939\n",
            "Epoch 125/500\n",
            "13/13 [==============================] - 1s 88ms/step - loss: 0.0020 - accuracy: 1.0000 - val_loss: 2.0570 - val_accuracy: 0.7347\n",
            "Epoch 126/500\n",
            "13/13 [==============================] - 1s 89ms/step - loss: 0.0017 - accuracy: 1.0000 - val_loss: 2.0963 - val_accuracy: 0.7347\n",
            "Epoch 127/500\n",
            "13/13 [==============================] - 1s 90ms/step - loss: 0.0012 - accuracy: 1.0000 - val_loss: 2.1176 - val_accuracy: 0.7347\n",
            "Epoch 128/500\n",
            "13/13 [==============================] - 1s 88ms/step - loss: 0.0011 - accuracy: 1.0000 - val_loss: 2.0891 - val_accuracy: 0.7143\n",
            "Epoch 129/500\n",
            "13/13 [==============================] - 1s 91ms/step - loss: 0.0024 - accuracy: 1.0000 - val_loss: 2.0052 - val_accuracy: 0.6939\n",
            "Epoch 130/500\n",
            "13/13 [==============================] - 1s 91ms/step - loss: 0.0026 - accuracy: 1.0000 - val_loss: 2.1332 - val_accuracy: 0.6939\n",
            "Epoch 131/500\n",
            "13/13 [==============================] - 1s 91ms/step - loss: 0.0075 - accuracy: 0.9975 - val_loss: 1.9637 - val_accuracy: 0.7551\n",
            "Epoch 132/500\n",
            "13/13 [==============================] - 2s 123ms/step - loss: 0.0075 - accuracy: 0.9975 - val_loss: 2.1133 - val_accuracy: 0.7551\n",
            "Epoch 133/500\n",
            "13/13 [==============================] - 2s 159ms/step - loss: 0.0123 - accuracy: 0.9975 - val_loss: 2.1681 - val_accuracy: 0.7143\n",
            "Epoch 134/500\n",
            "13/13 [==============================] - 2s 129ms/step - loss: 0.0075 - accuracy: 0.9975 - val_loss: 2.1098 - val_accuracy: 0.6939\n",
            "Epoch 135/500\n",
            "13/13 [==============================] - 1s 105ms/step - loss: 0.0167 - accuracy: 0.9949 - val_loss: 1.7959 - val_accuracy: 0.7755\n",
            "Epoch 136/500\n",
            "13/13 [==============================] - 1s 91ms/step - loss: 0.0167 - accuracy: 0.9949 - val_loss: 1.8834 - val_accuracy: 0.8163\n",
            "Epoch 137/500\n",
            "13/13 [==============================] - 1s 89ms/step - loss: 0.0331 - accuracy: 0.9848 - val_loss: 2.0704 - val_accuracy: 0.7143\n",
            "Epoch 138/500\n",
            "13/13 [==============================] - 1s 90ms/step - loss: 0.0188 - accuracy: 0.9899 - val_loss: 2.3946 - val_accuracy: 0.6531\n",
            "Epoch 139/500\n",
            "13/13 [==============================] - 1s 90ms/step - loss: 0.0258 - accuracy: 0.9975 - val_loss: 1.7892 - val_accuracy: 0.7347\n",
            "Epoch 140/500\n",
            "13/13 [==============================] - 1s 87ms/step - loss: 0.0294 - accuracy: 0.9874 - val_loss: 1.8924 - val_accuracy: 0.7755\n",
            "Epoch 141/500\n",
            "13/13 [==============================] - 1s 88ms/step - loss: 0.0596 - accuracy: 0.9874 - val_loss: 2.9229 - val_accuracy: 0.5714\n",
            "Epoch 142/500\n",
            "13/13 [==============================] - 1s 104ms/step - loss: 0.0832 - accuracy: 0.9773 - val_loss: 1.6602 - val_accuracy: 0.7347\n",
            "Epoch 143/500\n",
            "13/13 [==============================] - 2s 169ms/step - loss: 0.0528 - accuracy: 0.9773 - val_loss: 2.4732 - val_accuracy: 0.6327\n",
            "Epoch 144/500\n",
            "13/13 [==============================] - 2s 168ms/step - loss: 0.1173 - accuracy: 0.9722 - val_loss: 1.5316 - val_accuracy: 0.6939\n",
            "Epoch 145/500\n",
            "13/13 [==============================] - 2s 168ms/step - loss: 0.1208 - accuracy: 0.9646 - val_loss: 1.4946 - val_accuracy: 0.7551\n",
            "Epoch 146/500\n",
            "13/13 [==============================] - 2s 153ms/step - loss: 0.0597 - accuracy: 0.9848 - val_loss: 1.7515 - val_accuracy: 0.6735\n",
            "Epoch 147/500\n",
            "13/13 [==============================] - 1s 92ms/step - loss: 0.0411 - accuracy: 0.9924 - val_loss: 1.8765 - val_accuracy: 0.7347\n",
            "Epoch 148/500\n",
            "13/13 [==============================] - 1s 91ms/step - loss: 0.0311 - accuracy: 0.9848 - val_loss: 1.9927 - val_accuracy: 0.6939\n",
            "Epoch 149/500\n",
            "13/13 [==============================] - 1s 90ms/step - loss: 0.0104 - accuracy: 0.9975 - val_loss: 1.9806 - val_accuracy: 0.7143\n",
            "Epoch 150/500\n",
            "13/13 [==============================] - 1s 89ms/step - loss: 0.0045 - accuracy: 1.0000 - val_loss: 2.0992 - val_accuracy: 0.7143\n",
            "Epoch 151/500\n",
            "13/13 [==============================] - 1s 92ms/step - loss: 0.0076 - accuracy: 1.0000 - val_loss: 2.2853 - val_accuracy: 0.6939\n",
            "Epoch 152/500\n",
            "13/13 [==============================] - 1s 91ms/step - loss: 0.0064 - accuracy: 0.9975 - val_loss: 2.1802 - val_accuracy: 0.7143\n",
            "Epoch 153/500\n",
            "13/13 [==============================] - 1s 92ms/step - loss: 0.0044 - accuracy: 1.0000 - val_loss: 2.0870 - val_accuracy: 0.6735\n",
            "Epoch 154/500\n",
            "13/13 [==============================] - 1s 89ms/step - loss: 0.0047 - accuracy: 0.9975 - val_loss: 1.8294 - val_accuracy: 0.7143\n",
            "Epoch 155/500\n",
            "13/13 [==============================] - 2s 134ms/step - loss: 0.0041 - accuracy: 1.0000 - val_loss: 2.2412 - val_accuracy: 0.7347\n",
            "Epoch 156/500\n",
            "13/13 [==============================] - 2s 159ms/step - loss: 0.0364 - accuracy: 0.9798 - val_loss: 2.0728 - val_accuracy: 0.7143\n",
            "Epoch 157/500\n",
            "13/13 [==============================] - 2s 119ms/step - loss: 0.0199 - accuracy: 0.9924 - val_loss: 2.0436 - val_accuracy: 0.6735\n",
            "Epoch 158/500\n",
            "13/13 [==============================] - 1s 88ms/step - loss: 0.0274 - accuracy: 0.9949 - val_loss: 1.6404 - val_accuracy: 0.7755\n",
            "Epoch 159/500\n",
            "13/13 [==============================] - 1s 89ms/step - loss: 0.0234 - accuracy: 0.9924 - val_loss: 2.6983 - val_accuracy: 0.6122\n",
            "Epoch 160/500\n",
            "13/13 [==============================] - 1s 91ms/step - loss: 0.0161 - accuracy: 0.9924 - val_loss: 1.6224 - val_accuracy: 0.6735\n",
            "Epoch 161/500\n",
            "13/13 [==============================] - 1s 91ms/step - loss: 0.0122 - accuracy: 0.9949 - val_loss: 2.1374 - val_accuracy: 0.6939\n",
            "Epoch 162/500\n",
            "13/13 [==============================] - 1s 89ms/step - loss: 0.0118 - accuracy: 0.9949 - val_loss: 2.1258 - val_accuracy: 0.7551\n",
            "Epoch 163/500\n",
            "13/13 [==============================] - 1s 88ms/step - loss: 0.0257 - accuracy: 0.9874 - val_loss: 2.3903 - val_accuracy: 0.6735\n",
            "Epoch 164/500\n",
            "13/13 [==============================] - 1s 91ms/step - loss: 0.0210 - accuracy: 0.9975 - val_loss: 1.8281 - val_accuracy: 0.7143\n",
            "Epoch 165/500\n",
            "13/13 [==============================] - 1s 91ms/step - loss: 0.0160 - accuracy: 0.9924 - val_loss: 1.9743 - val_accuracy: 0.7143\n",
            "Epoch 166/500\n",
            "13/13 [==============================] - 2s 150ms/step - loss: 0.0124 - accuracy: 0.9924 - val_loss: 2.6702 - val_accuracy: 0.7347\n",
            "Epoch 167/500\n",
            "13/13 [==============================] - 2s 156ms/step - loss: 0.0502 - accuracy: 0.9823 - val_loss: 2.3141 - val_accuracy: 0.6531\n",
            "Epoch 168/500\n",
            "13/13 [==============================] - 1s 106ms/step - loss: 0.0411 - accuracy: 0.9924 - val_loss: 2.5686 - val_accuracy: 0.6735\n",
            "Epoch 169/500\n",
            "13/13 [==============================] - 1s 92ms/step - loss: 0.0229 - accuracy: 0.9949 - val_loss: 2.3358 - val_accuracy: 0.7347\n",
            "Epoch 170/500\n",
            "13/13 [==============================] - 1s 89ms/step - loss: 0.0066 - accuracy: 1.0000 - val_loss: 2.7410 - val_accuracy: 0.6735\n",
            "Epoch 171/500\n",
            "13/13 [==============================] - 1s 90ms/step - loss: 0.0127 - accuracy: 0.9949 - val_loss: 2.4614 - val_accuracy: 0.6735\n",
            "Epoch 172/500\n",
            "13/13 [==============================] - 1s 88ms/step - loss: 0.0108 - accuracy: 0.9949 - val_loss: 2.6124 - val_accuracy: 0.7347\n",
            "Epoch 173/500\n",
            "13/13 [==============================] - 1s 92ms/step - loss: 0.0110 - accuracy: 0.9949 - val_loss: 2.6222 - val_accuracy: 0.7143\n",
            "Epoch 174/500\n",
            "13/13 [==============================] - 1s 89ms/step - loss: 0.0058 - accuracy: 1.0000 - val_loss: 3.1729 - val_accuracy: 0.6939\n",
            "Epoch 175/500\n",
            "13/13 [==============================] - 1s 92ms/step - loss: 0.0133 - accuracy: 0.9949 - val_loss: 2.4276 - val_accuracy: 0.7551\n",
            "Epoch 176/500\n",
            "13/13 [==============================] - 1s 96ms/step - loss: 0.0252 - accuracy: 0.9924 - val_loss: 2.0571 - val_accuracy: 0.7347\n",
            "Epoch 177/500\n",
            "13/13 [==============================] - 2s 169ms/step - loss: 0.0111 - accuracy: 0.9975 - val_loss: 2.2251 - val_accuracy: 0.7347\n",
            "Epoch 178/500\n",
            "13/13 [==============================] - 2s 156ms/step - loss: 0.0122 - accuracy: 0.9924 - val_loss: 2.5196 - val_accuracy: 0.7143\n",
            "Epoch 179/500\n",
            "13/13 [==============================] - 1s 91ms/step - loss: 0.0056 - accuracy: 0.9975 - val_loss: 2.8391 - val_accuracy: 0.6939\n",
            "Epoch 180/500\n",
            "13/13 [==============================] - 1s 90ms/step - loss: 0.0033 - accuracy: 1.0000 - val_loss: 2.2252 - val_accuracy: 0.7143\n",
            "Epoch 181/500\n",
            "13/13 [==============================] - 1s 89ms/step - loss: 0.0056 - accuracy: 1.0000 - val_loss: 2.2815 - val_accuracy: 0.7143\n",
            "Epoch 182/500\n",
            "13/13 [==============================] - 1s 89ms/step - loss: 0.0017 - accuracy: 1.0000 - val_loss: 2.2074 - val_accuracy: 0.7347\n",
            "Epoch 183/500\n",
            "13/13 [==============================] - 1s 90ms/step - loss: 0.0162 - accuracy: 0.9924 - val_loss: 2.8213 - val_accuracy: 0.7143\n",
            "Epoch 184/500\n",
            "13/13 [==============================] - 1s 88ms/step - loss: 0.0356 - accuracy: 0.9899 - val_loss: 2.5596 - val_accuracy: 0.7347\n",
            "Epoch 185/500\n",
            "13/13 [==============================] - 1s 92ms/step - loss: 0.1093 - accuracy: 0.9672 - val_loss: 2.1352 - val_accuracy: 0.6327\n",
            "Epoch 186/500\n",
            "13/13 [==============================] - 1s 91ms/step - loss: 0.0889 - accuracy: 0.9747 - val_loss: 1.7915 - val_accuracy: 0.7755\n",
            "Epoch 187/500\n",
            "13/13 [==============================] - 2s 123ms/step - loss: 0.0574 - accuracy: 0.9823 - val_loss: 1.8819 - val_accuracy: 0.6939\n",
            "Epoch 188/500\n",
            "13/13 [==============================] - 2s 159ms/step - loss: 0.0363 - accuracy: 0.9848 - val_loss: 2.1974 - val_accuracy: 0.7143\n",
            "Epoch 189/500\n",
            "13/13 [==============================] - 2s 134ms/step - loss: 0.0182 - accuracy: 0.9975 - val_loss: 2.2220 - val_accuracy: 0.7347\n",
            "Epoch 190/500\n",
            "13/13 [==============================] - 1s 90ms/step - loss: 0.0232 - accuracy: 0.9924 - val_loss: 2.2592 - val_accuracy: 0.6939\n",
            "Epoch 191/500\n",
            "13/13 [==============================] - 1s 92ms/step - loss: 0.0053 - accuracy: 1.0000 - val_loss: 2.5016 - val_accuracy: 0.6939\n",
            "Epoch 192/500\n",
            "13/13 [==============================] - 1s 89ms/step - loss: 0.0042 - accuracy: 1.0000 - val_loss: 2.2810 - val_accuracy: 0.7143\n",
            "Epoch 193/500\n",
            "13/13 [==============================] - 1s 91ms/step - loss: 0.0562 - accuracy: 0.9949 - val_loss: 2.8740 - val_accuracy: 0.6327\n",
            "Epoch 194/500\n",
            "13/13 [==============================] - 1s 92ms/step - loss: 0.0100 - accuracy: 0.9975 - val_loss: 2.1062 - val_accuracy: 0.6735\n",
            "Epoch 195/500\n",
            "13/13 [==============================] - 1s 88ms/step - loss: 0.0194 - accuracy: 0.9924 - val_loss: 2.4546 - val_accuracy: 0.6531\n",
            "Epoch 196/500\n",
            "13/13 [==============================] - 1s 89ms/step - loss: 0.0277 - accuracy: 0.9899 - val_loss: 2.5695 - val_accuracy: 0.6327\n",
            "Epoch 197/500\n",
            "13/13 [==============================] - 1s 88ms/step - loss: 0.0243 - accuracy: 0.9949 - val_loss: 2.3810 - val_accuracy: 0.6122\n",
            "Epoch 198/500\n",
            "13/13 [==============================] - 2s 145ms/step - loss: 0.0381 - accuracy: 0.9899 - val_loss: 1.8953 - val_accuracy: 0.7143\n",
            "Epoch 199/500\n",
            "13/13 [==============================] - 2s 166ms/step - loss: 0.0092 - accuracy: 0.9975 - val_loss: 2.5684 - val_accuracy: 0.7143\n",
            "Epoch 200/500\n",
            "13/13 [==============================] - 1s 107ms/step - loss: 0.0191 - accuracy: 0.9949 - val_loss: 1.8099 - val_accuracy: 0.7755\n",
            "Epoch 201/500\n",
            "13/13 [==============================] - 1s 92ms/step - loss: 0.0087 - accuracy: 0.9975 - val_loss: 1.8743 - val_accuracy: 0.7347\n",
            "Epoch 202/500\n",
            "13/13 [==============================] - 1s 94ms/step - loss: 0.0095 - accuracy: 0.9975 - val_loss: 2.1548 - val_accuracy: 0.7143\n",
            "Epoch 203/500\n",
            "13/13 [==============================] - 1s 92ms/step - loss: 0.0026 - accuracy: 1.0000 - val_loss: 2.4273 - val_accuracy: 0.6939\n",
            "Epoch 204/500\n",
            "13/13 [==============================] - 1s 90ms/step - loss: 0.0070 - accuracy: 1.0000 - val_loss: 2.1878 - val_accuracy: 0.7143\n",
            "Epoch 205/500\n",
            "13/13 [==============================] - 1s 89ms/step - loss: 0.0224 - accuracy: 0.9949 - val_loss: 2.0737 - val_accuracy: 0.7347\n",
            "Epoch 206/500\n",
            "13/13 [==============================] - 1s 90ms/step - loss: 0.0194 - accuracy: 0.9975 - val_loss: 2.7071 - val_accuracy: 0.6735\n",
            "Epoch 207/500\n",
            "13/13 [==============================] - 1s 87ms/step - loss: 0.0087 - accuracy: 1.0000 - val_loss: 2.4510 - val_accuracy: 0.6531\n",
            "Epoch 208/500\n",
            "13/13 [==============================] - 1s 105ms/step - loss: 0.0193 - accuracy: 0.9949 - val_loss: 2.3920 - val_accuracy: 0.6939\n",
            "Epoch 209/500\n",
            "13/13 [==============================] - 2s 156ms/step - loss: 0.0129 - accuracy: 0.9949 - val_loss: 2.5877 - val_accuracy: 0.6735\n",
            "Epoch 210/500\n",
            "13/13 [==============================] - 2s 157ms/step - loss: 0.0106 - accuracy: 1.0000 - val_loss: 2.3811 - val_accuracy: 0.7143\n",
            "Epoch 211/500\n",
            "13/13 [==============================] - 1s 91ms/step - loss: 0.0055 - accuracy: 0.9975 - val_loss: 2.6853 - val_accuracy: 0.6735\n",
            "Epoch 212/500\n",
            "13/13 [==============================] - 1s 88ms/step - loss: 0.0154 - accuracy: 0.9975 - val_loss: 2.0647 - val_accuracy: 0.7347\n",
            "Epoch 213/500\n",
            "13/13 [==============================] - 1s 91ms/step - loss: 0.1243 - accuracy: 0.9722 - val_loss: 3.0812 - val_accuracy: 0.6327\n",
            "Epoch 214/500\n",
            "13/13 [==============================] - 1s 88ms/step - loss: 0.2126 - accuracy: 0.9545 - val_loss: 2.7180 - val_accuracy: 0.6327\n",
            "Epoch 215/500\n",
            "13/13 [==============================] - 1s 89ms/step - loss: 0.1583 - accuracy: 0.9545 - val_loss: 1.6444 - val_accuracy: 0.7143\n",
            "Epoch 216/500\n",
            "13/13 [==============================] - 1s 88ms/step - loss: 0.0900 - accuracy: 0.9798 - val_loss: 2.0210 - val_accuracy: 0.6735\n",
            "Epoch 217/500\n",
            "13/13 [==============================] - 1s 90ms/step - loss: 0.0512 - accuracy: 0.9848 - val_loss: 1.8167 - val_accuracy: 0.7755\n",
            "Epoch 218/500\n",
            "13/13 [==============================] - 1s 92ms/step - loss: 0.0231 - accuracy: 0.9949 - val_loss: 1.6182 - val_accuracy: 0.7755\n",
            "Epoch 219/500\n",
            "13/13 [==============================] - 2s 128ms/step - loss: 0.0242 - accuracy: 0.9924 - val_loss: 2.5802 - val_accuracy: 0.6531\n",
            "Epoch 220/500\n",
            "13/13 [==============================] - 2s 159ms/step - loss: 0.0108 - accuracy: 1.0000 - val_loss: 2.0685 - val_accuracy: 0.6327\n",
            "Epoch 221/500\n",
            "13/13 [==============================] - 2s 130ms/step - loss: 0.0118 - accuracy: 0.9975 - val_loss: 1.6194 - val_accuracy: 0.7347\n",
            "Epoch 222/500\n",
            "13/13 [==============================] - 1s 89ms/step - loss: 0.0091 - accuracy: 0.9975 - val_loss: 1.9081 - val_accuracy: 0.7347\n",
            "Epoch 223/500\n",
            "13/13 [==============================] - 1s 89ms/step - loss: 0.0036 - accuracy: 1.0000 - val_loss: 2.4764 - val_accuracy: 0.6939\n",
            "Epoch 224/500\n",
            "13/13 [==============================] - 1s 90ms/step - loss: 0.0074 - accuracy: 0.9975 - val_loss: 1.9041 - val_accuracy: 0.7347\n",
            "Epoch 225/500\n",
            "13/13 [==============================] - 1s 90ms/step - loss: 0.0137 - accuracy: 0.9975 - val_loss: 2.3369 - val_accuracy: 0.7347\n",
            "Epoch 226/500\n",
            "13/13 [==============================] - 1s 87ms/step - loss: 0.0187 - accuracy: 0.9949 - val_loss: 1.6704 - val_accuracy: 0.7551\n",
            "Epoch 227/500\n",
            "13/13 [==============================] - 1s 88ms/step - loss: 0.0089 - accuracy: 0.9975 - val_loss: 1.8666 - val_accuracy: 0.7143\n",
            "Epoch 228/500\n",
            "13/13 [==============================] - 1s 89ms/step - loss: 0.0044 - accuracy: 1.0000 - val_loss: 2.0641 - val_accuracy: 0.7143\n",
            "Epoch 229/500\n",
            "13/13 [==============================] - 1s 89ms/step - loss: 0.0225 - accuracy: 0.9949 - val_loss: 1.9015 - val_accuracy: 0.7959\n",
            "Epoch 230/500\n",
            "13/13 [==============================] - 2s 137ms/step - loss: 0.0023 - accuracy: 1.0000 - val_loss: 2.0821 - val_accuracy: 0.7143\n",
            "Epoch 231/500\n",
            "13/13 [==============================] - 2s 160ms/step - loss: 0.0070 - accuracy: 0.9975 - val_loss: 1.8197 - val_accuracy: 0.7551\n",
            "Epoch 232/500\n",
            "13/13 [==============================] - 2s 118ms/step - loss: 0.0178 - accuracy: 0.9924 - val_loss: 2.5812 - val_accuracy: 0.7347\n",
            "Epoch 233/500\n",
            "13/13 [==============================] - 1s 90ms/step - loss: 0.0119 - accuracy: 0.9949 - val_loss: 1.8013 - val_accuracy: 0.7347\n",
            "Epoch 234/500\n",
            "13/13 [==============================] - 1s 89ms/step - loss: 0.0165 - accuracy: 0.9975 - val_loss: 2.2523 - val_accuracy: 0.7755\n",
            "Epoch 235/500\n",
            "13/13 [==============================] - 1s 92ms/step - loss: 0.0147 - accuracy: 0.9924 - val_loss: 2.0379 - val_accuracy: 0.6939\n",
            "Epoch 236/500\n",
            "13/13 [==============================] - 1s 90ms/step - loss: 0.0176 - accuracy: 0.9949 - val_loss: 2.3136 - val_accuracy: 0.7755\n",
            "Epoch 237/500\n",
            "13/13 [==============================] - 1s 92ms/step - loss: 0.0345 - accuracy: 0.9874 - val_loss: 2.2968 - val_accuracy: 0.7143\n",
            "Epoch 238/500\n",
            "13/13 [==============================] - 1s 91ms/step - loss: 0.0373 - accuracy: 0.9848 - val_loss: 2.4837 - val_accuracy: 0.6531\n",
            "Epoch 239/500\n",
            "13/13 [==============================] - 1s 91ms/step - loss: 0.0217 - accuracy: 0.9924 - val_loss: 2.2315 - val_accuracy: 0.7143\n",
            "Epoch 240/500\n",
            "13/13 [==============================] - 1s 93ms/step - loss: 0.0408 - accuracy: 0.9848 - val_loss: 2.6740 - val_accuracy: 0.6939\n",
            "Epoch 241/500\n",
            "13/13 [==============================] - 2s 155ms/step - loss: 0.0856 - accuracy: 0.9848 - val_loss: 2.3031 - val_accuracy: 0.7551\n",
            "Epoch 242/500\n",
            "13/13 [==============================] - 2s 155ms/step - loss: 0.0470 - accuracy: 0.9874 - val_loss: 2.5561 - val_accuracy: 0.7143\n",
            "Epoch 243/500\n",
            "13/13 [==============================] - 1s 98ms/step - loss: 0.0128 - accuracy: 0.9975 - val_loss: 2.2906 - val_accuracy: 0.6939\n",
            "Epoch 244/500\n",
            "13/13 [==============================] - 1s 91ms/step - loss: 0.0106 - accuracy: 0.9924 - val_loss: 2.2545 - val_accuracy: 0.7143\n",
            "Epoch 245/500\n",
            "13/13 [==============================] - 1s 90ms/step - loss: 0.0055 - accuracy: 1.0000 - val_loss: 2.3749 - val_accuracy: 0.6327\n",
            "Epoch 246/500\n",
            "13/13 [==============================] - 1s 91ms/step - loss: 0.0064 - accuracy: 1.0000 - val_loss: 2.1967 - val_accuracy: 0.7143\n",
            "Epoch 247/500\n",
            "13/13 [==============================] - 1s 93ms/step - loss: 0.0039 - accuracy: 0.9975 - val_loss: 2.3074 - val_accuracy: 0.7143\n",
            "Epoch 248/500\n",
            "13/13 [==============================] - 1s 91ms/step - loss: 0.0033 - accuracy: 1.0000 - val_loss: 2.2601 - val_accuracy: 0.7347\n",
            "Epoch 249/500\n",
            "13/13 [==============================] - 1s 91ms/step - loss: 0.0058 - accuracy: 0.9975 - val_loss: 1.9949 - val_accuracy: 0.7551\n",
            "Epoch 250/500\n",
            "13/13 [==============================] - 1s 92ms/step - loss: 0.0011 - accuracy: 1.0000 - val_loss: 2.0820 - val_accuracy: 0.7347\n",
            "Epoch 251/500\n",
            "13/13 [==============================] - 1s 113ms/step - loss: 0.0053 - accuracy: 0.9975 - val_loss: 1.9263 - val_accuracy: 0.7347\n",
            "Epoch 252/500\n",
            "13/13 [==============================] - 2s 158ms/step - loss: 0.0040 - accuracy: 0.9975 - val_loss: 2.0834 - val_accuracy: 0.7347\n",
            "Epoch 253/500\n",
            "13/13 [==============================] - 2s 146ms/step - loss: 0.0017 - accuracy: 1.0000 - val_loss: 2.2654 - val_accuracy: 0.6939\n",
            "Epoch 254/500\n",
            "13/13 [==============================] - 1s 92ms/step - loss: 0.0016 - accuracy: 1.0000 - val_loss: 2.2838 - val_accuracy: 0.6735\n",
            "Epoch 255/500\n",
            "13/13 [==============================] - 1s 89ms/step - loss: 0.0026 - accuracy: 0.9975 - val_loss: 2.5648 - val_accuracy: 0.6531\n",
            "Epoch 256/500\n",
            "13/13 [==============================] - 1s 91ms/step - loss: 0.0132 - accuracy: 0.9975 - val_loss: 2.5279 - val_accuracy: 0.7347\n",
            "Epoch 257/500\n",
            "13/13 [==============================] - 1s 91ms/step - loss: 0.0062 - accuracy: 0.9975 - val_loss: 2.5214 - val_accuracy: 0.7347\n",
            "Epoch 258/500\n",
            "13/13 [==============================] - 1s 92ms/step - loss: 0.0019 - accuracy: 1.0000 - val_loss: 2.7588 - val_accuracy: 0.7143\n",
            "Epoch 259/500\n",
            "13/13 [==============================] - 1s 92ms/step - loss: 0.0021 - accuracy: 1.0000 - val_loss: 2.7378 - val_accuracy: 0.7143\n",
            "Epoch 260/500\n",
            "13/13 [==============================] - 1s 89ms/step - loss: 0.0030 - accuracy: 0.9975 - val_loss: 2.4997 - val_accuracy: 0.7551\n",
            "Epoch 261/500\n",
            "13/13 [==============================] - 1s 92ms/step - loss: 0.0018 - accuracy: 1.0000 - val_loss: 2.5238 - val_accuracy: 0.7143\n",
            "Epoch 262/500\n",
            "13/13 [==============================] - 2s 141ms/step - loss: 9.6144e-04 - accuracy: 1.0000 - val_loss: 2.6242 - val_accuracy: 0.7143\n",
            "Epoch 263/500\n",
            "13/13 [==============================] - 2s 158ms/step - loss: 0.0024 - accuracy: 1.0000 - val_loss: 2.8413 - val_accuracy: 0.6939\n",
            "Epoch 264/500\n",
            "13/13 [==============================] - 2s 124ms/step - loss: 0.0070 - accuracy: 0.9975 - val_loss: 2.5239 - val_accuracy: 0.7143\n",
            "Epoch 265/500\n",
            "13/13 [==============================] - 1s 91ms/step - loss: 0.0121 - accuracy: 0.9949 - val_loss: 2.5043 - val_accuracy: 0.6939\n",
            "Epoch 266/500\n",
            "13/13 [==============================] - 1s 93ms/step - loss: 0.0128 - accuracy: 0.9949 - val_loss: 2.5205 - val_accuracy: 0.7143\n",
            "Epoch 267/500\n",
            "13/13 [==============================] - 1s 91ms/step - loss: 0.0031 - accuracy: 1.0000 - val_loss: 2.4071 - val_accuracy: 0.7551\n",
            "Epoch 268/500\n",
            "13/13 [==============================] - 1s 94ms/step - loss: 7.4813e-04 - accuracy: 1.0000 - val_loss: 2.3778 - val_accuracy: 0.7551\n",
            "Epoch 269/500\n",
            "13/13 [==============================] - 1s 91ms/step - loss: 0.0140 - accuracy: 0.9975 - val_loss: 2.5796 - val_accuracy: 0.7143\n",
            "Epoch 270/500\n",
            "13/13 [==============================] - 1s 92ms/step - loss: 0.0045 - accuracy: 0.9975 - val_loss: 2.6568 - val_accuracy: 0.6939\n",
            "Epoch 271/500\n",
            "13/13 [==============================] - 1s 88ms/step - loss: 0.0059 - accuracy: 0.9975 - val_loss: 2.7007 - val_accuracy: 0.6939\n",
            "Epoch 272/500\n",
            "13/13 [==============================] - 1s 99ms/step - loss: 0.0049 - accuracy: 0.9975 - val_loss: 2.3066 - val_accuracy: 0.7347\n",
            "Epoch 273/500\n",
            "13/13 [==============================] - 2s 161ms/step - loss: 0.0020 - accuracy: 1.0000 - val_loss: 2.8580 - val_accuracy: 0.6939\n",
            "Epoch 274/500\n",
            "13/13 [==============================] - 2s 159ms/step - loss: 0.0075 - accuracy: 0.9975 - val_loss: 2.7786 - val_accuracy: 0.6939\n",
            "Epoch 275/500\n",
            "13/13 [==============================] - 1s 92ms/step - loss: 0.0134 - accuracy: 0.9949 - val_loss: 2.5858 - val_accuracy: 0.6327\n",
            "Epoch 276/500\n",
            "13/13 [==============================] - 1s 93ms/step - loss: 0.0225 - accuracy: 0.9949 - val_loss: 2.7648 - val_accuracy: 0.6531\n",
            "Epoch 277/500\n",
            "13/13 [==============================] - 1s 92ms/step - loss: 0.0057 - accuracy: 1.0000 - val_loss: 2.4046 - val_accuracy: 0.7143\n",
            "Epoch 278/500\n",
            "13/13 [==============================] - 1s 91ms/step - loss: 0.0099 - accuracy: 0.9949 - val_loss: 2.0951 - val_accuracy: 0.7551\n",
            "Epoch 279/500\n",
            "13/13 [==============================] - 1s 90ms/step - loss: 0.0056 - accuracy: 0.9975 - val_loss: 2.7709 - val_accuracy: 0.7143\n",
            "Epoch 280/500\n",
            "13/13 [==============================] - 1s 92ms/step - loss: 0.0113 - accuracy: 0.9975 - val_loss: 2.3450 - val_accuracy: 0.7347\n",
            "Epoch 281/500\n",
            "13/13 [==============================] - 1s 91ms/step - loss: 0.0021 - accuracy: 1.0000 - val_loss: 2.3370 - val_accuracy: 0.7551\n",
            "Epoch 282/500\n",
            "13/13 [==============================] - 1s 89ms/step - loss: 0.0042 - accuracy: 0.9975 - val_loss: 2.2104 - val_accuracy: 0.7347\n",
            "Epoch 283/500\n",
            "13/13 [==============================] - 2s 132ms/step - loss: 9.0417e-04 - accuracy: 1.0000 - val_loss: 2.3812 - val_accuracy: 0.7143\n",
            "Epoch 284/500\n",
            "13/13 [==============================] - 2s 157ms/step - loss: 0.0038 - accuracy: 0.9975 - val_loss: 2.3203 - val_accuracy: 0.7755\n",
            "Epoch 285/500\n",
            "13/13 [==============================] - 2s 133ms/step - loss: 0.0012 - accuracy: 1.0000 - val_loss: 2.5578 - val_accuracy: 0.7959\n",
            "Epoch 286/500\n",
            "13/13 [==============================] - 1s 94ms/step - loss: 0.0037 - accuracy: 1.0000 - val_loss: 2.8700 - val_accuracy: 0.7551\n",
            "Epoch 287/500\n",
            "13/13 [==============================] - 1s 89ms/step - loss: 6.8478e-04 - accuracy: 1.0000 - val_loss: 2.9152 - val_accuracy: 0.7143\n",
            "Epoch 288/500\n",
            "13/13 [==============================] - 1s 92ms/step - loss: 0.0037 - accuracy: 0.9975 - val_loss: 2.4127 - val_accuracy: 0.7755\n",
            "Epoch 289/500\n",
            "13/13 [==============================] - 1s 88ms/step - loss: 0.0017 - accuracy: 1.0000 - val_loss: 2.4152 - val_accuracy: 0.7347\n",
            "Epoch 290/500\n",
            "13/13 [==============================] - 1s 93ms/step - loss: 0.0341 - accuracy: 0.9949 - val_loss: 3.7000 - val_accuracy: 0.6531\n",
            "Epoch 291/500\n",
            "13/13 [==============================] - 1s 91ms/step - loss: 0.0061 - accuracy: 1.0000 - val_loss: 2.8016 - val_accuracy: 0.7755\n",
            "Epoch 292/500\n",
            "13/13 [==============================] - 1s 92ms/step - loss: 0.0233 - accuracy: 0.9899 - val_loss: 2.9147 - val_accuracy: 0.6735\n",
            "Epoch 293/500\n",
            "13/13 [==============================] - 1s 92ms/step - loss: 0.0369 - accuracy: 0.9874 - val_loss: 2.8110 - val_accuracy: 0.7143\n",
            "Epoch 294/500\n",
            "13/13 [==============================] - 2s 157ms/step - loss: 0.0451 - accuracy: 0.9798 - val_loss: 2.7649 - val_accuracy: 0.6122\n",
            "Epoch 295/500\n",
            "13/13 [==============================] - 2s 162ms/step - loss: 0.0631 - accuracy: 0.9798 - val_loss: 3.1063 - val_accuracy: 0.6735\n",
            "Epoch 296/500\n",
            "13/13 [==============================] - 1s 96ms/step - loss: 0.0563 - accuracy: 0.9798 - val_loss: 3.4851 - val_accuracy: 0.5918\n",
            "Epoch 297/500\n",
            "13/13 [==============================] - 1s 91ms/step - loss: 0.0586 - accuracy: 0.9747 - val_loss: 2.5726 - val_accuracy: 0.6735\n",
            "Epoch 298/500\n",
            "13/13 [==============================] - 1s 91ms/step - loss: 0.0804 - accuracy: 0.9747 - val_loss: 3.0681 - val_accuracy: 0.6735\n",
            "Epoch 299/500\n",
            "13/13 [==============================] - 1s 91ms/step - loss: 0.0289 - accuracy: 0.9899 - val_loss: 3.1342 - val_accuracy: 0.6327\n",
            "Epoch 300/500\n",
            "13/13 [==============================] - 1s 95ms/step - loss: 0.0100 - accuracy: 0.9975 - val_loss: 2.9963 - val_accuracy: 0.6327\n",
            "Epoch 301/500\n",
            "13/13 [==============================] - 1s 92ms/step - loss: 0.0029 - accuracy: 1.0000 - val_loss: 2.9693 - val_accuracy: 0.6531\n",
            "Epoch 302/500\n",
            "13/13 [==============================] - 1s 90ms/step - loss: 0.0014 - accuracy: 1.0000 - val_loss: 2.5810 - val_accuracy: 0.7347\n",
            "Epoch 303/500\n",
            "13/13 [==============================] - 1s 93ms/step - loss: 0.0026 - accuracy: 1.0000 - val_loss: 2.6927 - val_accuracy: 0.6939\n",
            "Epoch 304/500\n",
            "13/13 [==============================] - 2s 119ms/step - loss: 0.0051 - accuracy: 0.9975 - val_loss: 2.8308 - val_accuracy: 0.6939\n",
            "Epoch 305/500\n",
            "13/13 [==============================] - 2s 156ms/step - loss: 0.0826 - accuracy: 0.9874 - val_loss: 2.8265 - val_accuracy: 0.6735\n",
            "Epoch 306/500\n",
            "13/13 [==============================] - 2s 144ms/step - loss: 0.0428 - accuracy: 0.9848 - val_loss: 3.1167 - val_accuracy: 0.6531\n",
            "Epoch 307/500\n",
            "13/13 [==============================] - 1s 89ms/step - loss: 0.0277 - accuracy: 0.9874 - val_loss: 2.3681 - val_accuracy: 0.6735\n",
            "Epoch 308/500\n",
            "13/13 [==============================] - 1s 92ms/step - loss: 0.0290 - accuracy: 0.9899 - val_loss: 2.3726 - val_accuracy: 0.6735\n",
            "Epoch 309/500\n",
            "13/13 [==============================] - 1s 91ms/step - loss: 0.0829 - accuracy: 0.9899 - val_loss: 2.6943 - val_accuracy: 0.6531\n",
            "Epoch 310/500\n",
            "13/13 [==============================] - 1s 95ms/step - loss: 0.0182 - accuracy: 0.9949 - val_loss: 2.7189 - val_accuracy: 0.6939\n",
            "Epoch 311/500\n",
            "13/13 [==============================] - 1s 93ms/step - loss: 0.0895 - accuracy: 0.9722 - val_loss: 2.8303 - val_accuracy: 0.6735\n",
            "Epoch 312/500\n",
            "13/13 [==============================] - 1s 94ms/step - loss: 0.0202 - accuracy: 0.9924 - val_loss: 2.8264 - val_accuracy: 0.6735\n",
            "Epoch 313/500\n",
            "13/13 [==============================] - 1s 94ms/step - loss: 0.0387 - accuracy: 0.9874 - val_loss: 2.4799 - val_accuracy: 0.6939\n",
            "Epoch 314/500\n",
            "13/13 [==============================] - 1s 95ms/step - loss: 0.0448 - accuracy: 0.9874 - val_loss: 2.9410 - val_accuracy: 0.6531\n",
            "Epoch 315/500\n",
            "13/13 [==============================] - 2s 151ms/step - loss: 0.0292 - accuracy: 0.9899 - val_loss: 3.0117 - val_accuracy: 0.6327\n",
            "Epoch 316/500\n",
            "13/13 [==============================] - 2s 165ms/step - loss: 0.0186 - accuracy: 0.9924 - val_loss: 2.1129 - val_accuracy: 0.7143\n",
            "Epoch 317/500\n",
            "13/13 [==============================] - 1s 101ms/step - loss: 0.0034 - accuracy: 1.0000 - val_loss: 1.8865 - val_accuracy: 0.7347\n",
            "Epoch 318/500\n",
            "13/13 [==============================] - 1s 91ms/step - loss: 0.0047 - accuracy: 1.0000 - val_loss: 2.2257 - val_accuracy: 0.6735\n",
            "Epoch 319/500\n",
            "13/13 [==============================] - 1s 92ms/step - loss: 0.0193 - accuracy: 0.9924 - val_loss: 2.1004 - val_accuracy: 0.7347\n",
            "Epoch 320/500\n",
            "13/13 [==============================] - 1s 92ms/step - loss: 0.0138 - accuracy: 0.9949 - val_loss: 2.2004 - val_accuracy: 0.7347\n",
            "Epoch 321/500\n",
            "13/13 [==============================] - 1s 91ms/step - loss: 0.0190 - accuracy: 0.9949 - val_loss: 2.4521 - val_accuracy: 0.6531\n",
            "Epoch 322/500\n",
            "13/13 [==============================] - 1s 92ms/step - loss: 0.0321 - accuracy: 0.9899 - val_loss: 2.6181 - val_accuracy: 0.6327\n",
            "Epoch 323/500\n",
            "13/13 [==============================] - 1s 89ms/step - loss: 0.0374 - accuracy: 0.9899 - val_loss: 1.9661 - val_accuracy: 0.7347\n",
            "Epoch 324/500\n",
            "13/13 [==============================] - 1s 91ms/step - loss: 0.0420 - accuracy: 0.9848 - val_loss: 2.0027 - val_accuracy: 0.6939\n",
            "Epoch 325/500\n",
            "13/13 [==============================] - 1s 107ms/step - loss: 0.0339 - accuracy: 0.9924 - val_loss: 2.0589 - val_accuracy: 0.7347\n",
            "Epoch 326/500\n",
            "13/13 [==============================] - 2s 158ms/step - loss: 0.0269 - accuracy: 0.9924 - val_loss: 2.5262 - val_accuracy: 0.6327\n",
            "Epoch 327/500\n",
            "13/13 [==============================] - 2s 153ms/step - loss: 0.0300 - accuracy: 0.9949 - val_loss: 3.1191 - val_accuracy: 0.6735\n",
            "Epoch 328/500\n",
            "13/13 [==============================] - 1s 92ms/step - loss: 0.0278 - accuracy: 0.9899 - val_loss: 2.6153 - val_accuracy: 0.6939\n",
            "Epoch 329/500\n",
            "13/13 [==============================] - 1s 92ms/step - loss: 0.0231 - accuracy: 0.9949 - val_loss: 3.0181 - val_accuracy: 0.5918\n",
            "Epoch 330/500\n",
            "13/13 [==============================] - 1s 93ms/step - loss: 0.0392 - accuracy: 0.9899 - val_loss: 2.8712 - val_accuracy: 0.6327\n",
            "Epoch 331/500\n",
            "13/13 [==============================] - 1s 93ms/step - loss: 0.0305 - accuracy: 0.9848 - val_loss: 2.9129 - val_accuracy: 0.6735\n",
            "Epoch 332/500\n",
            "13/13 [==============================] - 1s 92ms/step - loss: 0.0712 - accuracy: 0.9747 - val_loss: 2.9956 - val_accuracy: 0.7347\n",
            "Epoch 333/500\n",
            "13/13 [==============================] - 1s 89ms/step - loss: 0.0628 - accuracy: 0.9773 - val_loss: 2.8594 - val_accuracy: 0.5918\n",
            "Epoch 334/500\n",
            "13/13 [==============================] - 1s 90ms/step - loss: 0.0460 - accuracy: 0.9848 - val_loss: 2.7340 - val_accuracy: 0.6735\n",
            "Epoch 335/500\n",
            "13/13 [==============================] - 1s 112ms/step - loss: 0.0422 - accuracy: 0.9874 - val_loss: 2.3103 - val_accuracy: 0.7143\n",
            "Epoch 336/500\n",
            "13/13 [==============================] - 2s 156ms/step - loss: 0.0039 - accuracy: 1.0000 - val_loss: 2.1323 - val_accuracy: 0.6735\n",
            "Epoch 337/500\n",
            "13/13 [==============================] - 2s 156ms/step - loss: 0.0107 - accuracy: 0.9924 - val_loss: 2.5174 - val_accuracy: 0.6531\n",
            "Epoch 338/500\n",
            "13/13 [==============================] - 2s 113ms/step - loss: 0.0076 - accuracy: 0.9949 - val_loss: 2.2991 - val_accuracy: 0.7143\n",
            "Epoch 339/500\n",
            "13/13 [==============================] - 1s 89ms/step - loss: 0.0010 - accuracy: 1.0000 - val_loss: 2.1803 - val_accuracy: 0.7347\n",
            "Epoch 340/500\n",
            "13/13 [==============================] - 1s 92ms/step - loss: 0.0014 - accuracy: 1.0000 - val_loss: 2.2378 - val_accuracy: 0.7143\n",
            "Epoch 341/500\n",
            "13/13 [==============================] - 1s 92ms/step - loss: 0.0023 - accuracy: 1.0000 - val_loss: 2.3246 - val_accuracy: 0.6939\n",
            "Epoch 342/500\n",
            "13/13 [==============================] - 1s 90ms/step - loss: 7.2451e-04 - accuracy: 1.0000 - val_loss: 2.4267 - val_accuracy: 0.6735\n",
            "Epoch 343/500\n",
            "13/13 [==============================] - 1s 115ms/step - loss: 3.7297e-04 - accuracy: 1.0000 - val_loss: 2.4541 - val_accuracy: 0.6735\n",
            "Epoch 344/500\n",
            "13/13 [==============================] - 1s 117ms/step - loss: 3.3001e-04 - accuracy: 1.0000 - val_loss: 2.4609 - val_accuracy: 0.6735\n",
            "Epoch 345/500\n",
            "13/13 [==============================] - 1s 112ms/step - loss: 0.0227 - accuracy: 0.9975 - val_loss: 2.3315 - val_accuracy: 0.6939\n",
            "Epoch 346/500\n",
            "13/13 [==============================] - 3s 225ms/step - loss: 8.7564e-04 - accuracy: 1.0000 - val_loss: 2.4890 - val_accuracy: 0.6939\n",
            "Epoch 347/500\n",
            "13/13 [==============================] - 2s 178ms/step - loss: 0.0029 - accuracy: 1.0000 - val_loss: 2.3487 - val_accuracy: 0.6939\n",
            "Epoch 348/500\n",
            "13/13 [==============================] - 2s 128ms/step - loss: 0.0010 - accuracy: 1.0000 - val_loss: 2.5246 - val_accuracy: 0.7143\n",
            "Epoch 349/500\n",
            "13/13 [==============================] - 1s 92ms/step - loss: 6.1294e-04 - accuracy: 1.0000 - val_loss: 2.6023 - val_accuracy: 0.6939\n",
            "Epoch 350/500\n",
            "13/13 [==============================] - 1s 91ms/step - loss: 0.0038 - accuracy: 1.0000 - val_loss: 2.5208 - val_accuracy: 0.6939\n",
            "Epoch 351/500\n",
            "13/13 [==============================] - 1s 91ms/step - loss: 5.4176e-04 - accuracy: 1.0000 - val_loss: 2.6023 - val_accuracy: 0.7347\n",
            "Epoch 352/500\n",
            "13/13 [==============================] - 1s 93ms/step - loss: 4.4304e-04 - accuracy: 1.0000 - val_loss: 2.6088 - val_accuracy: 0.7143\n",
            "Epoch 353/500\n",
            "13/13 [==============================] - 1s 95ms/step - loss: 7.2818e-04 - accuracy: 1.0000 - val_loss: 2.5640 - val_accuracy: 0.7143\n",
            "Epoch 354/500\n",
            "13/13 [==============================] - 1s 94ms/step - loss: 4.0079e-04 - accuracy: 1.0000 - val_loss: 2.5014 - val_accuracy: 0.7551\n",
            "Epoch 355/500\n",
            "13/13 [==============================] - 1s 95ms/step - loss: 0.0015 - accuracy: 1.0000 - val_loss: 2.4825 - val_accuracy: 0.7551\n",
            "Epoch 356/500\n",
            "13/13 [==============================] - 1s 93ms/step - loss: 5.1184e-04 - accuracy: 1.0000 - val_loss: 3.2463 - val_accuracy: 0.6531\n",
            "Epoch 357/500\n",
            "13/13 [==============================] - 2s 159ms/step - loss: 0.0054 - accuracy: 0.9975 - val_loss: 2.8326 - val_accuracy: 0.6531\n",
            "Epoch 358/500\n",
            "13/13 [==============================] - 2s 160ms/step - loss: 0.0011 - accuracy: 1.0000 - val_loss: 2.5134 - val_accuracy: 0.7347\n",
            "Epoch 359/500\n",
            "13/13 [==============================] - 1s 98ms/step - loss: 0.0016 - accuracy: 1.0000 - val_loss: 2.5009 - val_accuracy: 0.7143\n",
            "Epoch 360/500\n",
            "13/13 [==============================] - 1s 93ms/step - loss: 0.0014 - accuracy: 1.0000 - val_loss: 2.5228 - val_accuracy: 0.7551\n",
            "Epoch 361/500\n",
            "13/13 [==============================] - 1s 90ms/step - loss: 0.0056 - accuracy: 0.9975 - val_loss: 2.2101 - val_accuracy: 0.7551\n",
            "Epoch 362/500\n",
            "13/13 [==============================] - 1s 92ms/step - loss: 0.0039 - accuracy: 0.9975 - val_loss: 2.1100 - val_accuracy: 0.7347\n",
            "Epoch 363/500\n",
            "13/13 [==============================] - 1s 92ms/step - loss: 2.3557e-04 - accuracy: 1.0000 - val_loss: 2.0394 - val_accuracy: 0.7551\n",
            "Epoch 364/500\n",
            "13/13 [==============================] - 1s 91ms/step - loss: 3.1391e-04 - accuracy: 1.0000 - val_loss: 2.0266 - val_accuracy: 0.7551\n",
            "Epoch 365/500\n",
            "13/13 [==============================] - 1s 94ms/step - loss: 3.0221e-04 - accuracy: 1.0000 - val_loss: 2.0291 - val_accuracy: 0.7959\n",
            "Epoch 366/500\n",
            "13/13 [==============================] - 1s 93ms/step - loss: 3.0964e-04 - accuracy: 1.0000 - val_loss: 2.0373 - val_accuracy: 0.7959\n",
            "Epoch 367/500\n",
            "13/13 [==============================] - 2s 123ms/step - loss: 2.6239e-04 - accuracy: 1.0000 - val_loss: 2.0539 - val_accuracy: 0.7959\n",
            "Epoch 368/500\n",
            "13/13 [==============================] - 2s 163ms/step - loss: 1.7426e-04 - accuracy: 1.0000 - val_loss: 2.0708 - val_accuracy: 0.7959\n",
            "Epoch 369/500\n",
            "13/13 [==============================] - 2s 168ms/step - loss: 1.4125e-04 - accuracy: 1.0000 - val_loss: 2.0661 - val_accuracy: 0.7755\n",
            "Epoch 370/500\n",
            "13/13 [==============================] - 2s 164ms/step - loss: 9.6299e-05 - accuracy: 1.0000 - val_loss: 2.0657 - val_accuracy: 0.7755\n",
            "Epoch 371/500\n",
            "13/13 [==============================] - 2s 147ms/step - loss: 2.9033e-04 - accuracy: 1.0000 - val_loss: 2.0584 - val_accuracy: 0.7755\n",
            "Epoch 372/500\n",
            "13/13 [==============================] - 1s 96ms/step - loss: 1.4271e-04 - accuracy: 1.0000 - val_loss: 2.0538 - val_accuracy: 0.7755\n",
            "Epoch 373/500\n",
            "13/13 [==============================] - 1s 91ms/step - loss: 9.1958e-05 - accuracy: 1.0000 - val_loss: 2.0538 - val_accuracy: 0.7755\n",
            "Epoch 374/500\n",
            "13/13 [==============================] - 1s 91ms/step - loss: 0.0022 - accuracy: 0.9975 - val_loss: 2.3986 - val_accuracy: 0.6735\n",
            "Epoch 375/500\n",
            "13/13 [==============================] - 1s 94ms/step - loss: 0.0038 - accuracy: 0.9975 - val_loss: 2.0659 - val_accuracy: 0.7959\n",
            "Epoch 376/500\n",
            "13/13 [==============================] - 1s 90ms/step - loss: 0.0016 - accuracy: 1.0000 - val_loss: 2.0346 - val_accuracy: 0.7959\n",
            "Epoch 377/500\n",
            "13/13 [==============================] - 1s 110ms/step - loss: 6.9281e-04 - accuracy: 1.0000 - val_loss: 2.0387 - val_accuracy: 0.7959\n",
            "Epoch 378/500\n",
            "13/13 [==============================] - 2s 159ms/step - loss: 2.4833e-04 - accuracy: 1.0000 - val_loss: 2.0511 - val_accuracy: 0.7959\n",
            "Epoch 379/500\n",
            "13/13 [==============================] - 2s 152ms/step - loss: 2.8486e-04 - accuracy: 1.0000 - val_loss: 2.0679 - val_accuracy: 0.7755\n",
            "Epoch 380/500\n",
            "13/13 [==============================] - 1s 91ms/step - loss: 8.9453e-04 - accuracy: 1.0000 - val_loss: 2.0803 - val_accuracy: 0.7959\n",
            "Epoch 381/500\n",
            "13/13 [==============================] - 1s 91ms/step - loss: 0.0056 - accuracy: 0.9975 - val_loss: 2.3413 - val_accuracy: 0.7551\n",
            "Epoch 382/500\n",
            "13/13 [==============================] - 1s 93ms/step - loss: 7.6877e-04 - accuracy: 1.0000 - val_loss: 2.2005 - val_accuracy: 0.7755\n",
            "Epoch 383/500\n",
            "13/13 [==============================] - 1s 91ms/step - loss: 1.4716e-04 - accuracy: 1.0000 - val_loss: 2.1662 - val_accuracy: 0.7755\n",
            "Epoch 384/500\n",
            "13/13 [==============================] - 1s 92ms/step - loss: 5.6459e-04 - accuracy: 1.0000 - val_loss: 2.2046 - val_accuracy: 0.7755\n",
            "Epoch 385/500\n",
            "13/13 [==============================] - 1s 94ms/step - loss: 1.4696e-04 - accuracy: 1.0000 - val_loss: 2.2294 - val_accuracy: 0.7755\n",
            "Epoch 386/500\n",
            "13/13 [==============================] - 1s 91ms/step - loss: 2.1782e-04 - accuracy: 1.0000 - val_loss: 2.2367 - val_accuracy: 0.7755\n",
            "Epoch 387/500\n",
            "13/13 [==============================] - 1s 94ms/step - loss: 2.1881e-04 - accuracy: 1.0000 - val_loss: 2.2522 - val_accuracy: 0.7755\n",
            "Epoch 388/500\n",
            "13/13 [==============================] - 2s 133ms/step - loss: 2.6907e-04 - accuracy: 1.0000 - val_loss: 2.2704 - val_accuracy: 0.7755\n",
            "Epoch 389/500\n",
            "13/13 [==============================] - 2s 154ms/step - loss: 1.3008e-04 - accuracy: 1.0000 - val_loss: 2.2795 - val_accuracy: 0.7755\n",
            "Epoch 390/500\n",
            "13/13 [==============================] - 2s 133ms/step - loss: 9.8548e-05 - accuracy: 1.0000 - val_loss: 2.2677 - val_accuracy: 0.7755\n",
            "Epoch 391/500\n",
            "13/13 [==============================] - 1s 94ms/step - loss: 1.2605e-04 - accuracy: 1.0000 - val_loss: 2.2676 - val_accuracy: 0.7755\n",
            "Epoch 392/500\n",
            "13/13 [==============================] - 1s 91ms/step - loss: 1.3455e-04 - accuracy: 1.0000 - val_loss: 2.2636 - val_accuracy: 0.7755\n",
            "Epoch 393/500\n",
            "13/13 [==============================] - 1s 89ms/step - loss: 2.4647e-04 - accuracy: 1.0000 - val_loss: 2.2448 - val_accuracy: 0.7755\n",
            "Epoch 394/500\n",
            "13/13 [==============================] - 1s 96ms/step - loss: 1.3300e-04 - accuracy: 1.0000 - val_loss: 2.2555 - val_accuracy: 0.7551\n",
            "Epoch 395/500\n",
            "13/13 [==============================] - 1s 92ms/step - loss: 3.3650e-04 - accuracy: 1.0000 - val_loss: 2.2848 - val_accuracy: 0.7347\n",
            "Epoch 396/500\n",
            "13/13 [==============================] - 1s 94ms/step - loss: 1.5104e-04 - accuracy: 1.0000 - val_loss: 2.2981 - val_accuracy: 0.7143\n",
            "Epoch 397/500\n",
            "13/13 [==============================] - 1s 95ms/step - loss: 1.8164e-04 - accuracy: 1.0000 - val_loss: 2.3073 - val_accuracy: 0.7143\n",
            "Epoch 398/500\n",
            "13/13 [==============================] - 1s 98ms/step - loss: 3.2906e-04 - accuracy: 1.0000 - val_loss: 2.2937 - val_accuracy: 0.7551\n",
            "Epoch 399/500\n",
            "13/13 [==============================] - 2s 161ms/step - loss: 4.3135e-04 - accuracy: 1.0000 - val_loss: 2.2936 - val_accuracy: 0.7959\n",
            "Epoch 400/500\n",
            "13/13 [==============================] - 2s 158ms/step - loss: 8.9032e-05 - accuracy: 1.0000 - val_loss: 2.3148 - val_accuracy: 0.7755\n",
            "Epoch 401/500\n",
            "13/13 [==============================] - 1s 103ms/step - loss: 7.5245e-04 - accuracy: 1.0000 - val_loss: 2.3051 - val_accuracy: 0.7959\n",
            "Epoch 402/500\n",
            "13/13 [==============================] - 1s 94ms/step - loss: 0.0054 - accuracy: 0.9975 - val_loss: 3.6025 - val_accuracy: 0.6939\n",
            "Epoch 403/500\n",
            "13/13 [==============================] - 1s 93ms/step - loss: 0.0092 - accuracy: 0.9924 - val_loss: 3.1973 - val_accuracy: 0.5918\n",
            "Epoch 404/500\n",
            "13/13 [==============================] - 1s 93ms/step - loss: 0.0158 - accuracy: 0.9975 - val_loss: 2.9134 - val_accuracy: 0.6939\n",
            "Epoch 405/500\n",
            "13/13 [==============================] - 1s 92ms/step - loss: 0.0982 - accuracy: 0.9798 - val_loss: 2.6036 - val_accuracy: 0.6939\n",
            "Epoch 406/500\n",
            "13/13 [==============================] - 1s 92ms/step - loss: 0.0489 - accuracy: 0.9874 - val_loss: 2.8441 - val_accuracy: 0.6939\n",
            "Epoch 407/500\n",
            "13/13 [==============================] - 1s 95ms/step - loss: 0.0241 - accuracy: 0.9924 - val_loss: 3.4803 - val_accuracy: 0.6327\n",
            "Epoch 408/500\n",
            "13/13 [==============================] - 1s 91ms/step - loss: 0.0449 - accuracy: 0.9899 - val_loss: 2.9452 - val_accuracy: 0.6735\n",
            "Epoch 409/500\n",
            "13/13 [==============================] - 2s 132ms/step - loss: 0.0374 - accuracy: 0.9899 - val_loss: 3.1838 - val_accuracy: 0.6939\n",
            "Epoch 410/500\n",
            "13/13 [==============================] - 2s 161ms/step - loss: 0.1120 - accuracy: 0.9747 - val_loss: 3.0519 - val_accuracy: 0.5714\n",
            "Epoch 411/500\n",
            "13/13 [==============================] - 2s 135ms/step - loss: 0.0655 - accuracy: 0.9848 - val_loss: 1.9521 - val_accuracy: 0.7755\n",
            "Epoch 412/500\n",
            "13/13 [==============================] - 1s 95ms/step - loss: 0.0443 - accuracy: 0.9949 - val_loss: 2.4140 - val_accuracy: 0.6735\n",
            "Epoch 413/500\n",
            "13/13 [==============================] - 1s 95ms/step - loss: 0.0329 - accuracy: 0.9874 - val_loss: 2.1497 - val_accuracy: 0.7347\n",
            "Epoch 414/500\n",
            "13/13 [==============================] - 1s 96ms/step - loss: 0.0074 - accuracy: 0.9975 - val_loss: 2.6789 - val_accuracy: 0.7143\n",
            "Epoch 415/500\n",
            "13/13 [==============================] - 1s 98ms/step - loss: 0.0069 - accuracy: 1.0000 - val_loss: 2.9213 - val_accuracy: 0.7551\n",
            "Epoch 416/500\n",
            "13/13 [==============================] - 1s 95ms/step - loss: 0.0079 - accuracy: 0.9949 - val_loss: 2.7913 - val_accuracy: 0.7347\n",
            "Epoch 417/500\n",
            "13/13 [==============================] - 1s 98ms/step - loss: 0.0041 - accuracy: 0.9975 - val_loss: 2.6310 - val_accuracy: 0.7143\n",
            "Epoch 418/500\n",
            "13/13 [==============================] - 1s 96ms/step - loss: 0.0018 - accuracy: 1.0000 - val_loss: 2.4899 - val_accuracy: 0.7551\n",
            "Epoch 419/500\n",
            "13/13 [==============================] - 2s 123ms/step - loss: 0.0020 - accuracy: 1.0000 - val_loss: 2.5008 - val_accuracy: 0.7755\n",
            "Epoch 420/500\n",
            "13/13 [==============================] - 2s 161ms/step - loss: 0.0041 - accuracy: 0.9975 - val_loss: 2.6554 - val_accuracy: 0.7347\n",
            "Epoch 421/500\n",
            "13/13 [==============================] - 2s 145ms/step - loss: 0.0017 - accuracy: 1.0000 - val_loss: 2.8983 - val_accuracy: 0.7143\n",
            "Epoch 422/500\n",
            "13/13 [==============================] - 1s 93ms/step - loss: 9.9944e-04 - accuracy: 1.0000 - val_loss: 2.7856 - val_accuracy: 0.7347\n",
            "Epoch 423/500\n",
            "13/13 [==============================] - 1s 95ms/step - loss: 5.9380e-04 - accuracy: 1.0000 - val_loss: 2.7802 - val_accuracy: 0.7551\n",
            "Epoch 424/500\n",
            "13/13 [==============================] - 1s 97ms/step - loss: 3.7594e-04 - accuracy: 1.0000 - val_loss: 2.8146 - val_accuracy: 0.7551\n",
            "Epoch 425/500\n",
            "13/13 [==============================] - 1s 95ms/step - loss: 5.2422e-04 - accuracy: 1.0000 - val_loss: 2.8328 - val_accuracy: 0.7551\n",
            "Epoch 426/500\n",
            "13/13 [==============================] - 1s 94ms/step - loss: 4.6471e-04 - accuracy: 1.0000 - val_loss: 2.8300 - val_accuracy: 0.7347\n",
            "Epoch 427/500\n",
            "13/13 [==============================] - 1s 98ms/step - loss: 3.2913e-04 - accuracy: 1.0000 - val_loss: 2.8491 - val_accuracy: 0.7347\n",
            "Epoch 428/500\n",
            "13/13 [==============================] - 1s 99ms/step - loss: 0.0021 - accuracy: 1.0000 - val_loss: 2.6158 - val_accuracy: 0.7347\n",
            "Epoch 429/500\n",
            "13/13 [==============================] - 1s 108ms/step - loss: 0.0069 - accuracy: 0.9975 - val_loss: 2.8131 - val_accuracy: 0.7551\n",
            "Epoch 430/500\n",
            "13/13 [==============================] - 2s 158ms/step - loss: 0.0051 - accuracy: 0.9975 - val_loss: 2.6993 - val_accuracy: 0.7959\n",
            "Epoch 431/500\n",
            "13/13 [==============================] - 2s 165ms/step - loss: 0.0016 - accuracy: 1.0000 - val_loss: 2.5907 - val_accuracy: 0.7959\n",
            "Epoch 432/500\n",
            "13/13 [==============================] - 1s 96ms/step - loss: 0.0024 - accuracy: 1.0000 - val_loss: 2.6388 - val_accuracy: 0.7959\n",
            "Epoch 433/500\n",
            "13/13 [==============================] - 1s 99ms/step - loss: 0.0122 - accuracy: 0.9899 - val_loss: 3.3903 - val_accuracy: 0.6531\n",
            "Epoch 434/500\n",
            "13/13 [==============================] - 1s 97ms/step - loss: 0.0332 - accuracy: 0.9899 - val_loss: 2.8870 - val_accuracy: 0.7143\n",
            "Epoch 435/500\n",
            "13/13 [==============================] - 1s 94ms/step - loss: 0.0468 - accuracy: 0.9899 - val_loss: 2.6909 - val_accuracy: 0.7551\n",
            "Epoch 436/500\n",
            "13/13 [==============================] - 1s 98ms/step - loss: 0.0065 - accuracy: 1.0000 - val_loss: 2.7973 - val_accuracy: 0.6735\n",
            "Epoch 437/500\n",
            "13/13 [==============================] - 1s 94ms/step - loss: 0.0093 - accuracy: 0.9975 - val_loss: 2.6656 - val_accuracy: 0.7347\n",
            "Epoch 438/500\n",
            "13/13 [==============================] - 1s 93ms/step - loss: 0.0078 - accuracy: 0.9949 - val_loss: 2.3785 - val_accuracy: 0.6939\n",
            "Epoch 439/500\n",
            "13/13 [==============================] - 1s 93ms/step - loss: 0.0202 - accuracy: 0.9899 - val_loss: 2.4912 - val_accuracy: 0.8163\n",
            "Epoch 440/500\n",
            "13/13 [==============================] - 2s 152ms/step - loss: 0.0043 - accuracy: 1.0000 - val_loss: 2.9538 - val_accuracy: 0.8367\n",
            "Epoch 441/500\n",
            "13/13 [==============================] - 2s 157ms/step - loss: 0.0364 - accuracy: 0.9899 - val_loss: 2.9972 - val_accuracy: 0.7347\n",
            "Epoch 442/500\n",
            "13/13 [==============================] - 2s 116ms/step - loss: 0.0160 - accuracy: 0.9975 - val_loss: 2.7999 - val_accuracy: 0.6735\n",
            "Epoch 443/500\n",
            "13/13 [==============================] - 1s 92ms/step - loss: 0.0041 - accuracy: 1.0000 - val_loss: 2.7520 - val_accuracy: 0.7143\n",
            "Epoch 444/500\n",
            "13/13 [==============================] - 1s 95ms/step - loss: 0.0017 - accuracy: 1.0000 - val_loss: 2.6240 - val_accuracy: 0.7347\n",
            "Epoch 445/500\n",
            "13/13 [==============================] - 1s 91ms/step - loss: 3.5830e-04 - accuracy: 1.0000 - val_loss: 2.6229 - val_accuracy: 0.7551\n",
            "Epoch 446/500\n",
            "13/13 [==============================] - 1s 94ms/step - loss: 0.0044 - accuracy: 0.9975 - val_loss: 2.7166 - val_accuracy: 0.7143\n",
            "Epoch 447/500\n",
            "13/13 [==============================] - 1s 95ms/step - loss: 5.2581e-04 - accuracy: 1.0000 - val_loss: 2.8008 - val_accuracy: 0.7143\n",
            "Epoch 448/500\n",
            "13/13 [==============================] - 1s 91ms/step - loss: 3.0659e-04 - accuracy: 1.0000 - val_loss: 2.8328 - val_accuracy: 0.7143\n",
            "Epoch 449/500\n",
            "13/13 [==============================] - 1s 93ms/step - loss: 4.8732e-04 - accuracy: 1.0000 - val_loss: 2.8258 - val_accuracy: 0.7143\n",
            "Epoch 450/500\n",
            "13/13 [==============================] - 2s 118ms/step - loss: 2.9260e-04 - accuracy: 1.0000 - val_loss: 2.8167 - val_accuracy: 0.7143\n",
            "Epoch 451/500\n",
            "13/13 [==============================] - 2s 162ms/step - loss: 2.3732e-04 - accuracy: 1.0000 - val_loss: 2.8053 - val_accuracy: 0.7347\n",
            "Epoch 452/500\n",
            "13/13 [==============================] - 2s 150ms/step - loss: 8.2234e-04 - accuracy: 1.0000 - val_loss: 2.8223 - val_accuracy: 0.7551\n",
            "Epoch 453/500\n",
            "13/13 [==============================] - 1s 92ms/step - loss: 3.5746e-04 - accuracy: 1.0000 - val_loss: 2.9264 - val_accuracy: 0.7143\n",
            "Epoch 454/500\n",
            "13/13 [==============================] - 1s 94ms/step - loss: 6.9880e-04 - accuracy: 1.0000 - val_loss: 2.9441 - val_accuracy: 0.7143\n",
            "Epoch 455/500\n",
            "13/13 [==============================] - 1s 97ms/step - loss: 0.0012 - accuracy: 1.0000 - val_loss: 2.8952 - val_accuracy: 0.7551\n",
            "Epoch 456/500\n",
            "13/13 [==============================] - 1s 95ms/step - loss: 8.2941e-04 - accuracy: 1.0000 - val_loss: 2.7967 - val_accuracy: 0.7143\n",
            "Epoch 457/500\n",
            "13/13 [==============================] - 1s 95ms/step - loss: 6.6623e-04 - accuracy: 1.0000 - val_loss: 2.7097 - val_accuracy: 0.7551\n",
            "Epoch 458/500\n",
            "13/13 [==============================] - 1s 97ms/step - loss: 0.0010 - accuracy: 1.0000 - val_loss: 2.7013 - val_accuracy: 0.7755\n",
            "Epoch 459/500\n",
            "13/13 [==============================] - 1s 95ms/step - loss: 6.6245e-04 - accuracy: 1.0000 - val_loss: 2.7395 - val_accuracy: 0.7755\n",
            "Epoch 460/500\n",
            "13/13 [==============================] - 1s 94ms/step - loss: 1.9055e-04 - accuracy: 1.0000 - val_loss: 2.7102 - val_accuracy: 0.7959\n",
            "Epoch 461/500\n",
            "13/13 [==============================] - 2s 166ms/step - loss: 2.7576e-04 - accuracy: 1.0000 - val_loss: 2.6914 - val_accuracy: 0.7959\n",
            "Epoch 462/500\n",
            "13/13 [==============================] - 2s 157ms/step - loss: 1.1550e-04 - accuracy: 1.0000 - val_loss: 2.7041 - val_accuracy: 0.8163\n",
            "Epoch 463/500\n",
            "13/13 [==============================] - 1s 99ms/step - loss: 2.8739e-04 - accuracy: 1.0000 - val_loss: 2.7288 - val_accuracy: 0.8163\n",
            "Epoch 464/500\n",
            "13/13 [==============================] - 1s 93ms/step - loss: 7.2993e-05 - accuracy: 1.0000 - val_loss: 2.7363 - val_accuracy: 0.8163\n",
            "Epoch 465/500\n",
            "13/13 [==============================] - 1s 94ms/step - loss: 3.7322e-04 - accuracy: 1.0000 - val_loss: 2.7295 - val_accuracy: 0.8163\n",
            "Epoch 466/500\n",
            "13/13 [==============================] - 1s 92ms/step - loss: 4.5575e-05 - accuracy: 1.0000 - val_loss: 2.7070 - val_accuracy: 0.8163\n",
            "Epoch 467/500\n",
            "13/13 [==============================] - 1s 96ms/step - loss: 0.0036 - accuracy: 0.9975 - val_loss: 3.1447 - val_accuracy: 0.7551\n",
            "Epoch 468/500\n",
            "13/13 [==============================] - 1s 96ms/step - loss: 5.2236e-04 - accuracy: 1.0000 - val_loss: 3.5625 - val_accuracy: 0.7347\n",
            "Epoch 469/500\n",
            "13/13 [==============================] - 1s 96ms/step - loss: 8.4730e-04 - accuracy: 1.0000 - val_loss: 3.6861 - val_accuracy: 0.7551\n",
            "Epoch 470/500\n",
            "13/13 [==============================] - 1s 94ms/step - loss: 0.0077 - accuracy: 0.9975 - val_loss: 3.3679 - val_accuracy: 0.7347\n",
            "Epoch 471/500\n",
            "13/13 [==============================] - 2s 135ms/step - loss: 0.0150 - accuracy: 0.9975 - val_loss: 3.0701 - val_accuracy: 0.7347\n",
            "Epoch 472/500\n",
            "13/13 [==============================] - 2s 153ms/step - loss: 0.0020 - accuracy: 1.0000 - val_loss: 2.5335 - val_accuracy: 0.7755\n",
            "Epoch 473/500\n",
            "13/13 [==============================] - 2s 134ms/step - loss: 0.0038 - accuracy: 0.9975 - val_loss: 2.6874 - val_accuracy: 0.7551\n",
            "Epoch 474/500\n",
            "13/13 [==============================] - 1s 96ms/step - loss: 7.8745e-04 - accuracy: 1.0000 - val_loss: 2.7529 - val_accuracy: 0.7551\n",
            "Epoch 475/500\n",
            "13/13 [==============================] - 1s 94ms/step - loss: 0.0022 - accuracy: 0.9975 - val_loss: 2.5206 - val_accuracy: 0.7959\n",
            "Epoch 476/500\n",
            "13/13 [==============================] - 1s 94ms/step - loss: 0.0065 - accuracy: 0.9975 - val_loss: 2.8234 - val_accuracy: 0.7551\n",
            "Epoch 477/500\n",
            "13/13 [==============================] - 1s 94ms/step - loss: 0.0060 - accuracy: 0.9975 - val_loss: 2.7830 - val_accuracy: 0.7755\n",
            "Epoch 478/500\n",
            "13/13 [==============================] - 1s 93ms/step - loss: 4.3968e-04 - accuracy: 1.0000 - val_loss: 2.9358 - val_accuracy: 0.7551\n",
            "Epoch 479/500\n",
            "13/13 [==============================] - 1s 96ms/step - loss: 0.0123 - accuracy: 0.9949 - val_loss: 3.6339 - val_accuracy: 0.6735\n",
            "Epoch 480/500\n",
            "13/13 [==============================] - 1s 97ms/step - loss: 8.6794e-04 - accuracy: 1.0000 - val_loss: 3.5796 - val_accuracy: 0.6939\n",
            "Epoch 481/500\n",
            "13/13 [==============================] - 1s 102ms/step - loss: 0.0015 - accuracy: 1.0000 - val_loss: 3.3672 - val_accuracy: 0.6939\n",
            "Epoch 482/500\n",
            "13/13 [==============================] - 2s 157ms/step - loss: 2.5357e-04 - accuracy: 1.0000 - val_loss: 3.0612 - val_accuracy: 0.7347\n",
            "Epoch 483/500\n",
            "13/13 [==============================] - 2s 157ms/step - loss: 4.6794e-04 - accuracy: 1.0000 - val_loss: 2.9943 - val_accuracy: 0.7551\n",
            "Epoch 484/500\n",
            "13/13 [==============================] - 1s 101ms/step - loss: 1.1612e-04 - accuracy: 1.0000 - val_loss: 3.0028 - val_accuracy: 0.7347\n",
            "Epoch 485/500\n",
            "13/13 [==============================] - 1s 94ms/step - loss: 0.0055 - accuracy: 0.9975 - val_loss: 3.3292 - val_accuracy: 0.6939\n",
            "Epoch 486/500\n",
            "13/13 [==============================] - 1s 94ms/step - loss: 0.0018 - accuracy: 1.0000 - val_loss: 3.5357 - val_accuracy: 0.6939\n",
            "Epoch 487/500\n",
            "13/13 [==============================] - 1s 93ms/step - loss: 4.0460e-04 - accuracy: 1.0000 - val_loss: 2.9215 - val_accuracy: 0.7551\n",
            "Epoch 488/500\n",
            "13/13 [==============================] - 1s 94ms/step - loss: 0.0064 - accuracy: 0.9975 - val_loss: 3.3605 - val_accuracy: 0.6531\n",
            "Epoch 489/500\n",
            "13/13 [==============================] - 1s 97ms/step - loss: 0.0018 - accuracy: 1.0000 - val_loss: 3.3677 - val_accuracy: 0.6735\n",
            "Epoch 490/500\n",
            "13/13 [==============================] - 1s 97ms/step - loss: 4.4002e-04 - accuracy: 1.0000 - val_loss: 3.1855 - val_accuracy: 0.7143\n",
            "Epoch 491/500\n",
            "13/13 [==============================] - 1s 94ms/step - loss: 0.0011 - accuracy: 1.0000 - val_loss: 3.2489 - val_accuracy: 0.7347\n",
            "Epoch 492/500\n",
            "13/13 [==============================] - 2s 142ms/step - loss: 1.0308e-04 - accuracy: 1.0000 - val_loss: 3.3003 - val_accuracy: 0.7347\n",
            "Epoch 493/500\n",
            "13/13 [==============================] - 2s 158ms/step - loss: 1.4118e-04 - accuracy: 1.0000 - val_loss: 3.3028 - val_accuracy: 0.7143\n",
            "Epoch 494/500\n",
            "13/13 [==============================] - 2s 127ms/step - loss: 6.6333e-05 - accuracy: 1.0000 - val_loss: 3.3179 - val_accuracy: 0.7143\n",
            "Epoch 495/500\n",
            "13/13 [==============================] - 1s 94ms/step - loss: 7.4925e-04 - accuracy: 1.0000 - val_loss: 3.3212 - val_accuracy: 0.7347\n",
            "Epoch 496/500\n",
            "13/13 [==============================] - 1s 92ms/step - loss: 3.9432e-05 - accuracy: 1.0000 - val_loss: 3.4765 - val_accuracy: 0.7551\n",
            "Epoch 497/500\n",
            "13/13 [==============================] - 1s 96ms/step - loss: 0.0159 - accuracy: 0.9949 - val_loss: 3.1916 - val_accuracy: 0.7143\n",
            "Epoch 498/500\n",
            "13/13 [==============================] - 1s 92ms/step - loss: 0.0017 - accuracy: 1.0000 - val_loss: 2.5810 - val_accuracy: 0.7959\n",
            "Epoch 499/500\n",
            "13/13 [==============================] - 1s 92ms/step - loss: 0.0325 - accuracy: 0.9949 - val_loss: 2.8548 - val_accuracy: 0.7755\n",
            "Epoch 500/500\n",
            "13/13 [==============================] - 1s 92ms/step - loss: 0.0206 - accuracy: 0.9975 - val_loss: 2.8674 - val_accuracy: 0.7551\n"
          ]
        }
      ],
      "source": [
        "history = model.fit(X_train, y_train, epochs=500, validation_data=(X_val, y_val), verbose=1)"
      ]
    },
    {
      "cell_type": "markdown",
      "metadata": {
        "id": "ues5Uz5ZIonL"
      },
      "source": [
        "####**Evaluating the performance**"
      ]
    },
    {
      "cell_type": "code",
      "execution_count": 20,
      "metadata": {
        "colab": {
          "base_uri": "https://localhost:8080/",
          "height": 545
        },
        "id": "9X203acY3NMQ",
        "outputId": "f1d158a9-4e3a-4c71-e61c-316ec42f377c"
      },
      "outputs": [
        {
          "output_type": "stream",
          "name": "stdout",
          "text": [
            "2/2 [==============================] - 0s 19ms/step - loss: 3.7871 - accuracy: 0.7400\n"
          ]
        },
        {
          "output_type": "display_data",
          "data": {
            "text/plain": [
              "<Figure size 1000x600 with 1 Axes>"
            ],
            "image/png": "[encoded data removed]"
          },
          "metadata": {}
        }
      ],
      "source": [
        "model.evaluate(X_test, y_test)\n",
        "\n",
        "pd.DataFrame(history.history).plot(figsize=(10,6))\n",
        "plt.grid(True)\n",
        "plt.gca().set_ylim(0,1)\n",
        "plt.show()"
      ]
    },
    {
      "cell_type": "code",
      "execution_count": 21,
      "metadata": {
        "colab": {
          "base_uri": "https://localhost:8080/",
          "height": 490
        },
        "id": "OAsKkkq64Kg5",
        "outputId": "7e56f06d-f906-46a5-df49-ce7a8078fc6e"
      },
      "outputs": [
        {
          "output_type": "stream",
          "name": "stdout",
          "text": [
            "2/2 [==============================] - 0s 22ms/step\n"
          ]
        },
        {
          "output_type": "display_data",
          "data": {
            "text/plain": [
              "<Figure size 640x480 with 2 Axes>"
            ],
            "image/png": "[encoded data removed]"
          },
          "metadata": {}
        },
        {
          "output_type": "stream",
          "name": "stdout",
          "text": [
            "74.0\n"
          ]
        }
      ],
      "source": [
        "prediction = model.predict(X_test)\n",
        "predicted_labels = [np.argmax(i) for i in prediction]\n",
        "\n",
        "cm = confusion_matrix(y_test, prediction.argmax(axis=1))\n",
        "disp = ConfusionMatrixDisplay(confusion_matrix=cm)\n",
        "disp.plot()\n",
        "plt.show()\n",
        "\n",
        "accuracy = 100*np.trace(cm)/np.sum(cm)\n",
        "print(accuracy)"
      ]
    },
    {
      "cell_type": "code",
      "execution_count": 24,
      "metadata": {
        "colab": {
          "base_uri": "https://localhost:8080/",
          "height": 564
        },
        "id": "D5vf25P_d9NF",
        "outputId": "b0fdba2e-cf89-4658-f2ab-4d0d2bae234b"
      },
      "outputs": [
        {
          "output_type": "execute_result",
          "data": {
            "text/plain": [
              "Text(45.722222222222214, 0.5, 'True Label')"
            ]
          },
          "metadata": {},
          "execution_count": 24
        },
        {
          "output_type": "display_data",
          "data": {
            "text/plain": [
              "<Figure size 600x600 with 2 Axes>"
            ],
            "image/png": "[encoded data removed]"
          },
          "metadata": {}
        }
      ],
      "source": [
        "# Alternative Code for Displaying Confusion Matrix\n",
        "import seaborn as sn\n",
        "plt.figure(figsize = (6,6))\n",
        "sn.heatmap(cm, annot=True, fmt='d')\n",
        "plt.xlabel('Predicted Label')\n",
        "plt.ylabel('True Label')"
      ]
    }
  ],
  "metadata": {
    "colab": {
      "provenance": [],
      "include_colab_link": true
    },
    "kernelspec": {
      "display_name": "Python 3",
      "name": "python3"
    },
    "language_info": {
      "name": "python"
    }
  },
  "nbformat": 4,
  "nbformat_minor": 0
}