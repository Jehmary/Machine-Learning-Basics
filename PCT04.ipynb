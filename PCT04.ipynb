{
  "cells": [
    {
      "cell_type": "markdown",
      "metadata": {
        "id": "view-in-github",
        "colab_type": "text"
      },
      "source": [
        "<a href=\"https://colab.research.google.com/github/Jehmary/Machine-Learning-Basics/blob/main/PCT04.ipynb\" target=\"_parent\"><img src=\"https://colab.research.google.com/assets/colab-badge.svg\" alt=\"Open In Colab\"/></a>"
      ]
    },
    {
      "cell_type": "markdown",
      "metadata": {
        "id": "Cx-xjMmrn9YP"
      },
      "source": [
        "##**Classification of Images of Balls**"
      ]
    },
    {
      "cell_type": "markdown",
      "metadata": {
        "id": "SmmMWPBIoVZ6"
      },
      "source": [
        "####**Importing the Necessary Libraries**"
      ]
    },
    {
      "cell_type": "code",
      "execution_count": 2,
      "metadata": {
        "id": "7B78bGpln72R"
      },
      "outputs": [],
      "source": [
        "import numpy as np\n",
        "import matplotlib.pyplot as plt\n",
        "import pandas as pd\n",
        "import os\n",
        "\n",
        "import cv2 as cv\n",
        "import fnmatch\n",
        "\n",
        "import tensorflow as tf\n",
        "from tensorflow import keras\n",
        "from tensorflow.keras.models import Sequential\n",
        "from tensorflow.keras.layers import Dense, Conv2D, Dropout, Flatten, MaxPooling2D\n",
        "\n",
        "from sklearn import datasets\n",
        "from sklearn.preprocessing import LabelEncoder\n",
        "from sklearn.model_selection import train_test_split\n",
        "from sklearn.metrics import confusion_matrix, ConfusionMatrixDisplay"
      ]
    },
    {
      "cell_type": "markdown",
      "metadata": {
        "id": "_lQlilLLp8mB"
      },
      "source": [
        "####**Importing the Data**"
      ]
    },
    {
      "cell_type": "markdown",
      "source": [
        "Mounting Google Drive"
      ],
      "metadata": {
        "id": "AnB8laRk2tEH"
      }
    },
    {
      "cell_type": "code",
      "execution_count": 3,
      "metadata": {
        "colab": {
          "base_uri": "https://localhost:8080/"
        },
        "id": "8jX_sF24HXpO",
        "outputId": "99cc91fd-16e2-4468-d8d2-b49fd1e1c306"
      },
      "outputs": [
        {
          "output_type": "stream",
          "name": "stdout",
          "text": [
            "Mounted at /content/gdrive/\n"
          ]
        }
      ],
      "source": [
        "from google.colab import drive\n",
        "drive.mount('/content/gdrive/', force_remount=True)"
      ]
    },
    {
      "cell_type": "markdown",
      "source": [
        "Redirecting directory to \"Balls\" folder"
      ],
      "metadata": {
        "id": "FkR-NLPW2w_2"
      }
    },
    {
      "cell_type": "code",
      "source": [
        "%cd gdrive/MyDrive/'Colab Notebooks'/Book/Balls"
      ],
      "metadata": {
        "colab": {
          "base_uri": "https://localhost:8080/"
        },
        "id": "7SlBkPEUiFnM",
        "outputId": "3520564f-caae-47fa-befe-db2dee0cbdfa"
      },
      "execution_count": 4,
      "outputs": [
        {
          "output_type": "stream",
          "name": "stdout",
          "text": [
            "/content/gdrive/MyDrive/Colab Notebooks/Book/Balls\n"
          ]
        }
      ]
    },
    {
      "cell_type": "code",
      "source": [
        "ls"
      ],
      "metadata": {
        "id": "LdPecqYB2DEm"
      },
      "execution_count": null,
      "outputs": []
    },
    {
      "cell_type": "markdown",
      "source": [
        "Randomizing data by shuffling"
      ],
      "metadata": {
        "id": "1UNgvwSpVm6V"
      }
    },
    {
      "cell_type": "code",
      "source": [
        "unshuffled_data = pd.DataFrame.from_dict(os.listdir())\n",
        "shuffled_data   = unshuffled_data.sample(frac=1, random_state=1).reset_index()\n",
        "data            = pd.DataFrame(shuffled_data)[0].values.tolist()"
      ],
      "metadata": {
        "id": "q3-gMdBT6OPv"
      },
      "execution_count": 10,
      "outputs": []
    },
    {
      "cell_type": "code",
      "source": [
        "print(data)"
      ],
      "metadata": {
        "colab": {
          "base_uri": "https://localhost:8080/"
        },
        "id": "pO8G96nQ7alq",
        "outputId": "a8908d45-3add-4dd3-d30e-ce04b73e3353"
      },
      "execution_count": 11,
      "outputs": [
        {
          "output_type": "stream",
          "name": "stdout",
          "text": [
            "['bowling19.jpg', 'billiards41.jpg', 'volleyball35.png', 'bowling41.jpg', 'tabletennis28.jpg', 'football23.png', 'tabletennis12.jpg', 'volleyball11.jpg', 'tabletennis34.png', 'basketball29.jpg', 'tabletennis27.jpg', 'tabletennis48.jpg', 'tennis50.jpg', 'billiards29.jpg', 'tennis49.png', 'billiards01.png', 'soccer50.jpg', 'baseball46.jpg', 'football19.jpg', 'tabletennis46.jpg', 'football25.jpg', 'basketball35.jpg', 'volleyball10.jpg', 'bowling04.jpg', 'football24.jpg', 'billiards44.jpg', 'football22.jpg', 'golf04.jpg', 'volleyball17.jpg', 'tabletennis40.png', 'baseball07.jpg', 'baseball36.png', 'billiards32.png', 'baseball30.png', 'tabletennis37.jpg', 'volleyball00.jpg', 'tabletennis09.jpg', 'football26.jpg', 'tabletennis15.jpg', 'football37.png', 'basketball43.jpg', 'basketball25.jpg', 'football39.jpg', 'basketball32.png', 'baseball29.jpg', 'golf20.jpg', 'tennis43.jpg', 'football50.png', 'volleyball37.jpeg', 'volleyball51.png', 'soccer04.jpg', 'tennis02.jpg', 'volleyball38.jpg', 'bowling25.png', 'basketball23.png', 'tabletennis42.jpg', 'football15.jpg', 'billiards30.png', 'basketball45.png', 'golf12.jpg', 'tennis36.png', 'soccer07.jpeg', 'basketball53.jpeg', 'tabletennis07.png', 'billiards14.png', 'basketball44.jpg', 'baseball24.jpg', 'tabletennis47.jpg', 'tennis07.jpeg', 'baseball17.jpg', 'golf10.jpg', 'basketball00.jpg', 'basketball17.jpg', 'billiards37.png', 'soccer30.jpg', 'golf01.jpg', 'baseball42.jpg', 'volleyball41.png', 'basketball36.png', 'volleyball13.jpg', 'bowling38.png', 'football43.jpg', 'basketball48.png', 'bowling05.jpg', 'golf39.png', 'volleyball49.jpg', 'basketball01.jpg', 'golf50.jpg', 'basketball37.png', 'golf37.png', 'golf46.jpg', 'football01.jpg', 'tennis33.jpg', 'billiards27.jpg', 'tabletennis13.jpg', 'tabletennis08.jpeg', 'golf38.png', 'tabletennis02.jpg', 'basketball39.jpg', 'billiards06.jpg', 'soccer53.jpeg', 'billiards46.png', 'golf28.png', 'volleyball54.png', 'baseball13.jpg', 'tennis01.jpg', 'tennis44.jpg', 'football00.jpg', 'soccer14.jpg', 'golf52.jpg', 'bowling15.png', 'bowling51.jpeg', 'tabletennis26.jpg', 'football27.jpg', 'tabletennis50.jpg', 'golf27.jpg', 'soccer39.png', 'tabletennis45.jpg', 'tennis47.jpg', 'tabletennis52.png', 'baseball23.png', 'soccer41.jpg', 'volleyball46.jpg', 'baseball00.jpg', 'basketball21.jpg', 'bowling10.jpg', 'tennis46.jpg', 'bowling32.png', 'basketball16.png', 'soccer32.jpg', 'baseball26.jpg', 'billiards28.jpg', 'football46.jpg', 'basketball47.png', 'basketball02.png', 'billiards03.jpeg', 'tennis29.jpg', 'tennis48.png', 'football09.png', 'baseball49.jpg', 'soccer29.jpg', 'tennis18.png', 'bowling20.jpg', 'bowling18.webp', 'tabletennis24.jpg', 'volleyball45.png', 'football33.jpg', 'volleyball03.jpg', 'golf00.jpg', 'soccer17.jpg', 'baseball48.png', 'billiards36.png', 'bowling35.jpg', 'basketball51.jpeg', 'baseball52.jpeg', 'soccer24.jpg', 'baseball10.jpg', 'football04.jpg', 'soccer20.png', 'golf17.jpg', 'golf49.png', 'tennis15.jpg', 'tabletennis41.jpg', 'baseball28.jpg', 'volleyball52.png', 'baseball27.jpg', 'volleyball36.jpg', 'volleyball23.png', 'golf51.jpg', 'tabletennis54.jpeg', 'basketball14.png', 'billiards18.webp', 'golf23.png', 'tabletennis35.jpg', 'bowling24.jpg', 'golf47.jpg', 'soccer52.jpeg', 'volleyball30.jpg', 'golf18.jpg', 'soccer10.jpg', 'football41.jpg', 'soccer02.jpeg', 'tabletennis17.jpg', 'bowling01.jpg', 'golf09.png', 'tennis38.png', 'bowling33.jpg', 'billiards05.jpg', 'golf40.png', 'tennis09.jpg', 'volleyball55.jpeg', 'football05.jpg', 'billiards11.jpg', 'volleyball29.jpg', 'billiards47.png', 'basketball41.jpg', 'tabletennis51.jpg', 'volleyball34.png', 'volleyball39.png', 'golf05.png', 'tabletennis11.jpg', 'baseball11.jpg', 'baseball01.jpg', 'tennis05.jpg', 'baseball04.jpg', 'basketball12.jpg', 'basketball49.png', 'volleyball07.jpg', 'soccer22.png', 'basketball30.png', 'tennis25.jpg', 'volleyball16.jpg', 'golf19.jpg', 'tennis08.jpg', 'football28.jpg', 'tabletennis14.jpg', 'billiards04.jpg', 'tabletennis29.jpg', 'tennis24.jpg', 'billiards50.png', 'soccer12.jpg', 'golf31.png', 'billiards53.png', 'football45.jpg', 'billiards21.png', 'bowling31.png', 'golf07.jpeg', 'tennis14.jpg', 'bowling00.jpg', 'billiards48.jpg', 'bowling50.png', 'football35.jpg', 'basketball28.jpg', 'billiards51.jpeg', 'golf36.jpg', 'billiards19.jpg', 'soccer38.png', 'volleyball22.png', 'football21.png', 'basketball38.png', 'basketball31.png', 'tennis40.jpg', 'bowling44.jpg', 'tabletennis03.jpg', 'bowling02.jpg', 'volleyball48.jpg', 'volleyball20.png', 'football49.png', 'bowling53.jpeg', 'volleyball19.png', 'basketball11.jpg', 'soccer45.jpg', 'tennis10.jpg', 'soccer11.jpg', 'soccer19.png', 'tabletennis55.jpeg', 'tennis19.png', 'football16.jpg', 'basketball15.jpg', 'basketball08.jpeg', 'billiards39.png', 'baseball18.jpg', 'basketball24.jpg', 'soccer42.jpg', 'billiards17.jpg', 'bowling52.jpeg', 'soccer48.jpg', 'volleyball43.png', 'volleyball27.jpg', 'baseball45.jpg', 'baseball38.png', 'bowling30.png', 'golf13.png', 'basketball34.jpg', 'tabletennis16.jpg', 'soccer16.jpg', 'tabletennis43.jpg', 'volleyball18.png', 'baseball22.png', 'bowling14.png', 'golf33.png', 'soccer51.jpeg', 'baseball43.jpg', 'volleyball50.jpg', 'golf42.jpg', 'bowling42.jpg', 'soccer35.jpg', 'volleyball56.jpeg', 'bowling36.png', 'soccer18.png', 'golf44.jpg', 'football40.jpg', 'volleyball26.jpg', 'soccer43.jpg', 'tabletennis49.jpg', 'baseball39.png', 'volleyball25.jpg', 'bowling17.jpg', 'golf03.jpg', 'billiards42.jpg', 'bowling07.jpeg', 'volleyball24.jpg', 'tennis53.jpeg', 'football53.jpeg', 'baseball20.jpg', 'billiards26.jpg', 'soccer06.jpg', 'billiards20.jpg', 'basketball27.jpg', 'football02.jpg', 'basketball52.jpeg', 'baseball16.jpg', 'baseball33.jpg', 'tennis23.png', 'basketball18.jpg', 'tennis16.jpg', 'volleyball14.png', 'basketball07.jpeg', 'baseball12.jpg', 'billiards00.jpg', 'tennis03.jpg', 'football18.jpg', 'golf48.jpg', 'golf43.jpg', 'tabletennis25.jpg', 'tennis00.jpg', 'volleyball02.jpg', 'baseball44.jpg', 'bowling09.jpeg', 'basketball20.jpg', 'basketball50.png', 'golf45.jpg', 'tennis32.png', 'baseball08.jpeg', 'soccer44.jpg', 'billiards40.jpg', 'baseball06.png', 'basketball04.jpg', 'billiards34.jpg', 'soccer08.jpg', 'basketball42.jpg', 'football32.png', 'baseball35.jpg', 'tennis28.jpg', 'baseball53.jpeg', 'tabletennis36.jpg', 'football03.jpg', 'football31.png', 'tabletennis22.png', 'soccer25.jpg', 'football48.png', 'tennis04.jpg', 'soccer00.jpg', 'bowling26.png', 'baseball31.png', 'baseball32.png', 'soccer21.png', 'baseball15.jpg', 'soccer03.jpg', 'bowling23.png', 'billiards22.png', 'volleyball12.jpg', 'soccer33.png', 'football12.jpg', 'volleyball21.png', 'tabletennis53.jpeg', 'billiards45.png', 'football38.png', 'volleyball28.jpg', 'golf26.jpg', 'football07.jpg', 'golf32.png', 'bowling49.png', 'tennis41.jpg', 'tennis39.jpg', 'soccer36.jpg', 'basketball22.png', 'golf16.jpg', 'football10.jpg', 'football06.jpg', 'golf11.jpg', 'soccer49.png', 'tennis17.jpg', 'bowling46.jpg', 'bowling08.jpeg', 'tabletennis23.png', 'billiards31.png', 'tabletennis18.png', 'soccer23.png', 'bowling40.jpg', 'tennis34.jpg', 'bowling21.png', 'football44.jpg', 'soccer34.jpg', 'billiards16.jpg', 'soccer26.jpg', 'tennis12.jpg', 'tennis35.jpg', 'football47.jpg', 'golf35.jpg', 'soccer40.jpg', 'golf08.png', 'billiards10.jpg', 'tennis20.png', 'basketball13.png', 'football14.png', 'golf22.png', 'golf15.png', 'soccer37.png', 'baseball47.jpg', 'golf34.jpg', 'tabletennis38.png', 'golf53.jpeg', 'billiards02.jpeg', 'tabletennis04.jpg', 'billiards12.jpg', 'tennis22.png', 'soccer27.jpg', 'football08.jpg', 'football30.png', 'bowling48.png', 'baseball37.png', 'basketball05.jpg', 'bowling45.jpg', 'golf02.jpg', 'soccer47.png', 'billiards35.png', 'billiards08.jpg', 'golf21.png', 'volleyball15.jpg', 'tabletennis31.jpg', 'billiards23.png', 'football13.png', 'soccer46.png', 'baseball02.png', 'basketball09.jpeg', 'golf30.jpg', 'billiards24.jpg', 'tennis37.png', 'baseball25.jpg', 'billiards33.jpeg', 'bowling37.png', 'tabletennis32.png', 'bowling22.png', 'golf14.png', 'football51.jpeg', 'volleyball42.jpg', 'tennis31.png', 'baseball21.png', 'billiards07.jpg', 'football34.jpg', 'golf29.jpg', 'billiards52.jpeg', 'basketball10.jpg', 'soccer28.jpg', 'billiards15.png', 'golf54.jpeg', 'volleyball31.jpg', 'volleyball44.jpg', 'volleyball01.jpg', 'baseball14.jpg', 'football20.jpg', 'tennis13.jpg', 'tennis45.jpg', 'billiards49.png', 'basketball19.jpg', 'basketball33.jpg', 'tabletennis39.png', 'football29.png', 'tabletennis10.jpg', 'tabletennis19.png', 'volleyball32.jpg', 'soccer01.jpg', 'bowling11.jpg', 'baseball19.jpg', 'bowling28.jpg', 'baseball41.jpg', 'volleyball47.jpg', 'tennis26.jpg', 'billiards38.png', 'tabletennis00.jpg', 'tabletennis20.png', 'soccer09.png', 'bowling03.jpg', 'tabletennis44.jpg', 'tennis06.png', 'football36.png', 'bowling12.jpg', 'bowling34.jpg', 'tabletennis33.png', 'tabletennis01.jpg', 'billiards09.jpg', 'bowling06.jpg', 'bowling27.jpg', 'billiards43.jpg', 'baseball03.jpg', 'tennis51.jpeg', 'baseball09.jpeg', 'golf41.jpg', 'bowling43.jpg', 'volleyball40.png', 'volleyball09.jpg', 'baseball05.jpg', 'football42.jpg', 'football17.jpg', 'baseball51.jpeg', 'baseball50.jpg', 'football11.jpg', 'football52.jpeg', 'golf25.jpg', 'tabletennis30.jpeg', 'tennis21.png', 'volleyball33.png', 'tennis52.jpeg', 'soccer31.jpg', 'tennis30.png', 'basketball03.png', 'basketball40.jpg', 'billiards13.png', 'soccer13.jpg', 'basketball46.png', 'bowling47.jpg', 'golf24.jpg', 'bowling39.jpg', 'soccer48.png', 'billiards25.jpg', 'tennis42.jpg', 'baseball34.jpg', 'basketball26.jpg', 'soccer05.jpg', 'tabletennis21.png', 'bowling29.jpg', 'baseball40.jpg', 'volleyball53.png', 'tennis11.jpg', 'bowling13.png', 'volleyball08.png', 'tennis27.jpg', 'basketball06.jpg']\n"
          ]
        }
      ]
    },
    {
      "cell_type": "markdown",
      "source": [
        "Reading image files and excluding those not rescaled to 28x28\n",
        "\n"
      ],
      "metadata": {
        "id": "2HS8md9524pp"
      }
    },
    {
      "cell_type": "code",
      "execution_count": 13,
      "metadata": {
        "id": "6tBaNCETIkyo",
        "colab": {
          "base_uri": "https://localhost:8080/"
        },
        "outputId": "851c66dc-5f47-4e45-d71d-3f7a2b166784"
      },
      "outputs": [
        {
          "output_type": "stream",
          "name": "stdout",
          "text": [
            "What the heck happened here? 44 images were not rescaled to 28x28!\n"
          ]
        }
      ],
      "source": [
        "m = 0\n",
        "list_files = []\n",
        "for file in data:\n",
        "  image = cv.imread(file)\n",
        "  if image.shape == (28,28,3):\n",
        "    list_files.append(image)\n",
        "  else:\n",
        "    m += 1\n",
        "print('What the heck happened here? ' + str(m) + ' images were not rescaled to 28x28!')"
      ]
    },
    {
      "cell_type": "markdown",
      "source": [
        "Verifying shape of image file and number of samples"
      ],
      "metadata": {
        "id": "ZV51Ch4J3Yoi"
      }
    },
    {
      "cell_type": "code",
      "source": [
        "print(list_files[0].shape)\n",
        "print(len(list_files))"
      ],
      "metadata": {
        "id": "4fjXYcqz2NVl",
        "colab": {
          "base_uri": "https://localhost:8080/"
        },
        "outputId": "a8c14377-d4df-4c1a-c8b6-811300436276"
      },
      "execution_count": 14,
      "outputs": [
        {
          "output_type": "stream",
          "name": "stdout",
          "text": [
            "(28, 28, 3)\n",
            "495\n"
          ]
        }
      ]
    },
    {
      "cell_type": "markdown",
      "source": [
        "Data and plot of first image"
      ],
      "metadata": {
        "id": "bGqJrJbWmjJz"
      }
    },
    {
      "cell_type": "code",
      "source": [
        "print(list_files[0])\n",
        "plt.matshow(list_files[0])"
      ],
      "metadata": {
        "id": "9_Qh5I7iqZ_h",
        "colab": {
          "base_uri": "https://localhost:8080/",
          "height": 1000
        },
        "outputId": "5ab50ec2-b739-4ef3-b01b-e396813dba0a"
      },
      "execution_count": 15,
      "outputs": [
        {
          "output_type": "stream",
          "name": "stdout",
          "text": [
            "[[[255 255 255]\n",
            "  [255 255 255]\n",
            "  [255 255 254]\n",
            "  ...\n",
            "  [255 255 255]\n",
            "  [255 255 255]\n",
            "  [255 255 255]]\n",
            "\n",
            " [[255 255 255]\n",
            "  [255 255 255]\n",
            "  [255 255 255]\n",
            "  ...\n",
            "  [255 255 255]\n",
            "  [255 255 255]\n",
            "  [255 255 255]]\n",
            "\n",
            " [[255 255 255]\n",
            "  [255 255 255]\n",
            "  [255 255 255]\n",
            "  ...\n",
            "  [255 255 255]\n",
            "  [255 255 255]\n",
            "  [255 255 255]]\n",
            "\n",
            " ...\n",
            "\n",
            " [[255 255 255]\n",
            "  [255 255 255]\n",
            "  [254 254 254]\n",
            "  ...\n",
            "  [254 254 254]\n",
            "  [255 255 255]\n",
            "  [255 255 255]]\n",
            "\n",
            " [[255 255 255]\n",
            "  [255 255 255]\n",
            "  [255 255 255]\n",
            "  ...\n",
            "  [255 255 255]\n",
            "  [255 255 255]\n",
            "  [255 255 255]]\n",
            "\n",
            " [[255 255 255]\n",
            "  [255 255 255]\n",
            "  [255 255 255]\n",
            "  ...\n",
            "  [255 255 255]\n",
            "  [255 255 255]\n",
            "  [255 255 255]]]\n"
          ]
        },
        {
          "output_type": "execute_result",
          "data": {
            "text/plain": [
              "<matplotlib.image.AxesImage at 0x7f86677d2620>"
            ]
          },
          "metadata": {},
          "execution_count": 15
        },
        {
          "output_type": "display_data",
          "data": {
            "text/plain": [
              "<Figure size 480x480 with 1 Axes>"
            ],
            "image/png": "[encoded data removed]"
          },
          "metadata": {}
        }
      ]
    },
    {
      "cell_type": "markdown",
      "source": [
        "Flattening the data"
      ],
      "metadata": {
        "id": "lfsbYtWOmsWm"
      }
    },
    {
      "cell_type": "code",
      "source": [
        "flat_files = np.stack((list_files[i] for i in range(len(list_files))))\n",
        "print(flat_files.shape)"
      ],
      "metadata": {
        "colab": {
          "base_uri": "https://localhost:8080/"
        },
        "id": "BnrRYYClR_Gi",
        "outputId": "94857c50-013b-4c6d-8cd4-20e95b64f25d"
      },
      "execution_count": 16,
      "outputs": [
        {
          "output_type": "stream",
          "name": "stdout",
          "text": [
            "(495, 28, 28, 3)\n"
          ]
        },
        {
          "output_type": "stream",
          "name": "stderr",
          "text": [
            "/usr/local/lib/python3.10/dist-packages/IPython/core/interactiveshell.py:3473: FutureWarning: arrays to stack must be passed as a \"sequence\" type such as list or tuple. Support for non-sequence iterables such as generators is deprecated as of NumPy 1.16 and will raise an error in the future.\n",
            "  if (await self.run_code(code, result,  async_=asy)):\n"
          ]
        }
      ]
    },
    {
      "cell_type": "markdown",
      "source": [
        "####**Adding labels to data sets**"
      ],
      "metadata": {
        "id": "Njsw1qRjWKwf"
      }
    },
    {
      "cell_type": "code",
      "source": [
        "# matching name of file to accounted file names for labelling\n",
        "baseballXX    = 'baseball*'\n",
        "basketballXX  = 'basketball*'\n",
        "billiardsXX   = 'billiards*'\n",
        "bowlingXX     = 'bowling*'\n",
        "footballXX    = 'football*'\n",
        "golfXX        = 'golf*'\n",
        "soccerXX      = 'soccer*'\n",
        "tabletennisXX = 'tabletennis*'\n",
        "tennisXX      = 'tennis*'\n",
        "volleyballXX  = 'volleyball*'\n",
        "label         = []\n",
        "for filename in data:\n",
        "  image = cv.imread(filename)\n",
        "  if image.shape == (28,28,3):\n",
        "    if fnmatch.fnmatch(filename, baseballXX) == True:\n",
        "      label.append(0)\n",
        "    elif fnmatch.fnmatch(filename, basketballXX) == True:\n",
        "      label.append(1)\n",
        "    elif fnmatch.fnmatch(filename, billiardsXX) == True:\n",
        "      label.append(2)\n",
        "    elif fnmatch.fnmatch(filename, bowlingXX) == True:\n",
        "      label.append(3)\n",
        "    elif fnmatch.fnmatch(filename, footballXX) == True:\n",
        "      label.append(4)\n",
        "    elif fnmatch.fnmatch(filename, golfXX) == True:\n",
        "      label.append(5)\n",
        "    elif fnmatch.fnmatch(filename, soccerXX) == True:\n",
        "      label.append(6)\n",
        "    elif fnmatch.fnmatch(filename, tabletennisXX) == True:\n",
        "      label.append(7)\n",
        "    elif fnmatch.fnmatch(filename, tennisXX) == True:\n",
        "      label.append(8)\n",
        "    elif fnmatch.fnmatch(filename, volleyballXX) == True:\n",
        "      label.append(9)\n",
        "    else:\n",
        "      print(filename + str(' is not accounted.'))\n",
        "\n",
        "label = np.reshape(label, (len(label),))\n",
        "print(label.shape)\n",
        "print(label)"
      ],
      "metadata": {
        "colab": {
          "base_uri": "https://localhost:8080/"
        },
        "id": "N_Af0cv_WQD0",
        "outputId": "80045709-e8d0-470a-e650-a4ac1f792581"
      },
      "execution_count": 18,
      "outputs": [
        {
          "output_type": "stream",
          "name": "stdout",
          "text": [
            "(495,)\n",
            "[3 2 9 3 7 4 7 9 7 1 7 7 8 2 8 2 6 0 4 7 4 1 9 4 2 4 5 9 7 0 0 2 0 7 9 7 4\n",
            " 7 4 1 1 4 1 0 5 8 4 9 9 6 8 3 1 7 4 2 1 5 8 6 1 7 2 1 0 7 8 0 5 1 1 2 6 5\n",
            " 0 9 1 9 3 4 1 5 9 1 5 1 5 5 4 8 2 7 7 5 7 1 6 2 5 9 0 8 8 4 6 5 3 3 4 7 5\n",
            " 6 7 8 7 0 6 9 0 1 3 8 3 1 6 0 2 1 1 2 8 8 4 0 6 8 3 3 9 9 5 6 0 2 3 1 0 0\n",
            " 6 5 5 8 7 0 9 0 9 5 7 1 2 5 7 3 5 6 9 5 6 4 6 7 3 5 8 5 8 9 4 2 9 2 1 7 9\n",
            " 9 5 7 0 0 8 0 1 1 9 6 1 9 5 8 4 7 7 2 6 5 2 4 2 3 5 8 3 2 3 1 2 5 2 6 9 4\n",
            " 1 1 8 3 7 3 9 9 4 3 9 1 6 8 6 6 7 8 4 1 1 2 0 1 6 2 3 6 9 9 0 3 5 1 7 6 7\n",
            " 9 0 3 5 6 0 9 5 3 9 3 6 5 4 6 7 0 3 5 2 3 8 4 0 2 6 2 1 1 0 0 8 1 8 9 1 0\n",
            " 2 8 4 5 8 9 0 3 1 1 5 8 0 6 2 0 6 1 4 8 0 7 4 7 4 8 6 3 0 0 6 0 6 3 2 9 6\n",
            " 4 9 7 2 4 9 4 5 3 8 8 6 1 5 4 4 5 6 8 3 3 7 2 7 6 3 8 3 4 6 2 8 4 5 6 5 2\n",
            " 8 1 4 5 5 6 0 5 7 5 2 7 2 8 6 4 4 3 0 3 5 2 5 9 7 2 4 6 0 1 5 2 8 0 2 3 7\n",
            " 3 5 4 9 8 0 2 5 2 1 6 2 5 9 9 9 0 4 8 8 2 1 7 4 7 7 9 6 3 0 3 0 9 2 7 7 6\n",
            " 3 7 8 4 3 3 7 7 2 3 2 0 8 0 5 3 9 9 0 4 4 0 0 4 4 7 8 9 8 6 8 1 1 2 6 1 3\n",
            " 3 6 2 8 1 6 7 3 0 9 8 3 9 8]\n"
          ]
        }
      ]
    },
    {
      "cell_type": "markdown",
      "source": [
        "####**Defining training data and testing data sets**"
      ],
      "metadata": {
        "id": "PNgaG30Fm_IR"
      }
    },
    {
      "cell_type": "markdown",
      "source": [
        "Allocating 80% of the data for training, 10% for validating, and 10% for testing."
      ],
      "metadata": {
        "id": "cXky_ZitimuG"
      }
    },
    {
      "cell_type": "code",
      "source": [
        "trainRatio = 80/100\n",
        "valRatio = 10/100\n",
        "testRatio = 10/100\n",
        "\n",
        "X_train, X_test, y_train, y_test = train_test_split(flat_files, label, test_size = 1 - trainRatio)\n",
        "X_val, X_test, y_val, y_test = train_test_split(X_test, y_test, test_size = testRatio/(testRatio + valRatio))"
      ],
      "metadata": {
        "id": "z4WXambYm0Ya"
      },
      "execution_count": 92,
      "outputs": []
    },
    {
      "cell_type": "markdown",
      "metadata": {
        "id": "AKCTYpTN0Iq8"
      },
      "source": [
        "#####**Preparing the Data**"
      ]
    },
    {
      "cell_type": "markdown",
      "metadata": {
        "id": "9zd626NOWOX0"
      },
      "source": [
        "Rescaling the data to improve the accuracy"
      ]
    },
    {
      "cell_type": "code",
      "execution_count": 93,
      "metadata": {
        "id": "8InBA0lLWTeI"
      },
      "outputs": [],
      "source": [
        "X_train = X_train/255\n",
        "X_test = X_test/255\n",
        "X_val = X_val/255"
      ]
    },
    {
      "cell_type": "markdown",
      "source": [
        "Shapes of the data sets"
      ],
      "metadata": {
        "id": "HO9R5whDnAn6"
      }
    },
    {
      "cell_type": "code",
      "execution_count": 94,
      "metadata": {
        "colab": {
          "base_uri": "https://localhost:8080/"
        },
        "id": "LS8tjK8rvTdg",
        "outputId": "2c88aa0f-74ab-4e7e-8736-bbc898711f58"
      },
      "outputs": [
        {
          "output_type": "stream",
          "name": "stdout",
          "text": [
            "(396, 28, 28, 3)\n",
            "(50, 28, 28, 3)\n",
            "(49, 28, 28, 3)\n"
          ]
        }
      ],
      "source": [
        "print(X_train.shape)\n",
        "print(X_test.shape)\n",
        "print(X_val.shape)"
      ]
    },
    {
      "cell_type": "markdown",
      "metadata": {
        "id": "Gh4vWGP81zPu"
      },
      "source": [
        "####**Defining the model**"
      ]
    },
    {
      "cell_type": "code",
      "execution_count": 99,
      "metadata": {
        "id": "kJ5wnjnx1m49",
        "colab": {
          "base_uri": "https://localhost:8080/"
        },
        "outputId": "1f68b122-059f-4b0f-8cac-ab78586a0c32"
      },
      "outputs": [
        {
          "output_type": "stream",
          "name": "stdout",
          "text": [
            "Model: \"sequential_22\"\n",
            "_________________________________________________________________\n",
            " Layer (type)                Output Shape              Param #   \n",
            "=================================================================\n",
            " conv2d_63 (Conv2D)          (None, 26, 26, 96)        2688      \n",
            "                                                                 \n",
            " max_pooling2d_65 (MaxPoolin  (None, 13, 13, 96)       0         \n",
            " g2D)                                                            \n",
            "                                                                 \n",
            " conv2d_64 (Conv2D)          (None, 11, 11, 48)        41520     \n",
            "                                                                 \n",
            " max_pooling2d_66 (MaxPoolin  (None, 5, 5, 48)         0         \n",
            " g2D)                                                            \n",
            "                                                                 \n",
            " conv2d_65 (Conv2D)          (None, 3, 3, 24)          10392     \n",
            "                                                                 \n",
            " max_pooling2d_67 (MaxPoolin  (None, 1, 1, 24)         0         \n",
            " g2D)                                                            \n",
            "                                                                 \n",
            " flatten_22 (Flatten)        (None, 24)                0         \n",
            "                                                                 \n",
            " dense_72 (Dense)            (None, 495)               12375     \n",
            "                                                                 \n",
            " dense_73 (Dense)            (None, 10)                4960      \n",
            "                                                                 \n",
            "=================================================================\n",
            "Total params: 71,935\n",
            "Trainable params: 71,935\n",
            "Non-trainable params: 0\n",
            "_________________________________________________________________\n"
          ]
        }
      ],
      "source": [
        "model = tf.keras.models.Sequential([\n",
        "    tf.keras.layers.Conv2D(16, (3,3), activation='relu', input_shape=(28,28,3)),\n",
        "    tf.keras.layers.MaxPooling2D(2,2),\n",
        "    tf.keras.layers.Conv2D(32, (3,3), activation='relu'),\n",
        "    tf.keras.layers.MaxPooling2D(2,2),\n",
        "    tf.keras.layers.Conv2D(64, (3,3), activation='relu'),\n",
        "    tf.keras.layers.Conv2D(128, (3,3), activation='relu'),\n",
        "    tf.keras.layers.MaxPooling2D(2,2),\n",
        "    tf.keras.layers.Flatten(),\n",
        "    tf.keras.layers.Dropout(0.2),\n",
        "    tf.keras.layers.Dense(495, activation='sigmoid'),\n",
        "    tf.keras.layers.Dense(247, activation='sigmoid'),\n",
        "    tf.keras.layers.Dense(10, activation='softmax')\n",
        "])\n",
        "\n",
        "model.summary()"
      ]
    },
    {
      "cell_type": "markdown",
      "metadata": {
        "id": "IMvzfBfn2wJ-"
      },
      "source": [
        "####**Compiling the model**"
      ]
    },
    {
      "cell_type": "markdown",
      "source": [
        "Using Adam as optimization function wiht a learning rate of 0.001."
      ],
      "metadata": {
        "id": "skAL6go4jeFD"
      }
    },
    {
      "cell_type": "code",
      "execution_count": 88,
      "metadata": {
        "id": "d1DQ29J72mmB"
      },
      "outputs": [],
      "source": [
        "opt = keras.optimizers.Adam(learning_rate=0.0005)\n",
        "model.compile(optimizer = opt,\n",
        "              loss = tf.keras.losses.SparseCategoricalCrossentropy(),\n",
        "              metrics=['accuracy'])"
      ]
    },
    {
      "cell_type": "markdown",
      "metadata": {
        "id": "2R3Vp3Gt2-4L"
      },
      "source": [
        "####**Training the model**"
      ]
    },
    {
      "cell_type": "code",
      "execution_count": 89,
      "metadata": {
        "colab": {
          "base_uri": "https://localhost:8080/"
        },
        "id": "PguRokJt29-a",
        "outputId": "13973df9-6888-422c-f3bf-6032ae8aca6c"
      },
      "outputs": [
        {
          "output_type": "stream",
          "name": "stdout",
          "text": [
            "Epoch 1/500\n",
            "14/14 [==============================] - 2s 35ms/step - loss: 0.0425 - accuracy: 0.9833\n",
            "Epoch 2/500\n",
            "14/14 [==============================] - 0s 35ms/step - loss: 0.0240 - accuracy: 0.9905\n",
            "Epoch 3/500\n",
            "14/14 [==============================] - 0s 33ms/step - loss: 0.0498 - accuracy: 0.9857\n",
            "Epoch 4/500\n",
            "14/14 [==============================] - 0s 32ms/step - loss: 0.0237 - accuracy: 0.9905\n",
            "Epoch 5/500\n",
            "14/14 [==============================] - 0s 33ms/step - loss: 0.0259 - accuracy: 0.9929\n",
            "Epoch 6/500\n",
            "14/14 [==============================] - 0s 34ms/step - loss: 0.0378 - accuracy: 0.9929\n",
            "Epoch 7/500\n",
            "14/14 [==============================] - 0s 34ms/step - loss: 0.0410 - accuracy: 0.9810\n",
            "Epoch 8/500\n",
            "14/14 [==============================] - 0s 32ms/step - loss: 0.0112 - accuracy: 0.9976\n",
            "Epoch 9/500\n",
            "14/14 [==============================] - 0s 33ms/step - loss: 0.0076 - accuracy: 0.9976\n",
            "Epoch 10/500\n",
            "14/14 [==============================] - 0s 32ms/step - loss: 0.0076 - accuracy: 1.0000\n",
            "Epoch 11/500\n",
            "14/14 [==============================] - 0s 33ms/step - loss: 0.0141 - accuracy: 0.9952\n",
            "Epoch 12/500\n",
            "14/14 [==============================] - 0s 34ms/step - loss: 0.0214 - accuracy: 0.9952\n",
            "Epoch 13/500\n",
            "14/14 [==============================] - 0s 32ms/step - loss: 0.0141 - accuracy: 0.9952\n",
            "Epoch 14/500\n",
            "14/14 [==============================] - 0s 34ms/step - loss: 0.0365 - accuracy: 0.9881\n",
            "Epoch 15/500\n",
            "14/14 [==============================] - 0s 32ms/step - loss: 0.0326 - accuracy: 0.9881\n",
            "Epoch 16/500\n",
            "14/14 [==============================] - 1s 59ms/step - loss: 0.0230 - accuracy: 0.9905\n",
            "Epoch 17/500\n",
            "14/14 [==============================] - 1s 58ms/step - loss: 0.0308 - accuracy: 0.9905\n",
            "Epoch 18/500\n",
            "14/14 [==============================] - 1s 60ms/step - loss: 0.0126 - accuracy: 0.9976\n",
            "Epoch 19/500\n",
            "14/14 [==============================] - 1s 58ms/step - loss: 0.0267 - accuracy: 0.9905\n",
            "Epoch 20/500\n",
            "14/14 [==============================] - 1s 57ms/step - loss: 0.0135 - accuracy: 0.9952\n",
            "Epoch 21/500\n",
            "14/14 [==============================] - 1s 43ms/step - loss: 0.0133 - accuracy: 0.9976\n",
            "Epoch 22/500\n",
            "14/14 [==============================] - 0s 31ms/step - loss: 0.0199 - accuracy: 0.9952\n",
            "Epoch 23/500\n",
            "14/14 [==============================] - 0s 33ms/step - loss: 0.0345 - accuracy: 0.9952\n",
            "Epoch 24/500\n",
            "14/14 [==============================] - 0s 33ms/step - loss: 0.0229 - accuracy: 0.9929\n",
            "Epoch 25/500\n",
            "14/14 [==============================] - 0s 34ms/step - loss: 0.0311 - accuracy: 0.9905\n",
            "Epoch 26/500\n",
            "14/14 [==============================] - 0s 33ms/step - loss: 0.0272 - accuracy: 0.9881\n",
            "Epoch 27/500\n",
            "14/14 [==============================] - 0s 34ms/step - loss: 0.0214 - accuracy: 0.9905\n",
            "Epoch 28/500\n",
            "14/14 [==============================] - 0s 32ms/step - loss: 0.0259 - accuracy: 0.9952\n",
            "Epoch 29/500\n",
            "14/14 [==============================] - 0s 32ms/step - loss: 0.0038 - accuracy: 1.0000\n",
            "Epoch 30/500\n",
            "14/14 [==============================] - 0s 31ms/step - loss: 0.0048 - accuracy: 1.0000\n",
            "Epoch 31/500\n",
            "14/14 [==============================] - 0s 32ms/step - loss: 0.0194 - accuracy: 0.9929\n",
            "Epoch 32/500\n",
            "14/14 [==============================] - 0s 33ms/step - loss: 0.0347 - accuracy: 0.9905\n",
            "Epoch 33/500\n",
            "14/14 [==============================] - 0s 33ms/step - loss: 0.0216 - accuracy: 0.9929\n",
            "Epoch 34/500\n",
            "14/14 [==============================] - 0s 33ms/step - loss: 0.0083 - accuracy: 0.9976\n",
            "Epoch 35/500\n",
            "14/14 [==============================] - 0s 32ms/step - loss: 0.0139 - accuracy: 0.9952\n",
            "Epoch 36/500\n",
            "14/14 [==============================] - 0s 34ms/step - loss: 0.0021 - accuracy: 1.0000\n",
            "Epoch 37/500\n",
            "14/14 [==============================] - 0s 31ms/step - loss: 0.0093 - accuracy: 0.9976\n",
            "Epoch 38/500\n",
            "14/14 [==============================] - 0s 35ms/step - loss: 0.0125 - accuracy: 0.9952\n",
            "Epoch 39/500\n",
            "14/14 [==============================] - 0s 32ms/step - loss: 0.0124 - accuracy: 0.9976\n",
            "Epoch 40/500\n",
            "14/14 [==============================] - 0s 33ms/step - loss: 0.0121 - accuracy: 0.9929\n",
            "Epoch 41/500\n",
            "14/14 [==============================] - 0s 32ms/step - loss: 0.0150 - accuracy: 0.9976\n",
            "Epoch 42/500\n",
            "14/14 [==============================] - 0s 33ms/step - loss: 0.0061 - accuracy: 1.0000\n",
            "Epoch 43/500\n",
            "14/14 [==============================] - 1s 58ms/step - loss: 0.0053 - accuracy: 0.9976\n",
            "Epoch 44/500\n",
            "14/14 [==============================] - 1s 61ms/step - loss: 0.0460 - accuracy: 0.9952\n",
            "Epoch 45/500\n",
            "14/14 [==============================] - 1s 59ms/step - loss: 0.0078 - accuracy: 0.9976\n",
            "Epoch 46/500\n",
            "14/14 [==============================] - 1s 59ms/step - loss: 0.0065 - accuracy: 1.0000\n",
            "Epoch 47/500\n",
            "14/14 [==============================] - 1s 62ms/step - loss: 0.0095 - accuracy: 0.9952\n",
            "Epoch 48/500\n",
            "14/14 [==============================] - 1s 37ms/step - loss: 0.0162 - accuracy: 0.9976\n",
            "Epoch 49/500\n",
            "14/14 [==============================] - 0s 32ms/step - loss: 0.0176 - accuracy: 0.9976\n",
            "Epoch 50/500\n",
            "14/14 [==============================] - 0s 33ms/step - loss: 0.0104 - accuracy: 0.9976\n",
            "Epoch 51/500\n",
            "14/14 [==============================] - 0s 32ms/step - loss: 0.0178 - accuracy: 0.9952\n",
            "Epoch 52/500\n",
            "14/14 [==============================] - 0s 34ms/step - loss: 0.0154 - accuracy: 0.9952\n",
            "Epoch 53/500\n",
            "14/14 [==============================] - 0s 32ms/step - loss: 0.0163 - accuracy: 0.9929\n",
            "Epoch 54/500\n",
            "14/14 [==============================] - 0s 32ms/step - loss: 0.0225 - accuracy: 0.9929\n",
            "Epoch 55/500\n",
            "14/14 [==============================] - 0s 33ms/step - loss: 0.0056 - accuracy: 0.9976\n",
            "Epoch 56/500\n",
            "14/14 [==============================] - 0s 33ms/step - loss: 0.0077 - accuracy: 0.9976\n",
            "Epoch 57/500\n",
            "14/14 [==============================] - 0s 34ms/step - loss: 0.0086 - accuracy: 0.9976\n",
            "Epoch 58/500\n",
            "14/14 [==============================] - 0s 32ms/step - loss: 0.0182 - accuracy: 0.9952\n",
            "Epoch 59/500\n",
            "14/14 [==============================] - 0s 32ms/step - loss: 0.0266 - accuracy: 0.9929\n",
            "Epoch 60/500\n",
            "14/14 [==============================] - 0s 33ms/step - loss: 0.0664 - accuracy: 0.9786\n",
            "Epoch 61/500\n",
            "14/14 [==============================] - 0s 33ms/step - loss: 0.0244 - accuracy: 0.9929\n",
            "Epoch 62/500\n",
            "14/14 [==============================] - 0s 32ms/step - loss: 0.0197 - accuracy: 0.9976\n",
            "Epoch 63/500\n",
            "14/14 [==============================] - 0s 33ms/step - loss: 0.0603 - accuracy: 0.9833\n",
            "Epoch 64/500\n",
            "14/14 [==============================] - 0s 32ms/step - loss: 0.0179 - accuracy: 0.9952\n",
            "Epoch 65/500\n",
            "14/14 [==============================] - 0s 33ms/step - loss: 0.0402 - accuracy: 0.9905\n",
            "Epoch 66/500\n",
            "14/14 [==============================] - 0s 33ms/step - loss: 0.0178 - accuracy: 0.9905\n",
            "Epoch 67/500\n",
            "14/14 [==============================] - 0s 32ms/step - loss: 0.0284 - accuracy: 0.9905\n",
            "Epoch 68/500\n",
            "14/14 [==============================] - 0s 33ms/step - loss: 0.0439 - accuracy: 0.9833\n",
            "Epoch 69/500\n",
            "14/14 [==============================] - 1s 38ms/step - loss: 0.0197 - accuracy: 0.9905\n",
            "Epoch 70/500\n",
            "14/14 [==============================] - 1s 57ms/step - loss: 0.0237 - accuracy: 0.9905\n",
            "Epoch 71/500\n",
            "14/14 [==============================] - 1s 61ms/step - loss: 0.0174 - accuracy: 0.9929\n",
            "Epoch 72/500\n",
            "14/14 [==============================] - 1s 58ms/step - loss: 0.0233 - accuracy: 0.9952\n",
            "Epoch 73/500\n",
            "14/14 [==============================] - 1s 58ms/step - loss: 0.0246 - accuracy: 0.9929\n",
            "Epoch 74/500\n",
            "14/14 [==============================] - 1s 58ms/step - loss: 0.0106 - accuracy: 0.9976\n",
            "Epoch 75/500\n",
            "14/14 [==============================] - 1s 38ms/step - loss: 0.0254 - accuracy: 0.9929\n",
            "Epoch 76/500\n",
            "14/14 [==============================] - 0s 33ms/step - loss: 0.0233 - accuracy: 0.9929\n",
            "Epoch 77/500\n",
            "14/14 [==============================] - 0s 34ms/step - loss: 0.0153 - accuracy: 0.9952\n",
            "Epoch 78/500\n",
            "14/14 [==============================] - 0s 33ms/step - loss: 0.0109 - accuracy: 0.9952\n",
            "Epoch 79/500\n",
            "14/14 [==============================] - 0s 33ms/step - loss: 0.0129 - accuracy: 0.9905\n",
            "Epoch 80/500\n",
            "14/14 [==============================] - 0s 32ms/step - loss: 0.0291 - accuracy: 0.9905\n",
            "Epoch 81/500\n",
            "14/14 [==============================] - 0s 33ms/step - loss: 0.0181 - accuracy: 0.9952\n",
            "Epoch 82/500\n",
            "14/14 [==============================] - 0s 33ms/step - loss: 0.0125 - accuracy: 0.9976\n",
            "Epoch 83/500\n",
            "14/14 [==============================] - 0s 34ms/step - loss: 0.0194 - accuracy: 0.9905\n",
            "Epoch 84/500\n",
            "14/14 [==============================] - 0s 32ms/step - loss: 0.0186 - accuracy: 0.9905\n",
            "Epoch 85/500\n",
            "14/14 [==============================] - 0s 34ms/step - loss: 0.0178 - accuracy: 0.9952\n",
            "Epoch 86/500\n",
            "14/14 [==============================] - 0s 31ms/step - loss: 0.0081 - accuracy: 0.9976\n",
            "Epoch 87/500\n",
            "14/14 [==============================] - 0s 31ms/step - loss: 0.0463 - accuracy: 0.9833\n",
            "Epoch 88/500\n",
            "14/14 [==============================] - 0s 33ms/step - loss: 0.0446 - accuracy: 0.9881\n",
            "Epoch 89/500\n",
            "14/14 [==============================] - 0s 36ms/step - loss: 0.0222 - accuracy: 0.9952\n",
            "Epoch 90/500\n",
            "14/14 [==============================] - 0s 33ms/step - loss: 0.0066 - accuracy: 0.9976\n",
            "Epoch 91/500\n",
            "14/14 [==============================] - 0s 33ms/step - loss: 0.0133 - accuracy: 0.9976\n",
            "Epoch 92/500\n",
            "14/14 [==============================] - 0s 34ms/step - loss: 0.0205 - accuracy: 0.9929\n",
            "Epoch 93/500\n",
            "14/14 [==============================] - 0s 33ms/step - loss: 0.0132 - accuracy: 0.9976\n",
            "Epoch 94/500\n",
            "14/14 [==============================] - 0s 33ms/step - loss: 0.0170 - accuracy: 0.9952\n",
            "Epoch 95/500\n",
            "14/14 [==============================] - 0s 32ms/step - loss: 0.0109 - accuracy: 0.9952\n",
            "Epoch 96/500\n",
            "14/14 [==============================] - 1s 42ms/step - loss: 0.0148 - accuracy: 0.9929\n",
            "Epoch 97/500\n",
            "14/14 [==============================] - 1s 58ms/step - loss: 0.0108 - accuracy: 0.9976\n",
            "Epoch 98/500\n",
            "14/14 [==============================] - 1s 59ms/step - loss: 0.0104 - accuracy: 0.9976\n",
            "Epoch 99/500\n",
            "14/14 [==============================] - 1s 58ms/step - loss: 0.0037 - accuracy: 1.0000\n",
            "Epoch 100/500\n",
            "14/14 [==============================] - 1s 60ms/step - loss: 0.0032 - accuracy: 1.0000\n",
            "Epoch 101/500\n",
            "14/14 [==============================] - 1s 61ms/step - loss: 0.0038 - accuracy: 0.9976\n",
            "Epoch 102/500\n",
            "14/14 [==============================] - 0s 34ms/step - loss: 0.0061 - accuracy: 0.9976\n",
            "Epoch 103/500\n",
            "14/14 [==============================] - 0s 33ms/step - loss: 0.0040 - accuracy: 0.9976\n",
            "Epoch 104/500\n",
            "14/14 [==============================] - 0s 32ms/step - loss: 0.0128 - accuracy: 0.9976\n",
            "Epoch 105/500\n",
            "14/14 [==============================] - 0s 34ms/step - loss: 0.0453 - accuracy: 0.9905\n",
            "Epoch 106/500\n",
            "14/14 [==============================] - 0s 33ms/step - loss: 0.0109 - accuracy: 0.9952\n",
            "Epoch 107/500\n",
            "14/14 [==============================] - 0s 32ms/step - loss: 0.0151 - accuracy: 0.9952\n",
            "Epoch 108/500\n",
            "14/14 [==============================] - 0s 32ms/step - loss: 0.0092 - accuracy: 0.9929\n",
            "Epoch 109/500\n",
            "14/14 [==============================] - 0s 32ms/step - loss: 0.0025 - accuracy: 1.0000\n",
            "Epoch 110/500\n",
            "14/14 [==============================] - 0s 34ms/step - loss: 0.0068 - accuracy: 0.9976\n",
            "Epoch 111/500\n",
            "14/14 [==============================] - 0s 33ms/step - loss: 0.0147 - accuracy: 0.9952\n",
            "Epoch 112/500\n",
            "14/14 [==============================] - 0s 33ms/step - loss: 0.0071 - accuracy: 0.9976\n",
            "Epoch 113/500\n",
            "14/14 [==============================] - 0s 34ms/step - loss: 0.0116 - accuracy: 0.9952\n",
            "Epoch 114/500\n",
            "14/14 [==============================] - 0s 35ms/step - loss: 0.0055 - accuracy: 1.0000\n",
            "Epoch 115/500\n",
            "14/14 [==============================] - 0s 32ms/step - loss: 0.0050 - accuracy: 1.0000\n",
            "Epoch 116/500\n",
            "14/14 [==============================] - 0s 34ms/step - loss: 0.0032 - accuracy: 1.0000\n",
            "Epoch 117/500\n",
            "14/14 [==============================] - 0s 32ms/step - loss: 0.0090 - accuracy: 0.9976\n",
            "Epoch 118/500\n",
            "14/14 [==============================] - 0s 33ms/step - loss: 0.0049 - accuracy: 0.9976\n",
            "Epoch 119/500\n",
            "14/14 [==============================] - 0s 32ms/step - loss: 0.0056 - accuracy: 1.0000\n",
            "Epoch 120/500\n",
            "14/14 [==============================] - 0s 32ms/step - loss: 0.0040 - accuracy: 1.0000\n",
            "Epoch 121/500\n",
            "14/14 [==============================] - 0s 32ms/step - loss: 0.0058 - accuracy: 1.0000\n",
            "Epoch 122/500\n",
            "14/14 [==============================] - 0s 33ms/step - loss: 0.0059 - accuracy: 0.9976\n",
            "Epoch 123/500\n",
            "14/14 [==============================] - 1s 48ms/step - loss: 0.0091 - accuracy: 0.9976\n",
            "Epoch 124/500\n",
            "14/14 [==============================] - 1s 61ms/step - loss: 0.0110 - accuracy: 0.9976\n",
            "Epoch 125/500\n",
            "14/14 [==============================] - 1s 62ms/step - loss: 0.0038 - accuracy: 1.0000\n",
            "Epoch 126/500\n",
            "14/14 [==============================] - 1s 61ms/step - loss: 0.0281 - accuracy: 0.9929\n",
            "Epoch 127/500\n",
            "14/14 [==============================] - 1s 61ms/step - loss: 0.0145 - accuracy: 0.9952\n",
            "Epoch 128/500\n",
            "14/14 [==============================] - 1s 49ms/step - loss: 0.0323 - accuracy: 0.9929\n",
            "Epoch 129/500\n",
            "14/14 [==============================] - 0s 32ms/step - loss: 0.0162 - accuracy: 0.9905\n",
            "Epoch 130/500\n",
            "14/14 [==============================] - 0s 33ms/step - loss: 0.0087 - accuracy: 0.9976\n",
            "Epoch 131/500\n",
            "14/14 [==============================] - 0s 34ms/step - loss: 0.0202 - accuracy: 0.9952\n",
            "Epoch 132/500\n",
            "14/14 [==============================] - 0s 33ms/step - loss: 0.0034 - accuracy: 1.0000\n",
            "Epoch 133/500\n",
            "14/14 [==============================] - 0s 33ms/step - loss: 0.0051 - accuracy: 0.9976\n",
            "Epoch 134/500\n",
            "14/14 [==============================] - 0s 34ms/step - loss: 0.0074 - accuracy: 0.9976\n",
            "Epoch 135/500\n",
            "14/14 [==============================] - 0s 32ms/step - loss: 0.0074 - accuracy: 0.9976\n",
            "Epoch 136/500\n",
            "14/14 [==============================] - 0s 34ms/step - loss: 0.0080 - accuracy: 0.9952\n",
            "Epoch 137/500\n",
            "14/14 [==============================] - 0s 32ms/step - loss: 0.0332 - accuracy: 0.9929\n",
            "Epoch 138/500\n",
            "14/14 [==============================] - 0s 34ms/step - loss: 0.0079 - accuracy: 0.9976\n",
            "Epoch 139/500\n",
            "14/14 [==============================] - 0s 34ms/step - loss: 0.0129 - accuracy: 0.9952\n",
            "Epoch 140/500\n",
            "14/14 [==============================] - 0s 33ms/step - loss: 0.0141 - accuracy: 0.9976\n",
            "Epoch 141/500\n",
            "14/14 [==============================] - 0s 33ms/step - loss: 0.0261 - accuracy: 0.9976\n",
            "Epoch 142/500\n",
            "14/14 [==============================] - 0s 33ms/step - loss: 0.0231 - accuracy: 0.9929\n",
            "Epoch 143/500\n",
            "14/14 [==============================] - 0s 34ms/step - loss: 0.0204 - accuracy: 0.9952\n",
            "Epoch 144/500\n",
            "14/14 [==============================] - 0s 33ms/step - loss: 0.0219 - accuracy: 0.9857\n",
            "Epoch 145/500\n",
            "14/14 [==============================] - 0s 34ms/step - loss: 0.0043 - accuracy: 1.0000\n",
            "Epoch 146/500\n",
            "14/14 [==============================] - 0s 33ms/step - loss: 0.0146 - accuracy: 0.9952\n",
            "Epoch 147/500\n",
            "14/14 [==============================] - 0s 34ms/step - loss: 0.0170 - accuracy: 0.9929\n",
            "Epoch 148/500\n",
            "14/14 [==============================] - 0s 34ms/step - loss: 0.0907 - accuracy: 0.9714\n",
            "Epoch 149/500\n",
            "14/14 [==============================] - 1s 40ms/step - loss: 0.0554 - accuracy: 0.9857\n",
            "Epoch 150/500\n",
            "14/14 [==============================] - 1s 59ms/step - loss: 0.0335 - accuracy: 0.9952\n",
            "Epoch 151/500\n",
            "14/14 [==============================] - 1s 63ms/step - loss: 0.0227 - accuracy: 0.9905\n",
            "Epoch 152/500\n",
            "14/14 [==============================] - 1s 64ms/step - loss: 0.0225 - accuracy: 0.9905\n",
            "Epoch 153/500\n",
            "14/14 [==============================] - 1s 67ms/step - loss: 0.0078 - accuracy: 0.9976\n",
            "Epoch 154/500\n",
            "14/14 [==============================] - 1s 63ms/step - loss: 0.0397 - accuracy: 0.9905\n",
            "Epoch 155/500\n",
            "14/14 [==============================] - 1s 60ms/step - loss: 0.0301 - accuracy: 0.9833\n",
            "Epoch 156/500\n",
            "14/14 [==============================] - 1s 64ms/step - loss: 0.1037 - accuracy: 0.9762\n",
            "Epoch 157/500\n",
            "14/14 [==============================] - 1s 67ms/step - loss: 0.0656 - accuracy: 0.9762\n",
            "Epoch 158/500\n",
            "14/14 [==============================] - 1s 65ms/step - loss: 0.0339 - accuracy: 0.9881\n",
            "Epoch 159/500\n",
            "14/14 [==============================] - 1s 54ms/step - loss: 0.0518 - accuracy: 0.9857\n",
            "Epoch 160/500\n",
            "14/14 [==============================] - 0s 33ms/step - loss: 0.0432 - accuracy: 0.9881\n",
            "Epoch 161/500\n",
            "14/14 [==============================] - 0s 34ms/step - loss: 0.0486 - accuracy: 0.9905\n",
            "Epoch 162/500\n",
            "14/14 [==============================] - 0s 34ms/step - loss: 0.0197 - accuracy: 0.9929\n",
            "Epoch 163/500\n",
            "14/14 [==============================] - 0s 33ms/step - loss: 0.0066 - accuracy: 0.9976\n",
            "Epoch 164/500\n",
            "14/14 [==============================] - 0s 33ms/step - loss: 0.0156 - accuracy: 0.9952\n",
            "Epoch 165/500\n",
            "14/14 [==============================] - 1s 36ms/step - loss: 0.0135 - accuracy: 0.9952\n",
            "Epoch 166/500\n",
            "14/14 [==============================] - 0s 32ms/step - loss: 0.0112 - accuracy: 0.9952\n",
            "Epoch 167/500\n",
            "14/14 [==============================] - 0s 34ms/step - loss: 0.0087 - accuracy: 0.9976\n",
            "Epoch 168/500\n",
            "14/14 [==============================] - 0s 34ms/step - loss: 0.0180 - accuracy: 0.9952\n",
            "Epoch 169/500\n",
            "14/14 [==============================] - 0s 35ms/step - loss: 0.0098 - accuracy: 0.9952\n",
            "Epoch 170/500\n",
            "14/14 [==============================] - 0s 33ms/step - loss: 0.0086 - accuracy: 0.9976\n",
            "Epoch 171/500\n",
            "14/14 [==============================] - 0s 34ms/step - loss: 0.0062 - accuracy: 0.9976\n",
            "Epoch 172/500\n",
            "14/14 [==============================] - 0s 34ms/step - loss: 0.0030 - accuracy: 1.0000\n",
            "Epoch 173/500\n",
            "14/14 [==============================] - 0s 33ms/step - loss: 0.0059 - accuracy: 0.9976\n",
            "Epoch 174/500\n",
            "14/14 [==============================] - 0s 33ms/step - loss: 0.0023 - accuracy: 1.0000\n",
            "Epoch 175/500\n",
            "14/14 [==============================] - 0s 33ms/step - loss: 0.0047 - accuracy: 0.9976\n",
            "Epoch 176/500\n",
            "14/14 [==============================] - 0s 33ms/step - loss: 0.0045 - accuracy: 1.0000\n",
            "Epoch 177/500\n",
            "14/14 [==============================] - 0s 34ms/step - loss: 0.0022 - accuracy: 1.0000\n",
            "Epoch 178/500\n",
            "14/14 [==============================] - 1s 36ms/step - loss: 0.0033 - accuracy: 0.9976\n",
            "Epoch 179/500\n",
            "14/14 [==============================] - 1s 58ms/step - loss: 0.0122 - accuracy: 0.9929\n",
            "Epoch 180/500\n",
            "14/14 [==============================] - 1s 60ms/step - loss: 0.0152 - accuracy: 0.9976\n",
            "Epoch 181/500\n",
            "14/14 [==============================] - 1s 61ms/step - loss: 0.0418 - accuracy: 0.9833\n",
            "Epoch 182/500\n",
            "14/14 [==============================] - 1s 60ms/step - loss: 0.0111 - accuracy: 0.9976\n",
            "Epoch 183/500\n",
            "14/14 [==============================] - 1s 59ms/step - loss: 0.0102 - accuracy: 0.9952\n",
            "Epoch 184/500\n",
            "14/14 [==============================] - 1s 44ms/step - loss: 0.0437 - accuracy: 0.9905\n",
            "Epoch 185/500\n",
            "14/14 [==============================] - 0s 35ms/step - loss: 0.0214 - accuracy: 0.9881\n",
            "Epoch 186/500\n",
            "14/14 [==============================] - 0s 32ms/step - loss: 0.0159 - accuracy: 0.9952\n",
            "Epoch 187/500\n",
            "14/14 [==============================] - 0s 34ms/step - loss: 0.0280 - accuracy: 0.9929\n",
            "Epoch 188/500\n",
            "14/14 [==============================] - 0s 33ms/step - loss: 0.0099 - accuracy: 0.9976\n",
            "Epoch 189/500\n",
            "14/14 [==============================] - 0s 34ms/step - loss: 0.0159 - accuracy: 0.9905\n",
            "Epoch 190/500\n",
            "14/14 [==============================] - 0s 33ms/step - loss: 0.0073 - accuracy: 0.9976\n",
            "Epoch 191/500\n",
            "14/14 [==============================] - 0s 33ms/step - loss: 0.0301 - accuracy: 0.9952\n",
            "Epoch 192/500\n",
            "14/14 [==============================] - 0s 33ms/step - loss: 0.0048 - accuracy: 1.0000\n",
            "Epoch 193/500\n",
            "14/14 [==============================] - 0s 33ms/step - loss: 0.0301 - accuracy: 0.9929\n",
            "Epoch 194/500\n",
            "14/14 [==============================] - 0s 32ms/step - loss: 0.0583 - accuracy: 0.9881\n",
            "Epoch 195/500\n",
            "14/14 [==============================] - 0s 33ms/step - loss: 0.0446 - accuracy: 0.9786\n",
            "Epoch 196/500\n",
            "14/14 [==============================] - 0s 33ms/step - loss: 0.0565 - accuracy: 0.9881\n",
            "Epoch 197/500\n",
            "14/14 [==============================] - 0s 34ms/step - loss: 0.0119 - accuracy: 0.9929\n",
            "Epoch 198/500\n",
            "14/14 [==============================] - 0s 34ms/step - loss: 0.0177 - accuracy: 0.9905\n",
            "Epoch 199/500\n",
            "14/14 [==============================] - 0s 33ms/step - loss: 0.0283 - accuracy: 0.9905\n",
            "Epoch 200/500\n",
            "14/14 [==============================] - 0s 34ms/step - loss: 0.0030 - accuracy: 1.0000\n",
            "Epoch 201/500\n",
            "14/14 [==============================] - 0s 34ms/step - loss: 0.0170 - accuracy: 0.9929\n",
            "Epoch 202/500\n",
            "14/14 [==============================] - 0s 35ms/step - loss: 0.0165 - accuracy: 0.9952\n",
            "Epoch 203/500\n",
            "14/14 [==============================] - 0s 34ms/step - loss: 0.0154 - accuracy: 0.9976\n",
            "Epoch 204/500\n",
            "14/14 [==============================] - 0s 34ms/step - loss: 0.0056 - accuracy: 0.9976\n",
            "Epoch 205/500\n",
            "14/14 [==============================] - 1s 52ms/step - loss: 0.0070 - accuracy: 0.9952\n",
            "Epoch 206/500\n",
            "14/14 [==============================] - 1s 58ms/step - loss: 0.0056 - accuracy: 0.9976\n",
            "Epoch 207/500\n",
            "14/14 [==============================] - 1s 61ms/step - loss: 0.0183 - accuracy: 0.9929\n",
            "Epoch 208/500\n",
            "14/14 [==============================] - 1s 61ms/step - loss: 0.0098 - accuracy: 0.9976\n",
            "Epoch 209/500\n",
            "14/14 [==============================] - 1s 60ms/step - loss: 0.0131 - accuracy: 0.9976\n",
            "Epoch 210/500\n",
            "14/14 [==============================] - 1s 54ms/step - loss: 0.0438 - accuracy: 0.9905\n",
            "Epoch 211/500\n",
            "14/14 [==============================] - 0s 34ms/step - loss: 0.0157 - accuracy: 0.9929\n",
            "Epoch 212/500\n",
            "14/14 [==============================] - 0s 33ms/step - loss: 0.0037 - accuracy: 1.0000\n",
            "Epoch 213/500\n",
            "14/14 [==============================] - 0s 35ms/step - loss: 0.0348 - accuracy: 0.9929\n",
            "Epoch 214/500\n",
            "14/14 [==============================] - 0s 33ms/step - loss: 0.0127 - accuracy: 0.9952\n",
            "Epoch 215/500\n",
            "14/14 [==============================] - 0s 34ms/step - loss: 0.0173 - accuracy: 0.9905\n",
            "Epoch 216/500\n",
            "14/14 [==============================] - 0s 33ms/step - loss: 0.0222 - accuracy: 0.9929\n",
            "Epoch 217/500\n",
            "14/14 [==============================] - 0s 34ms/step - loss: 0.0049 - accuracy: 0.9976\n",
            "Epoch 218/500\n",
            "14/14 [==============================] - 0s 32ms/step - loss: 0.0068 - accuracy: 0.9976\n",
            "Epoch 219/500\n",
            "14/14 [==============================] - 0s 35ms/step - loss: 0.0070 - accuracy: 0.9976\n",
            "Epoch 220/500\n",
            "14/14 [==============================] - 0s 32ms/step - loss: 0.0066 - accuracy: 0.9976\n",
            "Epoch 221/500\n",
            "14/14 [==============================] - 0s 35ms/step - loss: 0.0183 - accuracy: 0.9976\n",
            "Epoch 222/500\n",
            "14/14 [==============================] - 0s 32ms/step - loss: 0.0034 - accuracy: 1.0000\n",
            "Epoch 223/500\n",
            "14/14 [==============================] - 0s 33ms/step - loss: 0.0063 - accuracy: 0.9952\n",
            "Epoch 224/500\n",
            "14/14 [==============================] - 0s 32ms/step - loss: 0.0040 - accuracy: 1.0000\n",
            "Epoch 225/500\n",
            "14/14 [==============================] - 0s 33ms/step - loss: 0.0169 - accuracy: 0.9952\n",
            "Epoch 226/500\n",
            "14/14 [==============================] - 0s 34ms/step - loss: 0.0229 - accuracy: 0.9952\n",
            "Epoch 227/500\n",
            "14/14 [==============================] - 0s 34ms/step - loss: 0.0245 - accuracy: 0.9976\n",
            "Epoch 228/500\n",
            "14/14 [==============================] - 0s 34ms/step - loss: 0.0077 - accuracy: 0.9976\n",
            "Epoch 229/500\n",
            "14/14 [==============================] - 0s 33ms/step - loss: 0.0064 - accuracy: 0.9976\n",
            "Epoch 230/500\n",
            "14/14 [==============================] - 0s 33ms/step - loss: 0.0226 - accuracy: 0.9976\n",
            "Epoch 231/500\n",
            "14/14 [==============================] - 1s 38ms/step - loss: 0.0112 - accuracy: 0.9952\n",
            "Epoch 232/500\n",
            "14/14 [==============================] - 1s 58ms/step - loss: 0.0050 - accuracy: 0.9976\n",
            "Epoch 233/500\n",
            "14/14 [==============================] - 1s 61ms/step - loss: 0.0032 - accuracy: 0.9976\n",
            "Epoch 234/500\n",
            "14/14 [==============================] - 1s 60ms/step - loss: 0.0164 - accuracy: 0.9976\n",
            "Epoch 235/500\n",
            "14/14 [==============================] - 1s 61ms/step - loss: 0.0088 - accuracy: 0.9976\n",
            "Epoch 236/500\n",
            "14/14 [==============================] - 1s 61ms/step - loss: 0.0036 - accuracy: 1.0000\n",
            "Epoch 237/500\n",
            "14/14 [==============================] - 1s 39ms/step - loss: 0.0062 - accuracy: 0.9976\n",
            "Epoch 238/500\n",
            "14/14 [==============================] - 0s 34ms/step - loss: 0.0029 - accuracy: 1.0000\n",
            "Epoch 239/500\n",
            "14/14 [==============================] - 0s 34ms/step - loss: 0.0020 - accuracy: 1.0000\n",
            "Epoch 240/500\n",
            "14/14 [==============================] - 0s 33ms/step - loss: 0.0014 - accuracy: 1.0000\n",
            "Epoch 241/500\n",
            "14/14 [==============================] - 0s 34ms/step - loss: 0.0025 - accuracy: 1.0000\n",
            "Epoch 242/500\n",
            "14/14 [==============================] - 0s 35ms/step - loss: 0.0034 - accuracy: 1.0000\n",
            "Epoch 243/500\n",
            "14/14 [==============================] - 0s 34ms/step - loss: 0.0169 - accuracy: 0.9976\n",
            "Epoch 244/500\n",
            "14/14 [==============================] - 0s 34ms/step - loss: 0.0192 - accuracy: 0.9929\n",
            "Epoch 245/500\n",
            "14/14 [==============================] - 0s 34ms/step - loss: 0.0122 - accuracy: 0.9929\n",
            "Epoch 246/500\n",
            "14/14 [==============================] - 0s 33ms/step - loss: 0.0082 - accuracy: 0.9952\n",
            "Epoch 247/500\n",
            "14/14 [==============================] - 0s 34ms/step - loss: 0.0083 - accuracy: 0.9976\n",
            "Epoch 248/500\n",
            "14/14 [==============================] - 0s 34ms/step - loss: 0.0155 - accuracy: 0.9952\n",
            "Epoch 249/500\n",
            "14/14 [==============================] - 0s 32ms/step - loss: 0.0032 - accuracy: 1.0000\n",
            "Epoch 250/500\n",
            "14/14 [==============================] - 0s 34ms/step - loss: 0.0218 - accuracy: 0.9952\n",
            "Epoch 251/500\n",
            "14/14 [==============================] - 0s 33ms/step - loss: 0.0014 - accuracy: 1.0000\n",
            "Epoch 252/500\n",
            "14/14 [==============================] - 0s 34ms/step - loss: 0.0036 - accuracy: 1.0000\n",
            "Epoch 253/500\n",
            "14/14 [==============================] - 0s 33ms/step - loss: 0.0012 - accuracy: 1.0000\n",
            "Epoch 254/500\n",
            "14/14 [==============================] - 0s 33ms/step - loss: 0.0022 - accuracy: 1.0000\n",
            "Epoch 255/500\n",
            "14/14 [==============================] - 0s 34ms/step - loss: 0.0161 - accuracy: 0.9952\n",
            "Epoch 256/500\n",
            "14/14 [==============================] - 0s 35ms/step - loss: 0.0057 - accuracy: 0.9976\n",
            "Epoch 257/500\n",
            "14/14 [==============================] - 0s 33ms/step - loss: 0.0048 - accuracy: 1.0000\n",
            "Epoch 258/500\n",
            "14/14 [==============================] - 1s 55ms/step - loss: 0.0050 - accuracy: 0.9976\n",
            "Epoch 259/500\n",
            "14/14 [==============================] - 1s 62ms/step - loss: 0.0024 - accuracy: 1.0000\n",
            "Epoch 260/500\n",
            "14/14 [==============================] - 1s 60ms/step - loss: 0.0031 - accuracy: 1.0000\n",
            "Epoch 261/500\n",
            "14/14 [==============================] - 1s 59ms/step - loss: 0.0017 - accuracy: 1.0000\n",
            "Epoch 262/500\n",
            "14/14 [==============================] - 1s 59ms/step - loss: 0.0210 - accuracy: 0.9976\n",
            "Epoch 263/500\n",
            "14/14 [==============================] - 1s 53ms/step - loss: 0.0059 - accuracy: 0.9976\n",
            "Epoch 264/500\n",
            "14/14 [==============================] - 0s 33ms/step - loss: 0.0100 - accuracy: 0.9952\n",
            "Epoch 265/500\n",
            "14/14 [==============================] - 0s 34ms/step - loss: 0.0050 - accuracy: 0.9976\n",
            "Epoch 266/500\n",
            "14/14 [==============================] - 0s 33ms/step - loss: 6.3767e-04 - accuracy: 1.0000\n",
            "Epoch 267/500\n",
            "14/14 [==============================] - 0s 35ms/step - loss: 0.0127 - accuracy: 0.9929\n",
            "Epoch 268/500\n",
            "14/14 [==============================] - 0s 34ms/step - loss: 0.0107 - accuracy: 0.9976\n",
            "Epoch 269/500\n",
            "14/14 [==============================] - 0s 35ms/step - loss: 0.0145 - accuracy: 0.9952\n",
            "Epoch 270/500\n",
            "14/14 [==============================] - 0s 33ms/step - loss: 0.0205 - accuracy: 0.9905\n",
            "Epoch 271/500\n",
            "14/14 [==============================] - 0s 34ms/step - loss: 0.0105 - accuracy: 0.9976\n",
            "Epoch 272/500\n",
            "14/14 [==============================] - 0s 32ms/step - loss: 0.0202 - accuracy: 0.9976\n",
            "Epoch 273/500\n",
            "14/14 [==============================] - 0s 35ms/step - loss: 0.0111 - accuracy: 0.9976\n",
            "Epoch 274/500\n",
            "14/14 [==============================] - 0s 33ms/step - loss: 0.0145 - accuracy: 0.9976\n",
            "Epoch 275/500\n",
            "14/14 [==============================] - 1s 36ms/step - loss: 0.0071 - accuracy: 0.9976\n",
            "Epoch 276/500\n",
            "14/14 [==============================] - 0s 32ms/step - loss: 0.0201 - accuracy: 0.9952\n",
            "Epoch 277/500\n",
            "14/14 [==============================] - 0s 33ms/step - loss: 0.0164 - accuracy: 0.9929\n",
            "Epoch 278/500\n",
            "14/14 [==============================] - 0s 33ms/step - loss: 0.0309 - accuracy: 0.9881\n",
            "Epoch 279/500\n",
            "14/14 [==============================] - 0s 34ms/step - loss: 0.0121 - accuracy: 0.9952\n",
            "Epoch 280/500\n",
            "14/14 [==============================] - 0s 34ms/step - loss: 0.0286 - accuracy: 0.9905\n",
            "Epoch 281/500\n",
            "14/14 [==============================] - 0s 32ms/step - loss: 0.0178 - accuracy: 0.9905\n",
            "Epoch 282/500\n",
            "14/14 [==============================] - 1s 35ms/step - loss: 0.0150 - accuracy: 0.9929\n",
            "Epoch 283/500\n",
            "14/14 [==============================] - 0s 34ms/step - loss: 0.0081 - accuracy: 0.9976\n",
            "Epoch 284/500\n",
            "14/14 [==============================] - 1s 50ms/step - loss: 0.0083 - accuracy: 0.9952\n",
            "Epoch 285/500\n",
            "14/14 [==============================] - 1s 61ms/step - loss: 0.0063 - accuracy: 0.9952\n",
            "Epoch 286/500\n",
            "14/14 [==============================] - 1s 61ms/step - loss: 0.0098 - accuracy: 0.9976\n",
            "Epoch 287/500\n",
            "14/14 [==============================] - 1s 58ms/step - loss: 0.0050 - accuracy: 0.9976\n",
            "Epoch 288/500\n",
            "14/14 [==============================] - 1s 58ms/step - loss: 0.0116 - accuracy: 0.9952\n",
            "Epoch 289/500\n",
            "14/14 [==============================] - 1s 58ms/step - loss: 0.0010 - accuracy: 1.0000\n",
            "Epoch 290/500\n",
            "14/14 [==============================] - 0s 33ms/step - loss: 0.0026 - accuracy: 1.0000\n",
            "Epoch 291/500\n",
            "14/14 [==============================] - 0s 33ms/step - loss: 0.0049 - accuracy: 0.9976\n",
            "Epoch 292/500\n",
            "14/14 [==============================] - 0s 34ms/step - loss: 0.0129 - accuracy: 0.9952\n",
            "Epoch 293/500\n",
            "14/14 [==============================] - 0s 35ms/step - loss: 0.0031 - accuracy: 0.9976\n",
            "Epoch 294/500\n",
            "14/14 [==============================] - 0s 33ms/step - loss: 0.0084 - accuracy: 0.9952\n",
            "Epoch 295/500\n",
            "14/14 [==============================] - 0s 34ms/step - loss: 0.0052 - accuracy: 1.0000\n",
            "Epoch 296/500\n",
            "14/14 [==============================] - 0s 34ms/step - loss: 0.0147 - accuracy: 0.9952\n",
            "Epoch 297/500\n",
            "14/14 [==============================] - 0s 35ms/step - loss: 0.0038 - accuracy: 1.0000\n",
            "Epoch 298/500\n",
            "14/14 [==============================] - 0s 34ms/step - loss: 0.0274 - accuracy: 0.9929\n",
            "Epoch 299/500\n",
            "14/14 [==============================] - 0s 33ms/step - loss: 0.0243 - accuracy: 0.9905\n",
            "Epoch 300/500\n",
            "14/14 [==============================] - 0s 34ms/step - loss: 0.0299 - accuracy: 0.9976\n",
            "Epoch 301/500\n",
            "14/14 [==============================] - 0s 34ms/step - loss: 0.0327 - accuracy: 0.9929\n",
            "Epoch 302/500\n",
            "14/14 [==============================] - 1s 37ms/step - loss: 0.0094 - accuracy: 0.9976\n",
            "Epoch 303/500\n",
            "14/14 [==============================] - 0s 34ms/step - loss: 0.0442 - accuracy: 0.9905\n",
            "Epoch 304/500\n",
            "14/14 [==============================] - 0s 34ms/step - loss: 0.0110 - accuracy: 0.9976\n",
            "Epoch 305/500\n",
            "14/14 [==============================] - 0s 34ms/step - loss: 0.0067 - accuracy: 0.9952\n",
            "Epoch 306/500\n",
            "14/14 [==============================] - 0s 35ms/step - loss: 0.0068 - accuracy: 0.9952\n",
            "Epoch 307/500\n",
            "14/14 [==============================] - 0s 34ms/step - loss: 0.0242 - accuracy: 0.9905\n",
            "Epoch 308/500\n",
            "14/14 [==============================] - 0s 34ms/step - loss: 0.0091 - accuracy: 0.9952\n",
            "Epoch 309/500\n",
            "14/14 [==============================] - 0s 33ms/step - loss: 0.0170 - accuracy: 0.9929\n",
            "Epoch 310/500\n",
            "14/14 [==============================] - 1s 42ms/step - loss: 0.0163 - accuracy: 0.9952\n",
            "Epoch 311/500\n",
            "14/14 [==============================] - 1s 61ms/step - loss: 0.0233 - accuracy: 0.9905\n",
            "Epoch 312/500\n",
            "14/14 [==============================] - 1s 59ms/step - loss: 0.0148 - accuracy: 0.9952\n",
            "Epoch 313/500\n",
            "14/14 [==============================] - 1s 57ms/step - loss: 0.0053 - accuracy: 0.9976\n",
            "Epoch 314/500\n",
            "14/14 [==============================] - 1s 59ms/step - loss: 0.0044 - accuracy: 1.0000\n",
            "Epoch 315/500\n",
            "14/14 [==============================] - 1s 59ms/step - loss: 0.0028 - accuracy: 1.0000\n",
            "Epoch 316/500\n",
            "14/14 [==============================] - 1s 46ms/step - loss: 0.0052 - accuracy: 0.9976\n",
            "Epoch 317/500\n",
            "14/14 [==============================] - 0s 34ms/step - loss: 0.0102 - accuracy: 0.9952\n",
            "Epoch 318/500\n",
            "14/14 [==============================] - 0s 34ms/step - loss: 0.0073 - accuracy: 0.9976\n",
            "Epoch 319/500\n",
            "14/14 [==============================] - 0s 33ms/step - loss: 0.0010 - accuracy: 1.0000\n",
            "Epoch 320/500\n",
            "14/14 [==============================] - 0s 34ms/step - loss: 0.0063 - accuracy: 0.9952\n",
            "Epoch 321/500\n",
            "14/14 [==============================] - 0s 34ms/step - loss: 0.0062 - accuracy: 0.9952\n",
            "Epoch 322/500\n",
            "14/14 [==============================] - 0s 34ms/step - loss: 0.0227 - accuracy: 0.9857\n",
            "Epoch 323/500\n",
            "14/14 [==============================] - 0s 35ms/step - loss: 0.0306 - accuracy: 0.9952\n",
            "Epoch 324/500\n",
            "14/14 [==============================] - 0s 34ms/step - loss: 0.0145 - accuracy: 0.9976\n",
            "Epoch 325/500\n",
            "14/14 [==============================] - 0s 35ms/step - loss: 0.0183 - accuracy: 0.9952\n",
            "Epoch 326/500\n",
            "14/14 [==============================] - 0s 33ms/step - loss: 0.0716 - accuracy: 0.9905\n",
            "Epoch 327/500\n",
            "14/14 [==============================] - 0s 35ms/step - loss: 0.0317 - accuracy: 0.9952\n",
            "Epoch 328/500\n",
            "14/14 [==============================] - 0s 33ms/step - loss: 0.0178 - accuracy: 0.9952\n",
            "Epoch 329/500\n",
            "14/14 [==============================] - 0s 35ms/step - loss: 0.0891 - accuracy: 0.9667\n",
            "Epoch 330/500\n",
            "14/14 [==============================] - 0s 34ms/step - loss: 0.1498 - accuracy: 0.9619\n",
            "Epoch 331/500\n",
            "14/14 [==============================] - 1s 36ms/step - loss: 0.0899 - accuracy: 0.9714\n",
            "Epoch 332/500\n",
            "14/14 [==============================] - 0s 34ms/step - loss: 0.0268 - accuracy: 0.9881\n",
            "Epoch 333/500\n",
            "14/14 [==============================] - 0s 35ms/step - loss: 0.0404 - accuracy: 0.9881\n",
            "Epoch 334/500\n",
            "14/14 [==============================] - 0s 34ms/step - loss: 0.0371 - accuracy: 0.9881\n",
            "Epoch 335/500\n",
            "14/14 [==============================] - 1s 36ms/step - loss: 0.0162 - accuracy: 0.9905\n",
            "Epoch 336/500\n",
            "14/14 [==============================] - 0s 34ms/step - loss: 0.0054 - accuracy: 1.0000\n",
            "Epoch 337/500\n",
            "14/14 [==============================] - 1s 59ms/step - loss: 0.0060 - accuracy: 1.0000\n",
            "Epoch 338/500\n",
            "14/14 [==============================] - 1s 62ms/step - loss: 0.0147 - accuracy: 0.9976\n",
            "Epoch 339/500\n",
            "14/14 [==============================] - 1s 56ms/step - loss: 0.0143 - accuracy: 0.9952\n",
            "Epoch 340/500\n",
            "14/14 [==============================] - 1s 62ms/step - loss: 0.0254 - accuracy: 0.9929\n",
            "Epoch 341/500\n",
            "14/14 [==============================] - 1s 59ms/step - loss: 0.0136 - accuracy: 0.9976\n",
            "Epoch 342/500\n",
            "14/14 [==============================] - 1s 56ms/step - loss: 0.0204 - accuracy: 0.9881\n",
            "Epoch 343/500\n",
            "14/14 [==============================] - 0s 34ms/step - loss: 0.0103 - accuracy: 0.9976\n",
            "Epoch 344/500\n",
            "14/14 [==============================] - 0s 34ms/step - loss: 0.0183 - accuracy: 0.9976\n",
            "Epoch 345/500\n",
            "14/14 [==============================] - 0s 33ms/step - loss: 0.0216 - accuracy: 0.9929\n",
            "Epoch 346/500\n",
            "14/14 [==============================] - 0s 34ms/step - loss: 0.0110 - accuracy: 0.9976\n",
            "Epoch 347/500\n",
            "14/14 [==============================] - 0s 34ms/step - loss: 0.0048 - accuracy: 0.9976\n",
            "Epoch 348/500\n",
            "14/14 [==============================] - 0s 34ms/step - loss: 0.0052 - accuracy: 0.9976\n",
            "Epoch 349/500\n",
            "14/14 [==============================] - 0s 34ms/step - loss: 0.0142 - accuracy: 0.9952\n",
            "Epoch 350/500\n",
            "14/14 [==============================] - 0s 35ms/step - loss: 0.0063 - accuracy: 0.9976\n",
            "Epoch 351/500\n",
            "14/14 [==============================] - 0s 34ms/step - loss: 0.0025 - accuracy: 1.0000\n",
            "Epoch 352/500\n",
            "14/14 [==============================] - 0s 34ms/step - loss: 0.0146 - accuracy: 0.9976\n",
            "Epoch 353/500\n",
            "14/14 [==============================] - 0s 33ms/step - loss: 0.0015 - accuracy: 1.0000\n",
            "Epoch 354/500\n",
            "14/14 [==============================] - 0s 34ms/step - loss: 0.0116 - accuracy: 0.9952\n",
            "Epoch 355/500\n",
            "14/14 [==============================] - 0s 34ms/step - loss: 0.0082 - accuracy: 0.9976\n",
            "Epoch 356/500\n",
            "14/14 [==============================] - 0s 32ms/step - loss: 0.0072 - accuracy: 0.9976\n",
            "Epoch 357/500\n",
            "14/14 [==============================] - 0s 34ms/step - loss: 0.0016 - accuracy: 1.0000\n",
            "Epoch 358/500\n",
            "14/14 [==============================] - 0s 33ms/step - loss: 0.0010 - accuracy: 1.0000\n",
            "Epoch 359/500\n",
            "14/14 [==============================] - 0s 34ms/step - loss: 0.0044 - accuracy: 0.9976\n",
            "Epoch 360/500\n",
            "14/14 [==============================] - 0s 34ms/step - loss: 0.0057 - accuracy: 1.0000\n",
            "Epoch 361/500\n",
            "14/14 [==============================] - 0s 34ms/step - loss: 0.0033 - accuracy: 0.9976\n",
            "Epoch 362/500\n",
            "14/14 [==============================] - 1s 36ms/step - loss: 0.0017 - accuracy: 1.0000\n",
            "Epoch 363/500\n",
            "14/14 [==============================] - 1s 46ms/step - loss: 0.0031 - accuracy: 1.0000\n",
            "Epoch 364/500\n",
            "14/14 [==============================] - 1s 57ms/step - loss: 0.0108 - accuracy: 0.9976\n",
            "Epoch 365/500\n",
            "14/14 [==============================] - 1s 61ms/step - loss: 0.0057 - accuracy: 0.9976\n",
            "Epoch 366/500\n",
            "14/14 [==============================] - 1s 58ms/step - loss: 0.0012 - accuracy: 1.0000\n",
            "Epoch 367/500\n",
            "14/14 [==============================] - 1s 59ms/step - loss: 0.0091 - accuracy: 0.9976\n",
            "Epoch 368/500\n",
            "14/14 [==============================] - 1s 60ms/step - loss: 0.0112 - accuracy: 0.9976\n",
            "Epoch 369/500\n",
            "14/14 [==============================] - 1s 50ms/step - loss: 7.8457e-04 - accuracy: 1.0000\n",
            "Epoch 370/500\n",
            "14/14 [==============================] - 0s 34ms/step - loss: 0.0018 - accuracy: 1.0000\n",
            "Epoch 371/500\n",
            "14/14 [==============================] - 0s 35ms/step - loss: 0.0012 - accuracy: 1.0000\n",
            "Epoch 372/500\n",
            "14/14 [==============================] - 0s 34ms/step - loss: 0.0068 - accuracy: 0.9976\n",
            "Epoch 373/500\n",
            "14/14 [==============================] - 0s 35ms/step - loss: 0.0018 - accuracy: 1.0000\n",
            "Epoch 374/500\n",
            "14/14 [==============================] - 0s 34ms/step - loss: 0.0023 - accuracy: 1.0000\n",
            "Epoch 375/500\n",
            "14/14 [==============================] - 0s 34ms/step - loss: 7.2427e-04 - accuracy: 1.0000\n",
            "Epoch 376/500\n",
            "14/14 [==============================] - 0s 34ms/step - loss: 0.0027 - accuracy: 1.0000\n",
            "Epoch 377/500\n",
            "14/14 [==============================] - 0s 34ms/step - loss: 0.0054 - accuracy: 0.9976\n",
            "Epoch 378/500\n",
            "14/14 [==============================] - 0s 34ms/step - loss: 0.0020 - accuracy: 1.0000\n",
            "Epoch 379/500\n",
            "14/14 [==============================] - 0s 34ms/step - loss: 0.0017 - accuracy: 1.0000\n",
            "Epoch 380/500\n",
            "14/14 [==============================] - 0s 35ms/step - loss: 0.0022 - accuracy: 1.0000\n",
            "Epoch 381/500\n",
            "14/14 [==============================] - 0s 34ms/step - loss: 0.0034 - accuracy: 0.9976\n",
            "Epoch 382/500\n",
            "14/14 [==============================] - 1s 36ms/step - loss: 0.0028 - accuracy: 0.9976\n",
            "Epoch 383/500\n",
            "14/14 [==============================] - 0s 34ms/step - loss: 6.2829e-04 - accuracy: 1.0000\n",
            "Epoch 384/500\n",
            "14/14 [==============================] - 1s 36ms/step - loss: 6.3149e-04 - accuracy: 1.0000\n",
            "Epoch 385/500\n",
            "14/14 [==============================] - 0s 34ms/step - loss: 0.0033 - accuracy: 1.0000\n",
            "Epoch 386/500\n",
            "14/14 [==============================] - 1s 37ms/step - loss: 0.0041 - accuracy: 0.9976\n",
            "Epoch 387/500\n",
            "14/14 [==============================] - 0s 34ms/step - loss: 0.0067 - accuracy: 0.9952\n",
            "Epoch 388/500\n",
            "14/14 [==============================] - 1s 35ms/step - loss: 0.0012 - accuracy: 1.0000\n",
            "Epoch 389/500\n",
            "14/14 [==============================] - 1s 42ms/step - loss: 0.0046 - accuracy: 0.9976\n",
            "Epoch 390/500\n",
            "14/14 [==============================] - 1s 61ms/step - loss: 0.0059 - accuracy: 0.9976\n",
            "Epoch 391/500\n",
            "14/14 [==============================] - 1s 59ms/step - loss: 0.0073 - accuracy: 0.9976\n",
            "Epoch 392/500\n",
            "14/14 [==============================] - 1s 61ms/step - loss: 0.0075 - accuracy: 0.9952\n",
            "Epoch 393/500\n",
            "14/14 [==============================] - 1s 61ms/step - loss: 0.0070 - accuracy: 0.9976\n",
            "Epoch 394/500\n",
            "14/14 [==============================] - 1s 60ms/step - loss: 0.0241 - accuracy: 0.9952\n",
            "Epoch 395/500\n",
            "14/14 [==============================] - 1s 49ms/step - loss: 0.0212 - accuracy: 0.9952\n",
            "Epoch 396/500\n",
            "14/14 [==============================] - 1s 36ms/step - loss: 0.0061 - accuracy: 0.9976\n",
            "Epoch 397/500\n",
            "14/14 [==============================] - 0s 34ms/step - loss: 0.0091 - accuracy: 0.9952\n",
            "Epoch 398/500\n",
            "14/14 [==============================] - 0s 34ms/step - loss: 0.0101 - accuracy: 0.9976\n",
            "Epoch 399/500\n",
            "14/14 [==============================] - 0s 34ms/step - loss: 0.0160 - accuracy: 0.9952\n",
            "Epoch 400/500\n",
            "14/14 [==============================] - 1s 36ms/step - loss: 0.0086 - accuracy: 0.9976\n",
            "Epoch 401/500\n",
            "14/14 [==============================] - 0s 34ms/step - loss: 0.0048 - accuracy: 0.9976\n",
            "Epoch 402/500\n",
            "14/14 [==============================] - 1s 36ms/step - loss: 0.0084 - accuracy: 0.9976\n",
            "Epoch 403/500\n",
            "14/14 [==============================] - 0s 35ms/step - loss: 0.0057 - accuracy: 0.9976\n",
            "Epoch 404/500\n",
            "14/14 [==============================] - 1s 37ms/step - loss: 0.0119 - accuracy: 0.9929\n",
            "Epoch 405/500\n",
            "14/14 [==============================] - 0s 35ms/step - loss: 0.0268 - accuracy: 0.9881\n",
            "Epoch 406/500\n",
            "14/14 [==============================] - 0s 35ms/step - loss: 0.0159 - accuracy: 0.9952\n",
            "Epoch 407/500\n",
            "14/14 [==============================] - 0s 34ms/step - loss: 0.0100 - accuracy: 0.9976\n",
            "Epoch 408/500\n",
            "14/14 [==============================] - 0s 34ms/step - loss: 0.0060 - accuracy: 0.9952\n",
            "Epoch 409/500\n",
            "14/14 [==============================] - 0s 35ms/step - loss: 0.0058 - accuracy: 0.9976\n",
            "Epoch 410/500\n",
            "14/14 [==============================] - 0s 34ms/step - loss: 0.0027 - accuracy: 1.0000\n",
            "Epoch 411/500\n",
            "14/14 [==============================] - 0s 34ms/step - loss: 0.0035 - accuracy: 0.9976\n",
            "Epoch 412/500\n",
            "14/14 [==============================] - 0s 34ms/step - loss: 0.0052 - accuracy: 0.9976\n",
            "Epoch 413/500\n",
            "14/14 [==============================] - 1s 36ms/step - loss: 0.0068 - accuracy: 0.9952\n",
            "Epoch 414/500\n",
            "14/14 [==============================] - 0s 34ms/step - loss: 0.0326 - accuracy: 0.9952\n",
            "Epoch 415/500\n",
            "14/14 [==============================] - 1s 43ms/step - loss: 0.0082 - accuracy: 0.9976\n",
            "Epoch 416/500\n",
            "14/14 [==============================] - 1s 61ms/step - loss: 0.0268 - accuracy: 0.9905\n",
            "Epoch 417/500\n",
            "14/14 [==============================] - 1s 60ms/step - loss: 0.0105 - accuracy: 0.9976\n",
            "Epoch 418/500\n",
            "14/14 [==============================] - 1s 61ms/step - loss: 0.0070 - accuracy: 0.9976\n",
            "Epoch 419/500\n",
            "14/14 [==============================] - 1s 60ms/step - loss: 0.1072 - accuracy: 0.9643\n",
            "Epoch 420/500\n",
            "14/14 [==============================] - 1s 60ms/step - loss: 0.0929 - accuracy: 0.9762\n",
            "Epoch 421/500\n",
            "14/14 [==============================] - 1s 51ms/step - loss: 0.0205 - accuracy: 0.9929\n",
            "Epoch 422/500\n",
            "14/14 [==============================] - 0s 35ms/step - loss: 0.0096 - accuracy: 0.9976\n",
            "Epoch 423/500\n",
            "14/14 [==============================] - 0s 35ms/step - loss: 0.0302 - accuracy: 0.9952\n",
            "Epoch 424/500\n",
            "14/14 [==============================] - 0s 34ms/step - loss: 0.0208 - accuracy: 0.9952\n",
            "Epoch 425/500\n",
            "14/14 [==============================] - 0s 35ms/step - loss: 0.0109 - accuracy: 0.9952\n",
            "Epoch 426/500\n",
            "14/14 [==============================] - 0s 34ms/step - loss: 0.0043 - accuracy: 1.0000\n",
            "Epoch 427/500\n",
            "14/14 [==============================] - 1s 36ms/step - loss: 0.0022 - accuracy: 1.0000\n",
            "Epoch 428/500\n",
            "14/14 [==============================] - 0s 35ms/step - loss: 0.0079 - accuracy: 0.9976\n",
            "Epoch 429/500\n",
            "14/14 [==============================] - 1s 35ms/step - loss: 0.0106 - accuracy: 0.9976\n",
            "Epoch 430/500\n",
            "14/14 [==============================] - 0s 35ms/step - loss: 0.0038 - accuracy: 1.0000\n",
            "Epoch 431/500\n",
            "14/14 [==============================] - 1s 36ms/step - loss: 0.0067 - accuracy: 1.0000\n",
            "Epoch 432/500\n",
            "14/14 [==============================] - 0s 34ms/step - loss: 0.0092 - accuracy: 0.9952\n",
            "Epoch 433/500\n",
            "14/14 [==============================] - 0s 35ms/step - loss: 0.0114 - accuracy: 0.9976\n",
            "Epoch 434/500\n",
            "14/14 [==============================] - 0s 35ms/step - loss: 0.0059 - accuracy: 0.9976\n",
            "Epoch 435/500\n",
            "14/14 [==============================] - 1s 36ms/step - loss: 0.0270 - accuracy: 0.9976\n",
            "Epoch 436/500\n",
            "14/14 [==============================] - 0s 35ms/step - loss: 0.0161 - accuracy: 0.9952\n",
            "Epoch 437/500\n",
            "14/14 [==============================] - 1s 37ms/step - loss: 0.0051 - accuracy: 1.0000\n",
            "Epoch 438/500\n",
            "14/14 [==============================] - 0s 34ms/step - loss: 0.0034 - accuracy: 1.0000\n",
            "Epoch 439/500\n",
            "14/14 [==============================] - 0s 34ms/step - loss: 0.0043 - accuracy: 0.9976\n",
            "Epoch 440/500\n",
            "14/14 [==============================] - 1s 35ms/step - loss: 0.0042 - accuracy: 0.9976\n",
            "Epoch 441/500\n",
            "14/14 [==============================] - 1s 44ms/step - loss: 0.0244 - accuracy: 0.9952\n",
            "Epoch 442/500\n",
            "14/14 [==============================] - 1s 59ms/step - loss: 0.0069 - accuracy: 0.9952\n",
            "Epoch 443/500\n",
            "14/14 [==============================] - 1s 59ms/step - loss: 0.0172 - accuracy: 0.9952\n",
            "Epoch 444/500\n",
            "14/14 [==============================] - 1s 63ms/step - loss: 0.0040 - accuracy: 0.9976\n",
            "Epoch 445/500\n",
            "14/14 [==============================] - 1s 59ms/step - loss: 0.0115 - accuracy: 0.9929\n",
            "Epoch 446/500\n",
            "14/14 [==============================] - 1s 59ms/step - loss: 0.0094 - accuracy: 0.9976\n",
            "Epoch 447/500\n",
            "14/14 [==============================] - 1s 55ms/step - loss: 0.0100 - accuracy: 0.9952\n",
            "Epoch 448/500\n",
            "14/14 [==============================] - 1s 36ms/step - loss: 0.0050 - accuracy: 1.0000\n",
            "Epoch 449/500\n",
            "14/14 [==============================] - 0s 33ms/step - loss: 0.0081 - accuracy: 0.9976\n",
            "Epoch 450/500\n",
            "14/14 [==============================] - 0s 35ms/step - loss: 0.0087 - accuracy: 0.9976\n",
            "Epoch 451/500\n",
            "14/14 [==============================] - 1s 36ms/step - loss: 0.0051 - accuracy: 0.9976\n",
            "Epoch 452/500\n",
            "14/14 [==============================] - 1s 36ms/step - loss: 0.0026 - accuracy: 1.0000\n",
            "Epoch 453/500\n",
            "14/14 [==============================] - 0s 34ms/step - loss: 0.0213 - accuracy: 0.9976\n",
            "Epoch 454/500\n",
            "14/14 [==============================] - 1s 36ms/step - loss: 0.0051 - accuracy: 0.9976\n",
            "Epoch 455/500\n",
            "14/14 [==============================] - 0s 34ms/step - loss: 0.0043 - accuracy: 1.0000\n",
            "Epoch 456/500\n",
            "14/14 [==============================] - 0s 35ms/step - loss: 0.0107 - accuracy: 0.9976\n",
            "Epoch 457/500\n",
            "14/14 [==============================] - 0s 35ms/step - loss: 0.0044 - accuracy: 1.0000\n",
            "Epoch 458/500\n",
            "14/14 [==============================] - 0s 35ms/step - loss: 0.0125 - accuracy: 0.9929\n",
            "Epoch 459/500\n",
            "14/14 [==============================] - 0s 35ms/step - loss: 0.0081 - accuracy: 0.9976\n",
            "Epoch 460/500\n",
            "14/14 [==============================] - 0s 35ms/step - loss: 0.0056 - accuracy: 0.9976\n",
            "Epoch 461/500\n",
            "14/14 [==============================] - 0s 35ms/step - loss: 0.0038 - accuracy: 1.0000\n",
            "Epoch 462/500\n",
            "14/14 [==============================] - 0s 35ms/step - loss: 9.1726e-04 - accuracy: 1.0000\n",
            "Epoch 463/500\n",
            "14/14 [==============================] - 0s 34ms/step - loss: 0.0141 - accuracy: 0.9976\n",
            "Epoch 464/500\n",
            "14/14 [==============================] - 0s 35ms/step - loss: 0.0241 - accuracy: 0.9929\n",
            "Epoch 465/500\n",
            "14/14 [==============================] - 1s 36ms/step - loss: 0.0075 - accuracy: 0.9976\n",
            "Epoch 466/500\n",
            "14/14 [==============================] - 1s 36ms/step - loss: 0.0165 - accuracy: 0.9976\n",
            "Epoch 467/500\n",
            "14/14 [==============================] - 1s 39ms/step - loss: 0.0020 - accuracy: 1.0000\n",
            "Epoch 468/500\n",
            "14/14 [==============================] - 1s 60ms/step - loss: 0.0145 - accuracy: 0.9976\n",
            "Epoch 469/500\n",
            "14/14 [==============================] - 1s 62ms/step - loss: 0.0093 - accuracy: 0.9976\n",
            "Epoch 470/500\n",
            "14/14 [==============================] - 1s 62ms/step - loss: 0.0021 - accuracy: 1.0000\n",
            "Epoch 471/500\n",
            "14/14 [==============================] - 1s 60ms/step - loss: 0.0041 - accuracy: 1.0000\n",
            "Epoch 472/500\n",
            "14/14 [==============================] - 1s 59ms/step - loss: 0.0103 - accuracy: 0.9952\n",
            "Epoch 473/500\n",
            "14/14 [==============================] - 1s 58ms/step - loss: 0.0110 - accuracy: 0.9976\n",
            "Epoch 474/500\n",
            "14/14 [==============================] - 0s 35ms/step - loss: 0.0054 - accuracy: 0.9976\n",
            "Epoch 475/500\n",
            "14/14 [==============================] - 0s 34ms/step - loss: 0.0071 - accuracy: 0.9976\n",
            "Epoch 476/500\n",
            "14/14 [==============================] - 0s 35ms/step - loss: 7.7011e-04 - accuracy: 1.0000\n",
            "Epoch 477/500\n",
            "14/14 [==============================] - 0s 34ms/step - loss: 0.0024 - accuracy: 1.0000\n",
            "Epoch 478/500\n",
            "14/14 [==============================] - 1s 36ms/step - loss: 0.0041 - accuracy: 0.9976\n",
            "Epoch 479/500\n",
            "14/14 [==============================] - 1s 36ms/step - loss: 0.0419 - accuracy: 0.9952\n",
            "Epoch 480/500\n",
            "14/14 [==============================] - 0s 34ms/step - loss: 0.0173 - accuracy: 0.9905\n",
            "Epoch 481/500\n",
            "14/14 [==============================] - 0s 34ms/step - loss: 0.0108 - accuracy: 0.9952\n",
            "Epoch 482/500\n",
            "14/14 [==============================] - 0s 35ms/step - loss: 0.0188 - accuracy: 0.9929\n",
            "Epoch 483/500\n",
            "14/14 [==============================] - 0s 34ms/step - loss: 0.0209 - accuracy: 0.9952\n",
            "Epoch 484/500\n",
            "14/14 [==============================] - 0s 35ms/step - loss: 0.0437 - accuracy: 0.9857\n",
            "Epoch 485/500\n",
            "14/14 [==============================] - 1s 36ms/step - loss: 0.0155 - accuracy: 0.9929\n",
            "Epoch 486/500\n",
            "14/14 [==============================] - 0s 35ms/step - loss: 0.0082 - accuracy: 0.9976\n",
            "Epoch 487/500\n",
            "14/14 [==============================] - 0s 35ms/step - loss: 0.0298 - accuracy: 0.9929\n",
            "Epoch 488/500\n",
            "14/14 [==============================] - 1s 37ms/step - loss: 0.0048 - accuracy: 1.0000\n",
            "Epoch 489/500\n",
            "14/14 [==============================] - 0s 35ms/step - loss: 0.0097 - accuracy: 0.9952\n",
            "Epoch 490/500\n",
            "14/14 [==============================] - 0s 35ms/step - loss: 0.0099 - accuracy: 0.9952\n",
            "Epoch 491/500\n",
            "14/14 [==============================] - 0s 35ms/step - loss: 0.0071 - accuracy: 0.9976\n",
            "Epoch 492/500\n",
            "14/14 [==============================] - 1s 36ms/step - loss: 0.0258 - accuracy: 0.9952\n",
            "Epoch 493/500\n",
            "14/14 [==============================] - 1s 39ms/step - loss: 0.0233 - accuracy: 0.9952\n",
            "Epoch 494/500\n",
            "14/14 [==============================] - 1s 58ms/step - loss: 0.0428 - accuracy: 0.9881\n",
            "Epoch 495/500\n",
            "14/14 [==============================] - 1s 59ms/step - loss: 0.0070 - accuracy: 0.9952\n",
            "Epoch 496/500\n",
            "14/14 [==============================] - 1s 58ms/step - loss: 0.0061 - accuracy: 0.9976\n",
            "Epoch 497/500\n",
            "14/14 [==============================] - 1s 59ms/step - loss: 0.0099 - accuracy: 0.9976\n",
            "Epoch 498/500\n",
            "14/14 [==============================] - 1s 59ms/step - loss: 0.0187 - accuracy: 0.9905\n",
            "Epoch 499/500\n",
            "14/14 [==============================] - 1s 61ms/step - loss: 0.0055 - accuracy: 1.0000\n",
            "Epoch 500/500\n",
            "14/14 [==============================] - 1s 39ms/step - loss: 0.0072 - accuracy: 0.9976\n"
          ]
        }
      ],
      "source": [
        "history = model.fit(X_train, y_train, epochs=500, verbose=1)"
      ]
    },
    {
      "cell_type": "markdown",
      "metadata": {
        "id": "ues5Uz5ZIonL"
      },
      "source": [
        "####**Evaluating the performance**"
      ]
    },
    {
      "cell_type": "code",
      "execution_count": 90,
      "metadata": {
        "colab": {
          "base_uri": "https://localhost:8080/",
          "height": 545
        },
        "id": "9X203acY3NMQ",
        "outputId": "8403b0d4-6493-4be5-84c6-5a7a5923a78c"
      },
      "outputs": [
        {
          "output_type": "stream",
          "name": "stdout",
          "text": [
            "2/2 [==============================] - 0s 27ms/step - loss: 2.4352 - accuracy: 0.7018\n"
          ]
        },
        {
          "output_type": "display_data",
          "data": {
            "text/plain": [
              "<Figure size 1000x600 with 1 Axes>"
            ],
            "image/png": "[encoded data removed]"
          },
          "metadata": {}
        }
      ],
      "source": [
        "model.evaluate(X_test, y_test)\n",
        "\n",
        "pd.DataFrame(history.history).plot(figsize=(10,6))\n",
        "plt.grid(True)\n",
        "plt.gca().set_ylim(0,1)\n",
        "plt.show()"
      ]
    },
    {
      "cell_type": "code",
      "execution_count": 91,
      "metadata": {
        "colab": {
          "base_uri": "https://localhost:8080/",
          "height": 490
        },
        "id": "OAsKkkq64Kg5",
        "outputId": "c9f45403-fe68-4621-a16a-2924bed7bf4a"
      },
      "outputs": [
        {
          "output_type": "stream",
          "name": "stdout",
          "text": [
            "2/2 [==============================] - 0s 13ms/step\n"
          ]
        },
        {
          "output_type": "display_data",
          "data": {
            "text/plain": [
              "<Figure size 640x480 with 2 Axes>"
            ],
            "image/png": "[encoded data removed]"
          },
          "metadata": {}
        },
        {
          "output_type": "stream",
          "name": "stdout",
          "text": [
            "70.17543859649123\n"
          ]
        }
      ],
      "source": [
        "prediction = model.predict(X_test)\n",
        "predicted_labels = [np.argmax(i) for i in prediction]\n",
        "\n",
        "cm = confusion_matrix(y_test, prediction.argmax(axis=1))\n",
        "disp = ConfusionMatrixDisplay(confusion_matrix=cm)\n",
        "disp.plot()\n",
        "plt.show()\n",
        "\n",
        "accuracy = 100*np.trace(cm)/np.sum(cm)\n",
        "print(accuracy)"
      ]
    },
    {
      "cell_type": "code",
      "execution_count": 116,
      "metadata": {
        "colab": {
          "base_uri": "https://localhost:8080/",
          "height": 564
        },
        "id": "D5vf25P_d9NF",
        "outputId": "d5355bee-5de3-4366-bdb2-b33224b7ca5a"
      },
      "outputs": [
        {
          "output_type": "execute_result",
          "data": {
            "text/plain": [
              "Text(45.722222222222214, 0.5, 'True Label')"
            ]
          },
          "metadata": {},
          "execution_count": 116
        },
        {
          "output_type": "display_data",
          "data": {
            "text/plain": [
              "<Figure size 600x600 with 2 Axes>"
            ],
            "image/png": "[encoded data removed]"
          },
          "metadata": {}
        }
      ],
      "source": [
        "# Alternative Code for Displaying Confusion Matrix\n",
        "import seaborn as sn\n",
        "plt.figure(figsize = (6,6))\n",
        "sn.heatmap(cm, annot=True, fmt='d')\n",
        "plt.xlabel('Predicted Label')\n",
        "plt.ylabel('True Label')"
      ]
    }
  ],
  "metadata": {
    "colab": {
      "provenance": [],
      "include_colab_link": true
    },
    "kernelspec": {
      "display_name": "Python 3",
      "name": "python3"
    },
    "language_info": {
      "name": "python"
    }
  },
  "nbformat": 4,
  "nbformat_minor": 0
}