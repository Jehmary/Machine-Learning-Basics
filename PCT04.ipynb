{
  "cells": [
    {
      "cell_type": "markdown",
      "metadata": {
        "id": "view-in-github",
        "colab_type": "text"
      },
      "source": [
        "<a href=\"https://colab.research.google.com/github/Jehmary/Machine-Learning-Basics/blob/main/PCT04.ipynb\" target=\"_parent\"><img src=\"https://colab.research.google.com/assets/colab-badge.svg\" alt=\"Open In Colab\"/></a>"
      ]
    },
    {
      "cell_type": "markdown",
      "metadata": {
        "id": "Cx-xjMmrn9YP"
      },
      "source": [
        "##**Classification of Images of Balls**"
      ]
    },
    {
      "cell_type": "markdown",
      "metadata": {
        "id": "SmmMWPBIoVZ6"
      },
      "source": [
        "####**Importing the Necessary Libraries**"
      ]
    },
    {
      "cell_type": "code",
      "execution_count": 68,
      "metadata": {
        "id": "7B78bGpln72R"
      },
      "outputs": [],
      "source": [
        "import numpy as np\n",
        "import matplotlib.pyplot as plt\n",
        "import pandas as pd\n",
        "\n",
        "import os\n",
        "import cv2 as cv\n",
        "import fnmatch\n",
        "\n",
        "import tensorflow as tf\n",
        "from tensorflow import keras\n",
        "from tensorflow.keras.models import Sequential\n",
        "from tensorflow.keras.layers import Dense, Conv2D, Dropout, Flatten, MaxPooling2D\n",
        "\n",
        "from sklearn import datasets\n",
        "from sklearn.preprocessing import LabelEncoder\n",
        "from sklearn.model_selection import train_test_split\n",
        "from sklearn.metrics import confusion_matrix, ConfusionMatrixDisplay"
      ]
    },
    {
      "cell_type": "markdown",
      "metadata": {
        "id": "_lQlilLLp8mB"
      },
      "source": [
        "####**Importing the Data**"
      ]
    },
    {
      "cell_type": "markdown",
      "metadata": {
        "id": "AnB8laRk2tEH"
      },
      "source": [
        "Mounting Google Drive"
      ]
    },
    {
      "cell_type": "code",
      "execution_count": 2,
      "metadata": {
        "id": "8jX_sF24HXpO",
        "colab": {
          "base_uri": "https://localhost:8080/"
        },
        "outputId": "0f235c01-8165-4f39-98e0-c956a1306b33"
      },
      "outputs": [
        {
          "output_type": "stream",
          "name": "stdout",
          "text": [
            "Mounted at /content/gdrive/\n"
          ]
        }
      ],
      "source": [
        "from google.colab import drive\n",
        "drive.mount('/content/gdrive/', force_remount=True)"
      ]
    },
    {
      "cell_type": "markdown",
      "metadata": {
        "id": "FkR-NLPW2w_2"
      },
      "source": [
        "Redirecting directory to \"Balls\" folder"
      ]
    },
    {
      "cell_type": "code",
      "execution_count": 3,
      "metadata": {
        "colab": {
          "base_uri": "https://localhost:8080/"
        },
        "id": "7SlBkPEUiFnM",
        "outputId": "6b994808-d544-4808-886e-c8964d643e0c"
      },
      "outputs": [
        {
          "output_type": "stream",
          "name": "stdout",
          "text": [
            "/content/gdrive/MyDrive/Colab Notebooks/Book/Balls\n"
          ]
        }
      ],
      "source": [
        "%cd /content/gdrive/MyDrive/'Colab Notebooks'/Book/Balls"
      ]
    },
    {
      "cell_type": "code",
      "execution_count": null,
      "metadata": {
        "id": "LdPecqYB2DEm"
      },
      "outputs": [],
      "source": [
        "%ls"
      ]
    },
    {
      "cell_type": "markdown",
      "metadata": {
        "id": "1UNgvwSpVm6V"
      },
      "source": [
        "Randomizing data by shuffling"
      ]
    },
    {
      "cell_type": "code",
      "execution_count": 5,
      "metadata": {
        "id": "q3-gMdBT6OPv"
      },
      "outputs": [],
      "source": [
        "# Takes the data frames of files from directory\n",
        "unshuffled_data = pd.DataFrame.from_dict(os.listdir())\n",
        "# Shuffles the data with a replicable random state (value of 1)\n",
        "shuffled_data   = unshuffled_data.sample(frac=1, random_state=1).reset_index()\n",
        "# Stores the first column of the data (file names) as list\n",
        "data            = pd.DataFrame(shuffled_data)[0].values.tolist()"
      ]
    },
    {
      "cell_type": "code",
      "execution_count": null,
      "metadata": {
        "id": "pO8G96nQ7alq",
        "colab": {
          "base_uri": "https://localhost:8080/"
        },
        "outputId": "a4c26322-03c4-4035-ec79-ad34790c68f5"
      },
      "outputs": [
        {
          "output_type": "stream",
          "name": "stdout",
          "text": [
            "['bowling19.jpg', 'billiards41.jpg', 'volleyball35.png', 'bowling41.jpg', 'tabletennis28.jpg', 'football23.png', 'tabletennis12.jpg', 'volleyball11.jpg', 'tabletennis34.png', 'basketball29.jpg', 'tabletennis27.jpg', 'tabletennis48.jpg', 'tennis50.jpg', 'billiards29.jpg', 'tennis49.png', 'billiards01.png', 'soccer50.jpg', 'baseball46.jpg', 'football19.jpg', 'tabletennis46.jpg', 'football25.jpg', 'basketball35.jpg', 'volleyball10.jpg', 'bowling04.jpg', 'football24.jpg', 'billiards44.jpg', 'football22.jpg', 'golf04.jpg', 'volleyball17.jpg', 'tabletennis40.png', 'baseball07.jpg', 'baseball36.png', 'billiards32.png', 'baseball30.png', 'tabletennis37.jpg', 'volleyball00.jpg', 'tabletennis09.jpg', 'football26.jpg', 'tabletennis15.jpg', 'football37.png', 'basketball43.jpg', 'basketball25.jpg', 'football39.jpg', 'basketball32.png', 'baseball29.jpg', 'golf20.jpg', 'tennis43.jpg', 'football50.png', 'volleyball37.jpeg', 'volleyball51.png', 'soccer04.jpg', 'tennis02.jpg', 'volleyball38.jpg', 'bowling25.png', 'basketball23.png', 'tabletennis42.jpg', 'football15.jpg', 'billiards30.png', 'basketball45.png', 'golf12.jpg', 'tennis36.png', 'soccer07.jpeg', 'basketball53.jpeg', 'tabletennis07.png', 'billiards14.png', 'basketball44.jpg', 'baseball24.jpg', 'tabletennis47.jpg', 'tennis07.jpeg', 'baseball17.jpg', 'golf10.jpg', 'basketball00.jpg', 'basketball17.jpg', 'billiards37.png', 'soccer30.jpg', 'golf01.jpg', 'baseball42.jpg', 'volleyball41.png', 'basketball36.png', 'volleyball13.jpg', 'bowling38.png', 'football43.jpg', 'basketball48.png', 'bowling05.jpg', 'golf39.png', 'volleyball49.jpg', 'basketball01.jpg', 'golf50.jpg', 'basketball37.png', 'golf37.png', 'golf46.jpg', 'football01.jpg', 'tennis33.jpg', 'billiards27.jpg', 'tabletennis13.jpg', 'tabletennis08.jpeg', 'golf38.png', 'tabletennis02.jpg', 'basketball39.jpg', 'billiards06.jpg', 'soccer53.jpeg', 'billiards46.png', 'golf28.png', 'volleyball54.png', 'baseball13.jpg', 'tennis01.jpg', 'tennis44.jpg', 'football00.jpg', 'soccer14.jpg', 'golf52.jpg', 'bowling15.png', 'bowling51.jpeg', 'tabletennis26.jpg', 'football27.jpg', 'tabletennis50.jpg', 'golf27.jpg', 'soccer39.png', 'tabletennis45.jpg', 'tennis47.jpg', 'tabletennis52.png', 'baseball23.png', 'soccer41.jpg', 'volleyball46.jpg', 'baseball00.jpg', 'basketball21.jpg', 'bowling10.jpg', 'tennis46.jpg', 'bowling32.png', 'basketball16.png', 'soccer32.jpg', 'baseball26.jpg', 'billiards28.jpg', 'football46.jpg', 'basketball47.png', 'basketball02.png', 'billiards03.jpeg', 'tennis29.jpg', 'tennis48.png', 'football09.png', 'baseball49.jpg', 'soccer29.jpg', 'tennis18.png', 'bowling20.jpg', 'bowling18.webp', 'tabletennis24.jpg', 'volleyball45.png', 'football33.jpg', 'volleyball03.jpg', 'golf00.jpg', 'soccer17.jpg', 'baseball48.png', 'billiards36.png', 'bowling35.jpg', 'basketball51.jpeg', 'baseball52.jpeg', 'soccer24.jpg', 'baseball10.jpg', 'football04.jpg', 'soccer20.png', 'golf17.jpg', 'golf49.png', 'tennis15.jpg', 'tabletennis41.jpg', 'baseball28.jpg', 'volleyball52.png', 'baseball27.jpg', 'volleyball36.jpg', 'volleyball23.png', 'golf51.jpg', 'tabletennis54.jpeg', 'basketball14.png', 'billiards18.webp', 'golf23.png', 'tabletennis35.jpg', 'bowling24.jpg', 'golf47.jpg', 'soccer52.jpeg', 'volleyball30.jpg', 'golf18.jpg', 'soccer10.jpg', 'football41.jpg', 'soccer02.jpeg', 'tabletennis17.jpg', 'bowling01.jpg', 'golf09.png', 'tennis38.png', 'bowling33.jpg', 'billiards05.jpg', 'golf40.png', 'tennis09.jpg', 'volleyball55.jpeg', 'football05.jpg', 'billiards11.jpg', 'volleyball29.jpg', 'billiards47.png', 'basketball41.jpg', 'tabletennis51.jpg', 'volleyball34.png', 'volleyball39.png', 'golf05.png', 'tabletennis11.jpg', 'baseball11.jpg', 'baseball01.jpg', 'tennis05.jpg', 'baseball04.jpg', 'basketball12.jpg', 'basketball49.png', 'volleyball07.jpg', 'soccer22.png', 'basketball30.png', 'tennis25.jpg', 'volleyball16.jpg', 'golf19.jpg', 'tennis08.jpg', 'football28.jpg', 'tabletennis14.jpg', 'billiards04.jpg', 'tabletennis29.jpg', 'tennis24.jpg', 'billiards50.png', 'soccer12.jpg', 'golf31.png', 'billiards53.png', 'football45.jpg', 'billiards21.png', 'bowling31.png', 'golf07.jpeg', 'tennis14.jpg', 'bowling00.jpg', 'billiards48.jpg', 'bowling50.png', 'football35.jpg', 'basketball28.jpg', 'billiards51.jpeg', 'golf36.jpg', 'billiards19.jpg', 'soccer38.png', 'volleyball22.png', 'football21.png', 'basketball38.png', 'basketball31.png', 'tennis40.jpg', 'bowling44.jpg', 'tabletennis03.jpg', 'bowling02.jpg', 'volleyball48.jpg', 'volleyball20.png', 'football49.png', 'bowling53.jpeg', 'volleyball19.png', 'basketball11.jpg', 'soccer45.jpg', 'tennis10.jpg', 'soccer11.jpg', 'soccer19.png', 'tabletennis55.jpeg', 'tennis19.png', 'football16.jpg', 'basketball15.jpg', 'basketball08.jpeg', 'billiards39.png', 'baseball18.jpg', 'basketball24.jpg', 'soccer42.jpg', 'billiards17.jpg', 'bowling52.jpeg', 'soccer48.jpg', 'volleyball43.png', 'volleyball27.jpg', 'baseball45.jpg', 'baseball38.png', 'bowling30.png', 'golf13.png', 'basketball34.jpg', 'tabletennis16.jpg', 'soccer16.jpg', 'tabletennis43.jpg', 'volleyball18.png', 'baseball22.png', 'bowling14.png', 'golf33.png', 'soccer51.jpeg', 'baseball43.jpg', 'volleyball50.jpg', 'golf42.jpg', 'bowling42.jpg', 'soccer35.jpg', 'volleyball56.jpeg', 'bowling36.png', 'soccer18.png', 'golf44.jpg', 'football40.jpg', 'volleyball26.jpg', 'soccer43.jpg', 'tabletennis49.jpg', 'baseball39.png', 'volleyball25.jpg', 'bowling17.jpg', 'golf03.jpg', 'billiards42.jpg', 'bowling07.jpeg', 'volleyball24.jpg', 'tennis53.jpeg', 'football53.jpeg', 'baseball20.jpg', 'billiards26.jpg', 'soccer06.jpg', 'billiards20.jpg', 'basketball27.jpg', 'football02.jpg', 'basketball52.jpeg', 'baseball16.jpg', 'baseball33.jpg', 'tennis23.png', 'basketball18.jpg', 'tennis16.jpg', 'volleyball14.png', 'basketball07.jpeg', 'baseball12.jpg', 'billiards00.jpg', 'tennis03.jpg', 'football18.jpg', 'golf48.jpg', 'golf43.jpg', 'tabletennis25.jpg', 'tennis00.jpg', 'volleyball02.jpg', 'baseball44.jpg', 'bowling09.jpeg', 'basketball20.jpg', 'basketball50.png', 'golf45.jpg', 'tennis32.png', 'baseball08.jpeg', 'soccer44.jpg', 'billiards40.jpg', 'baseball06.png', 'basketball04.jpg', 'billiards34.jpg', 'soccer08.jpg', 'basketball42.jpg', 'football32.png', 'baseball35.jpg', 'tennis28.jpg', 'baseball53.jpeg', 'tabletennis36.jpg', 'football03.jpg', 'football31.png', 'tabletennis22.png', 'soccer25.jpg', 'football48.png', 'tennis04.jpg', 'soccer00.jpg', 'bowling26.png', 'baseball31.png', 'baseball32.png', 'soccer21.png', 'baseball15.jpg', 'soccer03.jpg', 'bowling23.png', 'billiards22.png', 'volleyball12.jpg', 'soccer33.png', 'football12.jpg', 'volleyball21.png', 'tabletennis53.jpeg', 'billiards45.png', 'football38.png', 'volleyball28.jpg', 'golf26.jpg', 'football07.jpg', 'golf32.png', 'bowling49.png', 'tennis41.jpg', 'tennis39.jpg', 'soccer36.jpg', 'basketball22.png', 'golf16.jpg', 'football10.jpg', 'football06.jpg', 'golf11.jpg', 'soccer49.png', 'tennis17.jpg', 'bowling46.jpg', 'bowling08.jpeg', 'tabletennis23.png', 'billiards31.png', 'tabletennis18.png', 'soccer23.png', 'bowling40.jpg', 'tennis34.jpg', 'bowling21.png', 'football44.jpg', 'soccer34.jpg', 'billiards16.jpg', 'soccer26.jpg', 'tennis12.jpg', 'tennis35.jpg', 'football47.jpg', 'golf35.jpg', 'soccer40.jpg', 'golf08.png', 'billiards10.jpg', 'tennis20.png', 'basketball13.png', 'football14.png', 'golf22.png', 'golf15.png', 'soccer37.png', 'baseball47.jpg', 'golf34.jpg', 'tabletennis38.png', 'golf53.jpeg', 'billiards02.jpeg', 'tabletennis04.jpg', 'billiards12.jpg', 'tennis22.png', 'soccer27.jpg', 'football08.jpg', 'football30.png', 'bowling48.png', 'baseball37.png', 'basketball05.jpg', 'bowling45.jpg', 'golf02.jpg', 'soccer47.png', 'billiards35.png', 'billiards08.jpg', 'golf21.png', 'volleyball15.jpg', 'tabletennis31.jpg', 'billiards23.png', 'football13.png', 'soccer46.png', 'baseball02.png', 'basketball09.jpeg', 'golf30.jpg', 'billiards24.jpg', 'tennis37.png', 'baseball25.jpg', 'billiards33.jpeg', 'bowling37.png', 'tabletennis32.png', 'bowling22.png', 'golf14.png', 'football51.jpeg', 'volleyball42.jpg', 'tennis31.png', 'baseball21.png', 'billiards07.jpg', 'football34.jpg', 'golf29.jpg', 'billiards52.jpeg', 'basketball10.jpg', 'soccer28.jpg', 'billiards15.png', 'golf54.jpeg', 'volleyball31.jpg', 'volleyball44.jpg', 'volleyball01.jpg', 'baseball14.jpg', 'football20.jpg', 'tennis13.jpg', 'tennis45.jpg', 'billiards49.png', 'basketball19.jpg', 'basketball33.jpg', 'tabletennis39.png', 'football29.png', 'tabletennis10.jpg', 'tabletennis19.png', 'volleyball32.jpg', 'soccer01.jpg', 'bowling11.jpg', 'baseball19.jpg', 'bowling28.jpg', 'baseball41.jpg', 'volleyball47.jpg', 'tennis26.jpg', 'billiards38.png', 'tabletennis00.jpg', 'tabletennis20.png', 'soccer09.png', 'bowling03.jpg', 'tabletennis44.jpg', 'tennis06.png', 'football36.png', 'bowling12.jpg', 'bowling34.jpg', 'tabletennis33.png', 'tabletennis01.jpg', 'billiards09.jpg', 'bowling06.jpg', 'bowling27.jpg', 'billiards43.jpg', 'baseball03.jpg', 'tennis51.jpeg', 'baseball09.jpeg', 'golf41.jpg', 'bowling43.jpg', 'volleyball40.png', 'volleyball09.jpg', 'baseball05.jpg', 'football42.jpg', 'football17.jpg', 'baseball51.jpeg', 'baseball50.jpg', 'football11.jpg', 'football52.jpeg', 'golf25.jpg', 'tabletennis30.jpeg', 'tennis21.png', 'volleyball33.png', 'tennis52.jpeg', 'soccer31.jpg', 'tennis30.png', 'basketball03.png', 'basketball40.jpg', 'billiards13.png', 'soccer13.jpg', 'basketball46.png', 'bowling47.jpg', 'golf24.jpg', 'bowling39.jpg', 'soccer48.png', 'billiards25.jpg', 'tennis42.jpg', 'baseball34.jpg', 'basketball26.jpg', 'soccer05.jpg', 'tabletennis21.png', 'bowling29.jpg', 'baseball40.jpg', 'volleyball53.png', 'tennis11.jpg', 'bowling13.png', 'volleyball08.png', 'tennis27.jpg', 'basketball06.jpg']\n"
          ]
        }
      ],
      "source": [
        "print(data)"
      ]
    },
    {
      "cell_type": "markdown",
      "metadata": {
        "id": "2HS8md9524pp"
      },
      "source": [
        "Reading image files and excluding those not rescaled to 28x28\n",
        "\n"
      ]
    },
    {
      "cell_type": "code",
      "execution_count": 6,
      "metadata": {
        "colab": {
          "base_uri": "https://localhost:8080/"
        },
        "id": "6tBaNCETIkyo",
        "outputId": "63819f2e-7aa0-4606-dd09-bc0ced5d7574"
      },
      "outputs": [
        {
          "output_type": "stream",
          "name": "stdout",
          "text": [
            "44 images were not rescaled to 28x28 and are now excluded.\n"
          ]
        }
      ],
      "source": [
        "m = 0\n",
        "list_files = []\n",
        "# Reading files as images and excluding images not rescaled to 28x28x3\n",
        "for file in data:\n",
        "  image = cv.imread(file)\n",
        "  if image.shape == (28,28,3):\n",
        "    list_files.append(image)\n",
        "  else:\n",
        "    m += 1\n",
        "print(str(m) + ' images were not rescaled to 28x28 and are now excluded.')\n",
        "# This code can read WEBP files"
      ]
    },
    {
      "cell_type": "markdown",
      "metadata": {
        "id": "ZV51Ch4J3Yoi"
      },
      "source": [
        "Verifying shape of image file and number of samples"
      ]
    },
    {
      "cell_type": "code",
      "execution_count": 7,
      "metadata": {
        "colab": {
          "base_uri": "https://localhost:8080/"
        },
        "id": "4fjXYcqz2NVl",
        "outputId": "94fb8b3d-adc7-42b8-8147-50e0db3a1bef"
      },
      "outputs": [
        {
          "output_type": "stream",
          "name": "stdout",
          "text": [
            "(28, 28, 3)\n",
            "495\n"
          ]
        }
      ],
      "source": [
        "# Shape of each image file\n",
        "print(list_files[0].shape)\n",
        "# Number of samples\n",
        "print(len(list_files))"
      ]
    },
    {
      "cell_type": "markdown",
      "metadata": {
        "id": "bGqJrJbWmjJz"
      },
      "source": [
        "Data and plot of first image"
      ]
    },
    {
      "cell_type": "code",
      "execution_count": 8,
      "metadata": {
        "colab": {
          "base_uri": "https://localhost:8080/",
          "height": 1000
        },
        "id": "9_Qh5I7iqZ_h",
        "outputId": "c9052e86-2da1-4c68-ba61-917146ffde8f"
      },
      "outputs": [
        {
          "output_type": "stream",
          "name": "stdout",
          "text": [
            "[[[255 255 255]\n",
            "  [255 255 255]\n",
            "  [255 255 254]\n",
            "  ...\n",
            "  [255 255 255]\n",
            "  [255 255 255]\n",
            "  [255 255 255]]\n",
            "\n",
            " [[255 255 255]\n",
            "  [255 255 255]\n",
            "  [255 255 255]\n",
            "  ...\n",
            "  [255 255 255]\n",
            "  [255 255 255]\n",
            "  [255 255 255]]\n",
            "\n",
            " [[255 255 255]\n",
            "  [255 255 255]\n",
            "  [255 255 255]\n",
            "  ...\n",
            "  [255 255 255]\n",
            "  [255 255 255]\n",
            "  [255 255 255]]\n",
            "\n",
            " ...\n",
            "\n",
            " [[255 255 255]\n",
            "  [255 255 255]\n",
            "  [254 254 254]\n",
            "  ...\n",
            "  [254 254 254]\n",
            "  [255 255 255]\n",
            "  [255 255 255]]\n",
            "\n",
            " [[255 255 255]\n",
            "  [255 255 255]\n",
            "  [255 255 255]\n",
            "  ...\n",
            "  [255 255 255]\n",
            "  [255 255 255]\n",
            "  [255 255 255]]\n",
            "\n",
            " [[255 255 255]\n",
            "  [255 255 255]\n",
            "  [255 255 255]\n",
            "  ...\n",
            "  [255 255 255]\n",
            "  [255 255 255]\n",
            "  [255 255 255]]]\n"
          ]
        },
        {
          "output_type": "execute_result",
          "data": {
            "text/plain": [
              "<matplotlib.image.AxesImage at 0x7ff8c06475b0>"
            ]
          },
          "metadata": {},
          "execution_count": 8
        },
        {
          "output_type": "display_data",
          "data": {
            "text/plain": [
              "<Figure size 480x480 with 1 Axes>"
            ],
            "image/png": "[encoded data removed]"
          },
          "metadata": {}
        }
      ],
      "source": [
        "# Data of first image\n",
        "print(list_files[0])\n",
        "# Plot of first image\n",
        "plt.matshow(list_files[0])"
      ]
    },
    {
      "cell_type": "markdown",
      "metadata": {
        "id": "lfsbYtWOmsWm"
      },
      "source": [
        "Flattening the data"
      ]
    },
    {
      "cell_type": "code",
      "execution_count": 9,
      "metadata": {
        "colab": {
          "base_uri": "https://localhost:8080/"
        },
        "id": "BnrRYYClR_Gi",
        "outputId": "a9abfb61-9482-4a12-8c7d-a9cb76dafb48"
      },
      "outputs": [
        {
          "output_type": "stream",
          "name": "stdout",
          "text": [
            "(495, 28, 28, 3)\n"
          ]
        },
        {
          "output_type": "stream",
          "name": "stderr",
          "text": [
            "/usr/local/lib/python3.10/dist-packages/IPython/core/interactiveshell.py:3473: FutureWarning: arrays to stack must be passed as a \"sequence\" type such as list or tuple. Support for non-sequence iterables such as generators is deprecated as of NumPy 1.16 and will raise an error in the future.\n",
            "  if (await self.run_code(code, result,  async_=asy)):\n"
          ]
        }
      ],
      "source": [
        "# Flattening the data into a 4D list\n",
        "flat_files = np.stack((list_files[i] for i in range(len(list_files))))\n",
        "print(flat_files.shape)\n",
        "# This serves as the X values"
      ]
    },
    {
      "cell_type": "markdown",
      "metadata": {
        "id": "Njsw1qRjWKwf"
      },
      "source": [
        "####**Adding labels to data sets**"
      ]
    },
    {
      "cell_type": "markdown",
      "source": [
        "Matching name of file to a label"
      ],
      "metadata": {
        "id": "gJfQZVxYzQWg"
      }
    },
    {
      "cell_type": "code",
      "execution_count": 11,
      "metadata": {
        "colab": {
          "base_uri": "https://localhost:8080/"
        },
        "id": "N_Af0cv_WQD0",
        "outputId": "4f4228ec-7823-4ad6-b030-442f6b9bde36"
      },
      "outputs": [
        {
          "output_type": "stream",
          "name": "stdout",
          "text": [
            "(495,)\n",
            "[3 2 9 3 7 4 7 9 7 1 7 7 8 2 8 2 6 0 4 7 4 1 9 4 2 4 5 9 7 0 0 2 0 7 9 7 4\n",
            " 7 4 1 1 4 1 0 5 8 4 9 9 6 8 3 1 7 4 2 1 5 8 6 1 7 2 1 0 7 8 0 5 1 1 2 6 5\n",
            " 0 9 1 9 3 4 1 5 9 1 5 1 5 5 4 8 2 7 7 5 7 1 6 2 5 9 0 8 8 4 6 5 3 3 4 7 5\n",
            " 6 7 8 7 0 6 9 0 1 3 8 3 1 6 0 2 1 1 2 8 8 4 0 6 8 3 3 9 9 5 6 0 2 3 1 0 0\n",
            " 6 5 5 8 7 0 9 0 9 5 7 1 2 5 7 3 5 6 9 5 6 4 6 7 3 5 8 5 8 9 4 2 9 2 1 7 9\n",
            " 9 5 7 0 0 8 0 1 1 9 6 1 9 5 8 4 7 7 2 6 5 2 4 2 3 5 8 3 2 3 1 2 5 2 6 9 4\n",
            " 1 1 8 3 7 3 9 9 4 3 9 1 6 8 6 6 7 8 4 1 1 2 0 1 6 2 3 6 9 9 0 3 5 1 7 6 7\n",
            " 9 0 3 5 6 0 9 5 3 9 3 6 5 4 6 7 0 3 5 2 3 8 4 0 2 6 2 1 1 0 0 8 1 8 9 1 0\n",
            " 2 8 4 5 8 9 0 3 1 1 5 8 0 6 2 0 6 1 4 8 0 7 4 7 4 8 6 3 0 0 6 0 6 3 2 9 6\n",
            " 4 9 7 2 4 9 4 5 3 8 8 6 1 5 4 4 5 6 8 3 3 7 2 7 6 3 8 3 4 6 2 8 4 5 6 5 2\n",
            " 8 1 4 5 5 6 0 5 7 5 2 7 2 8 6 4 4 3 0 3 5 2 5 9 7 2 4 6 0 1 5 2 8 0 2 3 7\n",
            " 3 5 4 9 8 0 2 5 2 1 6 2 5 9 9 9 0 4 8 8 2 1 7 4 7 7 9 6 3 0 3 0 9 2 7 7 6\n",
            " 3 7 8 4 3 3 7 7 2 3 2 0 8 0 5 3 9 9 0 4 4 0 0 4 4 7 8 9 8 6 8 1 1 2 6 1 3\n",
            " 3 6 2 8 1 6 7 3 0 9 8 3 9 8]\n"
          ]
        }
      ],
      "source": [
        "# matching name of file to accounted file names for labelling using numbers\n",
        "baseballXX    = 'baseball*'     #0\n",
        "basketballXX  = 'basketball*'   #1\n",
        "billiardsXX   = 'billiards*'    #2\n",
        "bowlingXX     = 'bowling*'      #3\n",
        "footballXX    = 'football*'     #4\n",
        "golfXX        = 'golf*'         #5\n",
        "soccerXX      = 'soccer*'       #6\n",
        "tabletennisXX = 'tabletennis*'  #7\n",
        "tennisXX      = 'tennis*'       #8\n",
        "volleyballXX  = 'volleyball*'   #9\n",
        "label         = []\n",
        "for filename in data:\n",
        "  image = cv.imread(filename)\n",
        "  if image.shape == (28,28,3):\n",
        "    if fnmatch.fnmatch(filename, baseballXX) == True:\n",
        "      label.append(0)\n",
        "    elif fnmatch.fnmatch(filename, basketballXX) == True:\n",
        "      label.append(1)\n",
        "    elif fnmatch.fnmatch(filename, billiardsXX) == True:\n",
        "      label.append(2)\n",
        "    elif fnmatch.fnmatch(filename, bowlingXX) == True:\n",
        "      label.append(3)\n",
        "    elif fnmatch.fnmatch(filename, footballXX) == True:\n",
        "      label.append(4)\n",
        "    elif fnmatch.fnmatch(filename, golfXX) == True:\n",
        "      label.append(5)\n",
        "    elif fnmatch.fnmatch(filename, soccerXX) == True:\n",
        "      label.append(6)\n",
        "    elif fnmatch.fnmatch(filename, tabletennisXX) == True:\n",
        "      label.append(7)\n",
        "    elif fnmatch.fnmatch(filename, tennisXX) == True:\n",
        "      label.append(8)\n",
        "    elif fnmatch.fnmatch(filename, volleyballXX) == True:\n",
        "      label.append(9)\n",
        "    else:\n",
        "      print(filename + ' is not accounted.')\n",
        "\n",
        "label = np.reshape(label, (len(label),))\n",
        "print(label.shape)\n",
        "print(label)\n",
        "# This serves as the Y values"
      ]
    },
    {
      "cell_type": "markdown",
      "source": [
        "Verifying number of samples per category"
      ],
      "metadata": {
        "id": "ERDxcNgFzXFo"
      }
    },
    {
      "cell_type": "code",
      "source": [
        "# Count instances of each category in the list\n",
        "print('Baseball: ' + str(pd.Series(label).value_counts()[0]) + '\\nBasketball: ' + str(pd.Series(label).value_counts()[1]) +\n",
        "'\\nBilliards: ' + str(pd.Series(label).value_counts()[2]) + '\\nBowling: ' + str(pd.Series(label).value_counts()[3]) + \n",
        "'\\nFootball: ' + str(pd.Series(label).value_counts()[4]) + '\\nGolf: ' + str(pd.Series(label).value_counts()[5]) + \n",
        "'\\nSoccer: ' + str(pd.Series(label).value_counts()[6]) + '\\nTabletennis: ' + str(pd.Series(label).value_counts()[7]) + \n",
        "'\\nTennis: ' + str(pd.Series(label).value_counts()[8]) + '\\nVolleyball: ' + str(pd.Series(label).value_counts()[9]))"
      ],
      "metadata": {
        "colab": {
          "base_uri": "https://localhost:8080/"
        },
        "id": "kam484BhwiHA",
        "outputId": "1720c5ed-fe45-4bea-85f1-cb3cae06ab33"
      },
      "execution_count": 22,
      "outputs": [
        {
          "output_type": "stream",
          "name": "stdout",
          "text": [
            "Baseball: 51\n",
            "Basketball: 50\n",
            "Billiards: 49\n",
            "Bowling: 49\n",
            "Football: 47\n",
            "Golf: 50\n",
            "Soccer: 49\n",
            "Tabletennis: 51\n",
            "Tennis: 50\n",
            "Volleyball: 49\n"
          ]
        }
      ]
    },
    {
      "cell_type": "markdown",
      "metadata": {
        "id": "PNgaG30Fm_IR"
      },
      "source": [
        "####**Defining training data and testing data sets**"
      ]
    },
    {
      "cell_type": "markdown",
      "metadata": {
        "id": "cXky_ZitimuG"
      },
      "source": [
        "Allocating 80% of the data for training, 10% for validating, and 10% for testing."
      ]
    },
    {
      "cell_type": "code",
      "execution_count": 117,
      "metadata": {
        "id": "z4WXambYm0Ya"
      },
      "outputs": [],
      "source": [
        "trainRatio = 80/100\n",
        "valRatio = 15/100\n",
        "testRatio = 5/100\n",
        "\n",
        "X_train, X_test, y_train, y_test = train_test_split(flat_files, label, test_size = 1 - trainRatio)\n",
        "X_val, X_test, y_val, y_test = train_test_split(X_test, y_test, test_size = testRatio/(testRatio + valRatio))"
      ]
    },
    {
      "cell_type": "markdown",
      "metadata": {
        "id": "AKCTYpTN0Iq8"
      },
      "source": [
        "#####**Preparing the Data**"
      ]
    },
    {
      "cell_type": "markdown",
      "metadata": {
        "id": "9zd626NOWOX0"
      },
      "source": [
        "Rescaling the data to improve the accuracy"
      ]
    },
    {
      "cell_type": "code",
      "execution_count": 118,
      "metadata": {
        "id": "8InBA0lLWTeI"
      },
      "outputs": [],
      "source": [
        "X_train = X_train/255\n",
        "X_test = X_test/255\n",
        "X_val = X_val/255"
      ]
    },
    {
      "cell_type": "markdown",
      "metadata": {
        "id": "HO9R5whDnAn6"
      },
      "source": [
        "Shapes of the data sets"
      ]
    },
    {
      "cell_type": "code",
      "execution_count": 119,
      "metadata": {
        "colab": {
          "base_uri": "https://localhost:8080/"
        },
        "id": "LS8tjK8rvTdg",
        "outputId": "c158c6b4-7278-43c0-d333-34515df63b60"
      },
      "outputs": [
        {
          "output_type": "stream",
          "name": "stdout",
          "text": [
            "(396, 28, 28, 3)\n",
            "(25, 28, 28, 3)\n",
            "(74, 28, 28, 3)\n"
          ]
        }
      ],
      "source": [
        "print(X_train.shape)\n",
        "print(X_test.shape)\n",
        "print(X_val.shape)"
      ]
    },
    {
      "cell_type": "markdown",
      "metadata": {
        "id": "Gh4vWGP81zPu"
      },
      "source": [
        "####**Defining the model**"
      ]
    },
    {
      "cell_type": "code",
      "execution_count": 121,
      "metadata": {
        "colab": {
          "base_uri": "https://localhost:8080/"
        },
        "id": "kJ5wnjnx1m49",
        "outputId": "a2b21222-7320-4441-e08a-e6cca5814500"
      },
      "outputs": [
        {
          "output_type": "stream",
          "name": "stdout",
          "text": [
            "Model: \"sequential_21\"\n",
            "_________________________________________________________________\n",
            " Layer (type)                Output Shape              Param #   \n",
            "=================================================================\n",
            " conv2d_42 (Conv2D)          (None, 26, 26, 32)        896       \n",
            "                                                                 \n",
            " max_pooling2d_42 (MaxPoolin  (None, 13, 13, 32)       0         \n",
            " g2D)                                                            \n",
            "                                                                 \n",
            " dropout_85 (Dropout)        (None, 13, 13, 32)        0         \n",
            "                                                                 \n",
            " conv2d_43 (Conv2D)          (None, 11, 11, 256)       73984     \n",
            "                                                                 \n",
            " max_pooling2d_43 (MaxPoolin  (None, 5, 5, 256)        0         \n",
            " g2D)                                                            \n",
            "                                                                 \n",
            " dropout_86 (Dropout)        (None, 5, 5, 256)         0         \n",
            "                                                                 \n",
            " flatten_21 (Flatten)        (None, 6400)              0         \n",
            "                                                                 \n",
            " dropout_87 (Dropout)        (None, 6400)              0         \n",
            "                                                                 \n",
            " dense_42 (Dense)            (None, 70)                448070    \n",
            "                                                                 \n",
            " dropout_88 (Dropout)        (None, 70)                0         \n",
            "                                                                 \n",
            " dense_43 (Dense)            (None, 10)                710       \n",
            "                                                                 \n",
            "=================================================================\n",
            "Total params: 523,660\n",
            "Trainable params: 523,660\n",
            "Non-trainable params: 0\n",
            "_________________________________________________________________\n"
          ]
        }
      ],
      "source": [
        "model = tf.keras.models.Sequential([\n",
        "    tf.keras.layers.Conv2D(32, (3,3), activation='relu', input_shape=(28,28,3)),\n",
        "    tf.keras.layers.MaxPooling2D(2,2),\n",
        "    tf.keras.layers.Dropout(0.5),\n",
        "    tf.keras.layers.Conv2D(256, (3,3), activation='relu'),\n",
        "    tf.keras.layers.MaxPooling2D(2,2),\n",
        "    tf.keras.layers.Dropout(0.5),\n",
        "    tf.keras.layers.Flatten(),\n",
        "    tf.keras.layers.Dropout(0.5),\n",
        "    tf.keras.layers.Dense(70, activation='relu'),\n",
        "    tf.keras.layers.Dropout(0.5),\n",
        "    tf.keras.layers.Dense(10, activation='softmax'),\n",
        "])\n",
        "\n",
        "model.summary()"
      ]
    },
    {
      "cell_type": "markdown",
      "metadata": {
        "id": "IMvzfBfn2wJ-"
      },
      "source": [
        "####**Compiling the model**"
      ]
    },
    {
      "cell_type": "markdown",
      "metadata": {
        "id": "skAL6go4jeFD"
      },
      "source": [
        "Using Adam as optimization function with a learning rate of 0.001."
      ]
    },
    {
      "cell_type": "code",
      "execution_count": 122,
      "metadata": {
        "id": "d1DQ29J72mmB"
      },
      "outputs": [],
      "source": [
        "epochs        = 500\n",
        "learning_rate = 0.0008\n",
        "opt = keras.optimizers.Adam(learning_rate=learning_rate)\n",
        "model.compile(optimizer = opt,\n",
        "              loss = tf.keras.losses.SparseCategoricalCrossentropy(),\n",
        "              metrics=['accuracy'])"
      ]
    },
    {
      "cell_type": "markdown",
      "metadata": {
        "id": "2R3Vp3Gt2-4L"
      },
      "source": [
        "####**Training the model**"
      ]
    },
    {
      "cell_type": "code",
      "execution_count": 123,
      "metadata": {
        "colab": {
          "base_uri": "https://localhost:8080/"
        },
        "id": "PguRokJt29-a",
        "outputId": "857430fe-cf02-4759-9f6f-7cd331b02576"
      },
      "outputs": [
        {
          "output_type": "stream",
          "name": "stdout",
          "text": [
            "Epoch 1/500\n",
            "13/13 [==============================] - 3s 149ms/step - loss: 2.4053 - accuracy: 0.1035 - val_loss: 2.3031 - val_accuracy: 0.1081\n",
            "Epoch 2/500\n",
            "13/13 [==============================] - 1s 80ms/step - loss: 2.3030 - accuracy: 0.1439 - val_loss: 2.2883 - val_accuracy: 0.1216\n",
            "Epoch 3/500\n",
            "13/13 [==============================] - 1s 77ms/step - loss: 2.2776 - accuracy: 0.1364 - val_loss: 2.2782 - val_accuracy: 0.1351\n",
            "Epoch 4/500\n",
            "13/13 [==============================] - 1s 75ms/step - loss: 2.2293 - accuracy: 0.1692 - val_loss: 2.2349 - val_accuracy: 0.2703\n",
            "Epoch 5/500\n",
            "13/13 [==============================] - 1s 77ms/step - loss: 2.1821 - accuracy: 0.2146 - val_loss: 2.1766 - val_accuracy: 0.1622\n",
            "Epoch 6/500\n",
            "13/13 [==============================] - 1s 73ms/step - loss: 2.1448 - accuracy: 0.1995 - val_loss: 2.1458 - val_accuracy: 0.3378\n",
            "Epoch 7/500\n",
            "13/13 [==============================] - 1s 75ms/step - loss: 2.0771 - accuracy: 0.2247 - val_loss: 2.0795 - val_accuracy: 0.3378\n",
            "Epoch 8/500\n",
            "13/13 [==============================] - 1s 77ms/step - loss: 2.0468 - accuracy: 0.2576 - val_loss: 2.0360 - val_accuracy: 0.3378\n",
            "Epoch 9/500\n",
            "13/13 [==============================] - 1s 76ms/step - loss: 1.9637 - accuracy: 0.3182 - val_loss: 1.9286 - val_accuracy: 0.3243\n",
            "Epoch 10/500\n",
            "13/13 [==============================] - 1s 75ms/step - loss: 1.9032 - accuracy: 0.2778 - val_loss: 1.7728 - val_accuracy: 0.5000\n",
            "Epoch 11/500\n",
            "13/13 [==============================] - 1s 76ms/step - loss: 1.8715 - accuracy: 0.3409 - val_loss: 1.7862 - val_accuracy: 0.3243\n",
            "Epoch 12/500\n",
            "13/13 [==============================] - 2s 121ms/step - loss: 1.8294 - accuracy: 0.3485 - val_loss: 1.6569 - val_accuracy: 0.4054\n",
            "Epoch 13/500\n",
            "13/13 [==============================] - 2s 138ms/step - loss: 1.7119 - accuracy: 0.4091 - val_loss: 1.5980 - val_accuracy: 0.4324\n",
            "Epoch 14/500\n",
            "13/13 [==============================] - 1s 113ms/step - loss: 1.6161 - accuracy: 0.4495 - val_loss: 1.4557 - val_accuracy: 0.5270\n",
            "Epoch 15/500\n",
            "13/13 [==============================] - 1s 74ms/step - loss: 1.6753 - accuracy: 0.4571 - val_loss: 1.3742 - val_accuracy: 0.5811\n",
            "Epoch 16/500\n",
            "13/13 [==============================] - 1s 73ms/step - loss: 1.5618 - accuracy: 0.4924 - val_loss: 1.3440 - val_accuracy: 0.6486\n",
            "Epoch 17/500\n",
            "13/13 [==============================] - 1s 73ms/step - loss: 1.5347 - accuracy: 0.5227 - val_loss: 1.3099 - val_accuracy: 0.6216\n",
            "Epoch 18/500\n",
            "13/13 [==============================] - 1s 74ms/step - loss: 1.4832 - accuracy: 0.5253 - val_loss: 1.2741 - val_accuracy: 0.5946\n",
            "Epoch 19/500\n",
            "13/13 [==============================] - 1s 74ms/step - loss: 1.4323 - accuracy: 0.5000 - val_loss: 1.1901 - val_accuracy: 0.6757\n",
            "Epoch 20/500\n",
            "13/13 [==============================] - 1s 74ms/step - loss: 1.4218 - accuracy: 0.5278 - val_loss: 1.1909 - val_accuracy: 0.6486\n",
            "Epoch 21/500\n",
            "13/13 [==============================] - 1s 75ms/step - loss: 1.3629 - accuracy: 0.5278 - val_loss: 1.1092 - val_accuracy: 0.7568\n",
            "Epoch 22/500\n",
            "13/13 [==============================] - 1s 75ms/step - loss: 1.2955 - accuracy: 0.5606 - val_loss: 1.1572 - val_accuracy: 0.6081\n",
            "Epoch 23/500\n",
            "13/13 [==============================] - 1s 74ms/step - loss: 1.3141 - accuracy: 0.5581 - val_loss: 1.0986 - val_accuracy: 0.7432\n",
            "Epoch 24/500\n",
            "13/13 [==============================] - 1s 74ms/step - loss: 1.2267 - accuracy: 0.6061 - val_loss: 1.1029 - val_accuracy: 0.6486\n",
            "Epoch 25/500\n",
            "13/13 [==============================] - 2s 136ms/step - loss: 1.2156 - accuracy: 0.5631 - val_loss: 1.0341 - val_accuracy: 0.7703\n",
            "Epoch 26/500\n",
            "13/13 [==============================] - 2s 132ms/step - loss: 1.2448 - accuracy: 0.6061 - val_loss: 1.0341 - val_accuracy: 0.7432\n",
            "Epoch 27/500\n",
            "13/13 [==============================] - 1s 103ms/step - loss: 1.2615 - accuracy: 0.5783 - val_loss: 1.0768 - val_accuracy: 0.6486\n",
            "Epoch 28/500\n",
            "13/13 [==============================] - 1s 76ms/step - loss: 1.1608 - accuracy: 0.6212 - val_loss: 1.0446 - val_accuracy: 0.7432\n",
            "Epoch 29/500\n",
            "13/13 [==============================] - 1s 76ms/step - loss: 1.2328 - accuracy: 0.6010 - val_loss: 1.0514 - val_accuracy: 0.6622\n",
            "Epoch 30/500\n",
            "13/13 [==============================] - 1s 77ms/step - loss: 1.1668 - accuracy: 0.6288 - val_loss: 1.0122 - val_accuracy: 0.6757\n",
            "Epoch 31/500\n",
            "13/13 [==============================] - 1s 76ms/step - loss: 1.1328 - accuracy: 0.6237 - val_loss: 0.9327 - val_accuracy: 0.7027\n",
            "Epoch 32/500\n",
            "13/13 [==============================] - 1s 76ms/step - loss: 1.1350 - accuracy: 0.6338 - val_loss: 1.0340 - val_accuracy: 0.7297\n",
            "Epoch 33/500\n",
            "13/13 [==============================] - 1s 75ms/step - loss: 1.1033 - accuracy: 0.6263 - val_loss: 0.9623 - val_accuracy: 0.7297\n",
            "Epoch 34/500\n",
            "13/13 [==============================] - 1s 74ms/step - loss: 1.0772 - accuracy: 0.6212 - val_loss: 0.9293 - val_accuracy: 0.7703\n",
            "Epoch 35/500\n",
            "13/13 [==============================] - 1s 75ms/step - loss: 1.1099 - accuracy: 0.6414 - val_loss: 0.9702 - val_accuracy: 0.7027\n",
            "Epoch 36/500\n",
            "13/13 [==============================] - 1s 73ms/step - loss: 1.0839 - accuracy: 0.6540 - val_loss: 0.9310 - val_accuracy: 0.7703\n",
            "Epoch 37/500\n",
            "13/13 [==============================] - 1s 89ms/step - loss: 1.0057 - accuracy: 0.6540 - val_loss: 0.8956 - val_accuracy: 0.7703\n",
            "Epoch 38/500\n",
            "13/13 [==============================] - 2s 138ms/step - loss: 0.9584 - accuracy: 0.6667 - val_loss: 0.9831 - val_accuracy: 0.6757\n",
            "Epoch 39/500\n",
            "13/13 [==============================] - 2s 140ms/step - loss: 1.0575 - accuracy: 0.6515 - val_loss: 0.8816 - val_accuracy: 0.7703\n",
            "Epoch 40/500\n",
            "13/13 [==============================] - 1s 84ms/step - loss: 1.0038 - accuracy: 0.6793 - val_loss: 0.9158 - val_accuracy: 0.7297\n",
            "Epoch 41/500\n",
            "13/13 [==============================] - 1s 76ms/step - loss: 0.9260 - accuracy: 0.6944 - val_loss: 0.8590 - val_accuracy: 0.7703\n",
            "Epoch 42/500\n",
            "13/13 [==============================] - 1s 75ms/step - loss: 0.9828 - accuracy: 0.6919 - val_loss: 0.8967 - val_accuracy: 0.7432\n",
            "Epoch 43/500\n",
            "13/13 [==============================] - 1s 76ms/step - loss: 0.9609 - accuracy: 0.7020 - val_loss: 0.8539 - val_accuracy: 0.7838\n",
            "Epoch 44/500\n",
            "13/13 [==============================] - 1s 73ms/step - loss: 0.9330 - accuracy: 0.6793 - val_loss: 0.8469 - val_accuracy: 0.8378\n",
            "Epoch 45/500\n",
            "13/13 [==============================] - 1s 75ms/step - loss: 0.9215 - accuracy: 0.7222 - val_loss: 0.8619 - val_accuracy: 0.7703\n",
            "Epoch 46/500\n",
            "13/13 [==============================] - 1s 75ms/step - loss: 0.8810 - accuracy: 0.7323 - val_loss: 0.7937 - val_accuracy: 0.7973\n",
            "Epoch 47/500\n",
            "13/13 [==============================] - 1s 76ms/step - loss: 0.8876 - accuracy: 0.6995 - val_loss: 0.8612 - val_accuracy: 0.7432\n",
            "Epoch 48/500\n",
            "13/13 [==============================] - 1s 76ms/step - loss: 0.8147 - accuracy: 0.7323 - val_loss: 0.8333 - val_accuracy: 0.7432\n",
            "Epoch 49/500\n",
            "13/13 [==============================] - 1s 74ms/step - loss: 0.8545 - accuracy: 0.7222 - val_loss: 0.8059 - val_accuracy: 0.7973\n",
            "Epoch 50/500\n",
            "13/13 [==============================] - 1s 113ms/step - loss: 0.9126 - accuracy: 0.6919 - val_loss: 0.8462 - val_accuracy: 0.7432\n",
            "Epoch 51/500\n",
            "13/13 [==============================] - 2s 138ms/step - loss: 0.7776 - accuracy: 0.7551 - val_loss: 0.8000 - val_accuracy: 0.7703\n",
            "Epoch 52/500\n",
            "13/13 [==============================] - 2s 127ms/step - loss: 0.8212 - accuracy: 0.7247 - val_loss: 0.7672 - val_accuracy: 0.7838\n",
            "Epoch 53/500\n",
            "13/13 [==============================] - 1s 76ms/step - loss: 0.7618 - accuracy: 0.7449 - val_loss: 0.8006 - val_accuracy: 0.8514\n",
            "Epoch 54/500\n",
            "13/13 [==============================] - 1s 76ms/step - loss: 0.7751 - accuracy: 0.7298 - val_loss: 0.7627 - val_accuracy: 0.8243\n",
            "Epoch 55/500\n",
            "13/13 [==============================] - 1s 77ms/step - loss: 0.7831 - accuracy: 0.7323 - val_loss: 0.7644 - val_accuracy: 0.7838\n",
            "Epoch 56/500\n",
            "13/13 [==============================] - 1s 77ms/step - loss: 0.8105 - accuracy: 0.7121 - val_loss: 0.7698 - val_accuracy: 0.8108\n",
            "Epoch 57/500\n",
            "13/13 [==============================] - 1s 73ms/step - loss: 0.7612 - accuracy: 0.7626 - val_loss: 0.7662 - val_accuracy: 0.7838\n",
            "Epoch 58/500\n",
            "13/13 [==============================] - 1s 75ms/step - loss: 0.7380 - accuracy: 0.7475 - val_loss: 0.7430 - val_accuracy: 0.8378\n",
            "Epoch 59/500\n",
            "13/13 [==============================] - 1s 76ms/step - loss: 0.7320 - accuracy: 0.7475 - val_loss: 0.7745 - val_accuracy: 0.7838\n",
            "Epoch 60/500\n",
            "13/13 [==============================] - 1s 74ms/step - loss: 0.7692 - accuracy: 0.7424 - val_loss: 0.7806 - val_accuracy: 0.7568\n",
            "Epoch 61/500\n",
            "13/13 [==============================] - 1s 74ms/step - loss: 0.7694 - accuracy: 0.7500 - val_loss: 0.7835 - val_accuracy: 0.7703\n",
            "Epoch 62/500\n",
            "13/13 [==============================] - 1s 75ms/step - loss: 0.7177 - accuracy: 0.7626 - val_loss: 0.7500 - val_accuracy: 0.7297\n",
            "Epoch 63/500\n",
            "13/13 [==============================] - 2s 124ms/step - loss: 0.7173 - accuracy: 0.7652 - val_loss: 0.7788 - val_accuracy: 0.7703\n",
            "Epoch 64/500\n",
            "13/13 [==============================] - 2s 134ms/step - loss: 0.6287 - accuracy: 0.7879 - val_loss: 0.7439 - val_accuracy: 0.7973\n",
            "Epoch 65/500\n",
            "13/13 [==============================] - 1s 113ms/step - loss: 0.6631 - accuracy: 0.7677 - val_loss: 0.7786 - val_accuracy: 0.7973\n",
            "Epoch 66/500\n",
            "13/13 [==============================] - 1s 75ms/step - loss: 0.6843 - accuracy: 0.7601 - val_loss: 0.7120 - val_accuracy: 0.8378\n",
            "Epoch 67/500\n",
            "13/13 [==============================] - 1s 74ms/step - loss: 0.6380 - accuracy: 0.7904 - val_loss: 0.6823 - val_accuracy: 0.8514\n",
            "Epoch 68/500\n",
            "13/13 [==============================] - 1s 77ms/step - loss: 0.7028 - accuracy: 0.7424 - val_loss: 0.7568 - val_accuracy: 0.8243\n",
            "Epoch 69/500\n",
            "13/13 [==============================] - 1s 75ms/step - loss: 0.6719 - accuracy: 0.7778 - val_loss: 0.7841 - val_accuracy: 0.7568\n",
            "Epoch 70/500\n",
            "13/13 [==============================] - 1s 75ms/step - loss: 0.6289 - accuracy: 0.7929 - val_loss: 0.7767 - val_accuracy: 0.7838\n",
            "Epoch 71/500\n",
            "13/13 [==============================] - 1s 76ms/step - loss: 0.6393 - accuracy: 0.7601 - val_loss: 0.7474 - val_accuracy: 0.7838\n",
            "Epoch 72/500\n",
            "13/13 [==============================] - 1s 74ms/step - loss: 0.6409 - accuracy: 0.7753 - val_loss: 0.7689 - val_accuracy: 0.7973\n",
            "Epoch 73/500\n",
            "13/13 [==============================] - 1s 76ms/step - loss: 0.6258 - accuracy: 0.7778 - val_loss: 0.7026 - val_accuracy: 0.8649\n",
            "Epoch 74/500\n",
            "13/13 [==============================] - 1s 76ms/step - loss: 0.6724 - accuracy: 0.7803 - val_loss: 0.7733 - val_accuracy: 0.8108\n",
            "Epoch 75/500\n",
            "13/13 [==============================] - 1s 85ms/step - loss: 0.6272 - accuracy: 0.8030 - val_loss: 0.7374 - val_accuracy: 0.8378\n",
            "Epoch 76/500\n",
            "13/13 [==============================] - 2s 137ms/step - loss: 0.5971 - accuracy: 0.8157 - val_loss: 0.6926 - val_accuracy: 0.8514\n",
            "Epoch 77/500\n",
            "13/13 [==============================] - 2s 136ms/step - loss: 0.5636 - accuracy: 0.8106 - val_loss: 0.7130 - val_accuracy: 0.8378\n",
            "Epoch 78/500\n",
            "13/13 [==============================] - 1s 88ms/step - loss: 0.6127 - accuracy: 0.7929 - val_loss: 0.7206 - val_accuracy: 0.8514\n",
            "Epoch 79/500\n",
            "13/13 [==============================] - 1s 77ms/step - loss: 0.6072 - accuracy: 0.7828 - val_loss: 0.7080 - val_accuracy: 0.8378\n",
            "Epoch 80/500\n",
            "13/13 [==============================] - 1s 73ms/step - loss: 0.6544 - accuracy: 0.7803 - val_loss: 0.7429 - val_accuracy: 0.7973\n",
            "Epoch 81/500\n",
            "13/13 [==============================] - 1s 75ms/step - loss: 0.6120 - accuracy: 0.8081 - val_loss: 0.7276 - val_accuracy: 0.8108\n",
            "Epoch 82/500\n",
            "13/13 [==============================] - 1s 76ms/step - loss: 0.4778 - accuracy: 0.8510 - val_loss: 0.7349 - val_accuracy: 0.8108\n",
            "Epoch 83/500\n",
            "13/13 [==============================] - 1s 75ms/step - loss: 0.5676 - accuracy: 0.8131 - val_loss: 0.6504 - val_accuracy: 0.8919\n",
            "Epoch 84/500\n",
            "13/13 [==============================] - 1s 76ms/step - loss: 0.5080 - accuracy: 0.8182 - val_loss: 0.6911 - val_accuracy: 0.8243\n",
            "Epoch 85/500\n",
            "13/13 [==============================] - 1s 74ms/step - loss: 0.5343 - accuracy: 0.8182 - val_loss: 0.6997 - val_accuracy: 0.8514\n",
            "Epoch 86/500\n",
            "13/13 [==============================] - 1s 74ms/step - loss: 0.5869 - accuracy: 0.8157 - val_loss: 0.7108 - val_accuracy: 0.8514\n",
            "Epoch 87/500\n",
            "13/13 [==============================] - 1s 76ms/step - loss: 0.5722 - accuracy: 0.8207 - val_loss: 0.6820 - val_accuracy: 0.8243\n",
            "Epoch 88/500\n",
            "13/13 [==============================] - 1s 103ms/step - loss: 0.5843 - accuracy: 0.8182 - val_loss: 0.6533 - val_accuracy: 0.8919\n",
            "Epoch 89/500\n",
            "13/13 [==============================] - 2s 125ms/step - loss: 0.5162 - accuracy: 0.8258 - val_loss: 0.7360 - val_accuracy: 0.7838\n",
            "Epoch 90/500\n",
            "13/13 [==============================] - 2s 136ms/step - loss: 0.5309 - accuracy: 0.8131 - val_loss: 0.6792 - val_accuracy: 0.8649\n",
            "Epoch 91/500\n",
            "13/13 [==============================] - 1s 79ms/step - loss: 0.4600 - accuracy: 0.8359 - val_loss: 0.6756 - val_accuracy: 0.8514\n",
            "Epoch 92/500\n",
            "13/13 [==============================] - 1s 75ms/step - loss: 0.5106 - accuracy: 0.8283 - val_loss: 0.7882 - val_accuracy: 0.7838\n",
            "Epoch 93/500\n",
            "13/13 [==============================] - 1s 78ms/step - loss: 0.5560 - accuracy: 0.7828 - val_loss: 0.6877 - val_accuracy: 0.8514\n",
            "Epoch 94/500\n",
            "13/13 [==============================] - 1s 76ms/step - loss: 0.4606 - accuracy: 0.8586 - val_loss: 0.7062 - val_accuracy: 0.8243\n",
            "Epoch 95/500\n",
            "13/13 [==============================] - 1s 75ms/step - loss: 0.5406 - accuracy: 0.8207 - val_loss: 0.6662 - val_accuracy: 0.8784\n",
            "Epoch 96/500\n",
            "13/13 [==============================] - 1s 73ms/step - loss: 0.5123 - accuracy: 0.8409 - val_loss: 0.6659 - val_accuracy: 0.8514\n",
            "Epoch 97/500\n",
            "13/13 [==============================] - 1s 73ms/step - loss: 0.4721 - accuracy: 0.8409 - val_loss: 0.6463 - val_accuracy: 0.8514\n",
            "Epoch 98/500\n",
            "13/13 [==============================] - 1s 77ms/step - loss: 0.5190 - accuracy: 0.8434 - val_loss: 0.6771 - val_accuracy: 0.8378\n",
            "Epoch 99/500\n",
            "13/13 [==============================] - 1s 77ms/step - loss: 0.4485 - accuracy: 0.8535 - val_loss: 0.6909 - val_accuracy: 0.8378\n",
            "Epoch 100/500\n",
            "13/13 [==============================] - 1s 77ms/step - loss: 0.5161 - accuracy: 0.8081 - val_loss: 0.6965 - val_accuracy: 0.8514\n",
            "Epoch 101/500\n",
            "13/13 [==============================] - 1s 115ms/step - loss: 0.4988 - accuracy: 0.8384 - val_loss: 0.6534 - val_accuracy: 0.8514\n",
            "Epoch 102/500\n",
            "13/13 [==============================] - 2s 129ms/step - loss: 0.5260 - accuracy: 0.8081 - val_loss: 0.6666 - val_accuracy: 0.8108\n",
            "Epoch 103/500\n",
            "13/13 [==============================] - 2s 129ms/step - loss: 0.5094 - accuracy: 0.8182 - val_loss: 0.6825 - val_accuracy: 0.8378\n",
            "Epoch 104/500\n",
            "13/13 [==============================] - 1s 74ms/step - loss: 0.4573 - accuracy: 0.8182 - val_loss: 0.6721 - val_accuracy: 0.8378\n",
            "Epoch 105/500\n",
            "13/13 [==============================] - 1s 76ms/step - loss: 0.4554 - accuracy: 0.8333 - val_loss: 0.6900 - val_accuracy: 0.8378\n",
            "Epoch 106/500\n",
            "13/13 [==============================] - 1s 76ms/step - loss: 0.5068 - accuracy: 0.8232 - val_loss: 0.6612 - val_accuracy: 0.8514\n",
            "Epoch 107/500\n",
            "13/13 [==============================] - 1s 75ms/step - loss: 0.4171 - accuracy: 0.8636 - val_loss: 0.6896 - val_accuracy: 0.8243\n",
            "Epoch 108/500\n",
            "13/13 [==============================] - 1s 78ms/step - loss: 0.4567 - accuracy: 0.8359 - val_loss: 0.6693 - val_accuracy: 0.8649\n",
            "Epoch 109/500\n",
            "13/13 [==============================] - 1s 77ms/step - loss: 0.4446 - accuracy: 0.8258 - val_loss: 0.6284 - val_accuracy: 0.8919\n",
            "Epoch 110/500\n",
            "13/13 [==============================] - 1s 77ms/step - loss: 0.4806 - accuracy: 0.8283 - val_loss: 0.6374 - val_accuracy: 0.8649\n",
            "Epoch 111/500\n",
            "13/13 [==============================] - 1s 76ms/step - loss: 0.4011 - accuracy: 0.8737 - val_loss: 0.6766 - val_accuracy: 0.8514\n",
            "Epoch 112/500\n",
            "13/13 [==============================] - 1s 79ms/step - loss: 0.4099 - accuracy: 0.8586 - val_loss: 0.6947 - val_accuracy: 0.8514\n",
            "Epoch 113/500\n",
            "13/13 [==============================] - 1s 76ms/step - loss: 0.3887 - accuracy: 0.8662 - val_loss: 0.6279 - val_accuracy: 0.8919\n",
            "Epoch 114/500\n",
            "13/13 [==============================] - 2s 137ms/step - loss: 0.4525 - accuracy: 0.8384 - val_loss: 0.6446 - val_accuracy: 0.9054\n",
            "Epoch 115/500\n",
            "13/13 [==============================] - 2s 132ms/step - loss: 0.4025 - accuracy: 0.8611 - val_loss: 0.6418 - val_accuracy: 0.8784\n",
            "Epoch 116/500\n",
            "13/13 [==============================] - 1s 105ms/step - loss: 0.3615 - accuracy: 0.9015 - val_loss: 0.6228 - val_accuracy: 0.8919\n",
            "Epoch 117/500\n",
            "13/13 [==============================] - 1s 78ms/step - loss: 0.3947 - accuracy: 0.8737 - val_loss: 0.6441 - val_accuracy: 0.8649\n",
            "Epoch 118/500\n",
            "13/13 [==============================] - 1s 74ms/step - loss: 0.4293 - accuracy: 0.8561 - val_loss: 0.6614 - val_accuracy: 0.8649\n",
            "Epoch 119/500\n",
            "13/13 [==============================] - 1s 77ms/step - loss: 0.4146 - accuracy: 0.8510 - val_loss: 0.6789 - val_accuracy: 0.8243\n",
            "Epoch 120/500\n",
            "13/13 [==============================] - 1s 76ms/step - loss: 0.4547 - accuracy: 0.8409 - val_loss: 0.6849 - val_accuracy: 0.8784\n",
            "Epoch 121/500\n",
            "13/13 [==============================] - 1s 77ms/step - loss: 0.5104 - accuracy: 0.8283 - val_loss: 0.6872 - val_accuracy: 0.8514\n",
            "Epoch 122/500\n",
            "13/13 [==============================] - 1s 77ms/step - loss: 0.4530 - accuracy: 0.8460 - val_loss: 0.7020 - val_accuracy: 0.8378\n",
            "Epoch 123/500\n",
            "13/13 [==============================] - 1s 76ms/step - loss: 0.4373 - accuracy: 0.8636 - val_loss: 0.6344 - val_accuracy: 0.8784\n",
            "Epoch 124/500\n",
            "13/13 [==============================] - 1s 78ms/step - loss: 0.4474 - accuracy: 0.8510 - val_loss: 0.6423 - val_accuracy: 0.8378\n",
            "Epoch 125/500\n",
            "13/13 [==============================] - 1s 75ms/step - loss: 0.3824 - accuracy: 0.8712 - val_loss: 0.6765 - val_accuracy: 0.8378\n",
            "Epoch 126/500\n",
            "13/13 [==============================] - 1s 104ms/step - loss: 0.4446 - accuracy: 0.8434 - val_loss: 0.6509 - val_accuracy: 0.8784\n",
            "Epoch 127/500\n",
            "13/13 [==============================] - 2s 139ms/step - loss: 0.4449 - accuracy: 0.8586 - val_loss: 0.6413 - val_accuracy: 0.8649\n",
            "Epoch 128/500\n",
            "13/13 [==============================] - 2s 132ms/step - loss: 0.3663 - accuracy: 0.8737 - val_loss: 0.6446 - val_accuracy: 0.8514\n",
            "Epoch 129/500\n",
            "13/13 [==============================] - 1s 77ms/step - loss: 0.3790 - accuracy: 0.8561 - val_loss: 0.6806 - val_accuracy: 0.8378\n",
            "Epoch 130/500\n",
            "13/13 [==============================] - 1s 77ms/step - loss: 0.3792 - accuracy: 0.8813 - val_loss: 0.7105 - val_accuracy: 0.8649\n",
            "Epoch 131/500\n",
            "13/13 [==============================] - 1s 76ms/step - loss: 0.4185 - accuracy: 0.8586 - val_loss: 0.6603 - val_accuracy: 0.8378\n",
            "Epoch 132/500\n",
            "13/13 [==============================] - 1s 76ms/step - loss: 0.3864 - accuracy: 0.8611 - val_loss: 0.6453 - val_accuracy: 0.8514\n",
            "Epoch 133/500\n",
            "13/13 [==============================] - 1s 74ms/step - loss: 0.3943 - accuracy: 0.8712 - val_loss: 0.6751 - val_accuracy: 0.8378\n",
            "Epoch 134/500\n",
            "13/13 [==============================] - 1s 78ms/step - loss: 0.4032 - accuracy: 0.8737 - val_loss: 0.6928 - val_accuracy: 0.8649\n",
            "Epoch 135/500\n",
            "13/13 [==============================] - 1s 75ms/step - loss: 0.3691 - accuracy: 0.8889 - val_loss: 0.6935 - val_accuracy: 0.8514\n",
            "Epoch 136/500\n",
            "13/13 [==============================] - 1s 75ms/step - loss: 0.3680 - accuracy: 0.8737 - val_loss: 0.6555 - val_accuracy: 0.8378\n",
            "Epoch 137/500\n",
            "13/13 [==============================] - 1s 78ms/step - loss: 0.4036 - accuracy: 0.8586 - val_loss: 0.6682 - val_accuracy: 0.9054\n",
            "Epoch 138/500\n",
            "13/13 [==============================] - 1s 75ms/step - loss: 0.3863 - accuracy: 0.8662 - val_loss: 0.6550 - val_accuracy: 0.8649\n",
            "Epoch 139/500\n",
            "13/13 [==============================] - 2s 124ms/step - loss: 0.4489 - accuracy: 0.8258 - val_loss: 0.6721 - val_accuracy: 0.8514\n",
            "Epoch 140/500\n",
            "13/13 [==============================] - 2s 137ms/step - loss: 0.4290 - accuracy: 0.8712 - val_loss: 0.7075 - val_accuracy: 0.8243\n",
            "Epoch 141/500\n",
            "13/13 [==============================] - 2s 116ms/step - loss: 0.3969 - accuracy: 0.8838 - val_loss: 0.7130 - val_accuracy: 0.8378\n",
            "Epoch 142/500\n",
            "13/13 [==============================] - 1s 78ms/step - loss: 0.2811 - accuracy: 0.9040 - val_loss: 0.7074 - val_accuracy: 0.8649\n",
            "Epoch 143/500\n",
            "13/13 [==============================] - 1s 76ms/step - loss: 0.3232 - accuracy: 0.8889 - val_loss: 0.7241 - val_accuracy: 0.8378\n",
            "Epoch 144/500\n",
            "13/13 [==============================] - 1s 78ms/step - loss: 0.3478 - accuracy: 0.8813 - val_loss: 0.6622 - val_accuracy: 0.8919\n",
            "Epoch 145/500\n",
            "13/13 [==============================] - 1s 75ms/step - loss: 0.3423 - accuracy: 0.8864 - val_loss: 0.6906 - val_accuracy: 0.8514\n",
            "Epoch 146/500\n",
            "13/13 [==============================] - 1s 78ms/step - loss: 0.3819 - accuracy: 0.8561 - val_loss: 0.6448 - val_accuracy: 0.8919\n",
            "Epoch 147/500\n",
            "13/13 [==============================] - 1s 79ms/step - loss: 0.3118 - accuracy: 0.9015 - val_loss: 0.7579 - val_accuracy: 0.8108\n",
            "Epoch 148/500\n",
            "13/13 [==============================] - 1s 76ms/step - loss: 0.3740 - accuracy: 0.8939 - val_loss: 0.7234 - val_accuracy: 0.8649\n",
            "Epoch 149/500\n",
            "13/13 [==============================] - 1s 76ms/step - loss: 0.3568 - accuracy: 0.8788 - val_loss: 0.6561 - val_accuracy: 0.8514\n",
            "Epoch 150/500\n",
            "13/13 [==============================] - 1s 77ms/step - loss: 0.2749 - accuracy: 0.9167 - val_loss: 0.6662 - val_accuracy: 0.8919\n",
            "Epoch 151/500\n",
            "13/13 [==============================] - 1s 85ms/step - loss: 0.3317 - accuracy: 0.8914 - val_loss: 0.7048 - val_accuracy: 0.8378\n",
            "Epoch 152/500\n",
            "13/13 [==============================] - 2s 136ms/step - loss: 0.3552 - accuracy: 0.8763 - val_loss: 0.6802 - val_accuracy: 0.8784\n",
            "Epoch 153/500\n",
            "13/13 [==============================] - 2s 132ms/step - loss: 0.3471 - accuracy: 0.8813 - val_loss: 0.6872 - val_accuracy: 0.8514\n",
            "Epoch 154/500\n",
            "13/13 [==============================] - 1s 93ms/step - loss: 0.2900 - accuracy: 0.8914 - val_loss: 0.6615 - val_accuracy: 0.8784\n",
            "Epoch 155/500\n",
            "13/13 [==============================] - 1s 77ms/step - loss: 0.3476 - accuracy: 0.8864 - val_loss: 0.6780 - val_accuracy: 0.8784\n",
            "Epoch 156/500\n",
            "13/13 [==============================] - 1s 74ms/step - loss: 0.3062 - accuracy: 0.8889 - val_loss: 0.7250 - val_accuracy: 0.8378\n",
            "Epoch 157/500\n",
            "13/13 [==============================] - 1s 73ms/step - loss: 0.3093 - accuracy: 0.8788 - val_loss: 0.7318 - val_accuracy: 0.8649\n",
            "Epoch 158/500\n",
            "13/13 [==============================] - 1s 76ms/step - loss: 0.3142 - accuracy: 0.8889 - val_loss: 0.7442 - val_accuracy: 0.8243\n",
            "Epoch 159/500\n",
            "13/13 [==============================] - 1s 76ms/step - loss: 0.3154 - accuracy: 0.9066 - val_loss: 0.6450 - val_accuracy: 0.9189\n",
            "Epoch 160/500\n",
            "13/13 [==============================] - 1s 75ms/step - loss: 0.3039 - accuracy: 0.9040 - val_loss: 0.7086 - val_accuracy: 0.8243\n",
            "Epoch 161/500\n",
            "13/13 [==============================] - 1s 77ms/step - loss: 0.3182 - accuracy: 0.9015 - val_loss: 0.6792 - val_accuracy: 0.8649\n",
            "Epoch 162/500\n",
            "13/13 [==============================] - 1s 76ms/step - loss: 0.3287 - accuracy: 0.8737 - val_loss: 0.6858 - val_accuracy: 0.8784\n",
            "Epoch 163/500\n",
            "13/13 [==============================] - 1s 76ms/step - loss: 0.2899 - accuracy: 0.8939 - val_loss: 0.6555 - val_accuracy: 0.8784\n",
            "Epoch 164/500\n",
            "13/13 [==============================] - 1s 104ms/step - loss: 0.2461 - accuracy: 0.9141 - val_loss: 0.6548 - val_accuracy: 0.8784\n",
            "Epoch 165/500\n",
            "13/13 [==============================] - 2s 133ms/step - loss: 0.2811 - accuracy: 0.9116 - val_loss: 0.7033 - val_accuracy: 0.8649\n",
            "Epoch 166/500\n",
            "13/13 [==============================] - 2s 137ms/step - loss: 0.3449 - accuracy: 0.8788 - val_loss: 0.6860 - val_accuracy: 0.8784\n",
            "Epoch 167/500\n",
            "13/13 [==============================] - 1s 73ms/step - loss: 0.3252 - accuracy: 0.8763 - val_loss: 0.7184 - val_accuracy: 0.8649\n",
            "Epoch 168/500\n",
            "13/13 [==============================] - 1s 76ms/step - loss: 0.2733 - accuracy: 0.8990 - val_loss: 0.6386 - val_accuracy: 0.8784\n",
            "Epoch 169/500\n",
            "13/13 [==============================] - 1s 76ms/step - loss: 0.3168 - accuracy: 0.8939 - val_loss: 0.6984 - val_accuracy: 0.8378\n",
            "Epoch 170/500\n",
            "13/13 [==============================] - 1s 76ms/step - loss: 0.3139 - accuracy: 0.8914 - val_loss: 0.6761 - val_accuracy: 0.8649\n",
            "Epoch 171/500\n",
            "13/13 [==============================] - 1s 78ms/step - loss: 0.3138 - accuracy: 0.8914 - val_loss: 0.7028 - val_accuracy: 0.8514\n",
            "Epoch 172/500\n",
            "13/13 [==============================] - 1s 75ms/step - loss: 0.2672 - accuracy: 0.9167 - val_loss: 0.6717 - val_accuracy: 0.8514\n",
            "Epoch 173/500\n",
            "13/13 [==============================] - 1s 82ms/step - loss: 0.3758 - accuracy: 0.8712 - val_loss: 0.6800 - val_accuracy: 0.8784\n",
            "Epoch 174/500\n",
            "13/13 [==============================] - 1s 76ms/step - loss: 0.3197 - accuracy: 0.8939 - val_loss: 0.6799 - val_accuracy: 0.8649\n",
            "Epoch 175/500\n",
            "13/13 [==============================] - 1s 77ms/step - loss: 0.2961 - accuracy: 0.8965 - val_loss: 0.6495 - val_accuracy: 0.9054\n",
            "Epoch 176/500\n",
            "13/13 [==============================] - 1s 77ms/step - loss: 0.2970 - accuracy: 0.9040 - val_loss: 0.6508 - val_accuracy: 0.8784\n",
            "Epoch 177/500\n",
            "13/13 [==============================] - 2s 125ms/step - loss: 0.2864 - accuracy: 0.9040 - val_loss: 0.6768 - val_accuracy: 0.8649\n",
            "Epoch 178/500\n",
            "13/13 [==============================] - 2s 132ms/step - loss: 0.2719 - accuracy: 0.9167 - val_loss: 0.6822 - val_accuracy: 0.8514\n",
            "Epoch 179/500\n",
            "13/13 [==============================] - 2s 121ms/step - loss: 0.3283 - accuracy: 0.8813 - val_loss: 0.6561 - val_accuracy: 0.8649\n",
            "Epoch 180/500\n",
            "13/13 [==============================] - 1s 79ms/step - loss: 0.2441 - accuracy: 0.9394 - val_loss: 0.6495 - val_accuracy: 0.8514\n",
            "Epoch 181/500\n",
            "13/13 [==============================] - 1s 74ms/step - loss: 0.2695 - accuracy: 0.8965 - val_loss: 0.6836 - val_accuracy: 0.8514\n",
            "Epoch 182/500\n",
            "13/13 [==============================] - 1s 76ms/step - loss: 0.2644 - accuracy: 0.9217 - val_loss: 0.6912 - val_accuracy: 0.8649\n",
            "Epoch 183/500\n",
            "13/13 [==============================] - 1s 80ms/step - loss: 0.2510 - accuracy: 0.9217 - val_loss: 0.7657 - val_accuracy: 0.8649\n",
            "Epoch 184/500\n",
            "13/13 [==============================] - 1s 77ms/step - loss: 0.2960 - accuracy: 0.9040 - val_loss: 0.7015 - val_accuracy: 0.8378\n",
            "Epoch 185/500\n",
            "13/13 [==============================] - 1s 78ms/step - loss: 0.2976 - accuracy: 0.8965 - val_loss: 0.7025 - val_accuracy: 0.8514\n",
            "Epoch 186/500\n",
            "13/13 [==============================] - 1s 76ms/step - loss: 0.2691 - accuracy: 0.8965 - val_loss: 0.6161 - val_accuracy: 0.8649\n",
            "Epoch 187/500\n",
            "13/13 [==============================] - 1s 78ms/step - loss: 0.3070 - accuracy: 0.8889 - val_loss: 0.7017 - val_accuracy: 0.8919\n",
            "Epoch 188/500\n",
            "13/13 [==============================] - 1s 77ms/step - loss: 0.3516 - accuracy: 0.8737 - val_loss: 0.6670 - val_accuracy: 0.8649\n",
            "Epoch 189/500\n",
            "13/13 [==============================] - 1s 90ms/step - loss: 0.2529 - accuracy: 0.9141 - val_loss: 0.6361 - val_accuracy: 0.8649\n",
            "Epoch 190/500\n",
            "13/13 [==============================] - 2s 136ms/step - loss: 0.2217 - accuracy: 0.9369 - val_loss: 0.6754 - val_accuracy: 0.8784\n",
            "Epoch 191/500\n",
            "13/13 [==============================] - 2s 138ms/step - loss: 0.3024 - accuracy: 0.9040 - val_loss: 0.6866 - val_accuracy: 0.8649\n",
            "Epoch 192/500\n",
            "13/13 [==============================] - 1s 91ms/step - loss: 0.2576 - accuracy: 0.9116 - val_loss: 0.7767 - val_accuracy: 0.8378\n",
            "Epoch 193/500\n",
            "13/13 [==============================] - 1s 77ms/step - loss: 0.2370 - accuracy: 0.9141 - val_loss: 0.6998 - val_accuracy: 0.8784\n",
            "Epoch 194/500\n",
            "13/13 [==============================] - 1s 73ms/step - loss: 0.2732 - accuracy: 0.9066 - val_loss: 0.6989 - val_accuracy: 0.8243\n",
            "Epoch 195/500\n",
            "13/13 [==============================] - 1s 77ms/step - loss: 0.2879 - accuracy: 0.9066 - val_loss: 0.6947 - val_accuracy: 0.8919\n",
            "Epoch 196/500\n",
            "13/13 [==============================] - 1s 75ms/step - loss: 0.3046 - accuracy: 0.8939 - val_loss: 0.6250 - val_accuracy: 0.8784\n",
            "Epoch 197/500\n",
            "13/13 [==============================] - 1s 77ms/step - loss: 0.2629 - accuracy: 0.9066 - val_loss: 0.7337 - val_accuracy: 0.8378\n",
            "Epoch 198/500\n",
            "13/13 [==============================] - 1s 75ms/step - loss: 0.2972 - accuracy: 0.8737 - val_loss: 0.6823 - val_accuracy: 0.8784\n",
            "Epoch 199/500\n",
            "13/13 [==============================] - 1s 81ms/step - loss: 0.2185 - accuracy: 0.9293 - val_loss: 0.6610 - val_accuracy: 0.8919\n",
            "Epoch 200/500\n",
            "13/13 [==============================] - 1s 78ms/step - loss: 0.3116 - accuracy: 0.8914 - val_loss: 0.7749 - val_accuracy: 0.8514\n",
            "Epoch 201/500\n",
            "13/13 [==============================] - 1s 77ms/step - loss: 0.3303 - accuracy: 0.8737 - val_loss: 0.7045 - val_accuracy: 0.8378\n",
            "Epoch 202/500\n",
            "13/13 [==============================] - 2s 122ms/step - loss: 0.3036 - accuracy: 0.8763 - val_loss: 0.6650 - val_accuracy: 0.8784\n",
            "Epoch 203/500\n",
            "13/13 [==============================] - 2s 133ms/step - loss: 0.2793 - accuracy: 0.9015 - val_loss: 0.7186 - val_accuracy: 0.8649\n",
            "Epoch 204/500\n",
            "13/13 [==============================] - 2s 124ms/step - loss: 0.2087 - accuracy: 0.9192 - val_loss: 0.7929 - val_accuracy: 0.8378\n",
            "Epoch 205/500\n",
            "13/13 [==============================] - 1s 78ms/step - loss: 0.2122 - accuracy: 0.9141 - val_loss: 0.6961 - val_accuracy: 0.8649\n",
            "Epoch 206/500\n",
            "13/13 [==============================] - 1s 76ms/step - loss: 0.2834 - accuracy: 0.8838 - val_loss: 0.6488 - val_accuracy: 0.9054\n",
            "Epoch 207/500\n",
            "13/13 [==============================] - 1s 76ms/step - loss: 0.2587 - accuracy: 0.9091 - val_loss: 0.7128 - val_accuracy: 0.8649\n",
            "Epoch 208/500\n",
            "13/13 [==============================] - 1s 75ms/step - loss: 0.2534 - accuracy: 0.9066 - val_loss: 0.7115 - val_accuracy: 0.8649\n",
            "Epoch 209/500\n",
            "13/13 [==============================] - 1s 79ms/step - loss: 0.2174 - accuracy: 0.9192 - val_loss: 0.6926 - val_accuracy: 0.8649\n",
            "Epoch 210/500\n",
            "13/13 [==============================] - 1s 74ms/step - loss: 0.2848 - accuracy: 0.9015 - val_loss: 0.7455 - val_accuracy: 0.8514\n",
            "Epoch 211/500\n",
            "13/13 [==============================] - 1s 75ms/step - loss: 0.2943 - accuracy: 0.8838 - val_loss: 0.6570 - val_accuracy: 0.8919\n",
            "Epoch 212/500\n",
            "13/13 [==============================] - 1s 79ms/step - loss: 0.2921 - accuracy: 0.9040 - val_loss: 0.6783 - val_accuracy: 0.8649\n",
            "Epoch 213/500\n",
            "13/13 [==============================] - 1s 77ms/step - loss: 0.2879 - accuracy: 0.8965 - val_loss: 0.6813 - val_accuracy: 0.8514\n",
            "Epoch 214/500\n",
            "13/13 [==============================] - 1s 88ms/step - loss: 0.2241 - accuracy: 0.9192 - val_loss: 0.6951 - val_accuracy: 0.8243\n",
            "Epoch 215/500\n",
            "13/13 [==============================] - 2s 132ms/step - loss: 0.2349 - accuracy: 0.9192 - val_loss: 0.6943 - val_accuracy: 0.8784\n",
            "Epoch 216/500\n",
            "13/13 [==============================] - 2s 130ms/step - loss: 0.2487 - accuracy: 0.9242 - val_loss: 0.7111 - val_accuracy: 0.8784\n",
            "Epoch 217/500\n",
            "13/13 [==============================] - 1s 99ms/step - loss: 0.2551 - accuracy: 0.9066 - val_loss: 0.7306 - val_accuracy: 0.8514\n",
            "Epoch 218/500\n",
            "13/13 [==============================] - 1s 75ms/step - loss: 0.2403 - accuracy: 0.9318 - val_loss: 0.6910 - val_accuracy: 0.8514\n",
            "Epoch 219/500\n",
            "13/13 [==============================] - 1s 75ms/step - loss: 0.2217 - accuracy: 0.9141 - val_loss: 0.7028 - val_accuracy: 0.8378\n",
            "Epoch 220/500\n",
            "13/13 [==============================] - 1s 75ms/step - loss: 0.2822 - accuracy: 0.8838 - val_loss: 0.7102 - val_accuracy: 0.8649\n",
            "Epoch 221/500\n",
            "13/13 [==============================] - 1s 77ms/step - loss: 0.2181 - accuracy: 0.9343 - val_loss: 0.6489 - val_accuracy: 0.8649\n",
            "Epoch 222/500\n",
            "13/13 [==============================] - 1s 78ms/step - loss: 0.1899 - accuracy: 0.9394 - val_loss: 0.6540 - val_accuracy: 0.8649\n",
            "Epoch 223/500\n",
            "13/13 [==============================] - 1s 78ms/step - loss: 0.2632 - accuracy: 0.9141 - val_loss: 0.7234 - val_accuracy: 0.8378\n",
            "Epoch 224/500\n",
            "13/13 [==============================] - 1s 74ms/step - loss: 0.2534 - accuracy: 0.9167 - val_loss: 0.7175 - val_accuracy: 0.8514\n",
            "Epoch 225/500\n",
            "13/13 [==============================] - 1s 79ms/step - loss: 0.2452 - accuracy: 0.9015 - val_loss: 0.6575 - val_accuracy: 0.8514\n",
            "Epoch 226/500\n",
            "13/13 [==============================] - 1s 77ms/step - loss: 0.3222 - accuracy: 0.9091 - val_loss: 0.6781 - val_accuracy: 0.8378\n",
            "Epoch 227/500\n",
            "13/13 [==============================] - 1s 96ms/step - loss: 0.2571 - accuracy: 0.9141 - val_loss: 0.6789 - val_accuracy: 0.8243\n",
            "Epoch 228/500\n",
            "13/13 [==============================] - 2s 138ms/step - loss: 0.2698 - accuracy: 0.8990 - val_loss: 0.5947 - val_accuracy: 0.8514\n",
            "Epoch 229/500\n",
            "13/13 [==============================] - 2s 139ms/step - loss: 0.3193 - accuracy: 0.8939 - val_loss: 0.6166 - val_accuracy: 0.8514\n",
            "Epoch 230/500\n",
            "13/13 [==============================] - 2s 131ms/step - loss: 0.2339 - accuracy: 0.9040 - val_loss: 0.5911 - val_accuracy: 0.8649\n",
            "Epoch 231/500\n",
            "13/13 [==============================] - 2s 131ms/step - loss: 0.2331 - accuracy: 0.9116 - val_loss: 0.6446 - val_accuracy: 0.8514\n",
            "Epoch 232/500\n",
            "13/13 [==============================] - 2s 120ms/step - loss: 0.2196 - accuracy: 0.9192 - val_loss: 0.6276 - val_accuracy: 0.8784\n",
            "Epoch 233/500\n",
            "13/13 [==============================] - 1s 79ms/step - loss: 0.2351 - accuracy: 0.9242 - val_loss: 0.6216 - val_accuracy: 0.8649\n",
            "Epoch 234/500\n",
            "13/13 [==============================] - 1s 79ms/step - loss: 0.2789 - accuracy: 0.9040 - val_loss: 0.6599 - val_accuracy: 0.8649\n",
            "Epoch 235/500\n",
            "13/13 [==============================] - 1s 78ms/step - loss: 0.1948 - accuracy: 0.9268 - val_loss: 0.6718 - val_accuracy: 0.8514\n",
            "Epoch 236/500\n",
            "13/13 [==============================] - 1s 76ms/step - loss: 0.1975 - accuracy: 0.9369 - val_loss: 0.6575 - val_accuracy: 0.8919\n",
            "Epoch 237/500\n",
            "13/13 [==============================] - 1s 77ms/step - loss: 0.2554 - accuracy: 0.9091 - val_loss: 0.7230 - val_accuracy: 0.8514\n",
            "Epoch 238/500\n",
            "13/13 [==============================] - 1s 79ms/step - loss: 0.1889 - accuracy: 0.9217 - val_loss: 0.7435 - val_accuracy: 0.8378\n",
            "Epoch 239/500\n",
            "13/13 [==============================] - 2s 135ms/step - loss: 0.2266 - accuracy: 0.9217 - val_loss: 0.7003 - val_accuracy: 0.8514\n",
            "Epoch 240/500\n",
            "13/13 [==============================] - 2s 129ms/step - loss: 0.2454 - accuracy: 0.9040 - val_loss: 0.7464 - val_accuracy: 0.8649\n",
            "Epoch 241/500\n",
            "13/13 [==============================] - 1s 109ms/step - loss: 0.2116 - accuracy: 0.9217 - val_loss: 0.7081 - val_accuracy: 0.8649\n",
            "Epoch 242/500\n",
            "13/13 [==============================] - 1s 78ms/step - loss: 0.2255 - accuracy: 0.9141 - val_loss: 0.7411 - val_accuracy: 0.8784\n",
            "Epoch 243/500\n",
            "13/13 [==============================] - 1s 76ms/step - loss: 0.1877 - accuracy: 0.9369 - val_loss: 0.7477 - val_accuracy: 0.8649\n",
            "Epoch 244/500\n",
            "13/13 [==============================] - 1s 74ms/step - loss: 0.2246 - accuracy: 0.9394 - val_loss: 0.8598 - val_accuracy: 0.8243\n",
            "Epoch 245/500\n",
            "13/13 [==============================] - 1s 78ms/step - loss: 0.2410 - accuracy: 0.9192 - val_loss: 0.7792 - val_accuracy: 0.8514\n",
            "Epoch 246/500\n",
            "13/13 [==============================] - 1s 86ms/step - loss: 0.2141 - accuracy: 0.9141 - val_loss: 0.7471 - val_accuracy: 0.8378\n",
            "Epoch 247/500\n",
            "13/13 [==============================] - 1s 79ms/step - loss: 0.2156 - accuracy: 0.9116 - val_loss: 0.7726 - val_accuracy: 0.8514\n",
            "Epoch 248/500\n",
            "13/13 [==============================] - 1s 76ms/step - loss: 0.2210 - accuracy: 0.9394 - val_loss: 0.7653 - val_accuracy: 0.8378\n",
            "Epoch 249/500\n",
            "13/13 [==============================] - 1s 79ms/step - loss: 0.2114 - accuracy: 0.9343 - val_loss: 0.7161 - val_accuracy: 0.8784\n",
            "Epoch 250/500\n",
            "13/13 [==============================] - 1s 78ms/step - loss: 0.2420 - accuracy: 0.9242 - val_loss: 0.6932 - val_accuracy: 0.8649\n",
            "Epoch 251/500\n",
            "13/13 [==============================] - 1s 114ms/step - loss: 0.2584 - accuracy: 0.9015 - val_loss: 0.7162 - val_accuracy: 0.8649\n",
            "Epoch 252/500\n",
            "13/13 [==============================] - 2s 139ms/step - loss: 0.2273 - accuracy: 0.9268 - val_loss: 0.7506 - val_accuracy: 0.8514\n",
            "Epoch 253/500\n",
            "13/13 [==============================] - 2s 130ms/step - loss: 0.2223 - accuracy: 0.9369 - val_loss: 0.7278 - val_accuracy: 0.8243\n",
            "Epoch 254/500\n",
            "13/13 [==============================] - 1s 77ms/step - loss: 0.2703 - accuracy: 0.9066 - val_loss: 0.7141 - val_accuracy: 0.8649\n",
            "Epoch 255/500\n",
            "13/13 [==============================] - 1s 76ms/step - loss: 0.2312 - accuracy: 0.9141 - val_loss: 0.7327 - val_accuracy: 0.8514\n",
            "Epoch 256/500\n",
            "13/13 [==============================] - 1s 75ms/step - loss: 0.2155 - accuracy: 0.9343 - val_loss: 0.7509 - val_accuracy: 0.8243\n",
            "Epoch 257/500\n",
            "13/13 [==============================] - 1s 77ms/step - loss: 0.2242 - accuracy: 0.9192 - val_loss: 0.7515 - val_accuracy: 0.8649\n",
            "Epoch 258/500\n",
            "13/13 [==============================] - 1s 77ms/step - loss: 0.2292 - accuracy: 0.9242 - val_loss: 0.7811 - val_accuracy: 0.8378\n",
            "Epoch 259/500\n",
            "13/13 [==============================] - 1s 77ms/step - loss: 0.1780 - accuracy: 0.9318 - val_loss: 0.7703 - val_accuracy: 0.8243\n",
            "Epoch 260/500\n",
            "13/13 [==============================] - 1s 76ms/step - loss: 0.1998 - accuracy: 0.9495 - val_loss: 0.7709 - val_accuracy: 0.8649\n",
            "Epoch 261/500\n",
            "13/13 [==============================] - 1s 77ms/step - loss: 0.2184 - accuracy: 0.9141 - val_loss: 0.7251 - val_accuracy: 0.8514\n",
            "Epoch 262/500\n",
            "13/13 [==============================] - 1s 77ms/step - loss: 0.2070 - accuracy: 0.9091 - val_loss: 0.6991 - val_accuracy: 0.8784\n",
            "Epoch 263/500\n",
            "13/13 [==============================] - 1s 77ms/step - loss: 0.2109 - accuracy: 0.9369 - val_loss: 0.7554 - val_accuracy: 0.8378\n",
            "Epoch 264/500\n",
            "13/13 [==============================] - 2s 132ms/step - loss: 0.2049 - accuracy: 0.9293 - val_loss: 0.8092 - val_accuracy: 0.8514\n",
            "Epoch 265/500\n",
            "13/13 [==============================] - 2s 137ms/step - loss: 0.2657 - accuracy: 0.9040 - val_loss: 0.8159 - val_accuracy: 0.8243\n",
            "Epoch 266/500\n",
            "13/13 [==============================] - 1s 107ms/step - loss: 0.2175 - accuracy: 0.9293 - val_loss: 0.7666 - val_accuracy: 0.8243\n",
            "Epoch 267/500\n",
            "13/13 [==============================] - 1s 79ms/step - loss: 0.2066 - accuracy: 0.9343 - val_loss: 0.7685 - val_accuracy: 0.8649\n",
            "Epoch 268/500\n",
            "13/13 [==============================] - 1s 76ms/step - loss: 0.1995 - accuracy: 0.9217 - val_loss: 0.8217 - val_accuracy: 0.8514\n",
            "Epoch 269/500\n",
            "13/13 [==============================] - 1s 79ms/step - loss: 0.1975 - accuracy: 0.9217 - val_loss: 0.7823 - val_accuracy: 0.8514\n",
            "Epoch 270/500\n",
            "13/13 [==============================] - 1s 76ms/step - loss: 0.1771 - accuracy: 0.9343 - val_loss: 0.7928 - val_accuracy: 0.8649\n",
            "Epoch 271/500\n",
            "13/13 [==============================] - 1s 79ms/step - loss: 0.2466 - accuracy: 0.9116 - val_loss: 0.8324 - val_accuracy: 0.8514\n",
            "Epoch 272/500\n",
            "13/13 [==============================] - 1s 77ms/step - loss: 0.2238 - accuracy: 0.9217 - val_loss: 0.7393 - val_accuracy: 0.8243\n",
            "Epoch 273/500\n",
            "13/13 [==============================] - 1s 79ms/step - loss: 0.1732 - accuracy: 0.9419 - val_loss: 0.6724 - val_accuracy: 0.8514\n",
            "Epoch 274/500\n",
            "13/13 [==============================] - 1s 78ms/step - loss: 0.2242 - accuracy: 0.9141 - val_loss: 0.7345 - val_accuracy: 0.8378\n",
            "Epoch 275/500\n",
            "13/13 [==============================] - 1s 77ms/step - loss: 0.2181 - accuracy: 0.9343 - val_loss: 0.7516 - val_accuracy: 0.7973\n",
            "Epoch 276/500\n",
            "13/13 [==============================] - 1s 107ms/step - loss: 0.2163 - accuracy: 0.9217 - val_loss: 0.7091 - val_accuracy: 0.8514\n",
            "Epoch 277/500\n",
            "13/13 [==============================] - 2s 137ms/step - loss: 0.1832 - accuracy: 0.9268 - val_loss: 0.7354 - val_accuracy: 0.8514\n",
            "Epoch 278/500\n",
            "13/13 [==============================] - 2s 137ms/step - loss: 0.1875 - accuracy: 0.9419 - val_loss: 0.7211 - val_accuracy: 0.8243\n",
            "Epoch 279/500\n",
            "13/13 [==============================] - 1s 79ms/step - loss: 0.1929 - accuracy: 0.9394 - val_loss: 0.7648 - val_accuracy: 0.8243\n",
            "Epoch 280/500\n",
            "13/13 [==============================] - 1s 77ms/step - loss: 0.2236 - accuracy: 0.9217 - val_loss: 0.7698 - val_accuracy: 0.8243\n",
            "Epoch 281/500\n",
            "13/13 [==============================] - 1s 79ms/step - loss: 0.1813 - accuracy: 0.9394 - val_loss: 0.7066 - val_accuracy: 0.8514\n",
            "Epoch 282/500\n",
            "13/13 [==============================] - 1s 77ms/step - loss: 0.1811 - accuracy: 0.9444 - val_loss: 0.7733 - val_accuracy: 0.8108\n",
            "Epoch 283/500\n",
            "13/13 [==============================] - 1s 80ms/step - loss: 0.2174 - accuracy: 0.9343 - val_loss: 0.7436 - val_accuracy: 0.8649\n",
            "Epoch 284/500\n",
            "13/13 [==============================] - 1s 76ms/step - loss: 0.1754 - accuracy: 0.9444 - val_loss: 0.7516 - val_accuracy: 0.8378\n",
            "Epoch 285/500\n",
            "13/13 [==============================] - 1s 79ms/step - loss: 0.2696 - accuracy: 0.9040 - val_loss: 0.8252 - val_accuracy: 0.7973\n",
            "Epoch 286/500\n",
            "13/13 [==============================] - 1s 78ms/step - loss: 0.2148 - accuracy: 0.9192 - val_loss: 0.7736 - val_accuracy: 0.8378\n",
            "Epoch 287/500\n",
            "13/13 [==============================] - 1s 79ms/step - loss: 0.1660 - accuracy: 0.9343 - val_loss: 0.7824 - val_accuracy: 0.8378\n",
            "Epoch 288/500\n",
            "13/13 [==============================] - 1s 87ms/step - loss: 0.1765 - accuracy: 0.9520 - val_loss: 0.6986 - val_accuracy: 0.8378\n",
            "Epoch 289/500\n",
            "13/13 [==============================] - 2s 128ms/step - loss: 0.1999 - accuracy: 0.9192 - val_loss: 0.7110 - val_accuracy: 0.8514\n",
            "Epoch 290/500\n",
            "13/13 [==============================] - 2s 142ms/step - loss: 0.2277 - accuracy: 0.9192 - val_loss: 0.7690 - val_accuracy: 0.8108\n",
            "Epoch 291/500\n",
            "13/13 [==============================] - 1s 98ms/step - loss: 0.1701 - accuracy: 0.9495 - val_loss: 0.7837 - val_accuracy: 0.8108\n",
            "Epoch 292/500\n",
            "13/13 [==============================] - 1s 80ms/step - loss: 0.2147 - accuracy: 0.9242 - val_loss: 0.7067 - val_accuracy: 0.8378\n",
            "Epoch 293/500\n",
            "13/13 [==============================] - 1s 77ms/step - loss: 0.1788 - accuracy: 0.9419 - val_loss: 0.7041 - val_accuracy: 0.8378\n",
            "Epoch 294/500\n",
            "13/13 [==============================] - 1s 79ms/step - loss: 0.1431 - accuracy: 0.9470 - val_loss: 0.7344 - val_accuracy: 0.8243\n",
            "Epoch 295/500\n",
            "13/13 [==============================] - 1s 77ms/step - loss: 0.1848 - accuracy: 0.9268 - val_loss: 0.7107 - val_accuracy: 0.8378\n",
            "Epoch 296/500\n",
            "13/13 [==============================] - 1s 77ms/step - loss: 0.1843 - accuracy: 0.9318 - val_loss: 0.7312 - val_accuracy: 0.8378\n",
            "Epoch 297/500\n",
            "13/13 [==============================] - 1s 78ms/step - loss: 0.1937 - accuracy: 0.9268 - val_loss: 0.8310 - val_accuracy: 0.8108\n",
            "Epoch 298/500\n",
            "13/13 [==============================] - 1s 80ms/step - loss: 0.1460 - accuracy: 0.9444 - val_loss: 0.7298 - val_accuracy: 0.8514\n",
            "Epoch 299/500\n",
            "13/13 [==============================] - 1s 79ms/step - loss: 0.1468 - accuracy: 0.9520 - val_loss: 0.7211 - val_accuracy: 0.8784\n",
            "Epoch 300/500\n",
            "13/13 [==============================] - 1s 80ms/step - loss: 0.1737 - accuracy: 0.9419 - val_loss: 0.6992 - val_accuracy: 0.8919\n",
            "Epoch 301/500\n",
            "13/13 [==============================] - 2s 124ms/step - loss: 0.1406 - accuracy: 0.9369 - val_loss: 0.7039 - val_accuracy: 0.8649\n",
            "Epoch 302/500\n",
            "13/13 [==============================] - 2s 134ms/step - loss: 0.1200 - accuracy: 0.9520 - val_loss: 0.7159 - val_accuracy: 0.8649\n",
            "Epoch 303/500\n",
            "13/13 [==============================] - 2s 126ms/step - loss: 0.1509 - accuracy: 0.9444 - val_loss: 0.7780 - val_accuracy: 0.8243\n",
            "Epoch 304/500\n",
            "13/13 [==============================] - 1s 79ms/step - loss: 0.2257 - accuracy: 0.9167 - val_loss: 0.7324 - val_accuracy: 0.8784\n",
            "Epoch 305/500\n",
            "13/13 [==============================] - 1s 79ms/step - loss: 0.1931 - accuracy: 0.9217 - val_loss: 0.7643 - val_accuracy: 0.8784\n",
            "Epoch 306/500\n",
            "13/13 [==============================] - 1s 79ms/step - loss: 0.2022 - accuracy: 0.9268 - val_loss: 0.7646 - val_accuracy: 0.8243\n",
            "Epoch 307/500\n",
            "13/13 [==============================] - 1s 79ms/step - loss: 0.2042 - accuracy: 0.9242 - val_loss: 0.7061 - val_accuracy: 0.8514\n",
            "Epoch 308/500\n",
            "13/13 [==============================] - 1s 78ms/step - loss: 0.1387 - accuracy: 0.9571 - val_loss: 0.6927 - val_accuracy: 0.8649\n",
            "Epoch 309/500\n",
            "13/13 [==============================] - 1s 76ms/step - loss: 0.1755 - accuracy: 0.9520 - val_loss: 0.7230 - val_accuracy: 0.8378\n",
            "Epoch 310/500\n",
            "13/13 [==============================] - 1s 76ms/step - loss: 0.2024 - accuracy: 0.9394 - val_loss: 0.7273 - val_accuracy: 0.8378\n",
            "Epoch 311/500\n",
            "13/13 [==============================] - 1s 76ms/step - loss: 0.1644 - accuracy: 0.9369 - val_loss: 0.7735 - val_accuracy: 0.7973\n",
            "Epoch 312/500\n",
            "13/13 [==============================] - 1s 75ms/step - loss: 0.1753 - accuracy: 0.9343 - val_loss: 0.6964 - val_accuracy: 0.8784\n",
            "Epoch 313/500\n",
            "13/13 [==============================] - 1s 91ms/step - loss: 0.1805 - accuracy: 0.9369 - val_loss: 0.7189 - val_accuracy: 0.8784\n",
            "Epoch 314/500\n",
            "13/13 [==============================] - 2s 134ms/step - loss: 0.1802 - accuracy: 0.9394 - val_loss: 0.7049 - val_accuracy: 0.8514\n",
            "Epoch 315/500\n",
            "13/13 [==============================] - 2s 130ms/step - loss: 0.2276 - accuracy: 0.9217 - val_loss: 0.6922 - val_accuracy: 0.8243\n",
            "Epoch 316/500\n",
            "13/13 [==============================] - 1s 102ms/step - loss: 0.1680 - accuracy: 0.9343 - val_loss: 0.6588 - val_accuracy: 0.8649\n",
            "Epoch 317/500\n",
            "13/13 [==============================] - 1s 77ms/step - loss: 0.1902 - accuracy: 0.9369 - val_loss: 0.6623 - val_accuracy: 0.8919\n",
            "Epoch 318/500\n",
            "13/13 [==============================] - 1s 79ms/step - loss: 0.1486 - accuracy: 0.9444 - val_loss: 0.7394 - val_accuracy: 0.8649\n",
            "Epoch 319/500\n",
            "13/13 [==============================] - 1s 78ms/step - loss: 0.2406 - accuracy: 0.9293 - val_loss: 0.6976 - val_accuracy: 0.8784\n",
            "Epoch 320/500\n",
            "13/13 [==============================] - 1s 77ms/step - loss: 0.2194 - accuracy: 0.9217 - val_loss: 0.6558 - val_accuracy: 0.8919\n",
            "Epoch 321/500\n",
            "13/13 [==============================] - 1s 77ms/step - loss: 0.1680 - accuracy: 0.9444 - val_loss: 0.8111 - val_accuracy: 0.8514\n",
            "Epoch 322/500\n",
            "13/13 [==============================] - 1s 78ms/step - loss: 0.2211 - accuracy: 0.9040 - val_loss: 0.7450 - val_accuracy: 0.8108\n",
            "Epoch 323/500\n",
            "13/13 [==============================] - 1s 78ms/step - loss: 0.1634 - accuracy: 0.9470 - val_loss: 0.8128 - val_accuracy: 0.8243\n",
            "Epoch 324/500\n",
            "13/13 [==============================] - 1s 80ms/step - loss: 0.1407 - accuracy: 0.9520 - val_loss: 0.7404 - val_accuracy: 0.8378\n",
            "Epoch 325/500\n",
            "13/13 [==============================] - 1s 80ms/step - loss: 0.1770 - accuracy: 0.9419 - val_loss: 0.7171 - val_accuracy: 0.8378\n",
            "Epoch 326/500\n",
            "13/13 [==============================] - 2s 119ms/step - loss: 0.1500 - accuracy: 0.9470 - val_loss: 0.6885 - val_accuracy: 0.8514\n",
            "Epoch 327/500\n",
            "13/13 [==============================] - 2s 135ms/step - loss: 0.1770 - accuracy: 0.9343 - val_loss: 0.7248 - val_accuracy: 0.8514\n",
            "Epoch 328/500\n",
            "13/13 [==============================] - 2s 131ms/step - loss: 0.1918 - accuracy: 0.9343 - val_loss: 0.6883 - val_accuracy: 0.8649\n",
            "Epoch 329/500\n",
            "13/13 [==============================] - 1s 79ms/step - loss: 0.1624 - accuracy: 0.9419 - val_loss: 0.7876 - val_accuracy: 0.8514\n",
            "Epoch 330/500\n",
            "13/13 [==============================] - 1s 78ms/step - loss: 0.1935 - accuracy: 0.9419 - val_loss: 0.7654 - val_accuracy: 0.8514\n",
            "Epoch 331/500\n",
            "13/13 [==============================] - 1s 79ms/step - loss: 0.1879 - accuracy: 0.9470 - val_loss: 0.7895 - val_accuracy: 0.8243\n",
            "Epoch 332/500\n",
            "13/13 [==============================] - 1s 80ms/step - loss: 0.1660 - accuracy: 0.9495 - val_loss: 0.7929 - val_accuracy: 0.8108\n",
            "Epoch 333/500\n",
            "13/13 [==============================] - 1s 79ms/step - loss: 0.1645 - accuracy: 0.9495 - val_loss: 0.8718 - val_accuracy: 0.7973\n",
            "Epoch 334/500\n",
            "13/13 [==============================] - 1s 79ms/step - loss: 0.1566 - accuracy: 0.9419 - val_loss: 0.7058 - val_accuracy: 0.8243\n",
            "Epoch 335/500\n",
            "13/13 [==============================] - 1s 81ms/step - loss: 0.1481 - accuracy: 0.9394 - val_loss: 0.6607 - val_accuracy: 0.8649\n",
            "Epoch 336/500\n",
            "13/13 [==============================] - 1s 79ms/step - loss: 0.1724 - accuracy: 0.9419 - val_loss: 0.6656 - val_accuracy: 0.8784\n",
            "Epoch 337/500\n",
            "13/13 [==============================] - 1s 79ms/step - loss: 0.1747 - accuracy: 0.9470 - val_loss: 0.6985 - val_accuracy: 0.8514\n",
            "Epoch 338/500\n",
            "13/13 [==============================] - 1s 97ms/step - loss: 0.1666 - accuracy: 0.9343 - val_loss: 0.6725 - val_accuracy: 0.8784\n",
            "Epoch 339/500\n",
            "13/13 [==============================] - 2s 137ms/step - loss: 0.1953 - accuracy: 0.9242 - val_loss: 0.6860 - val_accuracy: 0.8784\n",
            "Epoch 340/500\n",
            "13/13 [==============================] - 2s 139ms/step - loss: 0.2089 - accuracy: 0.9116 - val_loss: 0.7325 - val_accuracy: 0.8649\n",
            "Epoch 341/500\n",
            "13/13 [==============================] - 1s 86ms/step - loss: 0.1577 - accuracy: 0.9444 - val_loss: 0.7342 - val_accuracy: 0.8784\n",
            "Epoch 342/500\n",
            "13/13 [==============================] - 1s 80ms/step - loss: 0.1874 - accuracy: 0.9369 - val_loss: 0.7570 - val_accuracy: 0.8514\n",
            "Epoch 343/500\n",
            "13/13 [==============================] - 1s 81ms/step - loss: 0.1980 - accuracy: 0.9066 - val_loss: 0.7729 - val_accuracy: 0.8784\n",
            "Epoch 344/500\n",
            "13/13 [==============================] - 1s 81ms/step - loss: 0.1715 - accuracy: 0.9343 - val_loss: 0.7934 - val_accuracy: 0.8649\n",
            "Epoch 345/500\n",
            "13/13 [==============================] - 1s 82ms/step - loss: 0.1500 - accuracy: 0.9545 - val_loss: 0.7318 - val_accuracy: 0.8649\n",
            "Epoch 346/500\n",
            "13/13 [==============================] - 1s 79ms/step - loss: 0.1989 - accuracy: 0.9419 - val_loss: 0.7578 - val_accuracy: 0.8784\n",
            "Epoch 347/500\n",
            "13/13 [==============================] - 1s 80ms/step - loss: 0.1675 - accuracy: 0.9394 - val_loss: 0.8199 - val_accuracy: 0.8649\n",
            "Epoch 348/500\n",
            "13/13 [==============================] - 1s 79ms/step - loss: 0.1590 - accuracy: 0.9394 - val_loss: 0.7297 - val_accuracy: 0.8649\n",
            "Epoch 349/500\n",
            "13/13 [==============================] - 1s 82ms/step - loss: 0.1868 - accuracy: 0.9343 - val_loss: 0.7942 - val_accuracy: 0.8784\n",
            "Epoch 350/500\n",
            "13/13 [==============================] - 1s 94ms/step - loss: 0.1594 - accuracy: 0.9394 - val_loss: 0.7906 - val_accuracy: 0.8784\n",
            "Epoch 351/500\n",
            "13/13 [==============================] - 2s 137ms/step - loss: 0.1460 - accuracy: 0.9495 - val_loss: 0.7740 - val_accuracy: 0.8784\n",
            "Epoch 352/500\n",
            "13/13 [==============================] - 2s 139ms/step - loss: 0.1171 - accuracy: 0.9571 - val_loss: 0.7860 - val_accuracy: 0.8514\n",
            "Epoch 353/500\n",
            "13/13 [==============================] - 1s 94ms/step - loss: 0.1544 - accuracy: 0.9419 - val_loss: 0.7975 - val_accuracy: 0.8919\n",
            "Epoch 354/500\n",
            "13/13 [==============================] - 1s 81ms/step - loss: 0.1436 - accuracy: 0.9520 - val_loss: 0.7126 - val_accuracy: 0.8649\n",
            "Epoch 355/500\n",
            "13/13 [==============================] - 1s 79ms/step - loss: 0.1201 - accuracy: 0.9646 - val_loss: 0.7569 - val_accuracy: 0.8784\n",
            "Epoch 356/500\n",
            "13/13 [==============================] - 3s 245ms/step - loss: 0.1448 - accuracy: 0.9343 - val_loss: 0.8100 - val_accuracy: 0.8378\n",
            "Epoch 357/500\n",
            "13/13 [==============================] - 1s 92ms/step - loss: 0.1665 - accuracy: 0.9369 - val_loss: 0.8222 - val_accuracy: 0.8514\n",
            "Epoch 358/500\n",
            "13/13 [==============================] - 2s 166ms/step - loss: 0.1740 - accuracy: 0.9369 - val_loss: 0.7986 - val_accuracy: 0.8378\n",
            "Epoch 359/500\n",
            "13/13 [==============================] - 2s 139ms/step - loss: 0.1637 - accuracy: 0.9444 - val_loss: 0.7436 - val_accuracy: 0.8784\n",
            "Epoch 360/500\n",
            "13/13 [==============================] - 4s 317ms/step - loss: 0.1367 - accuracy: 0.9646 - val_loss: 0.7485 - val_accuracy: 0.8919\n",
            "Epoch 361/500\n",
            "13/13 [==============================] - 1s 95ms/step - loss: 0.1419 - accuracy: 0.9495 - val_loss: 0.9132 - val_accuracy: 0.8514\n",
            "Epoch 362/500\n",
            "13/13 [==============================] - 1s 91ms/step - loss: 0.1520 - accuracy: 0.9470 - val_loss: 0.8403 - val_accuracy: 0.8378\n",
            "Epoch 363/500\n",
            "13/13 [==============================] - 3s 232ms/step - loss: 0.1557 - accuracy: 0.9394 - val_loss: 0.9501 - val_accuracy: 0.8108\n",
            "Epoch 364/500\n",
            "13/13 [==============================] - 3s 221ms/step - loss: 0.1329 - accuracy: 0.9571 - val_loss: 0.8687 - val_accuracy: 0.8243\n",
            "Epoch 365/500\n",
            "13/13 [==============================] - 2s 169ms/step - loss: 0.1429 - accuracy: 0.9596 - val_loss: 0.8332 - val_accuracy: 0.8243\n",
            "Epoch 366/500\n",
            "13/13 [==============================] - 2s 135ms/step - loss: 0.1249 - accuracy: 0.9596 - val_loss: 0.8074 - val_accuracy: 0.8243\n",
            "Epoch 367/500\n",
            "13/13 [==============================] - 2s 115ms/step - loss: 0.1449 - accuracy: 0.9571 - val_loss: 0.8842 - val_accuracy: 0.8649\n",
            "Epoch 368/500\n",
            "13/13 [==============================] - 1s 80ms/step - loss: 0.1211 - accuracy: 0.9571 - val_loss: 0.9522 - val_accuracy: 0.8108\n",
            "Epoch 369/500\n",
            "13/13 [==============================] - 1s 81ms/step - loss: 0.1840 - accuracy: 0.9318 - val_loss: 0.8871 - val_accuracy: 0.8514\n",
            "Epoch 370/500\n",
            "13/13 [==============================] - 1s 81ms/step - loss: 0.1569 - accuracy: 0.9672 - val_loss: 0.8105 - val_accuracy: 0.8243\n",
            "Epoch 371/500\n",
            "13/13 [==============================] - 1s 80ms/step - loss: 0.1419 - accuracy: 0.9419 - val_loss: 0.8954 - val_accuracy: 0.8108\n",
            "Epoch 372/500\n",
            "13/13 [==============================] - 1s 80ms/step - loss: 0.1729 - accuracy: 0.9444 - val_loss: 0.8946 - val_accuracy: 0.8649\n",
            "Epoch 373/500\n",
            "13/13 [==============================] - 1s 82ms/step - loss: 0.1769 - accuracy: 0.9419 - val_loss: 0.8091 - val_accuracy: 0.8378\n",
            "Epoch 374/500\n",
            "13/13 [==============================] - 1s 79ms/step - loss: 0.1294 - accuracy: 0.9495 - val_loss: 0.8184 - val_accuracy: 0.8514\n",
            "Epoch 375/500\n",
            "13/13 [==============================] - 1s 79ms/step - loss: 0.1646 - accuracy: 0.9444 - val_loss: 0.7337 - val_accuracy: 0.8378\n",
            "Epoch 376/500\n",
            "13/13 [==============================] - 1s 80ms/step - loss: 0.2084 - accuracy: 0.9419 - val_loss: 0.7962 - val_accuracy: 0.8378\n",
            "Epoch 377/500\n",
            "13/13 [==============================] - 2s 127ms/step - loss: 0.1482 - accuracy: 0.9545 - val_loss: 0.8125 - val_accuracy: 0.8243\n",
            "Epoch 378/500\n",
            "13/13 [==============================] - 2s 135ms/step - loss: 0.1476 - accuracy: 0.9444 - val_loss: 0.8209 - val_accuracy: 0.8514\n",
            "Epoch 379/500\n",
            "13/13 [==============================] - 2s 127ms/step - loss: 0.1706 - accuracy: 0.9545 - val_loss: 0.7361 - val_accuracy: 0.8784\n",
            "Epoch 380/500\n",
            "13/13 [==============================] - 1s 80ms/step - loss: 0.1788 - accuracy: 0.9419 - val_loss: 0.6794 - val_accuracy: 0.8514\n",
            "Epoch 381/500\n",
            "13/13 [==============================] - 1s 81ms/step - loss: 0.1846 - accuracy: 0.9419 - val_loss: 0.8478 - val_accuracy: 0.8108\n",
            "Epoch 382/500\n",
            "13/13 [==============================] - 1s 82ms/step - loss: 0.1881 - accuracy: 0.9268 - val_loss: 0.9053 - val_accuracy: 0.8108\n",
            "Epoch 383/500\n",
            "13/13 [==============================] - 1s 79ms/step - loss: 0.1694 - accuracy: 0.9394 - val_loss: 0.8990 - val_accuracy: 0.8243\n",
            "Epoch 384/500\n",
            "13/13 [==============================] - 1s 79ms/step - loss: 0.1579 - accuracy: 0.9495 - val_loss: 0.8423 - val_accuracy: 0.8108\n",
            "Epoch 385/500\n",
            "13/13 [==============================] - 1s 82ms/step - loss: 0.1618 - accuracy: 0.9444 - val_loss: 0.7861 - val_accuracy: 0.7973\n",
            "Epoch 386/500\n",
            "13/13 [==============================] - 1s 78ms/step - loss: 0.1373 - accuracy: 0.9545 - val_loss: 0.7717 - val_accuracy: 0.8514\n",
            "Epoch 387/500\n",
            "13/13 [==============================] - 1s 81ms/step - loss: 0.1617 - accuracy: 0.9495 - val_loss: 0.8185 - val_accuracy: 0.8378\n",
            "Epoch 388/500\n",
            "13/13 [==============================] - 1s 78ms/step - loss: 0.1637 - accuracy: 0.9520 - val_loss: 0.8584 - val_accuracy: 0.8108\n",
            "Epoch 389/500\n",
            "13/13 [==============================] - 1s 108ms/step - loss: 0.1328 - accuracy: 0.9621 - val_loss: 0.8105 - val_accuracy: 0.8378\n",
            "Epoch 390/500\n",
            "13/13 [==============================] - 2s 139ms/step - loss: 0.1386 - accuracy: 0.9621 - val_loss: 0.8086 - val_accuracy: 0.8243\n",
            "Epoch 391/500\n",
            "13/13 [==============================] - 2s 137ms/step - loss: 0.1363 - accuracy: 0.9470 - val_loss: 0.8953 - val_accuracy: 0.8108\n",
            "Epoch 392/500\n",
            "13/13 [==============================] - 1s 84ms/step - loss: 0.1191 - accuracy: 0.9470 - val_loss: 0.8463 - val_accuracy: 0.8378\n",
            "Epoch 393/500\n",
            "13/13 [==============================] - 1s 79ms/step - loss: 0.1288 - accuracy: 0.9571 - val_loss: 0.8295 - val_accuracy: 0.8243\n",
            "Epoch 394/500\n",
            "13/13 [==============================] - 1s 84ms/step - loss: 0.1510 - accuracy: 0.9495 - val_loss: 0.7643 - val_accuracy: 0.8649\n",
            "Epoch 395/500\n",
            "13/13 [==============================] - 1s 78ms/step - loss: 0.1025 - accuracy: 0.9470 - val_loss: 0.7769 - val_accuracy: 0.8649\n",
            "Epoch 396/500\n",
            "13/13 [==============================] - 1s 79ms/step - loss: 0.1805 - accuracy: 0.9444 - val_loss: 0.7593 - val_accuracy: 0.8378\n",
            "Epoch 397/500\n",
            "13/13 [==============================] - 1s 79ms/step - loss: 0.1235 - accuracy: 0.9571 - val_loss: 0.8582 - val_accuracy: 0.8243\n",
            "Epoch 398/500\n",
            "13/13 [==============================] - 1s 79ms/step - loss: 0.1259 - accuracy: 0.9470 - val_loss: 0.7518 - val_accuracy: 0.8649\n",
            "Epoch 399/500\n",
            "13/13 [==============================] - 1s 82ms/step - loss: 0.1440 - accuracy: 0.9520 - val_loss: 0.7700 - val_accuracy: 0.8649\n",
            "Epoch 400/500\n",
            "13/13 [==============================] - 1s 80ms/step - loss: 0.2031 - accuracy: 0.9369 - val_loss: 0.9712 - val_accuracy: 0.8243\n",
            "Epoch 401/500\n",
            "13/13 [==============================] - 1s 101ms/step - loss: 0.2017 - accuracy: 0.9167 - val_loss: 0.7531 - val_accuracy: 0.8514\n",
            "Epoch 402/500\n",
            "13/13 [==============================] - 2s 137ms/step - loss: 0.1830 - accuracy: 0.9268 - val_loss: 0.7622 - val_accuracy: 0.8243\n",
            "Epoch 403/500\n",
            "13/13 [==============================] - 2s 143ms/step - loss: 0.1551 - accuracy: 0.9596 - val_loss: 0.8632 - val_accuracy: 0.8108\n",
            "Epoch 404/500\n",
            "13/13 [==============================] - 1s 87ms/step - loss: 0.1439 - accuracy: 0.9369 - val_loss: 0.8213 - val_accuracy: 0.7973\n",
            "Epoch 405/500\n",
            "13/13 [==============================] - 1s 81ms/step - loss: 0.1386 - accuracy: 0.9470 - val_loss: 0.8031 - val_accuracy: 0.8243\n",
            "Epoch 406/500\n",
            "13/13 [==============================] - 1s 78ms/step - loss: 0.1549 - accuracy: 0.9419 - val_loss: 0.8239 - val_accuracy: 0.8514\n",
            "Epoch 407/500\n",
            "13/13 [==============================] - 1s 78ms/step - loss: 0.1348 - accuracy: 0.9520 - val_loss: 0.8317 - val_accuracy: 0.8378\n",
            "Epoch 408/500\n",
            "13/13 [==============================] - 1s 81ms/step - loss: 0.1405 - accuracy: 0.9571 - val_loss: 0.8997 - val_accuracy: 0.7838\n",
            "Epoch 409/500\n",
            "13/13 [==============================] - 1s 81ms/step - loss: 0.1270 - accuracy: 0.9520 - val_loss: 0.8623 - val_accuracy: 0.8108\n",
            "Epoch 410/500\n",
            "13/13 [==============================] - 1s 80ms/step - loss: 0.1267 - accuracy: 0.9621 - val_loss: 0.8366 - val_accuracy: 0.8378\n",
            "Epoch 411/500\n",
            "13/13 [==============================] - 1s 80ms/step - loss: 0.1474 - accuracy: 0.9419 - val_loss: 0.8307 - val_accuracy: 0.8378\n",
            "Epoch 412/500\n",
            "13/13 [==============================] - 1s 80ms/step - loss: 0.1841 - accuracy: 0.9343 - val_loss: 0.8455 - val_accuracy: 0.8243\n",
            "Epoch 413/500\n",
            "13/13 [==============================] - 1s 90ms/step - loss: 0.2225 - accuracy: 0.9141 - val_loss: 0.7847 - val_accuracy: 0.8243\n",
            "Epoch 414/500\n",
            "13/13 [==============================] - 2s 132ms/step - loss: 0.1539 - accuracy: 0.9444 - val_loss: 0.7979 - val_accuracy: 0.8243\n",
            "Epoch 415/500\n",
            "13/13 [==============================] - 2s 130ms/step - loss: 0.1112 - accuracy: 0.9697 - val_loss: 0.8340 - val_accuracy: 0.8108\n",
            "Epoch 416/500\n",
            "13/13 [==============================] - 1s 110ms/step - loss: 0.1584 - accuracy: 0.9369 - val_loss: 0.8498 - val_accuracy: 0.8108\n",
            "Epoch 417/500\n",
            "13/13 [==============================] - 1s 82ms/step - loss: 0.1757 - accuracy: 0.9293 - val_loss: 0.8420 - val_accuracy: 0.8108\n",
            "Epoch 418/500\n",
            "13/13 [==============================] - 1s 78ms/step - loss: 0.1507 - accuracy: 0.9470 - val_loss: 0.8704 - val_accuracy: 0.7973\n",
            "Epoch 419/500\n",
            "13/13 [==============================] - 1s 81ms/step - loss: 0.1524 - accuracy: 0.9343 - val_loss: 0.8956 - val_accuracy: 0.8378\n",
            "Epoch 420/500\n",
            "13/13 [==============================] - 1s 78ms/step - loss: 0.1142 - accuracy: 0.9444 - val_loss: 0.8894 - val_accuracy: 0.8243\n",
            "Epoch 421/500\n",
            "13/13 [==============================] - 1s 79ms/step - loss: 0.1398 - accuracy: 0.9470 - val_loss: 0.8881 - val_accuracy: 0.8108\n",
            "Epoch 422/500\n",
            "13/13 [==============================] - 1s 82ms/step - loss: 0.1854 - accuracy: 0.9419 - val_loss: 0.8092 - val_accuracy: 0.8378\n",
            "Epoch 423/500\n",
            "13/13 [==============================] - 1s 81ms/step - loss: 0.1596 - accuracy: 0.9343 - val_loss: 0.7976 - val_accuracy: 0.8649\n",
            "Epoch 424/500\n",
            "13/13 [==============================] - 1s 82ms/step - loss: 0.1553 - accuracy: 0.9419 - val_loss: 0.8271 - val_accuracy: 0.8378\n",
            "Epoch 425/500\n",
            "13/13 [==============================] - 1s 80ms/step - loss: 0.1407 - accuracy: 0.9394 - val_loss: 0.8026 - val_accuracy: 0.8514\n",
            "Epoch 426/500\n",
            "13/13 [==============================] - 2s 128ms/step - loss: 0.1064 - accuracy: 0.9646 - val_loss: 0.8245 - val_accuracy: 0.8243\n",
            "Epoch 427/500\n",
            "13/13 [==============================] - 2s 139ms/step - loss: 0.1045 - accuracy: 0.9646 - val_loss: 0.7643 - val_accuracy: 0.8784\n",
            "Epoch 428/500\n",
            "13/13 [==============================] - 2s 123ms/step - loss: 0.1859 - accuracy: 0.9369 - val_loss: 0.7844 - val_accuracy: 0.8514\n",
            "Epoch 429/500\n",
            "13/13 [==============================] - 1s 81ms/step - loss: 0.1337 - accuracy: 0.9495 - val_loss: 0.8301 - val_accuracy: 0.8243\n",
            "Epoch 430/500\n",
            "13/13 [==============================] - 1s 81ms/step - loss: 0.1082 - accuracy: 0.9596 - val_loss: 0.8216 - val_accuracy: 0.7973\n",
            "Epoch 431/500\n",
            "13/13 [==============================] - 1s 81ms/step - loss: 0.1497 - accuracy: 0.9470 - val_loss: 0.8325 - val_accuracy: 0.8243\n",
            "Epoch 432/500\n",
            "13/13 [==============================] - 1s 82ms/step - loss: 0.1301 - accuracy: 0.9571 - val_loss: 0.7927 - val_accuracy: 0.8243\n",
            "Epoch 433/500\n",
            "13/13 [==============================] - 1s 80ms/step - loss: 0.1144 - accuracy: 0.9545 - val_loss: 0.7163 - val_accuracy: 0.8514\n",
            "Epoch 434/500\n",
            "13/13 [==============================] - 1s 81ms/step - loss: 0.1341 - accuracy: 0.9596 - val_loss: 0.7139 - val_accuracy: 0.8378\n",
            "Epoch 435/500\n",
            "13/13 [==============================] - 1s 80ms/step - loss: 0.1983 - accuracy: 0.9167 - val_loss: 0.8225 - val_accuracy: 0.8378\n",
            "Epoch 436/500\n",
            "13/13 [==============================] - 1s 81ms/step - loss: 0.1489 - accuracy: 0.9495 - val_loss: 0.7632 - val_accuracy: 0.7973\n",
            "Epoch 437/500\n",
            "13/13 [==============================] - 1s 82ms/step - loss: 0.1673 - accuracy: 0.9369 - val_loss: 0.8035 - val_accuracy: 0.8649\n",
            "Epoch 438/500\n",
            "13/13 [==============================] - 2s 122ms/step - loss: 0.1326 - accuracy: 0.9520 - val_loss: 0.7515 - val_accuracy: 0.8378\n",
            "Epoch 439/500\n",
            "13/13 [==============================] - 2s 140ms/step - loss: 0.1010 - accuracy: 0.9646 - val_loss: 0.7566 - val_accuracy: 0.8378\n",
            "Epoch 440/500\n",
            "13/13 [==============================] - 2s 148ms/step - loss: 0.1068 - accuracy: 0.9545 - val_loss: 0.8113 - val_accuracy: 0.8243\n",
            "Epoch 441/500\n",
            "13/13 [==============================] - 1s 82ms/step - loss: 0.0822 - accuracy: 0.9747 - val_loss: 0.8225 - val_accuracy: 0.8514\n",
            "Epoch 442/500\n",
            "13/13 [==============================] - 1s 82ms/step - loss: 0.1497 - accuracy: 0.9444 - val_loss: 0.8810 - val_accuracy: 0.8108\n",
            "Epoch 443/500\n",
            "13/13 [==============================] - 1s 81ms/step - loss: 0.1133 - accuracy: 0.9470 - val_loss: 0.7616 - val_accuracy: 0.8514\n",
            "Epoch 444/500\n",
            "13/13 [==============================] - 1s 82ms/step - loss: 0.1548 - accuracy: 0.9419 - val_loss: 0.9374 - val_accuracy: 0.7838\n",
            "Epoch 445/500\n",
            "13/13 [==============================] - 1s 82ms/step - loss: 0.1431 - accuracy: 0.9470 - val_loss: 0.7139 - val_accuracy: 0.8514\n",
            "Epoch 446/500\n",
            "13/13 [==============================] - 1s 80ms/step - loss: 0.1625 - accuracy: 0.9369 - val_loss: 0.7109 - val_accuracy: 0.8514\n",
            "Epoch 447/500\n",
            "13/13 [==============================] - 1s 81ms/step - loss: 0.1149 - accuracy: 0.9672 - val_loss: 0.7657 - val_accuracy: 0.8243\n",
            "Epoch 448/500\n",
            "13/13 [==============================] - 1s 81ms/step - loss: 0.1643 - accuracy: 0.9419 - val_loss: 0.7044 - val_accuracy: 0.8514\n",
            "Epoch 449/500\n",
            "13/13 [==============================] - 1s 82ms/step - loss: 0.1013 - accuracy: 0.9747 - val_loss: 0.6993 - val_accuracy: 0.8784\n",
            "Epoch 450/500\n",
            "13/13 [==============================] - 2s 119ms/step - loss: 0.1562 - accuracy: 0.9444 - val_loss: 0.7285 - val_accuracy: 0.8514\n",
            "Epoch 451/500\n",
            "13/13 [==============================] - 2s 138ms/step - loss: 0.1991 - accuracy: 0.9444 - val_loss: 0.8254 - val_accuracy: 0.8108\n",
            "Epoch 452/500\n",
            "13/13 [==============================] - 2s 139ms/step - loss: 0.1519 - accuracy: 0.9596 - val_loss: 0.7982 - val_accuracy: 0.8514\n",
            "Epoch 453/500\n",
            "13/13 [==============================] - 1s 78ms/step - loss: 0.1859 - accuracy: 0.9470 - val_loss: 0.7544 - val_accuracy: 0.8243\n",
            "Epoch 454/500\n",
            "13/13 [==============================] - 1s 81ms/step - loss: 0.1481 - accuracy: 0.9621 - val_loss: 0.9048 - val_accuracy: 0.7973\n",
            "Epoch 455/500\n",
            "13/13 [==============================] - 1s 79ms/step - loss: 0.1395 - accuracy: 0.9520 - val_loss: 0.8757 - val_accuracy: 0.8108\n",
            "Epoch 456/500\n",
            "13/13 [==============================] - 1s 82ms/step - loss: 0.1398 - accuracy: 0.9444 - val_loss: 0.8784 - val_accuracy: 0.7838\n",
            "Epoch 457/500\n",
            "13/13 [==============================] - 1s 112ms/step - loss: 0.1364 - accuracy: 0.9495 - val_loss: 0.8267 - val_accuracy: 0.8243\n",
            "Epoch 458/500\n",
            "13/13 [==============================] - 2s 126ms/step - loss: 0.1056 - accuracy: 0.9571 - val_loss: 0.7810 - val_accuracy: 0.8378\n",
            "Epoch 459/500\n",
            "13/13 [==============================] - 2s 136ms/step - loss: 0.1105 - accuracy: 0.9596 - val_loss: 0.8259 - val_accuracy: 0.7973\n",
            "Epoch 460/500\n",
            "13/13 [==============================] - 1s 114ms/step - loss: 0.1106 - accuracy: 0.9520 - val_loss: 0.7472 - val_accuracy: 0.8378\n",
            "Epoch 461/500\n",
            "13/13 [==============================] - 2s 133ms/step - loss: 0.1100 - accuracy: 0.9672 - val_loss: 0.6753 - val_accuracy: 0.8378\n",
            "Epoch 462/500\n",
            "13/13 [==============================] - 2s 141ms/step - loss: 0.1053 - accuracy: 0.9545 - val_loss: 0.6822 - val_accuracy: 0.8378\n",
            "Epoch 463/500\n",
            "13/13 [==============================] - 1s 100ms/step - loss: 0.1280 - accuracy: 0.9672 - val_loss: 0.7284 - val_accuracy: 0.8243\n",
            "Epoch 464/500\n",
            "13/13 [==============================] - 1s 83ms/step - loss: 0.1168 - accuracy: 0.9495 - val_loss: 0.7093 - val_accuracy: 0.8378\n",
            "Epoch 465/500\n",
            "13/13 [==============================] - 1s 82ms/step - loss: 0.1828 - accuracy: 0.9369 - val_loss: 0.8148 - val_accuracy: 0.7973\n",
            "Epoch 466/500\n",
            "13/13 [==============================] - 1s 82ms/step - loss: 0.1354 - accuracy: 0.9419 - val_loss: 0.8335 - val_accuracy: 0.8243\n",
            "Epoch 467/500\n",
            "13/13 [==============================] - 1s 80ms/step - loss: 0.1352 - accuracy: 0.9495 - val_loss: 0.8129 - val_accuracy: 0.8243\n",
            "Epoch 468/500\n",
            "13/13 [==============================] - 1s 85ms/step - loss: 0.1411 - accuracy: 0.9520 - val_loss: 0.7602 - val_accuracy: 0.8108\n",
            "Epoch 469/500\n",
            "13/13 [==============================] - 1s 80ms/step - loss: 0.0903 - accuracy: 0.9722 - val_loss: 0.8038 - val_accuracy: 0.8243\n",
            "Epoch 470/500\n",
            "13/13 [==============================] - 1s 83ms/step - loss: 0.1220 - accuracy: 0.9722 - val_loss: 0.7754 - val_accuracy: 0.8243\n",
            "Epoch 471/500\n",
            "13/13 [==============================] - 1s 82ms/step - loss: 0.1878 - accuracy: 0.9369 - val_loss: 0.8688 - val_accuracy: 0.8108\n",
            "Epoch 472/500\n",
            "13/13 [==============================] - 1s 97ms/step - loss: 0.1195 - accuracy: 0.9545 - val_loss: 0.7905 - val_accuracy: 0.8378\n",
            "Epoch 473/500\n",
            "13/13 [==============================] - 2s 139ms/step - loss: 0.1100 - accuracy: 0.9545 - val_loss: 0.7985 - val_accuracy: 0.8243\n",
            "Epoch 474/500\n",
            "13/13 [==============================] - 2s 133ms/step - loss: 0.1107 - accuracy: 0.9621 - val_loss: 0.7481 - val_accuracy: 0.8243\n",
            "Epoch 475/500\n",
            "13/13 [==============================] - 1s 103ms/step - loss: 0.1736 - accuracy: 0.9444 - val_loss: 0.7999 - val_accuracy: 0.8243\n",
            "Epoch 476/500\n",
            "13/13 [==============================] - 1s 81ms/step - loss: 0.1439 - accuracy: 0.9444 - val_loss: 0.7890 - val_accuracy: 0.8243\n",
            "Epoch 477/500\n",
            "13/13 [==============================] - 1s 83ms/step - loss: 0.1139 - accuracy: 0.9646 - val_loss: 0.7515 - val_accuracy: 0.8649\n",
            "Epoch 478/500\n",
            "13/13 [==============================] - 1s 80ms/step - loss: 0.1211 - accuracy: 0.9444 - val_loss: 0.8605 - val_accuracy: 0.8243\n",
            "Epoch 479/500\n",
            "13/13 [==============================] - 1s 80ms/step - loss: 0.1301 - accuracy: 0.9621 - val_loss: 0.9078 - val_accuracy: 0.8243\n",
            "Epoch 480/500\n",
            "13/13 [==============================] - 1s 81ms/step - loss: 0.1279 - accuracy: 0.9520 - val_loss: 0.8661 - val_accuracy: 0.8243\n",
            "Epoch 481/500\n",
            "13/13 [==============================] - 1s 80ms/step - loss: 0.1638 - accuracy: 0.9419 - val_loss: 0.8732 - val_accuracy: 0.8243\n",
            "Epoch 482/500\n",
            "13/13 [==============================] - 1s 83ms/step - loss: 0.1163 - accuracy: 0.9520 - val_loss: 0.8359 - val_accuracy: 0.8243\n",
            "Epoch 483/500\n",
            "13/13 [==============================] - 1s 79ms/step - loss: 0.1356 - accuracy: 0.9545 - val_loss: 0.8321 - val_accuracy: 0.8108\n",
            "Epoch 484/500\n",
            "13/13 [==============================] - 1s 81ms/step - loss: 0.1408 - accuracy: 0.9495 - val_loss: 0.8807 - val_accuracy: 0.8514\n",
            "Epoch 485/500\n",
            "13/13 [==============================] - 2s 137ms/step - loss: 0.1308 - accuracy: 0.9470 - val_loss: 0.7943 - val_accuracy: 0.8649\n",
            "Epoch 486/500\n",
            "13/13 [==============================] - 2s 142ms/step - loss: 0.1282 - accuracy: 0.9495 - val_loss: 0.8887 - val_accuracy: 0.8108\n",
            "Epoch 487/500\n",
            "13/13 [==============================] - 2s 113ms/step - loss: 0.1702 - accuracy: 0.9343 - val_loss: 0.8360 - val_accuracy: 0.8514\n",
            "Epoch 488/500\n",
            "13/13 [==============================] - 1s 80ms/step - loss: 0.1069 - accuracy: 0.9621 - val_loss: 0.8689 - val_accuracy: 0.8378\n",
            "Epoch 489/500\n",
            "13/13 [==============================] - 1s 80ms/step - loss: 0.1546 - accuracy: 0.9596 - val_loss: 0.8784 - val_accuracy: 0.8514\n",
            "Epoch 490/500\n",
            "13/13 [==============================] - 1s 82ms/step - loss: 0.0953 - accuracy: 0.9722 - val_loss: 0.8977 - val_accuracy: 0.7973\n",
            "Epoch 491/500\n",
            "13/13 [==============================] - 1s 81ms/step - loss: 0.1564 - accuracy: 0.9394 - val_loss: 0.9656 - val_accuracy: 0.7838\n",
            "Epoch 492/500\n",
            "13/13 [==============================] - 1s 83ms/step - loss: 0.0885 - accuracy: 0.9722 - val_loss: 0.9799 - val_accuracy: 0.7973\n",
            "Epoch 493/500\n",
            "13/13 [==============================] - 1s 82ms/step - loss: 0.1038 - accuracy: 0.9621 - val_loss: 0.9457 - val_accuracy: 0.8378\n",
            "Epoch 494/500\n",
            "13/13 [==============================] - 1s 82ms/step - loss: 0.1242 - accuracy: 0.9571 - val_loss: 0.8677 - val_accuracy: 0.8784\n",
            "Epoch 495/500\n",
            "13/13 [==============================] - 1s 80ms/step - loss: 0.1177 - accuracy: 0.9545 - val_loss: 0.8956 - val_accuracy: 0.8378\n",
            "Epoch 496/500\n",
            "13/13 [==============================] - 1s 80ms/step - loss: 0.1517 - accuracy: 0.9495 - val_loss: 0.9498 - val_accuracy: 0.8243\n",
            "Epoch 497/500\n",
            "13/13 [==============================] - 2s 129ms/step - loss: 0.2243 - accuracy: 0.9217 - val_loss: 0.9284 - val_accuracy: 0.8243\n",
            "Epoch 498/500\n",
            "13/13 [==============================] - 2s 137ms/step - loss: 0.1271 - accuracy: 0.9571 - val_loss: 1.0009 - val_accuracy: 0.7568\n",
            "Epoch 499/500\n",
            "13/13 [==============================] - 2s 125ms/step - loss: 0.1173 - accuracy: 0.9621 - val_loss: 0.9911 - val_accuracy: 0.7838\n",
            "Epoch 500/500\n",
            "13/13 [==============================] - 1s 79ms/step - loss: 0.0844 - accuracy: 0.9697 - val_loss: 0.9780 - val_accuracy: 0.8243\n"
          ]
        }
      ],
      "source": [
        "history = model.fit(X_train, y_train, epochs=epochs, validation_data=(X_val, y_val), verbose=1)"
      ]
    },
    {
      "cell_type": "markdown",
      "metadata": {
        "id": "ues5Uz5ZIonL"
      },
      "source": [
        "####**Evaluating the performance**"
      ]
    },
    {
      "cell_type": "code",
      "execution_count": 125,
      "metadata": {
        "colab": {
          "base_uri": "https://localhost:8080/",
          "height": 545
        },
        "id": "9X203acY3NMQ",
        "outputId": "54f06058-351f-46a2-8b12-b1c1bc658ff7"
      },
      "outputs": [
        {
          "output_type": "stream",
          "name": "stdout",
          "text": [
            "1/1 [==============================] - 0s 44ms/step - loss: 0.2082 - accuracy: 0.8800\n"
          ]
        },
        {
          "output_type": "display_data",
          "data": {
            "text/plain": [
              "<Figure size 1000x600 with 1 Axes>"
            ],
            "image/png": "[encoded data removed]"
          },
          "metadata": {}
        }
      ],
      "source": [
        "model.evaluate(X_test, y_test)\n",
        "\n",
        "pd.DataFrame(history.history).plot(figsize=(10,6))\n",
        "plt.grid(True)\n",
        "plt.gca().set_ylim(0,2)\n",
        "plt.show()"
      ]
    },
    {
      "cell_type": "code",
      "execution_count": 126,
      "metadata": {
        "colab": {
          "base_uri": "https://localhost:8080/",
          "height": 490
        },
        "id": "OAsKkkq64Kg5",
        "outputId": "0db9ab1c-d094-4622-85bd-0ef114efe846"
      },
      "outputs": [
        {
          "output_type": "stream",
          "name": "stdout",
          "text": [
            "1/1 [==============================] - 0s 137ms/step\n"
          ]
        },
        {
          "output_type": "display_data",
          "data": {
            "text/plain": [
              "<Figure size 640x480 with 2 Axes>"
            ],
            "image/png": "[encoded data removed]"
          },
          "metadata": {}
        },
        {
          "output_type": "stream",
          "name": "stdout",
          "text": [
            "88.0\n"
          ]
        }
      ],
      "source": [
        "prediction = model.predict(X_test)\n",
        "predicted_labels = [np.argmax(i) for i in prediction]\n",
        "\n",
        "cm = confusion_matrix(y_test, prediction.argmax(axis=1))\n",
        "disp = ConfusionMatrixDisplay(confusion_matrix=cm)\n",
        "disp.plot()\n",
        "plt.show()\n",
        "\n",
        "accuracy = 100*np.trace(cm)/np.sum(cm)\n",
        "print(accuracy)"
      ]
    },
    {
      "cell_type": "code",
      "source": [
        "# Expected instances of each category in the testing data\n",
        "print('Baseball: ' + str(pd.Series(y_test).value_counts()[0]) + '\\nBasketball: ' + str(pd.Series(y_test).value_counts()[1]) +\n",
        "'\\nBilliards: ' + str(pd.Series(y_test).value_counts()[2]) + '\\nBowling: ' + str(pd.Series(y_test).value_counts()[3]) + \n",
        "'\\nFootball: ' + str(pd.Series(y_test).value_counts()[4]) + '\\nGolf: ' + str(pd.Series(y_test).value_counts()[5]) + \n",
        "'\\nSoccer: ' + str(pd.Series(y_test).value_counts()[6]) + '\\nTabletennis: ' + str(pd.Series(y_test).value_counts()[7]) + \n",
        "'\\nTennis: ' + str(pd.Series(y_test).value_counts()[8]) + '\\nVolleyball: ' + str(pd.Series(y_test).value_counts()[9]))"
      ],
      "metadata": {
        "colab": {
          "base_uri": "https://localhost:8080/"
        },
        "id": "M9td8gm23amd",
        "outputId": "044111be-74e3-4758-d2c2-1045bb9d1c26"
      },
      "execution_count": 127,
      "outputs": [
        {
          "output_type": "stream",
          "name": "stdout",
          "text": [
            "Baseball: 2\n",
            "Basketball: 2\n",
            "Billiards: 3\n",
            "Bowling: 4\n",
            "Football: 1\n",
            "Golf: 3\n",
            "Soccer: 4\n",
            "Tabletennis: 4\n",
            "Tennis: 1\n",
            "Volleyball: 1\n"
          ]
        }
      ]
    },
    {
      "cell_type": "code",
      "execution_count": 128,
      "metadata": {
        "colab": {
          "base_uri": "https://localhost:8080/",
          "height": 564
        },
        "id": "D5vf25P_d9NF",
        "outputId": "f3951cfa-b3c5-4c3b-b572-ea5bb7063cca"
      },
      "outputs": [
        {
          "output_type": "execute_result",
          "data": {
            "text/plain": [
              "Text(45.722222222222214, 0.5, 'True Label')"
            ]
          },
          "metadata": {},
          "execution_count": 128
        },
        {
          "output_type": "display_data",
          "data": {
            "text/plain": [
              "<Figure size 600x600 with 2 Axes>"
            ],
            "image/png": "[encoded data removed]"
          },
          "metadata": {}
        }
      ],
      "source": [
        "# Alternative Code for Displaying Confusion Matrix\n",
        "import seaborn as sn\n",
        "plt.figure(figsize = (6,6))\n",
        "sn.heatmap(cm, annot=True, fmt='d')\n",
        "plt.xlabel('Predicted Label')\n",
        "plt.ylabel('True Label')"
      ]
    }
  ],
  "metadata": {
    "colab": {
      "provenance": [],
      "include_colab_link": true
    },
    "kernelspec": {
      "display_name": "Python 3",
      "name": "python3"
    },
    "language_info": {
      "name": "python"
    }
  },
  "nbformat": 4,
  "nbformat_minor": 0
}