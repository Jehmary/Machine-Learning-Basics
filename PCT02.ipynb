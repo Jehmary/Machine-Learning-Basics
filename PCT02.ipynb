{
  "nbformat": 4,
  "nbformat_minor": 0,
  "metadata": {
    "colab": {
      "provenance": [],
      "include_colab_link": true
    },
    "kernelspec": {
      "name": "python3",
      "display_name": "Python 3"
    },
    "language_info": {
      "name": "python"
    }
  },
  "cells": [
    {
      "cell_type": "markdown",
      "metadata": {
        "id": "view-in-github",
        "colab_type": "text"
      },
      "source": [
        "<a href=\"https://colab.research.google.com/github/Jehmary/Machine-Learning-Basics/blob/main/PCT02.ipynb\" target=\"_parent\"><img src=\"https://colab.research.google.com/assets/colab-badge.svg\" alt=\"Open In Colab\"/></a>"
      ]
    },
    {
      "cell_type": "markdown",
      "source": [
        "##**Classification of Walk vs Run**"
      ],
      "metadata": {
        "id": "w12W2G-6c32h"
      }
    },
    {
      "cell_type": "markdown",
      "source": [
        "####**Importing the Necessary Libraries**"
      ],
      "metadata": {
        "id": "19trjlLic6EL"
      }
    },
    {
      "cell_type": "code",
      "execution_count": 2,
      "metadata": {
        "id": "XPZnl1jNcuB1"
      },
      "outputs": [],
      "source": [
        "import numpy as np\n",
        "import matplotlib.pyplot as plt\n",
        "import pandas as pd\n",
        "\n",
        "import tensorflow as tf\n",
        "from tensorflow import keras\n",
        "from tensorflow.keras.models import Sequential\n",
        "\n",
        "from sklearn import datasets\n",
        "from sklearn.preprocessing import LabelEncoder\n",
        "from sklearn.model_selection import train_test_split\n",
        "from sklearn.metrics import confusion_matrix, ConfusionMatrixDisplay"
      ]
    },
    {
      "cell_type": "markdown",
      "source": [
        "####**Importing and Preparing the Data**"
      ],
      "metadata": {
        "id": "21I4-WljdB3r"
      }
    },
    {
      "cell_type": "markdown",
      "source": [
        "#####**Importing the Data**"
      ],
      "metadata": {
        "id": "-z48xONBdGc0"
      }
    },
    {
      "cell_type": "code",
      "source": [
        "from google.colab import drive\n",
        "drive.mount('/content/gdrive/', force_remount=True)"
      ],
      "metadata": {
        "id": "a0VllYJydK2L",
        "colab": {
          "base_uri": "https://localhost:8080/"
        },
        "outputId": "59665f41-f108-4952-d0a2-1d534486bb40"
      },
      "execution_count": 3,
      "outputs": [
        {
          "output_type": "stream",
          "name": "stdout",
          "text": [
            "Mounted at /content/gdrive/\n"
          ]
        }
      ]
    },
    {
      "cell_type": "markdown",
      "source": [
        "**NOTE: You have to save the attached csv file to one of your subfolders in Google Drive and change the name of the subfolder below, accordingly.**"
      ],
      "metadata": {
        "id": "lUPIQIxqIfvI"
      }
    },
    {
      "cell_type": "code",
      "source": [
        "cd gdrive/MyDrive/'Colab Notebooks'/Book/Datasets"
      ],
      "metadata": {
        "id": "daYIZXyhdO0z",
        "colab": {
          "base_uri": "https://localhost:8080/"
        },
        "outputId": "f909d13e-3799-4730-afe5-47b8b29ed183"
      },
      "execution_count": 4,
      "outputs": [
        {
          "output_type": "stream",
          "name": "stdout",
          "text": [
            "/content/gdrive/MyDrive/Colab Notebooks/Book/Datasets\n"
          ]
        }
      ]
    },
    {
      "cell_type": "code",
      "source": [
        "ls"
      ],
      "metadata": {
        "id": "R6Vx8Cz4dRf4",
        "colab": {
          "base_uri": "https://localhost:8080/"
        },
        "outputId": "5048f765-ad83-4a9e-8f66-d93ab3894d32"
      },
      "execution_count": 5,
      "outputs": [
        {
          "output_type": "stream",
          "name": "stdout",
          "text": [
            "walkvsrun.csv\n"
          ]
        }
      ]
    },
    {
      "cell_type": "markdown",
      "source": [
        "The walk vs run data set."
      ],
      "metadata": {
        "id": "vRcVKbYBdUSj"
      }
    },
    {
      "cell_type": "code",
      "source": [
        "dataset = pd.read_csv('walkvsrun.csv', header=None)\n",
        "print(dataset.info())"
      ],
      "metadata": {
        "id": "u4jOD3KtdSBj",
        "colab": {
          "base_uri": "https://localhost:8080/"
        },
        "outputId": "8c3935bf-dc27-4bef-8995-49ffc855a87d"
      },
      "execution_count": 6,
      "outputs": [
        {
          "output_type": "stream",
          "name": "stdout",
          "text": [
            "<class 'pandas.core.frame.DataFrame'>\n",
            "RangeIndex: 192 entries, 0 to 191\n",
            "Columns: 5201 entries, 0 to 5200\n",
            "dtypes: float64(5200), int64(1)\n",
            "memory usage: 7.6 MB\n",
            "None\n"
          ]
        }
      ]
    },
    {
      "cell_type": "code",
      "source": [
        "print(dataset.shape)\n",
        "print(dataset.head(5))"
      ],
      "metadata": {
        "id": "EKkqqfi5gu-p",
        "colab": {
          "base_uri": "https://localhost:8080/"
        },
        "outputId": "a5bc1e7a-dce0-47c1-f246-638b665d468b"
      },
      "execution_count": 7,
      "outputs": [
        {
          "output_type": "stream",
          "name": "stdout",
          "text": [
            "(192, 5201)\n",
            "      0        1        2        3       4        5         6        7     \\\n",
            "0 -8.45340 -5.99020 -3.98400 -2.47060 -1.3035 -0.49068 -0.041913 -0.59172   \n",
            "1 -4.17710 -4.67900 -5.08760 -5.31620 -5.6017 -5.70730 -5.379100 -4.75640   \n",
            "2 -2.42120 -2.43750 -2.48920 -2.50000 -2.5082 -2.51100 -2.548200 -2.57450   \n",
            "3  0.26166 -0.13816 -0.22947 -0.46808 -1.0790 -1.88940 -2.691600 -3.91420   \n",
            "4 -0.63378  0.10523  0.79335  1.76780  3.7666  8.38150  8.533500  5.18550   \n",
            "\n",
            "     8        9     ...    5191    5192    5193    5194    5195    5196  \\\n",
            "0 -1.2731 -2.99890  ...  20.969  20.985  21.001  21.018  21.034  21.050   \n",
            "1 -4.1548 -3.54730  ...  20.969  20.985  21.001  21.018  21.034  21.050   \n",
            "2 -2.5625 -2.55620  ...  20.968  20.985  21.001  21.017  21.033  21.050   \n",
            "3 -5.8555 -7.46060  ...  20.968  20.984  21.001  21.017  21.033  21.049   \n",
            "4  2.0530 -0.26899  ...  20.968  20.984  21.001  21.017  21.033  21.049   \n",
            "\n",
            "     5197    5198    5199  5200  \n",
            "0  21.066  21.083  21.099     1  \n",
            "1  21.066  21.083  21.099     1  \n",
            "2  21.066  21.082  21.098     1  \n",
            "3  21.066  21.082  21.098     1  \n",
            "4  21.066  21.082  21.098     1  \n",
            "\n",
            "[5 rows x 5201 columns]\n"
          ]
        }
      ]
    },
    {
      "cell_type": "markdown",
      "source": [
        "#####**Preparing the Data**"
      ],
      "metadata": {
        "id": "gRtywxq-e_9v"
      }
    },
    {
      "cell_type": "markdown",
      "source": [
        "The first up to the second to the last columns will become our input, which we will assign to the variable $X$."
      ],
      "metadata": {
        "id": "qrWNjz33kJ-z"
      }
    },
    {
      "cell_type": "code",
      "source": [
        "X = dataset.loc[:,0:dataset.shape[1]-2]\n",
        "print(X.shape)"
      ],
      "metadata": {
        "id": "lqmUZf69fBgK",
        "colab": {
          "base_uri": "https://localhost:8080/"
        },
        "outputId": "2e38b42f-e7f7-40d3-8ae1-12de68f7e5ce"
      },
      "execution_count": 8,
      "outputs": [
        {
          "output_type": "stream",
          "name": "stdout",
          "text": [
            "(192, 5200)\n"
          ]
        }
      ]
    },
    {
      "cell_type": "markdown",
      "source": [
        "The last column will become our label, which we will assign to the variable $y$."
      ],
      "metadata": {
        "id": "18tNHt6DkFx2"
      }
    },
    {
      "cell_type": "code",
      "source": [
        "y_dataset = dataset.loc[:,dataset.shape[1]-1]\n",
        "y_label = np.array(y_dataset)\n",
        "y = tf.keras.utils.to_categorical(y_label)\n",
        "print(y.shape)"
      ],
      "metadata": {
        "colab": {
          "base_uri": "https://localhost:8080/"
        },
        "id": "zvh1h7NTj3-C",
        "outputId": "18b833ae-b62e-4b1e-ac98-ed55fc5e7bd1"
      },
      "execution_count": 9,
      "outputs": [
        {
          "output_type": "stream",
          "name": "stdout",
          "text": [
            "(192, 2)\n"
          ]
        }
      ]
    },
    {
      "cell_type": "markdown",
      "source": [
        "####**Defining the model**"
      ],
      "metadata": {
        "id": "te95nwDRkTlX"
      }
    },
    {
      "cell_type": "markdown",
      "source": [
        "**Task 1.**\n",
        "\n",
        "Using the *train_test_split()* function, split the training data, validation data, and test data into 80%, 10%, and 10%, respectively.<br>\n",
        "\n",
        "Assign training input data to the *X_train* and the label input data to *y_train*. Assign validation input data to the *X_val* and the label input data to *y_val*. Assign test input data to the *X_test* and the label input data to *y_test*."
      ],
      "metadata": {
        "id": "HVR8vuULkUT-"
      }
    },
    {
      "cell_type": "code",
      "source": [
        "# Write down the values here\n",
        "trainRatio = 80/100\n",
        "valRatio = 10/100\n",
        "testRatio = 10/100\n",
        "\n",
        "# Split the training, validation and test data. Write your code below this line.\n",
        "X_train, X_test, y_train, y_test = train_test_split(X, y, test_size = 1 - trainRatio)\n",
        "X_val, X_test, y_val, y_test = train_test_split(X_test, y_test, test_size = testRatio/(testRatio + valRatio))"
      ],
      "metadata": {
        "id": "ZPdfqHTRkW_3"
      },
      "execution_count": 13,
      "outputs": []
    },
    {
      "cell_type": "code",
      "source": [
        "print(X_val.shape)"
      ],
      "metadata": {
        "id": "Q2Blt1tOkahb",
        "colab": {
          "base_uri": "https://localhost:8080/"
        },
        "outputId": "77c296ac-bd79-447c-e8a0-bf4ab296ce9d"
      },
      "execution_count": 14,
      "outputs": [
        {
          "output_type": "stream",
          "name": "stdout",
          "text": [
            "(19, 5200)\n"
          ]
        }
      ]
    },
    {
      "cell_type": "code",
      "source": [
        "print(y_val.shape)"
      ],
      "metadata": {
        "id": "btKzX34xkcdT",
        "colab": {
          "base_uri": "https://localhost:8080/"
        },
        "outputId": "fb64e0c2-cb5a-449b-856c-a104f9674ffb"
      },
      "execution_count": 15,
      "outputs": [
        {
          "output_type": "stream",
          "name": "stdout",
          "text": [
            "(19, 2)\n"
          ]
        }
      ]
    },
    {
      "cell_type": "code",
      "source": [
        "print(y_test.shape)"
      ],
      "metadata": {
        "id": "2clRI5MykeKN",
        "colab": {
          "base_uri": "https://localhost:8080/"
        },
        "outputId": "368ba5a3-2a2b-45ef-b0e9-8d267fa92b55"
      },
      "execution_count": 16,
      "outputs": [
        {
          "output_type": "stream",
          "name": "stdout",
          "text": [
            "(20, 2)\n"
          ]
        }
      ]
    },
    {
      "cell_type": "markdown",
      "source": [
        "**Task 2.**\n",
        "<br>\n",
        "Set up your network *model*. Use three layers - an input layer, a hidden layer and an output layer. Use a reasonable number of nodes for the hidden layer. Display the summary of the model."
      ],
      "metadata": {
        "id": "_TZNpS-ZKX8y"
      }
    },
    {
      "cell_type": "code",
      "source": [
        "# Write your code here.\n",
        "model = Sequential([\n",
        "    keras.layers.Input(shape = X_train.shape[1:]),\n",
        "    keras.layers.Dense(5200, activation='relu'),\n",
        "    keras.layers.Dense(2600, activation='relu'),\n",
        "    keras.layers.Dense(2, activation='sigmoid')\n",
        "])\n",
        "\n",
        "model.summary()"
      ],
      "metadata": {
        "id": "sZr0fUfLkenX",
        "colab": {
          "base_uri": "https://localhost:8080/"
        },
        "outputId": "a0ca7784-18e5-4bcb-e7e3-b9c11f75d920"
      },
      "execution_count": 41,
      "outputs": [
        {
          "output_type": "stream",
          "name": "stdout",
          "text": [
            "Model: \"sequential_6\"\n",
            "_________________________________________________________________\n",
            " Layer (type)                Output Shape              Param #   \n",
            "=================================================================\n",
            " dense_20 (Dense)            (None, 5200)              27045200  \n",
            "                                                                 \n",
            " dense_21 (Dense)            (None, 2600)              13522600  \n",
            "                                                                 \n",
            " dense_22 (Dense)            (None, 2)                 5202      \n",
            "                                                                 \n",
            "=================================================================\n",
            "Total params: 40,573,002\n",
            "Trainable params: 40,573,002\n",
            "Non-trainable params: 0\n",
            "_________________________________________________________________\n"
          ]
        }
      ]
    },
    {
      "cell_type": "markdown",
      "source": [
        "**Task 3.**\n",
        "<br>\n",
        "Compile your model using the *compile* function, and set up the optimizer and the loss. You can find the various loss functions you can use in this [weblink](https://keras.io/api/losses/). Use 'accuracy' as the metric."
      ],
      "metadata": {
        "id": "DEtsez9XLV-q"
      }
    },
    {
      "cell_type": "code",
      "source": [
        "# Write your code here.\n",
        "model.compile(optimizer = 'adam',\n",
        "              loss = keras.losses.BinaryCrossentropy(),\n",
        "              metrics=['accuracy'])"
      ],
      "metadata": {
        "id": "N3LFnyiilAyX"
      },
      "execution_count": 42,
      "outputs": []
    },
    {
      "cell_type": "markdown",
      "source": [
        "**Task 4.**\n",
        "<br>\n",
        "Train your model using the fit function. You may select your own number of epochs. Choose verbose = 1. You will need to assign the output to the variable history, so that you'll be able to see what happens during the training."
      ],
      "metadata": {
        "id": "6YCU8ulDL4Na"
      }
    },
    {
      "cell_type": "code",
      "source": [
        "# Write your code here.\n",
        "history = model.fit(X_train, y_train, epochs=1000, validation_data=(X_val, y_val), verbose=1)"
      ],
      "metadata": {
        "id": "i-mSxjX6lB-K",
        "colab": {
          "base_uri": "https://localhost:8080/"
        },
        "outputId": "9e445e44-6488-41c9-cf6b-841954e4ab7c"
      },
      "execution_count": 36,
      "outputs": [
        {
          "output_type": "stream",
          "name": "stdout",
          "text": [
            "Epoch 1/500\n",
            "5/5 [==============================] - 5s 700ms/step - loss: 4.4571 - accuracy: 0.4379 - val_loss: 3.1229 - val_accuracy: 0.5263\n",
            "Epoch 2/500\n",
            "5/5 [==============================] - 3s 663ms/step - loss: 1.6910 - accuracy: 0.4902 - val_loss: 1.4413 - val_accuracy: 0.4737\n",
            "Epoch 3/500\n",
            "5/5 [==============================] - 5s 1s/step - loss: 1.3685 - accuracy: 0.4837 - val_loss: 0.7670 - val_accuracy: 0.4737\n",
            "Epoch 4/500\n",
            "5/5 [==============================] - 3s 650ms/step - loss: 0.7411 - accuracy: 0.5686 - val_loss: 0.9322 - val_accuracy: 0.5789\n",
            "Epoch 5/500\n",
            "5/5 [==============================] - 3s 664ms/step - loss: 0.8885 - accuracy: 0.5817 - val_loss: 0.6510 - val_accuracy: 0.6842\n",
            "Epoch 6/500\n",
            "5/5 [==============================] - 3s 652ms/step - loss: 0.7450 - accuracy: 0.5033 - val_loss: 0.7281 - val_accuracy: 0.4737\n",
            "Epoch 7/500\n",
            "5/5 [==============================] - 5s 1s/step - loss: 0.7083 - accuracy: 0.5229 - val_loss: 0.6920 - val_accuracy: 0.5789\n",
            "Epoch 8/500\n",
            "5/5 [==============================] - 3s 646ms/step - loss: 0.6696 - accuracy: 0.6013 - val_loss: 0.6624 - val_accuracy: 0.5263\n",
            "Epoch 9/500\n",
            "5/5 [==============================] - 3s 647ms/step - loss: 0.6313 - accuracy: 0.6536 - val_loss: 0.6304 - val_accuracy: 0.6842\n",
            "Epoch 10/500\n",
            "5/5 [==============================] - 3s 645ms/step - loss: 0.6506 - accuracy: 0.6209 - val_loss: 0.6072 - val_accuracy: 0.6842\n",
            "Epoch 11/500\n",
            "5/5 [==============================] - 5s 1s/step - loss: 0.6259 - accuracy: 0.6275 - val_loss: 0.6355 - val_accuracy: 0.6842\n",
            "Epoch 12/500\n",
            "5/5 [==============================] - 3s 659ms/step - loss: 0.5938 - accuracy: 0.6993 - val_loss: 0.6570 - val_accuracy: 0.5789\n",
            "Epoch 13/500\n",
            "5/5 [==============================] - 3s 657ms/step - loss: 0.6409 - accuracy: 0.5752 - val_loss: 0.6268 - val_accuracy: 0.6842\n",
            "Epoch 14/500\n",
            "5/5 [==============================] - 3s 699ms/step - loss: 0.6422 - accuracy: 0.6797 - val_loss: 0.6369 - val_accuracy: 0.5789\n",
            "Epoch 15/500\n",
            "5/5 [==============================] - 5s 950ms/step - loss: 0.6402 - accuracy: 0.5752 - val_loss: 0.6305 - val_accuracy: 0.6842\n",
            "Epoch 16/500\n",
            "5/5 [==============================] - 3s 648ms/step - loss: 0.6714 - accuracy: 0.5948 - val_loss: 0.6302 - val_accuracy: 0.6842\n",
            "Epoch 17/500\n",
            "5/5 [==============================] - 3s 658ms/step - loss: 0.6201 - accuracy: 0.6078 - val_loss: 0.6495 - val_accuracy: 0.5789\n",
            "Epoch 18/500\n",
            "5/5 [==============================] - 4s 756ms/step - loss: 0.5997 - accuracy: 0.6536 - val_loss: 0.6511 - val_accuracy: 0.6842\n",
            "Epoch 19/500\n",
            "5/5 [==============================] - 5s 886ms/step - loss: 0.5930 - accuracy: 0.6928 - val_loss: 0.6504 - val_accuracy: 0.6842\n",
            "Epoch 20/500\n",
            "5/5 [==============================] - 3s 661ms/step - loss: 0.5934 - accuracy: 0.5948 - val_loss: 0.6383 - val_accuracy: 0.7368\n",
            "Epoch 21/500\n",
            "5/5 [==============================] - 3s 663ms/step - loss: 0.5904 - accuracy: 0.6993 - val_loss: 0.6378 - val_accuracy: 0.6316\n",
            "Epoch 22/500\n",
            "5/5 [==============================] - 4s 816ms/step - loss: 0.5886 - accuracy: 0.6667 - val_loss: 0.6068 - val_accuracy: 0.6842\n",
            "Epoch 23/500\n",
            "5/5 [==============================] - 4s 822ms/step - loss: 0.6146 - accuracy: 0.6144 - val_loss: 0.6259 - val_accuracy: 0.5789\n",
            "Epoch 24/500\n",
            "5/5 [==============================] - 3s 650ms/step - loss: 0.6331 - accuracy: 0.6078 - val_loss: 0.6038 - val_accuracy: 0.6316\n",
            "Epoch 25/500\n",
            "5/5 [==============================] - 3s 663ms/step - loss: 0.5926 - accuracy: 0.6667 - val_loss: 0.6117 - val_accuracy: 0.6316\n",
            "Epoch 26/500\n",
            "5/5 [==============================] - 4s 961ms/step - loss: 0.5723 - accuracy: 0.6667 - val_loss: 0.5886 - val_accuracy: 0.6842\n",
            "Epoch 27/500\n",
            "5/5 [==============================] - 4s 672ms/step - loss: 0.5619 - accuracy: 0.6993 - val_loss: 0.6091 - val_accuracy: 0.6842\n",
            "Epoch 28/500\n",
            "5/5 [==============================] - 3s 657ms/step - loss: 0.5669 - accuracy: 0.6405 - val_loss: 0.5851 - val_accuracy: 0.6842\n",
            "Epoch 29/500\n",
            "5/5 [==============================] - 3s 683ms/step - loss: 0.5558 - accuracy: 0.6405 - val_loss: 0.6316 - val_accuracy: 0.6842\n",
            "Epoch 30/500\n",
            "5/5 [==============================] - 5s 1s/step - loss: 0.5742 - accuracy: 0.6863 - val_loss: 0.6209 - val_accuracy: 0.6842\n",
            "Epoch 31/500\n",
            "5/5 [==============================] - 3s 653ms/step - loss: 0.5878 - accuracy: 0.6340 - val_loss: 0.6452 - val_accuracy: 0.6316\n",
            "Epoch 32/500\n",
            "5/5 [==============================] - 3s 658ms/step - loss: 0.5816 - accuracy: 0.6928 - val_loss: 0.6220 - val_accuracy: 0.6842\n",
            "Epoch 33/500\n",
            "5/5 [==============================] - 3s 652ms/step - loss: 0.5786 - accuracy: 0.6405 - val_loss: 0.6245 - val_accuracy: 0.6316\n",
            "Epoch 34/500\n",
            "5/5 [==============================] - 5s 1s/step - loss: 0.5616 - accuracy: 0.6797 - val_loss: 0.6161 - val_accuracy: 0.6842\n",
            "Epoch 35/500\n",
            "5/5 [==============================] - 3s 662ms/step - loss: 0.5466 - accuracy: 0.7255 - val_loss: 0.6483 - val_accuracy: 0.6316\n",
            "Epoch 36/500\n",
            "5/5 [==============================] - 3s 658ms/step - loss: 0.5705 - accuracy: 0.6601 - val_loss: 0.6426 - val_accuracy: 0.6316\n",
            "Epoch 37/500\n",
            "5/5 [==============================] - 3s 655ms/step - loss: 0.5830 - accuracy: 0.6601 - val_loss: 0.6406 - val_accuracy: 0.6842\n",
            "Epoch 38/500\n",
            "5/5 [==============================] - 5s 1s/step - loss: 0.5949 - accuracy: 0.5556 - val_loss: 0.6697 - val_accuracy: 0.6316\n",
            "Epoch 39/500\n",
            "5/5 [==============================] - 3s 650ms/step - loss: 0.5589 - accuracy: 0.7255 - val_loss: 0.6385 - val_accuracy: 0.6842\n",
            "Epoch 40/500\n",
            "5/5 [==============================] - 3s 650ms/step - loss: 0.5365 - accuracy: 0.7320 - val_loss: 0.6117 - val_accuracy: 0.6842\n",
            "Epoch 41/500\n",
            "5/5 [==============================] - 3s 687ms/step - loss: 0.5518 - accuracy: 0.6863 - val_loss: 0.6247 - val_accuracy: 0.6842\n",
            "Epoch 42/500\n",
            "5/5 [==============================] - 5s 927ms/step - loss: 0.5641 - accuracy: 0.7320 - val_loss: 0.6213 - val_accuracy: 0.6316\n",
            "Epoch 43/500\n",
            "5/5 [==============================] - 3s 656ms/step - loss: 0.5754 - accuracy: 0.6275 - val_loss: 0.6769 - val_accuracy: 0.6316\n",
            "Epoch 44/500\n",
            "5/5 [==============================] - 3s 652ms/step - loss: 0.5887 - accuracy: 0.6601 - val_loss: 0.6242 - val_accuracy: 0.6316\n",
            "Epoch 45/500\n",
            "5/5 [==============================] - 4s 753ms/step - loss: 0.5303 - accuracy: 0.7190 - val_loss: 0.6391 - val_accuracy: 0.6316\n",
            "Epoch 46/500\n",
            "5/5 [==============================] - 5s 882ms/step - loss: 0.5824 - accuracy: 0.5948 - val_loss: 0.6014 - val_accuracy: 0.6316\n",
            "Epoch 47/500\n",
            "5/5 [==============================] - 3s 672ms/step - loss: 0.5581 - accuracy: 0.7255 - val_loss: 0.5803 - val_accuracy: 0.6842\n",
            "Epoch 48/500\n",
            "5/5 [==============================] - 3s 661ms/step - loss: 0.5591 - accuracy: 0.6340 - val_loss: 0.6013 - val_accuracy: 0.6316\n",
            "Epoch 49/500\n",
            "5/5 [==============================] - 4s 834ms/step - loss: 0.5646 - accuracy: 0.7320 - val_loss: 0.6008 - val_accuracy: 0.6842\n",
            "Epoch 50/500\n",
            "5/5 [==============================] - 4s 846ms/step - loss: 0.5845 - accuracy: 0.6340 - val_loss: 0.7214 - val_accuracy: 0.5789\n",
            "Epoch 51/500\n",
            "5/5 [==============================] - 3s 660ms/step - loss: 0.6454 - accuracy: 0.6863 - val_loss: 0.6229 - val_accuracy: 0.5789\n",
            "Epoch 52/500\n",
            "5/5 [==============================] - 3s 660ms/step - loss: 0.6667 - accuracy: 0.5490 - val_loss: 0.6676 - val_accuracy: 0.5263\n",
            "Epoch 53/500\n",
            "5/5 [==============================] - 4s 906ms/step - loss: 0.5821 - accuracy: 0.7124 - val_loss: 0.6316 - val_accuracy: 0.5263\n",
            "Epoch 54/500\n",
            "5/5 [==============================] - 4s 738ms/step - loss: 0.5234 - accuracy: 0.6471 - val_loss: 0.6230 - val_accuracy: 0.7368\n",
            "Epoch 55/500\n",
            "5/5 [==============================] - 3s 661ms/step - loss: 0.5054 - accuracy: 0.7320 - val_loss: 0.6594 - val_accuracy: 0.5263\n",
            "Epoch 56/500\n",
            "5/5 [==============================] - 3s 663ms/step - loss: 0.5260 - accuracy: 0.6993 - val_loss: 0.5937 - val_accuracy: 0.6842\n",
            "Epoch 57/500\n",
            "5/5 [==============================] - 5s 1s/step - loss: 0.5352 - accuracy: 0.6797 - val_loss: 0.6243 - val_accuracy: 0.5789\n",
            "Epoch 58/500\n",
            "5/5 [==============================] - 3s 653ms/step - loss: 0.5164 - accuracy: 0.7124 - val_loss: 0.5773 - val_accuracy: 0.7368\n",
            "Epoch 59/500\n",
            "5/5 [==============================] - 3s 658ms/step - loss: 0.5188 - accuracy: 0.7582 - val_loss: 0.5836 - val_accuracy: 0.6316\n",
            "Epoch 60/500\n",
            "5/5 [==============================] - 3s 655ms/step - loss: 0.5146 - accuracy: 0.7386 - val_loss: 0.5876 - val_accuracy: 0.5789\n",
            "Epoch 61/500\n",
            "5/5 [==============================] - 5s 1s/step - loss: 0.5177 - accuracy: 0.7582 - val_loss: 0.5994 - val_accuracy: 0.6842\n",
            "Epoch 62/500\n",
            "5/5 [==============================] - 3s 655ms/step - loss: 0.5244 - accuracy: 0.6601 - val_loss: 0.6101 - val_accuracy: 0.5263\n",
            "Epoch 63/500\n",
            "5/5 [==============================] - 3s 659ms/step - loss: 0.4968 - accuracy: 0.7516 - val_loss: 0.6138 - val_accuracy: 0.6316\n",
            "Epoch 64/500\n",
            "5/5 [==============================] - 3s 646ms/step - loss: 0.4964 - accuracy: 0.7647 - val_loss: 0.6126 - val_accuracy: 0.6316\n",
            "Epoch 65/500\n",
            "5/5 [==============================] - 5s 1s/step - loss: 0.4635 - accuracy: 0.7647 - val_loss: 0.5889 - val_accuracy: 0.7895\n",
            "Epoch 66/500\n",
            "5/5 [==============================] - 3s 659ms/step - loss: 0.5105 - accuracy: 0.6078 - val_loss: 0.6198 - val_accuracy: 0.6316\n",
            "Epoch 67/500\n",
            "5/5 [==============================] - 3s 656ms/step - loss: 0.5119 - accuracy: 0.7516 - val_loss: 0.5973 - val_accuracy: 0.6842\n",
            "Epoch 68/500\n",
            "5/5 [==============================] - 3s 705ms/step - loss: 0.4955 - accuracy: 0.7320 - val_loss: 0.5980 - val_accuracy: 0.6842\n",
            "Epoch 69/500\n",
            "5/5 [==============================] - 5s 985ms/step - loss: 0.4970 - accuracy: 0.7647 - val_loss: 0.6073 - val_accuracy: 0.6842\n",
            "Epoch 70/500\n",
            "5/5 [==============================] - 3s 668ms/step - loss: 0.4873 - accuracy: 0.7451 - val_loss: 0.6019 - val_accuracy: 0.6842\n",
            "Epoch 71/500\n",
            "5/5 [==============================] - 3s 659ms/step - loss: 0.4711 - accuracy: 0.7647 - val_loss: 0.6302 - val_accuracy: 0.6316\n",
            "Epoch 72/500\n",
            "5/5 [==============================] - 4s 799ms/step - loss: 0.4851 - accuracy: 0.7647 - val_loss: 0.5832 - val_accuracy: 0.6316\n",
            "Epoch 73/500\n",
            "5/5 [==============================] - 4s 837ms/step - loss: 0.4890 - accuracy: 0.7647 - val_loss: 0.6097 - val_accuracy: 0.5789\n",
            "Epoch 74/500\n",
            "5/5 [==============================] - 3s 655ms/step - loss: 0.5007 - accuracy: 0.7124 - val_loss: 0.5973 - val_accuracy: 0.5789\n",
            "Epoch 75/500\n",
            "5/5 [==============================] - 3s 676ms/step - loss: 0.5074 - accuracy: 0.7516 - val_loss: 0.5688 - val_accuracy: 0.6842\n",
            "Epoch 76/500\n",
            "5/5 [==============================] - 4s 837ms/step - loss: 0.4892 - accuracy: 0.7451 - val_loss: 0.5928 - val_accuracy: 0.5789\n",
            "Epoch 77/500\n",
            "5/5 [==============================] - 4s 775ms/step - loss: 0.4979 - accuracy: 0.7712 - val_loss: 0.5789 - val_accuracy: 0.6316\n",
            "Epoch 78/500\n",
            "5/5 [==============================] - 3s 656ms/step - loss: 0.4892 - accuracy: 0.7712 - val_loss: 0.5629 - val_accuracy: 0.6842\n",
            "Epoch 79/500\n",
            "5/5 [==============================] - 3s 651ms/step - loss: 0.5034 - accuracy: 0.6993 - val_loss: 0.5971 - val_accuracy: 0.6316\n",
            "Epoch 80/500\n",
            "5/5 [==============================] - 4s 908ms/step - loss: 0.5191 - accuracy: 0.6601 - val_loss: 0.6309 - val_accuracy: 0.5789\n",
            "Epoch 81/500\n",
            "5/5 [==============================] - 4s 731ms/step - loss: 0.4759 - accuracy: 0.7516 - val_loss: 0.6438 - val_accuracy: 0.5789\n",
            "Epoch 82/500\n",
            "5/5 [==============================] - 3s 652ms/step - loss: 0.4778 - accuracy: 0.7451 - val_loss: 0.6148 - val_accuracy: 0.6316\n",
            "Epoch 83/500\n",
            "5/5 [==============================] - 3s 656ms/step - loss: 0.5146 - accuracy: 0.7386 - val_loss: 0.6761 - val_accuracy: 0.5789\n",
            "Epoch 84/500\n",
            "5/5 [==============================] - 4s 958ms/step - loss: 0.4685 - accuracy: 0.7908 - val_loss: 0.5691 - val_accuracy: 0.6842\n",
            "Epoch 85/500\n",
            "5/5 [==============================] - 4s 680ms/step - loss: 0.4941 - accuracy: 0.7647 - val_loss: 0.5971 - val_accuracy: 0.5789\n",
            "Epoch 86/500\n",
            "5/5 [==============================] - 3s 653ms/step - loss: 0.5014 - accuracy: 0.6863 - val_loss: 0.5755 - val_accuracy: 0.6842\n",
            "Epoch 87/500\n",
            "5/5 [==============================] - 3s 649ms/step - loss: 0.4803 - accuracy: 0.7582 - val_loss: 0.5958 - val_accuracy: 0.5789\n",
            "Epoch 88/500\n",
            "5/5 [==============================] - 5s 1s/step - loss: 0.4423 - accuracy: 0.8039 - val_loss: 0.5674 - val_accuracy: 0.6842\n",
            "Epoch 89/500\n",
            "5/5 [==============================] - 3s 660ms/step - loss: 0.4543 - accuracy: 0.7908 - val_loss: 0.6108 - val_accuracy: 0.5789\n",
            "Epoch 90/500\n",
            "5/5 [==============================] - 3s 664ms/step - loss: 0.4491 - accuracy: 0.7516 - val_loss: 0.6338 - val_accuracy: 0.7368\n",
            "Epoch 91/500\n",
            "5/5 [==============================] - 3s 660ms/step - loss: 0.4816 - accuracy: 0.7451 - val_loss: 0.6333 - val_accuracy: 0.6842\n",
            "Epoch 92/500\n",
            "5/5 [==============================] - 5s 1s/step - loss: 0.4689 - accuracy: 0.7647 - val_loss: 0.6007 - val_accuracy: 0.6316\n",
            "Epoch 93/500\n",
            "5/5 [==============================] - 3s 669ms/step - loss: 0.4733 - accuracy: 0.7843 - val_loss: 0.6767 - val_accuracy: 0.6316\n",
            "Epoch 94/500\n",
            "5/5 [==============================] - 3s 660ms/step - loss: 0.4583 - accuracy: 0.7451 - val_loss: 0.5486 - val_accuracy: 0.7368\n",
            "Epoch 95/500\n",
            "5/5 [==============================] - 3s 654ms/step - loss: 0.4827 - accuracy: 0.7647 - val_loss: 0.5920 - val_accuracy: 0.5789\n",
            "Epoch 96/500\n",
            "5/5 [==============================] - 5s 963ms/step - loss: 0.4829 - accuracy: 0.7059 - val_loss: 0.6402 - val_accuracy: 0.6316\n",
            "Epoch 97/500\n",
            "5/5 [==============================] - 3s 653ms/step - loss: 0.4537 - accuracy: 0.7908 - val_loss: 0.5761 - val_accuracy: 0.7368\n",
            "Epoch 98/500\n",
            "5/5 [==============================] - 3s 655ms/step - loss: 0.4287 - accuracy: 0.7843 - val_loss: 0.5755 - val_accuracy: 0.6842\n",
            "Epoch 99/500\n",
            "5/5 [==============================] - 4s 716ms/step - loss: 0.4336 - accuracy: 0.8039 - val_loss: 0.5930 - val_accuracy: 0.6316\n",
            "Epoch 100/500\n",
            "5/5 [==============================] - 5s 948ms/step - loss: 0.4477 - accuracy: 0.7516 - val_loss: 0.6003 - val_accuracy: 0.6842\n",
            "Epoch 101/500\n",
            "5/5 [==============================] - 3s 672ms/step - loss: 0.4155 - accuracy: 0.8105 - val_loss: 0.6211 - val_accuracy: 0.6316\n",
            "Epoch 102/500\n",
            "5/5 [==============================] - 3s 669ms/step - loss: 0.4290 - accuracy: 0.7974 - val_loss: 0.5715 - val_accuracy: 0.7368\n",
            "Epoch 103/500\n",
            "5/5 [==============================] - 4s 806ms/step - loss: 0.4748 - accuracy: 0.7386 - val_loss: 0.6333 - val_accuracy: 0.6842\n",
            "Epoch 104/500\n",
            "5/5 [==============================] - 4s 823ms/step - loss: 0.5020 - accuracy: 0.7843 - val_loss: 0.6343 - val_accuracy: 0.7368\n",
            "Epoch 105/500\n",
            "5/5 [==============================] - 3s 670ms/step - loss: 0.4637 - accuracy: 0.7059 - val_loss: 0.5761 - val_accuracy: 0.6316\n",
            "Epoch 106/500\n",
            "5/5 [==============================] - 3s 675ms/step - loss: 0.4151 - accuracy: 0.8366 - val_loss: 0.5331 - val_accuracy: 0.7368\n",
            "Epoch 107/500\n",
            "5/5 [==============================] - 4s 931ms/step - loss: 0.4635 - accuracy: 0.7124 - val_loss: 0.5933 - val_accuracy: 0.6316\n",
            "Epoch 108/500\n",
            "5/5 [==============================] - 4s 728ms/step - loss: 0.4679 - accuracy: 0.8170 - val_loss: 0.5561 - val_accuracy: 0.5789\n",
            "Epoch 109/500\n",
            "5/5 [==============================] - 3s 669ms/step - loss: 0.4830 - accuracy: 0.6667 - val_loss: 0.5482 - val_accuracy: 0.6842\n",
            "Epoch 110/500\n",
            "5/5 [==============================] - 3s 660ms/step - loss: 0.4831 - accuracy: 0.7974 - val_loss: 0.5441 - val_accuracy: 0.7368\n",
            "Epoch 111/500\n",
            "5/5 [==============================] - 5s 1s/step - loss: 0.4885 - accuracy: 0.7320 - val_loss: 0.6243 - val_accuracy: 0.6316\n",
            "Epoch 112/500\n",
            "5/5 [==============================] - 4s 672ms/step - loss: 0.4702 - accuracy: 0.7908 - val_loss: 0.5499 - val_accuracy: 0.7368\n",
            "Epoch 113/500\n",
            "5/5 [==============================] - 3s 659ms/step - loss: 0.4423 - accuracy: 0.7974 - val_loss: 0.5197 - val_accuracy: 0.7368\n",
            "Epoch 114/500\n",
            "5/5 [==============================] - 3s 659ms/step - loss: 0.4433 - accuracy: 0.8235 - val_loss: 0.6555 - val_accuracy: 0.5789\n",
            "Epoch 115/500\n",
            "5/5 [==============================] - 5s 1s/step - loss: 0.4352 - accuracy: 0.7974 - val_loss: 0.5977 - val_accuracy: 0.6842\n",
            "Epoch 116/500\n",
            "5/5 [==============================] - 3s 662ms/step - loss: 0.3922 - accuracy: 0.8170 - val_loss: 0.6126 - val_accuracy: 0.6316\n",
            "Epoch 117/500\n",
            "5/5 [==============================] - 3s 651ms/step - loss: 0.4041 - accuracy: 0.8301 - val_loss: 0.6098 - val_accuracy: 0.6316\n",
            "Epoch 118/500\n",
            "5/5 [==============================] - 3s 661ms/step - loss: 0.3873 - accuracy: 0.8301 - val_loss: 0.6104 - val_accuracy: 0.5789\n",
            "Epoch 119/500\n",
            "5/5 [==============================] - 5s 1s/step - loss: 0.4079 - accuracy: 0.8105 - val_loss: 0.6351 - val_accuracy: 0.5789\n",
            "Epoch 120/500\n",
            "5/5 [==============================] - 3s 667ms/step - loss: 0.4009 - accuracy: 0.7974 - val_loss: 0.7041 - val_accuracy: 0.5789\n",
            "Epoch 121/500\n",
            "5/5 [==============================] - 3s 679ms/step - loss: 0.4011 - accuracy: 0.8039 - val_loss: 0.6496 - val_accuracy: 0.6842\n",
            "Epoch 122/500\n",
            "5/5 [==============================] - 4s 758ms/step - loss: 0.4164 - accuracy: 0.7255 - val_loss: 0.6373 - val_accuracy: 0.6316\n",
            "Epoch 123/500\n",
            "5/5 [==============================] - 5s 961ms/step - loss: 0.3935 - accuracy: 0.8105 - val_loss: 0.6571 - val_accuracy: 0.6316\n",
            "Epoch 124/500\n",
            "5/5 [==============================] - 3s 667ms/step - loss: 0.3579 - accuracy: 0.8235 - val_loss: 0.6528 - val_accuracy: 0.6316\n",
            "Epoch 125/500\n",
            "5/5 [==============================] - 3s 661ms/step - loss: 0.3997 - accuracy: 0.8170 - val_loss: 0.5969 - val_accuracy: 0.6316\n",
            "Epoch 126/500\n",
            "5/5 [==============================] - 4s 846ms/step - loss: 0.4286 - accuracy: 0.7582 - val_loss: 0.6878 - val_accuracy: 0.5789\n",
            "Epoch 127/500\n",
            "5/5 [==============================] - 4s 769ms/step - loss: 0.4552 - accuracy: 0.7712 - val_loss: 0.6520 - val_accuracy: 0.5263\n",
            "Epoch 128/500\n",
            "5/5 [==============================] - 3s 656ms/step - loss: 0.4293 - accuracy: 0.7908 - val_loss: 0.7355 - val_accuracy: 0.5789\n",
            "Epoch 129/500\n",
            "5/5 [==============================] - 3s 669ms/step - loss: 0.3979 - accuracy: 0.8301 - val_loss: 0.5693 - val_accuracy: 0.6842\n",
            "Epoch 130/500\n",
            "5/5 [==============================] - 4s 959ms/step - loss: 0.3904 - accuracy: 0.8301 - val_loss: 0.6149 - val_accuracy: 0.5789\n",
            "Epoch 131/500\n",
            "5/5 [==============================] - 4s 697ms/step - loss: 0.3834 - accuracy: 0.8235 - val_loss: 0.6270 - val_accuracy: 0.5789\n",
            "Epoch 132/500\n",
            "5/5 [==============================] - 3s 660ms/step - loss: 0.3861 - accuracy: 0.8301 - val_loss: 0.5996 - val_accuracy: 0.5789\n",
            "Epoch 133/500\n",
            "5/5 [==============================] - 3s 664ms/step - loss: 0.4246 - accuracy: 0.7320 - val_loss: 0.6841 - val_accuracy: 0.5789\n",
            "Epoch 134/500\n",
            "5/5 [==============================] - 5s 994ms/step - loss: 0.4438 - accuracy: 0.8039 - val_loss: 0.5962 - val_accuracy: 0.6842\n",
            "Epoch 135/500\n",
            "5/5 [==============================] - 4s 671ms/step - loss: 0.4373 - accuracy: 0.7451 - val_loss: 0.6833 - val_accuracy: 0.5789\n",
            "Epoch 136/500\n",
            "5/5 [==============================] - 3s 668ms/step - loss: 0.3958 - accuracy: 0.8366 - val_loss: 0.5674 - val_accuracy: 0.7368\n",
            "Epoch 137/500\n",
            "5/5 [==============================] - 3s 661ms/step - loss: 0.4079 - accuracy: 0.7516 - val_loss: 0.6542 - val_accuracy: 0.6316\n",
            "Epoch 138/500\n",
            "5/5 [==============================] - 5s 1s/step - loss: 0.4084 - accuracy: 0.7974 - val_loss: 0.5802 - val_accuracy: 0.6316\n",
            "Epoch 139/500\n",
            "5/5 [==============================] - 3s 682ms/step - loss: 0.3889 - accuracy: 0.7974 - val_loss: 0.7231 - val_accuracy: 0.6842\n",
            "Epoch 140/500\n",
            "5/5 [==============================] - 3s 682ms/step - loss: 0.3807 - accuracy: 0.8366 - val_loss: 0.6595 - val_accuracy: 0.6842\n",
            "Epoch 141/500\n",
            "5/5 [==============================] - 3s 660ms/step - loss: 0.3781 - accuracy: 0.8301 - val_loss: 0.6954 - val_accuracy: 0.5789\n",
            "Epoch 142/500\n",
            "5/5 [==============================] - 5s 991ms/step - loss: 0.3851 - accuracy: 0.8431 - val_loss: 0.6432 - val_accuracy: 0.6316\n",
            "Epoch 143/500\n",
            "5/5 [==============================] - 3s 670ms/step - loss: 0.3767 - accuracy: 0.8235 - val_loss: 0.6359 - val_accuracy: 0.6316\n",
            "Epoch 144/500\n",
            "5/5 [==============================] - 3s 659ms/step - loss: 0.3629 - accuracy: 0.8627 - val_loss: 0.6375 - val_accuracy: 0.6316\n",
            "Epoch 145/500\n",
            "5/5 [==============================] - 3s 713ms/step - loss: 0.3761 - accuracy: 0.8758 - val_loss: 0.6543 - val_accuracy: 0.5789\n",
            "Epoch 146/500\n",
            "5/5 [==============================] - 5s 953ms/step - loss: 0.3965 - accuracy: 0.8693 - val_loss: 0.6348 - val_accuracy: 0.6842\n",
            "Epoch 147/500\n",
            "5/5 [==============================] - 3s 673ms/step - loss: 0.4006 - accuracy: 0.8170 - val_loss: 0.6263 - val_accuracy: 0.6842\n",
            "Epoch 148/500\n",
            "5/5 [==============================] - 4s 705ms/step - loss: 0.3893 - accuracy: 0.8039 - val_loss: 0.6451 - val_accuracy: 0.5789\n",
            "Epoch 149/500\n",
            "5/5 [==============================] - 4s 910ms/step - loss: 0.3981 - accuracy: 0.8170 - val_loss: 0.5481 - val_accuracy: 0.7368\n",
            "Epoch 150/500\n",
            "5/5 [==============================] - 4s 805ms/step - loss: 0.4192 - accuracy: 0.7451 - val_loss: 0.7828 - val_accuracy: 0.6316\n",
            "Epoch 151/500\n",
            "5/5 [==============================] - 4s 699ms/step - loss: 0.4025 - accuracy: 0.8562 - val_loss: 0.6279 - val_accuracy: 0.5789\n",
            "Epoch 152/500\n",
            "5/5 [==============================] - 3s 683ms/step - loss: 0.3923 - accuracy: 0.8431 - val_loss: 0.6900 - val_accuracy: 0.6842\n",
            "Epoch 153/500\n",
            "5/5 [==============================] - 5s 1s/step - loss: 0.4341 - accuracy: 0.7843 - val_loss: 0.7276 - val_accuracy: 0.6316\n",
            "Epoch 154/500\n",
            "5/5 [==============================] - 4s 718ms/step - loss: 0.4132 - accuracy: 0.8105 - val_loss: 0.6184 - val_accuracy: 0.5789\n",
            "Epoch 155/500\n",
            "5/5 [==============================] - 4s 734ms/step - loss: 0.3639 - accuracy: 0.8824 - val_loss: 0.6444 - val_accuracy: 0.6316\n",
            "Epoch 156/500\n",
            "5/5 [==============================] - 4s 852ms/step - loss: 0.3765 - accuracy: 0.8758 - val_loss: 0.5936 - val_accuracy: 0.5789\n",
            "Epoch 157/500\n",
            "5/5 [==============================] - 5s 946ms/step - loss: 0.4013 - accuracy: 0.8366 - val_loss: 0.6164 - val_accuracy: 0.6316\n",
            "Epoch 158/500\n",
            "5/5 [==============================] - 3s 650ms/step - loss: 0.4404 - accuracy: 0.7059 - val_loss: 0.7900 - val_accuracy: 0.5789\n",
            "Epoch 159/500\n",
            "5/5 [==============================] - 3s 659ms/step - loss: 0.3581 - accuracy: 0.8562 - val_loss: 0.6912 - val_accuracy: 0.5263\n",
            "Epoch 160/500\n",
            "5/5 [==============================] - 4s 843ms/step - loss: 0.3500 - accuracy: 0.8497 - val_loss: 0.8213 - val_accuracy: 0.5789\n",
            "Epoch 161/500\n",
            "5/5 [==============================] - 4s 793ms/step - loss: 0.3328 - accuracy: 0.8497 - val_loss: 0.6772 - val_accuracy: 0.6842\n",
            "Epoch 162/500\n",
            "5/5 [==============================] - 3s 660ms/step - loss: 0.3636 - accuracy: 0.7908 - val_loss: 0.7552 - val_accuracy: 0.5789\n",
            "Epoch 163/500\n",
            "5/5 [==============================] - 3s 660ms/step - loss: 0.3956 - accuracy: 0.8301 - val_loss: 0.6655 - val_accuracy: 0.5263\n",
            "Epoch 164/500\n",
            "5/5 [==============================] - 4s 946ms/step - loss: 0.4372 - accuracy: 0.7778 - val_loss: 0.5709 - val_accuracy: 0.6316\n",
            "Epoch 165/500\n",
            "5/5 [==============================] - 4s 699ms/step - loss: 0.6265 - accuracy: 0.6667 - val_loss: 0.9478 - val_accuracy: 0.5789\n",
            "Epoch 166/500\n",
            "5/5 [==============================] - 3s 649ms/step - loss: 0.7189 - accuracy: 0.6993 - val_loss: 0.8852 - val_accuracy: 0.5263\n",
            "Epoch 167/500\n",
            "5/5 [==============================] - 3s 651ms/step - loss: 0.7404 - accuracy: 0.6144 - val_loss: 1.0962 - val_accuracy: 0.4737\n",
            "Epoch 168/500\n",
            "5/5 [==============================] - 5s 1s/step - loss: 0.5644 - accuracy: 0.7712 - val_loss: 0.7444 - val_accuracy: 0.5789\n",
            "Epoch 169/500\n",
            "5/5 [==============================] - 3s 658ms/step - loss: 0.4699 - accuracy: 0.6732 - val_loss: 0.7718 - val_accuracy: 0.5789\n",
            "Epoch 170/500\n",
            "5/5 [==============================] - 3s 660ms/step - loss: 0.3632 - accuracy: 0.8758 - val_loss: 0.7545 - val_accuracy: 0.5789\n",
            "Epoch 171/500\n",
            "5/5 [==============================] - 3s 671ms/step - loss: 0.3804 - accuracy: 0.8105 - val_loss: 0.8114 - val_accuracy: 0.5789\n",
            "Epoch 172/500\n",
            "5/5 [==============================] - 5s 1s/step - loss: 0.4050 - accuracy: 0.7843 - val_loss: 0.7575 - val_accuracy: 0.6316\n",
            "Epoch 173/500\n",
            "5/5 [==============================] - 3s 673ms/step - loss: 0.3837 - accuracy: 0.8170 - val_loss: 0.7644 - val_accuracy: 0.5789\n",
            "Epoch 174/500\n",
            "5/5 [==============================] - 3s 666ms/step - loss: 0.3716 - accuracy: 0.8170 - val_loss: 0.6956 - val_accuracy: 0.6316\n",
            "Epoch 175/500\n",
            "5/5 [==============================] - 3s 699ms/step - loss: 0.3731 - accuracy: 0.8105 - val_loss: 0.7602 - val_accuracy: 0.6316\n",
            "Epoch 176/500\n",
            "5/5 [==============================] - 5s 936ms/step - loss: 0.3726 - accuracy: 0.8235 - val_loss: 0.7470 - val_accuracy: 0.5789\n",
            "Epoch 177/500\n",
            "5/5 [==============================] - 3s 669ms/step - loss: 0.3844 - accuracy: 0.8301 - val_loss: 0.7069 - val_accuracy: 0.5789\n",
            "Epoch 178/500\n",
            "5/5 [==============================] - 3s 651ms/step - loss: 0.3861 - accuracy: 0.8170 - val_loss: 0.7382 - val_accuracy: 0.5789\n",
            "Epoch 179/500\n",
            "5/5 [==============================] - 4s 748ms/step - loss: 0.3734 - accuracy: 0.8105 - val_loss: 0.6508 - val_accuracy: 0.5789\n",
            "Epoch 180/500\n",
            "5/5 [==============================] - 5s 908ms/step - loss: 0.3898 - accuracy: 0.8170 - val_loss: 0.6307 - val_accuracy: 0.5789\n",
            "Epoch 181/500\n",
            "5/5 [==============================] - 3s 653ms/step - loss: 0.3740 - accuracy: 0.8824 - val_loss: 0.6744 - val_accuracy: 0.6316\n",
            "Epoch 182/500\n",
            "5/5 [==============================] - 3s 652ms/step - loss: 0.3839 - accuracy: 0.8366 - val_loss: 0.6768 - val_accuracy: 0.5789\n",
            "Epoch 183/500\n",
            "5/5 [==============================] - 4s 816ms/step - loss: 0.3535 - accuracy: 0.8889 - val_loss: 0.6369 - val_accuracy: 0.5789\n",
            "Epoch 184/500\n",
            "5/5 [==============================] - 4s 825ms/step - loss: 0.3446 - accuracy: 0.9216 - val_loss: 0.6632 - val_accuracy: 0.5789\n",
            "Epoch 185/500\n",
            "5/5 [==============================] - 3s 657ms/step - loss: 0.3573 - accuracy: 0.8627 - val_loss: 0.5937 - val_accuracy: 0.6316\n",
            "Epoch 186/500\n",
            "5/5 [==============================] - 3s 664ms/step - loss: 0.3902 - accuracy: 0.8497 - val_loss: 0.7586 - val_accuracy: 0.5789\n",
            "Epoch 187/500\n",
            "5/5 [==============================] - 4s 953ms/step - loss: 0.3847 - accuracy: 0.8235 - val_loss: 0.7228 - val_accuracy: 0.5789\n",
            "Epoch 188/500\n",
            "5/5 [==============================] - 4s 709ms/step - loss: 0.3300 - accuracy: 0.8758 - val_loss: 0.7588 - val_accuracy: 0.5789\n",
            "Epoch 189/500\n",
            "5/5 [==============================] - 3s 661ms/step - loss: 0.3245 - accuracy: 0.9020 - val_loss: 0.6718 - val_accuracy: 0.5263\n",
            "Epoch 190/500\n",
            "5/5 [==============================] - 3s 658ms/step - loss: 0.3327 - accuracy: 0.8627 - val_loss: 0.7144 - val_accuracy: 0.5789\n",
            "Epoch 191/500\n",
            "5/5 [==============================] - 5s 1s/step - loss: 0.3475 - accuracy: 0.8627 - val_loss: 0.6332 - val_accuracy: 0.6316\n",
            "Epoch 192/500\n",
            "5/5 [==============================] - 4s 667ms/step - loss: 0.3315 - accuracy: 0.8824 - val_loss: 0.6781 - val_accuracy: 0.5789\n",
            "Epoch 193/500\n",
            "5/5 [==============================] - 3s 658ms/step - loss: 0.3397 - accuracy: 0.8824 - val_loss: 0.6574 - val_accuracy: 0.6316\n",
            "Epoch 194/500\n",
            "5/5 [==============================] - 3s 658ms/step - loss: 0.3491 - accuracy: 0.8627 - val_loss: 0.6428 - val_accuracy: 0.6842\n",
            "Epoch 195/500\n",
            "5/5 [==============================] - 5s 1s/step - loss: 0.3553 - accuracy: 0.8431 - val_loss: 0.7755 - val_accuracy: 0.5789\n",
            "Epoch 196/500\n",
            "5/5 [==============================] - 3s 659ms/step - loss: 0.3516 - accuracy: 0.8366 - val_loss: 0.7278 - val_accuracy: 0.5789\n",
            "Epoch 197/500\n",
            "5/5 [==============================] - 3s 649ms/step - loss: 0.3206 - accuracy: 0.8627 - val_loss: 0.8482 - val_accuracy: 0.5789\n",
            "Epoch 198/500\n",
            "5/5 [==============================] - 3s 657ms/step - loss: 0.2925 - accuracy: 0.8889 - val_loss: 0.7808 - val_accuracy: 0.5789\n",
            "Epoch 199/500\n",
            "5/5 [==============================] - 5s 1s/step - loss: 0.2780 - accuracy: 0.9216 - val_loss: 0.8420 - val_accuracy: 0.6316\n",
            "Epoch 200/500\n",
            "5/5 [==============================] - 3s 657ms/step - loss: 0.2615 - accuracy: 0.8954 - val_loss: 0.7194 - val_accuracy: 0.5789\n",
            "Epoch 201/500\n",
            "5/5 [==============================] - 3s 669ms/step - loss: 0.2951 - accuracy: 0.8758 - val_loss: 1.0197 - val_accuracy: 0.6316\n",
            "Epoch 202/500\n",
            "5/5 [==============================] - 3s 679ms/step - loss: 0.2752 - accuracy: 0.9020 - val_loss: 0.8921 - val_accuracy: 0.5263\n",
            "Epoch 203/500\n",
            "5/5 [==============================] - 5s 994ms/step - loss: 0.2768 - accuracy: 0.9150 - val_loss: 0.8608 - val_accuracy: 0.5263\n",
            "Epoch 204/500\n",
            "5/5 [==============================] - 3s 661ms/step - loss: 0.2781 - accuracy: 0.9281 - val_loss: 0.7678 - val_accuracy: 0.5263\n",
            "Epoch 205/500\n",
            "5/5 [==============================] - 3s 667ms/step - loss: 0.2940 - accuracy: 0.9020 - val_loss: 0.7297 - val_accuracy: 0.5263\n",
            "Epoch 206/500\n",
            "5/5 [==============================] - 4s 811ms/step - loss: 0.3077 - accuracy: 0.9020 - val_loss: 0.7317 - val_accuracy: 0.5789\n",
            "Epoch 207/500\n",
            "5/5 [==============================] - 4s 839ms/step - loss: 0.2594 - accuracy: 0.8889 - val_loss: 0.7095 - val_accuracy: 0.5789\n",
            "Epoch 208/500\n",
            "5/5 [==============================] - 3s 662ms/step - loss: 0.3306 - accuracy: 0.7974 - val_loss: 0.7057 - val_accuracy: 0.6842\n",
            "Epoch 209/500\n",
            "5/5 [==============================] - 3s 664ms/step - loss: 0.3616 - accuracy: 0.8562 - val_loss: 0.8607 - val_accuracy: 0.5789\n",
            "Epoch 210/500\n",
            "5/5 [==============================] - 4s 889ms/step - loss: 0.3419 - accuracy: 0.8170 - val_loss: 0.6732 - val_accuracy: 0.5789\n",
            "Epoch 211/500\n",
            "5/5 [==============================] - 4s 728ms/step - loss: 0.3487 - accuracy: 0.8431 - val_loss: 0.9493 - val_accuracy: 0.5789\n",
            "Epoch 212/500\n",
            "5/5 [==============================] - 3s 667ms/step - loss: 0.3307 - accuracy: 0.8039 - val_loss: 0.7083 - val_accuracy: 0.5789\n",
            "Epoch 213/500\n",
            "5/5 [==============================] - 3s 657ms/step - loss: 0.3409 - accuracy: 0.8431 - val_loss: 0.9470 - val_accuracy: 0.5789\n",
            "Epoch 214/500\n",
            "5/5 [==============================] - 5s 1s/step - loss: 0.3126 - accuracy: 0.8758 - val_loss: 0.7071 - val_accuracy: 0.6842\n",
            "Epoch 215/500\n",
            "5/5 [==============================] - 4s 655ms/step - loss: 0.3278 - accuracy: 0.8954 - val_loss: 1.0218 - val_accuracy: 0.6316\n",
            "Epoch 216/500\n",
            "5/5 [==============================] - 4s 793ms/step - loss: 0.3363 - accuracy: 0.8562 - val_loss: 0.7610 - val_accuracy: 0.6316\n",
            "Epoch 217/500\n",
            "5/5 [==============================] - 3s 657ms/step - loss: 0.3289 - accuracy: 0.8758 - val_loss: 0.7902 - val_accuracy: 0.6316\n",
            "Epoch 218/500\n",
            "5/5 [==============================] - 5s 1s/step - loss: 0.3187 - accuracy: 0.8627 - val_loss: 0.9123 - val_accuracy: 0.5263\n",
            "Epoch 219/500\n",
            "5/5 [==============================] - 3s 662ms/step - loss: 0.2648 - accuracy: 0.9020 - val_loss: 0.7446 - val_accuracy: 0.5789\n",
            "Epoch 220/500\n",
            "5/5 [==============================] - 3s 669ms/step - loss: 0.2662 - accuracy: 0.9150 - val_loss: 0.8505 - val_accuracy: 0.5263\n",
            "Epoch 221/500\n",
            "5/5 [==============================] - 3s 693ms/step - loss: 0.2462 - accuracy: 0.9020 - val_loss: 0.7710 - val_accuracy: 0.5263\n",
            "Epoch 222/500\n",
            "5/5 [==============================] - 5s 921ms/step - loss: 0.2444 - accuracy: 0.8954 - val_loss: 0.7879 - val_accuracy: 0.5263\n",
            "Epoch 223/500\n",
            "5/5 [==============================] - 3s 650ms/step - loss: 0.3132 - accuracy: 0.9020 - val_loss: 0.8452 - val_accuracy: 0.5789\n",
            "Epoch 224/500\n",
            "5/5 [==============================] - 3s 656ms/step - loss: 0.3485 - accuracy: 0.8954 - val_loss: 0.8508 - val_accuracy: 0.6316\n",
            "Epoch 225/500\n",
            "5/5 [==============================] - 4s 764ms/step - loss: 0.3329 - accuracy: 0.8824 - val_loss: 0.7450 - val_accuracy: 0.5263\n",
            "Epoch 226/500\n",
            "5/5 [==============================] - 5s 883ms/step - loss: 0.2749 - accuracy: 0.9150 - val_loss: 0.7544 - val_accuracy: 0.5789\n",
            "Epoch 227/500\n",
            "5/5 [==============================] - 3s 659ms/step - loss: 0.2615 - accuracy: 0.9281 - val_loss: 0.7006 - val_accuracy: 0.6316\n",
            "Epoch 228/500\n",
            "5/5 [==============================] - 3s 655ms/step - loss: 0.2424 - accuracy: 0.9412 - val_loss: 0.7627 - val_accuracy: 0.5789\n",
            "Epoch 229/500\n",
            "5/5 [==============================] - 4s 828ms/step - loss: 0.2328 - accuracy: 0.9346 - val_loss: 0.7443 - val_accuracy: 0.6316\n",
            "Epoch 230/500\n",
            "5/5 [==============================] - 4s 815ms/step - loss: 0.2319 - accuracy: 0.9477 - val_loss: 0.6871 - val_accuracy: 0.6316\n",
            "Epoch 231/500\n",
            "5/5 [==============================] - 3s 673ms/step - loss: 0.2239 - accuracy: 0.9608 - val_loss: 0.7574 - val_accuracy: 0.5789\n",
            "Epoch 232/500\n",
            "5/5 [==============================] - 3s 659ms/step - loss: 0.2444 - accuracy: 0.8954 - val_loss: 0.7822 - val_accuracy: 0.5789\n",
            "Epoch 233/500\n",
            "5/5 [==============================] - 4s 905ms/step - loss: 0.2568 - accuracy: 0.9542 - val_loss: 0.8613 - val_accuracy: 0.5789\n",
            "Epoch 234/500\n",
            "5/5 [==============================] - 4s 730ms/step - loss: 0.2910 - accuracy: 0.8693 - val_loss: 0.8837 - val_accuracy: 0.5789\n",
            "Epoch 235/500\n",
            "5/5 [==============================] - 3s 666ms/step - loss: 0.2899 - accuracy: 0.8693 - val_loss: 0.9876 - val_accuracy: 0.5789\n",
            "Epoch 236/500\n",
            "5/5 [==============================] - 3s 671ms/step - loss: 0.2514 - accuracy: 0.8758 - val_loss: 1.0754 - val_accuracy: 0.5263\n",
            "Epoch 237/500\n",
            "5/5 [==============================] - 5s 1s/step - loss: 0.2555 - accuracy: 0.9020 - val_loss: 0.9456 - val_accuracy: 0.6316\n",
            "Epoch 238/500\n",
            "5/5 [==============================] - 4s 668ms/step - loss: 0.2344 - accuracy: 0.9150 - val_loss: 1.1431 - val_accuracy: 0.5263\n",
            "Epoch 239/500\n",
            "5/5 [==============================] - 3s 661ms/step - loss: 0.2651 - accuracy: 0.8889 - val_loss: 1.0056 - val_accuracy: 0.6316\n",
            "Epoch 240/500\n",
            "5/5 [==============================] - 3s 653ms/step - loss: 0.2413 - accuracy: 0.9020 - val_loss: 0.9217 - val_accuracy: 0.5789\n",
            "Epoch 241/500\n",
            "5/5 [==============================] - 5s 1s/step - loss: 0.3616 - accuracy: 0.8039 - val_loss: 1.0918 - val_accuracy: 0.5263\n",
            "Epoch 242/500\n",
            "5/5 [==============================] - 3s 664ms/step - loss: 0.6007 - accuracy: 0.8039 - val_loss: 0.9428 - val_accuracy: 0.4737\n",
            "Epoch 243/500\n",
            "5/5 [==============================] - 3s 673ms/step - loss: 0.4864 - accuracy: 0.6928 - val_loss: 0.9323 - val_accuracy: 0.5263\n",
            "Epoch 244/500\n",
            "5/5 [==============================] - 3s 657ms/step - loss: 0.4189 - accuracy: 0.8824 - val_loss: 0.7489 - val_accuracy: 0.6842\n",
            "Epoch 245/500\n",
            "5/5 [==============================] - 5s 1s/step - loss: 0.3795 - accuracy: 0.8627 - val_loss: 0.7283 - val_accuracy: 0.6316\n",
            "Epoch 246/500\n",
            "5/5 [==============================] - 3s 661ms/step - loss: 0.3631 - accuracy: 0.8497 - val_loss: 0.8137 - val_accuracy: 0.5789\n",
            "Epoch 247/500\n",
            "5/5 [==============================] - 3s 647ms/step - loss: 0.3620 - accuracy: 0.8562 - val_loss: 0.7415 - val_accuracy: 0.4211\n",
            "Epoch 248/500\n",
            "5/5 [==============================] - 3s 681ms/step - loss: 0.3802 - accuracy: 0.7974 - val_loss: 0.7569 - val_accuracy: 0.5789\n",
            "Epoch 249/500\n",
            "5/5 [==============================] - 5s 941ms/step - loss: 0.3446 - accuracy: 0.8693 - val_loss: 0.6540 - val_accuracy: 0.5789\n",
            "Epoch 250/500\n",
            "5/5 [==============================] - 3s 668ms/step - loss: 0.3589 - accuracy: 0.8497 - val_loss: 0.7911 - val_accuracy: 0.5263\n",
            "Epoch 251/500\n",
            "5/5 [==============================] - 3s 660ms/step - loss: 0.3925 - accuracy: 0.8301 - val_loss: 0.7265 - val_accuracy: 0.6316\n",
            "Epoch 252/500\n",
            "5/5 [==============================] - 4s 725ms/step - loss: 0.4206 - accuracy: 0.7255 - val_loss: 0.8241 - val_accuracy: 0.5263\n",
            "Epoch 253/500\n",
            "5/5 [==============================] - 5s 911ms/step - loss: 0.3806 - accuracy: 0.8562 - val_loss: 0.6327 - val_accuracy: 0.5789\n",
            "Epoch 254/500\n",
            "5/5 [==============================] - 3s 657ms/step - loss: 0.3628 - accuracy: 0.8889 - val_loss: 0.6945 - val_accuracy: 0.4737\n",
            "Epoch 255/500\n",
            "5/5 [==============================] - 3s 649ms/step - loss: 0.3671 - accuracy: 0.8954 - val_loss: 0.6900 - val_accuracy: 0.4737\n",
            "Epoch 256/500\n",
            "5/5 [==============================] - 4s 798ms/step - loss: 0.3701 - accuracy: 0.9150 - val_loss: 0.6929 - val_accuracy: 0.5263\n",
            "Epoch 257/500\n",
            "5/5 [==============================] - 4s 856ms/step - loss: 0.3788 - accuracy: 0.8366 - val_loss: 0.7276 - val_accuracy: 0.4737\n",
            "Epoch 258/500\n",
            "5/5 [==============================] - 3s 657ms/step - loss: 0.3602 - accuracy: 0.8824 - val_loss: 0.6813 - val_accuracy: 0.6316\n",
            "Epoch 259/500\n",
            "5/5 [==============================] - 3s 660ms/step - loss: 0.3590 - accuracy: 0.8431 - val_loss: 0.7736 - val_accuracy: 0.5263\n",
            "Epoch 260/500\n",
            "5/5 [==============================] - 4s 870ms/step - loss: 0.3708 - accuracy: 0.8758 - val_loss: 0.6286 - val_accuracy: 0.6316\n",
            "Epoch 261/500\n",
            "5/5 [==============================] - 4s 767ms/step - loss: 0.3400 - accuracy: 0.8758 - val_loss: 0.7387 - val_accuracy: 0.5789\n",
            "Epoch 262/500\n",
            "5/5 [==============================] - 3s 658ms/step - loss: 0.3604 - accuracy: 0.8627 - val_loss: 0.6709 - val_accuracy: 0.5263\n",
            "Epoch 263/500\n",
            "5/5 [==============================] - 3s 657ms/step - loss: 0.4923 - accuracy: 0.6863 - val_loss: 0.7152 - val_accuracy: 0.5789\n",
            "Epoch 264/500\n",
            "5/5 [==============================] - 5s 993ms/step - loss: 0.4378 - accuracy: 0.7516 - val_loss: 0.6242 - val_accuracy: 0.5263\n",
            "Epoch 265/500\n",
            "5/5 [==============================] - 4s 667ms/step - loss: 0.4050 - accuracy: 0.8170 - val_loss: 0.5911 - val_accuracy: 0.5789\n",
            "Epoch 266/500\n",
            "5/5 [==============================] - 3s 655ms/step - loss: 0.4208 - accuracy: 0.8039 - val_loss: 0.7026 - val_accuracy: 0.5263\n",
            "Epoch 267/500\n",
            "5/5 [==============================] - 3s 676ms/step - loss: 0.4007 - accuracy: 0.8039 - val_loss: 0.6867 - val_accuracy: 0.5263\n",
            "Epoch 268/500\n",
            "5/5 [==============================] - 5s 1s/step - loss: 0.4066 - accuracy: 0.8039 - val_loss: 0.6741 - val_accuracy: 0.5789\n",
            "Epoch 269/500\n",
            "5/5 [==============================] - 4s 664ms/step - loss: 0.4115 - accuracy: 0.7778 - val_loss: 0.6560 - val_accuracy: 0.5263\n",
            "Epoch 270/500\n",
            "5/5 [==============================] - 3s 660ms/step - loss: 0.4048 - accuracy: 0.7974 - val_loss: 0.6097 - val_accuracy: 0.6316\n",
            "Epoch 271/500\n",
            "5/5 [==============================] - 3s 668ms/step - loss: 0.4287 - accuracy: 0.7974 - val_loss: 0.6708 - val_accuracy: 0.6316\n",
            "Epoch 272/500\n",
            "5/5 [==============================] - 5s 1s/step - loss: 0.4317 - accuracy: 0.7451 - val_loss: 0.5876 - val_accuracy: 0.5263\n",
            "Epoch 273/500\n",
            "5/5 [==============================] - 3s 660ms/step - loss: 0.4408 - accuracy: 0.7843 - val_loss: 0.6713 - val_accuracy: 0.6316\n",
            "Epoch 274/500\n",
            "5/5 [==============================] - 3s 658ms/step - loss: 0.4533 - accuracy: 0.6797 - val_loss: 0.5842 - val_accuracy: 0.5789\n",
            "Epoch 275/500\n",
            "5/5 [==============================] - 3s 698ms/step - loss: 0.4539 - accuracy: 0.7843 - val_loss: 0.5853 - val_accuracy: 0.5263\n",
            "Epoch 276/500\n",
            "5/5 [==============================] - 5s 951ms/step - loss: 0.4561 - accuracy: 0.7778 - val_loss: 0.5813 - val_accuracy: 0.5263\n",
            "Epoch 277/500\n",
            "5/5 [==============================] - 3s 658ms/step - loss: 0.4592 - accuracy: 0.7647 - val_loss: 0.5671 - val_accuracy: 0.5789\n",
            "Epoch 278/500\n",
            "5/5 [==============================] - 3s 663ms/step - loss: 0.4374 - accuracy: 0.8366 - val_loss: 0.5845 - val_accuracy: 0.5789\n",
            "Epoch 279/500\n",
            "5/5 [==============================] - 4s 763ms/step - loss: 0.4481 - accuracy: 0.7778 - val_loss: 0.5640 - val_accuracy: 0.5789\n",
            "Epoch 280/500\n",
            "5/5 [==============================] - 5s 896ms/step - loss: 0.4631 - accuracy: 0.7451 - val_loss: 0.5528 - val_accuracy: 0.5263\n",
            "Epoch 281/500\n",
            "5/5 [==============================] - 3s 658ms/step - loss: 0.4536 - accuracy: 0.7647 - val_loss: 0.5747 - val_accuracy: 0.6316\n",
            "Epoch 282/500\n",
            "5/5 [==============================] - 3s 670ms/step - loss: 0.4511 - accuracy: 0.8039 - val_loss: 0.5737 - val_accuracy: 0.5789\n",
            "Epoch 283/500\n",
            "5/5 [==============================] - 4s 815ms/step - loss: 0.4424 - accuracy: 0.8105 - val_loss: 0.5799 - val_accuracy: 0.5789\n",
            "Epoch 284/500\n",
            "5/5 [==============================] - 4s 836ms/step - loss: 0.4552 - accuracy: 0.7582 - val_loss: 0.5762 - val_accuracy: 0.5789\n",
            "Epoch 285/500\n",
            "5/5 [==============================] - 3s 662ms/step - loss: 0.4699 - accuracy: 0.7190 - val_loss: 0.6249 - val_accuracy: 0.6316\n",
            "Epoch 286/500\n",
            "5/5 [==============================] - 3s 660ms/step - loss: 0.4702 - accuracy: 0.7451 - val_loss: 0.5770 - val_accuracy: 0.5789\n",
            "Epoch 287/500\n",
            "5/5 [==============================] - 4s 928ms/step - loss: 0.4455 - accuracy: 0.7712 - val_loss: 0.6153 - val_accuracy: 0.6316\n",
            "Epoch 288/500\n",
            "5/5 [==============================] - 4s 727ms/step - loss: 0.4524 - accuracy: 0.7059 - val_loss: 0.5889 - val_accuracy: 0.5789\n",
            "Epoch 289/500\n",
            "5/5 [==============================] - 3s 660ms/step - loss: 0.4352 - accuracy: 0.8105 - val_loss: 0.6119 - val_accuracy: 0.5789\n",
            "Epoch 290/500\n",
            "5/5 [==============================] - 3s 667ms/step - loss: 0.4392 - accuracy: 0.7908 - val_loss: 0.5929 - val_accuracy: 0.5789\n",
            "Epoch 291/500\n",
            "5/5 [==============================] - 5s 1s/step - loss: 0.4655 - accuracy: 0.6732 - val_loss: 0.7121 - val_accuracy: 0.5789\n",
            "Epoch 292/500\n",
            "5/5 [==============================] - 4s 665ms/step - loss: 0.4738 - accuracy: 0.7647 - val_loss: 0.5805 - val_accuracy: 0.6316\n",
            "Epoch 293/500\n",
            "5/5 [==============================] - 3s 657ms/step - loss: 0.4657 - accuracy: 0.7255 - val_loss: 0.7160 - val_accuracy: 0.6316\n",
            "Epoch 294/500\n",
            "5/5 [==============================] - 3s 663ms/step - loss: 0.4791 - accuracy: 0.7516 - val_loss: 0.5673 - val_accuracy: 0.6316\n",
            "Epoch 295/500\n",
            "5/5 [==============================] - 5s 1s/step - loss: 0.4333 - accuracy: 0.7778 - val_loss: 0.6265 - val_accuracy: 0.6316\n",
            "Epoch 296/500\n",
            "5/5 [==============================] - 3s 667ms/step - loss: 0.4542 - accuracy: 0.7516 - val_loss: 0.5854 - val_accuracy: 0.5789\n",
            "Epoch 297/500\n",
            "5/5 [==============================] - 3s 682ms/step - loss: 0.4415 - accuracy: 0.7712 - val_loss: 0.6378 - val_accuracy: 0.5789\n",
            "Epoch 298/500\n",
            "5/5 [==============================] - 4s 723ms/step - loss: 0.4562 - accuracy: 0.7778 - val_loss: 0.5878 - val_accuracy: 0.6842\n",
            "Epoch 299/500\n",
            "5/5 [==============================] - 5s 947ms/step - loss: 0.5130 - accuracy: 0.6536 - val_loss: 0.7483 - val_accuracy: 0.5789\n",
            "Epoch 300/500\n",
            "5/5 [==============================] - 3s 673ms/step - loss: 0.4896 - accuracy: 0.7059 - val_loss: 0.6246 - val_accuracy: 0.6842\n",
            "Epoch 301/500\n",
            "5/5 [==============================] - 3s 664ms/step - loss: 0.5848 - accuracy: 0.6667 - val_loss: 0.6827 - val_accuracy: 0.5789\n",
            "Epoch 302/500\n",
            "5/5 [==============================] - 4s 851ms/step - loss: 0.4924 - accuracy: 0.6863 - val_loss: 0.5846 - val_accuracy: 0.5789\n",
            "Epoch 303/500\n",
            "5/5 [==============================] - 4s 823ms/step - loss: 0.4994 - accuracy: 0.7516 - val_loss: 0.5824 - val_accuracy: 0.6316\n",
            "Epoch 304/500\n",
            "5/5 [==============================] - 3s 667ms/step - loss: 0.4576 - accuracy: 0.6928 - val_loss: 0.5800 - val_accuracy: 0.5789\n",
            "Epoch 305/500\n",
            "5/5 [==============================] - 3s 680ms/step - loss: 0.4682 - accuracy: 0.7712 - val_loss: 0.5310 - val_accuracy: 0.6842\n",
            "Epoch 306/500\n",
            "5/5 [==============================] - 5s 985ms/step - loss: 0.4864 - accuracy: 0.6928 - val_loss: 0.6484 - val_accuracy: 0.5789\n",
            "Epoch 307/500\n",
            "5/5 [==============================] - 4s 693ms/step - loss: 0.4606 - accuracy: 0.7320 - val_loss: 0.5465 - val_accuracy: 0.6316\n",
            "Epoch 308/500\n",
            "5/5 [==============================] - 3s 677ms/step - loss: 0.4679 - accuracy: 0.7190 - val_loss: 0.6480 - val_accuracy: 0.6316\n",
            "Epoch 309/500\n",
            "5/5 [==============================] - 3s 658ms/step - loss: 0.5126 - accuracy: 0.7255 - val_loss: 0.5245 - val_accuracy: 0.6842\n",
            "Epoch 310/500\n",
            "5/5 [==============================] - 5s 1s/step - loss: 0.4559 - accuracy: 0.7451 - val_loss: 0.6039 - val_accuracy: 0.6316\n",
            "Epoch 311/500\n",
            "5/5 [==============================] - 3s 658ms/step - loss: 0.4397 - accuracy: 0.7843 - val_loss: 0.5357 - val_accuracy: 0.6316\n",
            "Epoch 312/500\n",
            "5/5 [==============================] - 3s 663ms/step - loss: 0.4458 - accuracy: 0.7255 - val_loss: 0.5682 - val_accuracy: 0.6316\n",
            "Epoch 313/500\n",
            "5/5 [==============================] - 3s 665ms/step - loss: 0.4460 - accuracy: 0.8039 - val_loss: 0.5294 - val_accuracy: 0.7368\n",
            "Epoch 314/500\n",
            "5/5 [==============================] - 5s 1s/step - loss: 0.4801 - accuracy: 0.7059 - val_loss: 0.5619 - val_accuracy: 0.6316\n",
            "Epoch 315/500\n",
            "5/5 [==============================] - 3s 666ms/step - loss: 0.4990 - accuracy: 0.7190 - val_loss: 0.5873 - val_accuracy: 0.5789\n",
            "Epoch 316/500\n",
            "5/5 [==============================] - 3s 668ms/step - loss: 0.4787 - accuracy: 0.7059 - val_loss: 0.6030 - val_accuracy: 0.5789\n",
            "Epoch 317/500\n",
            "5/5 [==============================] - 4s 744ms/step - loss: 0.4580 - accuracy: 0.7647 - val_loss: 0.5794 - val_accuracy: 0.5789\n",
            "Epoch 318/500\n",
            "5/5 [==============================] - 5s 919ms/step - loss: 0.4707 - accuracy: 0.7843 - val_loss: 0.5574 - val_accuracy: 0.5263\n",
            "Epoch 319/500\n",
            "5/5 [==============================] - 3s 669ms/step - loss: 0.4865 - accuracy: 0.7190 - val_loss: 0.6335 - val_accuracy: 0.5789\n",
            "Epoch 320/500\n",
            "5/5 [==============================] - 3s 665ms/step - loss: 0.5247 - accuracy: 0.6797 - val_loss: 0.5553 - val_accuracy: 0.6842\n",
            "Epoch 321/500\n",
            "5/5 [==============================] - 4s 816ms/step - loss: 0.5217 - accuracy: 0.6732 - val_loss: 0.7399 - val_accuracy: 0.5789\n",
            "Epoch 322/500\n",
            "5/5 [==============================] - 5s 848ms/step - loss: 0.5704 - accuracy: 0.5948 - val_loss: 0.5352 - val_accuracy: 0.6842\n",
            "Epoch 323/500\n",
            "5/5 [==============================] - 3s 681ms/step - loss: 0.4843 - accuracy: 0.7386 - val_loss: 0.6826 - val_accuracy: 0.5789\n",
            "Epoch 324/500\n",
            "5/5 [==============================] - 3s 665ms/step - loss: 0.4539 - accuracy: 0.7516 - val_loss: 0.5212 - val_accuracy: 0.6316\n",
            "Epoch 325/500\n",
            "5/5 [==============================] - 5s 964ms/step - loss: 0.4798 - accuracy: 0.7255 - val_loss: 0.7062 - val_accuracy: 0.6316\n",
            "Epoch 326/500\n",
            "5/5 [==============================] - 4s 660ms/step - loss: 0.4377 - accuracy: 0.7647 - val_loss: 0.5730 - val_accuracy: 0.6316\n",
            "Epoch 327/500\n",
            "5/5 [==============================] - 3s 669ms/step - loss: 0.4289 - accuracy: 0.7451 - val_loss: 0.6354 - val_accuracy: 0.6316\n",
            "Epoch 328/500\n",
            "5/5 [==============================] - 3s 660ms/step - loss: 0.4178 - accuracy: 0.8562 - val_loss: 0.5642 - val_accuracy: 0.6842\n",
            "Epoch 329/500\n",
            "5/5 [==============================] - 5s 1s/step - loss: 0.4044 - accuracy: 0.8105 - val_loss: 0.6590 - val_accuracy: 0.5789\n",
            "Epoch 330/500\n",
            "5/5 [==============================] - 3s 669ms/step - loss: 0.4111 - accuracy: 0.8366 - val_loss: 0.5486 - val_accuracy: 0.5789\n",
            "Epoch 331/500\n",
            "5/5 [==============================] - 3s 675ms/step - loss: 0.4135 - accuracy: 0.7778 - val_loss: 0.6549 - val_accuracy: 0.5263\n",
            "Epoch 332/500\n",
            "5/5 [==============================] - 3s 675ms/step - loss: 0.3953 - accuracy: 0.8693 - val_loss: 0.5363 - val_accuracy: 0.6842\n",
            "Epoch 333/500\n",
            "5/5 [==============================] - 5s 1s/step - loss: 0.3702 - accuracy: 0.8627 - val_loss: 0.6063 - val_accuracy: 0.5789\n",
            "Epoch 334/500\n",
            "5/5 [==============================] - 3s 661ms/step - loss: 0.3819 - accuracy: 0.9150 - val_loss: 0.5143 - val_accuracy: 0.7368\n",
            "Epoch 335/500\n",
            "5/5 [==============================] - 3s 657ms/step - loss: 0.4045 - accuracy: 0.9020 - val_loss: 0.6266 - val_accuracy: 0.5789\n",
            "Epoch 336/500\n",
            "5/5 [==============================] - 4s 707ms/step - loss: 0.4294 - accuracy: 0.7582 - val_loss: 0.5076 - val_accuracy: 0.6316\n",
            "Epoch 337/500\n",
            "5/5 [==============================] - 5s 949ms/step - loss: 0.4360 - accuracy: 0.7059 - val_loss: 0.6526 - val_accuracy: 0.6316\n",
            "Epoch 338/500\n",
            "5/5 [==============================] - 3s 680ms/step - loss: 0.4508 - accuracy: 0.7386 - val_loss: 0.5161 - val_accuracy: 0.6842\n",
            "Epoch 339/500\n",
            "5/5 [==============================] - 3s 669ms/step - loss: 0.4683 - accuracy: 0.6928 - val_loss: 0.6622 - val_accuracy: 0.5789\n",
            "Epoch 340/500\n",
            "5/5 [==============================] - 4s 763ms/step - loss: 0.4662 - accuracy: 0.7190 - val_loss: 0.5305 - val_accuracy: 0.6842\n",
            "Epoch 341/500\n",
            "5/5 [==============================] - 5s 899ms/step - loss: 0.4558 - accuracy: 0.7190 - val_loss: 0.6093 - val_accuracy: 0.5789\n",
            "Epoch 342/500\n",
            "5/5 [==============================] - 3s 660ms/step - loss: 0.3877 - accuracy: 0.8301 - val_loss: 0.5971 - val_accuracy: 0.6316\n",
            "Epoch 343/500\n",
            "5/5 [==============================] - 3s 656ms/step - loss: 0.4053 - accuracy: 0.7255 - val_loss: 0.6295 - val_accuracy: 0.5789\n",
            "Epoch 344/500\n",
            "5/5 [==============================] - 4s 847ms/step - loss: 0.4303 - accuracy: 0.7778 - val_loss: 0.5519 - val_accuracy: 0.5789\n",
            "Epoch 345/500\n",
            "5/5 [==============================] - 4s 798ms/step - loss: 0.4111 - accuracy: 0.7516 - val_loss: 0.6972 - val_accuracy: 0.6316\n",
            "Epoch 346/500\n",
            "5/5 [==============================] - 3s 675ms/step - loss: 0.3657 - accuracy: 0.8301 - val_loss: 0.5739 - val_accuracy: 0.5263\n",
            "Epoch 347/500\n",
            "5/5 [==============================] - 3s 682ms/step - loss: 0.3899 - accuracy: 0.7712 - val_loss: 0.7225 - val_accuracy: 0.5789\n",
            "Epoch 348/500\n",
            "5/5 [==============================] - 5s 994ms/step - loss: 0.3852 - accuracy: 0.8366 - val_loss: 0.6539 - val_accuracy: 0.6316\n",
            "Epoch 349/500\n",
            "5/5 [==============================] - 4s 681ms/step - loss: 0.3690 - accuracy: 0.8627 - val_loss: 0.6897 - val_accuracy: 0.5789\n",
            "Epoch 350/500\n",
            "5/5 [==============================] - 3s 660ms/step - loss: 0.3775 - accuracy: 0.7712 - val_loss: 0.7746 - val_accuracy: 0.5789\n",
            "Epoch 351/500\n",
            "5/5 [==============================] - 3s 664ms/step - loss: 0.3349 - accuracy: 0.8693 - val_loss: 0.7029 - val_accuracy: 0.6316\n",
            "Epoch 352/500\n",
            "5/5 [==============================] - 5s 1s/step - loss: 0.3090 - accuracy: 0.9150 - val_loss: 0.6993 - val_accuracy: 0.6842\n",
            "Epoch 353/500\n",
            "5/5 [==============================] - 3s 662ms/step - loss: 0.2965 - accuracy: 0.8954 - val_loss: 0.8427 - val_accuracy: 0.6842\n",
            "Epoch 354/500\n",
            "5/5 [==============================] - 3s 672ms/step - loss: 0.2918 - accuracy: 0.9020 - val_loss: 0.6500 - val_accuracy: 0.6316\n",
            "Epoch 355/500\n",
            "5/5 [==============================] - 3s 689ms/step - loss: 0.3228 - accuracy: 0.8497 - val_loss: 0.7168 - val_accuracy: 0.5789\n",
            "Epoch 356/500\n",
            "5/5 [==============================] - 5s 1s/step - loss: 0.3400 - accuracy: 0.8366 - val_loss: 0.5927 - val_accuracy: 0.6316\n",
            "Epoch 357/500\n",
            "5/5 [==============================] - 3s 669ms/step - loss: 0.2893 - accuracy: 0.9150 - val_loss: 0.5895 - val_accuracy: 0.6842\n",
            "Epoch 358/500\n",
            "5/5 [==============================] - 3s 656ms/step - loss: 0.3047 - accuracy: 0.8693 - val_loss: 0.6623 - val_accuracy: 0.6316\n",
            "Epoch 359/500\n",
            "5/5 [==============================] - 4s 741ms/step - loss: 0.3094 - accuracy: 0.8627 - val_loss: 0.6071 - val_accuracy: 0.5789\n",
            "Epoch 360/500\n",
            "5/5 [==============================] - 5s 906ms/step - loss: 0.2795 - accuracy: 0.9150 - val_loss: 0.7251 - val_accuracy: 0.5789\n",
            "Epoch 361/500\n",
            "5/5 [==============================] - 3s 670ms/step - loss: 0.3125 - accuracy: 0.9216 - val_loss: 0.6164 - val_accuracy: 0.5789\n",
            "Epoch 362/500\n",
            "5/5 [==============================] - 3s 674ms/step - loss: 0.3323 - accuracy: 0.8889 - val_loss: 0.6585 - val_accuracy: 0.5789\n",
            "Epoch 363/500\n",
            "5/5 [==============================] - 4s 887ms/step - loss: 0.3681 - accuracy: 0.8105 - val_loss: 0.6026 - val_accuracy: 0.5789\n",
            "Epoch 364/500\n",
            "5/5 [==============================] - 4s 753ms/step - loss: 0.3726 - accuracy: 0.8105 - val_loss: 0.5984 - val_accuracy: 0.5789\n",
            "Epoch 365/500\n",
            "5/5 [==============================] - 3s 670ms/step - loss: 0.3635 - accuracy: 0.8627 - val_loss: 0.5599 - val_accuracy: 0.6842\n",
            "Epoch 366/500\n",
            "5/5 [==============================] - 3s 658ms/step - loss: 0.3629 - accuracy: 0.8627 - val_loss: 0.5884 - val_accuracy: 0.6316\n",
            "Epoch 367/500\n",
            "5/5 [==============================] - 5s 995ms/step - loss: 0.3724 - accuracy: 0.7843 - val_loss: 0.5736 - val_accuracy: 0.6842\n",
            "Epoch 368/500\n",
            "5/5 [==============================] - 4s 677ms/step - loss: 0.3791 - accuracy: 0.8235 - val_loss: 0.4972 - val_accuracy: 0.7368\n",
            "Epoch 369/500\n",
            "5/5 [==============================] - 3s 672ms/step - loss: 0.3914 - accuracy: 0.8235 - val_loss: 0.5664 - val_accuracy: 0.6316\n",
            "Epoch 370/500\n",
            "5/5 [==============================] - 3s 672ms/step - loss: 0.4411 - accuracy: 0.7059 - val_loss: 0.5201 - val_accuracy: 0.5789\n",
            "Epoch 371/500\n",
            "5/5 [==============================] - 5s 1s/step - loss: 0.5002 - accuracy: 0.7516 - val_loss: 0.5119 - val_accuracy: 0.6842\n",
            "Epoch 372/500\n",
            "5/5 [==============================] - 3s 674ms/step - loss: 0.5416 - accuracy: 0.6601 - val_loss: 0.5933 - val_accuracy: 0.6842\n",
            "Epoch 373/500\n",
            "5/5 [==============================] - 3s 672ms/step - loss: 0.6106 - accuracy: 0.7190 - val_loss: 0.5126 - val_accuracy: 0.6842\n",
            "Epoch 374/500\n",
            "5/5 [==============================] - 4s 715ms/step - loss: 0.4494 - accuracy: 0.6928 - val_loss: 0.4976 - val_accuracy: 0.6842\n",
            "Epoch 375/500\n",
            "5/5 [==============================] - 5s 957ms/step - loss: 0.4247 - accuracy: 0.7647 - val_loss: 0.4964 - val_accuracy: 0.7368\n",
            "Epoch 376/500\n",
            "5/5 [==============================] - 3s 665ms/step - loss: 0.4453 - accuracy: 0.6601 - val_loss: 0.5712 - val_accuracy: 0.6842\n",
            "Epoch 377/500\n",
            "5/5 [==============================] - 3s 661ms/step - loss: 0.4053 - accuracy: 0.7778 - val_loss: 0.5307 - val_accuracy: 0.6842\n",
            "Epoch 378/500\n",
            "5/5 [==============================] - 4s 785ms/step - loss: 0.4309 - accuracy: 0.7647 - val_loss: 0.5333 - val_accuracy: 0.6842\n",
            "Epoch 379/500\n",
            "5/5 [==============================] - 5s 878ms/step - loss: 0.4330 - accuracy: 0.7778 - val_loss: 0.5885 - val_accuracy: 0.6316\n",
            "Epoch 380/500\n",
            "5/5 [==============================] - 3s 665ms/step - loss: 0.4188 - accuracy: 0.8039 - val_loss: 0.5427 - val_accuracy: 0.6842\n",
            "Epoch 381/500\n",
            "5/5 [==============================] - 3s 658ms/step - loss: 0.4406 - accuracy: 0.7451 - val_loss: 0.5233 - val_accuracy: 0.7368\n",
            "Epoch 382/500\n",
            "5/5 [==============================] - 4s 909ms/step - loss: 0.4297 - accuracy: 0.7647 - val_loss: 0.5431 - val_accuracy: 0.6316\n",
            "Epoch 383/500\n",
            "5/5 [==============================] - 4s 787ms/step - loss: 0.4144 - accuracy: 0.7712 - val_loss: 0.5208 - val_accuracy: 0.6842\n",
            "Epoch 384/500\n",
            "5/5 [==============================] - 3s 657ms/step - loss: 0.4140 - accuracy: 0.7647 - val_loss: 0.5509 - val_accuracy: 0.6316\n",
            "Epoch 385/500\n",
            "5/5 [==============================] - 3s 669ms/step - loss: 0.4722 - accuracy: 0.7647 - val_loss: 0.5561 - val_accuracy: 0.6316\n",
            "Epoch 386/500\n",
            "5/5 [==============================] - 5s 998ms/step - loss: 0.4415 - accuracy: 0.6667 - val_loss: 0.5727 - val_accuracy: 0.5789\n",
            "Epoch 387/500\n",
            "5/5 [==============================] - 4s 678ms/step - loss: 0.3967 - accuracy: 0.8105 - val_loss: 0.5532 - val_accuracy: 0.6842\n",
            "Epoch 388/500\n",
            "5/5 [==============================] - 3s 663ms/step - loss: 0.4012 - accuracy: 0.8170 - val_loss: 0.6300 - val_accuracy: 0.6316\n",
            "Epoch 389/500\n",
            "5/5 [==============================] - 3s 665ms/step - loss: 0.3889 - accuracy: 0.7647 - val_loss: 0.5952 - val_accuracy: 0.5789\n",
            "Epoch 390/500\n",
            "5/5 [==============================] - 5s 1s/step - loss: 0.3929 - accuracy: 0.7451 - val_loss: 0.5833 - val_accuracy: 0.6316\n",
            "Epoch 391/500\n",
            "5/5 [==============================] - 3s 663ms/step - loss: 0.3840 - accuracy: 0.7712 - val_loss: 0.6055 - val_accuracy: 0.6316\n",
            "Epoch 392/500\n",
            "5/5 [==============================] - 3s 677ms/step - loss: 0.3715 - accuracy: 0.8497 - val_loss: 0.5708 - val_accuracy: 0.6316\n",
            "Epoch 393/500\n",
            "5/5 [==============================] - 3s 674ms/step - loss: 0.3737 - accuracy: 0.8562 - val_loss: 0.6019 - val_accuracy: 0.6316\n",
            "Epoch 394/500\n",
            "5/5 [==============================] - 5s 1s/step - loss: 0.3958 - accuracy: 0.8039 - val_loss: 0.5597 - val_accuracy: 0.6316\n",
            "Epoch 395/500\n",
            "5/5 [==============================] - 3s 682ms/step - loss: 0.3884 - accuracy: 0.7647 - val_loss: 0.6075 - val_accuracy: 0.6316\n",
            "Epoch 396/500\n",
            "5/5 [==============================] - 3s 665ms/step - loss: 0.3952 - accuracy: 0.8039 - val_loss: 0.5741 - val_accuracy: 0.6316\n",
            "Epoch 397/500\n",
            "5/5 [==============================] - 4s 757ms/step - loss: 0.3729 - accuracy: 0.8170 - val_loss: 0.5853 - val_accuracy: 0.6316\n",
            "Epoch 398/500\n",
            "5/5 [==============================] - 5s 903ms/step - loss: 0.3591 - accuracy: 0.8235 - val_loss: 0.5996 - val_accuracy: 0.6842\n",
            "Epoch 399/500\n",
            "5/5 [==============================] - 3s 661ms/step - loss: 0.3701 - accuracy: 0.8235 - val_loss: 0.5534 - val_accuracy: 0.7368\n",
            "Epoch 400/500\n",
            "5/5 [==============================] - 3s 683ms/step - loss: 0.3636 - accuracy: 0.8170 - val_loss: 0.5845 - val_accuracy: 0.6842\n",
            "Epoch 401/500\n",
            "5/5 [==============================] - 5s 1s/step - loss: 0.3599 - accuracy: 0.8366 - val_loss: 0.5823 - val_accuracy: 0.6842\n",
            "Epoch 402/500\n",
            "5/5 [==============================] - 4s 794ms/step - loss: 0.4143 - accuracy: 0.7843 - val_loss: 0.6054 - val_accuracy: 0.6316\n",
            "Epoch 403/500\n",
            "5/5 [==============================] - 3s 681ms/step - loss: 0.3621 - accuracy: 0.8105 - val_loss: 0.5412 - val_accuracy: 0.7368\n",
            "Epoch 404/500\n",
            "5/5 [==============================] - 3s 668ms/step - loss: 0.3729 - accuracy: 0.8170 - val_loss: 0.6507 - val_accuracy: 0.5789\n",
            "Epoch 405/500\n",
            "5/5 [==============================] - 5s 1s/step - loss: 0.3712 - accuracy: 0.8039 - val_loss: 0.5179 - val_accuracy: 0.6842\n",
            "Epoch 406/500\n",
            "5/5 [==============================] - 4s 702ms/step - loss: 0.3965 - accuracy: 0.7843 - val_loss: 0.6767 - val_accuracy: 0.5789\n",
            "Epoch 407/500\n",
            "5/5 [==============================] - 3s 662ms/step - loss: 0.3860 - accuracy: 0.8431 - val_loss: 0.5128 - val_accuracy: 0.6842\n",
            "Epoch 408/500\n",
            "5/5 [==============================] - 3s 693ms/step - loss: 0.3867 - accuracy: 0.8693 - val_loss: 0.5717 - val_accuracy: 0.5789\n",
            "Epoch 409/500\n",
            "5/5 [==============================] - 5s 995ms/step - loss: 0.3850 - accuracy: 0.8824 - val_loss: 0.5424 - val_accuracy: 0.6316\n",
            "Epoch 410/500\n",
            "5/5 [==============================] - 3s 681ms/step - loss: 0.3817 - accuracy: 0.8105 - val_loss: 0.5790 - val_accuracy: 0.5789\n",
            "Epoch 411/500\n",
            "5/5 [==============================] - 3s 678ms/step - loss: 0.3883 - accuracy: 0.7386 - val_loss: 0.6040 - val_accuracy: 0.5789\n",
            "Epoch 412/500\n",
            "5/5 [==============================] - 4s 755ms/step - loss: 0.4043 - accuracy: 0.7908 - val_loss: 0.5842 - val_accuracy: 0.5789\n",
            "Epoch 413/500\n",
            "5/5 [==============================] - 5s 918ms/step - loss: 0.4019 - accuracy: 0.7516 - val_loss: 0.5995 - val_accuracy: 0.5789\n",
            "Epoch 414/500\n",
            "5/5 [==============================] - 3s 661ms/step - loss: 0.3764 - accuracy: 0.7974 - val_loss: 0.5723 - val_accuracy: 0.6316\n",
            "Epoch 415/500\n",
            "5/5 [==============================] - 3s 664ms/step - loss: 0.3623 - accuracy: 0.8693 - val_loss: 0.5461 - val_accuracy: 0.6842\n",
            "Epoch 416/500\n",
            "5/5 [==============================] - 4s 877ms/step - loss: 0.3605 - accuracy: 0.8431 - val_loss: 0.5853 - val_accuracy: 0.5789\n",
            "Epoch 417/500\n",
            "5/5 [==============================] - 4s 820ms/step - loss: 0.3522 - accuracy: 0.8562 - val_loss: 0.5397 - val_accuracy: 0.6316\n",
            "Epoch 418/500\n",
            "5/5 [==============================] - 3s 665ms/step - loss: 0.3622 - accuracy: 0.8954 - val_loss: 0.6180 - val_accuracy: 0.5789\n",
            "Epoch 419/500\n",
            "5/5 [==============================] - 3s 662ms/step - loss: 0.3751 - accuracy: 0.8170 - val_loss: 0.5544 - val_accuracy: 0.7368\n",
            "Epoch 420/500\n",
            "5/5 [==============================] - 4s 926ms/step - loss: 0.3825 - accuracy: 0.7451 - val_loss: 0.6110 - val_accuracy: 0.6842\n",
            "Epoch 421/500\n",
            "5/5 [==============================] - 4s 724ms/step - loss: 0.3687 - accuracy: 0.8170 - val_loss: 0.5517 - val_accuracy: 0.6842\n",
            "Epoch 422/500\n",
            "5/5 [==============================] - 3s 662ms/step - loss: 0.3421 - accuracy: 0.8105 - val_loss: 0.7565 - val_accuracy: 0.6842\n",
            "Epoch 423/500\n",
            "5/5 [==============================] - 3s 676ms/step - loss: 0.3678 - accuracy: 0.8170 - val_loss: 0.5587 - val_accuracy: 0.6842\n",
            "Epoch 424/500\n",
            "5/5 [==============================] - 5s 1s/step - loss: 0.3721 - accuracy: 0.8431 - val_loss: 0.5415 - val_accuracy: 0.6316\n",
            "Epoch 425/500\n",
            "5/5 [==============================] - 4s 686ms/step - loss: 0.3703 - accuracy: 0.8431 - val_loss: 0.5307 - val_accuracy: 0.6316\n",
            "Epoch 426/500\n",
            "5/5 [==============================] - 3s 670ms/step - loss: 0.3707 - accuracy: 0.8627 - val_loss: 0.5263 - val_accuracy: 0.5789\n",
            "Epoch 427/500\n",
            "5/5 [==============================] - 3s 672ms/step - loss: 0.3774 - accuracy: 0.8497 - val_loss: 0.6054 - val_accuracy: 0.5789\n",
            "Epoch 428/500\n",
            "5/5 [==============================] - 5s 1s/step - loss: 0.4077 - accuracy: 0.8039 - val_loss: 0.5820 - val_accuracy: 0.6842\n",
            "Epoch 429/500\n",
            "5/5 [==============================] - 3s 660ms/step - loss: 0.3949 - accuracy: 0.7582 - val_loss: 0.6549 - val_accuracy: 0.6316\n",
            "Epoch 430/500\n",
            "5/5 [==============================] - 3s 659ms/step - loss: 0.3316 - accuracy: 0.8497 - val_loss: 0.5601 - val_accuracy: 0.6316\n",
            "Epoch 431/500\n",
            "5/5 [==============================] - 3s 691ms/step - loss: 0.4213 - accuracy: 0.7843 - val_loss: 0.5605 - val_accuracy: 0.5789\n",
            "Epoch 432/500\n",
            "5/5 [==============================] - 5s 954ms/step - loss: 0.4549 - accuracy: 0.6928 - val_loss: 0.6113 - val_accuracy: 0.6316\n",
            "Epoch 433/500\n",
            "5/5 [==============================] - 3s 677ms/step - loss: 0.4535 - accuracy: 0.7516 - val_loss: 0.5969 - val_accuracy: 0.6842\n",
            "Epoch 434/500\n",
            "5/5 [==============================] - 3s 669ms/step - loss: 0.4634 - accuracy: 0.6797 - val_loss: 0.5336 - val_accuracy: 0.6842\n",
            "Epoch 435/500\n",
            "5/5 [==============================] - 4s 766ms/step - loss: 0.4041 - accuracy: 0.7908 - val_loss: 0.6591 - val_accuracy: 0.6316\n",
            "Epoch 436/500\n",
            "5/5 [==============================] - 5s 855ms/step - loss: 0.4308 - accuracy: 0.7255 - val_loss: 0.5899 - val_accuracy: 0.6842\n",
            "Epoch 437/500\n",
            "5/5 [==============================] - 3s 655ms/step - loss: 0.3949 - accuracy: 0.7778 - val_loss: 0.5825 - val_accuracy: 0.6842\n",
            "Epoch 438/500\n",
            "5/5 [==============================] - 3s 662ms/step - loss: 0.3746 - accuracy: 0.8301 - val_loss: 0.5601 - val_accuracy: 0.6842\n",
            "Epoch 439/500\n",
            "5/5 [==============================] - 4s 876ms/step - loss: 0.3713 - accuracy: 0.8366 - val_loss: 0.5691 - val_accuracy: 0.6842\n",
            "Epoch 440/500\n",
            "5/5 [==============================] - 4s 787ms/step - loss: 0.3745 - accuracy: 0.8170 - val_loss: 0.5416 - val_accuracy: 0.6842\n",
            "Epoch 441/500\n",
            "5/5 [==============================] - 3s 669ms/step - loss: 0.3711 - accuracy: 0.8235 - val_loss: 0.5484 - val_accuracy: 0.6842\n",
            "Epoch 442/500\n",
            "5/5 [==============================] - 3s 671ms/step - loss: 0.3686 - accuracy: 0.8301 - val_loss: 0.5417 - val_accuracy: 0.6842\n",
            "Epoch 443/500\n",
            "5/5 [==============================] - 5s 994ms/step - loss: 0.3812 - accuracy: 0.8105 - val_loss: 0.5581 - val_accuracy: 0.6316\n",
            "Epoch 444/500\n",
            "5/5 [==============================] - 4s 685ms/step - loss: 0.4046 - accuracy: 0.7255 - val_loss: 0.6056 - val_accuracy: 0.6316\n",
            "Epoch 445/500\n",
            "5/5 [==============================] - 3s 673ms/step - loss: 0.3890 - accuracy: 0.7974 - val_loss: 0.6052 - val_accuracy: 0.5789\n",
            "Epoch 446/500\n",
            "5/5 [==============================] - 3s 669ms/step - loss: 0.4026 - accuracy: 0.7516 - val_loss: 0.6369 - val_accuracy: 0.6842\n",
            "Epoch 447/500\n",
            "5/5 [==============================] - 5s 1s/step - loss: 0.4036 - accuracy: 0.7843 - val_loss: 0.6123 - val_accuracy: 0.6842\n",
            "Epoch 448/500\n",
            "5/5 [==============================] - 3s 673ms/step - loss: 0.3806 - accuracy: 0.8170 - val_loss: 0.6736 - val_accuracy: 0.6842\n",
            "Epoch 449/500\n",
            "5/5 [==============================] - 3s 676ms/step - loss: 0.3836 - accuracy: 0.8105 - val_loss: 0.6049 - val_accuracy: 0.6842\n",
            "Epoch 450/500\n",
            "5/5 [==============================] - 3s 700ms/step - loss: 0.3906 - accuracy: 0.8105 - val_loss: 0.6621 - val_accuracy: 0.6316\n",
            "Epoch 451/500\n",
            "5/5 [==============================] - 5s 994ms/step - loss: 0.4018 - accuracy: 0.7320 - val_loss: 0.5822 - val_accuracy: 0.6842\n",
            "Epoch 452/500\n",
            "5/5 [==============================] - 3s 669ms/step - loss: 0.4634 - accuracy: 0.8105 - val_loss: 0.6958 - val_accuracy: 0.6316\n",
            "Epoch 453/500\n",
            "5/5 [==============================] - 3s 662ms/step - loss: 0.3716 - accuracy: 0.7712 - val_loss: 0.6046 - val_accuracy: 0.6316\n",
            "Epoch 454/500\n",
            "5/5 [==============================] - 4s 753ms/step - loss: 0.3955 - accuracy: 0.7582 - val_loss: 0.7278 - val_accuracy: 0.6316\n",
            "Epoch 455/500\n",
            "5/5 [==============================] - 5s 877ms/step - loss: 0.3620 - accuracy: 0.8301 - val_loss: 0.5946 - val_accuracy: 0.5789\n",
            "Epoch 456/500\n",
            "5/5 [==============================] - 3s 663ms/step - loss: 0.3735 - accuracy: 0.7582 - val_loss: 0.6657 - val_accuracy: 0.6842\n",
            "Epoch 457/500\n",
            "5/5 [==============================] - 3s 669ms/step - loss: 0.3670 - accuracy: 0.8170 - val_loss: 0.5904 - val_accuracy: 0.6842\n",
            "Epoch 458/500\n",
            "5/5 [==============================] - 4s 857ms/step - loss: 0.3756 - accuracy: 0.7843 - val_loss: 0.6865 - val_accuracy: 0.6842\n",
            "Epoch 459/500\n",
            "5/5 [==============================] - 4s 817ms/step - loss: 0.4176 - accuracy: 0.7778 - val_loss: 0.7881 - val_accuracy: 0.6842\n",
            "Epoch 460/500\n",
            "5/5 [==============================] - 3s 664ms/step - loss: 0.5833 - accuracy: 0.6993 - val_loss: 0.9182 - val_accuracy: 0.5789\n",
            "Epoch 461/500\n",
            "5/5 [==============================] - 3s 678ms/step - loss: 0.5940 - accuracy: 0.7124 - val_loss: 0.8174 - val_accuracy: 0.6842\n",
            "Epoch 462/500\n",
            "5/5 [==============================] - 5s 974ms/step - loss: 0.5679 - accuracy: 0.7059 - val_loss: 0.8886 - val_accuracy: 0.6842\n",
            "Epoch 463/500\n",
            "5/5 [==============================] - 4s 688ms/step - loss: 0.5016 - accuracy: 0.8039 - val_loss: 0.6628 - val_accuracy: 0.7368\n",
            "Epoch 464/500\n",
            "5/5 [==============================] - 3s 661ms/step - loss: 0.4892 - accuracy: 0.7320 - val_loss: 0.6374 - val_accuracy: 0.6842\n",
            "Epoch 465/500\n",
            "5/5 [==============================] - 3s 667ms/step - loss: 0.4413 - accuracy: 0.8039 - val_loss: 0.6009 - val_accuracy: 0.6842\n",
            "Epoch 466/500\n",
            "5/5 [==============================] - 5s 1s/step - loss: 0.4153 - accuracy: 0.8039 - val_loss: 0.5899 - val_accuracy: 0.6842\n",
            "Epoch 467/500\n",
            "5/5 [==============================] - 4s 662ms/step - loss: 0.5137 - accuracy: 0.7059 - val_loss: 0.6871 - val_accuracy: 0.6842\n",
            "Epoch 468/500\n",
            "5/5 [==============================] - 3s 670ms/step - loss: 0.4884 - accuracy: 0.7843 - val_loss: 0.6081 - val_accuracy: 0.7368\n",
            "Epoch 469/500\n",
            "5/5 [==============================] - 3s 668ms/step - loss: 0.4495 - accuracy: 0.7516 - val_loss: 0.5772 - val_accuracy: 0.7368\n",
            "Epoch 470/500\n",
            "5/5 [==============================] - 5s 1s/step - loss: 0.4518 - accuracy: 0.8039 - val_loss: 0.5862 - val_accuracy: 0.6842\n",
            "Epoch 471/500\n",
            "5/5 [==============================] - 3s 675ms/step - loss: 0.4926 - accuracy: 0.7059 - val_loss: 0.5388 - val_accuracy: 0.7368\n",
            "Epoch 472/500\n",
            "5/5 [==============================] - 3s 665ms/step - loss: 0.4434 - accuracy: 0.8170 - val_loss: 0.5350 - val_accuracy: 0.6842\n",
            "Epoch 473/500\n",
            "5/5 [==============================] - 4s 724ms/step - loss: 0.4196 - accuracy: 0.7190 - val_loss: 0.4946 - val_accuracy: 0.7368\n",
            "Epoch 474/500\n",
            "5/5 [==============================] - 5s 977ms/step - loss: 0.3858 - accuracy: 0.8105 - val_loss: 0.6233 - val_accuracy: 0.5789\n",
            "Epoch 475/500\n",
            "5/5 [==============================] - 3s 670ms/step - loss: 0.4098 - accuracy: 0.6993 - val_loss: 0.5712 - val_accuracy: 0.6316\n",
            "Epoch 476/500\n",
            "5/5 [==============================] - 3s 661ms/step - loss: 0.4088 - accuracy: 0.7843 - val_loss: 0.5772 - val_accuracy: 0.6842\n",
            "Epoch 477/500\n",
            "5/5 [==============================] - 4s 791ms/step - loss: 0.4270 - accuracy: 0.7516 - val_loss: 0.5221 - val_accuracy: 0.6316\n",
            "Epoch 478/500\n",
            "5/5 [==============================] - 5s 841ms/step - loss: 0.4167 - accuracy: 0.7712 - val_loss: 0.5610 - val_accuracy: 0.6842\n",
            "Epoch 479/500\n",
            "5/5 [==============================] - 3s 670ms/step - loss: 0.4451 - accuracy: 0.7320 - val_loss: 0.5212 - val_accuracy: 0.5789\n",
            "Epoch 480/500\n",
            "5/5 [==============================] - 3s 659ms/step - loss: 0.4398 - accuracy: 0.7255 - val_loss: 0.6627 - val_accuracy: 0.6316\n",
            "Epoch 481/500\n",
            "5/5 [==============================] - 4s 921ms/step - loss: 0.5330 - accuracy: 0.6601 - val_loss: 0.7962 - val_accuracy: 0.5789\n",
            "Epoch 482/500\n",
            "5/5 [==============================] - 4s 749ms/step - loss: 0.5888 - accuracy: 0.7386 - val_loss: 0.8016 - val_accuracy: 0.7368\n",
            "Epoch 483/500\n",
            "5/5 [==============================] - 3s 676ms/step - loss: 0.6037 - accuracy: 0.6667 - val_loss: 0.7738 - val_accuracy: 0.6842\n",
            "Epoch 484/500\n",
            "5/5 [==============================] - 3s 674ms/step - loss: 0.5913 - accuracy: 0.6536 - val_loss: 0.8039 - val_accuracy: 0.6316\n",
            "Epoch 485/500\n",
            "5/5 [==============================] - 5s 1s/step - loss: 0.5761 - accuracy: 0.6797 - val_loss: 0.7089 - val_accuracy: 0.6316\n",
            "Epoch 486/500\n",
            "5/5 [==============================] - 4s 682ms/step - loss: 0.5211 - accuracy: 0.7451 - val_loss: 0.6952 - val_accuracy: 0.5789\n",
            "Epoch 487/500\n",
            "5/5 [==============================] - 3s 679ms/step - loss: 0.4572 - accuracy: 0.6536 - val_loss: 0.6314 - val_accuracy: 0.6842\n",
            "Epoch 488/500\n",
            "5/5 [==============================] - 3s 668ms/step - loss: 0.4398 - accuracy: 0.7190 - val_loss: 0.6529 - val_accuracy: 0.6842\n",
            "Epoch 489/500\n",
            "5/5 [==============================] - 5s 1s/step - loss: 0.4180 - accuracy: 0.8235 - val_loss: 0.5600 - val_accuracy: 0.6842\n",
            "Epoch 490/500\n",
            "5/5 [==============================] - 3s 668ms/step - loss: 0.4222 - accuracy: 0.6732 - val_loss: 0.5998 - val_accuracy: 0.7368\n",
            "Epoch 491/500\n",
            "5/5 [==============================] - 3s 667ms/step - loss: 0.4213 - accuracy: 0.8105 - val_loss: 0.5142 - val_accuracy: 0.6842\n",
            "Epoch 492/500\n",
            "5/5 [==============================] - 3s 707ms/step - loss: 0.4161 - accuracy: 0.7255 - val_loss: 0.6259 - val_accuracy: 0.7368\n",
            "Epoch 493/500\n",
            "5/5 [==============================] - 5s 969ms/step - loss: 0.4162 - accuracy: 0.7778 - val_loss: 0.5307 - val_accuracy: 0.6842\n",
            "Epoch 494/500\n",
            "5/5 [==============================] - 3s 669ms/step - loss: 0.4210 - accuracy: 0.7190 - val_loss: 0.6116 - val_accuracy: 0.6842\n",
            "Epoch 495/500\n",
            "5/5 [==============================] - 3s 670ms/step - loss: 0.4014 - accuracy: 0.7778 - val_loss: 0.5558 - val_accuracy: 0.7368\n",
            "Epoch 496/500\n",
            "5/5 [==============================] - 4s 804ms/step - loss: 0.3939 - accuracy: 0.7255 - val_loss: 0.5527 - val_accuracy: 0.7368\n",
            "Epoch 497/500\n",
            "5/5 [==============================] - 5s 856ms/step - loss: 0.4189 - accuracy: 0.7778 - val_loss: 0.6648 - val_accuracy: 0.6842\n",
            "Epoch 498/500\n",
            "5/5 [==============================] - 3s 670ms/step - loss: 0.4355 - accuracy: 0.7190 - val_loss: 0.6611 - val_accuracy: 0.7368\n",
            "Epoch 499/500\n",
            "5/5 [==============================] - 3s 669ms/step - loss: 0.4069 - accuracy: 0.7974 - val_loss: 0.6652 - val_accuracy: 0.6316\n",
            "Epoch 500/500\n",
            "5/5 [==============================] - 5s 961ms/step - loss: 0.4025 - accuracy: 0.7255 - val_loss: 0.6347 - val_accuracy: 0.6316\n"
          ]
        }
      ]
    },
    {
      "cell_type": "markdown",
      "source": [
        "**Task 5.**\n",
        "<br>\n",
        "Evaluate your model using the test data set. Display the loss function vs the number of epochs."
      ],
      "metadata": {
        "id": "qwPOhG62OMoA"
      }
    },
    {
      "cell_type": "code",
      "source": [
        "# Write your code here.\n",
        "model.evaluate(X_test, y_test)\n",
        "\n",
        "pd.DataFrame(history.history).plot(figsize=(10,6))\n",
        "plt.grid(True)\n",
        "plt.gca().set_ylim(0,1)\n",
        "plt.show()"
      ],
      "metadata": {
        "id": "KrSjDpg6o27R",
        "colab": {
          "base_uri": "https://localhost:8080/",
          "height": 395
        },
        "outputId": "e9c65f45-6cee-4ed6-fcb2-ee929ab17f3f"
      },
      "execution_count": 37,
      "outputs": [
        {
          "output_type": "stream",
          "name": "stdout",
          "text": [
            "1/1 [==============================] - 0s 78ms/step - loss: 0.6649 - accuracy: 0.7000\n"
          ]
        },
        {
          "output_type": "display_data",
          "data": {
            "text/plain": [
              "<Figure size 720x432 with 1 Axes>"
            ],
            "image/png": "[encoded data removed]"
          },
          "metadata": {
            "needs_background": "light"
          }
        }
      ]
    },
    {
      "cell_type": "markdown",
      "source": [
        "**Task 6.**\n",
        "<br>\n",
        "Predict the output with your model with the predict function using the test input data set. Display the confusion matrix and the accuracy of your model with the test data set."
      ],
      "metadata": {
        "id": "AQF-39fEO-MB"
      }
    },
    {
      "cell_type": "code",
      "source": [
        "# Write your code here.\n",
        "prediction = model.predict(X_val)\n",
        "\n",
        "cm = confusion_matrix(y_val.argmax(axis=1), prediction.argmax(axis=1))\n",
        "\n",
        "disp = ConfusionMatrixDisplay(confusion_matrix=cm)\n",
        "disp.plot()\n",
        "plt.show()\n",
        "\n",
        "accuracy = 100*np.trace(cm)/np.sum(cm)\n",
        "print(accuracy)"
      ],
      "metadata": {
        "id": "2yI1VSOso-FT",
        "colab": {
          "base_uri": "https://localhost:8080/",
          "height": 318
        },
        "outputId": "164a9729-33ba-4fa3-882e-3d622e472991"
      },
      "execution_count": 38,
      "outputs": [
        {
          "output_type": "stream",
          "name": "stdout",
          "text": [
            "1/1 [==============================] - 0s 141ms/step\n"
          ]
        },
        {
          "output_type": "display_data",
          "data": {
            "text/plain": [
              "<Figure size 432x288 with 2 Axes>"
            ],
            "image/png": "[encoded data removed]"
          },
          "metadata": {
            "needs_background": "light"
          }
        },
        {
          "output_type": "stream",
          "name": "stdout",
          "text": [
            "63.1578947368421\n"
          ]
        }
      ]
    }
  ]
}