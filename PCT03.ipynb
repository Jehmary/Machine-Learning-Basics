{
  "nbformat": 4,
  "nbformat_minor": 0,
  "metadata": {
    "colab": {
      "provenance": [],
      "include_colab_link": true
    },
    "kernelspec": {
      "name": "python3",
      "display_name": "Python 3"
    },
    "language_info": {
      "name": "python"
    }
  },
  "cells": [
    {
      "cell_type": "markdown",
      "metadata": {
        "id": "view-in-github",
        "colab_type": "text"
      },
      "source": [
        "<a href=\"https://colab.research.google.com/github/Jehmary/Machine-Learning-Basics/blob/main/PCT03.ipynb\" target=\"_parent\"><img src=\"https://colab.research.google.com/assets/colab-badge.svg\" alt=\"Open In Colab\"/></a>"
      ]
    },
    {
      "cell_type": "markdown",
      "source": [
        "##**Classification of Walk vs Run**"
      ],
      "metadata": {
        "id": "w12W2G-6c32h"
      }
    },
    {
      "cell_type": "markdown",
      "source": [
        "####**Importing the Necessary Libraries**"
      ],
      "metadata": {
        "id": "19trjlLic6EL"
      }
    },
    {
      "cell_type": "code",
      "execution_count": 1,
      "metadata": {
        "id": "XPZnl1jNcuB1"
      },
      "outputs": [],
      "source": [
        "import numpy as np\n",
        "import matplotlib.pyplot as plt\n",
        "import pandas as pd\n",
        "\n",
        "import tensorflow as tf\n",
        "from tensorflow import keras\n",
        "from tensorflow.keras.models import Sequential\n",
        "\n",
        "from sklearn import datasets\n",
        "from sklearn.preprocessing import LabelEncoder\n",
        "from sklearn.model_selection import train_test_split\n",
        "from sklearn.metrics import confusion_matrix, ConfusionMatrixDisplay"
      ]
    },
    {
      "cell_type": "markdown",
      "source": [
        "####**Importing and Preparing the Data**"
      ],
      "metadata": {
        "id": "21I4-WljdB3r"
      }
    },
    {
      "cell_type": "markdown",
      "source": [
        "#####**Importing the Data**"
      ],
      "metadata": {
        "id": "-z48xONBdGc0"
      }
    },
    {
      "cell_type": "code",
      "source": [
        "from google.colab import drive\n",
        "drive.mount('/content/gdrive/', force_remount=True)"
      ],
      "metadata": {
        "id": "a0VllYJydK2L",
        "colab": {
          "base_uri": "https://localhost:8080/"
        },
        "outputId": "f50dd532-533c-4863-d717-c6c4154e3d36"
      },
      "execution_count": 2,
      "outputs": [
        {
          "output_type": "stream",
          "name": "stdout",
          "text": [
            "Mounted at /content/gdrive/\n"
          ]
        }
      ]
    },
    {
      "cell_type": "markdown",
      "source": [
        "**NOTE: You have to save the attached csv file to one of your subfolders in Google Drive and change the name of the subfolder below, accordingly.**"
      ],
      "metadata": {
        "id": "lUPIQIxqIfvI"
      }
    },
    {
      "cell_type": "code",
      "source": [
        "cd gdrive/MyDrive/'Colab Notebooks'/Book/Datasets"
      ],
      "metadata": {
        "id": "daYIZXyhdO0z",
        "colab": {
          "base_uri": "https://localhost:8080/"
        },
        "outputId": "1d644aec-cb8b-4462-a14e-929640bb2319"
      },
      "execution_count": 3,
      "outputs": [
        {
          "output_type": "stream",
          "name": "stdout",
          "text": [
            "/content/gdrive/MyDrive/Colab Notebooks/Book/Datasets\n"
          ]
        }
      ]
    },
    {
      "cell_type": "code",
      "source": [
        "ls"
      ],
      "metadata": {
        "id": "R6Vx8Cz4dRf4",
        "colab": {
          "base_uri": "https://localhost:8080/"
        },
        "outputId": "b902bc09-8623-4bdf-88a5-4a1856e02f3e"
      },
      "execution_count": 4,
      "outputs": [
        {
          "output_type": "stream",
          "name": "stdout",
          "text": [
            "walkvsrun.csv\n"
          ]
        }
      ]
    },
    {
      "cell_type": "markdown",
      "source": [
        "The walk vs run data set."
      ],
      "metadata": {
        "id": "vRcVKbYBdUSj"
      }
    },
    {
      "cell_type": "code",
      "source": [
        "dataset = pd.read_csv('walkvsrun.csv', header=None)\n",
        "print(dataset.info())"
      ],
      "metadata": {
        "id": "u4jOD3KtdSBj",
        "colab": {
          "base_uri": "https://localhost:8080/"
        },
        "outputId": "d998a5c8-f678-47aa-8169-2593de16f04c"
      },
      "execution_count": 5,
      "outputs": [
        {
          "output_type": "stream",
          "name": "stdout",
          "text": [
            "<class 'pandas.core.frame.DataFrame'>\n",
            "RangeIndex: 192 entries, 0 to 191\n",
            "Columns: 5201 entries, 0 to 5200\n",
            "dtypes: float64(5200), int64(1)\n",
            "memory usage: 7.6 MB\n",
            "None\n"
          ]
        }
      ]
    },
    {
      "cell_type": "code",
      "source": [
        "print(dataset.shape)\n",
        "print(dataset.head(5))"
      ],
      "metadata": {
        "id": "EKkqqfi5gu-p",
        "colab": {
          "base_uri": "https://localhost:8080/"
        },
        "outputId": "67cd2c3e-f1b0-474b-fdc2-77d7bb6c4224"
      },
      "execution_count": 6,
      "outputs": [
        {
          "output_type": "stream",
          "name": "stdout",
          "text": [
            "(192, 5201)\n",
            "      0        1        2        3       4        5         6        7     \\\n",
            "0 -8.45340 -5.99020 -3.98400 -2.47060 -1.3035 -0.49068 -0.041913 -0.59172   \n",
            "1 -4.17710 -4.67900 -5.08760 -5.31620 -5.6017 -5.70730 -5.379100 -4.75640   \n",
            "2 -2.42120 -2.43750 -2.48920 -2.50000 -2.5082 -2.51100 -2.548200 -2.57450   \n",
            "3  0.26166 -0.13816 -0.22947 -0.46808 -1.0790 -1.88940 -2.691600 -3.91420   \n",
            "4 -0.63378  0.10523  0.79335  1.76780  3.7666  8.38150  8.533500  5.18550   \n",
            "\n",
            "     8        9     ...    5191    5192    5193    5194    5195    5196  \\\n",
            "0 -1.2731 -2.99890  ...  20.969  20.985  21.001  21.018  21.034  21.050   \n",
            "1 -4.1548 -3.54730  ...  20.969  20.985  21.001  21.018  21.034  21.050   \n",
            "2 -2.5625 -2.55620  ...  20.968  20.985  21.001  21.017  21.033  21.050   \n",
            "3 -5.8555 -7.46060  ...  20.968  20.984  21.001  21.017  21.033  21.049   \n",
            "4  2.0530 -0.26899  ...  20.968  20.984  21.001  21.017  21.033  21.049   \n",
            "\n",
            "     5197    5198    5199  5200  \n",
            "0  21.066  21.083  21.099     1  \n",
            "1  21.066  21.083  21.099     1  \n",
            "2  21.066  21.082  21.098     1  \n",
            "3  21.066  21.082  21.098     1  \n",
            "4  21.066  21.082  21.098     1  \n",
            "\n",
            "[5 rows x 5201 columns]\n"
          ]
        }
      ]
    },
    {
      "cell_type": "markdown",
      "source": [
        "#####**Preparing the Data**"
      ],
      "metadata": {
        "id": "gRtywxq-e_9v"
      }
    },
    {
      "cell_type": "markdown",
      "source": [
        "The first up to the second to the last columns will become our input, which we will assign to the variable $X$."
      ],
      "metadata": {
        "id": "qrWNjz33kJ-z"
      }
    },
    {
      "cell_type": "code",
      "source": [
        "X = dataset.loc[:,0:dataset.shape[1]-2]\n",
        "print(X.shape)"
      ],
      "metadata": {
        "id": "lqmUZf69fBgK",
        "colab": {
          "base_uri": "https://localhost:8080/"
        },
        "outputId": "4611f56e-838d-4261-ffe1-8551d9187025"
      },
      "execution_count": 7,
      "outputs": [
        {
          "output_type": "stream",
          "name": "stdout",
          "text": [
            "(192, 5200)\n"
          ]
        }
      ]
    },
    {
      "cell_type": "markdown",
      "source": [
        "The last column will become our label, which we will assign to the variable $y$."
      ],
      "metadata": {
        "id": "18tNHt6DkFx2"
      }
    },
    {
      "cell_type": "code",
      "source": [
        "y_dataset = dataset.loc[:,dataset.shape[1]-1]\n",
        "y_label = np.array(y_dataset)\n",
        "y = tf.keras.utils.to_categorical(y_label)\n",
        "print(y.shape)"
      ],
      "metadata": {
        "colab": {
          "base_uri": "https://localhost:8080/"
        },
        "id": "zvh1h7NTj3-C",
        "outputId": "f07891e5-a1b0-4e89-aae2-9bcc53113081"
      },
      "execution_count": 8,
      "outputs": [
        {
          "output_type": "stream",
          "name": "stdout",
          "text": [
            "(192, 2)\n"
          ]
        }
      ]
    },
    {
      "cell_type": "markdown",
      "source": [
        "####**Defining the model**"
      ],
      "metadata": {
        "id": "te95nwDRkTlX"
      }
    },
    {
      "cell_type": "markdown",
      "source": [
        "**Task 1.**\n",
        "\n",
        "Using the *train_test_split()* function, split the training data, validation data, and test data into 80%, 10%, and 10%, respectively.<br>\n",
        "\n",
        "Assign training input data to the *X_train* and the label input data to *y_train*. Assign validation input data to the *X_val* and the label input data to *y_val*. Assign test input data to the *X_test* and the label input data to *y_test*."
      ],
      "metadata": {
        "id": "HVR8vuULkUT-"
      }
    },
    {
      "cell_type": "code",
      "source": [
        "# Write down the values here\n",
        "trainRatio = 80/100\n",
        "valRatio = 10/100\n",
        "testRatio = 10/100\n",
        "\n",
        "# Split the training, validation and test data. Write your code below this line.\n",
        "X_train, X_test, y_train, y_test = train_test_split(X, y, test_size = 1 - trainRatio)\n",
        "X_val, X_test, y_val, y_test = train_test_split(X_test, y_test, test_size = testRatio/(testRatio + valRatio))"
      ],
      "metadata": {
        "id": "ZPdfqHTRkW_3"
      },
      "execution_count": 9,
      "outputs": []
    },
    {
      "cell_type": "code",
      "source": [
        "print(X_val.shape)"
      ],
      "metadata": {
        "id": "Q2Blt1tOkahb",
        "colab": {
          "base_uri": "https://localhost:8080/"
        },
        "outputId": "10cd6252-db21-4c42-fb8c-f5323c316ce0"
      },
      "execution_count": 10,
      "outputs": [
        {
          "output_type": "stream",
          "name": "stdout",
          "text": [
            "(19, 5200)\n"
          ]
        }
      ]
    },
    {
      "cell_type": "code",
      "source": [
        "print(y_val.shape)"
      ],
      "metadata": {
        "id": "btKzX34xkcdT",
        "colab": {
          "base_uri": "https://localhost:8080/"
        },
        "outputId": "99b412e7-d29d-4c91-9a66-928c2beb41b4"
      },
      "execution_count": 11,
      "outputs": [
        {
          "output_type": "stream",
          "name": "stdout",
          "text": [
            "(19, 2)\n"
          ]
        }
      ]
    },
    {
      "cell_type": "code",
      "source": [
        "print(y_test.shape)"
      ],
      "metadata": {
        "id": "2clRI5MykeKN",
        "colab": {
          "base_uri": "https://localhost:8080/"
        },
        "outputId": "e31a47bd-2e2e-4918-8a38-f87739036823"
      },
      "execution_count": 12,
      "outputs": [
        {
          "output_type": "stream",
          "name": "stdout",
          "text": [
            "(20, 2)\n"
          ]
        }
      ]
    },
    {
      "cell_type": "markdown",
      "source": [
        "**Task 2.**\n",
        "<br>\n",
        "Set up your network *model*. Use three layers - an input layer, a hidden layer and an output layer. Use a reasonable number of nodes for the hidden layer. Display the summary of the model."
      ],
      "metadata": {
        "id": "_TZNpS-ZKX8y"
      }
    },
    {
      "cell_type": "code",
      "source": [
        "# Write your code here.\n",
        "model = Sequential([\n",
        "    keras.layers.Conv1D(32, 3, input_shape = (X_train.shape[1],1), activation='relu'),\n",
        "    keras.layers.MaxPooling1D(2),\n",
        "    keras.layers.Conv1D(16, 3, activation='relu'),\n",
        "    keras.layers.MaxPooling1D(2),\n",
        "    keras.layers.Conv1D(8, 3, activation='relu'),\n",
        "    keras.layers.MaxPooling1D(2),\n",
        "    keras.layers.Conv1D(4, 3, activation='relu'),\n",
        "    keras.layers.MaxPooling1D(2),\n",
        "    keras.layers.Flatten(),\n",
        "    keras.layers.Dense(5200, activation='sigmoid'),\n",
        "    keras.layers.Dense(2, activation='softmax')\n",
        "])\n",
        "\n",
        "model.summary()"
      ],
      "metadata": {
        "id": "sZr0fUfLkenX",
        "colab": {
          "base_uri": "https://localhost:8080/"
        },
        "outputId": "09268b4f-3a8a-44c2-d3e1-13aa4f9b0718"
      },
      "execution_count": 27,
      "outputs": [
        {
          "output_type": "stream",
          "name": "stdout",
          "text": [
            "Model: \"sequential_5\"\n",
            "_________________________________________________________________\n",
            " Layer (type)                Output Shape              Param #   \n",
            "=================================================================\n",
            " conv1d_14 (Conv1D)          (None, 5198, 32)          128       \n",
            "                                                                 \n",
            " max_pooling1d_14 (MaxPoolin  (None, 2599, 32)         0         \n",
            " g1D)                                                            \n",
            "                                                                 \n",
            " conv1d_15 (Conv1D)          (None, 2597, 16)          1552      \n",
            "                                                                 \n",
            " max_pooling1d_15 (MaxPoolin  (None, 1298, 16)         0         \n",
            " g1D)                                                            \n",
            "                                                                 \n",
            " conv1d_16 (Conv1D)          (None, 1296, 8)           392       \n",
            "                                                                 \n",
            " max_pooling1d_16 (MaxPoolin  (None, 648, 8)           0         \n",
            " g1D)                                                            \n",
            "                                                                 \n",
            " conv1d_17 (Conv1D)          (None, 646, 4)            100       \n",
            "                                                                 \n",
            " max_pooling1d_17 (MaxPoolin  (None, 323, 4)           0         \n",
            " g1D)                                                            \n",
            "                                                                 \n",
            " flatten_5 (Flatten)         (None, 1292)              0         \n",
            "                                                                 \n",
            " dense_11 (Dense)            (None, 5200)              6723600   \n",
            "                                                                 \n",
            " dense_12 (Dense)            (None, 2)                 10402     \n",
            "                                                                 \n",
            "=================================================================\n",
            "Total params: 6,736,174\n",
            "Trainable params: 6,736,174\n",
            "Non-trainable params: 0\n",
            "_________________________________________________________________\n"
          ]
        }
      ]
    },
    {
      "cell_type": "markdown",
      "source": [
        "**Task 3.**\n",
        "<br>\n",
        "Compile your model using the *compile* function, and set up the optimizer and the loss. You can find the various loss functions you can use in this [weblink](https://keras.io/api/losses/). Use 'accuracy' as the metric."
      ],
      "metadata": {
        "id": "DEtsez9XLV-q"
      }
    },
    {
      "cell_type": "code",
      "source": [
        "# Write your code here.\n",
        "opt = keras.optimizers.Adam(learning_rate=0.001)\n",
        "# opt = 'adam'\n",
        "model.compile(optimizer = opt,\n",
        "              loss = keras.losses.CategoricalCrossentropy(),\n",
        "              metrics=['accuracy'])"
      ],
      "metadata": {
        "id": "N3LFnyiilAyX"
      },
      "execution_count": 28,
      "outputs": []
    },
    {
      "cell_type": "markdown",
      "source": [
        "**Task 4.**\n",
        "<br>\n",
        "Train your model using the fit function. You may select your own number of epochs. Choose verbose = 1. You will need to assign the output to the variable history, so that you'll be able to see what happens during the training."
      ],
      "metadata": {
        "id": "6YCU8ulDL4Na"
      }
    },
    {
      "cell_type": "code",
      "source": [
        "# Write your code here.\n",
        "\n",
        "history = model.fit(X_train, y_train, epochs=500, validation_data=(X_val, y_val), verbose=1)"
      ],
      "metadata": {
        "id": "i-mSxjX6lB-K",
        "colab": {
          "base_uri": "https://localhost:8080/"
        },
        "outputId": "1bdd19dd-67fe-454e-9ffe-83541c797172"
      },
      "execution_count": 29,
      "outputs": [
        {
          "output_type": "stream",
          "name": "stdout",
          "text": [
            "Epoch 1/500\n",
            "5/5 [==============================] - 3s 373ms/step - loss: 3.8853 - accuracy: 0.5686 - val_loss: 1.3573 - val_accuracy: 0.7895\n",
            "Epoch 2/500\n",
            "5/5 [==============================] - 1s 293ms/step - loss: 0.5804 - accuracy: 0.8497 - val_loss: 1.0031 - val_accuracy: 0.6842\n",
            "Epoch 3/500\n",
            "5/5 [==============================] - 1s 286ms/step - loss: 0.3184 - accuracy: 0.9020 - val_loss: 0.2384 - val_accuracy: 0.9474\n",
            "Epoch 4/500\n",
            "5/5 [==============================] - 1s 263ms/step - loss: 0.1803 - accuracy: 0.9216 - val_loss: 0.2151 - val_accuracy: 0.9474\n",
            "Epoch 5/500\n",
            "5/5 [==============================] - 1s 268ms/step - loss: 0.0919 - accuracy: 0.9673 - val_loss: 0.2632 - val_accuracy: 0.9474\n",
            "Epoch 6/500\n",
            "5/5 [==============================] - 2s 373ms/step - loss: 0.0709 - accuracy: 0.9739 - val_loss: 0.2672 - val_accuracy: 0.9474\n",
            "Epoch 7/500\n",
            "5/5 [==============================] - 2s 456ms/step - loss: 0.0554 - accuracy: 0.9804 - val_loss: 0.1478 - val_accuracy: 0.9474\n",
            "Epoch 8/500\n",
            "5/5 [==============================] - 2s 339ms/step - loss: 0.0307 - accuracy: 0.9869 - val_loss: 0.1188 - val_accuracy: 0.9474\n",
            "Epoch 9/500\n",
            "5/5 [==============================] - 1s 264ms/step - loss: 0.0255 - accuracy: 0.9869 - val_loss: 0.1033 - val_accuracy: 0.9474\n",
            "Epoch 10/500\n",
            "5/5 [==============================] - 1s 262ms/step - loss: 0.0133 - accuracy: 0.9935 - val_loss: 0.0917 - val_accuracy: 0.9474\n",
            "Epoch 11/500\n",
            "5/5 [==============================] - 1s 274ms/step - loss: 0.0104 - accuracy: 1.0000 - val_loss: 0.1099 - val_accuracy: 0.9474\n",
            "Epoch 12/500\n",
            "5/5 [==============================] - 1s 272ms/step - loss: 0.0074 - accuracy: 1.0000 - val_loss: 0.1282 - val_accuracy: 0.9474\n",
            "Epoch 13/500\n",
            "5/5 [==============================] - 1s 282ms/step - loss: 0.0064 - accuracy: 1.0000 - val_loss: 0.1265 - val_accuracy: 0.9474\n",
            "Epoch 14/500\n",
            "5/5 [==============================] - 1s 277ms/step - loss: 0.0053 - accuracy: 1.0000 - val_loss: 0.1074 - val_accuracy: 0.9474\n",
            "Epoch 15/500\n",
            "5/5 [==============================] - 1s 268ms/step - loss: 0.0043 - accuracy: 1.0000 - val_loss: 0.0917 - val_accuracy: 0.9474\n",
            "Epoch 16/500\n",
            "5/5 [==============================] - 2s 458ms/step - loss: 0.0038 - accuracy: 1.0000 - val_loss: 0.0797 - val_accuracy: 0.9474\n",
            "Epoch 17/500\n",
            "5/5 [==============================] - 2s 479ms/step - loss: 0.0035 - accuracy: 1.0000 - val_loss: 0.0825 - val_accuracy: 0.9474\n",
            "Epoch 18/500\n",
            "5/5 [==============================] - 1s 254ms/step - loss: 0.0030 - accuracy: 1.0000 - val_loss: 0.0822 - val_accuracy: 0.9474\n",
            "Epoch 19/500\n",
            "5/5 [==============================] - 1s 270ms/step - loss: 0.0026 - accuracy: 1.0000 - val_loss: 0.0802 - val_accuracy: 0.9474\n",
            "Epoch 20/500\n",
            "5/5 [==============================] - 1s 264ms/step - loss: 0.0024 - accuracy: 1.0000 - val_loss: 0.0753 - val_accuracy: 0.9474\n",
            "Epoch 21/500\n",
            "5/5 [==============================] - 1s 264ms/step - loss: 0.0022 - accuracy: 1.0000 - val_loss: 0.0755 - val_accuracy: 0.9474\n",
            "Epoch 22/500\n",
            "5/5 [==============================] - 1s 255ms/step - loss: 0.0020 - accuracy: 1.0000 - val_loss: 0.0794 - val_accuracy: 0.9474\n",
            "Epoch 23/500\n",
            "5/5 [==============================] - 1s 270ms/step - loss: 0.0018 - accuracy: 1.0000 - val_loss: 0.0789 - val_accuracy: 0.9474\n",
            "Epoch 24/500\n",
            "5/5 [==============================] - 1s 285ms/step - loss: 0.0017 - accuracy: 1.0000 - val_loss: 0.0775 - val_accuracy: 0.9474\n",
            "Epoch 25/500\n",
            "5/5 [==============================] - 2s 503ms/step - loss: 0.0016 - accuracy: 1.0000 - val_loss: 0.0843 - val_accuracy: 0.9474\n",
            "Epoch 26/500\n",
            "5/5 [==============================] - 3s 509ms/step - loss: 0.0014 - accuracy: 1.0000 - val_loss: 0.0812 - val_accuracy: 0.9474\n",
            "Epoch 27/500\n",
            "5/5 [==============================] - 3s 530ms/step - loss: 0.0013 - accuracy: 1.0000 - val_loss: 0.0789 - val_accuracy: 0.9474\n",
            "Epoch 28/500\n",
            "5/5 [==============================] - 2s 342ms/step - loss: 0.0012 - accuracy: 1.0000 - val_loss: 0.0767 - val_accuracy: 0.9474\n",
            "Epoch 29/500\n",
            "5/5 [==============================] - 1s 275ms/step - loss: 0.0011 - accuracy: 1.0000 - val_loss: 0.0769 - val_accuracy: 0.9474\n",
            "Epoch 30/500\n",
            "5/5 [==============================] - 1s 272ms/step - loss: 0.0011 - accuracy: 1.0000 - val_loss: 0.0798 - val_accuracy: 0.9474\n",
            "Epoch 31/500\n",
            "5/5 [==============================] - 1s 271ms/step - loss: 0.0010 - accuracy: 1.0000 - val_loss: 0.0793 - val_accuracy: 0.9474\n",
            "Epoch 32/500\n",
            "5/5 [==============================] - 1s 262ms/step - loss: 9.5139e-04 - accuracy: 1.0000 - val_loss: 0.0804 - val_accuracy: 0.9474\n",
            "Epoch 33/500\n",
            "5/5 [==============================] - 1s 265ms/step - loss: 8.9611e-04 - accuracy: 1.0000 - val_loss: 0.0781 - val_accuracy: 0.9474\n",
            "Epoch 34/500\n",
            "5/5 [==============================] - 1s 269ms/step - loss: 8.4939e-04 - accuracy: 1.0000 - val_loss: 0.0769 - val_accuracy: 0.9474\n",
            "Epoch 35/500\n",
            "5/5 [==============================] - 1s 253ms/step - loss: 8.0522e-04 - accuracy: 1.0000 - val_loss: 0.0753 - val_accuracy: 0.9474\n",
            "Epoch 36/500\n",
            "5/5 [==============================] - 2s 427ms/step - loss: 7.7207e-04 - accuracy: 1.0000 - val_loss: 0.0771 - val_accuracy: 0.9474\n",
            "Epoch 37/500\n",
            "5/5 [==============================] - 2s 468ms/step - loss: 7.2982e-04 - accuracy: 1.0000 - val_loss: 0.0778 - val_accuracy: 0.9474\n",
            "Epoch 38/500\n",
            "5/5 [==============================] - 1s 261ms/step - loss: 6.8917e-04 - accuracy: 1.0000 - val_loss: 0.0768 - val_accuracy: 0.9474\n",
            "Epoch 39/500\n",
            "5/5 [==============================] - 1s 266ms/step - loss: 6.6451e-04 - accuracy: 1.0000 - val_loss: 0.0757 - val_accuracy: 0.9474\n",
            "Epoch 40/500\n",
            "5/5 [==============================] - 1s 274ms/step - loss: 6.3320e-04 - accuracy: 1.0000 - val_loss: 0.0746 - val_accuracy: 0.9474\n",
            "Epoch 41/500\n",
            "5/5 [==============================] - 1s 269ms/step - loss: 6.1079e-04 - accuracy: 1.0000 - val_loss: 0.0728 - val_accuracy: 0.9474\n",
            "Epoch 42/500\n",
            "5/5 [==============================] - 1s 267ms/step - loss: 5.7992e-04 - accuracy: 1.0000 - val_loss: 0.0728 - val_accuracy: 0.9474\n",
            "Epoch 43/500\n",
            "5/5 [==============================] - 1s 264ms/step - loss: 5.5737e-04 - accuracy: 1.0000 - val_loss: 0.0743 - val_accuracy: 0.9474\n",
            "Epoch 44/500\n",
            "5/5 [==============================] - 1s 265ms/step - loss: 5.3219e-04 - accuracy: 1.0000 - val_loss: 0.0744 - val_accuracy: 0.9474\n",
            "Epoch 45/500\n",
            "5/5 [==============================] - 1s 292ms/step - loss: 5.1349e-04 - accuracy: 1.0000 - val_loss: 0.0770 - val_accuracy: 0.9474\n",
            "Epoch 46/500\n",
            "5/5 [==============================] - 2s 472ms/step - loss: 4.9303e-04 - accuracy: 1.0000 - val_loss: 0.0777 - val_accuracy: 0.9474\n",
            "Epoch 47/500\n",
            "5/5 [==============================] - 2s 396ms/step - loss: 4.7252e-04 - accuracy: 1.0000 - val_loss: 0.0760 - val_accuracy: 0.9474\n",
            "Epoch 48/500\n",
            "5/5 [==============================] - 1s 252ms/step - loss: 4.5349e-04 - accuracy: 1.0000 - val_loss: 0.0745 - val_accuracy: 0.9474\n",
            "Epoch 49/500\n",
            "5/5 [==============================] - 1s 264ms/step - loss: 4.3951e-04 - accuracy: 1.0000 - val_loss: 0.0734 - val_accuracy: 0.9474\n",
            "Epoch 50/500\n",
            "5/5 [==============================] - 1s 252ms/step - loss: 4.2763e-04 - accuracy: 1.0000 - val_loss: 0.0716 - val_accuracy: 0.9474\n",
            "Epoch 51/500\n",
            "5/5 [==============================] - 1s 247ms/step - loss: 4.0907e-04 - accuracy: 1.0000 - val_loss: 0.0725 - val_accuracy: 0.9474\n",
            "Epoch 52/500\n",
            "5/5 [==============================] - 1s 257ms/step - loss: 3.9579e-04 - accuracy: 1.0000 - val_loss: 0.0749 - val_accuracy: 0.9474\n",
            "Epoch 53/500\n",
            "5/5 [==============================] - 1s 261ms/step - loss: 3.8035e-04 - accuracy: 1.0000 - val_loss: 0.0761 - val_accuracy: 0.9474\n",
            "Epoch 54/500\n",
            "5/5 [==============================] - 1s 260ms/step - loss: 3.6980e-04 - accuracy: 1.0000 - val_loss: 0.0769 - val_accuracy: 0.9474\n",
            "Epoch 55/500\n",
            "5/5 [==============================] - 2s 337ms/step - loss: 3.5711e-04 - accuracy: 1.0000 - val_loss: 0.0775 - val_accuracy: 0.9474\n",
            "Epoch 56/500\n",
            "5/5 [==============================] - 2s 453ms/step - loss: 3.4600e-04 - accuracy: 1.0000 - val_loss: 0.0764 - val_accuracy: 0.9474\n",
            "Epoch 57/500\n",
            "5/5 [==============================] - 2s 360ms/step - loss: 3.3690e-04 - accuracy: 1.0000 - val_loss: 0.0768 - val_accuracy: 0.9474\n",
            "Epoch 58/500\n",
            "5/5 [==============================] - 1s 255ms/step - loss: 3.2461e-04 - accuracy: 1.0000 - val_loss: 0.0755 - val_accuracy: 0.9474\n",
            "Epoch 59/500\n",
            "5/5 [==============================] - 1s 249ms/step - loss: 3.1698e-04 - accuracy: 1.0000 - val_loss: 0.0734 - val_accuracy: 0.9474\n",
            "Epoch 60/500\n",
            "5/5 [==============================] - 1s 263ms/step - loss: 3.0595e-04 - accuracy: 1.0000 - val_loss: 0.0752 - val_accuracy: 0.9474\n",
            "Epoch 61/500\n",
            "5/5 [==============================] - 1s 262ms/step - loss: 2.9465e-04 - accuracy: 1.0000 - val_loss: 0.0754 - val_accuracy: 0.9474\n",
            "Epoch 62/500\n",
            "5/5 [==============================] - 1s 260ms/step - loss: 2.8609e-04 - accuracy: 1.0000 - val_loss: 0.0757 - val_accuracy: 0.9474\n",
            "Epoch 63/500\n",
            "5/5 [==============================] - 1s 254ms/step - loss: 2.7799e-04 - accuracy: 1.0000 - val_loss: 0.0764 - val_accuracy: 0.9474\n",
            "Epoch 64/500\n",
            "5/5 [==============================] - 1s 261ms/step - loss: 2.7035e-04 - accuracy: 1.0000 - val_loss: 0.0759 - val_accuracy: 0.9474\n",
            "Epoch 65/500\n",
            "5/5 [==============================] - 2s 351ms/step - loss: 2.6401e-04 - accuracy: 1.0000 - val_loss: 0.0763 - val_accuracy: 0.9474\n",
            "Epoch 66/500\n",
            "5/5 [==============================] - 2s 463ms/step - loss: 2.5587e-04 - accuracy: 1.0000 - val_loss: 0.0750 - val_accuracy: 0.9474\n",
            "Epoch 67/500\n",
            "5/5 [==============================] - 2s 350ms/step - loss: 2.4834e-04 - accuracy: 1.0000 - val_loss: 0.0751 - val_accuracy: 0.9474\n",
            "Epoch 68/500\n",
            "5/5 [==============================] - 1s 258ms/step - loss: 2.4089e-04 - accuracy: 1.0000 - val_loss: 0.0751 - val_accuracy: 0.9474\n",
            "Epoch 69/500\n",
            "5/5 [==============================] - 1s 260ms/step - loss: 2.3386e-04 - accuracy: 1.0000 - val_loss: 0.0750 - val_accuracy: 0.9474\n",
            "Epoch 70/500\n",
            "5/5 [==============================] - 1s 253ms/step - loss: 2.2824e-04 - accuracy: 1.0000 - val_loss: 0.0745 - val_accuracy: 0.9474\n",
            "Epoch 71/500\n",
            "5/5 [==============================] - 1s 253ms/step - loss: 2.2144e-04 - accuracy: 1.0000 - val_loss: 0.0749 - val_accuracy: 0.9474\n",
            "Epoch 72/500\n",
            "5/5 [==============================] - 1s 254ms/step - loss: 2.1653e-04 - accuracy: 1.0000 - val_loss: 0.0758 - val_accuracy: 0.9474\n",
            "Epoch 73/500\n",
            "5/5 [==============================] - 1s 267ms/step - loss: 2.0995e-04 - accuracy: 1.0000 - val_loss: 0.0759 - val_accuracy: 0.9474\n",
            "Epoch 74/500\n",
            "5/5 [==============================] - 1s 259ms/step - loss: 2.0525e-04 - accuracy: 1.0000 - val_loss: 0.0767 - val_accuracy: 0.9474\n",
            "Epoch 75/500\n",
            "5/5 [==============================] - 2s 402ms/step - loss: 2.0030e-04 - accuracy: 1.0000 - val_loss: 0.0769 - val_accuracy: 0.9474\n",
            "Epoch 76/500\n",
            "5/5 [==============================] - 2s 455ms/step - loss: 1.9523e-04 - accuracy: 1.0000 - val_loss: 0.0765 - val_accuracy: 0.9474\n",
            "Epoch 77/500\n",
            "5/5 [==============================] - 2s 325ms/step - loss: 1.9035e-04 - accuracy: 1.0000 - val_loss: 0.0773 - val_accuracy: 0.9474\n",
            "Epoch 78/500\n",
            "5/5 [==============================] - 1s 255ms/step - loss: 1.8542e-04 - accuracy: 1.0000 - val_loss: 0.0768 - val_accuracy: 0.9474\n",
            "Epoch 79/500\n",
            "5/5 [==============================] - 1s 254ms/step - loss: 1.8161e-04 - accuracy: 1.0000 - val_loss: 0.0778 - val_accuracy: 0.9474\n",
            "Epoch 80/500\n",
            "5/5 [==============================] - 1s 252ms/step - loss: 1.7639e-04 - accuracy: 1.0000 - val_loss: 0.0768 - val_accuracy: 0.9474\n",
            "Epoch 81/500\n",
            "5/5 [==============================] - 1s 255ms/step - loss: 1.7227e-04 - accuracy: 1.0000 - val_loss: 0.0759 - val_accuracy: 0.9474\n",
            "Epoch 82/500\n",
            "5/5 [==============================] - 1s 258ms/step - loss: 1.6822e-04 - accuracy: 1.0000 - val_loss: 0.0766 - val_accuracy: 0.9474\n",
            "Epoch 83/500\n",
            "5/5 [==============================] - 1s 254ms/step - loss: 1.6403e-04 - accuracy: 1.0000 - val_loss: 0.0763 - val_accuracy: 0.9474\n",
            "Epoch 84/500\n",
            "5/5 [==============================] - 1s 257ms/step - loss: 1.6039e-04 - accuracy: 1.0000 - val_loss: 0.0765 - val_accuracy: 0.9474\n",
            "Epoch 85/500\n",
            "5/5 [==============================] - 2s 409ms/step - loss: 1.5658e-04 - accuracy: 1.0000 - val_loss: 0.0775 - val_accuracy: 0.9474\n",
            "Epoch 86/500\n",
            "5/5 [==============================] - 2s 450ms/step - loss: 1.5301e-04 - accuracy: 1.0000 - val_loss: 0.0773 - val_accuracy: 0.9474\n",
            "Epoch 87/500\n",
            "5/5 [==============================] - 2s 334ms/step - loss: 1.4984e-04 - accuracy: 1.0000 - val_loss: 0.0778 - val_accuracy: 0.9474\n",
            "Epoch 88/500\n",
            "5/5 [==============================] - 1s 281ms/step - loss: 1.4536e-04 - accuracy: 1.0000 - val_loss: 0.0781 - val_accuracy: 0.9474\n",
            "Epoch 89/500\n",
            "5/5 [==============================] - 1s 288ms/step - loss: 1.4249e-04 - accuracy: 1.0000 - val_loss: 0.0788 - val_accuracy: 0.9474\n",
            "Epoch 90/500\n",
            "5/5 [==============================] - 1s 280ms/step - loss: 1.3932e-04 - accuracy: 1.0000 - val_loss: 0.0783 - val_accuracy: 0.9474\n",
            "Epoch 91/500\n",
            "5/5 [==============================] - 1s 279ms/step - loss: 1.3565e-04 - accuracy: 1.0000 - val_loss: 0.0780 - val_accuracy: 0.9474\n",
            "Epoch 92/500\n",
            "5/5 [==============================] - 1s 265ms/step - loss: 1.3280e-04 - accuracy: 1.0000 - val_loss: 0.0779 - val_accuracy: 0.9474\n",
            "Epoch 93/500\n",
            "5/5 [==============================] - 1s 278ms/step - loss: 1.2994e-04 - accuracy: 1.0000 - val_loss: 0.0787 - val_accuracy: 0.9474\n",
            "Epoch 94/500\n",
            "5/5 [==============================] - 2s 321ms/step - loss: 1.2721e-04 - accuracy: 1.0000 - val_loss: 0.0793 - val_accuracy: 0.9474\n",
            "Epoch 95/500\n",
            "5/5 [==============================] - 2s 454ms/step - loss: 1.2430e-04 - accuracy: 1.0000 - val_loss: 0.0781 - val_accuracy: 0.9474\n",
            "Epoch 96/500\n",
            "5/5 [==============================] - 2s 400ms/step - loss: 1.2110e-04 - accuracy: 1.0000 - val_loss: 0.0783 - val_accuracy: 0.9474\n",
            "Epoch 97/500\n",
            "5/5 [==============================] - 1s 252ms/step - loss: 1.1831e-04 - accuracy: 1.0000 - val_loss: 0.0791 - val_accuracy: 0.9474\n",
            "Epoch 98/500\n",
            "5/5 [==============================] - 1s 251ms/step - loss: 1.1558e-04 - accuracy: 1.0000 - val_loss: 0.0784 - val_accuracy: 0.9474\n",
            "Epoch 99/500\n",
            "5/5 [==============================] - 1s 262ms/step - loss: 1.1296e-04 - accuracy: 1.0000 - val_loss: 0.0788 - val_accuracy: 0.9474\n",
            "Epoch 100/500\n",
            "5/5 [==============================] - 1s 264ms/step - loss: 1.1039e-04 - accuracy: 1.0000 - val_loss: 0.0783 - val_accuracy: 0.9474\n",
            "Epoch 101/500\n",
            "5/5 [==============================] - 1s 265ms/step - loss: 1.0754e-04 - accuracy: 1.0000 - val_loss: 0.0786 - val_accuracy: 0.9474\n",
            "Epoch 102/500\n",
            "5/5 [==============================] - 1s 250ms/step - loss: 1.0555e-04 - accuracy: 1.0000 - val_loss: 0.0778 - val_accuracy: 0.9474\n",
            "Epoch 103/500\n",
            "5/5 [==============================] - 1s 262ms/step - loss: 1.0308e-04 - accuracy: 1.0000 - val_loss: 0.0791 - val_accuracy: 0.9474\n",
            "Epoch 104/500\n",
            "5/5 [==============================] - 2s 349ms/step - loss: 1.0064e-04 - accuracy: 1.0000 - val_loss: 0.0798 - val_accuracy: 0.9474\n",
            "Epoch 105/500\n",
            "5/5 [==============================] - 2s 432ms/step - loss: 9.8400e-05 - accuracy: 1.0000 - val_loss: 0.0792 - val_accuracy: 0.9474\n",
            "Epoch 106/500\n",
            "5/5 [==============================] - 2s 395ms/step - loss: 9.6180e-05 - accuracy: 1.0000 - val_loss: 0.0787 - val_accuracy: 0.9474\n",
            "Epoch 107/500\n",
            "5/5 [==============================] - 1s 255ms/step - loss: 9.4006e-05 - accuracy: 1.0000 - val_loss: 0.0790 - val_accuracy: 0.9474\n",
            "Epoch 108/500\n",
            "5/5 [==============================] - 1s 259ms/step - loss: 9.2364e-05 - accuracy: 1.0000 - val_loss: 0.0795 - val_accuracy: 0.9474\n",
            "Epoch 109/500\n",
            "5/5 [==============================] - 1s 259ms/step - loss: 9.0420e-05 - accuracy: 1.0000 - val_loss: 0.0796 - val_accuracy: 0.9474\n",
            "Epoch 110/500\n",
            "5/5 [==============================] - 1s 258ms/step - loss: 8.8792e-05 - accuracy: 1.0000 - val_loss: 0.0799 - val_accuracy: 0.9474\n",
            "Epoch 111/500\n",
            "5/5 [==============================] - 1s 259ms/step - loss: 8.7000e-05 - accuracy: 1.0000 - val_loss: 0.0800 - val_accuracy: 0.9474\n",
            "Epoch 112/500\n",
            "5/5 [==============================] - 1s 253ms/step - loss: 8.5570e-05 - accuracy: 1.0000 - val_loss: 0.0813 - val_accuracy: 0.9474\n",
            "Epoch 113/500\n",
            "5/5 [==============================] - 1s 264ms/step - loss: 8.3768e-05 - accuracy: 1.0000 - val_loss: 0.0809 - val_accuracy: 0.9474\n",
            "Epoch 114/500\n",
            "5/5 [==============================] - 2s 359ms/step - loss: 8.2336e-05 - accuracy: 1.0000 - val_loss: 0.0814 - val_accuracy: 0.9474\n",
            "Epoch 115/500\n",
            "5/5 [==============================] - 2s 432ms/step - loss: 8.0537e-05 - accuracy: 1.0000 - val_loss: 0.0808 - val_accuracy: 0.9474\n",
            "Epoch 116/500\n",
            "5/5 [==============================] - 2s 355ms/step - loss: 7.9253e-05 - accuracy: 1.0000 - val_loss: 0.0803 - val_accuracy: 0.9474\n",
            "Epoch 117/500\n",
            "5/5 [==============================] - 1s 259ms/step - loss: 7.7580e-05 - accuracy: 1.0000 - val_loss: 0.0798 - val_accuracy: 0.9474\n",
            "Epoch 118/500\n",
            "5/5 [==============================] - 1s 250ms/step - loss: 7.6587e-05 - accuracy: 1.0000 - val_loss: 0.0792 - val_accuracy: 0.9474\n",
            "Epoch 119/500\n",
            "5/5 [==============================] - 1s 252ms/step - loss: 7.5302e-05 - accuracy: 1.0000 - val_loss: 0.0791 - val_accuracy: 0.9474\n",
            "Epoch 120/500\n",
            "5/5 [==============================] - 1s 248ms/step - loss: 7.3824e-05 - accuracy: 1.0000 - val_loss: 0.0802 - val_accuracy: 0.9474\n",
            "Epoch 121/500\n",
            "5/5 [==============================] - 1s 255ms/step - loss: 7.2760e-05 - accuracy: 1.0000 - val_loss: 0.0813 - val_accuracy: 0.9474\n",
            "Epoch 122/500\n",
            "5/5 [==============================] - 1s 253ms/step - loss: 7.1199e-05 - accuracy: 1.0000 - val_loss: 0.0806 - val_accuracy: 0.9474\n",
            "Epoch 123/500\n",
            "5/5 [==============================] - 1s 261ms/step - loss: 7.0020e-05 - accuracy: 1.0000 - val_loss: 0.0811 - val_accuracy: 0.9474\n",
            "Epoch 124/500\n",
            "5/5 [==============================] - 2s 385ms/step - loss: 6.8656e-05 - accuracy: 1.0000 - val_loss: 0.0813 - val_accuracy: 0.9474\n",
            "Epoch 125/500\n",
            "5/5 [==============================] - 2s 454ms/step - loss: 6.7490e-05 - accuracy: 1.0000 - val_loss: 0.0814 - val_accuracy: 0.9474\n",
            "Epoch 126/500\n",
            "5/5 [==============================] - 2s 352ms/step - loss: 6.6383e-05 - accuracy: 1.0000 - val_loss: 0.0812 - val_accuracy: 0.9474\n",
            "Epoch 127/500\n",
            "5/5 [==============================] - 1s 276ms/step - loss: 6.5331e-05 - accuracy: 1.0000 - val_loss: 0.0814 - val_accuracy: 0.9474\n",
            "Epoch 128/500\n",
            "5/5 [==============================] - 1s 262ms/step - loss: 6.4111e-05 - accuracy: 1.0000 - val_loss: 0.0814 - val_accuracy: 0.9474\n",
            "Epoch 129/500\n",
            "5/5 [==============================] - 1s 277ms/step - loss: 6.3112e-05 - accuracy: 1.0000 - val_loss: 0.0813 - val_accuracy: 0.9474\n",
            "Epoch 130/500\n",
            "5/5 [==============================] - 1s 260ms/step - loss: 6.1889e-05 - accuracy: 1.0000 - val_loss: 0.0816 - val_accuracy: 0.9474\n",
            "Epoch 131/500\n",
            "5/5 [==============================] - 1s 262ms/step - loss: 6.1095e-05 - accuracy: 1.0000 - val_loss: 0.0816 - val_accuracy: 0.9474\n",
            "Epoch 132/500\n",
            "5/5 [==============================] - 1s 265ms/step - loss: 6.0080e-05 - accuracy: 1.0000 - val_loss: 0.0824 - val_accuracy: 0.9474\n",
            "Epoch 133/500\n",
            "5/5 [==============================] - 1s 267ms/step - loss: 5.9163e-05 - accuracy: 1.0000 - val_loss: 0.0821 - val_accuracy: 0.9474\n",
            "Epoch 134/500\n",
            "5/5 [==============================] - 2s 454ms/step - loss: 5.8015e-05 - accuracy: 1.0000 - val_loss: 0.0828 - val_accuracy: 0.9474\n",
            "Epoch 135/500\n",
            "5/5 [==============================] - 2s 484ms/step - loss: 5.6920e-05 - accuracy: 1.0000 - val_loss: 0.0829 - val_accuracy: 0.9474\n",
            "Epoch 136/500\n",
            "5/5 [==============================] - 1s 264ms/step - loss: 5.6117e-05 - accuracy: 1.0000 - val_loss: 0.0832 - val_accuracy: 0.9474\n",
            "Epoch 137/500\n",
            "5/5 [==============================] - 1s 268ms/step - loss: 5.5303e-05 - accuracy: 1.0000 - val_loss: 0.0828 - val_accuracy: 0.9474\n",
            "Epoch 138/500\n",
            "5/5 [==============================] - 1s 249ms/step - loss: 5.4425e-05 - accuracy: 1.0000 - val_loss: 0.0821 - val_accuracy: 0.9474\n",
            "Epoch 139/500\n",
            "5/5 [==============================] - 1s 266ms/step - loss: 5.3452e-05 - accuracy: 1.0000 - val_loss: 0.0824 - val_accuracy: 0.9474\n",
            "Epoch 140/500\n",
            "5/5 [==============================] - 1s 264ms/step - loss: 5.2562e-05 - accuracy: 1.0000 - val_loss: 0.0827 - val_accuracy: 0.9474\n",
            "Epoch 141/500\n",
            "5/5 [==============================] - 1s 257ms/step - loss: 5.1967e-05 - accuracy: 1.0000 - val_loss: 0.0821 - val_accuracy: 0.9474\n",
            "Epoch 142/500\n",
            "5/5 [==============================] - 1s 260ms/step - loss: 5.0921e-05 - accuracy: 1.0000 - val_loss: 0.0832 - val_accuracy: 0.9474\n",
            "Epoch 143/500\n",
            "5/5 [==============================] - 2s 336ms/step - loss: 5.0204e-05 - accuracy: 1.0000 - val_loss: 0.0840 - val_accuracy: 0.9474\n",
            "Epoch 144/500\n",
            "5/5 [==============================] - 2s 462ms/step - loss: 4.9413e-05 - accuracy: 1.0000 - val_loss: 0.0835 - val_accuracy: 0.9474\n",
            "Epoch 145/500\n",
            "5/5 [==============================] - 2s 363ms/step - loss: 4.8541e-05 - accuracy: 1.0000 - val_loss: 0.0832 - val_accuracy: 0.9474\n",
            "Epoch 146/500\n",
            "5/5 [==============================] - 1s 268ms/step - loss: 4.7788e-05 - accuracy: 1.0000 - val_loss: 0.0826 - val_accuracy: 0.9474\n",
            "Epoch 147/500\n",
            "5/5 [==============================] - 1s 249ms/step - loss: 4.6973e-05 - accuracy: 1.0000 - val_loss: 0.0825 - val_accuracy: 0.9474\n",
            "Epoch 148/500\n",
            "5/5 [==============================] - 1s 262ms/step - loss: 4.6371e-05 - accuracy: 1.0000 - val_loss: 0.0826 - val_accuracy: 0.9474\n",
            "Epoch 149/500\n",
            "5/5 [==============================] - 1s 261ms/step - loss: 4.5609e-05 - accuracy: 1.0000 - val_loss: 0.0822 - val_accuracy: 0.9474\n",
            "Epoch 150/500\n",
            "5/5 [==============================] - 1s 262ms/step - loss: 4.5001e-05 - accuracy: 1.0000 - val_loss: 0.0829 - val_accuracy: 0.9474\n",
            "Epoch 151/500\n",
            "5/5 [==============================] - 1s 271ms/step - loss: 4.4157e-05 - accuracy: 1.0000 - val_loss: 0.0826 - val_accuracy: 0.9474\n",
            "Epoch 152/500\n",
            "5/5 [==============================] - 1s 264ms/step - loss: 4.3547e-05 - accuracy: 1.0000 - val_loss: 0.0821 - val_accuracy: 0.9474\n",
            "Epoch 153/500\n",
            "5/5 [==============================] - 2s 441ms/step - loss: 4.2977e-05 - accuracy: 1.0000 - val_loss: 0.0817 - val_accuracy: 0.9474\n",
            "Epoch 154/500\n",
            "5/5 [==============================] - 2s 446ms/step - loss: 4.2294e-05 - accuracy: 1.0000 - val_loss: 0.0815 - val_accuracy: 0.9474\n",
            "Epoch 155/500\n",
            "5/5 [==============================] - 2s 278ms/step - loss: 4.1560e-05 - accuracy: 1.0000 - val_loss: 0.0822 - val_accuracy: 0.9474\n",
            "Epoch 156/500\n",
            "5/5 [==============================] - 1s 262ms/step - loss: 4.0971e-05 - accuracy: 1.0000 - val_loss: 0.0821 - val_accuracy: 0.9474\n",
            "Epoch 157/500\n",
            "5/5 [==============================] - 1s 244ms/step - loss: 4.0312e-05 - accuracy: 1.0000 - val_loss: 0.0823 - val_accuracy: 0.9474\n",
            "Epoch 158/500\n",
            "5/5 [==============================] - 1s 267ms/step - loss: 3.9660e-05 - accuracy: 1.0000 - val_loss: 0.0820 - val_accuracy: 0.9474\n",
            "Epoch 159/500\n",
            "5/5 [==============================] - 1s 264ms/step - loss: 3.9042e-05 - accuracy: 1.0000 - val_loss: 0.0821 - val_accuracy: 0.9474\n",
            "Epoch 160/500\n",
            "5/5 [==============================] - 1s 275ms/step - loss: 3.8602e-05 - accuracy: 1.0000 - val_loss: 0.0823 - val_accuracy: 0.9474\n",
            "Epoch 161/500\n",
            "5/5 [==============================] - 1s 258ms/step - loss: 3.8003e-05 - accuracy: 1.0000 - val_loss: 0.0820 - val_accuracy: 0.9474\n",
            "Epoch 162/500\n",
            "5/5 [==============================] - 1s 296ms/step - loss: 3.7443e-05 - accuracy: 1.0000 - val_loss: 0.0816 - val_accuracy: 0.9474\n",
            "Epoch 163/500\n",
            "5/5 [==============================] - 2s 461ms/step - loss: 3.6900e-05 - accuracy: 1.0000 - val_loss: 0.0819 - val_accuracy: 0.9474\n",
            "Epoch 164/500\n",
            "5/5 [==============================] - 2s 435ms/step - loss: 3.6242e-05 - accuracy: 1.0000 - val_loss: 0.0817 - val_accuracy: 0.9474\n",
            "Epoch 165/500\n",
            "5/5 [==============================] - 1s 253ms/step - loss: 3.5734e-05 - accuracy: 1.0000 - val_loss: 0.0817 - val_accuracy: 0.9474\n",
            "Epoch 166/500\n",
            "5/5 [==============================] - 1s 271ms/step - loss: 3.5217e-05 - accuracy: 1.0000 - val_loss: 0.0815 - val_accuracy: 0.9474\n",
            "Epoch 167/500\n",
            "5/5 [==============================] - 1s 250ms/step - loss: 3.4789e-05 - accuracy: 1.0000 - val_loss: 0.0817 - val_accuracy: 0.9474\n",
            "Epoch 168/500\n",
            "5/5 [==============================] - 1s 269ms/step - loss: 3.4239e-05 - accuracy: 1.0000 - val_loss: 0.0818 - val_accuracy: 0.9474\n",
            "Epoch 169/500\n",
            "5/5 [==============================] - 1s 252ms/step - loss: 3.3748e-05 - accuracy: 1.0000 - val_loss: 0.0808 - val_accuracy: 0.9474\n",
            "Epoch 170/500\n",
            "5/5 [==============================] - 1s 254ms/step - loss: 3.3308e-05 - accuracy: 1.0000 - val_loss: 0.0811 - val_accuracy: 0.9474\n",
            "Epoch 171/500\n",
            "5/5 [==============================] - 1s 260ms/step - loss: 3.2810e-05 - accuracy: 1.0000 - val_loss: 0.0811 - val_accuracy: 0.9474\n",
            "Epoch 172/500\n",
            "5/5 [==============================] - 1s 312ms/step - loss: 3.2363e-05 - accuracy: 1.0000 - val_loss: 0.0809 - val_accuracy: 0.9474\n",
            "Epoch 173/500\n",
            "5/5 [==============================] - 2s 464ms/step - loss: 3.1874e-05 - accuracy: 1.0000 - val_loss: 0.0810 - val_accuracy: 0.9474\n",
            "Epoch 174/500\n",
            "5/5 [==============================] - 2s 408ms/step - loss: 3.1518e-05 - accuracy: 1.0000 - val_loss: 0.0805 - val_accuracy: 0.9474\n",
            "Epoch 175/500\n",
            "5/5 [==============================] - 1s 262ms/step - loss: 3.1168e-05 - accuracy: 1.0000 - val_loss: 0.0817 - val_accuracy: 0.9474\n",
            "Epoch 176/500\n",
            "5/5 [==============================] - 1s 261ms/step - loss: 3.0679e-05 - accuracy: 1.0000 - val_loss: 0.0816 - val_accuracy: 0.9474\n",
            "Epoch 177/500\n",
            "5/5 [==============================] - 1s 255ms/step - loss: 3.0225e-05 - accuracy: 1.0000 - val_loss: 0.0809 - val_accuracy: 0.9474\n",
            "Epoch 178/500\n",
            "5/5 [==============================] - 1s 253ms/step - loss: 2.9790e-05 - accuracy: 1.0000 - val_loss: 0.0811 - val_accuracy: 0.9474\n",
            "Epoch 179/500\n",
            "5/5 [==============================] - 1s 252ms/step - loss: 2.9390e-05 - accuracy: 1.0000 - val_loss: 0.0804 - val_accuracy: 0.9474\n",
            "Epoch 180/500\n",
            "5/5 [==============================] - 1s 267ms/step - loss: 2.9137e-05 - accuracy: 1.0000 - val_loss: 0.0795 - val_accuracy: 0.9474\n",
            "Epoch 181/500\n",
            "5/5 [==============================] - 1s 258ms/step - loss: 2.8700e-05 - accuracy: 1.0000 - val_loss: 0.0807 - val_accuracy: 0.9474\n",
            "Epoch 182/500\n",
            "5/5 [==============================] - 2s 370ms/step - loss: 2.8274e-05 - accuracy: 1.0000 - val_loss: 0.0816 - val_accuracy: 0.9474\n",
            "Epoch 183/500\n",
            "5/5 [==============================] - 2s 452ms/step - loss: 2.7845e-05 - accuracy: 1.0000 - val_loss: 0.0818 - val_accuracy: 0.9474\n",
            "Epoch 184/500\n",
            "5/5 [==============================] - 2s 332ms/step - loss: 2.7460e-05 - accuracy: 1.0000 - val_loss: 0.0817 - val_accuracy: 0.9474\n",
            "Epoch 185/500\n",
            "5/5 [==============================] - 1s 259ms/step - loss: 2.7044e-05 - accuracy: 1.0000 - val_loss: 0.0809 - val_accuracy: 0.9474\n",
            "Epoch 186/500\n",
            "5/5 [==============================] - 1s 263ms/step - loss: 2.6721e-05 - accuracy: 1.0000 - val_loss: 0.0805 - val_accuracy: 0.9474\n",
            "Epoch 187/500\n",
            "5/5 [==============================] - 1s 270ms/step - loss: 2.6442e-05 - accuracy: 1.0000 - val_loss: 0.0797 - val_accuracy: 0.9474\n",
            "Epoch 188/500\n",
            "5/5 [==============================] - 1s 260ms/step - loss: 2.5991e-05 - accuracy: 1.0000 - val_loss: 0.0800 - val_accuracy: 0.9474\n",
            "Epoch 189/500\n",
            "5/5 [==============================] - 1s 271ms/step - loss: 2.5651e-05 - accuracy: 1.0000 - val_loss: 0.0808 - val_accuracy: 0.9474\n",
            "Epoch 190/500\n",
            "5/5 [==============================] - 1s 273ms/step - loss: 2.5316e-05 - accuracy: 1.0000 - val_loss: 0.0812 - val_accuracy: 0.9474\n",
            "Epoch 191/500\n",
            "5/5 [==============================] - 1s 257ms/step - loss: 2.4983e-05 - accuracy: 1.0000 - val_loss: 0.0815 - val_accuracy: 0.9474\n",
            "Epoch 192/500\n",
            "5/5 [==============================] - 2s 464ms/step - loss: 2.4664e-05 - accuracy: 1.0000 - val_loss: 0.0810 - val_accuracy: 0.9474\n",
            "Epoch 193/500\n",
            "5/5 [==============================] - 2s 450ms/step - loss: 2.4265e-05 - accuracy: 1.0000 - val_loss: 0.0814 - val_accuracy: 0.9474\n",
            "Epoch 194/500\n",
            "5/5 [==============================] - 1s 259ms/step - loss: 2.4013e-05 - accuracy: 1.0000 - val_loss: 0.0825 - val_accuracy: 0.9474\n",
            "Epoch 195/500\n",
            "5/5 [==============================] - 1s 256ms/step - loss: 2.3689e-05 - accuracy: 1.0000 - val_loss: 0.0827 - val_accuracy: 0.9474\n",
            "Epoch 196/500\n",
            "5/5 [==============================] - 1s 269ms/step - loss: 2.3363e-05 - accuracy: 1.0000 - val_loss: 0.0828 - val_accuracy: 0.9474\n",
            "Epoch 197/500\n",
            "5/5 [==============================] - 1s 271ms/step - loss: 2.3084e-05 - accuracy: 1.0000 - val_loss: 0.0830 - val_accuracy: 0.9474\n",
            "Epoch 198/500\n",
            "5/5 [==============================] - 1s 266ms/step - loss: 2.2714e-05 - accuracy: 1.0000 - val_loss: 0.0830 - val_accuracy: 0.9474\n",
            "Epoch 199/500\n",
            "5/5 [==============================] - 1s 267ms/step - loss: 2.2503e-05 - accuracy: 1.0000 - val_loss: 0.0826 - val_accuracy: 0.9474\n",
            "Epoch 200/500\n",
            "5/5 [==============================] - 1s 267ms/step - loss: 2.2206e-05 - accuracy: 1.0000 - val_loss: 0.0829 - val_accuracy: 0.9474\n",
            "Epoch 201/500\n",
            "5/5 [==============================] - 2s 323ms/step - loss: 2.1907e-05 - accuracy: 1.0000 - val_loss: 0.0830 - val_accuracy: 0.9474\n",
            "Epoch 202/500\n",
            "5/5 [==============================] - 2s 489ms/step - loss: 2.1652e-05 - accuracy: 1.0000 - val_loss: 0.0834 - val_accuracy: 0.9474\n",
            "Epoch 203/500\n",
            "5/5 [==============================] - 2s 489ms/step - loss: 2.1365e-05 - accuracy: 1.0000 - val_loss: 0.0831 - val_accuracy: 0.9474\n",
            "Epoch 204/500\n",
            "5/5 [==============================] - 2s 460ms/step - loss: 2.1118e-05 - accuracy: 1.0000 - val_loss: 0.0829 - val_accuracy: 0.9474\n",
            "Epoch 205/500\n",
            "5/5 [==============================] - 2s 329ms/step - loss: 2.0850e-05 - accuracy: 1.0000 - val_loss: 0.0830 - val_accuracy: 0.9474\n",
            "Epoch 206/500\n",
            "5/5 [==============================] - 1s 274ms/step - loss: 2.0582e-05 - accuracy: 1.0000 - val_loss: 0.0836 - val_accuracy: 0.9474\n",
            "Epoch 207/500\n",
            "5/5 [==============================] - 1s 277ms/step - loss: 2.0368e-05 - accuracy: 1.0000 - val_loss: 0.0844 - val_accuracy: 0.9474\n",
            "Epoch 208/500\n",
            "5/5 [==============================] - 1s 265ms/step - loss: 2.0138e-05 - accuracy: 1.0000 - val_loss: 0.0843 - val_accuracy: 0.9474\n",
            "Epoch 209/500\n",
            "5/5 [==============================] - 1s 273ms/step - loss: 1.9965e-05 - accuracy: 1.0000 - val_loss: 0.0848 - val_accuracy: 0.9474\n",
            "Epoch 210/500\n",
            "5/5 [==============================] - 1s 300ms/step - loss: 1.9638e-05 - accuracy: 1.0000 - val_loss: 0.0846 - val_accuracy: 0.9474\n",
            "Epoch 211/500\n",
            "5/5 [==============================] - 2s 487ms/step - loss: 1.9402e-05 - accuracy: 1.0000 - val_loss: 0.0842 - val_accuracy: 0.9474\n",
            "Epoch 212/500\n",
            "5/5 [==============================] - 2s 440ms/step - loss: 1.9176e-05 - accuracy: 1.0000 - val_loss: 0.0843 - val_accuracy: 0.9474\n",
            "Epoch 213/500\n",
            "5/5 [==============================] - 1s 262ms/step - loss: 1.8933e-05 - accuracy: 1.0000 - val_loss: 0.0836 - val_accuracy: 0.9474\n",
            "Epoch 214/500\n",
            "5/5 [==============================] - 1s 264ms/step - loss: 1.8732e-05 - accuracy: 1.0000 - val_loss: 0.0836 - val_accuracy: 0.9474\n",
            "Epoch 215/500\n",
            "5/5 [==============================] - 1s 259ms/step - loss: 1.8535e-05 - accuracy: 1.0000 - val_loss: 0.0834 - val_accuracy: 0.9474\n",
            "Epoch 216/500\n",
            "5/5 [==============================] - 1s 252ms/step - loss: 1.8276e-05 - accuracy: 1.0000 - val_loss: 0.0834 - val_accuracy: 0.9474\n",
            "Epoch 217/500\n",
            "5/5 [==============================] - 1s 253ms/step - loss: 1.8103e-05 - accuracy: 1.0000 - val_loss: 0.0837 - val_accuracy: 0.9474\n",
            "Epoch 218/500\n",
            "5/5 [==============================] - 1s 254ms/step - loss: 1.7919e-05 - accuracy: 1.0000 - val_loss: 0.0843 - val_accuracy: 0.9474\n",
            "Epoch 219/500\n",
            "5/5 [==============================] - 1s 258ms/step - loss: 1.7690e-05 - accuracy: 1.0000 - val_loss: 0.0844 - val_accuracy: 0.9474\n",
            "Epoch 220/500\n",
            "5/5 [==============================] - 2s 359ms/step - loss: 1.7442e-05 - accuracy: 1.0000 - val_loss: 0.0850 - val_accuracy: 0.9474\n",
            "Epoch 221/500\n",
            "5/5 [==============================] - 2s 478ms/step - loss: 1.7296e-05 - accuracy: 1.0000 - val_loss: 0.0859 - val_accuracy: 0.9474\n",
            "Epoch 222/500\n",
            "5/5 [==============================] - 2s 316ms/step - loss: 1.7077e-05 - accuracy: 1.0000 - val_loss: 0.0866 - val_accuracy: 0.9474\n",
            "Epoch 223/500\n",
            "5/5 [==============================] - 1s 270ms/step - loss: 1.6876e-05 - accuracy: 1.0000 - val_loss: 0.0868 - val_accuracy: 0.9474\n",
            "Epoch 224/500\n",
            "5/5 [==============================] - 1s 250ms/step - loss: 1.6702e-05 - accuracy: 1.0000 - val_loss: 0.0864 - val_accuracy: 0.9474\n",
            "Epoch 225/500\n",
            "5/5 [==============================] - 1s 265ms/step - loss: 1.6480e-05 - accuracy: 1.0000 - val_loss: 0.0861 - val_accuracy: 0.9474\n",
            "Epoch 226/500\n",
            "5/5 [==============================] - 1s 277ms/step - loss: 1.6349e-05 - accuracy: 1.0000 - val_loss: 0.0860 - val_accuracy: 0.9474\n",
            "Epoch 227/500\n",
            "5/5 [==============================] - 1s 262ms/step - loss: 1.6176e-05 - accuracy: 1.0000 - val_loss: 0.0867 - val_accuracy: 0.9474\n",
            "Epoch 228/500\n",
            "5/5 [==============================] - 1s 272ms/step - loss: 1.6018e-05 - accuracy: 1.0000 - val_loss: 0.0862 - val_accuracy: 0.9474\n",
            "Epoch 229/500\n",
            "5/5 [==============================] - 1s 258ms/step - loss: 1.5788e-05 - accuracy: 1.0000 - val_loss: 0.0864 - val_accuracy: 0.9474\n",
            "Epoch 230/500\n",
            "5/5 [==============================] - 2s 416ms/step - loss: 1.5651e-05 - accuracy: 1.0000 - val_loss: 0.0864 - val_accuracy: 0.9474\n",
            "Epoch 231/500\n",
            "5/5 [==============================] - 2s 424ms/step - loss: 1.5458e-05 - accuracy: 1.0000 - val_loss: 0.0873 - val_accuracy: 0.9474\n",
            "Epoch 232/500\n",
            "5/5 [==============================] - 2s 324ms/step - loss: 1.5381e-05 - accuracy: 1.0000 - val_loss: 0.0885 - val_accuracy: 0.9474\n",
            "Epoch 233/500\n",
            "5/5 [==============================] - 1s 269ms/step - loss: 1.5200e-05 - accuracy: 1.0000 - val_loss: 0.0876 - val_accuracy: 0.9474\n",
            "Epoch 234/500\n",
            "5/5 [==============================] - 1s 267ms/step - loss: 1.5000e-05 - accuracy: 1.0000 - val_loss: 0.0870 - val_accuracy: 0.9474\n",
            "Epoch 235/500\n",
            "5/5 [==============================] - 1s 281ms/step - loss: 1.4819e-05 - accuracy: 1.0000 - val_loss: 0.0869 - val_accuracy: 0.9474\n",
            "Epoch 236/500\n",
            "5/5 [==============================] - 1s 268ms/step - loss: 1.4657e-05 - accuracy: 1.0000 - val_loss: 0.0874 - val_accuracy: 0.9474\n",
            "Epoch 237/500\n",
            "5/5 [==============================] - 1s 264ms/step - loss: 1.4510e-05 - accuracy: 1.0000 - val_loss: 0.0882 - val_accuracy: 0.9474\n",
            "Epoch 238/500\n",
            "5/5 [==============================] - 1s 277ms/step - loss: 1.4344e-05 - accuracy: 1.0000 - val_loss: 0.0882 - val_accuracy: 0.9474\n",
            "Epoch 239/500\n",
            "5/5 [==============================] - 1s 286ms/step - loss: 1.4242e-05 - accuracy: 1.0000 - val_loss: 0.0880 - val_accuracy: 0.9474\n",
            "Epoch 240/500\n",
            "5/5 [==============================] - 2s 486ms/step - loss: 1.4060e-05 - accuracy: 1.0000 - val_loss: 0.0882 - val_accuracy: 0.9474\n",
            "Epoch 241/500\n",
            "5/5 [==============================] - 2s 411ms/step - loss: 1.3925e-05 - accuracy: 1.0000 - val_loss: 0.0888 - val_accuracy: 0.9474\n",
            "Epoch 242/500\n",
            "5/5 [==============================] - 1s 267ms/step - loss: 1.3795e-05 - accuracy: 1.0000 - val_loss: 0.0894 - val_accuracy: 0.9474\n",
            "Epoch 243/500\n",
            "5/5 [==============================] - 1s 254ms/step - loss: 1.3654e-05 - accuracy: 1.0000 - val_loss: 0.0895 - val_accuracy: 0.9474\n",
            "Epoch 244/500\n",
            "5/5 [==============================] - 1s 263ms/step - loss: 1.3522e-05 - accuracy: 1.0000 - val_loss: 0.0892 - val_accuracy: 0.9474\n",
            "Epoch 245/500\n",
            "5/5 [==============================] - 1s 262ms/step - loss: 1.3412e-05 - accuracy: 1.0000 - val_loss: 0.0890 - val_accuracy: 0.9474\n",
            "Epoch 246/500\n",
            "5/5 [==============================] - 1s 270ms/step - loss: 1.3248e-05 - accuracy: 1.0000 - val_loss: 0.0895 - val_accuracy: 0.9474\n",
            "Epoch 247/500\n",
            "5/5 [==============================] - 1s 270ms/step - loss: 1.3107e-05 - accuracy: 1.0000 - val_loss: 0.0899 - val_accuracy: 0.9474\n",
            "Epoch 248/500\n",
            "5/5 [==============================] - 1s 262ms/step - loss: 1.3008e-05 - accuracy: 1.0000 - val_loss: 0.0904 - val_accuracy: 0.9474\n",
            "Epoch 249/500\n",
            "5/5 [==============================] - 2s 380ms/step - loss: 1.2885e-05 - accuracy: 1.0000 - val_loss: 0.0905 - val_accuracy: 0.9474\n",
            "Epoch 250/500\n",
            "5/5 [==============================] - 2s 492ms/step - loss: 1.2775e-05 - accuracy: 1.0000 - val_loss: 0.0911 - val_accuracy: 0.9474\n",
            "Epoch 251/500\n",
            "5/5 [==============================] - 2s 330ms/step - loss: 1.2658e-05 - accuracy: 1.0000 - val_loss: 0.0916 - val_accuracy: 0.9474\n",
            "Epoch 252/500\n",
            "5/5 [==============================] - 1s 259ms/step - loss: 1.2530e-05 - accuracy: 1.0000 - val_loss: 0.0917 - val_accuracy: 0.9474\n",
            "Epoch 253/500\n",
            "5/5 [==============================] - 1s 254ms/step - loss: 1.2412e-05 - accuracy: 1.0000 - val_loss: 0.0919 - val_accuracy: 0.9474\n",
            "Epoch 254/500\n",
            "5/5 [==============================] - 1s 270ms/step - loss: 1.2294e-05 - accuracy: 1.0000 - val_loss: 0.0915 - val_accuracy: 0.9474\n",
            "Epoch 255/500\n",
            "5/5 [==============================] - 1s 261ms/step - loss: 1.2175e-05 - accuracy: 1.0000 - val_loss: 0.0917 - val_accuracy: 0.9474\n",
            "Epoch 256/500\n",
            "5/5 [==============================] - 1s 264ms/step - loss: 1.2058e-05 - accuracy: 1.0000 - val_loss: 0.0919 - val_accuracy: 0.9474\n",
            "Epoch 257/500\n",
            "5/5 [==============================] - 1s 262ms/step - loss: 1.1948e-05 - accuracy: 1.0000 - val_loss: 0.0919 - val_accuracy: 0.9474\n",
            "Epoch 258/500\n",
            "5/5 [==============================] - 1s 258ms/step - loss: 1.1840e-05 - accuracy: 1.0000 - val_loss: 0.0920 - val_accuracy: 0.9474\n",
            "Epoch 259/500\n",
            "5/5 [==============================] - 2s 447ms/step - loss: 1.1722e-05 - accuracy: 1.0000 - val_loss: 0.0922 - val_accuracy: 0.9474\n",
            "Epoch 260/500\n",
            "5/5 [==============================] - 2s 452ms/step - loss: 1.1646e-05 - accuracy: 1.0000 - val_loss: 0.0922 - val_accuracy: 0.9474\n",
            "Epoch 261/500\n",
            "5/5 [==============================] - 1s 256ms/step - loss: 1.1515e-05 - accuracy: 1.0000 - val_loss: 0.0929 - val_accuracy: 0.9474\n",
            "Epoch 262/500\n",
            "5/5 [==============================] - 1s 261ms/step - loss: 1.1427e-05 - accuracy: 1.0000 - val_loss: 0.0931 - val_accuracy: 0.9474\n",
            "Epoch 263/500\n",
            "5/5 [==============================] - 1s 260ms/step - loss: 1.1309e-05 - accuracy: 1.0000 - val_loss: 0.0934 - val_accuracy: 0.9474\n",
            "Epoch 264/500\n",
            "5/5 [==============================] - 1s 267ms/step - loss: 1.1217e-05 - accuracy: 1.0000 - val_loss: 0.0941 - val_accuracy: 0.9474\n",
            "Epoch 265/500\n",
            "5/5 [==============================] - 1s 270ms/step - loss: 1.1122e-05 - accuracy: 1.0000 - val_loss: 0.0946 - val_accuracy: 0.9474\n",
            "Epoch 266/500\n",
            "5/5 [==============================] - 1s 256ms/step - loss: 1.1028e-05 - accuracy: 1.0000 - val_loss: 0.0947 - val_accuracy: 0.9474\n",
            "Epoch 267/500\n",
            "5/5 [==============================] - 1s 263ms/step - loss: 1.0917e-05 - accuracy: 1.0000 - val_loss: 0.0947 - val_accuracy: 0.9474\n",
            "Epoch 268/500\n",
            "5/5 [==============================] - 1s 287ms/step - loss: 1.0840e-05 - accuracy: 1.0000 - val_loss: 0.0944 - val_accuracy: 0.9474\n",
            "Epoch 269/500\n",
            "5/5 [==============================] - 2s 457ms/step - loss: 1.0737e-05 - accuracy: 1.0000 - val_loss: 0.0948 - val_accuracy: 0.9474\n",
            "Epoch 270/500\n",
            "5/5 [==============================] - 2s 428ms/step - loss: 1.0642e-05 - accuracy: 1.0000 - val_loss: 0.0945 - val_accuracy: 0.9474\n",
            "Epoch 271/500\n",
            "5/5 [==============================] - 1s 257ms/step - loss: 1.0558e-05 - accuracy: 1.0000 - val_loss: 0.0944 - val_accuracy: 0.9474\n",
            "Epoch 272/500\n",
            "5/5 [==============================] - 1s 262ms/step - loss: 1.0470e-05 - accuracy: 1.0000 - val_loss: 0.0947 - val_accuracy: 0.9474\n",
            "Epoch 273/500\n",
            "5/5 [==============================] - 1s 269ms/step - loss: 1.0385e-05 - accuracy: 1.0000 - val_loss: 0.0945 - val_accuracy: 0.9474\n",
            "Epoch 274/500\n",
            "5/5 [==============================] - 1s 269ms/step - loss: 1.0300e-05 - accuracy: 1.0000 - val_loss: 0.0945 - val_accuracy: 0.9474\n",
            "Epoch 275/500\n",
            "5/5 [==============================] - 1s 260ms/step - loss: 1.0195e-05 - accuracy: 1.0000 - val_loss: 0.0950 - val_accuracy: 0.9474\n",
            "Epoch 276/500\n",
            "5/5 [==============================] - 1s 263ms/step - loss: 1.0109e-05 - accuracy: 1.0000 - val_loss: 0.0959 - val_accuracy: 0.9474\n",
            "Epoch 277/500\n",
            "5/5 [==============================] - 1s 265ms/step - loss: 1.0060e-05 - accuracy: 1.0000 - val_loss: 0.0966 - val_accuracy: 0.9474\n",
            "Epoch 278/500\n",
            "5/5 [==============================] - 2s 393ms/step - loss: 9.9834e-06 - accuracy: 1.0000 - val_loss: 0.0971 - val_accuracy: 0.9474\n",
            "Epoch 279/500\n",
            "5/5 [==============================] - 2s 437ms/step - loss: 9.8782e-06 - accuracy: 1.0000 - val_loss: 0.0963 - val_accuracy: 0.9474\n",
            "Epoch 280/500\n",
            "5/5 [==============================] - 2s 323ms/step - loss: 9.7933e-06 - accuracy: 1.0000 - val_loss: 0.0965 - val_accuracy: 0.9474\n",
            "Epoch 281/500\n",
            "5/5 [==============================] - 1s 251ms/step - loss: 9.7317e-06 - accuracy: 1.0000 - val_loss: 0.0959 - val_accuracy: 0.9474\n",
            "Epoch 282/500\n",
            "5/5 [==============================] - 1s 256ms/step - loss: 9.6250e-06 - accuracy: 1.0000 - val_loss: 0.0959 - val_accuracy: 0.9474\n",
            "Epoch 283/500\n",
            "5/5 [==============================] - 1s 250ms/step - loss: 9.5409e-06 - accuracy: 1.0000 - val_loss: 0.0964 - val_accuracy: 0.9474\n",
            "Epoch 284/500\n",
            "5/5 [==============================] - 1s 258ms/step - loss: 9.4653e-06 - accuracy: 1.0000 - val_loss: 0.0963 - val_accuracy: 0.9474\n",
            "Epoch 285/500\n",
            "5/5 [==============================] - 1s 261ms/step - loss: 9.4053e-06 - accuracy: 1.0000 - val_loss: 0.0966 - val_accuracy: 0.9474\n",
            "Epoch 286/500\n",
            "5/5 [==============================] - 1s 261ms/step - loss: 9.3079e-06 - accuracy: 1.0000 - val_loss: 0.0968 - val_accuracy: 0.9474\n",
            "Epoch 287/500\n",
            "5/5 [==============================] - 1s 272ms/step - loss: 9.2487e-06 - accuracy: 1.0000 - val_loss: 0.0968 - val_accuracy: 0.9474\n",
            "Epoch 288/500\n",
            "5/5 [==============================] - 2s 416ms/step - loss: 9.1584e-06 - accuracy: 1.0000 - val_loss: 0.0970 - val_accuracy: 0.9474\n",
            "Epoch 289/500\n",
            "5/5 [==============================] - 2s 468ms/step - loss: 9.0875e-06 - accuracy: 1.0000 - val_loss: 0.0974 - val_accuracy: 0.9474\n",
            "Epoch 290/500\n",
            "5/5 [==============================] - 2s 289ms/step - loss: 9.0493e-06 - accuracy: 1.0000 - val_loss: 0.0970 - val_accuracy: 0.9474\n",
            "Epoch 291/500\n",
            "5/5 [==============================] - 1s 264ms/step - loss: 8.9527e-06 - accuracy: 1.0000 - val_loss: 0.0976 - val_accuracy: 0.9474\n",
            "Epoch 292/500\n",
            "5/5 [==============================] - 1s 265ms/step - loss: 8.8787e-06 - accuracy: 1.0000 - val_loss: 0.0979 - val_accuracy: 0.9474\n",
            "Epoch 293/500\n",
            "5/5 [==============================] - 1s 262ms/step - loss: 8.8039e-06 - accuracy: 1.0000 - val_loss: 0.0980 - val_accuracy: 0.9474\n",
            "Epoch 294/500\n",
            "5/5 [==============================] - 1s 256ms/step - loss: 8.7353e-06 - accuracy: 1.0000 - val_loss: 0.0981 - val_accuracy: 0.9474\n",
            "Epoch 295/500\n",
            "5/5 [==============================] - 1s 258ms/step - loss: 8.6738e-06 - accuracy: 1.0000 - val_loss: 0.0987 - val_accuracy: 0.9474\n",
            "Epoch 296/500\n",
            "5/5 [==============================] - 1s 256ms/step - loss: 8.5998e-06 - accuracy: 1.0000 - val_loss: 0.0986 - val_accuracy: 0.9474\n",
            "Epoch 297/500\n",
            "5/5 [==============================] - 1s 261ms/step - loss: 8.5351e-06 - accuracy: 1.0000 - val_loss: 0.0991 - val_accuracy: 0.9474\n",
            "Epoch 298/500\n",
            "5/5 [==============================] - 2s 460ms/step - loss: 8.4595e-06 - accuracy: 1.0000 - val_loss: 0.0994 - val_accuracy: 0.9474\n",
            "Epoch 299/500\n",
            "5/5 [==============================] - 2s 456ms/step - loss: 8.4050e-06 - accuracy: 1.0000 - val_loss: 0.0996 - val_accuracy: 0.9474\n",
            "Epoch 300/500\n",
            "5/5 [==============================] - 1s 256ms/step - loss: 8.3349e-06 - accuracy: 1.0000 - val_loss: 0.0999 - val_accuracy: 0.9474\n",
            "Epoch 301/500\n",
            "5/5 [==============================] - 1s 257ms/step - loss: 8.2835e-06 - accuracy: 1.0000 - val_loss: 0.0996 - val_accuracy: 0.9474\n",
            "Epoch 302/500\n",
            "5/5 [==============================] - 1s 264ms/step - loss: 8.2196e-06 - accuracy: 1.0000 - val_loss: 0.0999 - val_accuracy: 0.9474\n",
            "Epoch 303/500\n",
            "5/5 [==============================] - 1s 260ms/step - loss: 8.1526e-06 - accuracy: 1.0000 - val_loss: 0.1003 - val_accuracy: 0.9474\n",
            "Epoch 304/500\n",
            "5/5 [==============================] - 1s 259ms/step - loss: 8.0941e-06 - accuracy: 1.0000 - val_loss: 0.1000 - val_accuracy: 0.9474\n",
            "Epoch 305/500\n",
            "5/5 [==============================] - 1s 267ms/step - loss: 8.0482e-06 - accuracy: 1.0000 - val_loss: 0.0997 - val_accuracy: 0.9474\n",
            "Epoch 306/500\n",
            "5/5 [==============================] - 1s 257ms/step - loss: 7.9687e-06 - accuracy: 1.0000 - val_loss: 0.0997 - val_accuracy: 0.9474\n",
            "Epoch 307/500\n",
            "5/5 [==============================] - 1s 296ms/step - loss: 7.9134e-06 - accuracy: 1.0000 - val_loss: 0.1001 - val_accuracy: 0.9474\n",
            "Epoch 308/500\n",
            "5/5 [==============================] - 2s 474ms/step - loss: 7.8924e-06 - accuracy: 1.0000 - val_loss: 0.1011 - val_accuracy: 0.9474\n",
            "Epoch 309/500\n",
            "5/5 [==============================] - 2s 411ms/step - loss: 7.7810e-06 - accuracy: 1.0000 - val_loss: 0.1012 - val_accuracy: 0.9474\n",
            "Epoch 310/500\n",
            "5/5 [==============================] - 1s 264ms/step - loss: 7.7405e-06 - accuracy: 1.0000 - val_loss: 0.1015 - val_accuracy: 0.9474\n",
            "Epoch 311/500\n",
            "5/5 [==============================] - 1s 264ms/step - loss: 7.6922e-06 - accuracy: 1.0000 - val_loss: 0.1009 - val_accuracy: 0.9474\n",
            "Epoch 312/500\n",
            "5/5 [==============================] - 1s 266ms/step - loss: 7.6213e-06 - accuracy: 1.0000 - val_loss: 0.1005 - val_accuracy: 0.9474\n",
            "Epoch 313/500\n",
            "5/5 [==============================] - 1s 264ms/step - loss: 7.5730e-06 - accuracy: 1.0000 - val_loss: 0.1011 - val_accuracy: 0.9474\n",
            "Epoch 314/500\n",
            "5/5 [==============================] - 1s 263ms/step - loss: 7.5091e-06 - accuracy: 1.0000 - val_loss: 0.1012 - val_accuracy: 0.9474\n",
            "Epoch 315/500\n",
            "5/5 [==============================] - 1s 259ms/step - loss: 7.4530e-06 - accuracy: 1.0000 - val_loss: 0.1016 - val_accuracy: 0.9474\n",
            "Epoch 316/500\n",
            "5/5 [==============================] - 1s 256ms/step - loss: 7.3961e-06 - accuracy: 1.0000 - val_loss: 0.1021 - val_accuracy: 0.9474\n",
            "Epoch 317/500\n",
            "5/5 [==============================] - 2s 366ms/step - loss: 7.3431e-06 - accuracy: 1.0000 - val_loss: 0.1021 - val_accuracy: 0.9474\n",
            "Epoch 318/500\n",
            "5/5 [==============================] - 2s 467ms/step - loss: 7.2863e-06 - accuracy: 1.0000 - val_loss: 0.1021 - val_accuracy: 0.9474\n",
            "Epoch 319/500\n",
            "5/5 [==============================] - 2s 331ms/step - loss: 7.2512e-06 - accuracy: 1.0000 - val_loss: 0.1028 - val_accuracy: 0.9474\n",
            "Epoch 320/500\n",
            "5/5 [==============================] - 1s 257ms/step - loss: 7.1850e-06 - accuracy: 1.0000 - val_loss: 0.1030 - val_accuracy: 0.9474\n",
            "Epoch 321/500\n",
            "5/5 [==============================] - 1s 262ms/step - loss: 7.1499e-06 - accuracy: 1.0000 - val_loss: 0.1036 - val_accuracy: 0.9474\n",
            "Epoch 322/500\n",
            "5/5 [==============================] - 1s 267ms/step - loss: 7.0884e-06 - accuracy: 1.0000 - val_loss: 0.1033 - val_accuracy: 0.9474\n",
            "Epoch 323/500\n",
            "5/5 [==============================] - 1s 267ms/step - loss: 7.0323e-06 - accuracy: 1.0000 - val_loss: 0.1033 - val_accuracy: 0.9474\n",
            "Epoch 324/500\n",
            "5/5 [==============================] - 1s 272ms/step - loss: 7.0034e-06 - accuracy: 1.0000 - val_loss: 0.1040 - val_accuracy: 0.9474\n",
            "Epoch 325/500\n",
            "5/5 [==============================] - 1s 272ms/step - loss: 6.9294e-06 - accuracy: 1.0000 - val_loss: 0.1037 - val_accuracy: 0.9474\n",
            "Epoch 326/500\n",
            "5/5 [==============================] - 1s 255ms/step - loss: 6.8842e-06 - accuracy: 1.0000 - val_loss: 0.1036 - val_accuracy: 0.9474\n",
            "Epoch 327/500\n",
            "5/5 [==============================] - 2s 464ms/step - loss: 6.8375e-06 - accuracy: 1.0000 - val_loss: 0.1033 - val_accuracy: 0.9474\n",
            "Epoch 328/500\n",
            "5/5 [==============================] - 2s 458ms/step - loss: 6.7760e-06 - accuracy: 1.0000 - val_loss: 0.1039 - val_accuracy: 0.9474\n",
            "Epoch 329/500\n",
            "5/5 [==============================] - 1s 271ms/step - loss: 6.7277e-06 - accuracy: 1.0000 - val_loss: 0.1043 - val_accuracy: 0.9474\n",
            "Epoch 330/500\n",
            "5/5 [==============================] - 1s 269ms/step - loss: 6.6755e-06 - accuracy: 1.0000 - val_loss: 0.1047 - val_accuracy: 0.9474\n",
            "Epoch 331/500\n",
            "5/5 [==============================] - 1s 262ms/step - loss: 6.6318e-06 - accuracy: 1.0000 - val_loss: 0.1048 - val_accuracy: 0.9474\n",
            "Epoch 332/500\n",
            "5/5 [==============================] - 1s 261ms/step - loss: 6.5796e-06 - accuracy: 1.0000 - val_loss: 0.1053 - val_accuracy: 0.9474\n",
            "Epoch 333/500\n",
            "5/5 [==============================] - 1s 275ms/step - loss: 6.5251e-06 - accuracy: 1.0000 - val_loss: 0.1057 - val_accuracy: 0.9474\n",
            "Epoch 334/500\n",
            "5/5 [==============================] - 1s 266ms/step - loss: 6.4854e-06 - accuracy: 1.0000 - val_loss: 0.1060 - val_accuracy: 0.9474\n",
            "Epoch 335/500\n",
            "5/5 [==============================] - 1s 268ms/step - loss: 6.4441e-06 - accuracy: 1.0000 - val_loss: 0.1064 - val_accuracy: 0.9474\n",
            "Epoch 336/500\n",
            "5/5 [==============================] - 2s 353ms/step - loss: 6.3934e-06 - accuracy: 1.0000 - val_loss: 0.1065 - val_accuracy: 0.9474\n",
            "Epoch 337/500\n",
            "5/5 [==============================] - 2s 447ms/step - loss: 6.3467e-06 - accuracy: 1.0000 - val_loss: 0.1064 - val_accuracy: 0.9474\n",
            "Epoch 338/500\n",
            "5/5 [==============================] - 2s 356ms/step - loss: 6.2999e-06 - accuracy: 1.0000 - val_loss: 0.1066 - val_accuracy: 0.9474\n",
            "Epoch 339/500\n",
            "5/5 [==============================] - 1s 268ms/step - loss: 6.2571e-06 - accuracy: 1.0000 - val_loss: 0.1071 - val_accuracy: 0.9474\n",
            "Epoch 340/500\n",
            "5/5 [==============================] - 1s 262ms/step - loss: 6.2111e-06 - accuracy: 1.0000 - val_loss: 0.1075 - val_accuracy: 0.9474\n",
            "Epoch 341/500\n",
            "5/5 [==============================] - 1s 258ms/step - loss: 6.1667e-06 - accuracy: 1.0000 - val_loss: 0.1079 - val_accuracy: 0.9474\n",
            "Epoch 342/500\n",
            "5/5 [==============================] - 1s 258ms/step - loss: 6.1270e-06 - accuracy: 1.0000 - val_loss: 0.1080 - val_accuracy: 0.9474\n",
            "Epoch 343/500\n",
            "5/5 [==============================] - 1s 260ms/step - loss: 6.0841e-06 - accuracy: 1.0000 - val_loss: 0.1087 - val_accuracy: 0.9474\n",
            "Epoch 344/500\n",
            "5/5 [==============================] - 1s 267ms/step - loss: 6.0444e-06 - accuracy: 1.0000 - val_loss: 0.1086 - val_accuracy: 0.9474\n",
            "Epoch 345/500\n",
            "5/5 [==============================] - 1s 274ms/step - loss: 5.9961e-06 - accuracy: 1.0000 - val_loss: 0.1090 - val_accuracy: 0.9474\n",
            "Epoch 346/500\n",
            "5/5 [==============================] - 2s 457ms/step - loss: 5.9595e-06 - accuracy: 1.0000 - val_loss: 0.1094 - val_accuracy: 0.9474\n",
            "Epoch 347/500\n",
            "5/5 [==============================] - 2s 450ms/step - loss: 5.9236e-06 - accuracy: 1.0000 - val_loss: 0.1091 - val_accuracy: 0.9474\n",
            "Epoch 348/500\n",
            "5/5 [==============================] - 2s 279ms/step - loss: 5.8870e-06 - accuracy: 1.0000 - val_loss: 0.1098 - val_accuracy: 0.9474\n",
            "Epoch 349/500\n",
            "5/5 [==============================] - 1s 263ms/step - loss: 5.8442e-06 - accuracy: 1.0000 - val_loss: 0.1096 - val_accuracy: 0.9474\n",
            "Epoch 350/500\n",
            "5/5 [==============================] - 1s 279ms/step - loss: 5.7982e-06 - accuracy: 1.0000 - val_loss: 0.1096 - val_accuracy: 0.9474\n",
            "Epoch 351/500\n",
            "5/5 [==============================] - 1s 282ms/step - loss: 5.7585e-06 - accuracy: 1.0000 - val_loss: 0.1094 - val_accuracy: 0.9474\n",
            "Epoch 352/500\n",
            "5/5 [==============================] - 1s 273ms/step - loss: 5.7226e-06 - accuracy: 1.0000 - val_loss: 0.1094 - val_accuracy: 0.9474\n",
            "Epoch 353/500\n",
            "5/5 [==============================] - 1s 279ms/step - loss: 5.6845e-06 - accuracy: 1.0000 - val_loss: 0.1092 - val_accuracy: 0.9474\n",
            "Epoch 354/500\n",
            "5/5 [==============================] - 1s 277ms/step - loss: 5.6432e-06 - accuracy: 1.0000 - val_loss: 0.1092 - val_accuracy: 0.9474\n",
            "Epoch 355/500\n",
            "5/5 [==============================] - 2s 349ms/step - loss: 5.6065e-06 - accuracy: 1.0000 - val_loss: 0.1097 - val_accuracy: 0.9474\n",
            "Epoch 356/500\n",
            "5/5 [==============================] - 2s 448ms/step - loss: 5.5707e-06 - accuracy: 1.0000 - val_loss: 0.1100 - val_accuracy: 0.9474\n",
            "Epoch 357/500\n",
            "5/5 [==============================] - 2s 366ms/step - loss: 5.5325e-06 - accuracy: 1.0000 - val_loss: 0.1107 - val_accuracy: 0.9474\n",
            "Epoch 358/500\n",
            "5/5 [==============================] - 1s 271ms/step - loss: 5.5006e-06 - accuracy: 1.0000 - val_loss: 0.1112 - val_accuracy: 0.9474\n",
            "Epoch 359/500\n",
            "5/5 [==============================] - 1s 268ms/step - loss: 5.4655e-06 - accuracy: 1.0000 - val_loss: 0.1117 - val_accuracy: 0.9474\n",
            "Epoch 360/500\n",
            "5/5 [==============================] - 1s 273ms/step - loss: 5.4250e-06 - accuracy: 1.0000 - val_loss: 0.1113 - val_accuracy: 0.9474\n",
            "Epoch 361/500\n",
            "5/5 [==============================] - 1s 275ms/step - loss: 5.3900e-06 - accuracy: 1.0000 - val_loss: 0.1113 - val_accuracy: 0.9474\n",
            "Epoch 362/500\n",
            "5/5 [==============================] - 1s 278ms/step - loss: 5.3487e-06 - accuracy: 1.0000 - val_loss: 0.1116 - val_accuracy: 0.9474\n",
            "Epoch 363/500\n",
            "5/5 [==============================] - 1s 272ms/step - loss: 5.3175e-06 - accuracy: 1.0000 - val_loss: 0.1114 - val_accuracy: 0.9474\n",
            "Epoch 364/500\n",
            "5/5 [==============================] - 1s 284ms/step - loss: 5.2910e-06 - accuracy: 1.0000 - val_loss: 0.1121 - val_accuracy: 0.9474\n",
            "Epoch 365/500\n",
            "5/5 [==============================] - 2s 460ms/step - loss: 5.2474e-06 - accuracy: 1.0000 - val_loss: 0.1125 - val_accuracy: 0.9474\n",
            "Epoch 366/500\n",
            "5/5 [==============================] - 2s 457ms/step - loss: 5.2123e-06 - accuracy: 1.0000 - val_loss: 0.1129 - val_accuracy: 0.9474\n",
            "Epoch 367/500\n",
            "5/5 [==============================] - 1s 265ms/step - loss: 5.1858e-06 - accuracy: 1.0000 - val_loss: 0.1126 - val_accuracy: 0.9474\n",
            "Epoch 368/500\n",
            "5/5 [==============================] - 1s 269ms/step - loss: 5.1461e-06 - accuracy: 1.0000 - val_loss: 0.1129 - val_accuracy: 0.9474\n",
            "Epoch 369/500\n",
            "5/5 [==============================] - 1s 266ms/step - loss: 5.1181e-06 - accuracy: 1.0000 - val_loss: 0.1125 - val_accuracy: 0.9474\n",
            "Epoch 370/500\n",
            "5/5 [==============================] - 1s 267ms/step - loss: 5.0744e-06 - accuracy: 1.0000 - val_loss: 0.1129 - val_accuracy: 0.9474\n",
            "Epoch 371/500\n",
            "5/5 [==============================] - 1s 276ms/step - loss: 5.0409e-06 - accuracy: 1.0000 - val_loss: 0.1130 - val_accuracy: 0.9474\n",
            "Epoch 372/500\n",
            "5/5 [==============================] - 1s 267ms/step - loss: 5.0129e-06 - accuracy: 1.0000 - val_loss: 0.1128 - val_accuracy: 0.9474\n",
            "Epoch 373/500\n",
            "5/5 [==============================] - 1s 285ms/step - loss: 4.9770e-06 - accuracy: 1.0000 - val_loss: 0.1132 - val_accuracy: 0.9474\n",
            "Epoch 374/500\n",
            "5/5 [==============================] - 2s 395ms/step - loss: 4.9474e-06 - accuracy: 1.0000 - val_loss: 0.1133 - val_accuracy: 0.9474\n",
            "Epoch 375/500\n",
            "5/5 [==============================] - 2s 480ms/step - loss: 4.9139e-06 - accuracy: 1.0000 - val_loss: 0.1139 - val_accuracy: 0.9474\n",
            "Epoch 376/500\n",
            "5/5 [==============================] - 2s 322ms/step - loss: 4.8851e-06 - accuracy: 1.0000 - val_loss: 0.1140 - val_accuracy: 0.9474\n",
            "Epoch 377/500\n",
            "5/5 [==============================] - 1s 266ms/step - loss: 4.8516e-06 - accuracy: 1.0000 - val_loss: 0.1145 - val_accuracy: 0.9474\n",
            "Epoch 378/500\n",
            "5/5 [==============================] - 1s 266ms/step - loss: 4.8469e-06 - accuracy: 1.0000 - val_loss: 0.1142 - val_accuracy: 0.9474\n",
            "Epoch 379/500\n",
            "5/5 [==============================] - 1s 273ms/step - loss: 4.7947e-06 - accuracy: 1.0000 - val_loss: 0.1144 - val_accuracy: 0.9474\n",
            "Epoch 380/500\n",
            "5/5 [==============================] - 1s 272ms/step - loss: 4.7659e-06 - accuracy: 1.0000 - val_loss: 0.1151 - val_accuracy: 0.9474\n",
            "Epoch 381/500\n",
            "5/5 [==============================] - 1s 303ms/step - loss: 4.7464e-06 - accuracy: 1.0000 - val_loss: 0.1146 - val_accuracy: 0.9474\n",
            "Epoch 382/500\n",
            "5/5 [==============================] - 2s 451ms/step - loss: 4.7262e-06 - accuracy: 1.0000 - val_loss: 0.1142 - val_accuracy: 0.9474\n",
            "Epoch 383/500\n",
            "5/5 [==============================] - 3s 495ms/step - loss: 4.6747e-06 - accuracy: 1.0000 - val_loss: 0.1146 - val_accuracy: 0.9474\n",
            "Epoch 384/500\n",
            "5/5 [==============================] - 2s 469ms/step - loss: 4.6506e-06 - accuracy: 1.0000 - val_loss: 0.1153 - val_accuracy: 0.9474\n",
            "Epoch 385/500\n",
            "5/5 [==============================] - 2s 424ms/step - loss: 4.6194e-06 - accuracy: 1.0000 - val_loss: 0.1158 - val_accuracy: 0.9474\n",
            "Epoch 386/500\n",
            "5/5 [==============================] - 1s 256ms/step - loss: 4.5914e-06 - accuracy: 1.0000 - val_loss: 0.1154 - val_accuracy: 0.9474\n",
            "Epoch 387/500\n",
            "5/5 [==============================] - 1s 261ms/step - loss: 4.5602e-06 - accuracy: 1.0000 - val_loss: 0.1157 - val_accuracy: 0.9474\n",
            "Epoch 388/500\n",
            "5/5 [==============================] - 1s 264ms/step - loss: 4.5376e-06 - accuracy: 1.0000 - val_loss: 0.1162 - val_accuracy: 0.9474\n",
            "Epoch 389/500\n",
            "5/5 [==============================] - 1s 267ms/step - loss: 4.4994e-06 - accuracy: 1.0000 - val_loss: 0.1164 - val_accuracy: 0.9474\n",
            "Epoch 390/500\n",
            "5/5 [==============================] - 1s 262ms/step - loss: 4.4722e-06 - accuracy: 1.0000 - val_loss: 0.1163 - val_accuracy: 0.9474\n",
            "Epoch 391/500\n",
            "5/5 [==============================] - 1s 260ms/step - loss: 4.4480e-06 - accuracy: 1.0000 - val_loss: 0.1160 - val_accuracy: 0.9474\n",
            "Epoch 392/500\n",
            "5/5 [==============================] - 1s 254ms/step - loss: 4.4215e-06 - accuracy: 1.0000 - val_loss: 0.1157 - val_accuracy: 0.9474\n",
            "Epoch 393/500\n",
            "5/5 [==============================] - 2s 356ms/step - loss: 4.3935e-06 - accuracy: 1.0000 - val_loss: 0.1161 - val_accuracy: 0.9474\n",
            "Epoch 394/500\n",
            "5/5 [==============================] - 2s 475ms/step - loss: 4.3686e-06 - accuracy: 1.0000 - val_loss: 0.1162 - val_accuracy: 0.9474\n",
            "Epoch 395/500\n",
            "5/5 [==============================] - 2s 364ms/step - loss: 4.3467e-06 - accuracy: 1.0000 - val_loss: 0.1158 - val_accuracy: 0.9474\n",
            "Epoch 396/500\n",
            "5/5 [==============================] - 1s 271ms/step - loss: 4.3140e-06 - accuracy: 1.0000 - val_loss: 0.1160 - val_accuracy: 0.9474\n",
            "Epoch 397/500\n",
            "5/5 [==============================] - 1s 267ms/step - loss: 4.2914e-06 - accuracy: 1.0000 - val_loss: 0.1165 - val_accuracy: 0.9474\n",
            "Epoch 398/500\n",
            "5/5 [==============================] - 1s 278ms/step - loss: 4.2766e-06 - accuracy: 1.0000 - val_loss: 0.1173 - val_accuracy: 0.9474\n",
            "Epoch 399/500\n",
            "5/5 [==============================] - 1s 271ms/step - loss: 4.2416e-06 - accuracy: 1.0000 - val_loss: 0.1171 - val_accuracy: 0.9474\n",
            "Epoch 400/500\n",
            "5/5 [==============================] - 1s 275ms/step - loss: 4.2104e-06 - accuracy: 1.0000 - val_loss: 0.1173 - val_accuracy: 0.9474\n",
            "Epoch 401/500\n",
            "5/5 [==============================] - 1s 275ms/step - loss: 4.1847e-06 - accuracy: 1.0000 - val_loss: 0.1173 - val_accuracy: 0.9474\n",
            "Epoch 402/500\n",
            "5/5 [==============================] - 1s 270ms/step - loss: 4.1668e-06 - accuracy: 1.0000 - val_loss: 0.1176 - val_accuracy: 0.9474\n",
            "Epoch 403/500\n",
            "5/5 [==============================] - 2s 462ms/step - loss: 4.1426e-06 - accuracy: 1.0000 - val_loss: 0.1177 - val_accuracy: 0.9474\n",
            "Epoch 404/500\n",
            "5/5 [==============================] - 2s 443ms/step - loss: 4.1185e-06 - accuracy: 1.0000 - val_loss: 0.1183 - val_accuracy: 0.9474\n",
            "Epoch 405/500\n",
            "5/5 [==============================] - 2s 272ms/step - loss: 4.0912e-06 - accuracy: 1.0000 - val_loss: 0.1183 - val_accuracy: 0.9474\n",
            "Epoch 406/500\n",
            "5/5 [==============================] - 1s 271ms/step - loss: 4.0655e-06 - accuracy: 1.0000 - val_loss: 0.1187 - val_accuracy: 0.9474\n",
            "Epoch 407/500\n",
            "5/5 [==============================] - 1s 264ms/step - loss: 4.0429e-06 - accuracy: 1.0000 - val_loss: 0.1191 - val_accuracy: 0.9474\n",
            "Epoch 408/500\n",
            "5/5 [==============================] - 1s 276ms/step - loss: 4.0242e-06 - accuracy: 1.0000 - val_loss: 0.1196 - val_accuracy: 0.9474\n",
            "Epoch 409/500\n",
            "5/5 [==============================] - 1s 264ms/step - loss: 4.0102e-06 - accuracy: 1.0000 - val_loss: 0.1190 - val_accuracy: 0.9474\n",
            "Epoch 410/500\n",
            "5/5 [==============================] - 1s 270ms/step - loss: 3.9720e-06 - accuracy: 1.0000 - val_loss: 0.1193 - val_accuracy: 0.9474\n",
            "Epoch 411/500\n",
            "5/5 [==============================] - 1s 266ms/step - loss: 3.9478e-06 - accuracy: 1.0000 - val_loss: 0.1193 - val_accuracy: 0.9474\n",
            "Epoch 412/500\n",
            "5/5 [==============================] - 2s 309ms/step - loss: 3.9237e-06 - accuracy: 1.0000 - val_loss: 0.1195 - val_accuracy: 0.9474\n",
            "Epoch 413/500\n",
            "5/5 [==============================] - 2s 485ms/step - loss: 3.9050e-06 - accuracy: 1.0000 - val_loss: 0.1199 - val_accuracy: 0.9474\n",
            "Epoch 414/500\n",
            "5/5 [==============================] - 2s 390ms/step - loss: 3.8793e-06 - accuracy: 1.0000 - val_loss: 0.1202 - val_accuracy: 0.9474\n",
            "Epoch 415/500\n",
            "5/5 [==============================] - 1s 258ms/step - loss: 3.8637e-06 - accuracy: 1.0000 - val_loss: 0.1206 - val_accuracy: 0.9474\n",
            "Epoch 416/500\n",
            "5/5 [==============================] - 1s 266ms/step - loss: 3.8403e-06 - accuracy: 1.0000 - val_loss: 0.1202 - val_accuracy: 0.9474\n",
            "Epoch 417/500\n",
            "5/5 [==============================] - 1s 265ms/step - loss: 3.8193e-06 - accuracy: 1.0000 - val_loss: 0.1200 - val_accuracy: 0.9474\n",
            "Epoch 418/500\n",
            "5/5 [==============================] - 1s 267ms/step - loss: 3.7936e-06 - accuracy: 1.0000 - val_loss: 0.1205 - val_accuracy: 0.9474\n",
            "Epoch 419/500\n",
            "5/5 [==============================] - 1s 258ms/step - loss: 3.7725e-06 - accuracy: 1.0000 - val_loss: 0.1209 - val_accuracy: 0.9474\n",
            "Epoch 420/500\n",
            "5/5 [==============================] - 1s 271ms/step - loss: 3.7546e-06 - accuracy: 1.0000 - val_loss: 0.1213 - val_accuracy: 0.9474\n",
            "Epoch 421/500\n",
            "5/5 [==============================] - 1s 269ms/step - loss: 3.7383e-06 - accuracy: 1.0000 - val_loss: 0.1210 - val_accuracy: 0.9474\n",
            "Epoch 422/500\n",
            "5/5 [==============================] - 2s 403ms/step - loss: 3.7172e-06 - accuracy: 1.0000 - val_loss: 0.1217 - val_accuracy: 0.9474\n",
            "Epoch 423/500\n",
            "5/5 [==============================] - 2s 447ms/step - loss: 3.6900e-06 - accuracy: 1.0000 - val_loss: 0.1216 - val_accuracy: 0.9474\n",
            "Epoch 424/500\n",
            "5/5 [==============================] - 2s 329ms/step - loss: 3.6705e-06 - accuracy: 1.0000 - val_loss: 0.1215 - val_accuracy: 0.9474\n",
            "Epoch 425/500\n",
            "5/5 [==============================] - 1s 273ms/step - loss: 3.6487e-06 - accuracy: 1.0000 - val_loss: 0.1214 - val_accuracy: 0.9474\n",
            "Epoch 426/500\n",
            "5/5 [==============================] - 1s 257ms/step - loss: 3.6292e-06 - accuracy: 1.0000 - val_loss: 0.1218 - val_accuracy: 0.9474\n",
            "Epoch 427/500\n",
            "5/5 [==============================] - 1s 272ms/step - loss: 3.6097e-06 - accuracy: 1.0000 - val_loss: 0.1221 - val_accuracy: 0.9474\n",
            "Epoch 428/500\n",
            "5/5 [==============================] - 1s 260ms/step - loss: 3.5871e-06 - accuracy: 1.0000 - val_loss: 0.1224 - val_accuracy: 0.9474\n",
            "Epoch 429/500\n",
            "5/5 [==============================] - 1s 264ms/step - loss: 3.5669e-06 - accuracy: 1.0000 - val_loss: 0.1224 - val_accuracy: 0.9474\n",
            "Epoch 430/500\n",
            "5/5 [==============================] - 1s 267ms/step - loss: 3.5474e-06 - accuracy: 1.0000 - val_loss: 0.1224 - val_accuracy: 0.9474\n",
            "Epoch 431/500\n",
            "5/5 [==============================] - 1s 262ms/step - loss: 3.5287e-06 - accuracy: 1.0000 - val_loss: 0.1222 - val_accuracy: 0.9474\n",
            "Epoch 432/500\n",
            "5/5 [==============================] - 2s 474ms/step - loss: 3.5100e-06 - accuracy: 1.0000 - val_loss: 0.1227 - val_accuracy: 0.9474\n",
            "Epoch 433/500\n",
            "5/5 [==============================] - 2s 465ms/step - loss: 3.4960e-06 - accuracy: 1.0000 - val_loss: 0.1227 - val_accuracy: 0.9474\n",
            "Epoch 434/500\n",
            "5/5 [==============================] - 1s 278ms/step - loss: 3.4671e-06 - accuracy: 1.0000 - val_loss: 0.1226 - val_accuracy: 0.9474\n",
            "Epoch 435/500\n",
            "5/5 [==============================] - 1s 270ms/step - loss: 3.4656e-06 - accuracy: 1.0000 - val_loss: 0.1221 - val_accuracy: 0.9474\n",
            "Epoch 436/500\n",
            "5/5 [==============================] - 1s 267ms/step - loss: 3.4391e-06 - accuracy: 1.0000 - val_loss: 0.1229 - val_accuracy: 0.9474\n",
            "Epoch 437/500\n",
            "5/5 [==============================] - 1s 274ms/step - loss: 3.4165e-06 - accuracy: 1.0000 - val_loss: 0.1232 - val_accuracy: 0.9474\n",
            "Epoch 438/500\n",
            "5/5 [==============================] - 1s 261ms/step - loss: 3.4001e-06 - accuracy: 1.0000 - val_loss: 0.1232 - val_accuracy: 0.9474\n",
            "Epoch 439/500\n",
            "5/5 [==============================] - 1s 274ms/step - loss: 3.3791e-06 - accuracy: 1.0000 - val_loss: 0.1233 - val_accuracy: 0.9474\n",
            "Epoch 440/500\n",
            "5/5 [==============================] - 1s 277ms/step - loss: 3.3635e-06 - accuracy: 1.0000 - val_loss: 0.1229 - val_accuracy: 0.9474\n",
            "Epoch 441/500\n",
            "5/5 [==============================] - 2s 359ms/step - loss: 3.3417e-06 - accuracy: 1.0000 - val_loss: 0.1232 - val_accuracy: 0.9474\n",
            "Epoch 442/500\n",
            "5/5 [==============================] - 2s 477ms/step - loss: 3.3238e-06 - accuracy: 1.0000 - val_loss: 0.1236 - val_accuracy: 0.9474\n",
            "Epoch 443/500\n",
            "5/5 [==============================] - 2s 379ms/step - loss: 3.3152e-06 - accuracy: 1.0000 - val_loss: 0.1241 - val_accuracy: 0.9474\n",
            "Epoch 444/500\n",
            "5/5 [==============================] - 1s 267ms/step - loss: 3.2895e-06 - accuracy: 1.0000 - val_loss: 0.1239 - val_accuracy: 0.9474\n",
            "Epoch 445/500\n",
            "5/5 [==============================] - 1s 277ms/step - loss: 3.2739e-06 - accuracy: 1.0000 - val_loss: 0.1243 - val_accuracy: 0.9474\n",
            "Epoch 446/500\n",
            "5/5 [==============================] - 1s 284ms/step - loss: 3.2537e-06 - accuracy: 1.0000 - val_loss: 0.1246 - val_accuracy: 0.9474\n",
            "Epoch 447/500\n",
            "5/5 [==============================] - 1s 276ms/step - loss: 3.2373e-06 - accuracy: 1.0000 - val_loss: 0.1244 - val_accuracy: 0.9474\n",
            "Epoch 448/500\n",
            "5/5 [==============================] - 1s 274ms/step - loss: 3.2170e-06 - accuracy: 1.0000 - val_loss: 0.1242 - val_accuracy: 0.9474\n",
            "Epoch 449/500\n",
            "5/5 [==============================] - 1s 277ms/step - loss: 3.2085e-06 - accuracy: 1.0000 - val_loss: 0.1246 - val_accuracy: 0.9474\n",
            "Epoch 450/500\n",
            "5/5 [==============================] - 1s 278ms/step - loss: 3.1913e-06 - accuracy: 1.0000 - val_loss: 0.1243 - val_accuracy: 0.9474\n",
            "Epoch 451/500\n",
            "5/5 [==============================] - 2s 457ms/step - loss: 3.1711e-06 - accuracy: 1.0000 - val_loss: 0.1246 - val_accuracy: 0.9474\n",
            "Epoch 452/500\n",
            "5/5 [==============================] - 2s 483ms/step - loss: 3.1531e-06 - accuracy: 1.0000 - val_loss: 0.1247 - val_accuracy: 0.9474\n",
            "Epoch 453/500\n",
            "5/5 [==============================] - 1s 289ms/step - loss: 3.1430e-06 - accuracy: 1.0000 - val_loss: 0.1251 - val_accuracy: 0.9474\n",
            "Epoch 454/500\n",
            "5/5 [==============================] - 1s 290ms/step - loss: 3.1204e-06 - accuracy: 1.0000 - val_loss: 0.1252 - val_accuracy: 0.9474\n",
            "Epoch 455/500\n",
            "5/5 [==============================] - 1s 281ms/step - loss: 3.1056e-06 - accuracy: 1.0000 - val_loss: 0.1255 - val_accuracy: 0.9474\n",
            "Epoch 456/500\n",
            "5/5 [==============================] - 1s 270ms/step - loss: 3.0877e-06 - accuracy: 1.0000 - val_loss: 0.1256 - val_accuracy: 0.9474\n",
            "Epoch 457/500\n",
            "5/5 [==============================] - 1s 276ms/step - loss: 3.0745e-06 - accuracy: 1.0000 - val_loss: 0.1260 - val_accuracy: 0.9474\n",
            "Epoch 458/500\n",
            "5/5 [==============================] - 1s 271ms/step - loss: 3.0542e-06 - accuracy: 1.0000 - val_loss: 0.1258 - val_accuracy: 0.9474\n",
            "Epoch 459/500\n",
            "5/5 [==============================] - 1s 281ms/step - loss: 3.0464e-06 - accuracy: 1.0000 - val_loss: 0.1256 - val_accuracy: 0.9474\n",
            "Epoch 460/500\n",
            "5/5 [==============================] - 2s 463ms/step - loss: 3.0230e-06 - accuracy: 1.0000 - val_loss: 0.1257 - val_accuracy: 0.9474\n",
            "Epoch 461/500\n",
            "5/5 [==============================] - 2s 472ms/step - loss: 3.0075e-06 - accuracy: 1.0000 - val_loss: 0.1258 - val_accuracy: 0.9474\n",
            "Epoch 462/500\n",
            "5/5 [==============================] - 2s 277ms/step - loss: 2.9934e-06 - accuracy: 1.0000 - val_loss: 0.1261 - val_accuracy: 0.9474\n",
            "Epoch 463/500\n",
            "5/5 [==============================] - 1s 262ms/step - loss: 2.9755e-06 - accuracy: 1.0000 - val_loss: 0.1261 - val_accuracy: 0.9474\n",
            "Epoch 464/500\n",
            "5/5 [==============================] - 1s 285ms/step - loss: 2.9607e-06 - accuracy: 1.0000 - val_loss: 0.1263 - val_accuracy: 0.9474\n",
            "Epoch 465/500\n",
            "5/5 [==============================] - 1s 295ms/step - loss: 2.9475e-06 - accuracy: 1.0000 - val_loss: 0.1263 - val_accuracy: 0.9474\n",
            "Epoch 466/500\n",
            "5/5 [==============================] - 1s 281ms/step - loss: 2.9311e-06 - accuracy: 1.0000 - val_loss: 0.1263 - val_accuracy: 0.9474\n",
            "Epoch 467/500\n",
            "5/5 [==============================] - 1s 280ms/step - loss: 2.9179e-06 - accuracy: 1.0000 - val_loss: 0.1264 - val_accuracy: 0.9474\n",
            "Epoch 468/500\n",
            "5/5 [==============================] - 1s 290ms/step - loss: 2.9062e-06 - accuracy: 1.0000 - val_loss: 0.1263 - val_accuracy: 0.9474\n",
            "Epoch 469/500\n",
            "5/5 [==============================] - 2s 409ms/step - loss: 2.8906e-06 - accuracy: 1.0000 - val_loss: 0.1264 - val_accuracy: 0.9474\n",
            "Epoch 470/500\n",
            "5/5 [==============================] - 2s 435ms/step - loss: 2.8797e-06 - accuracy: 1.0000 - val_loss: 0.1271 - val_accuracy: 0.9474\n",
            "Epoch 471/500\n",
            "5/5 [==============================] - 2s 357ms/step - loss: 2.8649e-06 - accuracy: 1.0000 - val_loss: 0.1272 - val_accuracy: 0.9474\n",
            "Epoch 472/500\n",
            "5/5 [==============================] - 1s 266ms/step - loss: 2.8477e-06 - accuracy: 1.0000 - val_loss: 0.1270 - val_accuracy: 0.9474\n",
            "Epoch 473/500\n",
            "5/5 [==============================] - 1s 275ms/step - loss: 2.8321e-06 - accuracy: 1.0000 - val_loss: 0.1269 - val_accuracy: 0.9474\n",
            "Epoch 474/500\n",
            "5/5 [==============================] - 1s 287ms/step - loss: 2.8212e-06 - accuracy: 1.0000 - val_loss: 0.1274 - val_accuracy: 0.9474\n",
            "Epoch 475/500\n",
            "5/5 [==============================] - 1s 267ms/step - loss: 2.8049e-06 - accuracy: 1.0000 - val_loss: 0.1275 - val_accuracy: 0.9474\n",
            "Epoch 476/500\n",
            "5/5 [==============================] - 1s 276ms/step - loss: 2.7885e-06 - accuracy: 1.0000 - val_loss: 0.1278 - val_accuracy: 0.9474\n",
            "Epoch 477/500\n",
            "5/5 [==============================] - 1s 298ms/step - loss: 2.7753e-06 - accuracy: 1.0000 - val_loss: 0.1279 - val_accuracy: 0.9474\n",
            "Epoch 478/500\n",
            "5/5 [==============================] - 2s 345ms/step - loss: 2.7644e-06 - accuracy: 1.0000 - val_loss: 0.1279 - val_accuracy: 0.9474\n",
            "Epoch 479/500\n",
            "5/5 [==============================] - 3s 527ms/step - loss: 2.7503e-06 - accuracy: 1.0000 - val_loss: 0.1280 - val_accuracy: 0.9474\n",
            "Epoch 480/500\n",
            "5/5 [==============================] - 2s 368ms/step - loss: 2.7355e-06 - accuracy: 1.0000 - val_loss: 0.1283 - val_accuracy: 0.9474\n",
            "Epoch 481/500\n",
            "5/5 [==============================] - 2s 297ms/step - loss: 2.7254e-06 - accuracy: 1.0000 - val_loss: 0.1287 - val_accuracy: 0.9474\n",
            "Epoch 482/500\n",
            "5/5 [==============================] - 2s 304ms/step - loss: 2.7106e-06 - accuracy: 1.0000 - val_loss: 0.1287 - val_accuracy: 0.9474\n",
            "Epoch 483/500\n",
            "5/5 [==============================] - 1s 291ms/step - loss: 2.6981e-06 - accuracy: 1.0000 - val_loss: 0.1288 - val_accuracy: 0.9474\n",
            "Epoch 484/500\n",
            "5/5 [==============================] - 1s 308ms/step - loss: 2.6849e-06 - accuracy: 1.0000 - val_loss: 0.1286 - val_accuracy: 0.9474\n",
            "Epoch 485/500\n",
            "5/5 [==============================] - 2s 305ms/step - loss: 2.6716e-06 - accuracy: 1.0000 - val_loss: 0.1287 - val_accuracy: 0.9474\n",
            "Epoch 486/500\n",
            "5/5 [==============================] - 1s 286ms/step - loss: 2.6584e-06 - accuracy: 1.0000 - val_loss: 0.1289 - val_accuracy: 0.9474\n",
            "Epoch 487/500\n",
            "5/5 [==============================] - 2s 407ms/step - loss: 2.6459e-06 - accuracy: 1.0000 - val_loss: 0.1287 - val_accuracy: 0.9474\n",
            "Epoch 488/500\n",
            "5/5 [==============================] - 2s 459ms/step - loss: 2.6327e-06 - accuracy: 1.0000 - val_loss: 0.1289 - val_accuracy: 0.9474\n",
            "Epoch 489/500\n",
            "5/5 [==============================] - 2s 363ms/step - loss: 2.6187e-06 - accuracy: 1.0000 - val_loss: 0.1289 - val_accuracy: 0.9474\n",
            "Epoch 490/500\n",
            "5/5 [==============================] - 1s 277ms/step - loss: 2.6070e-06 - accuracy: 1.0000 - val_loss: 0.1289 - val_accuracy: 0.9474\n",
            "Epoch 491/500\n",
            "5/5 [==============================] - 1s 257ms/step - loss: 2.5961e-06 - accuracy: 1.0000 - val_loss: 0.1290 - val_accuracy: 0.9474\n",
            "Epoch 492/500\n",
            "5/5 [==============================] - 1s 274ms/step - loss: 2.5875e-06 - accuracy: 1.0000 - val_loss: 0.1289 - val_accuracy: 0.9474\n",
            "Epoch 493/500\n",
            "5/5 [==============================] - 1s 281ms/step - loss: 2.5750e-06 - accuracy: 1.0000 - val_loss: 0.1290 - val_accuracy: 0.9474\n",
            "Epoch 494/500\n",
            "5/5 [==============================] - 1s 257ms/step - loss: 2.5602e-06 - accuracy: 1.0000 - val_loss: 0.1297 - val_accuracy: 0.9474\n",
            "Epoch 495/500\n",
            "5/5 [==============================] - 1s 270ms/step - loss: 2.5454e-06 - accuracy: 1.0000 - val_loss: 0.1298 - val_accuracy: 0.9474\n",
            "Epoch 496/500\n",
            "5/5 [==============================] - 1s 276ms/step - loss: 2.5337e-06 - accuracy: 1.0000 - val_loss: 0.1299 - val_accuracy: 0.9474\n",
            "Epoch 497/500\n",
            "5/5 [==============================] - 2s 473ms/step - loss: 2.5221e-06 - accuracy: 1.0000 - val_loss: 0.1300 - val_accuracy: 0.9474\n",
            "Epoch 498/500\n",
            "5/5 [==============================] - 2s 483ms/step - loss: 2.5088e-06 - accuracy: 1.0000 - val_loss: 0.1299 - val_accuracy: 0.9474\n",
            "Epoch 499/500\n",
            "5/5 [==============================] - 1s 265ms/step - loss: 2.5002e-06 - accuracy: 1.0000 - val_loss: 0.1300 - val_accuracy: 0.9474\n",
            "Epoch 500/500\n",
            "5/5 [==============================] - 1s 271ms/step - loss: 2.4862e-06 - accuracy: 1.0000 - val_loss: 0.1301 - val_accuracy: 0.9474\n"
          ]
        }
      ]
    },
    {
      "cell_type": "markdown",
      "source": [
        "**Task 5.**\n",
        "<br>\n",
        "Evaluate your model using the test data set. Display the loss function vs the number of epochs."
      ],
      "metadata": {
        "id": "qwPOhG62OMoA"
      }
    },
    {
      "cell_type": "code",
      "source": [
        "# Write your code here.\n",
        "model.evaluate(X_test, y_test)\n",
        "\n",
        "pd.DataFrame(history.history).plot(figsize=(10,6))\n",
        "plt.grid(True)\n",
        "plt.gca().set_ylim(0,1)\n",
        "plt.show()"
      ],
      "metadata": {
        "id": "KrSjDpg6o27R",
        "colab": {
          "base_uri": "https://localhost:8080/",
          "height": 545
        },
        "outputId": "6c80518f-c688-41ef-99cd-421229d20c30"
      },
      "execution_count": 30,
      "outputs": [
        {
          "output_type": "stream",
          "name": "stdout",
          "text": [
            "1/1 [==============================] - 0s 121ms/step - loss: 0.0273 - accuracy: 1.0000\n"
          ]
        },
        {
          "output_type": "display_data",
          "data": {
            "text/plain": [
              "<Figure size 1000x600 with 1 Axes>"
            ],
            "image/png": "[encoded data removed]"
          },
          "metadata": {}
        }
      ]
    },
    {
      "cell_type": "markdown",
      "source": [
        "**Task 6.**\n",
        "<br>\n",
        "Predict the output with your model with the predict function using the test input data set. Display the confusion matrix and the accuracy of your model with the test data set."
      ],
      "metadata": {
        "id": "AQF-39fEO-MB"
      }
    },
    {
      "cell_type": "code",
      "source": [
        "# Write your code here.\n",
        "prediction = model.predict(X_test)\n",
        "\n",
        "cm = confusion_matrix(y_test.argmax(axis=1), prediction.argmax(axis=1))\n",
        "\n",
        "disp = ConfusionMatrixDisplay(confusion_matrix=cm)\n",
        "disp.plot()\n",
        "plt.show()\n",
        "\n",
        "accuracy = 100*np.trace(cm)/np.sum(cm)\n",
        "print(accuracy)"
      ],
      "metadata": {
        "id": "2yI1VSOso-FT",
        "colab": {
          "base_uri": "https://localhost:8080/",
          "height": 484
        },
        "outputId": "0f54b9d1-48af-4553-8887-f45fa6616393"
      },
      "execution_count": 31,
      "outputs": [
        {
          "output_type": "stream",
          "name": "stdout",
          "text": [
            "1/1 [==============================] - 0s 270ms/step\n"
          ]
        },
        {
          "output_type": "display_data",
          "data": {
            "text/plain": [
              "<Figure size 640x480 with 2 Axes>"
            ],
            "image/png": "[encoded data removed]"
          },
          "metadata": {}
        },
        {
          "output_type": "stream",
          "name": "stdout",
          "text": [
            "100.0\n"
          ]
        }
      ]
    }
  ]
}