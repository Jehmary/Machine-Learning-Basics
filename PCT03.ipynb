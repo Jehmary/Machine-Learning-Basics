{
  "nbformat": 4,
  "nbformat_minor": 0,
  "metadata": {
    "colab": {
      "provenance": [],
      "include_colab_link": true
    },
    "kernelspec": {
      "name": "python3",
      "display_name": "Python 3"
    },
    "language_info": {
      "name": "python"
    }
  },
  "cells": [
    {
      "cell_type": "markdown",
      "metadata": {
        "id": "view-in-github",
        "colab_type": "text"
      },
      "source": [
        "<a href=\"https://colab.research.google.com/github/Jehmary/Machine-Learning-Basics/blob/main/PCT03.ipynb\" target=\"_parent\"><img src=\"https://colab.research.google.com/assets/colab-badge.svg\" alt=\"Open In Colab\"/></a>"
      ]
    },
    {
      "cell_type": "markdown",
      "source": [
        "##**Classification of Walk vs Run**"
      ],
      "metadata": {
        "id": "w12W2G-6c32h"
      }
    },
    {
      "cell_type": "markdown",
      "source": [
        "####**Importing the Necessary Libraries**"
      ],
      "metadata": {
        "id": "19trjlLic6EL"
      }
    },
    {
      "cell_type": "code",
      "execution_count": 1,
      "metadata": {
        "id": "XPZnl1jNcuB1"
      },
      "outputs": [],
      "source": [
        "import numpy as np\n",
        "import matplotlib.pyplot as plt\n",
        "import pandas as pd\n",
        "\n",
        "import tensorflow as tf\n",
        "from tensorflow import keras\n",
        "from tensorflow.keras.models import Sequential\n",
        "\n",
        "from sklearn import datasets\n",
        "from sklearn.preprocessing import LabelEncoder\n",
        "from sklearn.model_selection import train_test_split\n",
        "from sklearn.metrics import confusion_matrix, ConfusionMatrixDisplay"
      ]
    },
    {
      "cell_type": "markdown",
      "source": [
        "####**Importing and Preparing the Data**"
      ],
      "metadata": {
        "id": "21I4-WljdB3r"
      }
    },
    {
      "cell_type": "markdown",
      "source": [
        "#####**Importing the Data**"
      ],
      "metadata": {
        "id": "-z48xONBdGc0"
      }
    },
    {
      "cell_type": "code",
      "source": [
        "from google.colab import drive\n",
        "drive.mount('/content/gdrive/', force_remount=True)"
      ],
      "metadata": {
        "id": "a0VllYJydK2L",
        "colab": {
          "base_uri": "https://localhost:8080/"
        },
        "outputId": "f50dd532-533c-4863-d717-c6c4154e3d36"
      },
      "execution_count": 2,
      "outputs": [
        {
          "output_type": "stream",
          "name": "stdout",
          "text": [
            "Mounted at /content/gdrive/\n"
          ]
        }
      ]
    },
    {
      "cell_type": "markdown",
      "source": [
        "**NOTE: You have to save the attached csv file to one of your subfolders in Google Drive and change the name of the subfolder below, accordingly.**"
      ],
      "metadata": {
        "id": "lUPIQIxqIfvI"
      }
    },
    {
      "cell_type": "code",
      "source": [
        "cd gdrive/MyDrive/'Colab Notebooks'/Book/Datasets"
      ],
      "metadata": {
        "id": "daYIZXyhdO0z",
        "colab": {
          "base_uri": "https://localhost:8080/"
        },
        "outputId": "1d644aec-cb8b-4462-a14e-929640bb2319"
      },
      "execution_count": 3,
      "outputs": [
        {
          "output_type": "stream",
          "name": "stdout",
          "text": [
            "/content/gdrive/MyDrive/Colab Notebooks/Book/Datasets\n"
          ]
        }
      ]
    },
    {
      "cell_type": "code",
      "source": [
        "ls"
      ],
      "metadata": {
        "id": "R6Vx8Cz4dRf4",
        "colab": {
          "base_uri": "https://localhost:8080/"
        },
        "outputId": "b902bc09-8623-4bdf-88a5-4a1856e02f3e"
      },
      "execution_count": 4,
      "outputs": [
        {
          "output_type": "stream",
          "name": "stdout",
          "text": [
            "walkvsrun.csv\n"
          ]
        }
      ]
    },
    {
      "cell_type": "markdown",
      "source": [
        "The walk vs run data set."
      ],
      "metadata": {
        "id": "vRcVKbYBdUSj"
      }
    },
    {
      "cell_type": "code",
      "source": [
        "dataset = pd.read_csv('walkvsrun.csv', header=None)\n",
        "print(dataset.info())"
      ],
      "metadata": {
        "id": "u4jOD3KtdSBj",
        "colab": {
          "base_uri": "https://localhost:8080/"
        },
        "outputId": "d998a5c8-f678-47aa-8169-2593de16f04c"
      },
      "execution_count": 5,
      "outputs": [
        {
          "output_type": "stream",
          "name": "stdout",
          "text": [
            "<class 'pandas.core.frame.DataFrame'>\n",
            "RangeIndex: 192 entries, 0 to 191\n",
            "Columns: 5201 entries, 0 to 5200\n",
            "dtypes: float64(5200), int64(1)\n",
            "memory usage: 7.6 MB\n",
            "None\n"
          ]
        }
      ]
    },
    {
      "cell_type": "code",
      "source": [
        "print(dataset.shape)\n",
        "print(dataset.head(5))"
      ],
      "metadata": {
        "id": "EKkqqfi5gu-p",
        "colab": {
          "base_uri": "https://localhost:8080/"
        },
        "outputId": "67cd2c3e-f1b0-474b-fdc2-77d7bb6c4224"
      },
      "execution_count": 6,
      "outputs": [
        {
          "output_type": "stream",
          "name": "stdout",
          "text": [
            "(192, 5201)\n",
            "      0        1        2        3       4        5         6        7     \\\n",
            "0 -8.45340 -5.99020 -3.98400 -2.47060 -1.3035 -0.49068 -0.041913 -0.59172   \n",
            "1 -4.17710 -4.67900 -5.08760 -5.31620 -5.6017 -5.70730 -5.379100 -4.75640   \n",
            "2 -2.42120 -2.43750 -2.48920 -2.50000 -2.5082 -2.51100 -2.548200 -2.57450   \n",
            "3  0.26166 -0.13816 -0.22947 -0.46808 -1.0790 -1.88940 -2.691600 -3.91420   \n",
            "4 -0.63378  0.10523  0.79335  1.76780  3.7666  8.38150  8.533500  5.18550   \n",
            "\n",
            "     8        9     ...    5191    5192    5193    5194    5195    5196  \\\n",
            "0 -1.2731 -2.99890  ...  20.969  20.985  21.001  21.018  21.034  21.050   \n",
            "1 -4.1548 -3.54730  ...  20.969  20.985  21.001  21.018  21.034  21.050   \n",
            "2 -2.5625 -2.55620  ...  20.968  20.985  21.001  21.017  21.033  21.050   \n",
            "3 -5.8555 -7.46060  ...  20.968  20.984  21.001  21.017  21.033  21.049   \n",
            "4  2.0530 -0.26899  ...  20.968  20.984  21.001  21.017  21.033  21.049   \n",
            "\n",
            "     5197    5198    5199  5200  \n",
            "0  21.066  21.083  21.099     1  \n",
            "1  21.066  21.083  21.099     1  \n",
            "2  21.066  21.082  21.098     1  \n",
            "3  21.066  21.082  21.098     1  \n",
            "4  21.066  21.082  21.098     1  \n",
            "\n",
            "[5 rows x 5201 columns]\n"
          ]
        }
      ]
    },
    {
      "cell_type": "markdown",
      "source": [
        "#####**Preparing the Data**"
      ],
      "metadata": {
        "id": "gRtywxq-e_9v"
      }
    },
    {
      "cell_type": "markdown",
      "source": [
        "The first up to the second to the last columns will become our input, which we will assign to the variable $X$."
      ],
      "metadata": {
        "id": "qrWNjz33kJ-z"
      }
    },
    {
      "cell_type": "code",
      "source": [
        "X = dataset.loc[:,0:dataset.shape[1]-2]\n",
        "print(X.shape)"
      ],
      "metadata": {
        "id": "lqmUZf69fBgK",
        "colab": {
          "base_uri": "https://localhost:8080/"
        },
        "outputId": "4611f56e-838d-4261-ffe1-8551d9187025"
      },
      "execution_count": 7,
      "outputs": [
        {
          "output_type": "stream",
          "name": "stdout",
          "text": [
            "(192, 5200)\n"
          ]
        }
      ]
    },
    {
      "cell_type": "markdown",
      "source": [
        "The last column will become our label, which we will assign to the variable $y$."
      ],
      "metadata": {
        "id": "18tNHt6DkFx2"
      }
    },
    {
      "cell_type": "code",
      "source": [
        "y_dataset = dataset.loc[:,dataset.shape[1]-1]\n",
        "y_label = np.array(y_dataset)\n",
        "y = tf.keras.utils.to_categorical(y_label)\n",
        "print(y.shape)"
      ],
      "metadata": {
        "colab": {
          "base_uri": "https://localhost:8080/"
        },
        "id": "zvh1h7NTj3-C",
        "outputId": "f07891e5-a1b0-4e89-aae2-9bcc53113081"
      },
      "execution_count": 8,
      "outputs": [
        {
          "output_type": "stream",
          "name": "stdout",
          "text": [
            "(192, 2)\n"
          ]
        }
      ]
    },
    {
      "cell_type": "markdown",
      "source": [
        "####**Defining the model**"
      ],
      "metadata": {
        "id": "te95nwDRkTlX"
      }
    },
    {
      "cell_type": "markdown",
      "source": [
        "**Task 1.**\n",
        "\n",
        "Using the *train_test_split()* function, split the training data, validation data, and test data into 80%, 10%, and 10%, respectively.<br>\n",
        "\n",
        "Assign training input data to the *X_train* and the label input data to *y_train*. Assign validation input data to the *X_val* and the label input data to *y_val*. Assign test input data to the *X_test* and the label input data to *y_test*."
      ],
      "metadata": {
        "id": "HVR8vuULkUT-"
      }
    },
    {
      "cell_type": "code",
      "source": [
        "# Write down the values here\n",
        "trainRatio = 80/100\n",
        "valRatio = 10/100\n",
        "testRatio = 10/100\n",
        "\n",
        "# Split the training, validation and test data. Write your code below this line.\n",
        "X_train, X_test, y_train, y_test = train_test_split(X, y, test_size = 1 - trainRatio)\n",
        "X_val, X_test, y_val, y_test = train_test_split(X_test, y_test, test_size = testRatio/(testRatio + valRatio))"
      ],
      "metadata": {
        "id": "ZPdfqHTRkW_3"
      },
      "execution_count": 9,
      "outputs": []
    },
    {
      "cell_type": "code",
      "source": [
        "print(X_val.shape)"
      ],
      "metadata": {
        "id": "Q2Blt1tOkahb",
        "colab": {
          "base_uri": "https://localhost:8080/"
        },
        "outputId": "10cd6252-db21-4c42-fb8c-f5323c316ce0"
      },
      "execution_count": 10,
      "outputs": [
        {
          "output_type": "stream",
          "name": "stdout",
          "text": [
            "(19, 5200)\n"
          ]
        }
      ]
    },
    {
      "cell_type": "code",
      "source": [
        "print(y_val.shape)"
      ],
      "metadata": {
        "id": "btKzX34xkcdT",
        "colab": {
          "base_uri": "https://localhost:8080/"
        },
        "outputId": "99b412e7-d29d-4c91-9a66-928c2beb41b4"
      },
      "execution_count": 11,
      "outputs": [
        {
          "output_type": "stream",
          "name": "stdout",
          "text": [
            "(19, 2)\n"
          ]
        }
      ]
    },
    {
      "cell_type": "code",
      "source": [
        "print(y_test.shape)"
      ],
      "metadata": {
        "id": "2clRI5MykeKN",
        "colab": {
          "base_uri": "https://localhost:8080/"
        },
        "outputId": "e31a47bd-2e2e-4918-8a38-f87739036823"
      },
      "execution_count": 12,
      "outputs": [
        {
          "output_type": "stream",
          "name": "stdout",
          "text": [
            "(20, 2)\n"
          ]
        }
      ]
    },
    {
      "cell_type": "markdown",
      "source": [
        "**Task 2.**\n",
        "<br>\n",
        "Set up your network *model*. Use three layers - an input layer, a hidden layer and an output layer. Use a reasonable number of nodes for the hidden layer. Display the summary of the model."
      ],
      "metadata": {
        "id": "_TZNpS-ZKX8y"
      }
    },
    {
      "cell_type": "code",
      "source": [
        "# Write your code here.\n",
        "model = Sequential([\n",
        "    keras.layers.Conv1D(32, 3, input_shape = (X_train.shape[1],1), activation='relu'),\n",
        "    keras.layers.MaxPooling1D(2),\n",
        "    keras.layers.Conv1D(16, 3, activation='relu'),\n",
        "    keras.layers.MaxPooling1D(2),\n",
        "    keras.layers.Conv1D(8, 3, activation='relu'),\n",
        "    keras.layers.MaxPooling1D(2),\n",
        "    keras.layers.Conv1D(4, 3, activation='relu'),\n",
        "    keras.layers.MaxPooling1D(2),\n",
        "    keras.layers.Flatten(),\n",
        "    keras.layers.Dense(5200, activation='sigmoid'),\n",
        "    keras.layers.Dense(2, activation='softmax')\n",
        "])\n",
        "\n",
        "model.summary()"
      ],
      "metadata": {
        "id": "sZr0fUfLkenX",
        "colab": {
          "base_uri": "https://localhost:8080/"
        },
        "outputId": "eb9a5e7c-f6c8-4e0e-b18b-1d7e4a44c3ba"
      },
      "execution_count": 22,
      "outputs": [
        {
          "output_type": "stream",
          "name": "stdout",
          "text": [
            "Model: \"sequential_4\"\n",
            "_________________________________________________________________\n",
            " Layer (type)                Output Shape              Param #   \n",
            "=================================================================\n",
            " conv1d_10 (Conv1D)          (None, 5198, 32)          128       \n",
            "                                                                 \n",
            " max_pooling1d_10 (MaxPoolin  (None, 2599, 32)         0         \n",
            " g1D)                                                            \n",
            "                                                                 \n",
            " conv1d_11 (Conv1D)          (None, 2597, 16)          1552      \n",
            "                                                                 \n",
            " max_pooling1d_11 (MaxPoolin  (None, 1298, 16)         0         \n",
            " g1D)                                                            \n",
            "                                                                 \n",
            " conv1d_12 (Conv1D)          (None, 1296, 8)           392       \n",
            "                                                                 \n",
            " max_pooling1d_12 (MaxPoolin  (None, 648, 8)           0         \n",
            " g1D)                                                            \n",
            "                                                                 \n",
            " conv1d_13 (Conv1D)          (None, 646, 4)            100       \n",
            "                                                                 \n",
            " max_pooling1d_13 (MaxPoolin  (None, 323, 4)           0         \n",
            " g1D)                                                            \n",
            "                                                                 \n",
            " flatten_4 (Flatten)         (None, 1292)              0         \n",
            "                                                                 \n",
            " dense_9 (Dense)             (None, 5200)              6723600   \n",
            "                                                                 \n",
            " dense_10 (Dense)            (None, 2)                 10402     \n",
            "                                                                 \n",
            "=================================================================\n",
            "Total params: 6,736,174\n",
            "Trainable params: 6,736,174\n",
            "Non-trainable params: 0\n",
            "_________________________________________________________________\n"
          ]
        }
      ]
    },
    {
      "cell_type": "markdown",
      "source": [
        "**Task 3.**\n",
        "<br>\n",
        "Compile your model using the *compile* function, and set up the optimizer and the loss. You can find the various loss functions you can use in this [weblink](https://keras.io/api/losses/). Use 'accuracy' as the metric."
      ],
      "metadata": {
        "id": "DEtsez9XLV-q"
      }
    },
    {
      "cell_type": "code",
      "source": [
        "# Write your code here.\n",
        "opt = keras.optimizers.Adam(learning_rate=0.001)\n",
        "# opt = 'adam'\n",
        "model.compile(optimizer = opt,\n",
        "              loss = keras.losses.CategoricalCrossentropy(),\n",
        "              metrics=['accuracy'])"
      ],
      "metadata": {
        "id": "N3LFnyiilAyX"
      },
      "execution_count": 23,
      "outputs": []
    },
    {
      "cell_type": "markdown",
      "source": [
        "**Task 4.**\n",
        "<br>\n",
        "Train your model using the fit function. You may select your own number of epochs. Choose verbose = 1. You will need to assign the output to the variable history, so that you'll be able to see what happens during the training."
      ],
      "metadata": {
        "id": "6YCU8ulDL4Na"
      }
    },
    {
      "cell_type": "code",
      "source": [
        "# Write your code here.\n",
        "\n",
        "history = model.fit(X_train, y_train, epochs=500, validation_data=(X_val, y_val), verbose=1)"
      ],
      "metadata": {
        "id": "i-mSxjX6lB-K",
        "colab": {
          "base_uri": "https://localhost:8080/"
        },
        "outputId": "4e7ee0ed-f6de-4270-9f31-6ec59a9e802f"
      },
      "execution_count": 24,
      "outputs": [
        {
          "output_type": "stream",
          "name": "stdout",
          "text": [
            "Epoch 1/500\n",
            "5/5 [==============================] - 3s 367ms/step - loss: 6.8174 - accuracy: 0.5163 - val_loss: 2.1749 - val_accuracy: 0.6316\n",
            "Epoch 2/500\n",
            "5/5 [==============================] - 1s 287ms/step - loss: 1.3673 - accuracy: 0.7974 - val_loss: 1.9919 - val_accuracy: 0.6842\n",
            "Epoch 3/500\n",
            "5/5 [==============================] - 2s 378ms/step - loss: 0.8974 - accuracy: 0.8301 - val_loss: 0.0533 - val_accuracy: 1.0000\n",
            "Epoch 4/500\n",
            "5/5 [==============================] - 2s 460ms/step - loss: 0.3479 - accuracy: 0.9020 - val_loss: 0.1832 - val_accuracy: 0.8947\n",
            "Epoch 5/500\n",
            "5/5 [==============================] - 2s 329ms/step - loss: 0.1936 - accuracy: 0.9281 - val_loss: 0.0982 - val_accuracy: 0.9474\n",
            "Epoch 6/500\n",
            "5/5 [==============================] - 1s 275ms/step - loss: 0.1612 - accuracy: 0.9477 - val_loss: 0.5638 - val_accuracy: 0.7895\n",
            "Epoch 7/500\n",
            "5/5 [==============================] - 1s 288ms/step - loss: 0.1899 - accuracy: 0.9346 - val_loss: 0.1893 - val_accuracy: 0.9474\n",
            "Epoch 8/500\n",
            "5/5 [==============================] - 1s 274ms/step - loss: 0.0553 - accuracy: 0.9739 - val_loss: 0.1412 - val_accuracy: 0.8947\n",
            "Epoch 9/500\n",
            "5/5 [==============================] - 1s 284ms/step - loss: 0.0740 - accuracy: 0.9673 - val_loss: 0.1717 - val_accuracy: 0.8947\n",
            "Epoch 10/500\n",
            "5/5 [==============================] - 2s 301ms/step - loss: 0.0469 - accuracy: 0.9739 - val_loss: 0.2137 - val_accuracy: 0.9474\n",
            "Epoch 11/500\n",
            "5/5 [==============================] - 1s 278ms/step - loss: 0.0459 - accuracy: 0.9935 - val_loss: 0.2520 - val_accuracy: 0.9474\n",
            "Epoch 12/500\n",
            "5/5 [==============================] - 2s 451ms/step - loss: 0.0442 - accuracy: 0.9935 - val_loss: 0.2300 - val_accuracy: 0.9474\n",
            "Epoch 13/500\n",
            "5/5 [==============================] - 2s 470ms/step - loss: 0.0337 - accuracy: 0.9869 - val_loss: 0.1802 - val_accuracy: 0.9474\n",
            "Epoch 14/500\n",
            "5/5 [==============================] - 2s 319ms/step - loss: 0.0411 - accuracy: 0.9739 - val_loss: 0.1692 - val_accuracy: 0.9474\n",
            "Epoch 15/500\n",
            "5/5 [==============================] - 1s 284ms/step - loss: 0.0285 - accuracy: 0.9869 - val_loss: 0.2093 - val_accuracy: 0.9474\n",
            "Epoch 16/500\n",
            "5/5 [==============================] - 1s 296ms/step - loss: 0.0328 - accuracy: 0.9935 - val_loss: 0.2455 - val_accuracy: 0.9474\n",
            "Epoch 17/500\n",
            "5/5 [==============================] - 1s 284ms/step - loss: 0.0318 - accuracy: 0.9869 - val_loss: 0.1656 - val_accuracy: 0.9474\n",
            "Epoch 18/500\n",
            "5/5 [==============================] - 1s 292ms/step - loss: 0.0228 - accuracy: 0.9869 - val_loss: 0.1681 - val_accuracy: 0.9474\n",
            "Epoch 19/500\n",
            "5/5 [==============================] - 1s 279ms/step - loss: 0.0188 - accuracy: 0.9935 - val_loss: 0.2074 - val_accuracy: 0.9474\n",
            "Epoch 20/500\n",
            "5/5 [==============================] - 1s 300ms/step - loss: 0.0172 - accuracy: 0.9935 - val_loss: 0.2069 - val_accuracy: 0.9474\n",
            "Epoch 21/500\n",
            "5/5 [==============================] - 2s 459ms/step - loss: 0.0140 - accuracy: 1.0000 - val_loss: 0.1798 - val_accuracy: 0.9474\n",
            "Epoch 22/500\n",
            "5/5 [==============================] - 2s 509ms/step - loss: 0.0128 - accuracy: 1.0000 - val_loss: 0.1906 - val_accuracy: 0.9474\n",
            "Epoch 23/500\n",
            "5/5 [==============================] - 1s 270ms/step - loss: 0.0109 - accuracy: 1.0000 - val_loss: 0.1976 - val_accuracy: 0.9474\n",
            "Epoch 24/500\n",
            "5/5 [==============================] - 1s 276ms/step - loss: 0.0097 - accuracy: 1.0000 - val_loss: 0.2009 - val_accuracy: 0.9474\n",
            "Epoch 25/500\n",
            "5/5 [==============================] - 1s 280ms/step - loss: 0.0089 - accuracy: 1.0000 - val_loss: 0.2239 - val_accuracy: 0.9474\n",
            "Epoch 26/500\n",
            "5/5 [==============================] - 1s 286ms/step - loss: 0.0081 - accuracy: 1.0000 - val_loss: 0.2032 - val_accuracy: 0.9474\n",
            "Epoch 27/500\n",
            "5/5 [==============================] - 2s 305ms/step - loss: 0.0070 - accuracy: 1.0000 - val_loss: 0.2009 - val_accuracy: 0.9474\n",
            "Epoch 28/500\n",
            "5/5 [==============================] - 1s 289ms/step - loss: 0.0063 - accuracy: 1.0000 - val_loss: 0.2091 - val_accuracy: 0.9474\n",
            "Epoch 29/500\n",
            "5/5 [==============================] - 1s 296ms/step - loss: 0.0059 - accuracy: 1.0000 - val_loss: 0.2272 - val_accuracy: 0.9474\n",
            "Epoch 30/500\n",
            "5/5 [==============================] - 2s 506ms/step - loss: 0.0051 - accuracy: 1.0000 - val_loss: 0.2237 - val_accuracy: 0.9474\n",
            "Epoch 31/500\n",
            "5/5 [==============================] - 2s 493ms/step - loss: 0.0046 - accuracy: 1.0000 - val_loss: 0.2188 - val_accuracy: 0.9474\n",
            "Epoch 32/500\n",
            "5/5 [==============================] - 1s 290ms/step - loss: 0.0042 - accuracy: 1.0000 - val_loss: 0.2207 - val_accuracy: 0.9474\n",
            "Epoch 33/500\n",
            "5/5 [==============================] - 1s 267ms/step - loss: 0.0038 - accuracy: 1.0000 - val_loss: 0.2214 - val_accuracy: 0.9474\n",
            "Epoch 34/500\n",
            "5/5 [==============================] - 1s 264ms/step - loss: 0.0038 - accuracy: 1.0000 - val_loss: 0.2379 - val_accuracy: 0.9474\n",
            "Epoch 35/500\n",
            "5/5 [==============================] - 1s 275ms/step - loss: 0.0033 - accuracy: 1.0000 - val_loss: 0.2289 - val_accuracy: 0.9474\n",
            "Epoch 36/500\n",
            "5/5 [==============================] - 1s 298ms/step - loss: 0.0030 - accuracy: 1.0000 - val_loss: 0.2272 - val_accuracy: 0.9474\n",
            "Epoch 37/500\n",
            "5/5 [==============================] - 1s 268ms/step - loss: 0.0029 - accuracy: 1.0000 - val_loss: 0.2275 - val_accuracy: 0.9474\n",
            "Epoch 38/500\n",
            "5/5 [==============================] - 1s 285ms/step - loss: 0.0026 - accuracy: 1.0000 - val_loss: 0.2417 - val_accuracy: 0.9474\n",
            "Epoch 39/500\n",
            "5/5 [==============================] - 2s 486ms/step - loss: 0.0025 - accuracy: 1.0000 - val_loss: 0.2495 - val_accuracy: 0.9474\n",
            "Epoch 40/500\n",
            "5/5 [==============================] - 2s 466ms/step - loss: 0.0023 - accuracy: 1.0000 - val_loss: 0.2424 - val_accuracy: 0.9474\n",
            "Epoch 41/500\n",
            "5/5 [==============================] - 1s 277ms/step - loss: 0.0021 - accuracy: 1.0000 - val_loss: 0.2377 - val_accuracy: 0.9474\n",
            "Epoch 42/500\n",
            "5/5 [==============================] - 1s 279ms/step - loss: 0.0020 - accuracy: 1.0000 - val_loss: 0.2397 - val_accuracy: 0.9474\n",
            "Epoch 43/500\n",
            "5/5 [==============================] - 1s 279ms/step - loss: 0.0019 - accuracy: 1.0000 - val_loss: 0.2436 - val_accuracy: 0.9474\n",
            "Epoch 44/500\n",
            "5/5 [==============================] - 1s 302ms/step - loss: 0.0018 - accuracy: 1.0000 - val_loss: 0.2483 - val_accuracy: 0.9474\n",
            "Epoch 45/500\n",
            "5/5 [==============================] - 1s 291ms/step - loss: 0.0017 - accuracy: 1.0000 - val_loss: 0.2512 - val_accuracy: 0.9474\n",
            "Epoch 46/500\n",
            "5/5 [==============================] - 1s 284ms/step - loss: 0.0016 - accuracy: 1.0000 - val_loss: 0.2512 - val_accuracy: 0.9474\n",
            "Epoch 47/500\n",
            "5/5 [==============================] - 1s 276ms/step - loss: 0.0015 - accuracy: 1.0000 - val_loss: 0.2536 - val_accuracy: 0.9474\n",
            "Epoch 48/500\n",
            "5/5 [==============================] - 2s 495ms/step - loss: 0.0014 - accuracy: 1.0000 - val_loss: 0.2547 - val_accuracy: 0.9474\n",
            "Epoch 49/500\n",
            "5/5 [==============================] - 2s 474ms/step - loss: 0.0014 - accuracy: 1.0000 - val_loss: 0.2547 - val_accuracy: 0.9474\n",
            "Epoch 50/500\n",
            "5/5 [==============================] - 1s 285ms/step - loss: 0.0013 - accuracy: 1.0000 - val_loss: 0.2576 - val_accuracy: 0.9474\n",
            "Epoch 51/500\n",
            "5/5 [==============================] - 2s 420ms/step - loss: 0.0012 - accuracy: 1.0000 - val_loss: 0.2649 - val_accuracy: 0.9474\n",
            "Epoch 52/500\n",
            "5/5 [==============================] - 1s 290ms/step - loss: 0.0012 - accuracy: 1.0000 - val_loss: 0.2681 - val_accuracy: 0.9474\n",
            "Epoch 53/500\n",
            "5/5 [==============================] - 1s 291ms/step - loss: 0.0011 - accuracy: 1.0000 - val_loss: 0.2670 - val_accuracy: 0.9474\n",
            "Epoch 54/500\n",
            "5/5 [==============================] - 1s 285ms/step - loss: 0.0010 - accuracy: 1.0000 - val_loss: 0.2657 - val_accuracy: 0.9474\n",
            "Epoch 55/500\n",
            "5/5 [==============================] - 1s 285ms/step - loss: 0.0010 - accuracy: 1.0000 - val_loss: 0.2599 - val_accuracy: 0.9474\n",
            "Epoch 56/500\n",
            "5/5 [==============================] - 2s 409ms/step - loss: 9.8745e-04 - accuracy: 1.0000 - val_loss: 0.2679 - val_accuracy: 0.9474\n",
            "Epoch 57/500\n",
            "5/5 [==============================] - 2s 445ms/step - loss: 9.2243e-04 - accuracy: 1.0000 - val_loss: 0.2721 - val_accuracy: 0.9474\n",
            "Epoch 58/500\n",
            "5/5 [==============================] - 2s 328ms/step - loss: 8.8320e-04 - accuracy: 1.0000 - val_loss: 0.2745 - val_accuracy: 0.9474\n",
            "Epoch 59/500\n",
            "5/5 [==============================] - 1s 256ms/step - loss: 8.4815e-04 - accuracy: 1.0000 - val_loss: 0.2748 - val_accuracy: 0.9474\n",
            "Epoch 60/500\n",
            "5/5 [==============================] - 1s 268ms/step - loss: 8.1669e-04 - accuracy: 1.0000 - val_loss: 0.2747 - val_accuracy: 0.9474\n",
            "Epoch 61/500\n",
            "5/5 [==============================] - 1s 258ms/step - loss: 7.9197e-04 - accuracy: 1.0000 - val_loss: 0.2757 - val_accuracy: 0.9474\n",
            "Epoch 62/500\n",
            "5/5 [==============================] - 1s 258ms/step - loss: 7.5491e-04 - accuracy: 1.0000 - val_loss: 0.2800 - val_accuracy: 0.9474\n",
            "Epoch 63/500\n",
            "5/5 [==============================] - 1s 267ms/step - loss: 7.2840e-04 - accuracy: 1.0000 - val_loss: 0.2825 - val_accuracy: 0.9474\n",
            "Epoch 64/500\n",
            "5/5 [==============================] - 1s 269ms/step - loss: 7.1010e-04 - accuracy: 1.0000 - val_loss: 0.2849 - val_accuracy: 0.9474\n",
            "Epoch 65/500\n",
            "5/5 [==============================] - 1s 264ms/step - loss: 6.8542e-04 - accuracy: 1.0000 - val_loss: 0.2854 - val_accuracy: 0.9474\n",
            "Epoch 66/500\n",
            "5/5 [==============================] - 2s 478ms/step - loss: 6.5302e-04 - accuracy: 1.0000 - val_loss: 0.2837 - val_accuracy: 0.9474\n",
            "Epoch 67/500\n",
            "5/5 [==============================] - 2s 444ms/step - loss: 6.3246e-04 - accuracy: 1.0000 - val_loss: 0.2829 - val_accuracy: 0.9474\n",
            "Epoch 68/500\n",
            "5/5 [==============================] - 1s 272ms/step - loss: 6.1332e-04 - accuracy: 1.0000 - val_loss: 0.2840 - val_accuracy: 0.9474\n",
            "Epoch 69/500\n",
            "5/5 [==============================] - 1s 262ms/step - loss: 5.9597e-04 - accuracy: 1.0000 - val_loss: 0.2854 - val_accuracy: 0.9474\n",
            "Epoch 70/500\n",
            "5/5 [==============================] - 1s 267ms/step - loss: 5.7914e-04 - accuracy: 1.0000 - val_loss: 0.2870 - val_accuracy: 0.9474\n",
            "Epoch 71/500\n",
            "5/5 [==============================] - 1s 261ms/step - loss: 5.6741e-04 - accuracy: 1.0000 - val_loss: 0.2925 - val_accuracy: 0.9474\n",
            "Epoch 72/500\n",
            "5/5 [==============================] - 1s 268ms/step - loss: 5.4208e-04 - accuracy: 1.0000 - val_loss: 0.2950 - val_accuracy: 0.9474\n",
            "Epoch 73/500\n",
            "5/5 [==============================] - 1s 268ms/step - loss: 5.2581e-04 - accuracy: 1.0000 - val_loss: 0.2959 - val_accuracy: 0.9474\n",
            "Epoch 74/500\n",
            "5/5 [==============================] - 1s 256ms/step - loss: 5.0677e-04 - accuracy: 1.0000 - val_loss: 0.2950 - val_accuracy: 0.9474\n",
            "Epoch 75/500\n",
            "5/5 [==============================] - 1s 287ms/step - loss: 4.9411e-04 - accuracy: 1.0000 - val_loss: 0.2955 - val_accuracy: 0.9474\n",
            "Epoch 76/500\n",
            "5/5 [==============================] - 2s 444ms/step - loss: 4.8016e-04 - accuracy: 1.0000 - val_loss: 0.2956 - val_accuracy: 0.9474\n",
            "Epoch 77/500\n",
            "5/5 [==============================] - 2s 441ms/step - loss: 4.6806e-04 - accuracy: 1.0000 - val_loss: 0.2966 - val_accuracy: 0.9474\n",
            "Epoch 78/500\n",
            "5/5 [==============================] - 1s 263ms/step - loss: 4.5749e-04 - accuracy: 1.0000 - val_loss: 0.3009 - val_accuracy: 0.9474\n",
            "Epoch 79/500\n",
            "5/5 [==============================] - 1s 272ms/step - loss: 4.4190e-04 - accuracy: 1.0000 - val_loss: 0.3029 - val_accuracy: 0.9474\n",
            "Epoch 80/500\n",
            "5/5 [==============================] - 1s 265ms/step - loss: 4.3009e-04 - accuracy: 1.0000 - val_loss: 0.3031 - val_accuracy: 0.9474\n",
            "Epoch 81/500\n",
            "5/5 [==============================] - 1s 262ms/step - loss: 4.1863e-04 - accuracy: 1.0000 - val_loss: 0.3040 - val_accuracy: 0.9474\n",
            "Epoch 82/500\n",
            "5/5 [==============================] - 1s 277ms/step - loss: 4.0721e-04 - accuracy: 1.0000 - val_loss: 0.3043 - val_accuracy: 0.9474\n",
            "Epoch 83/500\n",
            "5/5 [==============================] - 1s 271ms/step - loss: 3.9652e-04 - accuracy: 1.0000 - val_loss: 0.3059 - val_accuracy: 0.9474\n",
            "Epoch 84/500\n",
            "5/5 [==============================] - 1s 271ms/step - loss: 3.8669e-04 - accuracy: 1.0000 - val_loss: 0.3077 - val_accuracy: 0.9474\n",
            "Epoch 85/500\n",
            "5/5 [==============================] - 2s 407ms/step - loss: 3.7855e-04 - accuracy: 1.0000 - val_loss: 0.3093 - val_accuracy: 0.9474\n",
            "Epoch 86/500\n",
            "5/5 [==============================] - 2s 472ms/step - loss: 3.6583e-04 - accuracy: 1.0000 - val_loss: 0.3095 - val_accuracy: 0.9474\n",
            "Epoch 87/500\n",
            "5/5 [==============================] - 2s 300ms/step - loss: 3.5908e-04 - accuracy: 1.0000 - val_loss: 0.3101 - val_accuracy: 0.9474\n",
            "Epoch 88/500\n",
            "5/5 [==============================] - 1s 255ms/step - loss: 3.4954e-04 - accuracy: 1.0000 - val_loss: 0.3109 - val_accuracy: 0.9474\n",
            "Epoch 89/500\n",
            "5/5 [==============================] - 1s 260ms/step - loss: 3.4012e-04 - accuracy: 1.0000 - val_loss: 0.3127 - val_accuracy: 0.9474\n",
            "Epoch 90/500\n",
            "5/5 [==============================] - 1s 260ms/step - loss: 3.3407e-04 - accuracy: 1.0000 - val_loss: 0.3135 - val_accuracy: 0.9474\n",
            "Epoch 91/500\n",
            "5/5 [==============================] - 1s 260ms/step - loss: 3.2503e-04 - accuracy: 1.0000 - val_loss: 0.3164 - val_accuracy: 0.9474\n",
            "Epoch 92/500\n",
            "5/5 [==============================] - 1s 258ms/step - loss: 3.1694e-04 - accuracy: 1.0000 - val_loss: 0.3183 - val_accuracy: 0.9474\n",
            "Epoch 93/500\n",
            "5/5 [==============================] - 1s 272ms/step - loss: 3.1290e-04 - accuracy: 1.0000 - val_loss: 0.3208 - val_accuracy: 0.9474\n",
            "Epoch 94/500\n",
            "5/5 [==============================] - 1s 268ms/step - loss: 3.0325e-04 - accuracy: 1.0000 - val_loss: 0.3193 - val_accuracy: 0.9474\n",
            "Epoch 95/500\n",
            "5/5 [==============================] - 2s 433ms/step - loss: 2.9700e-04 - accuracy: 1.0000 - val_loss: 0.3184 - val_accuracy: 0.9474\n",
            "Epoch 96/500\n",
            "5/5 [==============================] - 2s 444ms/step - loss: 2.8914e-04 - accuracy: 1.0000 - val_loss: 0.3204 - val_accuracy: 0.9474\n",
            "Epoch 97/500\n",
            "5/5 [==============================] - 2s 277ms/step - loss: 2.8330e-04 - accuracy: 1.0000 - val_loss: 0.3210 - val_accuracy: 0.9474\n",
            "Epoch 98/500\n",
            "5/5 [==============================] - 2s 336ms/step - loss: 2.7812e-04 - accuracy: 1.0000 - val_loss: 0.3242 - val_accuracy: 0.9474\n",
            "Epoch 99/500\n",
            "5/5 [==============================] - 2s 456ms/step - loss: 2.7107e-04 - accuracy: 1.0000 - val_loss: 0.3241 - val_accuracy: 0.9474\n",
            "Epoch 100/500\n",
            "5/5 [==============================] - 2s 366ms/step - loss: 2.6434e-04 - accuracy: 1.0000 - val_loss: 0.3249 - val_accuracy: 0.9474\n",
            "Epoch 101/500\n",
            "5/5 [==============================] - 1s 255ms/step - loss: 2.5915e-04 - accuracy: 1.0000 - val_loss: 0.3260 - val_accuracy: 0.9474\n",
            "Epoch 102/500\n",
            "5/5 [==============================] - 1s 250ms/step - loss: 2.5388e-04 - accuracy: 1.0000 - val_loss: 0.3272 - val_accuracy: 0.9474\n",
            "Epoch 103/500\n",
            "5/5 [==============================] - 2s 356ms/step - loss: 2.4897e-04 - accuracy: 1.0000 - val_loss: 0.3269 - val_accuracy: 0.9474\n",
            "Epoch 104/500\n",
            "5/5 [==============================] - 2s 465ms/step - loss: 2.4388e-04 - accuracy: 1.0000 - val_loss: 0.3284 - val_accuracy: 0.9474\n",
            "Epoch 105/500\n",
            "5/5 [==============================] - 2s 352ms/step - loss: 2.3867e-04 - accuracy: 1.0000 - val_loss: 0.3299 - val_accuracy: 0.9474\n",
            "Epoch 106/500\n",
            "5/5 [==============================] - 1s 253ms/step - loss: 2.3355e-04 - accuracy: 1.0000 - val_loss: 0.3317 - val_accuracy: 0.9474\n",
            "Epoch 107/500\n",
            "5/5 [==============================] - 1s 253ms/step - loss: 2.2930e-04 - accuracy: 1.0000 - val_loss: 0.3324 - val_accuracy: 0.9474\n",
            "Epoch 108/500\n",
            "5/5 [==============================] - 1s 255ms/step - loss: 2.2569e-04 - accuracy: 1.0000 - val_loss: 0.3331 - val_accuracy: 0.9474\n",
            "Epoch 109/500\n",
            "5/5 [==============================] - 1s 252ms/step - loss: 2.2072e-04 - accuracy: 1.0000 - val_loss: 0.3335 - val_accuracy: 0.9474\n",
            "Epoch 110/500\n",
            "5/5 [==============================] - 1s 250ms/step - loss: 2.1565e-04 - accuracy: 1.0000 - val_loss: 0.3339 - val_accuracy: 0.9474\n",
            "Epoch 111/500\n",
            "5/5 [==============================] - 1s 252ms/step - loss: 2.1233e-04 - accuracy: 1.0000 - val_loss: 0.3338 - val_accuracy: 0.9474\n",
            "Epoch 112/500\n",
            "5/5 [==============================] - 1s 254ms/step - loss: 2.0819e-04 - accuracy: 1.0000 - val_loss: 0.3350 - val_accuracy: 0.9474\n",
            "Epoch 113/500\n",
            "5/5 [==============================] - 2s 335ms/step - loss: 2.0396e-04 - accuracy: 1.0000 - val_loss: 0.3360 - val_accuracy: 0.9474\n",
            "Epoch 114/500\n",
            "5/5 [==============================] - 2s 453ms/step - loss: 2.0211e-04 - accuracy: 1.0000 - val_loss: 0.3389 - val_accuracy: 0.9474\n",
            "Epoch 115/500\n",
            "5/5 [==============================] - 2s 367ms/step - loss: 1.9710e-04 - accuracy: 1.0000 - val_loss: 0.3391 - val_accuracy: 0.9474\n",
            "Epoch 116/500\n",
            "5/5 [==============================] - 1s 253ms/step - loss: 1.9305e-04 - accuracy: 1.0000 - val_loss: 0.3395 - val_accuracy: 0.9474\n",
            "Epoch 117/500\n",
            "5/5 [==============================] - 1s 251ms/step - loss: 1.9002e-04 - accuracy: 1.0000 - val_loss: 0.3398 - val_accuracy: 0.9474\n",
            "Epoch 118/500\n",
            "5/5 [==============================] - 1s 253ms/step - loss: 1.8715e-04 - accuracy: 1.0000 - val_loss: 0.3413 - val_accuracy: 0.9474\n",
            "Epoch 119/500\n",
            "5/5 [==============================] - 1s 253ms/step - loss: 1.8396e-04 - accuracy: 1.0000 - val_loss: 0.3422 - val_accuracy: 0.9474\n",
            "Epoch 120/500\n",
            "5/5 [==============================] - 1s 246ms/step - loss: 1.7970e-04 - accuracy: 1.0000 - val_loss: 0.3427 - val_accuracy: 0.9474\n",
            "Epoch 121/500\n",
            "5/5 [==============================] - 2s 378ms/step - loss: 1.7759e-04 - accuracy: 1.0000 - val_loss: 0.3422 - val_accuracy: 0.9474\n",
            "Epoch 122/500\n",
            "5/5 [==============================] - 1s 251ms/step - loss: 1.7563e-04 - accuracy: 1.0000 - val_loss: 0.3447 - val_accuracy: 0.9474\n",
            "Epoch 123/500\n",
            "5/5 [==============================] - 2s 390ms/step - loss: 1.7091e-04 - accuracy: 1.0000 - val_loss: 0.3445 - val_accuracy: 0.9474\n",
            "Epoch 124/500\n",
            "5/5 [==============================] - 2s 468ms/step - loss: 1.6837e-04 - accuracy: 1.0000 - val_loss: 0.3451 - val_accuracy: 0.9474\n",
            "Epoch 125/500\n",
            "5/5 [==============================] - 2s 306ms/step - loss: 1.6574e-04 - accuracy: 1.0000 - val_loss: 0.3468 - val_accuracy: 0.9474\n",
            "Epoch 126/500\n",
            "5/5 [==============================] - 1s 264ms/step - loss: 1.6210e-04 - accuracy: 1.0000 - val_loss: 0.3473 - val_accuracy: 0.9474\n",
            "Epoch 127/500\n",
            "5/5 [==============================] - 1s 258ms/step - loss: 1.5939e-04 - accuracy: 1.0000 - val_loss: 0.3479 - val_accuracy: 0.9474\n",
            "Epoch 128/500\n",
            "5/5 [==============================] - 1s 258ms/step - loss: 1.5708e-04 - accuracy: 1.0000 - val_loss: 0.3492 - val_accuracy: 0.9474\n",
            "Epoch 129/500\n",
            "5/5 [==============================] - 1s 254ms/step - loss: 1.5456e-04 - accuracy: 1.0000 - val_loss: 0.3489 - val_accuracy: 0.9474\n",
            "Epoch 130/500\n",
            "5/5 [==============================] - 1s 255ms/step - loss: 1.5206e-04 - accuracy: 1.0000 - val_loss: 0.3492 - val_accuracy: 0.9474\n",
            "Epoch 131/500\n",
            "5/5 [==============================] - 1s 256ms/step - loss: 1.4975e-04 - accuracy: 1.0000 - val_loss: 0.3502 - val_accuracy: 0.9474\n",
            "Epoch 132/500\n",
            "5/5 [==============================] - 1s 261ms/step - loss: 1.4749e-04 - accuracy: 1.0000 - val_loss: 0.3510 - val_accuracy: 0.9474\n",
            "Epoch 133/500\n",
            "5/5 [==============================] - 3s 554ms/step - loss: 1.4485e-04 - accuracy: 1.0000 - val_loss: 0.3527 - val_accuracy: 0.9474\n",
            "Epoch 134/500\n",
            "5/5 [==============================] - 2s 435ms/step - loss: 1.4266e-04 - accuracy: 1.0000 - val_loss: 0.3543 - val_accuracy: 0.9474\n",
            "Epoch 135/500\n",
            "5/5 [==============================] - 1s 255ms/step - loss: 1.4092e-04 - accuracy: 1.0000 - val_loss: 0.3550 - val_accuracy: 0.9474\n",
            "Epoch 136/500\n",
            "5/5 [==============================] - 1s 254ms/step - loss: 1.3840e-04 - accuracy: 1.0000 - val_loss: 0.3556 - val_accuracy: 0.9474\n",
            "Epoch 137/500\n",
            "5/5 [==============================] - 1s 259ms/step - loss: 1.3632e-04 - accuracy: 1.0000 - val_loss: 0.3560 - val_accuracy: 0.9474\n",
            "Epoch 138/500\n",
            "5/5 [==============================] - 1s 257ms/step - loss: 1.3410e-04 - accuracy: 1.0000 - val_loss: 0.3559 - val_accuracy: 0.9474\n",
            "Epoch 139/500\n",
            "5/5 [==============================] - 1s 257ms/step - loss: 1.3254e-04 - accuracy: 1.0000 - val_loss: 0.3552 - val_accuracy: 0.9474\n",
            "Epoch 140/500\n",
            "5/5 [==============================] - 1s 265ms/step - loss: 1.3049e-04 - accuracy: 1.0000 - val_loss: 0.3566 - val_accuracy: 0.9474\n",
            "Epoch 141/500\n",
            "5/5 [==============================] - 1s 247ms/step - loss: 1.2872e-04 - accuracy: 1.0000 - val_loss: 0.3569 - val_accuracy: 0.9474\n",
            "Epoch 142/500\n",
            "5/5 [==============================] - 1s 291ms/step - loss: 1.2708e-04 - accuracy: 1.0000 - val_loss: 0.3592 - val_accuracy: 0.9474\n",
            "Epoch 143/500\n",
            "5/5 [==============================] - 2s 440ms/step - loss: 1.2437e-04 - accuracy: 1.0000 - val_loss: 0.3605 - val_accuracy: 0.9474\n",
            "Epoch 144/500\n",
            "5/5 [==============================] - 2s 444ms/step - loss: 1.2308e-04 - accuracy: 1.0000 - val_loss: 0.3614 - val_accuracy: 0.9474\n",
            "Epoch 145/500\n",
            "5/5 [==============================] - 1s 293ms/step - loss: 1.2103e-04 - accuracy: 1.0000 - val_loss: 0.3613 - val_accuracy: 0.9474\n",
            "Epoch 146/500\n",
            "5/5 [==============================] - 1s 272ms/step - loss: 1.1937e-04 - accuracy: 1.0000 - val_loss: 0.3620 - val_accuracy: 0.9474\n",
            "Epoch 147/500\n",
            "5/5 [==============================] - 1s 283ms/step - loss: 1.1761e-04 - accuracy: 1.0000 - val_loss: 0.3619 - val_accuracy: 0.9474\n",
            "Epoch 148/500\n",
            "5/5 [==============================] - 1s 269ms/step - loss: 1.1599e-04 - accuracy: 1.0000 - val_loss: 0.3620 - val_accuracy: 0.9474\n",
            "Epoch 149/500\n",
            "5/5 [==============================] - 1s 255ms/step - loss: 1.1531e-04 - accuracy: 1.0000 - val_loss: 0.3636 - val_accuracy: 0.9474\n",
            "Epoch 150/500\n",
            "5/5 [==============================] - 1s 259ms/step - loss: 1.1322e-04 - accuracy: 1.0000 - val_loss: 0.3650 - val_accuracy: 0.9474\n",
            "Epoch 151/500\n",
            "5/5 [==============================] - 1s 252ms/step - loss: 1.1096e-04 - accuracy: 1.0000 - val_loss: 0.3647 - val_accuracy: 0.9474\n",
            "Epoch 152/500\n",
            "5/5 [==============================] - 2s 412ms/step - loss: 1.0973e-04 - accuracy: 1.0000 - val_loss: 0.3647 - val_accuracy: 0.9474\n",
            "Epoch 153/500\n",
            "5/5 [==============================] - 2s 445ms/step - loss: 1.0827e-04 - accuracy: 1.0000 - val_loss: 0.3641 - val_accuracy: 0.9474\n",
            "Epoch 154/500\n",
            "5/5 [==============================] - 2s 302ms/step - loss: 1.0684e-04 - accuracy: 1.0000 - val_loss: 0.3647 - val_accuracy: 0.9474\n",
            "Epoch 155/500\n",
            "5/5 [==============================] - 1s 250ms/step - loss: 1.0552e-04 - accuracy: 1.0000 - val_loss: 0.3659 - val_accuracy: 0.9474\n",
            "Epoch 156/500\n",
            "5/5 [==============================] - 1s 251ms/step - loss: 1.0387e-04 - accuracy: 1.0000 - val_loss: 0.3664 - val_accuracy: 0.9474\n",
            "Epoch 157/500\n",
            "5/5 [==============================] - 1s 249ms/step - loss: 1.0258e-04 - accuracy: 1.0000 - val_loss: 0.3668 - val_accuracy: 0.9474\n",
            "Epoch 158/500\n",
            "5/5 [==============================] - 1s 256ms/step - loss: 1.0171e-04 - accuracy: 1.0000 - val_loss: 0.3669 - val_accuracy: 0.9474\n",
            "Epoch 159/500\n",
            "5/5 [==============================] - 1s 257ms/step - loss: 9.9916e-05 - accuracy: 1.0000 - val_loss: 0.3687 - val_accuracy: 0.9474\n",
            "Epoch 160/500\n",
            "5/5 [==============================] - 1s 249ms/step - loss: 9.9109e-05 - accuracy: 1.0000 - val_loss: 0.3705 - val_accuracy: 0.9474\n",
            "Epoch 161/500\n",
            "5/5 [==============================] - 1s 255ms/step - loss: 9.7346e-05 - accuracy: 1.0000 - val_loss: 0.3707 - val_accuracy: 0.9474\n",
            "Epoch 162/500\n",
            "5/5 [==============================] - 2s 390ms/step - loss: 9.6133e-05 - accuracy: 1.0000 - val_loss: 0.3708 - val_accuracy: 0.9474\n",
            "Epoch 163/500\n",
            "5/5 [==============================] - 2s 453ms/step - loss: 9.4830e-05 - accuracy: 1.0000 - val_loss: 0.3715 - val_accuracy: 0.9474\n",
            "Epoch 164/500\n",
            "5/5 [==============================] - 2s 319ms/step - loss: 9.3521e-05 - accuracy: 1.0000 - val_loss: 0.3717 - val_accuracy: 0.9474\n",
            "Epoch 165/500\n",
            "5/5 [==============================] - 1s 249ms/step - loss: 9.2709e-05 - accuracy: 1.0000 - val_loss: 0.3713 - val_accuracy: 0.9474\n",
            "Epoch 166/500\n",
            "5/5 [==============================] - 1s 254ms/step - loss: 9.1400e-05 - accuracy: 1.0000 - val_loss: 0.3729 - val_accuracy: 0.9474\n",
            "Epoch 167/500\n",
            "5/5 [==============================] - 1s 246ms/step - loss: 9.0158e-05 - accuracy: 1.0000 - val_loss: 0.3736 - val_accuracy: 0.9474\n",
            "Epoch 168/500\n",
            "5/5 [==============================] - 1s 244ms/step - loss: 8.9712e-05 - accuracy: 1.0000 - val_loss: 0.3755 - val_accuracy: 0.9474\n",
            "Epoch 169/500\n",
            "5/5 [==============================] - 1s 251ms/step - loss: 8.7745e-05 - accuracy: 1.0000 - val_loss: 0.3753 - val_accuracy: 0.9474\n",
            "Epoch 170/500\n",
            "5/5 [==============================] - 1s 251ms/step - loss: 8.6940e-05 - accuracy: 1.0000 - val_loss: 0.3756 - val_accuracy: 0.9474\n",
            "Epoch 171/500\n",
            "5/5 [==============================] - 1s 252ms/step - loss: 8.6024e-05 - accuracy: 1.0000 - val_loss: 0.3750 - val_accuracy: 0.9474\n",
            "Epoch 172/500\n",
            "5/5 [==============================] - 2s 357ms/step - loss: 8.4718e-05 - accuracy: 1.0000 - val_loss: 0.3750 - val_accuracy: 0.9474\n",
            "Epoch 173/500\n",
            "5/5 [==============================] - 2s 467ms/step - loss: 8.3963e-05 - accuracy: 1.0000 - val_loss: 0.3764 - val_accuracy: 0.9474\n",
            "Epoch 174/500\n",
            "5/5 [==============================] - 2s 336ms/step - loss: 8.2670e-05 - accuracy: 1.0000 - val_loss: 0.3768 - val_accuracy: 0.9474\n",
            "Epoch 175/500\n",
            "5/5 [==============================] - 1s 258ms/step - loss: 8.1751e-05 - accuracy: 1.0000 - val_loss: 0.3778 - val_accuracy: 0.9474\n",
            "Epoch 176/500\n",
            "5/5 [==============================] - 1s 262ms/step - loss: 8.0752e-05 - accuracy: 1.0000 - val_loss: 0.3788 - val_accuracy: 0.9474\n",
            "Epoch 177/500\n",
            "5/5 [==============================] - 1s 249ms/step - loss: 7.9875e-05 - accuracy: 1.0000 - val_loss: 0.3788 - val_accuracy: 0.9474\n",
            "Epoch 178/500\n",
            "5/5 [==============================] - 1s 250ms/step - loss: 7.8881e-05 - accuracy: 1.0000 - val_loss: 0.3794 - val_accuracy: 0.9474\n",
            "Epoch 179/500\n",
            "5/5 [==============================] - 1s 252ms/step - loss: 7.8013e-05 - accuracy: 1.0000 - val_loss: 0.3802 - val_accuracy: 0.9474\n",
            "Epoch 180/500\n",
            "5/5 [==============================] - 1s 256ms/step - loss: 7.7186e-05 - accuracy: 1.0000 - val_loss: 0.3812 - val_accuracy: 0.9474\n",
            "Epoch 181/500\n",
            "5/5 [==============================] - 1s 244ms/step - loss: 7.6289e-05 - accuracy: 1.0000 - val_loss: 0.3811 - val_accuracy: 0.9474\n",
            "Epoch 182/500\n",
            "5/5 [==============================] - 2s 357ms/step - loss: 7.5804e-05 - accuracy: 1.0000 - val_loss: 0.3808 - val_accuracy: 0.9474\n",
            "Epoch 183/500\n",
            "5/5 [==============================] - 2s 433ms/step - loss: 7.4442e-05 - accuracy: 1.0000 - val_loss: 0.3815 - val_accuracy: 0.9474\n",
            "Epoch 184/500\n",
            "5/5 [==============================] - 2s 381ms/step - loss: 7.3529e-05 - accuracy: 1.0000 - val_loss: 0.3824 - val_accuracy: 0.9474\n",
            "Epoch 185/500\n",
            "5/5 [==============================] - 1s 263ms/step - loss: 7.2761e-05 - accuracy: 1.0000 - val_loss: 0.3829 - val_accuracy: 0.9474\n",
            "Epoch 186/500\n",
            "5/5 [==============================] - 1s 259ms/step - loss: 7.1999e-05 - accuracy: 1.0000 - val_loss: 0.3835 - val_accuracy: 0.9474\n",
            "Epoch 187/500\n",
            "5/5 [==============================] - 1s 264ms/step - loss: 7.1081e-05 - accuracy: 1.0000 - val_loss: 0.3835 - val_accuracy: 0.9474\n",
            "Epoch 188/500\n",
            "5/5 [==============================] - 1s 254ms/step - loss: 7.0456e-05 - accuracy: 1.0000 - val_loss: 0.3842 - val_accuracy: 0.9474\n",
            "Epoch 189/500\n",
            "5/5 [==============================] - 1s 264ms/step - loss: 6.9734e-05 - accuracy: 1.0000 - val_loss: 0.3838 - val_accuracy: 0.9474\n",
            "Epoch 190/500\n",
            "5/5 [==============================] - 1s 256ms/step - loss: 6.8777e-05 - accuracy: 1.0000 - val_loss: 0.3842 - val_accuracy: 0.9474\n",
            "Epoch 191/500\n",
            "5/5 [==============================] - 1s 257ms/step - loss: 6.8192e-05 - accuracy: 1.0000 - val_loss: 0.3854 - val_accuracy: 0.9474\n",
            "Epoch 192/500\n",
            "5/5 [==============================] - 2s 393ms/step - loss: 6.7310e-05 - accuracy: 1.0000 - val_loss: 0.3854 - val_accuracy: 0.9474\n",
            "Epoch 193/500\n",
            "5/5 [==============================] - 2s 471ms/step - loss: 6.6623e-05 - accuracy: 1.0000 - val_loss: 0.3862 - val_accuracy: 0.9474\n",
            "Epoch 194/500\n",
            "5/5 [==============================] - 2s 322ms/step - loss: 6.5750e-05 - accuracy: 1.0000 - val_loss: 0.3871 - val_accuracy: 0.9474\n",
            "Epoch 195/500\n",
            "5/5 [==============================] - 1s 263ms/step - loss: 6.5059e-05 - accuracy: 1.0000 - val_loss: 0.3876 - val_accuracy: 0.9474\n",
            "Epoch 196/500\n",
            "5/5 [==============================] - 1s 258ms/step - loss: 6.4388e-05 - accuracy: 1.0000 - val_loss: 0.3884 - val_accuracy: 0.9474\n",
            "Epoch 197/500\n",
            "5/5 [==============================] - 1s 256ms/step - loss: 6.3645e-05 - accuracy: 1.0000 - val_loss: 0.3892 - val_accuracy: 0.9474\n",
            "Epoch 198/500\n",
            "5/5 [==============================] - 1s 271ms/step - loss: 6.3049e-05 - accuracy: 1.0000 - val_loss: 0.3898 - val_accuracy: 0.9474\n",
            "Epoch 199/500\n",
            "5/5 [==============================] - 1s 260ms/step - loss: 6.2391e-05 - accuracy: 1.0000 - val_loss: 0.3907 - val_accuracy: 0.9474\n",
            "Epoch 200/500\n",
            "5/5 [==============================] - 1s 251ms/step - loss: 6.1696e-05 - accuracy: 1.0000 - val_loss: 0.3909 - val_accuracy: 0.9474\n",
            "Epoch 201/500\n",
            "5/5 [==============================] - 1s 257ms/step - loss: 6.1006e-05 - accuracy: 1.0000 - val_loss: 0.3916 - val_accuracy: 0.9474\n",
            "Epoch 202/500\n",
            "5/5 [==============================] - 2s 455ms/step - loss: 6.0371e-05 - accuracy: 1.0000 - val_loss: 0.3918 - val_accuracy: 0.9474\n",
            "Epoch 203/500\n",
            "5/5 [==============================] - 2s 476ms/step - loss: 5.9848e-05 - accuracy: 1.0000 - val_loss: 0.3926 - val_accuracy: 0.9474\n",
            "Epoch 204/500\n",
            "5/5 [==============================] - 1s 253ms/step - loss: 5.9202e-05 - accuracy: 1.0000 - val_loss: 0.3922 - val_accuracy: 0.9474\n",
            "Epoch 205/500\n",
            "5/5 [==============================] - 1s 254ms/step - loss: 5.8661e-05 - accuracy: 1.0000 - val_loss: 0.3929 - val_accuracy: 0.9474\n",
            "Epoch 206/500\n",
            "5/5 [==============================] - 1s 262ms/step - loss: 5.7890e-05 - accuracy: 1.0000 - val_loss: 0.3933 - val_accuracy: 0.9474\n",
            "Epoch 207/500\n",
            "5/5 [==============================] - 1s 256ms/step - loss: 5.7318e-05 - accuracy: 1.0000 - val_loss: 0.3937 - val_accuracy: 0.9474\n",
            "Epoch 208/500\n",
            "5/5 [==============================] - 1s 266ms/step - loss: 5.6922e-05 - accuracy: 1.0000 - val_loss: 0.3934 - val_accuracy: 0.9474\n",
            "Epoch 209/500\n",
            "5/5 [==============================] - 1s 252ms/step - loss: 5.6146e-05 - accuracy: 1.0000 - val_loss: 0.3941 - val_accuracy: 0.9474\n",
            "Epoch 210/500\n",
            "5/5 [==============================] - 1s 266ms/step - loss: 5.5541e-05 - accuracy: 1.0000 - val_loss: 0.3947 - val_accuracy: 0.9474\n",
            "Epoch 211/500\n",
            "5/5 [==============================] - 1s 278ms/step - loss: 5.5054e-05 - accuracy: 1.0000 - val_loss: 0.3959 - val_accuracy: 0.9474\n",
            "Epoch 212/500\n",
            "5/5 [==============================] - 2s 458ms/step - loss: 5.4714e-05 - accuracy: 1.0000 - val_loss: 0.3971 - val_accuracy: 0.9474\n",
            "Epoch 213/500\n",
            "5/5 [==============================] - 2s 438ms/step - loss: 5.3971e-05 - accuracy: 1.0000 - val_loss: 0.3978 - val_accuracy: 0.9474\n",
            "Epoch 214/500\n",
            "5/5 [==============================] - 1s 264ms/step - loss: 5.3647e-05 - accuracy: 1.0000 - val_loss: 0.3987 - val_accuracy: 0.9474\n",
            "Epoch 215/500\n",
            "5/5 [==============================] - 1s 252ms/step - loss: 5.2951e-05 - accuracy: 1.0000 - val_loss: 0.3989 - val_accuracy: 0.9474\n",
            "Epoch 216/500\n",
            "5/5 [==============================] - 1s 263ms/step - loss: 5.2405e-05 - accuracy: 1.0000 - val_loss: 0.3989 - val_accuracy: 0.9474\n",
            "Epoch 217/500\n",
            "5/5 [==============================] - 1s 245ms/step - loss: 5.1928e-05 - accuracy: 1.0000 - val_loss: 0.3988 - val_accuracy: 0.9474\n",
            "Epoch 218/500\n",
            "5/5 [==============================] - 1s 251ms/step - loss: 5.1481e-05 - accuracy: 1.0000 - val_loss: 0.3992 - val_accuracy: 0.9474\n",
            "Epoch 219/500\n",
            "5/5 [==============================] - 1s 254ms/step - loss: 5.0977e-05 - accuracy: 1.0000 - val_loss: 0.3999 - val_accuracy: 0.9474\n",
            "Epoch 220/500\n",
            "5/5 [==============================] - 1s 251ms/step - loss: 5.0392e-05 - accuracy: 1.0000 - val_loss: 0.3997 - val_accuracy: 0.9474\n",
            "Epoch 221/500\n",
            "5/5 [==============================] - 1s 277ms/step - loss: 4.9994e-05 - accuracy: 1.0000 - val_loss: 0.4003 - val_accuracy: 0.9474\n",
            "Epoch 222/500\n",
            "5/5 [==============================] - 2s 475ms/step - loss: 4.9483e-05 - accuracy: 1.0000 - val_loss: 0.4008 - val_accuracy: 0.9474\n",
            "Epoch 223/500\n",
            "5/5 [==============================] - 2s 422ms/step - loss: 4.9054e-05 - accuracy: 1.0000 - val_loss: 0.4007 - val_accuracy: 0.9474\n",
            "Epoch 224/500\n",
            "5/5 [==============================] - 1s 259ms/step - loss: 4.8537e-05 - accuracy: 1.0000 - val_loss: 0.4008 - val_accuracy: 0.8947\n",
            "Epoch 225/500\n",
            "5/5 [==============================] - 1s 259ms/step - loss: 4.8090e-05 - accuracy: 1.0000 - val_loss: 0.4012 - val_accuracy: 0.8947\n",
            "Epoch 226/500\n",
            "5/5 [==============================] - 1s 253ms/step - loss: 4.7594e-05 - accuracy: 1.0000 - val_loss: 0.4013 - val_accuracy: 0.8947\n",
            "Epoch 227/500\n",
            "5/5 [==============================] - 1s 253ms/step - loss: 4.7336e-05 - accuracy: 1.0000 - val_loss: 0.4012 - val_accuracy: 0.8947\n",
            "Epoch 228/500\n",
            "5/5 [==============================] - 1s 248ms/step - loss: 4.6772e-05 - accuracy: 1.0000 - val_loss: 0.4018 - val_accuracy: 0.8947\n",
            "Epoch 229/500\n",
            "5/5 [==============================] - 1s 266ms/step - loss: 4.6346e-05 - accuracy: 1.0000 - val_loss: 0.4030 - val_accuracy: 0.9474\n",
            "Epoch 230/500\n",
            "5/5 [==============================] - 1s 255ms/step - loss: 4.5984e-05 - accuracy: 1.0000 - val_loss: 0.4037 - val_accuracy: 0.9474\n",
            "Epoch 231/500\n",
            "5/5 [==============================] - 1s 281ms/step - loss: 4.5499e-05 - accuracy: 1.0000 - val_loss: 0.4042 - val_accuracy: 0.9474\n",
            "Epoch 232/500\n",
            "5/5 [==============================] - 2s 450ms/step - loss: 4.5092e-05 - accuracy: 1.0000 - val_loss: 0.4045 - val_accuracy: 0.9474\n",
            "Epoch 233/500\n",
            "5/5 [==============================] - 2s 436ms/step - loss: 4.4679e-05 - accuracy: 1.0000 - val_loss: 0.4053 - val_accuracy: 0.9474\n",
            "Epoch 234/500\n",
            "5/5 [==============================] - 1s 267ms/step - loss: 4.4355e-05 - accuracy: 1.0000 - val_loss: 0.4060 - val_accuracy: 0.9474\n",
            "Epoch 235/500\n",
            "5/5 [==============================] - 1s 259ms/step - loss: 4.3990e-05 - accuracy: 1.0000 - val_loss: 0.4058 - val_accuracy: 0.9474\n",
            "Epoch 236/500\n",
            "5/5 [==============================] - 1s 257ms/step - loss: 4.3519e-05 - accuracy: 1.0000 - val_loss: 0.4065 - val_accuracy: 0.9474\n",
            "Epoch 237/500\n",
            "5/5 [==============================] - 1s 259ms/step - loss: 4.3125e-05 - accuracy: 1.0000 - val_loss: 0.4071 - val_accuracy: 0.9474\n",
            "Epoch 238/500\n",
            "5/5 [==============================] - 1s 263ms/step - loss: 4.2821e-05 - accuracy: 1.0000 - val_loss: 0.4079 - val_accuracy: 0.9474\n",
            "Epoch 239/500\n",
            "5/5 [==============================] - 1s 248ms/step - loss: 4.2503e-05 - accuracy: 1.0000 - val_loss: 0.4077 - val_accuracy: 0.8947\n",
            "Epoch 240/500\n",
            "5/5 [==============================] - 1s 262ms/step - loss: 4.2117e-05 - accuracy: 1.0000 - val_loss: 0.4082 - val_accuracy: 0.9474\n",
            "Epoch 241/500\n",
            "5/5 [==============================] - 2s 324ms/step - loss: 4.1675e-05 - accuracy: 1.0000 - val_loss: 0.4086 - val_accuracy: 0.8947\n",
            "Epoch 242/500\n",
            "5/5 [==============================] - 2s 455ms/step - loss: 4.1316e-05 - accuracy: 1.0000 - val_loss: 0.4084 - val_accuracy: 0.8947\n",
            "Epoch 243/500\n",
            "5/5 [==============================] - 2s 387ms/step - loss: 4.0976e-05 - accuracy: 1.0000 - val_loss: 0.4082 - val_accuracy: 0.8947\n",
            "Epoch 244/500\n",
            "5/5 [==============================] - 1s 255ms/step - loss: 4.0634e-05 - accuracy: 1.0000 - val_loss: 0.4090 - val_accuracy: 0.8947\n",
            "Epoch 245/500\n",
            "5/5 [==============================] - 1s 250ms/step - loss: 4.0249e-05 - accuracy: 1.0000 - val_loss: 0.4095 - val_accuracy: 0.8947\n",
            "Epoch 246/500\n",
            "5/5 [==============================] - 1s 254ms/step - loss: 3.9933e-05 - accuracy: 1.0000 - val_loss: 0.4095 - val_accuracy: 0.8947\n",
            "Epoch 247/500\n",
            "5/5 [==============================] - 1s 261ms/step - loss: 3.9621e-05 - accuracy: 1.0000 - val_loss: 0.4096 - val_accuracy: 0.8947\n",
            "Epoch 248/500\n",
            "5/5 [==============================] - 1s 260ms/step - loss: 3.9219e-05 - accuracy: 1.0000 - val_loss: 0.4100 - val_accuracy: 0.8947\n",
            "Epoch 249/500\n",
            "5/5 [==============================] - 1s 259ms/step - loss: 3.8927e-05 - accuracy: 1.0000 - val_loss: 0.4105 - val_accuracy: 0.8947\n",
            "Epoch 250/500\n",
            "5/5 [==============================] - 1s 254ms/step - loss: 3.8636e-05 - accuracy: 1.0000 - val_loss: 0.4108 - val_accuracy: 0.8947\n",
            "Epoch 251/500\n",
            "5/5 [==============================] - 2s 348ms/step - loss: 3.8202e-05 - accuracy: 1.0000 - val_loss: 0.4115 - val_accuracy: 0.8947\n",
            "Epoch 252/500\n",
            "5/5 [==============================] - 2s 436ms/step - loss: 3.7951e-05 - accuracy: 1.0000 - val_loss: 0.4120 - val_accuracy: 0.8947\n",
            "Epoch 253/500\n",
            "5/5 [==============================] - 2s 374ms/step - loss: 3.7677e-05 - accuracy: 1.0000 - val_loss: 0.4131 - val_accuracy: 0.9474\n",
            "Epoch 254/500\n",
            "5/5 [==============================] - 1s 257ms/step - loss: 3.7323e-05 - accuracy: 1.0000 - val_loss: 0.4134 - val_accuracy: 0.8947\n",
            "Epoch 255/500\n",
            "5/5 [==============================] - 1s 249ms/step - loss: 3.7024e-05 - accuracy: 1.0000 - val_loss: 0.4136 - val_accuracy: 0.8947\n",
            "Epoch 256/500\n",
            "5/5 [==============================] - 1s 250ms/step - loss: 3.6692e-05 - accuracy: 1.0000 - val_loss: 0.4139 - val_accuracy: 0.8947\n",
            "Epoch 257/500\n",
            "5/5 [==============================] - 1s 252ms/step - loss: 3.6444e-05 - accuracy: 1.0000 - val_loss: 0.4144 - val_accuracy: 0.8947\n",
            "Epoch 258/500\n",
            "5/5 [==============================] - 1s 257ms/step - loss: 3.6130e-05 - accuracy: 1.0000 - val_loss: 0.4141 - val_accuracy: 0.8947\n",
            "Epoch 259/500\n",
            "5/5 [==============================] - 1s 251ms/step - loss: 3.5821e-05 - accuracy: 1.0000 - val_loss: 0.4145 - val_accuracy: 0.8947\n",
            "Epoch 260/500\n",
            "5/5 [==============================] - 1s 255ms/step - loss: 3.5741e-05 - accuracy: 1.0000 - val_loss: 0.4139 - val_accuracy: 0.8947\n",
            "Epoch 261/500\n",
            "5/5 [==============================] - 2s 330ms/step - loss: 3.5214e-05 - accuracy: 1.0000 - val_loss: 0.4143 - val_accuracy: 0.8947\n",
            "Epoch 262/500\n",
            "5/5 [==============================] - 2s 471ms/step - loss: 3.4958e-05 - accuracy: 1.0000 - val_loss: 0.4149 - val_accuracy: 0.8947\n",
            "Epoch 263/500\n",
            "5/5 [==============================] - 2s 376ms/step - loss: 3.4733e-05 - accuracy: 1.0000 - val_loss: 0.4156 - val_accuracy: 0.8947\n",
            "Epoch 264/500\n",
            "5/5 [==============================] - 1s 250ms/step - loss: 3.4462e-05 - accuracy: 1.0000 - val_loss: 0.4159 - val_accuracy: 0.8947\n",
            "Epoch 265/500\n",
            "5/5 [==============================] - 1s 254ms/step - loss: 3.4159e-05 - accuracy: 1.0000 - val_loss: 0.4162 - val_accuracy: 0.8947\n",
            "Epoch 266/500\n",
            "5/5 [==============================] - 1s 255ms/step - loss: 3.3860e-05 - accuracy: 1.0000 - val_loss: 0.4164 - val_accuracy: 0.8947\n",
            "Epoch 267/500\n",
            "5/5 [==============================] - 1s 260ms/step - loss: 3.3611e-05 - accuracy: 1.0000 - val_loss: 0.4167 - val_accuracy: 0.8947\n",
            "Epoch 268/500\n",
            "5/5 [==============================] - 1s 251ms/step - loss: 3.3339e-05 - accuracy: 1.0000 - val_loss: 0.4170 - val_accuracy: 0.8947\n",
            "Epoch 269/500\n",
            "5/5 [==============================] - 1s 260ms/step - loss: 3.3065e-05 - accuracy: 1.0000 - val_loss: 0.4171 - val_accuracy: 0.8947\n",
            "Epoch 270/500\n",
            "5/5 [==============================] - 1s 251ms/step - loss: 3.2808e-05 - accuracy: 1.0000 - val_loss: 0.4172 - val_accuracy: 0.8947\n",
            "Epoch 271/500\n",
            "5/5 [==============================] - 2s 345ms/step - loss: 3.2549e-05 - accuracy: 1.0000 - val_loss: 0.4173 - val_accuracy: 0.8947\n",
            "Epoch 272/500\n",
            "5/5 [==============================] - 2s 444ms/step - loss: 3.2302e-05 - accuracy: 1.0000 - val_loss: 0.4176 - val_accuracy: 0.8947\n",
            "Epoch 273/500\n",
            "5/5 [==============================] - 2s 390ms/step - loss: 3.2134e-05 - accuracy: 1.0000 - val_loss: 0.4184 - val_accuracy: 0.8947\n",
            "Epoch 274/500\n",
            "5/5 [==============================] - 1s 251ms/step - loss: 3.1809e-05 - accuracy: 1.0000 - val_loss: 0.4183 - val_accuracy: 0.8947\n",
            "Epoch 275/500\n",
            "5/5 [==============================] - 1s 261ms/step - loss: 3.1588e-05 - accuracy: 1.0000 - val_loss: 0.4183 - val_accuracy: 0.8947\n",
            "Epoch 276/500\n",
            "5/5 [==============================] - 1s 259ms/step - loss: 3.1351e-05 - accuracy: 1.0000 - val_loss: 0.4189 - val_accuracy: 0.8947\n",
            "Epoch 277/500\n",
            "5/5 [==============================] - 1s 256ms/step - loss: 3.1151e-05 - accuracy: 1.0000 - val_loss: 0.4195 - val_accuracy: 0.8947\n",
            "Epoch 278/500\n",
            "5/5 [==============================] - 1s 262ms/step - loss: 3.0842e-05 - accuracy: 1.0000 - val_loss: 0.4196 - val_accuracy: 0.8947\n",
            "Epoch 279/500\n",
            "5/5 [==============================] - 2s 410ms/step - loss: 3.0637e-05 - accuracy: 1.0000 - val_loss: 0.4202 - val_accuracy: 0.8947\n",
            "Epoch 280/500\n",
            "5/5 [==============================] - 2s 469ms/step - loss: 3.0396e-05 - accuracy: 1.0000 - val_loss: 0.4204 - val_accuracy: 0.8947\n",
            "Epoch 281/500\n",
            "5/5 [==============================] - 2s 485ms/step - loss: 3.0151e-05 - accuracy: 1.0000 - val_loss: 0.4207 - val_accuracy: 0.8947\n",
            "Epoch 282/500\n",
            "5/5 [==============================] - 2s 477ms/step - loss: 2.9970e-05 - accuracy: 1.0000 - val_loss: 0.4212 - val_accuracy: 0.8947\n",
            "Epoch 283/500\n",
            "5/5 [==============================] - 1s 260ms/step - loss: 2.9719e-05 - accuracy: 1.0000 - val_loss: 0.4215 - val_accuracy: 0.8947\n",
            "Epoch 284/500\n",
            "5/5 [==============================] - 1s 274ms/step - loss: 2.9532e-05 - accuracy: 1.0000 - val_loss: 0.4219 - val_accuracy: 0.8947\n",
            "Epoch 285/500\n",
            "5/5 [==============================] - 1s 264ms/step - loss: 2.9284e-05 - accuracy: 1.0000 - val_loss: 0.4223 - val_accuracy: 0.8947\n",
            "Epoch 286/500\n",
            "5/5 [==============================] - 1s 271ms/step - loss: 2.9086e-05 - accuracy: 1.0000 - val_loss: 0.4227 - val_accuracy: 0.8947\n",
            "Epoch 287/500\n",
            "5/5 [==============================] - 1s 268ms/step - loss: 2.8859e-05 - accuracy: 1.0000 - val_loss: 0.4234 - val_accuracy: 0.8947\n",
            "Epoch 288/500\n",
            "5/5 [==============================] - 1s 257ms/step - loss: 2.8679e-05 - accuracy: 1.0000 - val_loss: 0.4242 - val_accuracy: 0.8947\n",
            "Epoch 289/500\n",
            "5/5 [==============================] - 1s 257ms/step - loss: 2.8480e-05 - accuracy: 1.0000 - val_loss: 0.4245 - val_accuracy: 0.8947\n",
            "Epoch 290/500\n",
            "5/5 [==============================] - 1s 291ms/step - loss: 2.8270e-05 - accuracy: 1.0000 - val_loss: 0.4242 - val_accuracy: 0.8947\n",
            "Epoch 291/500\n",
            "5/5 [==============================] - 2s 464ms/step - loss: 2.8036e-05 - accuracy: 1.0000 - val_loss: 0.4242 - val_accuracy: 0.8947\n",
            "Epoch 292/500\n",
            "5/5 [==============================] - 2s 424ms/step - loss: 2.7815e-05 - accuracy: 1.0000 - val_loss: 0.4242 - val_accuracy: 0.8947\n",
            "Epoch 293/500\n",
            "5/5 [==============================] - 1s 250ms/step - loss: 2.7649e-05 - accuracy: 1.0000 - val_loss: 0.4248 - val_accuracy: 0.8947\n",
            "Epoch 294/500\n",
            "5/5 [==============================] - 1s 259ms/step - loss: 2.7448e-05 - accuracy: 1.0000 - val_loss: 0.4255 - val_accuracy: 0.8947\n",
            "Epoch 295/500\n",
            "5/5 [==============================] - 1s 275ms/step - loss: 2.7213e-05 - accuracy: 1.0000 - val_loss: 0.4260 - val_accuracy: 0.8947\n",
            "Epoch 296/500\n",
            "5/5 [==============================] - 1s 261ms/step - loss: 2.7085e-05 - accuracy: 1.0000 - val_loss: 0.4268 - val_accuracy: 0.8947\n",
            "Epoch 297/500\n",
            "5/5 [==============================] - 1s 272ms/step - loss: 2.6839e-05 - accuracy: 1.0000 - val_loss: 0.4270 - val_accuracy: 0.8947\n",
            "Epoch 298/500\n",
            "5/5 [==============================] - 1s 255ms/step - loss: 2.6623e-05 - accuracy: 1.0000 - val_loss: 0.4270 - val_accuracy: 0.8947\n",
            "Epoch 299/500\n",
            "5/5 [==============================] - 1s 257ms/step - loss: 2.6454e-05 - accuracy: 1.0000 - val_loss: 0.4267 - val_accuracy: 0.8947\n",
            "Epoch 300/500\n",
            "5/5 [==============================] - 2s 342ms/step - loss: 2.6332e-05 - accuracy: 1.0000 - val_loss: 0.4266 - val_accuracy: 0.8947\n",
            "Epoch 301/500\n",
            "5/5 [==============================] - 2s 446ms/step - loss: 2.6109e-05 - accuracy: 1.0000 - val_loss: 0.4274 - val_accuracy: 0.8947\n",
            "Epoch 302/500\n",
            "5/5 [==============================] - 2s 374ms/step - loss: 2.5895e-05 - accuracy: 1.0000 - val_loss: 0.4278 - val_accuracy: 0.8947\n",
            "Epoch 303/500\n",
            "5/5 [==============================] - 1s 257ms/step - loss: 2.5739e-05 - accuracy: 1.0000 - val_loss: 0.4282 - val_accuracy: 0.8947\n",
            "Epoch 304/500\n",
            "5/5 [==============================] - 1s 255ms/step - loss: 2.5561e-05 - accuracy: 1.0000 - val_loss: 0.4286 - val_accuracy: 0.8947\n",
            "Epoch 305/500\n",
            "5/5 [==============================] - 1s 259ms/step - loss: 2.5341e-05 - accuracy: 1.0000 - val_loss: 0.4287 - val_accuracy: 0.8947\n",
            "Epoch 306/500\n",
            "5/5 [==============================] - 1s 260ms/step - loss: 2.5182e-05 - accuracy: 1.0000 - val_loss: 0.4288 - val_accuracy: 0.8947\n",
            "Epoch 307/500\n",
            "5/5 [==============================] - 1s 253ms/step - loss: 2.4999e-05 - accuracy: 1.0000 - val_loss: 0.4289 - val_accuracy: 0.8947\n",
            "Epoch 308/500\n",
            "5/5 [==============================] - 1s 259ms/step - loss: 2.4879e-05 - accuracy: 1.0000 - val_loss: 0.4297 - val_accuracy: 0.8947\n",
            "Epoch 309/500\n",
            "5/5 [==============================] - 1s 264ms/step - loss: 2.4644e-05 - accuracy: 1.0000 - val_loss: 0.4297 - val_accuracy: 0.8947\n",
            "Epoch 310/500\n",
            "5/5 [==============================] - 2s 382ms/step - loss: 2.4534e-05 - accuracy: 1.0000 - val_loss: 0.4301 - val_accuracy: 0.8947\n",
            "Epoch 311/500\n",
            "5/5 [==============================] - 2s 466ms/step - loss: 2.4303e-05 - accuracy: 1.0000 - val_loss: 0.4301 - val_accuracy: 0.8947\n",
            "Epoch 312/500\n",
            "5/5 [==============================] - 2s 359ms/step - loss: 2.4198e-05 - accuracy: 1.0000 - val_loss: 0.4298 - val_accuracy: 0.8947\n",
            "Epoch 313/500\n",
            "5/5 [==============================] - 1s 268ms/step - loss: 2.3984e-05 - accuracy: 1.0000 - val_loss: 0.4302 - val_accuracy: 0.8947\n",
            "Epoch 314/500\n",
            "5/5 [==============================] - 1s 262ms/step - loss: 2.3827e-05 - accuracy: 1.0000 - val_loss: 0.4304 - val_accuracy: 0.8947\n",
            "Epoch 315/500\n",
            "5/5 [==============================] - 1s 259ms/step - loss: 2.3663e-05 - accuracy: 1.0000 - val_loss: 0.4306 - val_accuracy: 0.8947\n",
            "Epoch 316/500\n",
            "5/5 [==============================] - 1s 248ms/step - loss: 2.3495e-05 - accuracy: 1.0000 - val_loss: 0.4309 - val_accuracy: 0.8947\n",
            "Epoch 317/500\n",
            "5/5 [==============================] - 1s 255ms/step - loss: 2.3345e-05 - accuracy: 1.0000 - val_loss: 0.4314 - val_accuracy: 0.8947\n",
            "Epoch 318/500\n",
            "5/5 [==============================] - 1s 260ms/step - loss: 2.3178e-05 - accuracy: 1.0000 - val_loss: 0.4318 - val_accuracy: 0.8947\n",
            "Epoch 319/500\n",
            "5/5 [==============================] - 1s 254ms/step - loss: 2.3107e-05 - accuracy: 1.0000 - val_loss: 0.4326 - val_accuracy: 0.8947\n",
            "Epoch 320/500\n",
            "5/5 [==============================] - 2s 406ms/step - loss: 2.2887e-05 - accuracy: 1.0000 - val_loss: 0.4329 - val_accuracy: 0.8947\n",
            "Epoch 321/500\n",
            "5/5 [==============================] - 2s 468ms/step - loss: 2.2751e-05 - accuracy: 1.0000 - val_loss: 0.4328 - val_accuracy: 0.8947\n",
            "Epoch 322/500\n",
            "5/5 [==============================] - 2s 310ms/step - loss: 2.2583e-05 - accuracy: 1.0000 - val_loss: 0.4328 - val_accuracy: 0.8947\n",
            "Epoch 323/500\n",
            "5/5 [==============================] - 1s 264ms/step - loss: 2.2434e-05 - accuracy: 1.0000 - val_loss: 0.4334 - val_accuracy: 0.8947\n",
            "Epoch 324/500\n",
            "5/5 [==============================] - 1s 257ms/step - loss: 2.2263e-05 - accuracy: 1.0000 - val_loss: 0.4336 - val_accuracy: 0.8947\n",
            "Epoch 325/500\n",
            "5/5 [==============================] - 1s 262ms/step - loss: 2.2148e-05 - accuracy: 1.0000 - val_loss: 0.4337 - val_accuracy: 0.8947\n",
            "Epoch 326/500\n",
            "5/5 [==============================] - 1s 254ms/step - loss: 2.2010e-05 - accuracy: 1.0000 - val_loss: 0.4342 - val_accuracy: 0.8947\n",
            "Epoch 327/500\n",
            "5/5 [==============================] - 1s 266ms/step - loss: 2.1851e-05 - accuracy: 1.0000 - val_loss: 0.4344 - val_accuracy: 0.8947\n",
            "Epoch 328/500\n",
            "5/5 [==============================] - 1s 248ms/step - loss: 2.1710e-05 - accuracy: 1.0000 - val_loss: 0.4342 - val_accuracy: 0.8947\n",
            "Epoch 329/500\n",
            "5/5 [==============================] - 1s 266ms/step - loss: 2.1566e-05 - accuracy: 1.0000 - val_loss: 0.4348 - val_accuracy: 0.8947\n",
            "Epoch 330/500\n",
            "5/5 [==============================] - 2s 445ms/step - loss: 2.1418e-05 - accuracy: 1.0000 - val_loss: 0.4354 - val_accuracy: 0.8947\n",
            "Epoch 331/500\n",
            "5/5 [==============================] - 2s 452ms/step - loss: 2.1263e-05 - accuracy: 1.0000 - val_loss: 0.4355 - val_accuracy: 0.8947\n",
            "Epoch 332/500\n",
            "5/5 [==============================] - 2s 271ms/step - loss: 2.1174e-05 - accuracy: 1.0000 - val_loss: 0.4355 - val_accuracy: 0.8947\n",
            "Epoch 333/500\n",
            "5/5 [==============================] - 1s 259ms/step - loss: 2.1015e-05 - accuracy: 1.0000 - val_loss: 0.4362 - val_accuracy: 0.8947\n",
            "Epoch 334/500\n",
            "5/5 [==============================] - 1s 266ms/step - loss: 2.0875e-05 - accuracy: 1.0000 - val_loss: 0.4366 - val_accuracy: 0.8947\n",
            "Epoch 335/500\n",
            "5/5 [==============================] - 1s 267ms/step - loss: 2.0716e-05 - accuracy: 1.0000 - val_loss: 0.4372 - val_accuracy: 0.8947\n",
            "Epoch 336/500\n",
            "5/5 [==============================] - 1s 270ms/step - loss: 2.0619e-05 - accuracy: 1.0000 - val_loss: 0.4375 - val_accuracy: 0.8947\n",
            "Epoch 337/500\n",
            "5/5 [==============================] - 1s 258ms/step - loss: 2.0459e-05 - accuracy: 1.0000 - val_loss: 0.4375 - val_accuracy: 0.8947\n",
            "Epoch 338/500\n",
            "5/5 [==============================] - 1s 259ms/step - loss: 2.0325e-05 - accuracy: 1.0000 - val_loss: 0.4376 - val_accuracy: 0.8947\n",
            "Epoch 339/500\n",
            "5/5 [==============================] - 1s 278ms/step - loss: 2.0201e-05 - accuracy: 1.0000 - val_loss: 0.4380 - val_accuracy: 0.8947\n",
            "Epoch 340/500\n",
            "5/5 [==============================] - 2s 434ms/step - loss: 2.0051e-05 - accuracy: 1.0000 - val_loss: 0.4384 - val_accuracy: 0.8947\n",
            "Epoch 341/500\n",
            "5/5 [==============================] - 2s 469ms/step - loss: 1.9970e-05 - accuracy: 1.0000 - val_loss: 0.4385 - val_accuracy: 0.8947\n",
            "Epoch 342/500\n",
            "5/5 [==============================] - 1s 255ms/step - loss: 1.9819e-05 - accuracy: 1.0000 - val_loss: 0.4388 - val_accuracy: 0.8947\n",
            "Epoch 343/500\n",
            "5/5 [==============================] - 1s 263ms/step - loss: 1.9696e-05 - accuracy: 1.0000 - val_loss: 0.4390 - val_accuracy: 0.8947\n",
            "Epoch 344/500\n",
            "5/5 [==============================] - 1s 270ms/step - loss: 1.9592e-05 - accuracy: 1.0000 - val_loss: 0.4399 - val_accuracy: 0.8947\n",
            "Epoch 345/500\n",
            "5/5 [==============================] - 1s 263ms/step - loss: 1.9483e-05 - accuracy: 1.0000 - val_loss: 0.4406 - val_accuracy: 0.8947\n",
            "Epoch 346/500\n",
            "5/5 [==============================] - 1s 264ms/step - loss: 1.9329e-05 - accuracy: 1.0000 - val_loss: 0.4404 - val_accuracy: 0.8947\n",
            "Epoch 347/500\n",
            "5/5 [==============================] - 1s 267ms/step - loss: 1.9187e-05 - accuracy: 1.0000 - val_loss: 0.4403 - val_accuracy: 0.8947\n",
            "Epoch 348/500\n",
            "5/5 [==============================] - 1s 257ms/step - loss: 1.9065e-05 - accuracy: 1.0000 - val_loss: 0.4406 - val_accuracy: 0.8947\n",
            "Epoch 349/500\n",
            "5/5 [==============================] - 1s 301ms/step - loss: 1.8955e-05 - accuracy: 1.0000 - val_loss: 0.4410 - val_accuracy: 0.8947\n",
            "Epoch 350/500\n",
            "5/5 [==============================] - 2s 455ms/step - loss: 1.8830e-05 - accuracy: 1.0000 - val_loss: 0.4411 - val_accuracy: 0.8947\n",
            "Epoch 351/500\n",
            "5/5 [==============================] - 2s 413ms/step - loss: 1.8714e-05 - accuracy: 1.0000 - val_loss: 0.4414 - val_accuracy: 0.8947\n",
            "Epoch 352/500\n",
            "5/5 [==============================] - 1s 259ms/step - loss: 1.8626e-05 - accuracy: 1.0000 - val_loss: 0.4420 - val_accuracy: 0.8947\n",
            "Epoch 353/500\n",
            "5/5 [==============================] - 1s 262ms/step - loss: 1.8492e-05 - accuracy: 1.0000 - val_loss: 0.4418 - val_accuracy: 0.8947\n",
            "Epoch 354/500\n",
            "5/5 [==============================] - 1s 253ms/step - loss: 1.8385e-05 - accuracy: 1.0000 - val_loss: 0.4417 - val_accuracy: 0.8947\n",
            "Epoch 355/500\n",
            "5/5 [==============================] - 1s 261ms/step - loss: 1.8302e-05 - accuracy: 1.0000 - val_loss: 0.4422 - val_accuracy: 0.8947\n",
            "Epoch 356/500\n",
            "5/5 [==============================] - 1s 263ms/step - loss: 1.8171e-05 - accuracy: 1.0000 - val_loss: 0.4421 - val_accuracy: 0.8947\n",
            "Epoch 357/500\n",
            "5/5 [==============================] - 1s 272ms/step - loss: 1.8030e-05 - accuracy: 1.0000 - val_loss: 0.4428 - val_accuracy: 0.8947\n",
            "Epoch 358/500\n",
            "5/5 [==============================] - 1s 267ms/step - loss: 1.7925e-05 - accuracy: 1.0000 - val_loss: 0.4432 - val_accuracy: 0.8947\n",
            "Epoch 359/500\n",
            "5/5 [==============================] - 2s 382ms/step - loss: 1.7825e-05 - accuracy: 1.0000 - val_loss: 0.4439 - val_accuracy: 0.8947\n",
            "Epoch 360/500\n",
            "5/5 [==============================] - 2s 431ms/step - loss: 1.7723e-05 - accuracy: 1.0000 - val_loss: 0.4439 - val_accuracy: 0.8947\n",
            "Epoch 361/500\n",
            "5/5 [==============================] - 2s 360ms/step - loss: 1.7592e-05 - accuracy: 1.0000 - val_loss: 0.4442 - val_accuracy: 0.8947\n",
            "Epoch 362/500\n",
            "5/5 [==============================] - 1s 265ms/step - loss: 1.7503e-05 - accuracy: 1.0000 - val_loss: 0.4442 - val_accuracy: 0.8947\n",
            "Epoch 363/500\n",
            "5/5 [==============================] - 1s 260ms/step - loss: 1.7375e-05 - accuracy: 1.0000 - val_loss: 0.4446 - val_accuracy: 0.8947\n",
            "Epoch 364/500\n",
            "5/5 [==============================] - 1s 267ms/step - loss: 1.7279e-05 - accuracy: 1.0000 - val_loss: 0.4450 - val_accuracy: 0.8947\n",
            "Epoch 365/500\n",
            "5/5 [==============================] - 1s 260ms/step - loss: 1.7174e-05 - accuracy: 1.0000 - val_loss: 0.4455 - val_accuracy: 0.8947\n",
            "Epoch 366/500\n",
            "5/5 [==============================] - 1s 253ms/step - loss: 1.7072e-05 - accuracy: 1.0000 - val_loss: 0.4458 - val_accuracy: 0.8947\n",
            "Epoch 367/500\n",
            "5/5 [==============================] - 1s 259ms/step - loss: 1.6974e-05 - accuracy: 1.0000 - val_loss: 0.4461 - val_accuracy: 0.8947\n",
            "Epoch 368/500\n",
            "5/5 [==============================] - 1s 251ms/step - loss: 1.6868e-05 - accuracy: 1.0000 - val_loss: 0.4462 - val_accuracy: 0.8947\n",
            "Epoch 369/500\n",
            "5/5 [==============================] - 2s 381ms/step - loss: 1.6775e-05 - accuracy: 1.0000 - val_loss: 0.4461 - val_accuracy: 0.8947\n",
            "Epoch 370/500\n",
            "5/5 [==============================] - 2s 485ms/step - loss: 1.6660e-05 - accuracy: 1.0000 - val_loss: 0.4463 - val_accuracy: 0.8947\n",
            "Epoch 371/500\n",
            "5/5 [==============================] - 2s 320ms/step - loss: 1.6567e-05 - accuracy: 1.0000 - val_loss: 0.4468 - val_accuracy: 0.8947\n",
            "Epoch 372/500\n",
            "5/5 [==============================] - 1s 263ms/step - loss: 1.6468e-05 - accuracy: 1.0000 - val_loss: 0.4473 - val_accuracy: 0.8947\n",
            "Epoch 373/500\n",
            "5/5 [==============================] - 1s 260ms/step - loss: 1.6362e-05 - accuracy: 1.0000 - val_loss: 0.4474 - val_accuracy: 0.8947\n",
            "Epoch 374/500\n",
            "5/5 [==============================] - 1s 265ms/step - loss: 1.6291e-05 - accuracy: 1.0000 - val_loss: 0.4475 - val_accuracy: 0.8947\n",
            "Epoch 375/500\n",
            "5/5 [==============================] - 1s 264ms/step - loss: 1.6176e-05 - accuracy: 1.0000 - val_loss: 0.4480 - val_accuracy: 0.8947\n",
            "Epoch 376/500\n",
            "5/5 [==============================] - 1s 248ms/step - loss: 1.6090e-05 - accuracy: 1.0000 - val_loss: 0.4479 - val_accuracy: 0.8947\n",
            "Epoch 377/500\n",
            "5/5 [==============================] - 1s 272ms/step - loss: 1.5999e-05 - accuracy: 1.0000 - val_loss: 0.4478 - val_accuracy: 0.8947\n",
            "Epoch 378/500\n",
            "5/5 [==============================] - 1s 250ms/step - loss: 1.5906e-05 - accuracy: 1.0000 - val_loss: 0.4482 - val_accuracy: 0.8947\n",
            "Epoch 379/500\n",
            "5/5 [==============================] - 2s 415ms/step - loss: 1.5820e-05 - accuracy: 1.0000 - val_loss: 0.4484 - val_accuracy: 0.8947\n",
            "Epoch 380/500\n",
            "5/5 [==============================] - 2s 434ms/step - loss: 1.5725e-05 - accuracy: 1.0000 - val_loss: 0.4488 - val_accuracy: 0.8947\n",
            "Epoch 381/500\n",
            "5/5 [==============================] - 2s 309ms/step - loss: 1.5636e-05 - accuracy: 1.0000 - val_loss: 0.4491 - val_accuracy: 0.8947\n",
            "Epoch 382/500\n",
            "5/5 [==============================] - 1s 267ms/step - loss: 1.5559e-05 - accuracy: 1.0000 - val_loss: 0.4493 - val_accuracy: 0.8947\n",
            "Epoch 383/500\n",
            "5/5 [==============================] - 1s 261ms/step - loss: 1.5469e-05 - accuracy: 1.0000 - val_loss: 0.4490 - val_accuracy: 0.8947\n",
            "Epoch 384/500\n",
            "5/5 [==============================] - 1s 269ms/step - loss: 1.5372e-05 - accuracy: 1.0000 - val_loss: 0.4494 - val_accuracy: 0.8947\n",
            "Epoch 385/500\n",
            "5/5 [==============================] - 1s 259ms/step - loss: 1.5283e-05 - accuracy: 1.0000 - val_loss: 0.4493 - val_accuracy: 0.8947\n",
            "Epoch 386/500\n",
            "5/5 [==============================] - 1s 256ms/step - loss: 1.5184e-05 - accuracy: 1.0000 - val_loss: 0.4496 - val_accuracy: 0.8947\n",
            "Epoch 387/500\n",
            "5/5 [==============================] - 1s 260ms/step - loss: 1.5112e-05 - accuracy: 1.0000 - val_loss: 0.4503 - val_accuracy: 0.8947\n",
            "Epoch 388/500\n",
            "5/5 [==============================] - 1s 259ms/step - loss: 1.5010e-05 - accuracy: 1.0000 - val_loss: 0.4506 - val_accuracy: 0.8947\n",
            "Epoch 389/500\n",
            "5/5 [==============================] - 2s 453ms/step - loss: 1.4923e-05 - accuracy: 1.0000 - val_loss: 0.4506 - val_accuracy: 0.8947\n",
            "Epoch 390/500\n",
            "5/5 [==============================] - 2s 457ms/step - loss: 1.4824e-05 - accuracy: 1.0000 - val_loss: 0.4508 - val_accuracy: 0.8947\n",
            "Epoch 391/500\n",
            "5/5 [==============================] - 1s 259ms/step - loss: 1.4755e-05 - accuracy: 1.0000 - val_loss: 0.4511 - val_accuracy: 0.8947\n",
            "Epoch 392/500\n",
            "5/5 [==============================] - 1s 254ms/step - loss: 1.4736e-05 - accuracy: 1.0000 - val_loss: 0.4518 - val_accuracy: 0.8947\n",
            "Epoch 393/500\n",
            "5/5 [==============================] - 1s 263ms/step - loss: 1.4578e-05 - accuracy: 1.0000 - val_loss: 0.4518 - val_accuracy: 0.8947\n",
            "Epoch 394/500\n",
            "5/5 [==============================] - 1s 254ms/step - loss: 1.4515e-05 - accuracy: 1.0000 - val_loss: 0.4515 - val_accuracy: 0.8947\n",
            "Epoch 395/500\n",
            "5/5 [==============================] - 1s 265ms/step - loss: 1.4423e-05 - accuracy: 1.0000 - val_loss: 0.4517 - val_accuracy: 0.8947\n",
            "Epoch 396/500\n",
            "5/5 [==============================] - 1s 264ms/step - loss: 1.4353e-05 - accuracy: 1.0000 - val_loss: 0.4519 - val_accuracy: 0.8947\n",
            "Epoch 397/500\n",
            "5/5 [==============================] - 1s 265ms/step - loss: 1.4286e-05 - accuracy: 1.0000 - val_loss: 0.4522 - val_accuracy: 0.8947\n",
            "Epoch 398/500\n",
            "5/5 [==============================] - 1s 295ms/step - loss: 1.4205e-05 - accuracy: 1.0000 - val_loss: 0.4529 - val_accuracy: 0.8947\n",
            "Epoch 399/500\n",
            "5/5 [==============================] - 2s 461ms/step - loss: 1.4105e-05 - accuracy: 1.0000 - val_loss: 0.4531 - val_accuracy: 0.8947\n",
            "Epoch 400/500\n",
            "5/5 [==============================] - 2s 414ms/step - loss: 1.4027e-05 - accuracy: 1.0000 - val_loss: 0.4531 - val_accuracy: 0.8947\n",
            "Epoch 401/500\n",
            "5/5 [==============================] - 1s 263ms/step - loss: 1.3968e-05 - accuracy: 1.0000 - val_loss: 0.4537 - val_accuracy: 0.8947\n",
            "Epoch 402/500\n",
            "5/5 [==============================] - 1s 260ms/step - loss: 1.3905e-05 - accuracy: 1.0000 - val_loss: 0.4533 - val_accuracy: 0.8947\n",
            "Epoch 403/500\n",
            "5/5 [==============================] - 1s 252ms/step - loss: 1.3812e-05 - accuracy: 1.0000 - val_loss: 0.4535 - val_accuracy: 0.8947\n",
            "Epoch 404/500\n",
            "5/5 [==============================] - 1s 258ms/step - loss: 1.3730e-05 - accuracy: 1.0000 - val_loss: 0.4542 - val_accuracy: 0.8947\n",
            "Epoch 405/500\n",
            "5/5 [==============================] - 1s 258ms/step - loss: 1.3644e-05 - accuracy: 1.0000 - val_loss: 0.4547 - val_accuracy: 0.8947\n",
            "Epoch 406/500\n",
            "5/5 [==============================] - 1s 267ms/step - loss: 1.3579e-05 - accuracy: 1.0000 - val_loss: 0.4548 - val_accuracy: 0.8947\n",
            "Epoch 407/500\n",
            "5/5 [==============================] - 1s 270ms/step - loss: 1.3499e-05 - accuracy: 1.0000 - val_loss: 0.4549 - val_accuracy: 0.8947\n",
            "Epoch 408/500\n",
            "5/5 [==============================] - 2s 337ms/step - loss: 1.3423e-05 - accuracy: 1.0000 - val_loss: 0.4553 - val_accuracy: 0.8947\n",
            "Epoch 409/500\n",
            "5/5 [==============================] - 2s 461ms/step - loss: 1.3351e-05 - accuracy: 1.0000 - val_loss: 0.4554 - val_accuracy: 0.8947\n",
            "Epoch 410/500\n",
            "5/5 [==============================] - 2s 376ms/step - loss: 1.3277e-05 - accuracy: 1.0000 - val_loss: 0.4559 - val_accuracy: 0.8947\n",
            "Epoch 411/500\n",
            "5/5 [==============================] - 1s 268ms/step - loss: 1.3240e-05 - accuracy: 1.0000 - val_loss: 0.4565 - val_accuracy: 0.8947\n",
            "Epoch 412/500\n",
            "5/5 [==============================] - 1s 256ms/step - loss: 1.3135e-05 - accuracy: 1.0000 - val_loss: 0.4566 - val_accuracy: 0.8947\n",
            "Epoch 413/500\n",
            "5/5 [==============================] - 1s 265ms/step - loss: 1.3061e-05 - accuracy: 1.0000 - val_loss: 0.4568 - val_accuracy: 0.8947\n",
            "Epoch 414/500\n",
            "5/5 [==============================] - 1s 264ms/step - loss: 1.2990e-05 - accuracy: 1.0000 - val_loss: 0.4568 - val_accuracy: 0.8947\n",
            "Epoch 415/500\n",
            "5/5 [==============================] - 1s 253ms/step - loss: 1.2928e-05 - accuracy: 1.0000 - val_loss: 0.4567 - val_accuracy: 0.8947\n",
            "Epoch 416/500\n",
            "5/5 [==============================] - 1s 258ms/step - loss: 1.2856e-05 - accuracy: 1.0000 - val_loss: 0.4570 - val_accuracy: 0.8947\n",
            "Epoch 417/500\n",
            "5/5 [==============================] - 1s 256ms/step - loss: 1.2785e-05 - accuracy: 1.0000 - val_loss: 0.4574 - val_accuracy: 0.8947\n",
            "Epoch 418/500\n",
            "5/5 [==============================] - 2s 373ms/step - loss: 1.2713e-05 - accuracy: 1.0000 - val_loss: 0.4577 - val_accuracy: 0.8947\n",
            "Epoch 419/500\n",
            "5/5 [==============================] - 2s 464ms/step - loss: 1.2652e-05 - accuracy: 1.0000 - val_loss: 0.4580 - val_accuracy: 0.8947\n",
            "Epoch 420/500\n",
            "5/5 [==============================] - 2s 328ms/step - loss: 1.2577e-05 - accuracy: 1.0000 - val_loss: 0.4580 - val_accuracy: 0.8947\n",
            "Epoch 421/500\n",
            "5/5 [==============================] - 1s 258ms/step - loss: 1.2538e-05 - accuracy: 1.0000 - val_loss: 0.4584 - val_accuracy: 0.8947\n",
            "Epoch 422/500\n",
            "5/5 [==============================] - 1s 260ms/step - loss: 1.2447e-05 - accuracy: 1.0000 - val_loss: 0.4582 - val_accuracy: 0.8947\n",
            "Epoch 423/500\n",
            "5/5 [==============================] - 1s 253ms/step - loss: 1.2382e-05 - accuracy: 1.0000 - val_loss: 0.4582 - val_accuracy: 0.8947\n",
            "Epoch 424/500\n",
            "5/5 [==============================] - 1s 256ms/step - loss: 1.2334e-05 - accuracy: 1.0000 - val_loss: 0.4580 - val_accuracy: 0.8947\n",
            "Epoch 425/500\n",
            "5/5 [==============================] - 1s 257ms/step - loss: 1.2271e-05 - accuracy: 1.0000 - val_loss: 0.4578 - val_accuracy: 0.8947\n",
            "Epoch 426/500\n",
            "5/5 [==============================] - 1s 252ms/step - loss: 1.2195e-05 - accuracy: 1.0000 - val_loss: 0.4581 - val_accuracy: 0.8947\n",
            "Epoch 427/500\n",
            "5/5 [==============================] - 1s 260ms/step - loss: 1.2123e-05 - accuracy: 1.0000 - val_loss: 0.4583 - val_accuracy: 0.8947\n",
            "Epoch 428/500\n",
            "5/5 [==============================] - 2s 388ms/step - loss: 1.2085e-05 - accuracy: 1.0000 - val_loss: 0.4588 - val_accuracy: 0.8947\n",
            "Epoch 429/500\n",
            "5/5 [==============================] - 2s 459ms/step - loss: 1.1993e-05 - accuracy: 1.0000 - val_loss: 0.4591 - val_accuracy: 0.8947\n",
            "Epoch 430/500\n",
            "5/5 [==============================] - 2s 311ms/step - loss: 1.1934e-05 - accuracy: 1.0000 - val_loss: 0.4594 - val_accuracy: 0.8947\n",
            "Epoch 431/500\n",
            "5/5 [==============================] - 1s 264ms/step - loss: 1.1881e-05 - accuracy: 1.0000 - val_loss: 0.4596 - val_accuracy: 0.8947\n",
            "Epoch 432/500\n",
            "5/5 [==============================] - 1s 261ms/step - loss: 1.1808e-05 - accuracy: 1.0000 - val_loss: 0.4597 - val_accuracy: 0.8947\n",
            "Epoch 433/500\n",
            "5/5 [==============================] - 1s 259ms/step - loss: 1.1754e-05 - accuracy: 1.0000 - val_loss: 0.4599 - val_accuracy: 0.8947\n",
            "Epoch 434/500\n",
            "5/5 [==============================] - 1s 274ms/step - loss: 1.1683e-05 - accuracy: 1.0000 - val_loss: 0.4601 - val_accuracy: 0.8947\n",
            "Epoch 435/500\n",
            "5/5 [==============================] - 1s 268ms/step - loss: 1.1630e-05 - accuracy: 1.0000 - val_loss: 0.4606 - val_accuracy: 0.8947\n",
            "Epoch 436/500\n",
            "5/5 [==============================] - 1s 262ms/step - loss: 1.1559e-05 - accuracy: 1.0000 - val_loss: 0.4610 - val_accuracy: 0.8947\n",
            "Epoch 437/500\n",
            "5/5 [==============================] - 1s 257ms/step - loss: 1.1509e-05 - accuracy: 1.0000 - val_loss: 0.4614 - val_accuracy: 0.8947\n",
            "Epoch 438/500\n",
            "5/5 [==============================] - 2s 427ms/step - loss: 1.1466e-05 - accuracy: 1.0000 - val_loss: 0.4613 - val_accuracy: 0.8947\n",
            "Epoch 439/500\n",
            "5/5 [==============================] - 2s 448ms/step - loss: 1.1380e-05 - accuracy: 1.0000 - val_loss: 0.4618 - val_accuracy: 0.8947\n",
            "Epoch 440/500\n",
            "5/5 [==============================] - 2s 285ms/step - loss: 1.1321e-05 - accuracy: 1.0000 - val_loss: 0.4622 - val_accuracy: 0.8947\n",
            "Epoch 441/500\n",
            "5/5 [==============================] - 1s 267ms/step - loss: 1.1278e-05 - accuracy: 1.0000 - val_loss: 0.4626 - val_accuracy: 0.8947\n",
            "Epoch 442/500\n",
            "5/5 [==============================] - 1s 265ms/step - loss: 1.1228e-05 - accuracy: 1.0000 - val_loss: 0.4624 - val_accuracy: 0.8947\n",
            "Epoch 443/500\n",
            "5/5 [==============================] - 1s 277ms/step - loss: 1.1158e-05 - accuracy: 1.0000 - val_loss: 0.4628 - val_accuracy: 0.8947\n",
            "Epoch 444/500\n",
            "5/5 [==============================] - 1s 266ms/step - loss: 1.1112e-05 - accuracy: 1.0000 - val_loss: 0.4627 - val_accuracy: 0.8947\n",
            "Epoch 445/500\n",
            "5/5 [==============================] - 1s 266ms/step - loss: 1.1042e-05 - accuracy: 1.0000 - val_loss: 0.4630 - val_accuracy: 0.8947\n",
            "Epoch 446/500\n",
            "5/5 [==============================] - 1s 267ms/step - loss: 1.1001e-05 - accuracy: 1.0000 - val_loss: 0.4628 - val_accuracy: 0.8947\n",
            "Epoch 447/500\n",
            "5/5 [==============================] - 2s 312ms/step - loss: 1.0932e-05 - accuracy: 1.0000 - val_loss: 0.4631 - val_accuracy: 0.8947\n",
            "Epoch 448/500\n",
            "5/5 [==============================] - 2s 488ms/step - loss: 1.0886e-05 - accuracy: 1.0000 - val_loss: 0.4630 - val_accuracy: 0.8947\n",
            "Epoch 449/500\n",
            "5/5 [==============================] - 2s 431ms/step - loss: 1.0815e-05 - accuracy: 1.0000 - val_loss: 0.4635 - val_accuracy: 0.8947\n",
            "Epoch 450/500\n",
            "5/5 [==============================] - 1s 264ms/step - loss: 1.0753e-05 - accuracy: 1.0000 - val_loss: 0.4640 - val_accuracy: 0.8947\n",
            "Epoch 451/500\n",
            "5/5 [==============================] - 1s 254ms/step - loss: 1.0711e-05 - accuracy: 1.0000 - val_loss: 0.4643 - val_accuracy: 0.8947\n",
            "Epoch 452/500\n",
            "5/5 [==============================] - 1s 264ms/step - loss: 1.0660e-05 - accuracy: 1.0000 - val_loss: 0.4646 - val_accuracy: 0.8947\n",
            "Epoch 453/500\n",
            "5/5 [==============================] - 1s 262ms/step - loss: 1.0593e-05 - accuracy: 1.0000 - val_loss: 0.4651 - val_accuracy: 0.8947\n",
            "Epoch 454/500\n",
            "5/5 [==============================] - 1s 262ms/step - loss: 1.0551e-05 - accuracy: 1.0000 - val_loss: 0.4654 - val_accuracy: 0.8947\n",
            "Epoch 455/500\n",
            "5/5 [==============================] - 1s 264ms/step - loss: 1.0494e-05 - accuracy: 1.0000 - val_loss: 0.4656 - val_accuracy: 0.8947\n",
            "Epoch 456/500\n",
            "5/5 [==============================] - 1s 267ms/step - loss: 1.0442e-05 - accuracy: 1.0000 - val_loss: 0.4659 - val_accuracy: 0.8947\n",
            "Epoch 457/500\n",
            "5/5 [==============================] - 2s 376ms/step - loss: 1.0421e-05 - accuracy: 1.0000 - val_loss: 0.4655 - val_accuracy: 0.8947\n",
            "Epoch 458/500\n",
            "5/5 [==============================] - 2s 483ms/step - loss: 1.0335e-05 - accuracy: 1.0000 - val_loss: 0.4656 - val_accuracy: 0.8947\n",
            "Epoch 459/500\n",
            "5/5 [==============================] - 2s 488ms/step - loss: 1.0281e-05 - accuracy: 1.0000 - val_loss: 0.4661 - val_accuracy: 0.8947\n",
            "Epoch 460/500\n",
            "5/5 [==============================] - 2s 493ms/step - loss: 1.0232e-05 - accuracy: 1.0000 - val_loss: 0.4667 - val_accuracy: 0.8947\n",
            "Epoch 461/500\n",
            "5/5 [==============================] - 2s 268ms/step - loss: 1.0175e-05 - accuracy: 1.0000 - val_loss: 0.4669 - val_accuracy: 0.8947\n",
            "Epoch 462/500\n",
            "5/5 [==============================] - 1s 261ms/step - loss: 1.0127e-05 - accuracy: 1.0000 - val_loss: 0.4672 - val_accuracy: 0.8947\n",
            "Epoch 463/500\n",
            "5/5 [==============================] - 1s 255ms/step - loss: 1.0082e-05 - accuracy: 1.0000 - val_loss: 0.4672 - val_accuracy: 0.8947\n",
            "Epoch 464/500\n",
            "5/5 [==============================] - 1s 252ms/step - loss: 1.0031e-05 - accuracy: 1.0000 - val_loss: 0.4676 - val_accuracy: 0.8947\n",
            "Epoch 465/500\n",
            "5/5 [==============================] - 1s 260ms/step - loss: 9.9758e-06 - accuracy: 1.0000 - val_loss: 0.4679 - val_accuracy: 0.8947\n",
            "Epoch 466/500\n",
            "5/5 [==============================] - 1s 263ms/step - loss: 9.9212e-06 - accuracy: 1.0000 - val_loss: 0.4679 - val_accuracy: 0.8947\n",
            "Epoch 467/500\n",
            "5/5 [==============================] - 1s 258ms/step - loss: 9.8682e-06 - accuracy: 1.0000 - val_loss: 0.4679 - val_accuracy: 0.8947\n",
            "Epoch 468/500\n",
            "5/5 [==============================] - 1s 270ms/step - loss: 9.8441e-06 - accuracy: 1.0000 - val_loss: 0.4675 - val_accuracy: 0.8947\n",
            "Epoch 469/500\n",
            "5/5 [==============================] - 2s 457ms/step - loss: 9.7763e-06 - accuracy: 1.0000 - val_loss: 0.4677 - val_accuracy: 0.8947\n",
            "Epoch 470/500\n",
            "5/5 [==============================] - 2s 476ms/step - loss: 9.7249e-06 - accuracy: 1.0000 - val_loss: 0.4679 - val_accuracy: 0.8947\n",
            "Epoch 471/500\n",
            "5/5 [==============================] - 1s 258ms/step - loss: 9.6805e-06 - accuracy: 1.0000 - val_loss: 0.4683 - val_accuracy: 0.8947\n",
            "Epoch 472/500\n",
            "5/5 [==============================] - 1s 272ms/step - loss: 9.6408e-06 - accuracy: 1.0000 - val_loss: 0.4687 - val_accuracy: 0.8947\n",
            "Epoch 473/500\n",
            "5/5 [==============================] - 1s 260ms/step - loss: 9.5854e-06 - accuracy: 1.0000 - val_loss: 0.4689 - val_accuracy: 0.8947\n",
            "Epoch 474/500\n",
            "5/5 [==============================] - 1s 256ms/step - loss: 9.5410e-06 - accuracy: 1.0000 - val_loss: 0.4691 - val_accuracy: 0.8947\n",
            "Epoch 475/500\n",
            "5/5 [==============================] - 1s 265ms/step - loss: 9.4935e-06 - accuracy: 1.0000 - val_loss: 0.4692 - val_accuracy: 0.8947\n",
            "Epoch 476/500\n",
            "5/5 [==============================] - 1s 259ms/step - loss: 9.4483e-06 - accuracy: 1.0000 - val_loss: 0.4694 - val_accuracy: 0.8947\n",
            "Epoch 477/500\n",
            "5/5 [==============================] - 1s 261ms/step - loss: 9.4016e-06 - accuracy: 1.0000 - val_loss: 0.4698 - val_accuracy: 0.8947\n",
            "Epoch 478/500\n",
            "5/5 [==============================] - 1s 283ms/step - loss: 9.3548e-06 - accuracy: 1.0000 - val_loss: 0.4702 - val_accuracy: 0.8947\n",
            "Epoch 479/500\n",
            "5/5 [==============================] - 2s 422ms/step - loss: 9.3057e-06 - accuracy: 1.0000 - val_loss: 0.4704 - val_accuracy: 0.8947\n",
            "Epoch 480/500\n",
            "5/5 [==============================] - 2s 420ms/step - loss: 9.2652e-06 - accuracy: 1.0000 - val_loss: 0.4706 - val_accuracy: 0.8947\n",
            "Epoch 481/500\n",
            "5/5 [==============================] - 1s 258ms/step - loss: 9.2239e-06 - accuracy: 1.0000 - val_loss: 0.4709 - val_accuracy: 0.8947\n",
            "Epoch 482/500\n",
            "5/5 [==============================] - 1s 254ms/step - loss: 9.1834e-06 - accuracy: 1.0000 - val_loss: 0.4708 - val_accuracy: 0.8947\n",
            "Epoch 483/500\n",
            "5/5 [==============================] - 1s 255ms/step - loss: 9.1375e-06 - accuracy: 1.0000 - val_loss: 0.4712 - val_accuracy: 0.8947\n",
            "Epoch 484/500\n",
            "5/5 [==============================] - 1s 258ms/step - loss: 9.0954e-06 - accuracy: 1.0000 - val_loss: 0.4714 - val_accuracy: 0.8947\n",
            "Epoch 485/500\n",
            "5/5 [==============================] - 1s 255ms/step - loss: 9.0385e-06 - accuracy: 1.0000 - val_loss: 0.4715 - val_accuracy: 0.8947\n",
            "Epoch 486/500\n",
            "5/5 [==============================] - 1s 254ms/step - loss: 9.0120e-06 - accuracy: 1.0000 - val_loss: 0.4714 - val_accuracy: 0.8947\n",
            "Epoch 487/500\n",
            "5/5 [==============================] - 1s 255ms/step - loss: 8.9552e-06 - accuracy: 1.0000 - val_loss: 0.4715 - val_accuracy: 0.8947\n",
            "Epoch 488/500\n",
            "5/5 [==============================] - 1s 255ms/step - loss: 8.9146e-06 - accuracy: 1.0000 - val_loss: 0.4718 - val_accuracy: 0.8947\n",
            "Epoch 489/500\n",
            "5/5 [==============================] - 2s 439ms/step - loss: 8.8741e-06 - accuracy: 1.0000 - val_loss: 0.4719 - val_accuracy: 0.8947\n",
            "Epoch 490/500\n",
            "5/5 [==============================] - 2s 441ms/step - loss: 8.8523e-06 - accuracy: 1.0000 - val_loss: 0.4717 - val_accuracy: 0.8947\n",
            "Epoch 491/500\n",
            "5/5 [==============================] - 2s 288ms/step - loss: 8.7900e-06 - accuracy: 1.0000 - val_loss: 0.4721 - val_accuracy: 0.8947\n",
            "Epoch 492/500\n",
            "5/5 [==============================] - 1s 277ms/step - loss: 8.7456e-06 - accuracy: 1.0000 - val_loss: 0.4723 - val_accuracy: 0.8947\n",
            "Epoch 493/500\n",
            "5/5 [==============================] - 1s 270ms/step - loss: 8.7066e-06 - accuracy: 1.0000 - val_loss: 0.4726 - val_accuracy: 0.8947\n",
            "Epoch 494/500\n",
            "5/5 [==============================] - 1s 259ms/step - loss: 8.6685e-06 - accuracy: 1.0000 - val_loss: 0.4727 - val_accuracy: 0.8947\n",
            "Epoch 495/500\n",
            "5/5 [==============================] - 1s 269ms/step - loss: 8.6217e-06 - accuracy: 1.0000 - val_loss: 0.4731 - val_accuracy: 0.8947\n",
            "Epoch 496/500\n",
            "5/5 [==============================] - 1s 253ms/step - loss: 8.5890e-06 - accuracy: 1.0000 - val_loss: 0.4734 - val_accuracy: 0.8947\n",
            "Epoch 497/500\n",
            "5/5 [==============================] - 1s 264ms/step - loss: 8.5383e-06 - accuracy: 1.0000 - val_loss: 0.4736 - val_accuracy: 0.8947\n",
            "Epoch 498/500\n",
            "5/5 [==============================] - 1s 273ms/step - loss: 8.5010e-06 - accuracy: 1.0000 - val_loss: 0.4739 - val_accuracy: 0.8947\n",
            "Epoch 499/500\n",
            "5/5 [==============================] - 2s 464ms/step - loss: 8.4643e-06 - accuracy: 1.0000 - val_loss: 0.4742 - val_accuracy: 0.8947\n",
            "Epoch 500/500\n",
            "5/5 [==============================] - 2s 432ms/step - loss: 8.4293e-06 - accuracy: 1.0000 - val_loss: 0.4743 - val_accuracy: 0.8947\n"
          ]
        }
      ]
    },
    {
      "cell_type": "markdown",
      "source": [
        "**Task 5.**\n",
        "<br>\n",
        "Evaluate your model using the test data set. Display the loss function vs the number of epochs."
      ],
      "metadata": {
        "id": "qwPOhG62OMoA"
      }
    },
    {
      "cell_type": "code",
      "source": [
        "# Write your code here.\n",
        "model.evaluate(X_test, y_test)\n",
        "\n",
        "pd.DataFrame(history.history).plot(figsize=(10,6))\n",
        "plt.grid(True)\n",
        "plt.gca().set_ylim(0,1)\n",
        "plt.show()"
      ],
      "metadata": {
        "id": "KrSjDpg6o27R",
        "colab": {
          "base_uri": "https://localhost:8080/",
          "height": 545
        },
        "outputId": "e9371589-dbba-459b-b1cb-3e2d8d1a2ab0"
      },
      "execution_count": 25,
      "outputs": [
        {
          "output_type": "stream",
          "name": "stdout",
          "text": [
            "1/1 [==============================] - 0s 82ms/step - loss: 9.7066e-05 - accuracy: 1.0000\n"
          ]
        },
        {
          "output_type": "display_data",
          "data": {
            "text/plain": [
              "<Figure size 1000x600 with 1 Axes>"
            ],
            "image/png": "[encoded data removed]"
          },
          "metadata": {}
        }
      ]
    },
    {
      "cell_type": "markdown",
      "source": [
        "**Task 6.**\n",
        "<br>\n",
        "Predict the output with your model with the predict function using the test input data set. Display the confusion matrix and the accuracy of your model with the test data set."
      ],
      "metadata": {
        "id": "AQF-39fEO-MB"
      }
    },
    {
      "cell_type": "code",
      "source": [
        "# Write your code here.\n",
        "prediction = model.predict(X_test)\n",
        "\n",
        "cm = confusion_matrix(y_test.argmax(axis=1), prediction.argmax(axis=1))\n",
        "\n",
        "disp = ConfusionMatrixDisplay(confusion_matrix=cm)\n",
        "disp.plot()\n",
        "plt.show()\n",
        "\n",
        "accuracy = 100*np.trace(cm)/np.sum(cm)\n",
        "print(accuracy)"
      ],
      "metadata": {
        "id": "2yI1VSOso-FT",
        "colab": {
          "base_uri": "https://localhost:8080/",
          "height": 484
        },
        "outputId": "8340d6d1-1679-4ac0-e4b2-3486616083f5"
      },
      "execution_count": 26,
      "outputs": [
        {
          "output_type": "stream",
          "name": "stdout",
          "text": [
            "1/1 [==============================] - 0s 161ms/step\n"
          ]
        },
        {
          "output_type": "display_data",
          "data": {
            "text/plain": [
              "<Figure size 640x480 with 2 Axes>"
            ],
            "image/png": "[encoded data removed]"
          },
          "metadata": {}
        },
        {
          "output_type": "stream",
          "name": "stdout",
          "text": [
            "100.0\n"
          ]
        }
      ]
    }
  ]
}